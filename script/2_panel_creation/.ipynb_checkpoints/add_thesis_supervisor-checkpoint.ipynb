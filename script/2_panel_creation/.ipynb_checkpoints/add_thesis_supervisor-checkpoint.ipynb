{
 "cells": [
  {
   "cell_type": "code",
   "execution_count": 1,
   "id": "5b031f1b-a4e2-4db2-aee7-cbde11855563",
   "metadata": {},
   "outputs": [
    {
     "name": "stdout",
     "output_type": "stream",
     "text": [
      "C:\\Users\\common\\projet_3_lru\\sorting_univ\\script/headers/\n"
     ]
    }
   ],
   "source": [
    "import os\n",
    "base_path = os.path.dirname(os.path.abspath(\"\"))\n",
    "base_path = base_path + \"/headers/\"\n",
    "print(base_path)\n",
    "header_path = base_path + 'header_data_treatment.ipynb'\n",
    "%run $header_path"
   ]
  },
  {
   "cell_type": "code",
   "execution_count": 2,
   "id": "04d0274e-ee06-4fe5-88a8-4d25ce8d0aac",
   "metadata": {},
   "outputs": [],
   "source": [
    "df_scanR = spark.read.format('parquet').load('file:\\\\' + scanR_path + '\\\\publications.parquet')\n",
    "set_french_authors = spark.read.parquet('file:\\\\' + save_path + 'set_french_authors.parquet')\n",
    "\n",
    "merge_path = databases_path + '\\\\merge\\\\'\n",
    "\n",
    "merge_authors = spark.read.format('parquet').load('file:\\\\' + merge_path + 'merge_oa_scanr_authors.parquet').withColumnRenamed('id','idref')"
   ]
  },
  {
   "cell_type": "code",
   "execution_count": 3,
   "id": "1d330758-32ca-4560-8605-dac9b8a61ccd",
   "metadata": {},
   "outputs": [],
   "source": [
    "merge_authors = merge_authors.withColumn('idref', func.regexp_replace(func.col('idref'), 'idref', ''))"
   ]
  },
  {
   "cell_type": "code",
   "execution_count": 4,
   "id": "3d3276c2-6004-4e45-bfb9-994cb992afd1",
   "metadata": {},
   "outputs": [],
   "source": [
    "theses_oa = (df_scanR\n",
    "          .filter(func.col('type')=='thesis')\n",
    "          .withColumn('authors', func.explode(func.col('authors')))\n",
    "          .withColumn('idref', func.col('authors.person'))\n",
    "          .withColumn('idref', func.regexp_replace(func.col('idref'), 'idref', ''))\n",
    "         .select('idref','authors.role','id','authors.affiliations')\n",
    "         .join(merge_authors, on = 'idref', how= 'inner')\n",
    "         )"
   ]
  },
  {
   "cell_type": "code",
   "execution_count": 5,
   "id": "18cd74b6-3d5f-488c-9ff9-8f3232d15813",
   "metadata": {},
   "outputs": [
    {
     "name": "stdout",
     "output_type": "stream",
     "text": [
      "+--------------+-------+--------+------+\n",
      "|has_supervisor|has_ref|has_jury| count|\n",
      "+--------------+-------+--------+------+\n",
      "|             0|      1|       1| 14098|\n",
      "|             0|      0|       0| 47368|\n",
      "|             1|      0|       1| 24020|\n",
      "|             1|      1|       1| 91284|\n",
      "|             1|      0|       0|192103|\n",
      "|             1|      1|       0| 10280|\n",
      "|             0|      1|       0|  2756|\n",
      "|             0|      0|       1|  6245|\n",
      "+--------------+-------+--------+------+\n",
      "\n"
     ]
    }
   ],
   "source": [
    "(theses_oa.groupBy('id')\n",
    " .agg(func.max( (func.col('role')==\"directeurthese\").cast('int')).alias('has_supervisor'),\n",
    "      func.max( (func.col('role')==\"rapporteur\").cast('int')).alias('has_ref'),\n",
    "      func.max( (func.col('role')==\"membrejury\").cast('int')).alias('has_jury'))\n",
    ".groupBy('has_supervisor','has_ref','has_jury').count()).show()"
   ]
  },
  {
   "cell_type": "code",
   "execution_count": 6,
   "id": "fc233d08-9c14-4d97-89d9-614a38ad4035",
   "metadata": {},
   "outputs": [
    {
     "name": "stdout",
     "output_type": "stream",
     "text": [
      "+---------+------+\n",
      "|has_these| count|\n",
      "+---------+------+\n",
      "|        1|138202|\n",
      "|        0|249054|\n",
      "+---------+------+\n",
      "\n"
     ]
    }
   ],
   "source": [
    "(set_french_authors.join(theses_oa.filter(func.col('role')=='author'), how= 'left', on =['author_id']).groupBy(func.col('id').isNotNull().cast('int').alias('has_these')).count()).show()"
   ]
  },
  {
   "cell_type": "code",
   "execution_count": 8,
   "id": "7f5fff84-bbe5-43b9-825d-98e287e16a81",
   "metadata": {},
   "outputs": [
    {
     "name": "stdout",
     "output_type": "stream",
     "text": [
      "+--------------+------+\n",
      "|has_supervised| count|\n",
      "+--------------+------+\n",
      "|             1| 58018|\n",
      "|             0|322328|\n",
      "+--------------+------+\n",
      "\n"
     ]
    }
   ],
   "source": [
    "(set_french_authors.join(theses_oa.filter(func.col('role')=='directeurthese'), how= 'left', on =['author_id']).groupBy(\n",
    "    'author_id'\n",
    ").agg(func.max(func.col('id').isNotNull().cast('int')).alias('has_supervised')).groupBy('has_supervised').count()).show()"
   ]
  },
  {
   "cell_type": "code",
   "execution_count": null,
   "id": "a9be8e7f-0260-4559-a56c-25c90498f2c4",
   "metadata": {},
   "outputs": [],
   "source": []
  }
 ],
 "metadata": {
  "kernelspec": {
   "display_name": "Python 3 (ipykernel)",
   "language": "python",
   "name": "python3"
  },
  "language_info": {
   "codemirror_mode": {
    "name": "ipython",
    "version": 3
   },
   "file_extension": ".py",
   "mimetype": "text/x-python",
   "name": "python",
   "nbconvert_exporter": "python",
   "pygments_lexer": "ipython3",
   "version": "3.11.9"
  }
 },
 "nbformat": 4,
 "nbformat_minor": 5
}
