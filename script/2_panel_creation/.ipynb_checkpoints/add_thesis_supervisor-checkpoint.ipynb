{
 "cells": [
  {
   "cell_type": "code",
   "execution_count": 1,
   "id": "5b031f1b-a4e2-4db2-aee7-cbde11855563",
   "metadata": {},
   "outputs": [
    {
     "name": "stdout",
     "output_type": "stream",
     "text": [
      "C:\\Users\\raphael.wargon\\Documents\\GitHub\\sorting_univ\\script/headers/\n",
      "add_thesis\n"
     ]
    }
   ],
   "source": [
    "import os\n",
    "base_path = os.path.dirname(os.path.abspath(\"\"))\n",
    "base_path = base_path + \"/headers/\"\n",
    "print(base_path)\n",
    "header_path = base_path + 'header_data_treatment.ipynb'\n",
    "app_name = \"add_thesis\"\n",
    "%run $header_path $app_name=app_name"
   ]
  },
  {
   "cell_type": "markdown",
   "id": "f4109252-8754-4496-a76e-84a0233d5cfc",
   "metadata": {},
   "source": [
    "# Load data"
   ]
  },
  {
   "cell_type": "code",
   "execution_count": 3,
   "id": "04d0274e-ee06-4fe5-88a8-4d25ce8d0aac",
   "metadata": {},
   "outputs": [],
   "source": [
    "df_scanR = spark.read.format('parquet').load('file:\\\\' + scanR_path + '\\\\publications.parquet')\n",
    "set_french_authors = spark.read.parquet('file:\\\\' + save_path + 'set_french_authors.parquet')\n",
    "\n",
    "merge_path = databases_path + '\\\\merge\\\\'\n",
    "\n",
    "merge_authors = spark.read.format('parquet').load('file:\\\\' + merge_path + 'matched_authors_2steps.parquet').withColumnRenamed('id','idref')"
   ]
  },
  {
   "cell_type": "code",
   "execution_count": null,
   "id": "b20dcf40-e560-4401-90ac-f4b73fd210ac",
   "metadata": {},
   "outputs": [],
   "source": [
    "set_french_authors.join(merge_authors.groupBy(\"author_id\").agg(func.concat_ws(',', func.collect_set('idref')).alias('idref')), on ='author_id', how = 'inner').count()"
   ]
  },
  {
   "cell_type": "code",
   "execution_count": 4,
   "id": "1d330758-32ca-4560-8605-dac9b8a61ccd",
   "metadata": {},
   "outputs": [],
   "source": [
    "merge_authors = merge_authors.withColumn('idref', func.regexp_replace(func.col('idref'), 'idref', ''))"
   ]
  },
  {
   "cell_type": "markdown",
   "id": "12d5a8a9-2318-4119-a381-eff8d1f77c04",
   "metadata": {},
   "source": [
    "# Create dissertations subset"
   ]
  },
  {
   "cell_type": "code",
   "execution_count": 5,
   "id": "3d3276c2-6004-4e45-bfb9-994cb992afd1",
   "metadata": {},
   "outputs": [
    {
     "data": {
      "text/plain": [
       "DataFrame[idref: string, role: string, id: string, affiliations: array<struct<BNF:string,ISNI:string,acronym:array<string>,address:string,address-line:string,addresses:array<string>,alias_idref:array<string>,aliases:array<string>,city:string,comments:array<string>,country:string,datasource:string,department:array<string>,detected_countries:array<string>,docid:string,external_ids:array<struct<id_type:string,id_value:string>>,grid:array<string>,hal_docid:string,id:array<struct<asserted-by:string,id:string,id-type:string>>,idref:string,ids:array<struct<id:string,type:string>>,name:string,orgs:array<struct<name:string>>,place:array<string>,postal-code:string,rnsr:string,ror:string,structId:string,viaf:string,websites:array<string>,zipcode:string>>, firstName: string, lastName: string, fullName: string, thesis_year: bigint, author_id: string]"
      ]
     },
     "execution_count": 5,
     "metadata": {},
     "output_type": "execute_result"
    }
   ],
   "source": [
    "theses_oa = (df_scanR\n",
    "          .filter(func.col('type')=='thesis')\n",
    "          .withColumn('authors', func.explode(func.col('authors')))\n",
    "          .withColumn('idref', func.col('authors.person'))\n",
    "          .withColumn('idref', func.regexp_replace(func.col('idref'), 'idref', ''))\n",
    "         .select('idref','authors.role','id','authors.affiliations', 'authors.firstName', 'authors.lastName', 'authors.fullName', func.col('year').alias('thesis_year'))\n",
    "         .join(merge_authors, on = 'idref', how= 'inner')\n",
    "         )\n",
    "theses_oa.cache()"
   ]
  },
  {
   "cell_type": "code",
   "execution_count": 7,
   "id": "174627e5-71f1-42ed-b057-ff7b47719999",
   "metadata": {},
   "outputs": [
    {
     "name": "stdout",
     "output_type": "stream",
     "text": [
      "+---------+--------------+---------------+--------------------+---------+----------------+--------------------+-----------+-----------+\n",
      "|    idref|          role|             id|        affiliations|firstName|        lastName|            fullName|thesis_year|  author_id|\n",
      "+---------+--------------+---------------+--------------------+---------+----------------+--------------------+-----------+-----------+\n",
      "|225780895|        author|nnt2021reiml006|[{NULL, NULL, NUL...|  Annette|       Bächstädt|   Annette Bächstädt|       2021|A5080516570|\n",
      "|055151221|directeurthese|nnt2021reiml006|                NULL|Christine|           Sukic|     Christine Sukic|       2021|A5019905891|\n",
      "|077047133|directeurthese|nnt2021reiml006|                NULL|   Thomas|         Nicklas|      Thomas Nicklas|       2021|A5046114743|\n",
      "|060260866| presidentjury|nnt2021reiml006|                NULL|  Stefano|           Simiz|       Stefano Simiz|       2021|A5071036035|\n",
      "|055151221|    membrejury|nnt2021reiml006|                NULL|Christine|           Sukic|     Christine Sukic|       2021|A5019905891|\n",
      "|077047133|    membrejury|nnt2021reiml006|                NULL|   Thomas|         Nicklas|      Thomas Nicklas|       2021|A5046114743|\n",
      "|069763593|    membrejury|nnt2021reiml006|                NULL|   Gilles|        Bertheau|     Gilles Bertheau|       2021|A5043985569|\n",
      "|029578973|    membrejury|nnt2021reiml006|                NULL|   Rainer|           Babel|        Rainer Babel|       2021|A5032635933|\n",
      "|069763593|    rapporteur|nnt2021reiml006|                NULL|   Gilles|        Bertheau|     Gilles Bertheau|       2021|A5043985569|\n",
      "|249109042|        author|nnt2020strak001|[{NULL, NULL, NUL...|    Paulo|Barbosa Da Silva|Paulo Barbosa Da ...|       2020|A5078367416|\n",
      "|029072891|directeurthese|nnt2020strak001|                NULL|   Michel|         Deneken|      Michel Deneken|       2020|A5012520629|\n",
      "|05940714X| presidentjury|nnt2020strak001|                NULL|Élisabeth|      Parmentier|Élisabeth Parmentier|       2020|A5012815986|\n",
      "|088484505|    membrejury|nnt2020strak001|                NULL| Jean-Luc|          Hiebel|     Jean-Luc Hiebel|       2020|A5046123018|\n",
      "|05940714X|    rapporteur|nnt2020strak001|                NULL|Élisabeth|      Parmentier|Élisabeth Parmentier|       2020|A5012815986|\n",
      "|032599900|    rapporteur|nnt2020strak001|                NULL|     Fred|           Poché|          Fred Poché|       2020|A5084404771|\n",
      "|188051058|        author|nnt2013perp1238|[{NULL, NULL, NUL...|  Antoine|          Meffre|      Antoine Meffre|       2013|A5029485840|\n",
      "|108100944|directeurthese|nnt2013perp1238|                NULL|   Xavier|              Py|           Xavier Py|       2013|A5076040236|\n",
      "|188051201|directeurthese|nnt2013perp1238|                NULL|    Régis|          Olivès|        Régis Olivès|       2013|A5026966269|\n",
      "|077247531|    rapporteur|nnt2013perp1238|                NULL|  Patrick|         Echegut|     Patrick Echegut|       2013|A5043934568|\n",
      "|188048480|        author|nnt2013perp1237|[{NULL, NULL, NUL...|  Sylvain|           Jacob|       Sylvain Jacob|       2013|A5012124280|\n",
      "+---------+--------------+---------------+--------------------+---------+----------------+--------------------+-----------+-----------+\n",
      "only showing top 20 rows\n",
      "\n"
     ]
    }
   ],
   "source": [
    "theses_oa.show()"
   ]
  },
  {
   "cell_type": "code",
   "execution_count": 22,
   "id": "18cd74b6-3d5f-488c-9ff9-8f3232d15813",
   "metadata": {},
   "outputs": [],
   "source": [
    "#(theses_oa.groupBy('id')\n",
    "# .agg(func.max( (func.col('role')==\"directeurthese\").cast('int')).alias('has_supervisor'),\n",
    "#      func.max( (func.col('role')==\"rapporteur\").cast('int')).alias('has_ref'),\n",
    "#      func.max( (func.col('role')==\"membrejury\").cast('int')).alias('has_jury'))\n",
    "#.groupBy('has_supervisor','has_ref','has_jury').count()).show()"
   ]
  },
  {
   "cell_type": "markdown",
   "id": "6b092a04-9279-4460-95c5-56117aa79e40",
   "metadata": {},
   "source": [
    "# Create the author-level dataset for theses"
   ]
  },
  {
   "cell_type": "code",
   "execution_count": 8,
   "id": "98d13548-fafe-4b17-877d-d7014a3863cb",
   "metadata": {},
   "outputs": [
    {
     "name": "stdout",
     "output_type": "stream",
     "text": [
      "+--------------+-------+\n",
      "|has_link_these|  count|\n",
      "+--------------+-------+\n",
      "|             1|1144393|\n",
      "|             0| 202888|\n",
      "+--------------+-------+\n",
      "\n"
     ]
    }
   ],
   "source": [
    "merged = (set_french_authors.join(theses_oa, how= 'left', on =['author_id']))\n",
    "merged.cache()\n",
    "merged.groupBy(func.col('id').isNotNull().cast('int').alias('has_link_these')).count().show()"
   ]
  },
  {
   "cell_type": "code",
   "execution_count": 9,
   "id": "8b580d21-750d-4895-a2e3-581a2aa344d4",
   "metadata": {
    "scrolled": true
   },
   "outputs": [
    {
     "name": "stdout",
     "output_type": "stream",
     "text": [
      "+-----------+---------+----------+-----------+---------+---------+------+--------------------+--------------------+-------------+-------------------+--------------------+-----------+-----------------+-----------+--------------+\n",
      "|  author_id|last_year|entry_year|n_pub_in_FR|n_y_in_FR|    idref|  role|                  id|        affiliations|    firstName|           lastName|            fullName|thesis_year|thesis_supervisor|thesis_jury|thesis_referee|\n",
      "+-----------+---------+----------+-----------+---------+---------+------+--------------------+--------------------+-------------+-------------------+--------------------+-----------+-----------------+-----------+--------------+\n",
      "|A5053391421|     2020|      2014|         22|        7|235710385|author|doi10.1016/j.ispr...|[{NULL, NULL, NUL...|      Ewelina|             Rupnik|      Ewelina Rupnik|       2021|                 |           |              |\n",
      "|A5102952297|     2020|      2002|          4|        4|114109478|author|doi10.1016/j.ispr...|[{NULL, NULL, NUL...|         Marc|Pierrot-Deseilligny|Marc Pierrot-Dese...|       2021|                 |           |              |\n",
      "|A5049544878|     2011|      2002|          9|        7|050451626|author|doi10.4000/books....|[{http://catalogu...|         Marc|               Gomy|           Marc Gomy|       1999|                 |           |              |\n",
      "|A5022026632|     2020|      2004|         57|       16|257547398|author| haledutice-00000221|                NULL|    Joséphine|              Rémon|     Joséphine Rémon|       1999|                 |           |              |\n",
      "|A5106306352|     2013|      2010|         78|        4|158541243|author|  halpastel-00617514|[{NULL, NULL, NUL...|   Clémentine|            Broutin|  Clémentine Broutin|       2011|                 |           |              |\n",
      "|A5040596325|     2020|      1999|         93|       22|148380697|author|     haltel-00002707|[{NULL, NULL, NUL...|    Alexandre|           Juillard|  Alexandre Juillard|       1999|                 |           |              |\n",
      "|A5071532473|     2020|      2002|         53|       16|150541007|author|     haltel-00006161|[{NULL, NULL, NUL...|      Raphaël|               Gros|        Raphaël Gros|       2002|                 |           |              |\n",
      "|A5046801184|     2007|      2000|         15|        6|089428137|author|     haltel-00165388|[{NULL, NULL, NUL...|         Éric|            Depagne|        Éric Depagne|       2003|                 |           |              |\n",
      "|A5000758382|     2020|      2007|         84|       13|17049750X|author|     haltel-00358312|[{NULL, NULL, NUL...|      Daniela|            Chrenko|     Daniela Chrenko|       2008|                 |           |              |\n",
      "|A5012176126|     2018|      2008|          9|        6|134478452|author|     haltel-00366691|[{NULL, NULL, NUL...|Aman Mohammad|           Ziaiifar|Aman Mohammad Zia...|       2008|                 |           |              |\n",
      "|A5000228910|     2020|      2006|         34|       13|139576568|author|     haltel-00366857|[{NULL, NULL, NUL...|   Emmanuelle|            Sarrouy|  Emmanuelle Sarrouy|       2008|                 |           |              |\n",
      "|A5028427767|     2020|      2006|          9|        7|146448448|author|     haltel-00418723|[{NULL, NULL, NUL...|           L.|             Marang|           L. Marang|       2007|                 |           |              |\n",
      "|A5044512916|     2009|      2005|          9|        4|144324911|author|     haltel-00476706|[{NULL, NULL, NUL...|      Laurent|           Thévenod|    Laurent Thévenod|       2009|                 |           |              |\n",
      "|A5019888837|     2009|      2006|          8|        3|13712046X|author|     haltel-00503186|[{NULL, NULL, NUL...|       Julien|              Queva|        Julien Queva|       2009|                 |           |              |\n",
      "|A5061289747|     2020|      2007|         41|       13|145561445|author|     haltel-00508698|[{NULL, NULL, NUL...|      Florent|          de Martin|   Florent de Martin|       2010|                 |           |              |\n",
      "|A5001833895|     2020|      1997|        138|       21|058643362|author|     haltel-00573375|[{NULL, NULL, NUL...|       Arnaud|             Hubert|       Arnaud Hubert|       2010|                 |           |              |\n",
      "|A5090449149|     2020|      2007|         23|       11|136829120|author|     haltel-00606354|[{NULL, NULL, NUL...|      Thibaud|           Boncourt|    Thibaud Boncourt|       2011|                 |           |              |\n",
      "|A5003065539|     2017|      2010|          6|        5|158594223|author|     haltel-00642067|[{NULL, NULL, NUL...|      Quentin|              Avril|       Quentin Avril|       2011|                 |           |              |\n",
      "|A5065130041|     2019|      2012|          5|        4|158696352|author|     haltel-00655775|[{NULL, NULL, NUL...|       Soizic|         Croguennec|   Soizic Croguennec|       2011|                 |           |              |\n",
      "|A5069285483|     2019|      2011|         14|        5|174757247|author|     haltel-00938744|[{NULL, NULL, NUL...|      Camille|             Baysse|      Camille Baysse|       2013|                 |           |              |\n",
      "+-----------+---------+----------+-----------+---------+---------+------+--------------------+--------------------+-------------+-------------------+--------------------+-----------+-----------------+-----------+--------------+\n",
      "only showing top 20 rows\n",
      "\n"
     ]
    }
   ],
   "source": [
    "thesis_supervisor = (merged\n",
    "                     .withColumn('thesis_supervisor', func.concat_ws(',',func.array_compact(\n",
    "                         func.collect_set( func.when(func.col('role')==\"directeurthese\", func.col('author_id')) ).over(Window.partitionBy('id')))))\n",
    "                     .withColumn('thesis_jury', func.concat_ws(',',func.array_compact(\n",
    "                         func.collect_set( func.when(func.col('role').contains(\"jury\"), func.col('author_id')) ).over(Window.partitionBy('id')))))\n",
    "                     .withColumn('thesis_referee', func.concat_ws(',',func.array_compact(\n",
    "                         func.collect_set( func.when(func.col('role')==\"rapporteur\", func.col('author_id')) ).over(Window.partitionBy('id')))))\n",
    "                     .filter(func.col('role')=='author')\n",
    "                    )\n",
    "thesis_supervisor.persist()\n",
    "thesis_supervisor.show()"
   ]
  },
  {
   "cell_type": "code",
   "execution_count": 10,
   "id": "93793df3-3bb4-4d1e-b785-1113beb4a9ce",
   "metadata": {},
   "outputs": [
    {
     "name": "stdout",
     "output_type": "stream",
     "text": [
      "+--------------+--------+-----------+-----+\n",
      "|has_supervisor|has_jury|has_referee|count|\n",
      "+--------------+--------+-----------+-----+\n",
      "|             0|       1|          1|61678|\n",
      "|             0|       0|          0|35174|\n",
      "|             1|       0|          1| 1873|\n",
      "|             1|       1|          1|43561|\n",
      "|             1|       0|          0| 4178|\n",
      "|             1|       1|          0|  265|\n",
      "|             0|       1|          0| 1053|\n",
      "|             0|       0|          1| 8802|\n",
      "+--------------+--------+-----------+-----+\n",
      "\n"
     ]
    }
   ],
   "source": [
    "thesis_supervisor.groupBy( (func.col('thesis_supervisor')==\"\").cast('int').alias('has_supervisor'),\n",
    "                           (func.col('thesis_jury')==\"\").cast('int').alias('has_jury'),\n",
    "                          (func.col('thesis_referee')==\"\").cast('int').alias('has_referee')\n",
    "                         ).count().show()"
   ]
  },
  {
   "cell_type": "code",
   "execution_count": 11,
   "id": "28620147-3fd5-49a2-863e-a799c0cb32df",
   "metadata": {},
   "outputs": [],
   "source": [
    "panel_smoothed = (spark.read.parquet('file:\\\\' + save_path + 'panel_smoothed.parquet')\n",
    "                    .withColumn('parent', func.regexp_replace(func.col('parent'), r'\\}\\,\\{','};{'))\n",
    "                    .withColumn('parent', func.regexp_replace(func.col('parent'), r'\\[',''))\n",
    "                    .withColumn('parent', func.regexp_replace(func.col('parent'), r'\\]',''))\n",
    "                    .withColumn('parent', func.when(func.col('parent').contains(';'), func.split(func.col('parent'), ';'))\n",
    "                                .otherwise(func.array(func.col('parent'))))\n",
    "                 .withColumn('parent', func.transform(func.col('parent'), lambda x: func.from_json(x, func.schema_of_json('{\"parent_id\":\"\",\"parent_name\":\"\",\"parent_type\":\"\"}'))))\n",
    "                 )"
   ]
  },
  {
   "cell_type": "code",
   "execution_count": 12,
   "id": "beba7461-f6d5-43e4-a4f1-7ed533f45c0b",
   "metadata": {},
   "outputs": [],
   "source": [
    "thesis_supervisor_af = (thesis_supervisor\n",
    "                          .select('author_id', \"thesis_year\", func.explode(func.split(func.col('thesis_supervisor'), \",\")).alias('thesis_supervisor'))\n",
    "                        .join(panel_smoothed\n",
    "                              .select(func.col('author_id').alias('thesis_supervisor'), func.col('year').alias('thesis_year'),\n",
    "                                                    'inst_id', func.col('parent.parent_id').alias('parent_id')),\n",
    "                              on = ['thesis_supervisor','thesis_year'], how = 'left'\n",
    "                             )\n",
    "                        .groupBy('author_id')\n",
    "                        .agg(func.concat_ws(\",\", func.array_compact(func.collect_set('inst_id'))).alias('thesis_supervisor_inst'),\n",
    "                             func.concat_ws(\",\", func.array_compact(func.flatten(func.collect_set('parent_id')))).alias('thesis_supervisor_parent_inst')\n",
    "                             )\n",
    "                       )"
   ]
  },
  {
   "cell_type": "code",
   "execution_count": 14,
   "id": "c07d7b23-8380-454b-a04f-be0ff27e2ece",
   "metadata": {},
   "outputs": [],
   "source": [
    "#thesis_supervisor_af.groupBy( (func.col('thesis_supervisor')!=\"\").cast('int').alias('has_supervisor'), (func.col('thesis_supervisor_inst')!=\"\").cast('int').alias('in_sample')).count().show()"
   ]
  },
  {
   "cell_type": "code",
   "execution_count": 15,
   "id": "6b8b9b28-8e3d-4856-ae1f-6fadea00d286",
   "metadata": {},
   "outputs": [],
   "source": [
    "thesis_ref_af = (thesis_supervisor\n",
    "                          .select('author_id', \"thesis_year\", func.explode(func.split(func.col('thesis_referee'), \",\")).alias('thesis_referee'))\n",
    "                        .join(panel_smoothed\n",
    "                              .select(func.col('author_id').alias('thesis_referee'), func.col('year').alias('thesis_year'),\n",
    "                                                    'inst_id', func.col('parent.parent_id').alias('parent_id')),\n",
    "                              on = ['thesis_referee','thesis_year'], how = 'left'\n",
    "                             )\n",
    "                        .groupBy('author_id')\n",
    "                        .agg(func.concat_ws(\",\", func.array_compact(func.collect_set('inst_id'))).alias('thesis_referee_inst'),\n",
    "                             func.concat_ws(\",\", func.array_compact(func.flatten(func.collect_set('parent_id')))).alias('thesis_referee_parent_inst')\n",
    "                             )\n",
    "                       )\n",
    "thesis_jury_af = (thesis_supervisor\n",
    "                          .select('author_id', \"thesis_year\", func.explode(func.split(func.col('thesis_jury'), \",\")).alias('thesis_jury'))\n",
    "                        .join(panel_smoothed\n",
    "                              .select(func.col('author_id').alias('thesis_jury'), func.col('year').alias('thesis_year'),\n",
    "                                                    'inst_id', func.col('parent.parent_id').alias('parent_id')),\n",
    "                              on = ['thesis_jury','thesis_year'], how = 'left'\n",
    "                             )\n",
    "                        .groupBy('author_id')\n",
    "                        .agg(func.concat_ws(\",\", func.array_compact(func.collect_set('inst_id'))).alias('thesis_jury_inst'),\n",
    "                             func.concat_ws(\",\", func.array_compact(func.flatten(func.collect_set('parent_id')))).alias('thesis_jury_parent_inst')\n",
    "                             )\n",
    "                       )"
   ]
  },
  {
   "cell_type": "code",
   "execution_count": 16,
   "id": "ddd4851f-a78e-4f2c-b356-9a3334d92344",
   "metadata": {},
   "outputs": [],
   "source": [
    "thesis_info = (thesis_supervisor.select('author_id','thesis_year','thesis_supervisor', 'thesis_jury','thesis_referee')\n",
    "               .join(thesis_supervisor_af, on = ['author_id'], how = 'left')\n",
    "               .join(thesis_ref_af, on = ['author_id'], how = 'left')\n",
    "               .join(thesis_jury_af, on = ['author_id'], how = 'left')\n",
    "              )"
   ]
  },
  {
   "cell_type": "code",
   "execution_count": 17,
   "id": "19c0cfaf-3d93-4d43-8f3e-bb3aa6408134",
   "metadata": {},
   "outputs": [
    {
     "name": "stdout",
     "output_type": "stream",
     "text": [
      "root\n",
      " |-- author_id: string (nullable = true)\n",
      " |-- thesis_year: long (nullable = true)\n",
      " |-- thesis_supervisor: string (nullable = false)\n",
      " |-- thesis_jury: string (nullable = false)\n",
      " |-- thesis_referee: string (nullable = false)\n",
      " |-- thesis_supervisor_inst: string (nullable = true)\n",
      " |-- thesis_supervisor_parent_inst: string (nullable = true)\n",
      " |-- thesis_referee_inst: string (nullable = true)\n",
      " |-- thesis_referee_parent_inst: string (nullable = true)\n",
      " |-- thesis_jury_inst: string (nullable = true)\n",
      " |-- thesis_jury_parent_inst: string (nullable = true)\n",
      "\n"
     ]
    }
   ],
   "source": [
    "thesis_info.printSchema()"
   ]
  },
  {
   "cell_type": "code",
   "execution_count": 18,
   "id": "56cb3c7d-2900-4ac0-a747-174f2da72c67",
   "metadata": {},
   "outputs": [],
   "source": [
    "thesis_info.write.mode('overwrite').parquet('file:\\\\' + save_path + 'thesis_info.parquet')"
   ]
  },
  {
   "cell_type": "markdown",
   "id": "73c95232-2429-4c96-82ec-a1c4ee011778",
   "metadata": {},
   "source": [
    "# Create the author-year level dataset for supervisors"
   ]
  },
  {
   "cell_type": "code",
   "execution_count": 19,
   "id": "a9be8e7f-0260-4559-a56c-25c90498f2c4",
   "metadata": {},
   "outputs": [
    {
     "name": "stdout",
     "output_type": "stream",
     "text": [
      "+-----------+----+--------------------+--------------+\n",
      "|  author_id|year| supervised_students|n_phd_students|\n",
      "+-----------+----+--------------------+--------------+\n",
      "|A5000167897|2020|                    |             0|\n",
      "|A5000181960|2018|                    |             0|\n",
      "|A5000220877|1999|                    |             0|\n",
      "|A5000228910|2009|         A5080969673|             1|\n",
      "|A5000235818|2004|        A5072133590,|             2|\n",
      "|A5000240639|2010|         A5041543609|             1|\n",
      "|A5000273598|1983|         A5078573429|             1|\n",
      "|A5000347582|2012|        A5069214273,|             2|\n",
      "|A5000414296|2016|                    |             0|\n",
      "|A5000466174|2009|                    |             0|\n",
      "|A5000467214|2007|A5048034351,,A505...|             3|\n",
      "|A5000473093|2017|                    |             0|\n",
      "|A5000474757|2014|         A5105707756|             1|\n",
      "|A5000480458|1990|A5072071369,A5043...|             3|\n",
      "|A5000530226|2022|         A5039185549|             1|\n",
      "|A5000568146|1990|A5071569132,,A503...|             4|\n",
      "|A5000570800|2014|                    |             0|\n",
      "|A5000572667|2002|A5066116701,A5016...|             4|\n",
      "|A5000640262|2016|A5063158097,A5057...|             2|\n",
      "|A5000649849|2019|                    |             0|\n",
      "+-----------+----+--------------------+--------------+\n",
      "only showing top 20 rows\n",
      "\n"
     ]
    }
   ],
   "source": [
    "supervised_students = (merged\n",
    "                     .withColumn('supervised_student', func.concat_ws(',',func.array_compact(\n",
    "                         func.collect_set( func.when(func.col('role')==\"author\", func.col('author_id')) ).over(Window.partitionBy('id')))))\n",
    "                     .filter(func.col('role')=='directeurthese')\n",
    "                       .withColumn('year', func.sequence(func.col('thesis_year')-3, func.col('thesis_year')))\n",
    "                       .withColumn('year', func.explode(func.col('year')))\n",
    "                       .groupBy('author_id','year')\n",
    "                       .agg(func.concat_ws(',',func.array_compact(func.collect_set(func.col('supervised_student')))).alias('supervised_students'))\n",
    "                       .withColumn('n_phd_students', func.when(func.col('supervised_students')!=\"\", func.size(func.split(func.col('supervised_students'), ',')))\n",
    "                                   .otherwise(func.lit(0)))\n",
    "                      )\n",
    "supervised_students.cache()\n",
    "supervised_students.show()"
   ]
  },
  {
   "cell_type": "code",
   "execution_count": 20,
   "id": "167f85fe-eb6a-483e-b127-a8bd7dbf4cdf",
   "metadata": {},
   "outputs": [],
   "source": [
    "supervised_students.write.mode('overwrite').parquet('file:\\\\' + save_path + 'supervised_students.parquet')"
   ]
  },
  {
   "cell_type": "markdown",
   "id": "2510548a-c3fc-4313-a9d7-5c19709df284",
   "metadata": {},
   "source": [
    "# Add to  the panel"
   ]
  },
  {
   "cell_type": "code",
   "execution_count": 21,
   "id": "e3bca26d-a73a-4e0a-840c-e0eda01affd9",
   "metadata": {},
   "outputs": [],
   "source": [
    "supervised_students= spark.read.parquet('file:\\\\' + save_path + 'supervised_students.parquet')"
   ]
  },
  {
   "cell_type": "code",
   "execution_count": 22,
   "id": "26dea237-cd1f-48b0-879b-dc7c77a5c341",
   "metadata": {},
   "outputs": [],
   "source": [
    "thesis_info = spark.read.parquet('file:\\\\' + save_path + 'thesis_info.parquet')"
   ]
  },
  {
   "cell_type": "code",
   "execution_count": 24,
   "id": "9a10c190-2ad9-48ed-9602-ef19188067e1",
   "metadata": {},
   "outputs": [
    {
     "data": {
      "text/plain": [
       "DataFrame[author_id: string, inst_id: string, year: int, new_inst_period: int, period_inst: bigint, last_y_inst_period: int, first_y_inst_period: int, n_inst_y: int, publications_raw: bigint, citations_raw: bigint, avg_rank_source_raw: double, nr_source_btm_50pct_raw: bigint, nr_source_mid_40pct_raw: bigint, nr_source_top_20pct_raw: bigint, nr_source_top_10pct_raw: bigint, nr_source_top_5pct_raw: bigint, inst_name: string, inst_type: string, country: string, parent: array<struct<parent_id:string,parent_name:string,parent_type:string>>, fused: int, uni_pub: int, cnrs: int, entry_year: int, last_year: int, all_y_in_FR: bigint, years_abroad: bigint, main_field: string, author_name: string, entry_cohort: double, publications: double, citations: double, avg_rank_source: double, nr_source_btm_50pct: double, nr_source_mid_40pct: double, nr_source_top_20pct: double, nr_source_top_10pct: double, nr_source_top_5pct: double]"
      ]
     },
     "execution_count": 24,
     "metadata": {},
     "output_type": "execute_result"
    }
   ],
   "source": [
    "panel_smoothed"
   ]
  },
  {
   "cell_type": "code",
   "execution_count": 25,
   "id": "e48ca457-6a82-481f-9159-326fc479f5ac",
   "metadata": {},
   "outputs": [],
   "source": [
    "panel_smoothed_w_theses = (panel_smoothed\n",
    "                           .withColumn('inst_set_this_year', func.collect_set(func.col('inst_id')).over(Window.partitionBy('author_id','year')))\n",
    "                           .join(thesis_info, on = ['author_id'], how = 'left')\n",
    "                           .join(supervised_students, on = ['author_id','year'], how = 'left')\n",
    "                           .withColumn('in_supervisor_inst', func.arrays_overlap(func.col('inst_set_this_year'), func.split(func.col('thesis_supervisor_inst'), ',')))\n",
    "                           .withColumn('in_referee_inst', func.arrays_overlap(func.col('inst_set_this_year'), func.split(func.col('thesis_referee_inst'), ',')))\n",
    "                           .withColumn('in_jury_inst', func.arrays_overlap(func.col('inst_set_this_year'),    func.split(func.col('thesis_jury_inst'), ',')))\n",
    "                          )"
   ]
  },
  {
   "cell_type": "code",
   "execution_count": 26,
   "id": "875b4245-6c11-492c-9092-076b976b265d",
   "metadata": {},
   "outputs": [],
   "source": [
    "panel_smoothed_w_theses.write.mode('overwrite').parquet('file:\\\\' + save_path + 'panel_smoothed_w_theses.parquet')"
   ]
  },
  {
   "cell_type": "code",
   "execution_count": null,
   "id": "83a575ab-8d32-4a28-bc42-261c5659437d",
   "metadata": {},
   "outputs": [],
   "source": [
    "panel_smoothed_w_theses= spark.read.parquet('file:\\\\' + save_path + 'panel_smoothed_w_theses.parquet')"
   ]
  },
  {
   "cell_type": "code",
   "execution_count": 78,
   "id": "dcb7247a-7cf0-4b05-b594-bff2ab09d202",
   "metadata": {},
   "outputs": [],
   "source": [
    "spark.catalog.clearCache()"
   ]
  },
  {
   "cell_type": "code",
   "execution_count": 76,
   "id": "06a7bf74-1f45-4b51-a34c-571440d62811",
   "metadata": {
    "scrolled": true
   },
   "outputs": [
    {
     "name": "stdout",
     "output_type": "stream",
     "text": [
      "+----+--------------------+--------------------+--------------------+------------------+\n",
      "|year|  in_supervisor_inst|     in_referee_inst|        in_jury_inst|    n_phd_students|\n",
      "+----+--------------------+--------------------+--------------------+------------------+\n",
      "|1955|                 0.0|                 0.0|                 0.0|              NULL|\n",
      "|1956|                 0.0|                 0.0|                 0.0|              NULL|\n",
      "|1957|                 0.0|                 0.0|                 0.0|              NULL|\n",
      "|1958|                 0.0|                 0.0|                 0.0|              NULL|\n",
      "|1959|                 0.0|                 0.0|                 0.0|              NULL|\n",
      "|1960|                 0.0|                 0.0|                 0.0|              NULL|\n",
      "|1961|                 0.0|                 0.0|                 0.0|              NULL|\n",
      "|1962|                 0.0|                 0.0|                 0.0|              NULL|\n",
      "|1963|                 0.0|                 0.0|                 0.0|              NULL|\n",
      "|1964|  0.0338680926916221|                 0.0|                 0.0|              NULL|\n",
      "|1965|                 0.0|                 0.0|                 0.0|              NULL|\n",
      "|1966|                 0.0|                 0.0|                 0.0|              NULL|\n",
      "|1967|                 0.0|                 0.0|                 0.0|              NULL|\n",
      "|1968|                 0.0|                 0.0|0.001824817518248...|              NULL|\n",
      "|1969|0.001430615164520744|                 0.0|                 0.0|              NULL|\n",
      "|1970|0.001378359751895...|                 0.0|                 0.0|              NULL|\n",
      "|1971|0.006741573033707865|                 0.0|0.001123595505617...|              NULL|\n",
      "|1972| 0.00861656294877932|0.001914791766395...|4.786979415988511E-4|              NULL|\n",
      "|1973| 0.00927213722763097|                 0.0|                 0.0|              NULL|\n",
      "|1974|0.008082292432035268|0.001469507714915...|0.003306392358559...|              NULL|\n",
      "|1975|0.007289135716765012|                 0.0|6.942034015966678E-4|              NULL|\n",
      "|1976|0.008434864104967198|                 0.0|0.002186816619806...|              NULL|\n",
      "|1977|0.007546187874056...|2.602133749674733...|0.001821493624772...|              NULL|\n",
      "|1978|0.010382375284882249|                 0.0|0.004811344644213725|              NULL|\n",
      "|1979|0.007414064255223545|                 0.0|0.002022017524151876|              NULL|\n",
      "|1980|0.020569620253164556|3.516174402250351...|0.005098452883263...|              NULL|\n",
      "|1981| 0.03030802174271125|0.001153022566298...|0.002306045132597...|               0.0|\n",
      "|1982| 0.04079601990049751|2.842928216062544...|0.008528784648187633|0.4630495790458372|\n",
      "|1983|0.040945279919120434|0.001516491848856...|0.012131934790850498|0.5108225108225108|\n",
      "|1984|0.051115910727141826| 6.17093489663684E-4|0.007610819705852103|0.7846403900853312|\n",
      "|1985|0.058118081180811805|3.690036900369003...| 0.01808118081180812|1.0360972662739767|\n",
      "|1986| 0.07823478329517644|0.001263124654614...| 0.01349964474619089|1.1072292069632494|\n",
      "|1987|  0.0876453302670244|8.943401047655552E-4| 0.00990162258847579|1.1049702177521727|\n",
      "|1988| 0.08782047921145074|3.670109578986001E-4| 0.01310753421066429|1.1149477510222625|\n",
      "|1989| 0.10360319061153388|6.876317960942514E-4|0.007839002475474467| 1.056701030927835|\n",
      "|1990| 0.12772003581299388|8.953248472108685E-4|0.013858071548133443| 1.031065745260889|\n",
      "|1991| 0.11906310995445674|3.903708523096942E-4| 0.01594014313597918|1.0300954388430237|\n",
      "|1992| 0.11811838369902629|3.183783927197474E-4|0.010479955427025019|1.0107510751075108|\n",
      "|1993| 0.12415239426773855|9.553769078410812E-4| 0.00906442968658977| 1.036567370653878|\n",
      "|1994| 0.13199951201659144|5.286486926111179E-4| 0.01008499044365825|1.0298459946675156|\n",
      "|1995| 0.13291220596066622|3.488991314247938...|0.013717244798648475|1.1123831405482492|\n",
      "|1996| 0.13694838486459285|0.001525493033057...|0.013855251155914823|1.1981241437453893|\n",
      "|1997|  0.1344465279638063|0.001562639521385838|0.013513111289698485|1.2605029475412282|\n",
      "|1998| 0.14590734517522805|0.001308209313490...|0.013394143062890062|1.3056948424068768|\n",
      "|1999| 0.14600924699906662|0.001237274522998...| 0.01408756430571534|1.3137292871172093|\n",
      "|2000| 0.14875132608882644|7.645917557893932E-4|0.013342126138524911|1.3574750496493124|\n",
      "|2001| 0.15812273101948474|0.001052280818674477|0.012004770339711325|  1.43232214524338|\n",
      "|2002|  0.1597183347573731|0.001090126985062314|0.012190271353230605|1.4608127043437646|\n",
      "|2003| 0.16593626430975306|0.001150801881427262|0.011661905112370452|1.4753514589978567|\n",
      "|2004| 0.17333348889575956|9.800432852450983E-4|0.013061410212284377|1.5093719516770465|\n",
      "+----+--------------------+--------------------+--------------------+------------------+\n",
      "only showing top 50 rows\n",
      "\n"
     ]
    }
   ],
   "source": [
    "(panel_smoothed_w_theses\n",
    " .groupBy('year')\n",
    " .agg(*[func.mean(func.col(col).cast('int')).alias(col) for col in  [\"in_supervisor_inst\",\"in_referee_inst\",\"in_jury_inst\"]],\n",
    "     func.mean('n_phd_students').alias('n_phd_students'))\n",
    ".sort('year')).show(50)"
   ]
  },
  {
   "cell_type": "code",
   "execution_count": 27,
   "id": "b1c2b2b8-de01-41ab-904c-496838093526",
   "metadata": {},
   "outputs": [],
   "source": [
    "spark.stop()"
   ]
  }
 ],
 "metadata": {
  "kernelspec": {
   "display_name": "Python 3 (ipykernel)",
   "language": "python",
   "name": "python3"
  },
  "language_info": {
   "codemirror_mode": {
    "name": "ipython",
    "version": 3
   },
   "file_extension": ".py",
   "mimetype": "text/x-python",
   "name": "python",
   "nbconvert_exporter": "python",
   "pygments_lexer": "ipython3",
   "version": "3.12.3"
  }
 },
 "nbformat": 4,
 "nbformat_minor": 5
}
