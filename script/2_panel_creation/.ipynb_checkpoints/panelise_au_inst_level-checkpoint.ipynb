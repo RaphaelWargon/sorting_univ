{
 "cells": [
  {
   "cell_type": "code",
   "execution_count": 1,
   "id": "d1087cf4-87a6-42de-98a9-cdd1276aeced",
   "metadata": {},
   "outputs": [],
   "source": [
    "%run header_data_treatment.ipynb"
   ]
  },
  {
   "cell_type": "code",
   "execution_count": 2,
   "id": "e3b5f207-383f-43a2-9244-6f9300afa33c",
   "metadata": {},
   "outputs": [],
   "source": [
    "works_au_af = (spark.read.format('parquet').load('file:\\\\' + openalex_path + 'works_au_af.parquet')\n",
    "               .filter(func.col('primary_topic').isNotNull())\n",
    "              )"
   ]
  },
  {
   "cell_type": "code",
   "execution_count": 3,
   "id": "e93357bb-fc6b-42c6-9a31-8be77b04e1c8",
   "metadata": {},
   "outputs": [],
   "source": [
    "df_au_scanR = spark.read.format('parquet').load('file:\\\\' + scanR_path + 'authors.parquet')"
   ]
  },
  {
   "cell_type": "code",
   "execution_count": 3,
   "id": "1e60686a-2ceb-41ce-a1e3-2b3ef700de26",
   "metadata": {},
   "outputs": [],
   "source": [
    "set_french_authors = (works_au_af\n",
    "                      .filter(func.col('publication_year').between(2000,2020))\n",
    "                      .filter(func.col('country')=='FR')\n",
    "                      .select('author_id').distinct()\n",
    "                     )\n",
    "#set_french_authors.count()"
   ]
  },
  {
   "cell_type": "code",
   "execution_count": 6,
   "id": "13a4c5ca-51d0-4ea7-94ac-be905c5d1b6a",
   "metadata": {},
   "outputs": [],
   "source": [
    "au_fields = (set_french_authors\n",
    "                      .join(works_au_af, on = ['author_id'])\n",
    "                      .filter( (func.col('publication_year')>=1900) )\n",
    "             .groupBy('author_id', func.col('primary_topic.field.display_name').alias('field'))\n",
    "             .agg(func.countDistinct(func.col('work_id')).alias('n_pub_field_au'))\n",
    "             .withColumn('max_field', func.max(func.col('n_pub_field_au')).over(Window.partitionBy('author_id')))\n",
    "             .filter(0.90*func.col('max_field') <= func.col('n_pub_field_au'))\n",
    "             .withColumn('field', func.substring(func.lower(func.col('field')), 1, 4))\n",
    "             .withColumn('main_field', func.concat_ws(',', func.array_sort(func.collect_set(func.col('field')).over(Window.partitionBy('author_id')))))\n",
    "             .groupBy('author_id','main_field')\n",
    "             .pivot('field')\n",
    "             .agg(func.lit(1))\n",
    "             .fillna(0)\n",
    "            )"
   ]
  },
  {
   "cell_type": "code",
   "execution_count": 7,
   "id": "62068147-b171-42d2-940f-2e319a958fa7",
   "metadata": {
    "scrolled": true
   },
   "outputs": [
    {
     "name": "stdout",
     "output_type": "stream",
     "text": [
      "root\n",
      " |-- author_id: string (nullable = true)\n",
      " |-- main_field: string (nullable = false)\n",
      " |-- agri: integer (nullable = true)\n",
      " |-- arts: integer (nullable = true)\n",
      " |-- bioc: integer (nullable = true)\n",
      " |-- busi: integer (nullable = true)\n",
      " |-- chem: integer (nullable = true)\n",
      " |-- comp: integer (nullable = true)\n",
      " |-- deci: integer (nullable = true)\n",
      " |-- dent: integer (nullable = true)\n",
      " |-- eart: integer (nullable = true)\n",
      " |-- econ: integer (nullable = true)\n",
      " |-- ener: integer (nullable = true)\n",
      " |-- engi: integer (nullable = true)\n",
      " |-- envi: integer (nullable = true)\n",
      " |-- heal: integer (nullable = true)\n",
      " |-- immu: integer (nullable = true)\n",
      " |-- mate: integer (nullable = true)\n",
      " |-- math: integer (nullable = true)\n",
      " |-- medi: integer (nullable = true)\n",
      " |-- neur: integer (nullable = true)\n",
      " |-- nurs: integer (nullable = true)\n",
      " |-- phar: integer (nullable = true)\n",
      " |-- phys: integer (nullable = true)\n",
      " |-- psyc: integer (nullable = true)\n",
      " |-- soci: integer (nullable = true)\n",
      " |-- vete: integer (nullable = true)\n",
      "\n"
     ]
    }
   ],
   "source": [
    "au_fields.printSchema()"
   ]
  },
  {
   "cell_type": "code",
   "execution_count": 8,
   "id": "4c03661b-5d99-4261-95de-0b833d0c8443",
   "metadata": {},
   "outputs": [
    {
     "name": "stdout",
     "output_type": "stream",
     "text": [
      "+-----------+----------+---------+-----------+------------+----------+----+----+----+----+----+----+----+----+----+----+----+----+----+----+----+----+----+----+----+----+----+----+----+----+----+\n",
      "|  author_id|entry_year|last_year|all_y_in_FR|years_abroad|main_field|agri|arts|bioc|busi|chem|comp|deci|dent|eart|econ|ener|engi|envi|heal|immu|mate|math|medi|neur|nurs|phar|phys|psyc|soci|vete|\n",
      "+-----------+----------+---------+-----------+------------+----------+----+----+----+----+----+----+----+----+----+----+----+----+----+----+----+----+----+----+----+----+----+----+----+----+----+\n",
      "|A5000016899|      1958|     2013|         10|           0|      phys|   0|   0|   0|   0|   0|   0|   0|   0|   0|   0|   0|   0|   0|   0|   0|   0|   0|   0|   0|   0|   0|   1|   0|   0|   0|\n",
      "|A5000139008|      2003|     2024|          1|           9|      medi|   0|   0|   0|   0|   0|   0|   0|   0|   0|   0|   0|   0|   0|   0|   0|   0|   0|   1|   0|   0|   0|   0|   0|   0|   0|\n",
      "|A5000139201|      1978|     2019|          2|           0|      agri|   1|   0|   0|   0|   0|   0|   0|   0|   0|   0|   0|   0|   0|   0|   0|   0|   0|   0|   0|   0|   0|   0|   0|   0|   0|\n",
      "|A5000156980|      1981|     2015|          1|          16|      medi|   0|   0|   0|   0|   0|   0|   0|   0|   0|   0|   0|   0|   0|   0|   0|   0|   0|   1|   0|   0|   0|   0|   0|   0|   0|\n",
      "|A5000157973|      1997|     2023|         19|           0|      soci|   0|   0|   0|   0|   0|   0|   0|   0|   0|   0|   0|   0|   0|   0|   0|   0|   0|   0|   0|   0|   0|   0|   0|   1|   0|\n",
      "|A5000209351|      1992|     2024|          2|          21|      eart|   0|   0|   0|   0|   0|   0|   0|   0|   1|   0|   0|   0|   0|   0|   0|   0|   0|   0|   0|   0|   0|   0|   0|   0|   0|\n",
      "|A5000238209|      2000|     2014|          1|           0|      medi|   0|   0|   0|   0|   0|   0|   0|   0|   0|   0|   0|   0|   0|   0|   0|   0|   0|   1|   0|   0|   0|   0|   0|   0|   0|\n",
      "|A5000295324|      2019|     2024|          4|           0| agri,bioc|   1|   0|   1|   0|   0|   0|   0|   0|   0|   0|   0|   0|   0|   0|   0|   0|   0|   0|   0|   0|   0|   0|   0|   0|   0|\n",
      "|A5000307258|      1969|     2021|          3|           2|      soci|   0|   0|   0|   0|   0|   0|   0|   0|   0|   0|   0|   0|   0|   0|   0|   0|   0|   0|   0|   0|   0|   0|   0|   1|   0|\n",
      "|A5000319728|      2000|     2001|          2|           0|      mate|   0|   0|   0|   0|   0|   0|   0|   0|   0|   0|   0|   0|   0|   0|   0|   1|   0|   0|   0|   0|   0|   0|   0|   0|   0|\n",
      "|A5000320773|      2016|     2019|          4|           0|      comp|   0|   0|   0|   0|   0|   1|   0|   0|   0|   0|   0|   0|   0|   0|   0|   0|   0|   0|   0|   0|   0|   0|   0|   0|   0|\n",
      "|A5000332038|      2009|     2024|         13|           0|      medi|   0|   0|   0|   0|   0|   0|   0|   0|   0|   0|   0|   0|   0|   0|   0|   0|   0|   1|   0|   0|   0|   0|   0|   0|   0|\n",
      "|A5000337148|      1990|     2020|          3|           0|      agri|   1|   0|   0|   0|   0|   0|   0|   0|   0|   0|   0|   0|   0|   0|   0|   0|   0|   0|   0|   0|   0|   0|   0|   0|   0|\n",
      "|A5000337643|      2006|     2024|          1|          17|      bioc|   0|   0|   1|   0|   0|   0|   0|   0|   0|   0|   0|   0|   0|   0|   0|   0|   0|   0|   0|   0|   0|   0|   0|   0|   0|\n",
      "|A5000374219|      1966|     2020|         24|           4|      medi|   0|   0|   0|   0|   0|   0|   0|   0|   0|   0|   0|   0|   0|   0|   0|   0|   0|   1|   0|   0|   0|   0|   0|   0|   0|\n",
      "|A5000377509|      2005|     2023|          1|          10|      soci|   0|   0|   0|   0|   0|   0|   0|   0|   0|   0|   0|   0|   0|   0|   0|   0|   0|   0|   0|   0|   0|   0|   0|   1|   0|\n",
      "|A5000387368|      2011|     2024|          7|           5|      phys|   0|   0|   0|   0|   0|   0|   0|   0|   0|   0|   0|   0|   0|   0|   0|   0|   0|   0|   0|   0|   0|   1|   0|   0|   0|\n",
      "|A5000416707|      2004|     2008|          1|           0|      heal|   0|   0|   0|   0|   0|   0|   0|   0|   0|   0|   0|   0|   0|   1|   0|   0|   0|   0|   0|   0|   0|   0|   0|   0|   0|\n",
      "|A5000418296|      2001|     2002|          2|           0| comp,phys|   0|   0|   0|   0|   0|   1|   0|   0|   0|   0|   0|   0|   0|   0|   0|   0|   0|   0|   0|   0|   0|   1|   0|   0|   0|\n",
      "|A5000425403|      1990|     2024|          2|          23| bioc,medi|   0|   0|   1|   0|   0|   0|   0|   0|   0|   0|   0|   0|   0|   0|   0|   0|   0|   1|   0|   0|   0|   0|   0|   0|   0|\n",
      "+-----------+----------+---------+-----------+------------+----------+----+----+----+----+----+----+----+----+----+----+----+----+----+----+----+----+----+----+----+----+----+----+----+----+----+\n",
      "only showing top 20 rows\n",
      "\n"
     ]
    }
   ],
   "source": [
    "au_level_char = (set_french_authors\n",
    "                      .join(works_au_af, on = ['author_id'])\n",
    "                      .filter( (func.col('publication_year')>=1900) )\n",
    "              .groupBy('author_id','publication_year').agg(func.max((func.col('country')=='FR').cast('int')).alias('in_FR'),\n",
    "                                                          func.max((func.col('country')!='FR').cast('int')).alias('abroad'))\n",
    "              .groupBy('author_id').agg(func.min('publication_year').alias('entry_year'),\n",
    "                                        func.max('publication_year').alias('last_year'),\n",
    "                                        func.sum('in_FR').alias('all_y_in_FR'), func.sum('abroad').alias('years_abroad'))\n",
    "                .filter(func.col('entry_year')!=func.col('last_year'))\n",
    "                 .join(au_fields, on  = ['author_id'], how = 'left')\n",
    "                )\n",
    "au_level_char.cache()\n",
    "au_level_char.show()"
   ]
  },
  {
   "cell_type": "code",
   "execution_count": 9,
   "id": "db78e0f5-e6e4-4025-a991-1dbf850e89ea",
   "metadata": {
    "scrolled": true
   },
   "outputs": [],
   "source": [
    "#au_level_char.count()"
   ]
  },
  {
   "cell_type": "code",
   "execution_count": 10,
   "id": "ef777538-27bc-457e-bbd9-c1e196408909",
   "metadata": {},
   "outputs": [],
   "source": [
    "au_level_char = au_level_char.filter( (func.col('entry_year')<2020) & (func.col('entry_year')>1954))"
   ]
  },
  {
   "cell_type": "code",
   "execution_count": 11,
   "id": "3618898f-efd5-4455-a116-6e12a17e3d4a",
   "metadata": {},
   "outputs": [],
   "source": [
    "#au_level_char.groupBy((func.floor(func.col('entry_year')/5)*5).alias('entry_year')).count().sort('entry_year').show(100)"
   ]
  },
  {
   "cell_type": "code",
   "execution_count": 12,
   "id": "47f317d1-24b3-42d6-8738-063b421c665a",
   "metadata": {},
   "outputs": [
    {
     "name": "stdout",
     "output_type": "stream",
     "text": [
      "+-----------+----------+---------+-----------+------------+----------+----+----+----+----+----+----+----+----+----+----+----+----+----+----+----+----+----+----+----+----+----+----+----+----+----+\n",
      "|  author_id|entry_year|last_year|all_y_in_FR|years_abroad|main_field|agri|arts|bioc|busi|chem|comp|deci|dent|eart|econ|ener|engi|envi|heal|immu|mate|math|medi|neur|nurs|phar|phys|psyc|soci|vete|\n",
      "+-----------+----------+---------+-----------+------------+----------+----+----+----+----+----+----+----+----+----+----+----+----+----+----+----+----+----+----+----+----+----+----+----+----+----+\n",
      "|A5084984675|      1985|     2024|         32|          37|      econ|   0|   0|   0|   0|   0|   0|   0|   0|   0|   1|   0|   0|   0|   0|   0|   0|   0|   0|   0|   0|   0|   0|   0|   0|   0|\n",
      "+-----------+----------+---------+-----------+------------+----------+----+----+----+----+----+----+----+----+----+----+----+----+----+----+----+----+----+----+----+----+----+----+----+----+----+\n",
      "\n"
     ]
    }
   ],
   "source": [
    "au_level_char.filter(func.col('author_id')==\"A5084984675\").show()"
   ]
  },
  {
   "cell_type": "code",
   "execution_count": 13,
   "id": "773c03da-e912-4100-9e54-fafb28edc000",
   "metadata": {},
   "outputs": [
    {
     "name": "stdout",
     "output_type": "stream",
     "text": [
      "+----------+------------------+------------------+------------------+\n",
      "|entry_year|         last_year|       all_y_in_FR|      years_abroad|\n",
      "+----------+------------------+------------------+------------------+\n",
      "|      1955|2020.9420974615527| 7.518899388549194|15.921252547711692|\n",
      "|      1960|2020.5591951333645|7.6612072999532055|16.796911558259243|\n",
      "|      1965|2020.0168816969167| 8.223791821561338|15.552460091843429|\n",
      "|      1970| 2019.605287089592| 8.753582740129826|13.778262096647747|\n",
      "|      1975| 2019.767631447758| 7.916248790358054|13.272601976481628|\n",
      "|      1980|2020.2382102006375| 7.533213013313332|12.451551659478717|\n",
      "|      1985|2020.3056205059686| 7.161547792760325|10.982437017633305|\n",
      "|      1990|2019.9456518778768|6.5820736988316035|  9.25651605523327|\n",
      "|      1995|2018.5470787111549|5.4757666425431255| 7.192473455103209|\n",
      "|      2000|2017.9909198641983| 4.309213054897188| 5.344917045672923|\n",
      "|      2005|2018.6420646952972|3.6978548252263486| 3.709728381767431|\n",
      "|      2010| 2019.829904601207| 3.163930170679473|2.2940561432351942|\n",
      "|      2015|2021.4922457916014|2.7142322133343577|1.1188914602878899|\n",
      "+----------+------------------+------------------+------------------+\n",
      "\n"
     ]
    }
   ],
   "source": [
    "(au_level_char.groupBy((func.floor(func.col('entry_year')/5)*5)\n",
    "                       .alias('entry_year'))\n",
    ".agg(*[func.mean(col).alias(col) for col in ['last_year',\"all_y_in_FR\", \"years_abroad\"]]).sort('entry_year')).show(100)"
   ]
  },
  {
   "cell_type": "code",
   "execution_count": 14,
   "id": "f71aed91-4a8c-4e44-9dcb-bb5198cc28d3",
   "metadata": {
    "scrolled": true
   },
   "outputs": [
    {
     "name": "stdout",
     "output_type": "stream",
     "text": [
      "+-------------+-----+\n",
      "|share_y_in_fr|count|\n",
      "+-------------+-----+\n",
      "|            0|21291|\n",
      "|            2|92440|\n",
      "|            4|79735|\n",
      "|            6|52625|\n",
      "|            8|38167|\n",
      "|           10|40441|\n",
      "|           12|29602|\n",
      "|           14|29789|\n",
      "|           16|27659|\n",
      "|           18|13879|\n",
      "|           20|30668|\n",
      "|           22|16876|\n",
      "|           24|28896|\n",
      "|           26|12045|\n",
      "|           28|14817|\n",
      "|           30|13054|\n",
      "|           32|35159|\n",
      "|           34| 7445|\n",
      "|           36|12599|\n",
      "|           38| 6254|\n",
      "|           40|19927|\n",
      "|           42|11366|\n",
      "|           44| 9878|\n",
      "|           46| 7100|\n",
      "|           48| 2332|\n",
      "|           50|47744|\n",
      "|           52| 6390|\n",
      "|           54| 7856|\n",
      "|           56| 9183|\n",
      "|           58| 4379|\n",
      "|           60|13592|\n",
      "|           62| 7652|\n",
      "|           64| 4451|\n",
      "|           66|24156|\n",
      "|           68| 4245|\n",
      "|           70| 8283|\n",
      "|           72| 4856|\n",
      "|           74|11871|\n",
      "|           76| 5112|\n",
      "|           78| 2912|\n",
      "|           80| 9277|\n",
      "|           82| 6374|\n",
      "|           84| 5318|\n",
      "|           86| 3807|\n",
      "|           88| 3201|\n",
      "|           90| 3692|\n",
      "|           92| 2572|\n",
      "|           94| 2232|\n",
      "|           96| 1041|\n",
      "|           98|   15|\n",
      "|          100|34771|\n",
      "+-------------+-----+\n",
      "\n"
     ]
    }
   ],
   "source": [
    "(au_level_char\n",
    " .groupBy(((func.floor(func.col('all_y_in_FR')/(func.col('last_year')-func.col('entry_year')+1)*50)*2).alias('share_y_in_fr')))\n",
    " .count()\n",
    " .sort('share_y_in_fr')).show(100)"
   ]
  },
  {
   "cell_type": "code",
   "execution_count": 15,
   "id": "84f9cb60-0734-4254-878a-5850474d3146",
   "metadata": {},
   "outputs": [],
   "source": [
    "from itertools import product"
   ]
  },
  {
   "cell_type": "code",
   "execution_count": 16,
   "id": "71907c42-aa2b-4e4c-a4ae-50ca9cf53928",
   "metadata": {},
   "outputs": [],
   "source": [
    "df_inst = spark.read.format('parquet').load('file:\\\\' + openalex_path + 'institutions.parquet')"
   ]
  },
  {
   "cell_type": "code",
   "execution_count": 17,
   "id": "61ceb0fc-ef66-4765-9cd6-84f2ffd27546",
   "metadata": {},
   "outputs": [
    {
     "name": "stdout",
     "output_type": "stream",
     "text": [
      "+-----------+-------+-----------+--------------------+-----------+--------------------+----------+\n",
      "|    inst_id|country|  parent_id|         parent_name|parent_type|        display_name| inst_type|\n",
      "+-----------+-------+-----------+--------------------+-----------+--------------------+----------+\n",
      "|I4210156707|     IT|I4210153126|Istituti di Ricov...| healthcare|Fondazione IRCCS ...|healthcare|\n",
      "|I4210156707|     IT|I4210153126|Istituti di Ricov...| healthcare|Fondazione IRCCS ...|healthcare|\n",
      "|I4210156707|     IT|I4210153126|Istituti di Ricov...| healthcare|Fondazione IRCCS ...|healthcare|\n",
      "|I4210156707|     IT|I4210153126|Istituti di Ricov...| healthcare|Fondazione IRCCS ...|healthcare|\n",
      "| I172901346|     RU|       NULL|                NULL|       NULL|St Petersburg Uni...| education|\n",
      "| I172901346|     RU|       NULL|                NULL|       NULL|St Petersburg Uni...| education|\n",
      "|I4210087978|     FR|       NULL|                NULL|       NULL|Centre Hospitalie...|healthcare|\n",
      "|I4210087978|     FR|       NULL|                NULL|       NULL|Centre Hospitalie...|healthcare|\n",
      "|I4210102325|     FR|I4210120235|Hôpitaux Universi...| healthcare|Hôpital Européen ...|healthcare|\n",
      "|I4210102325|     FR|I4210120235|Hôpitaux Universi...| healthcare|Hôpital Européen ...|healthcare|\n",
      "|I4210102325|     FR|I4210120235|Hôpitaux Universi...| healthcare|Hôpital Européen ...|healthcare|\n",
      "|I4210102325|     FR|I4210120235|Hôpitaux Universi...| healthcare|Hôpital Européen ...|healthcare|\n",
      "| I165799507|     US|       NULL|                NULL|       NULL|Rensselaer Polyte...| education|\n",
      "| I165799507|     US|       NULL|                NULL|       NULL|Rensselaer Polyte...| education|\n",
      "|  I57913696|     TR|       NULL|                NULL|       NULL|Istanbul Medeniye...| education|\n",
      "|  I57913696|     TR|       NULL|                NULL|       NULL|Istanbul Medeniye...| education|\n",
      "|  I40434647|     FR|       NULL|                NULL|       NULL|Université Paris ...| education|\n",
      "|  I40434647|     FR|       NULL|                NULL|       NULL|Université Paris ...| education|\n",
      "| I150729083|     BR|       NULL|                NULL|       NULL|University of Bra...| education|\n",
      "| I150729083|     BR|       NULL|                NULL|       NULL|Universidade de B...| education|\n",
      "+-----------+-------+-----------+--------------------+-----------+--------------------+----------+\n",
      "only showing top 20 rows\n",
      "\n"
     ]
    }
   ],
   "source": [
    "inst = (au_level_char\n",
    "                  #.filter(func.col('author_id').isin([\"A5084984675\"]))\n",
    "                  .join(works_au_af.withColumnRenamed('publication_year', 'year'), on = ['author_id'], how = 'inner')\n",
    "        .select('inst_id','country')\n",
    "        .distinct()\n",
    "        .join(df_inst\n",
    "              .select(func.regexp_replace(func.col('id'), 'https://openalex.org/', '').alias('inst_id'),\n",
    "                      func.explode(func.col('associated_institutions')).alias('associated_institutions'))\n",
    "              .filter(func.col('associated_institutions.relationship') =='parent')\n",
    "              .select('inst_id', func.regexp_replace(func.col('associated_institutions.id'), 'https://openalex.org/', '').alias('parent_id'),\n",
    "                      func.col('associated_institutions.display_name').alias('parent_name'),\n",
    "                      func.col('associated_institutions.type').alias('parent_type'))\n",
    "             , on = 'inst_id', how = 'left')\n",
    "        .join(df_inst\n",
    "              .select(func.regexp_replace(func.col('id'), 'https://openalex.org/', '').alias('inst_id'),\n",
    "                      'display_name',func.col('type').alias('inst_type'))\n",
    "              \n",
    "             , on = 'inst_id', how = 'left')\n",
    "       )\n",
    "inst.cache()\n",
    "inst.show()\n",
    "\n",
    "                      "
   ]
  },
  {
   "cell_type": "code",
   "execution_count": 18,
   "id": "75be63b0-aa09-4739-ad8f-9002e69ffedf",
   "metadata": {},
   "outputs": [
    {
     "data": {
      "text/plain": [
       "128"
      ]
     },
     "execution_count": 18,
     "metadata": {},
     "output_type": "execute_result"
    }
   ],
   "source": [
    "inst.filter(func.col('inst_type')=='facility').filter(func.col('parent_id')=='I1294671590').count()"
   ]
  },
  {
   "cell_type": "code",
   "execution_count": 20,
   "id": "39f3a997-0145-48b4-95d5-84f0caaa9b49",
   "metadata": {},
   "outputs": [],
   "source": [
    "au_inst_period = (au_level_char\n",
    "                  #.filter(func.col('author_id').isin([\"A5084984675\"]))\n",
    "                  .join(works_au_af.withColumnRenamed('publication_year', 'year')\n",
    "                        .drop('inst_type').filter(func.col('source_id').isNotNull())\n",
    "                        , on = ['author_id'], how = 'inner')\n",
    "                  .filter(func.col('inst_id').isNotNull())\n",
    "                  .join(inst.drop('country').withColumnRenamed('type','inst_type'), on = ['inst_id'])\n",
    "                .withColumn('parent_id', func.when(func.col('parent_id').isNull(), func.col('inst_id')).otherwise(func.col('parent_id')))\n",
    "                .withColumn('parent_name', func.when(func.col('parent_name').isNull(), func.col('display_name')).otherwise(func.col('parent_name')))\n",
    "                .withColumn('parent_type', func.when(func.col('parent_type').isNull(), func.col('inst_type')).otherwise(func.col('parent_type')))\n",
    "                  .groupBy('author_id','inst_id','year')\n",
    "                  .agg( *[func.first(col).alias(col) for col in ['entry_year', 'last_year', 'all_y_in_FR','years_abroad','country',\n",
    "                                                                 'display_name', 'inst_type','parent_id','parent_name','parent_type'\n",
    "                                                                ] + \n",
    "                         [col for col in au_fields.columns if col != 'author_id']],\n",
    "                        func.countDistinct('work_id').alias('publications_raw'),\n",
    "                        func.sum('citations').alias('citations_raw'),\n",
    "                     #   func.mean('rank_by_field').alias('rank_by_field'),\n",
    "                      *[func.sum( (func.col(type_col) == type_value).cast('int')).alias('nr_' + type_col + '_' + type_value + '_raw')\n",
    "                        for type_col,type_value in \n",
    "                        [ [el1 , el2] for el1,el2 in product(['type'], ['article', 'book', 'book-series'] )] +\n",
    "                        [ [el1 , el2] for el1,el2 in product(['language'], ['en', 'fr'])]\n",
    "                          ] ,\n",
    "                      *[func.sum(( (func.col(type_col) == type_value).cast('int'))*func.col('citations') ).alias('citations_' + type_col + '_' + type_value + '_raw')\n",
    "                        for type_col,type_value in \n",
    "                        [ [el1 , el2] for el1,el2 in product(['type'], ['article', 'book', 'book-series'])] +\n",
    "                        [ [el1 , el2] for el1,el2 in product(['language'], ['en', 'fr'])]\n",
    "                          ] \n",
    "\n",
    "                      )\n",
    "                  .withColumn('new_inst_period', func.when((func.lag('year').over(Window.partitionBy('author_id','inst_id').orderBy('year')).isNull())\n",
    "                                                            | (func.lag('year').over(Window.partitionBy('author_id','inst_id').orderBy('year')) == func.col('year')-1\n",
    "                                                               ), 0)\n",
    "                                                      .otherwise(1))\n",
    "                  .withColumn('period_inst',1+ func.sum(func.col('new_inst_period')).over(Window.partitionBy(\"author_id\", \"inst_id\").orderBy('year')))    \n",
    "                  .drop('new_inst_period')\n",
    "                 )"
   ]
  },
  {
   "cell_type": "code",
   "execution_count": 21,
   "id": "8e8729ca-b589-4e32-8eaa-dba48a04cc07",
   "metadata": {
    "scrolled": true
   },
   "outputs": [
    {
     "name": "stdout",
     "output_type": "stream",
     "text": [
      "root\n",
      " |-- author_id: string (nullable = true)\n",
      " |-- inst_id: string (nullable = true)\n",
      " |-- year: integer (nullable = true)\n",
      " |-- entry_year: integer (nullable = true)\n",
      " |-- last_year: integer (nullable = true)\n",
      " |-- all_y_in_FR: long (nullable = true)\n",
      " |-- years_abroad: long (nullable = true)\n",
      " |-- country: string (nullable = true)\n",
      " |-- display_name: string (nullable = true)\n",
      " |-- inst_type: string (nullable = true)\n",
      " |-- parent_id: string (nullable = true)\n",
      " |-- parent_name: string (nullable = true)\n",
      " |-- parent_type: string (nullable = true)\n",
      " |-- main_field: string (nullable = true)\n",
      " |-- agri: integer (nullable = true)\n",
      " |-- arts: integer (nullable = true)\n",
      " |-- bioc: integer (nullable = true)\n",
      " |-- busi: integer (nullable = true)\n",
      " |-- chem: integer (nullable = true)\n",
      " |-- comp: integer (nullable = true)\n",
      " |-- deci: integer (nullable = true)\n",
      " |-- dent: integer (nullable = true)\n",
      " |-- eart: integer (nullable = true)\n",
      " |-- econ: integer (nullable = true)\n",
      " |-- ener: integer (nullable = true)\n",
      " |-- engi: integer (nullable = true)\n",
      " |-- envi: integer (nullable = true)\n",
      " |-- heal: integer (nullable = true)\n",
      " |-- immu: integer (nullable = true)\n",
      " |-- mate: integer (nullable = true)\n",
      " |-- math: integer (nullable = true)\n",
      " |-- medi: integer (nullable = true)\n",
      " |-- neur: integer (nullable = true)\n",
      " |-- nurs: integer (nullable = true)\n",
      " |-- phar: integer (nullable = true)\n",
      " |-- phys: integer (nullable = true)\n",
      " |-- psyc: integer (nullable = true)\n",
      " |-- soci: integer (nullable = true)\n",
      " |-- vete: integer (nullable = true)\n",
      " |-- publications_raw: long (nullable = false)\n",
      " |-- citations_raw: long (nullable = true)\n",
      " |-- nr_type_article_raw: long (nullable = true)\n",
      " |-- nr_type_book_raw: long (nullable = true)\n",
      " |-- nr_type_book-series_raw: long (nullable = true)\n",
      " |-- nr_language_en_raw: long (nullable = true)\n",
      " |-- nr_language_fr_raw: long (nullable = true)\n",
      " |-- citations_type_article_raw: long (nullable = true)\n",
      " |-- citations_type_book_raw: long (nullable = true)\n",
      " |-- citations_type_book-series_raw: long (nullable = true)\n",
      " |-- citations_language_en_raw: long (nullable = true)\n",
      " |-- citations_language_fr_raw: long (nullable = true)\n",
      " |-- period_inst: long (nullable = true)\n",
      " |-- last_y_inst_period: integer (nullable = true)\n",
      " |-- first_y_inst_period: integer (nullable = true)\n",
      " |-- n_inst_y: integer (nullable = false)\n",
      " |-- publications: double (nullable = true)\n",
      " |-- citations: double (nullable = true)\n",
      " |-- nr_type_article: double (nullable = true)\n",
      " |-- nr_type_book: double (nullable = true)\n",
      " |-- nr_type_book-series: double (nullable = true)\n",
      " |-- nr_language_en: double (nullable = true)\n",
      " |-- nr_language_fr: double (nullable = true)\n",
      " |-- citations_type_article: double (nullable = true)\n",
      " |-- citations_type_book: double (nullable = true)\n",
      " |-- citations_type_book-series: double (nullable = true)\n",
      " |-- citations_language_en: double (nullable = true)\n",
      " |-- citations_language_fr: double (nullable = true)\n",
      "\n"
     ]
    }
   ],
   "source": [
    "au_inst_period = (au_inst_period\n",
    "                  .select(*au_inst_period.columns,\n",
    "                          (func.max(func.col('year')).over(Window.partitionBy('period_inst','inst_id','author_id'))).alias('last_y_inst_period'),\n",
    "                          (func.min(func.col('year')).over(Window.partitionBy('period_inst','inst_id','author_id'))).alias('first_y_inst_period'),\n",
    "                          func.size(func.collect_set('inst_id').over(Window.partitionBy('year','author_id'))).alias('n_inst_y'),\n",
    "                         *[ (func.col(column)/func.size(func.collect_set('inst_id').over(Window.partitionBy('year','author_id'))))\n",
    "                           .alias(column.replace('_raw',''))\n",
    "                           for column in [column for column in au_inst_period.columns if '_raw' in column]]\n",
    "                         )\n",
    "                  .filter(func.col('year').between(2000,2020))\n",
    "                 )\n",
    "au_inst_period.printSchema()"
   ]
  },
  {
   "cell_type": "code",
   "execution_count": 22,
   "id": "260c7a93-aa8b-4044-8845-ff3bdce3bc5e",
   "metadata": {},
   "outputs": [],
   "source": [
    "save_path = scanR_path.replace(\"scanR\", \"panel_fr_res\")\n",
    "if not os.path.exists(save_path):\n",
    "    os.mkdir(save_path)"
   ]
  },
  {
   "cell_type": "code",
   "execution_count": 23,
   "id": "44abf0c9-dcc3-4fe2-80cd-a517c38ff82a",
   "metadata": {},
   "outputs": [],
   "source": [
    "au_inst_period.write.mode('overwrite').parquet('file:\\\\' + save_path + 'panel_non_sphericised.parquet')"
   ]
  },
  {
   "cell_type": "code",
   "execution_count": 24,
   "id": "d7b87855-b6b4-49a3-830b-c491f88f1fa4",
   "metadata": {},
   "outputs": [],
   "source": [
    "spark.catalog.clearCache()"
   ]
  },
  {
   "cell_type": "code",
   "execution_count": 25,
   "id": "5d69fbdf-d11c-40d2-ba80-ef60823b36d3",
   "metadata": {},
   "outputs": [],
   "source": [
    "au_inst_period = spark.read.format('parquet').load('file:\\\\' + save_path + 'panel_non_sphericised.parquet')"
   ]
  },
  {
   "cell_type": "code",
   "execution_count": 26,
   "id": "368734ad-a33b-4c61-b4ad-7f9cbce38e44",
   "metadata": {},
   "outputs": [
    {
     "data": {
      "text/plain": [
       "791985"
      ]
     },
     "execution_count": 26,
     "metadata": {},
     "output_type": "execute_result"
    }
   ],
   "source": [
    "au_inst_period.filter(func.col('parent_id')=='I1294671590').count()"
   ]
  },
  {
   "cell_type": "code",
   "execution_count": 6,
   "id": "e0401267-fe2e-4d6b-95a9-fea301ee1e92",
   "metadata": {
    "scrolled": true
   },
   "outputs": [
    {
     "name": "stdout",
     "output_type": "stream",
     "text": [
      "root\n",
      " |-- associated_institutions: array (nullable = true)\n",
      " |    |-- element: struct (containsNull = true)\n",
      " |    |    |-- country_code: string (nullable = true)\n",
      " |    |    |-- display_name: string (nullable = true)\n",
      " |    |    |-- id: string (nullable = true)\n",
      " |    |    |-- relationship: string (nullable = true)\n",
      " |    |    |-- ror: string (nullable = true)\n",
      " |    |    |-- type: string (nullable = true)\n",
      " |-- cited_by_count: long (nullable = true)\n",
      " |-- country_code: string (nullable = true)\n",
      " |-- counts_by_year: array (nullable = true)\n",
      " |    |-- element: struct (containsNull = true)\n",
      " |    |    |-- cited_by_count: long (nullable = true)\n",
      " |    |    |-- oa_works_count: long (nullable = true)\n",
      " |    |    |-- works_count: long (nullable = true)\n",
      " |    |    |-- year: long (nullable = true)\n",
      " |-- created_date: string (nullable = true)\n",
      " |-- display_name: string (nullable = true)\n",
      " |-- display_name_acronyms: array (nullable = true)\n",
      " |    |-- element: string (containsNull = true)\n",
      " |-- display_name_alternatives: array (nullable = true)\n",
      " |    |-- element: string (containsNull = true)\n",
      " |-- geo: struct (nullable = true)\n",
      " |    |-- city: string (nullable = true)\n",
      " |    |-- country: string (nullable = true)\n",
      " |    |-- country_code: string (nullable = true)\n",
      " |    |-- geonames_city_id: string (nullable = true)\n",
      " |    |-- latitude: double (nullable = true)\n",
      " |    |-- longitude: double (nullable = true)\n",
      " |    |-- region: string (nullable = true)\n",
      " |-- homepage_url: string (nullable = true)\n",
      " |-- id: string (nullable = true)\n",
      " |-- ids: struct (nullable = true)\n",
      " |    |-- grid: string (nullable = true)\n",
      " |    |-- mag: long (nullable = true)\n",
      " |    |-- openalex: string (nullable = true)\n",
      " |    |-- ror: string (nullable = true)\n",
      " |    |-- wikidata: string (nullable = true)\n",
      " |    |-- wikipedia: string (nullable = true)\n",
      " |-- image_thumbnail_url: string (nullable = true)\n",
      " |-- image_url: string (nullable = true)\n",
      " |-- international: struct (nullable = true)\n",
      " |    |-- display_name: struct (nullable = true)\n",
      " |    |    |-- ar: string (nullable = true)\n",
      " |    |    |-- azb: string (nullable = true)\n",
      " |    |    |-- be: string (nullable = true)\n",
      " |    |    |-- bg: string (nullable = true)\n",
      " |    |    |-- br: string (nullable = true)\n",
      " |    |    |-- ca: string (nullable = true)\n",
      " |    |    |-- cs: string (nullable = true)\n",
      " |    |    |-- cy: string (nullable = true)\n",
      " |    |    |-- de: string (nullable = true)\n",
      " |    |    |-- el: string (nullable = true)\n",
      " |    |    |-- en: string (nullable = true)\n",
      " |    |    |-- en-gb: string (nullable = true)\n",
      " |    |    |-- eo: string (nullable = true)\n",
      " |    |    |-- es: string (nullable = true)\n",
      " |    |    |-- et: string (nullable = true)\n",
      " |    |    |-- eu: string (nullable = true)\n",
      " |    |    |-- fa: string (nullable = true)\n",
      " |    |    |-- fr: string (nullable = true)\n",
      " |    |    |-- gl: string (nullable = true)\n",
      " |    |    |-- he: string (nullable = true)\n",
      " |    |    |-- hu: string (nullable = true)\n",
      " |    |    |-- hy: string (nullable = true)\n",
      " |    |    |-- id: string (nullable = true)\n",
      " |    |    |-- it: string (nullable = true)\n",
      " |    |    |-- ja: string (nullable = true)\n",
      " |    |    |-- ko: string (nullable = true)\n",
      " |    |    |-- lb: string (nullable = true)\n",
      " |    |    |-- nb: string (nullable = true)\n",
      " |    |    |-- nl: string (nullable = true)\n",
      " |    |    |-- nn: string (nullable = true)\n",
      " |    |    |-- pl: string (nullable = true)\n",
      " |    |    |-- pt: string (nullable = true)\n",
      " |    |    |-- ro: string (nullable = true)\n",
      " |    |    |-- ru: string (nullable = true)\n",
      " |    |    |-- sk: string (nullable = true)\n",
      " |    |    |-- sv: string (nullable = true)\n",
      " |    |    |-- tl: string (nullable = true)\n",
      " |    |    |-- uk: string (nullable = true)\n",
      " |    |    |-- vi: string (nullable = true)\n",
      " |    |    |-- zh: string (nullable = true)\n",
      " |    |    |-- zh-hant: string (nullable = true)\n",
      " |    |    |-- zh-hk: string (nullable = true)\n",
      " |-- repositories: array (nullable = true)\n",
      " |    |-- element: string (containsNull = true)\n",
      " |-- roles: array (nullable = true)\n",
      " |    |-- element: struct (containsNull = true)\n",
      " |    |    |-- id: string (nullable = true)\n",
      " |    |    |-- role: string (nullable = true)\n",
      " |    |    |-- works_count: long (nullable = true)\n",
      " |-- ror: string (nullable = true)\n",
      " |-- summary_stats: struct (nullable = true)\n",
      " |    |-- 2yr_cited_by_count: long (nullable = true)\n",
      " |    |-- 2yr_h_index: long (nullable = true)\n",
      " |    |-- 2yr_i10_index: long (nullable = true)\n",
      " |    |-- 2yr_mean_citedness: double (nullable = true)\n",
      " |    |-- 2yr_works_count: long (nullable = true)\n",
      " |    |-- cited_by_count: long (nullable = true)\n",
      " |    |-- h_index: long (nullable = true)\n",
      " |    |-- i10_index: long (nullable = true)\n",
      " |    |-- oa_percent: double (nullable = true)\n",
      " |    |-- works_count: long (nullable = true)\n",
      " |-- type: string (nullable = true)\n",
      " |-- updated: string (nullable = true)\n",
      " |-- updated_date: string (nullable = true)\n",
      " |-- works_api_url: string (nullable = true)\n",
      " |-- works_count: long (nullable = true)\n",
      " |-- x_concepts: array (nullable = true)\n",
      " |    |-- element: struct (containsNull = true)\n",
      " |    |    |-- display_name: string (nullable = true)\n",
      " |    |    |-- id: string (nullable = true)\n",
      " |    |    |-- level: long (nullable = true)\n",
      " |    |    |-- score: double (nullable = true)\n",
      " |    |    |-- wikidata: string (nullable = true)\n",
      "\n"
     ]
    }
   ],
   "source": [
    "df_inst.printSchema()"
   ]
  },
  {
   "cell_type": "code",
   "execution_count": 7,
   "id": "113518eb-8645-44fb-bbd5-b01be5980091",
   "metadata": {},
   "outputs": [
    {
     "name": "stdout",
     "output_type": "stream",
     "text": [
      "+-----------+-------+--------------------+--------------------+-----------+--------------------+----------+\n",
      "|    inst_id|country|           parent_id|         parent_name|parent_type|        display_name|      type|\n",
      "+-----------+-------+--------------------+--------------------+-----------+--------------------+----------+\n",
      "| I165799507|     US|                NULL|                NULL|       NULL|Rensselaer Polyte...| education|\n",
      "| I172901346|     RU|                NULL|                NULL|       NULL|St Petersburg Uni...| education|\n",
      "| I193775966|     KR|                NULL|                NULL|       NULL|   Yonsei University| education|\n",
      "|  I67900169|     KR|                NULL|                NULL|       NULL|Chung-Ang University| education|\n",
      "|I4210102325|     FR|https://openalex....|Hôpitaux Universi...| healthcare|Hôpital Européen ...|healthcare|\n",
      "| I119942576|     US|                NULL|                NULL|       NULL|University of the...| education|\n",
      "|I4210087978|     FR|                NULL|                NULL|       NULL|Centre Hospitalie...|healthcare|\n",
      "|I4210111921|     IN|https://openalex....|Council of Scient...| government|National Metallur...|  facility|\n",
      "| I187400657|     CN|                NULL|                NULL|       NULL|South China Norma...| education|\n",
      "|I2800129641|     GB|https://openalex....|Great Ormond Stre...| healthcare|Great Ormond Stre...|healthcare|\n",
      "|I4210157127|     FR|https://openalex....|Hôpitaux Universi...| healthcare|Hôpital d'Hautepi...|healthcare|\n",
      "|  I40434647|     FR|                NULL|                NULL|       NULL|Université Paris ...| education|\n",
      "|I4210132604|     FR|https://openalex....|Laboratory of Med...|   facility|Centre Hospitalie...|healthcare|\n",
      "|I4210137389|     CN|                NULL|                NULL|       NULL|Eastern Hepatobil...|healthcare|\n",
      "|I4210160401|     US|https://openalex....|Centers for Disea...| government|National Center f...|  facility|\n",
      "|I4210124432|     IT|https://openalex....|     Bayer (Germany)|    company|       Bayer (Italy)|   company|\n",
      "|I4210119916|     FR|https://openalex....|University of Pic...|  education|Ecology and Dynam...|  facility|\n",
      "|I4210119916|     FR|https://openalex....|Institut Écologie...| government|Ecology and Dynam...|  facility|\n",
      "|I4210156707|     IT|https://openalex....|Istituti di Ricov...| healthcare|Fondazione IRCCS ...|healthcare|\n",
      "| I147439693|     ID|                NULL|                NULL|       NULL|Soegijapranata Ca...| education|\n",
      "+-----------+-------+--------------------+--------------------+-----------+--------------------+----------+\n",
      "only showing top 20 rows\n",
      "\n"
     ]
    }
   ],
   "source": [
    "inst = (au_inst_period\n",
    "        .select('inst_id','country')\n",
    "        .distinct()\n",
    "        .join(df_inst\n",
    "              .select(func.regexp_replace(func.col('id'), 'https://openalex.org/', '').alias('inst_id'),\n",
    "                      func.explode(func.col('associated_institutions')).alias('associated_institutions'))\n",
    "              .filter(func.col('associated_institutions.relationship') =='parent')\n",
    "              .select('inst_id', func.col(\"associated_institutions.id\").alias('parent_id'),\n",
    "                      func.col('associated_institutions.display_name').alias('parent_name'),\n",
    "                      func.col('associated_institutions.type').alias('parent_type'))\n",
    "             , on = 'inst_id', how = 'left')\n",
    "        .join(df_inst\n",
    "              .select(func.regexp_replace(func.col('id'), 'https://openalex.org/', '').alias('inst_id'),\n",
    "                      'display_name','type')\n",
    "              \n",
    "             , on = 'inst_id', how = 'left')\n",
    "       )\n",
    "inst.cache()\n",
    "inst.show()\n",
    "\n",
    "                      "
   ]
  },
  {
   "cell_type": "code",
   "execution_count": null,
   "id": "85834a3a-63cc-4493-8a5a-afae65a6db98",
   "metadata": {},
   "outputs": [],
   "source": [
    "inst = (au_inst_period\n",
    "        .select('inst_id','country')\n",
    "        .distinct()\n",
    "        .join(df_inst\n",
    "              .select(func.regexp_replace(func.col('id'), 'https://openalex.org/', '').alias('inst_id'),\n",
    "                      func.explode(func.col('associated_institutions')).alias('associated_institutions'))\n",
    "              .filter(func.col('associated_institutions.relationship') =='parent')\n",
    "              .select('inst_id', func.col(\"associated_institutions.id\").alias('parent_id'),\n",
    "                      func.col('associated_institutions.display_name').alias('parent_name'),\n",
    "                      func.col('associated_institutions.type').alias('parent_type'))\n",
    "             , on = 'inst_id', how = 'left')\n",
    "        .join(df_inst\n",
    "              .select(func.regexp_replace(func.col('id'), 'https://openalex.org/', '').alias('inst_id'),\n",
    "                      'display_name','type')\n",
    "              \n",
    "             , on = 'inst_id', how = 'left')\n",
    "       )\n",
    "inst.cache()\n",
    "inst.show()"
   ]
  },
  {
   "cell_type": "code",
   "execution_count": 8,
   "id": "ac862e4c-853e-48aa-bd01-6b1a4540ee3a",
   "metadata": {},
   "outputs": [
    {
     "name": "stdout",
     "output_type": "stream",
     "text": [
      "+----------+----+-----+\n",
      "|has_parent|  fr|count|\n",
      "+----------+----+-----+\n",
      "|         1|   0|10456|\n",
      "|         1|   1| 3961|\n",
      "|         0|   0|45151|\n",
      "|         0|   1| 1918|\n",
      "|         0|NULL|   17|\n",
      "+----------+----+-----+\n",
      "\n"
     ]
    }
   ],
   "source": [
    "inst.groupBy(func.col('parent_id').isNotNull().cast('int').alias('has_parent'), (func.col('country')=='FR').cast('int').alias('fr')).count().show()"
   ]
  },
  {
   "cell_type": "code",
   "execution_count": 9,
   "id": "a2e18f0c-c33f-43be-8b02-f01952d81698",
   "metadata": {
    "scrolled": true
   },
   "outputs": [
    {
     "data": {
      "text/plain": [
       "[Row(inst_id='I4210102325', country='FR', parent_id='https://openalex.org/I4210120235', parent_name='Hôpitaux Universitaires Paris-Ouest', parent_type='healthcare', display_name='Hôpital Européen Georges-Pompidou', type='healthcare'),\n",
       " Row(inst_id='I4210157127', country='FR', parent_id='https://openalex.org/I4210145324', parent_name='Hôpitaux Universitaires de Strasbourg', parent_type='healthcare', display_name=\"Hôpital d'Hautepierre\", type='healthcare'),\n",
       " Row(inst_id='I4210132604', country='FR', parent_id='https://openalex.org/I4210161065', parent_name='Laboratory of Medical Information Processing', parent_type='facility', display_name='Centre Hospitalier Régional Universitaire de Brest', type='healthcare'),\n",
       " Row(inst_id='I4210119916', country='FR', parent_id='https://openalex.org/I4647051', parent_name='University of Picardie Jules Verne', parent_type='education', display_name='Ecology and Dynamics of Human Influenced Systems', type='facility'),\n",
       " Row(inst_id='I4210119916', country='FR', parent_id='https://openalex.org/I4210107625', parent_name='Institut Écologie et Environnement', parent_type='government', display_name='Ecology and Dynamics of Human Influenced Systems', type='facility'),\n",
       " Row(inst_id='I4210091490', country='FR', parent_id='https://openalex.org/I102197404', parent_name='University of Paris-Sud', parent_type='education', display_name='Écologie, Systématique et Évolution', type='facility'),\n",
       " Row(inst_id='I4210091490', country='FR', parent_id='https://openalex.org/I4210107625', parent_name='Institut Écologie et Environnement', parent_type='government', display_name='Écologie, Systématique et Évolution', type='facility'),\n",
       " Row(inst_id='I4210091490', country='FR', parent_id='https://openalex.org/I22248866', parent_name='Agro ParisTech', parent_type='education', display_name='Écologie, Systématique et Évolution', type='facility'),\n",
       " Row(inst_id='I4210146089', country='FR', parent_id='https://openalex.org/I15057530', parent_name='University of Bordeaux', parent_type='education', display_name='Biotherapy of Genetic Diseases, Inflammatory Disorders and Cancers', type='facility'),\n",
       " Row(inst_id='I4210146089', country='FR', parent_id='https://openalex.org/I4210126109', parent_name='Conseil Régional de Nouvelle-Aquitaine', parent_type='government', display_name='Biotherapy of Genetic Diseases, Inflammatory Disorders and Cancers', type='facility'),\n",
       " Row(inst_id='I4210128980', country='FR', parent_id='https://openalex.org/I4210114638', parent_name='Max Weber Stiftung - Deutsche Geisteswissenschaftliche Institute im Ausland', parent_type='government', display_name='Deutsches Historisches Institut Paris', type='government'),\n",
       " Row(inst_id='I3019441195', country='FR', parent_id='https://openalex.org/I102197404', parent_name='University of Paris-Sud', parent_type='education', display_name='Département de Mathématiques', type='facility'),\n",
       " Row(inst_id='I3019441195', country='FR', parent_id='https://openalex.org/I4210141950', parent_name='Institut National des Sciences Mathématiques et de leurs Interactions', parent_type='government', display_name='Département de Mathématiques', type='facility'),\n",
       " Row(inst_id='I3019441195', country='FR', parent_id='https://openalex.org/I1326498283', parent_name='French Institute for Research in Computer Science and Automation', parent_type='government', display_name='Département de Mathématiques', type='facility'),\n",
       " Row(inst_id='I4210127056', country='FR', parent_id='https://openalex.org/I204730241', parent_name='Université Paris Cité', parent_type='education', display_name='Laboratoire Matière et Systèmes Complexes', type='facility'),\n",
       " Row(inst_id='I4210127056', country='FR', parent_id='https://openalex.org/I4210095849', parent_name=\"Institut des Sciences de l'Ingénierie et des Systèmes\", parent_type='government', display_name='Laboratoire Matière et Systèmes Complexes', type='facility'),\n",
       " Row(inst_id='I4210098964', country='FR', parent_id='https://openalex.org/I134560555', parent_name='Université Toulouse III - Paul Sabatier', parent_type='education', display_name='Toulouse Mathematics Institute', type='facility'),\n",
       " Row(inst_id='I4210098964', country='FR', parent_id='https://openalex.org/I4210152422', parent_name='Université Toulouse - Jean Jaurès', parent_type='education', display_name='Toulouse Mathematics Institute', type='facility'),\n",
       " Row(inst_id='I4210098964', country='FR', parent_id='https://openalex.org/I3131550300', parent_name='Toulouse 1 Capitole University', parent_type='education', display_name='Toulouse Mathematics Institute', type='facility'),\n",
       " Row(inst_id='I4210098964', country='FR', parent_id='https://openalex.org/I4210141950', parent_name='Institut National des Sciences Mathématiques et de leurs Interactions', parent_type='government', display_name='Toulouse Mathematics Institute', type='facility')]"
      ]
     },
     "execution_count": 9,
     "metadata": {},
     "output_type": "execute_result"
    }
   ],
   "source": [
    "(inst\n",
    " .filter( (func.col('country')=='FR')\n",
    "         & (func.col('parent_id').isNotNull())\n",
    "        )\n",
    ").limit(20).collect()"
   ]
  },
  {
   "cell_type": "code",
   "execution_count": 10,
   "id": "345d123f-d5e5-41e3-b8eb-3adc51f69f0b",
   "metadata": {},
   "outputs": [],
   "source": [
    "au_inst_period_winst = (au_inst_period\n",
    "                  .join(inst.drop('country')\n",
    "                        .withColumn('parent_id', func.regexp_replace(func.col('parent_id'), 'https://openalex.org/',''))\n",
    "                        , on = 'inst_id', how = 'left')\n",
    "                .withColumn('parent_id', func.when(func.col('parent_id').isNull(), func.col('inst_id')).otherwise(func.col('parent_id')))\n",
    "                .withColumn('parent_name', func.when(func.col('parent_id').isNull(), func.col('display_name')).otherwise(func.col('parent_name')))\n",
    "                .withColumn('parent_type', func.when(func.col('parent_id').isNull(), func.col('type')).otherwise(func.col('parent_type')))\n",
    "                 )\n"
   ]
  },
  {
   "cell_type": "code",
   "execution_count": 11,
   "id": "6fc6fdb5-101d-4d27-83f9-45174da03415",
   "metadata": {
    "scrolled": true
   },
   "outputs": [
    {
     "name": "stdout",
     "output_type": "stream",
     "text": [
      "+-----------+-----------+----+----------+---------+-----------+------------+-------+----------------+-------------+------------------+-------------------+----------------+-----------------------+------------------+------------------+--------------------------+-----------------------+------------------------------+-------------------------+-------------------------+-----------+------------------+-------------------+--------+--------------------+-------------------+--------------------+------------+-------------------+--------------------+--------------+----------------------+-------------------+--------------------------+---------------------+---------------------+-----------+--------------------+-----------+--------------------+----------+\n",
      "|    inst_id|  author_id|year|entry_year|last_year|all_y_in_FR|years_abroad|country|publications_raw|citations_raw|     rank_by_field|nr_type_article_raw|nr_type_book_raw|nr_type_book-series_raw|nr_language_en_raw|nr_language_fr_raw|citations_type_article_raw|citations_type_book_raw|citations_type_book-series_raw|citations_language_en_raw|citations_language_fr_raw|period_inst|last_y_inst_period|first_y_inst_period|n_inst_y|        publications|          citations|     nr_type_article|nr_type_book|nr_type_book-series|      nr_language_en|nr_language_fr|citations_type_article|citations_type_book|citations_type_book-series|citations_language_en|citations_language_fr|  parent_id|         parent_name|parent_type|        display_name|      type|\n",
      "+-----------+-----------+----+----------+---------+-----------+------------+-------+----------------+-------------+------------------+-------------------+----------------+-----------------------+------------------+------------------+--------------------------+-----------------------+------------------------------+-------------------------+-------------------------+-----------+------------------+-------------------+--------+--------------------+-------------------+--------------------+------------+-------------------+--------------------+--------------+----------------------+-------------------+--------------------------+---------------------+---------------------+-----------+--------------------+-----------+--------------------+----------+\n",
      "| I154526488|A5000035181|2000|      1996|     2023|         27|           1|     FR|               1|            0|               0.0|                  1|               0|                      0|                 1|                 0|                         0|                      0|                             0|                        0|                        0|          2|              2023|               1998|       1|                 1.0|                0.0|                 1.0|         0.0|                0.0|                 1.0|           0.0|                   0.0|                0.0|                       0.0|                  0.0|                  0.0| I154526488|                NULL|       NULL|              Inserm|government|\n",
      "|I4210159015|A5000044881|2000|      1971|     2023|          1|          22|     US|               3|          166|57.100394297126634|                  3|               0|                      0|                 3|                 0|                       166|                      0|                             0|                      166|                        0|          1|              2002|               1999|       1|                 3.0|              166.0|                 3.0|         0.0|                0.0|                 3.0|           0.0|                 166.0|                0.0|                       0.0|                166.0|                  0.0|I4210159015|                NULL|       NULL|Southwest Autism ...| nonprofit|\n",
      "| I204722609|A5000124118|2000|      1984|     2009|          1|           4|     CA|               1|            2|  49.6366690491441|                  1|               0|                      0|                 1|                 0|                         2|                      0|                             0|                        2|                        0|          1|              2001|               2000|       1|                 1.0|                2.0|                 1.0|         0.0|                0.0|                 1.0|           0.0|                   2.0|                0.0|                       0.0|                  2.0|                  0.0| I204722609|                NULL|       NULL|  Queen's University| education|\n",
      "|I4210126653|A5000273290|2000|      2000|     2023|          1|          20|     CN|               1|            0|               0.0|                  1|               0|                      0|                 1|                 0|                         0|                      0|                             0|                        0|                        0|          1|              2000|               2000|       2|                 0.5|                0.0|                 0.5|         0.0|                0.0|                 0.5|           0.0|                   0.0|                0.0|                       0.0|                  0.0|                  0.0|I4210126653|                NULL|       NULL|Shaanxi Research ...| nonprofit|\n",
      "|   I9224756|A5000273290|2000|      2000|     2023|          1|          20|     CN|               1|            8| 68.57082583868508|                  1|               0|                      0|                 1|                 0|                         8|                      0|                             0|                        8|                        0|          1|              2000|               2000|       2|                 0.5|                4.0|                 0.5|         0.0|                0.0|                 0.5|           0.0|                   4.0|                0.0|                       0.0|                  4.0|                  0.0|   I9224756|                NULL|       NULL|Northeastern Univ...| education|\n",
      "|I4210101212|A5000345996|2000|      1988|     2023|         32|           2|     FR|               1|           56| 84.29917967584791|                  1|               0|                      0|                 1|                 0|                        56|                      0|                             0|                       56|                        0|          1|              2000|               1999|       2|                 0.5|               28.0|                 0.5|         0.0|                0.0|                 0.5|           0.0|                  28.0|                0.0|                       0.0|                 28.0|                  0.0|I3018718406|Centre Hospitalie...| healthcare|Hôpital Roger Sal...|healthcare|\n",
      "|I3018718406|A5000345996|2000|      1988|     2023|         32|           2|     FR|               1|           56| 84.29917967584791|                  1|               0|                      0|                 1|                 0|                        56|                      0|                             0|                       56|                        0|          2|              2001|               1999|       2|                 0.5|               28.0|                 0.5|         0.0|                0.0|                 0.5|           0.0|                  28.0|                0.0|                       0.0|                 28.0|                  0.0|I3018718406|                NULL|       NULL|Centre Hospitalie...|healthcare|\n",
      "| I193662353|A5000418012|2000|      1976|     2023|          4|          36|     NL|               9|          462| 72.00944503907124|                  9|               0|                      0|                 9|                 0|                       462|                      0|                             0|                      462|                        0|          1|              2023|               1999|       4|                2.25|              115.5|                2.25|         0.0|                0.0|                2.25|           0.0|                 115.5|                0.0|                       0.0|                115.5|                  0.0| I193662353|                NULL|       NULL|  Utrecht University| education|\n",
      "|I4210111138|A5000418012|2000|      1976|     2023|          4|          36|     NL|               2|           66| 73.49523271704771|                  2|               0|                      0|                 2|                 0|                        66|                      0|                             0|                       66|                        0|          1|              2001|               2000|       4|                 0.5|               16.5|                 0.5|         0.0|                0.0|                 0.5|           0.0|                  16.5|                0.0|                       0.0|                 16.5|                  0.0|I4210111138|                NULL|       NULL|    Oncode Institute| education|\n",
      "|I4210124352|A5000418012|2000|      1976|     2023|          4|          36|     NL|              14|          600| 66.18709112077484|                 14|               0|                      0|                14|                 0|                       600|                      0|                             0|                      600|                        0|          1|              2023|               1997|       4|                 3.5|              150.0|                 3.5|         0.0|                0.0|                 3.5|           0.0|                 150.0|                0.0|                       0.0|                150.0|                  0.0|I4210124352|                NULL|       NULL|Netherlands Cance...|healthcare|\n",
      "|I2802065108|A5000418012|2000|      1976|     2023|          4|          36|     NL|               1|           52| 88.43462660019377|                  1|               0|                      0|                 1|                 0|                        52|                      0|                             0|                       52|                        0|          2|              2017|               2000|       4|                0.25|               13.0|                0.25|         0.0|                0.0|                0.25|           0.0|                  13.0|                0.0|                       0.0|                 13.0|                  0.0|I2802065108|                NULL|       NULL|Slotervaartzieken...|healthcare|\n",
      "| I113992204|A5000432967|2000|      1956|     2024|         22|          48|     CN|               1|            0|               0.0|                  1|               0|                      0|                 1|                 0|                         0|                      0|                             0|                        0|                        0|          1|              2000|               2000|      67|0.014925373134328358|                0.0|0.014925373134328358|         0.0|                0.0|0.014925373134328358|           0.0|                   0.0|                0.0|                       0.0|                  0.0|                  0.0| I113992204|                NULL|       NULL|Hebei University ...| education|\n",
      "| I118118575|A5000432967|2000|      1956|     2024|         22|          48|     US|               1|           77| 89.79045251356821|                  1|               0|                      0|                 1|                 0|                        77|                      0|                             0|                       77|                        0|          1|              2000|               2000|      67|0.014925373134328358| 1.1492537313432836|0.014925373134328358|         0.0|                0.0|0.014925373134328358|           0.0|    1.1492537313432836|                0.0|                       0.0|   1.1492537313432836|                  0.0| I118118575|                NULL|       NULL|New Jersey Instit...| education|\n",
      "|I1283280774|A5000432967|2000|      1956|     2024|         22|          48|     US|               1|          680| 99.35933670042482|                  1|               0|                      0|                 1|                 0|                       680|                      0|                             0|                      680|                        0|          1|              2000|               1999|      67|0.014925373134328358| 10.149253731343284|0.014925373134328358|         0.0|                0.0|0.014925373134328358|           0.0|    10.149253731343284|                0.0|                       0.0|   10.149253731343284|                  0.0|  I48633490|Mass General Brigham| healthcare|Brigham and Women...|healthcare|\n",
      "|I1292894508|A5000432967|2000|      1956|     2024|         22|          48|     US|               3|          217|  72.9452929209225|                  3|               0|                      0|                 3|                 0|                       217|                      0|                             0|                      217|                        0|          1|              2004|               1999|      67| 0.04477611940298507| 3.2388059701492535| 0.04477611940298507|         0.0|                0.0| 0.04477611940298507|           0.0|    3.2388059701492535|                0.0|                       0.0|   3.2388059701492535|                  0.0|I1292894508|                NULL|       NULL|Roswell Park Canc...|  facility|\n",
      "| I130701444|A5000432967|2000|      1956|     2024|         22|          48|     US|               1|           19| 74.36085249370889|                  1|               0|                      0|                 1|                 0|                        19|                      0|                             0|                       19|                        0|          1|              2000|               1999|      67|0.014925373134328358| 0.2835820895522388|0.014925373134328358|         0.0|                0.0|0.014925373134328358|           0.0|    0.2835820895522388|                0.0|                       0.0|   0.2835820895522388|                  0.0|I1289702989|University System...|  education|Georgia Institute...| education|\n",
      "|I1316535847|A5000432967|2000|      1956|     2024|         22|          48|     US|               1|            0|               0.0|                  1|               0|                      0|                 1|                 0|                         0|                      0|                             0|                        0|                        0|          1|              2000|               2000|      67|0.014925373134328358|                0.0|0.014925373134328358|         0.0|                0.0|0.014925373134328358|           0.0|                   0.0|                0.0|                       0.0|                  0.0|                  0.0|I1316535847|                NULL|       NULL|Beth Israel Deaco...|healthcare|\n",
      "|I1316910977|A5000432967|2000|      1956|     2024|         22|          48|     US|               1|           23|  70.6087979380217|                  1|               0|                      0|                 1|                 0|                        23|                      0|                             0|                       23|                        0|          1|              2000|               2000|      67|0.014925373134328358|0.34328358208955223|0.014925373134328358|         0.0|                0.0|0.014925373134328358|           0.0|   0.34328358208955223|                0.0|                       0.0|  0.34328358208955223|                  0.0|I1316910977|                NULL|       NULL|DuPont (United St...|   company|\n",
      "|  I14243506|A5000432967|2000|      1956|     2024|         22|          48|     CN|               1|            5|61.775727172424105|                  1|               0|                      0|                 1|                 0|                         5|                      0|                             0|                        5|                        0|          1|              2000|               2000|      67|0.014925373134328358|0.07462686567164178|0.014925373134328358|         0.0|                0.0|0.014925373134328358|           0.0|   0.07462686567164178|                0.0|                       0.0|  0.07462686567164178|                  0.0|  I14243506|                NULL|       NULL|Hong Kong Polytec...| education|\n",
      "| I143593769|A5000432967|2000|      1956|     2024|         22|          48|     CN|               1|           36|  78.6616626482127|                  1|               0|                      0|                 1|                 0|                        36|                      0|                             0|                       36|                        0|          1|              2000|               2000|      67|0.014925373134328358| 0.5373134328358209|0.014925373134328358|         0.0|                0.0|0.014925373134328358|           0.0|    0.5373134328358209|                0.0|                       0.0|   0.5373134328358209|                  0.0| I143593769|                NULL|       NULL|East China Univer...| education|\n",
      "+-----------+-----------+----+----------+---------+-----------+------------+-------+----------------+-------------+------------------+-------------------+----------------+-----------------------+------------------+------------------+--------------------------+-----------------------+------------------------------+-------------------------+-------------------------+-----------+------------------+-------------------+--------+--------------------+-------------------+--------------------+------------+-------------------+--------------------+--------------+----------------------+-------------------+--------------------------+---------------------+---------------------+-----------+--------------------+-----------+--------------------+----------+\n",
      "only showing top 20 rows\n",
      "\n"
     ]
    }
   ],
   "source": [
    "au_inst_period_winst.show()"
   ]
  },
  {
   "cell_type": "code",
   "execution_count": 12,
   "id": "8a2efdda-47ae-4ea9-8152-4d5007f32438",
   "metadata": {},
   "outputs": [],
   "source": [
    "au_inst_period_winst.write.mode('overwrite').parquet('file:\\\\' + save_path + 'panel_non_sphericised_inst.parquet')"
   ]
  },
  {
   "cell_type": "code",
   "execution_count": null,
   "id": "2bc483d7-cc13-4384-8605-56ae7700f6a0",
   "metadata": {},
   "outputs": [],
   "source": []
  }
 ],
 "metadata": {
  "kernelspec": {
   "display_name": "Python 3 (ipykernel)",
   "language": "python",
   "name": "python3"
  },
  "language_info": {
   "codemirror_mode": {
    "name": "ipython",
    "version": 3
   },
   "file_extension": ".py",
   "mimetype": "text/x-python",
   "name": "python",
   "nbconvert_exporter": "python",
   "pygments_lexer": "ipython3",
   "version": "3.11.9"
  }
 },
 "nbformat": 4,
 "nbformat_minor": 5
}
