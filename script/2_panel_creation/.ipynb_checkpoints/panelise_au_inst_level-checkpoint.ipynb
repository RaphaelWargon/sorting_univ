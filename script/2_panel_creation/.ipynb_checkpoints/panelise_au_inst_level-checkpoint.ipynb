{
 "cells": [
  {
   "cell_type": "code",
   "execution_count": 28,
   "id": "d1087cf4-87a6-42de-98a9-cdd1276aeced",
   "metadata": {},
   "outputs": [
    {
     "name": "stdout",
     "output_type": "stream",
     "text": [
      "C:\\Users\\raphael.wargon\\Documents\\GitHub\\sorting_univ\\script/headers/\n",
      "default\n",
      "initalizing spark nlp session w gpu\n"
     ]
    }
   ],
   "source": [
    "import os\n",
    "base_path = os.path.dirname(os.path.abspath(\"\"))\n",
    "base_path = base_path + \"/headers/\"\n",
    "print(base_path)\n",
    "header_path = base_path + 'header_data_treatment.ipynb'\n",
    "%run $header_path"
   ]
  },
  {
   "cell_type": "code",
   "execution_count": 29,
   "id": "d96cef8c-d495-4fe6-9b86-2e477829fe8d",
   "metadata": {},
   "outputs": [
    {
     "data": {
      "text/plain": [
       "'E:\\\\scanR'"
      ]
     },
     "execution_count": 29,
     "metadata": {},
     "output_type": "execute_result"
    }
   ],
   "source": [
    "scanR_path "
   ]
  },
  {
   "cell_type": "code",
   "execution_count": 30,
   "id": "e3b5f207-383f-43a2-9244-6f9300afa33c",
   "metadata": {
    "scrolled": true
   },
   "outputs": [],
   "source": [
    "works_au_af = (spark.read.format('parquet').load('file:\\\\' + main_path_openalex + 'works_au_af.parquet')\n",
    "               .filter( func.col('publication_year').between(1950,2020) )\n",
    "              )"
   ]
  },
  {
   "cell_type": "code",
   "execution_count": 31,
   "id": "ab07751b-acca-49ab-95d2-9ee9c152b688",
   "metadata": {},
   "outputs": [],
   "source": [
    "df_authors = (spark.read.format('parquet').load('file:\\\\' + main_path_openalex + 'authors.parquet')\n",
    "              )"
   ]
  },
  {
   "cell_type": "code",
   "execution_count": null,
   "id": "f9b6966e-664d-4c39-84a7-21f328b921f3",
   "metadata": {},
   "outputs": [],
   "source": [
    "journals_ranking = (spark.read.format('parquet').load('file:\\\\' + main_path_openalex + 'journals_ranking_year.parquet')\n",
    "                    .withColumn('source_id', func.regexp_replace(func.col('source_id'), 'https://openalex.org/', ''))\n",
    "                   )\n",
    "journals_ranking.show()"
   ]
  },
  {
   "cell_type": "code",
   "execution_count": 32,
   "id": "e93357bb-fc6b-42c6-9a31-8be77b04e1c8",
   "metadata": {},
   "outputs": [],
   "source": [
    "#df_au_scanR = spark.read.format('parquet').load('file:\\\\' + scanR_path + '\\\\authors.parquet')"
   ]
  },
  {
   "cell_type": "markdown",
   "id": "13a00b86-3438-4339-b0e6-0c1a7a1bed8a",
   "metadata": {},
   "source": [
    "# Build set of French authors"
   ]
  },
  {
   "cell_type": "code",
   "execution_count": 33,
   "id": "f91af47e-17c8-4bed-8d54-d389c52cbb8a",
   "metadata": {},
   "outputs": [],
   "source": [
    "inst = spark.read.parquet('file:\\\\' + save_path + 'inst_fr.parquet')"
   ]
  },
  {
   "cell_type": "code",
   "execution_count": 34,
   "id": "73de1a77-c570-45a3-ad6f-9eb5af91a198",
   "metadata": {
    "scrolled": true
   },
   "outputs": [
    {
     "name": "stdout",
     "output_type": "stream",
     "text": [
      "+-----------+----------------------------------------------------+--------+---------+---------------------------+-------------------------------+----------------+--------------------------------------------------------------------------------------------------------------------------------------------------------------------------------------------+-------+----+----+-------------------+----------+-------+---------+---------------+-----------+--------------+\n",
      "|inst_id    |name                                                |type    |city     |homepage_url               |topic_share                    |main_topic      |parent                                                                                                                                                                                      |uni_pub|cnrs|idex|total_idex_dotation|type_fr   |secteur|acces_rce|date_first_idex|fusion_date|merged_inst_id|\n",
      "+-----------+----------------------------------------------------+--------+---------+---------------------------+-------------------------------+----------------+--------------------------------------------------------------------------------------------------------------------------------------------------------------------------------------------+-------+----+----+-------------------+----------+-------+---------+---------------+-----------+--------------+\n",
      "|I4210115196|Laboratoire d’Informatique Fondamentale de Marseille|facility|Marseille|http://www.lif.univ-mrs.fr/|[{Computer Science, 0.0168505}]|Computer Science|[{I21491767, Aix-Marseille Université, education}, {I4210142724, Centrale Marseille, education}, {I4210159245, Institut des Sciences de l'Information et de leurs Interactions, government}]|1      |1   |NULL|NULL               |Université|public |2009     |2012           |2011       |I21491767     |\n",
      "+-----------+----------------------------------------------------+--------+---------+---------------------------+-------------------------------+----------------+--------------------------------------------------------------------------------------------------------------------------------------------------------------------------------------------+-------+----+----+-------------------+----------+-------+---------+---------------+-----------+--------------+\n",
      "\n"
     ]
    }
   ],
   "source": [
    "inst.filter(func.col('inst_id').contains('I4210115196')).show(truncate  = False)"
   ]
  },
  {
   "cell_type": "code",
   "execution_count": 7,
   "id": "d2adc812-1cb0-4ee9-a477-96cd4660e791",
   "metadata": {},
   "outputs": [
    {
     "name": "stdout",
     "output_type": "stream",
     "text": [
      "+----------+--------------------+---------+--------------------+--------------------+--------------------+---------------+--------------------+-------+----+---------+----+---------------+-------------------+-------------+-----------+-------------------+-------+\n",
      "|   inst_id|                name|     type|                city|        homepage_url|         topic_share|     main_topic|              parent|uni_pub|cnrs|acces_rce|idex|date_first_idex|total_idex_dotation|fused_inst_id|fusion_date|            type_fr|secteur|\n",
      "+----------+--------------------+---------+--------------------+--------------------+--------------------+---------------+--------------------+-------+----+---------+----+---------------+-------------------+-------------+-----------+-------------------+-------+\n",
      "|I118618916|Université Pierre...|education|Saint-Martin-d'Hères|http://www.upmf-g...|[{Social Sciences...|Social Sciences|[{I899635006, Uni...|      1|   0|     2011|NULL|           NULL|               NULL|   I899635006|       2016|Grand établissement| public|\n",
      "+----------+--------------------+---------+--------------------+--------------------+--------------------+---------------+--------------------+-------+----+---------+----+---------------+-------------------+-------------+-----------+-------------------+-------+\n",
      "\n"
     ]
    }
   ],
   "source": [
    "inst.filter(func.col('inst_id')==\"I118618916\").show()"
   ]
  },
  {
   "cell_type": "code",
   "execution_count": 8,
   "id": "1e60686a-2ceb-41ce-a1e3-2b3ef700de26",
   "metadata": {},
   "outputs": [],
   "source": [
    "set_french_authors = (works_au_af\n",
    "                      .filter(func.col('publication_year').between(1997,2020))\n",
    "                     # .withColumn('inst_id', func.when(func.col('inst_id')=='I118618916',  \"I899635006\")\n",
    "                     #                            .when(func.col('inst_id')==\"I36085230\",  \"I899635006\")\n",
    "                     #                            .when(func.col('inst_id')==\"I177483745\",  \"I899635006\")\n",
    "                     #                            .when(func.col('inst_id')==\"I4210103002\", \"I198244214\")\n",
    "                     #                            .when(func.col('inst_id')==\"I4210143836\", \"I198244214\")\n",
    "                     #                            .when(func.col('inst_id')==\"I184646667\",  \"I39804081\")\n",
    "                     #                            .when(func.col('inst_id')==\"I102197404\",  \"I277688954\")\n",
    "                     #                            .when(func.col('inst_id')=='I7171862',  \"I2279609970\")\n",
    "                     #                            .when(func.col('inst_id')==\"I59807433\",  \"I2279609970\")\n",
    "                     #                            .when(func.col('inst_id')==\"I2800379142\", \"I4210154111\") \n",
    "                     #                            .when(func.col('inst_id')==\"I3123023596\",\"I56067802\")\n",
    "                     #                            .when(func.col('inst_id')==\"I4210095130\",\"I208215962\")\n",
    "                     #                            .otherwise(func.col('inst_id')))\n",
    "                      .join(inst.select('inst_id', func.lit(1).alias('in_inst_dataset')), on =['inst_id'], how = 'left')\n",
    "                      .fillna(0, subset = ['in_inst_dataset'])\n",
    "                      .filter( (func.col('country')=='FR') | (func.col('in_inst_dataset')==1))\n",
    "                      .groupBy('author_id')\n",
    "                      .agg(func.max('publication_year').alias('last_year'),\n",
    "                           func.min('publication_year').alias('entry_year'),\n",
    "                           func.countDistinct('work_id').alias('n_pub_in_FR'),\n",
    "                           func.countDistinct('publication_year').alias('n_y_in_FR')\n",
    "                          )\n",
    "                      .filter( ~(func.col('last_year')==func.col('entry_year'))\n",
    "                               & (func.col('n_y_in_FR')>2)\n",
    "                               & (func.col('n_pub_in_FR')>2)\n",
    "                             )\n",
    "                     )\n",
    "#set_french_authors.cache()\n",
    "#set_french_authors.count()"
   ]
  },
  {
   "cell_type": "code",
   "execution_count": null,
   "id": "49a84384-553d-42f9-a75a-b3d28891b1b6",
   "metadata": {
    "scrolled": true
   },
   "outputs": [],
   "source": [
    "(set_french_authors.filter(func.col('author_id')==\"A5084984675\")\n",
    "                      .join(works_au_af, on = ['author_id'], how = 'left')).show()"
   ]
  },
  {
   "cell_type": "code",
   "execution_count": 9,
   "id": "de0df412-8783-4fda-8eb1-91866b4a1cfb",
   "metadata": {
    "scrolled": true
   },
   "outputs": [
    {
     "name": "stdout",
     "output_type": "stream",
     "text": [
      "+-----------+---------+----------+-----------+---------+\n",
      "|  author_id|last_year|entry_year|n_pub_in_FR|n_y_in_FR|\n",
      "+-----------+---------+----------+-----------+---------+\n",
      "|A5081892619|     2010|      2002|         11|        5|\n",
      "|A5079653947|     2020|      2006|         56|       13|\n",
      "|A5105641933|     2020|      1998|        183|       23|\n",
      "|A5007411109|     2020|      1997|       1138|       24|\n",
      "|A5027058032|     2020|      2003|        146|       16|\n",
      "|A5053414030|     2006|      1997|         10|        7|\n",
      "|A5028937897|     2020|      1998|        273|       22|\n",
      "|A5008496995|     2020|      2003|         40|       13|\n",
      "|A5028912390|     2020|      2001|         66|       18|\n",
      "|A5061749308|     2020|      1997|        133|       23|\n",
      "|A5087508730|     2020|      2002|         26|       13|\n",
      "|A5019424031|     2020|      1999|         76|       17|\n",
      "|A5039654491|     2017|      2011|          3|        3|\n",
      "|A5089185306|     2020|      1999|        112|       21|\n",
      "|A5019988390|     2020|      1997|        188|       23|\n",
      "|A5102854655|     2020|      1998|         50|       17|\n",
      "|A5029275729|     2020|      2005|         42|       15|\n",
      "|A5027800053|     2015|      1997|         25|        9|\n",
      "|A5068176411|     2020|      2004|         21|       10|\n",
      "|A5076187430|     2020|      1997|        107|       20|\n",
      "+-----------+---------+----------+-----------+---------+\n",
      "only showing top 20 rows\n",
      "\n"
     ]
    }
   ],
   "source": [
    "set_french_authors.show()"
   ]
  },
  {
   "cell_type": "code",
   "execution_count": 9,
   "id": "89ffafe4-730c-4b07-9bd9-962f30c07b43",
   "metadata": {},
   "outputs": [],
   "source": [
    "set_french_authors.write.mode('overwrite').parquet('file:\\\\' + save_path + 'set_french_authors.parquet')"
   ]
  },
  {
   "cell_type": "markdown",
   "id": "98d2063a-8135-4055-a8ec-f5a8db68c905",
   "metadata": {},
   "source": [
    "# Load set of French authors"
   ]
  },
  {
   "cell_type": "code",
   "execution_count": 8,
   "id": "98deaa35-5539-45bc-8a0d-b9de59a449c9",
   "metadata": {},
   "outputs": [
    {
     "data": {
      "text/plain": [
       "382548"
      ]
     },
     "execution_count": 8,
     "metadata": {},
     "output_type": "execute_result"
    }
   ],
   "source": [
    "set_french_authors = spark.read.parquet('file:\\\\' + save_path + 'set_french_authors.parquet')\n",
    "set_french_authors.count()"
   ]
  },
  {
   "cell_type": "code",
   "execution_count": 7,
   "id": "aa5e02c9-2b14-4dae-8ffc-174be26b41fd",
   "metadata": {
    "scrolled": true
   },
   "outputs": [
    {
     "name": "stdout",
     "output_type": "stream",
     "text": [
      "+-----------+---------+----------+-----------+---------+-----------+----------------+--------+-----------+--------------------+---------+\n",
      "|  author_id|last_year|entry_year|n_pub_in_FR|n_y_in_FR|    inst_id|publication_year|language|  source_id|       primary_topic|citations|\n",
      "+-----------+---------+----------+-----------+---------+-----------+----------------+--------+-----------+--------------------+---------+\n",
      "|A5000157973|     2020|      2003|         80|       16|I1294671590|            2018|      en|S4306402512|{https://openalex...|        1|\n",
      "|A5000157973|     2020|      2003|         80|       16|I4210149539|            2020|      fr|S4306402512|{https://openalex...|        0|\n",
      "|A5000157973|     2020|      2003|         80|       16|I4210149539|            2020|      fr|S4306402512|{https://openalex...|        0|\n",
      "|A5000157973|     2020|      2003|         80|       16|       NULL|            2019|      fr|S2738823100|{https://openalex...|        1|\n",
      "|A5000157973|     2020|      2003|         80|       16|  I90669466|            2013|      fr|S4306462853|{https://openalex...|        2|\n",
      "|A5000157973|     2020|      2003|         80|       16|I4210149539|            2019|      fr|S4306402512|{https://openalex...|        0|\n",
      "|A5000157973|     2020|      2003|         80|       16|       NULL|            2003|      fr|S4210195010|{https://openalex...|       10|\n",
      "|A5000157973|     2020|      2003|         80|       16|       NULL|            2019|      fr|S4306402512|                NULL|        0|\n",
      "|A5000157973|     2020|      2003|         80|       16|I4210149539|            2020|      en|S4306402512|{https://openalex...|        0|\n",
      "|A5000157973|     2020|      2003|         80|       16|       NULL|            2004|      fr|S4306463685|{https://openalex...|        8|\n",
      "|A5000157973|     2020|      2003|         80|       16|I1294671590|            2019|      fr|S4306402512|{https://openalex...|        0|\n",
      "|A5000157973|     2020|      2003|         80|       16|I1294671590|            2016|      en|S2764381542|{https://openalex...|        9|\n",
      "|A5000157973|     2020|      2003|         80|       16|I4210149539|            2020|      fr|S4306402512|                NULL|        0|\n",
      "|A5000157973|     2020|      2003|         80|       16|I4210149539|            2019|      fr|S4210195010|{https://openalex...|        0|\n",
      "|A5000157973|     2020|      2003|         80|       16|       NULL|            2010|      fr|       NULL|                NULL|        0|\n",
      "|A5000157973|     2020|      2003|         80|       16|I1294671590|            2016|      en|S4306402512|{https://openalex...|        0|\n",
      "|A5000157973|     2020|      2003|         80|       16|I1294671590|            2018|      en|S4306402512|{https://openalex...|       10|\n",
      "|A5000157973|     2020|      2003|         80|       16|I1294671590|            2017|      fr|S4306402512|{https://openalex...|        0|\n",
      "|A5000157973|     2020|      2003|         80|       16|I1294671590|            2017|      fr|S4210215085|{https://openalex...|        6|\n",
      "|A5000157973|     2020|      2003|         80|       16| I187986737|            2020|      fr|       NULL|{https://openalex...|        4|\n",
      "+-----------+---------+----------+-----------+---------+-----------+----------------+--------+-----------+--------------------+---------+\n",
      "only showing top 20 rows\n",
      "\n"
     ]
    }
   ],
   "source": [
    "works_au_af_subset = (set_french_authors\n",
    "                      .join(works_au_af.select('author_id', 'inst_id', 'publication_year', 'language', 'source_id','primary_topic', 'citations','country', on = ['author_id'], how = 'left')\n",
    "                     )\n",
    "works_au_af_subset.cache()\n",
    "\n",
    "works_au_af_subset.show()"
   ]
  },
  {
   "cell_type": "markdown",
   "id": "699c788b-eb85-4207-a79c-8bb6aaaf255f",
   "metadata": {},
   "source": [
    "# Build author-level characteristics\n"
   ]
  },
  {
   "cell_type": "code",
   "execution_count": 10,
   "id": "4c03661b-5d99-4261-95de-0b833d0c8443",
   "metadata": {
    "scrolled": true
   },
   "outputs": [
    {
     "name": "stdout",
     "output_type": "stream",
     "text": [
      "+-----------+----------+---------+-----------+------------+\n",
      "|  author_id|entry_year|last_year|all_y_in_FR|years_abroad|\n",
      "+-----------+----------+---------+-----------+------------+\n",
      "|A5000157973|      1997|     2020|         16|          16|\n",
      "|A5000320773|      2016|     2019|          4|           2|\n",
      "|A5000332038|      2009|     2020|          9|           5|\n",
      "|A5000337148|      1990|     2020|          3|           9|\n",
      "|A5000374219|      1966|     2020|         24|          45|\n",
      "|A5000387368|      2011|     2020|          3|           6|\n",
      "|A5000537430|      1983|     2020|         15|          22|\n",
      "|A5000607256|      1995|     2017|         12|          12|\n",
      "|A5000760068|      2012|     2020|          3|           6|\n",
      "|A5000825227|      1984|     2012|          5|           7|\n",
      "|A5001036805|      1955|     2020|         23|          56|\n",
      "|A5001052626|      2007|     2013|          6|           3|\n",
      "|A5001070734|      1983|     2020|         29|          15|\n",
      "|A5001219575|      2004|     2020|         13|          16|\n",
      "|A5001340122|      1996|     2020|          3|          21|\n",
      "|A5001500450|      1990|     2020|         11|          26|\n",
      "|A5001854453|      2014|     2020|          3|           7|\n",
      "|A5001910223|      2006|     2019|          3|           2|\n",
      "|A5002084910|      1965|     2020|          3|          35|\n",
      "|A5002086034|      1952|     2020|          5|          39|\n",
      "+-----------+----------+---------+-----------+------------+\n",
      "only showing top 20 rows\n",
      "\n"
     ]
    }
   ],
   "source": [
    "au_level_char = (works_au_af_subset\n",
    "                                       .join(inst.select('inst_id', func.lit(1).alias('in_inst_dataset')), on =['inst_id'], how = 'left')\n",
    "                      .fillna(0, subset = ['in_inst_dataset'])\n",
    "              .groupBy('author_id','publication_year').agg(func.max((func.col('in_inst_dataset')==1).cast('int')).alias('in_FR'),\n",
    "                                                          func.max((func.col('in_inst_dataset')==0).cast('int')).alias('abroad'))\n",
    "              .groupBy('author_id').agg(func.min('publication_year').alias('entry_year'),\n",
    "                                        func.max('publication_year').alias('last_year'),\n",
    "                                        func.sum('in_FR').alias('all_y_in_FR'), \n",
    "                                        func.sum('abroad').alias('years_abroad'))\n",
    "                )\n",
    "au_level_char.cache()\n",
    "au_level_char.show()"
   ]
  },
  {
   "cell_type": "code",
   "execution_count": 26,
   "id": "4562adb6-1c8b-4bbd-b174-d7e9608fe1fd",
   "metadata": {},
   "outputs": [],
   "source": [
    "au_level_char = (au_level_char\n",
    "                 .join(works_au_af.groupBy('author_id', func.col('publication_year').alias('entry_year'))\n",
    "                       .agg(func.concat_ws(',', func.array_sort(func.array_compact(func.collect_set('country'))))\n",
    "                            .alias('entry_country')),\n",
    "                       on = ['author_id', 'entry_year'], how = 'left')\n",
    "                )"
   ]
  },
  {
   "cell_type": "code",
   "execution_count": 30,
   "id": "79274711-4aaf-4b4e-af7d-1d10aa08fc61",
   "metadata": {},
   "outputs": [
    {
     "name": "stdout",
     "output_type": "stream",
     "text": [
      "+-----------+----------+---------+-----------+------------+---------------+------+-----+--------+-----+-----------------+------+-------------+\n",
      "|  author_id|entry_year|last_year|all_y_in_FR|years_abroad|    author_name|domain|field|subfield|topic|author_first_name|gender|entry_country|\n",
      "+-----------+----------+---------+-----------+------------+---------------+------+-----+--------+-----+-----------------+------+-------------+\n",
      "|A5084984675|      1985|     2020|         28|          35|Philippe Aghion|     2|   20|    2002| 2002|         Philippe|     M|        FR,US|\n",
      "+-----------+----------+---------+-----------+------------+---------------+------+-----+--------+-----+-----------------+------+-------------+\n",
      "\n"
     ]
    }
   ],
   "source": [
    "au_level_char.filter(func.col('author_id')==\"A5084984675\").show()"
   ]
  },
  {
   "cell_type": "code",
   "execution_count": 20,
   "id": "4b7fa193-6cd5-4882-9cf2-78cf26d0b50e",
   "metadata": {},
   "outputs": [],
   "source": [
    "gendersort_path =  os.path.dirname(os.path.abspath(\"\")) + \"\\\\additional_material\\\\Wiki_Gendersort.py\"\n",
    "%run $gendersort_path"
   ]
  },
  {
   "cell_type": "code",
   "execution_count": 21,
   "id": "12f00d9d-b48a-406e-bf7b-db1837c67e47",
   "metadata": {},
   "outputs": [
    {
     "data": {
      "text/plain": [
       "DataFrame[author_id: string, author_name: string, domain: string, field: string, subfield: string, topic: string, author_first_name: string, gender: string]"
      ]
     },
     "execution_count": 21,
     "metadata": {},
     "output_type": "execute_result"
    }
   ],
   "source": [
    "udf_wiki_gendersort = func.udf(wiki_gendersort().assign,StringType())\n",
    "au_fields = (set_french_authors\n",
    "             .join(df_authors\n",
    "                  .select(func.regexp_replace(func.col('id'), 'https://openalex.org/', '').alias('author_id'), func.col('display_name').alias('name'),\n",
    "                    func.explode(func.col('topic_share')).alias('topic_share'))\n",
    "                   , on = ['author_id'], how = 'inner')\n",
    "             .withColumn('domain', func.col('topic_share.domain.id')) \n",
    "             .withColumn('max_topic', (func.col('topic_share.value') ==\n",
    "                                                   func.max(func.col('topic_share.value'))\n",
    "                                          .over(Window.partitionBy('author_id'))).cast('int'))\n",
    "             .withColumn('topic', func.array_compact(func.collect_set(func.when(func.col('max_topic')==1, func.col('topic_share.id')))\n",
    "                                                        .over(Window.partitionBy('author_id')) ) )\n",
    "             .withColumn('subfield_value', func.sum(func.col('topic_share.value'))\n",
    "                         .over(Window.partitionBy('author_id', 'topic_share.subfield.id')))\n",
    "             .withColumn('max_subfield', func.max(func.col('subfield_value')).over(Window.partitionBy(\"author_id\")))\n",
    "             .withColumn('subfield', func.array_compact(func.collect_set(func.when(func.col('subfield_value')>=0.75*func.col('max_subfield'), func.col('topic_share.subfield.id')))\n",
    "                                                        .over(Window.partitionBy('author_id')) ) )\n",
    "            \n",
    "             \n",
    "             .groupBy('author_id','name', 'domain', 'topic', 'subfield',\n",
    "                      func.col('topic_share.field.id').alias('field')\n",
    "                     )\n",
    "             .agg(func.sum(\"topic_share.value\").alias('value'))\n",
    "             .withColumn('max_value', func.max(func.col('value')).over(Window.partitionBy('author_id')))\n",
    "             .filter(func.col('value') >= 0.75*func.col('max_value'))\n",
    "             .groupBy('author_id', 'name','topic', 'subfield')\n",
    "             .agg(*[ func.array_sort(func.collect_set(func.col(col))).alias(col)\n",
    "                  for col in ['domain','field']])\n",
    "             .withColumn('domain',    func.concat_ws(',',func.array_sort(func.transform(func.col('domain'), lambda x: func.regexp_replace(x, 'https://openalex.org/domains/', '')))))\n",
    "             .withColumn('field',     func.concat_ws(',',func.array_sort(func.transform(func.col(\"field\"), lambda x: func.regexp_replace(x, 'https://openalex.org/fields/', '')))))\n",
    "             .withColumn('subfield',  func.concat_ws(',',func.array_sort(func.transform(func.col(\"subfield\"), lambda x: func.regexp_replace(x, 'https://openalex.org/subfields/', '')))))\n",
    "             .withColumn('topic',     func.concat_ws(',',func.array_sort(func.transform(func.col(\"topic\"), lambda x: func.regexp_replace(x, 'https://openalex.org/', '')))))\n",
    "\n",
    "            .withColumn('author_first_name', func.element_at(func.split(func.col('name'), ' '), 1))\n",
    "            .withColumn('topic', func.when(func.length(func.col('topic'))<1, func.lit(None)).otherwise(func.col('topic')))\n",
    "            .withColumn('topic', func.when(func.length(func.col('subfield'))<1, func.lit(None)).otherwise(func.col('subfield')))\n",
    "\n",
    "            .select('author_id', func.col('name').alias('author_name'),\n",
    "                    *[func.concat_ws(',', (func.coalesce(func.col(col), func.col(col +'')))).alias(col) for col in ['domain','field','subfield','topic'] ],\n",
    "                   func.coalesce(func.col('author_first_name'), func.col('author_first_name')).alias('author_first_name'))\n",
    "\n",
    "            .withColumn('gender', udf_wiki_gendersort(func.col('author_first_name')))\n",
    "           )\n",
    "au_fields"
   ]
  },
  {
   "cell_type": "code",
   "execution_count": 17,
   "id": "db78e0f5-e6e4-4025-a991-1dbf850e89ea",
   "metadata": {
    "scrolled": true
   },
   "outputs": [],
   "source": [
    "#au_level_char.count()"
   ]
  },
  {
   "cell_type": "code",
   "execution_count": 22,
   "id": "ef777538-27bc-457e-bbd9-c1e196408909",
   "metadata": {},
   "outputs": [],
   "source": [
    "au_level_char = (au_level_char\n",
    "                 .filter((func.col('entry_year')<2020) & (func.col('entry_year')>1954))\n",
    "                 .join(au_fields, on = ['author_id'], how = 'left')\n",
    "                 .distinct()\n",
    "                )"
   ]
  },
  {
   "cell_type": "code",
   "execution_count": 23,
   "id": "2430178d-2d39-46e7-bb18-3dcafef50cce",
   "metadata": {},
   "outputs": [
    {
     "data": {
      "text/plain": [
       "DataFrame[author_id: string, entry_year: int, last_year: int, all_y_in_FR: bigint, years_abroad: bigint, author_name: string, domain: string, field: string, subfield: string, topic: string, author_first_name: string, gender: string]"
      ]
     },
     "execution_count": 23,
     "metadata": {},
     "output_type": "execute_result"
    }
   ],
   "source": [
    "au_level_char"
   ]
  },
  {
   "cell_type": "code",
   "execution_count": 19,
   "id": "17786a76-d575-49c2-a25a-643aae0d747f",
   "metadata": {
    "scrolled": true
   },
   "outputs": [],
   "source": [
    "#au_level_char.show()"
   ]
  },
  {
   "cell_type": "code",
   "execution_count": 28,
   "id": "3618898f-efd5-4455-a116-6e12a17e3d4a",
   "metadata": {
    "scrolled": true
   },
   "outputs": [],
   "source": [
    "au_level_char.write.mode('overwrite').parquet('file:\\\\' + save_path + 'au_level_char.parquet')"
   ]
  },
  {
   "cell_type": "code",
   "execution_count": 21,
   "id": "2b8d823f-d68a-46de-b2b3-95193e8af986",
   "metadata": {},
   "outputs": [],
   "source": [
    "#spark.catalog.clearCache()"
   ]
  },
  {
   "cell_type": "markdown",
   "id": "44cd00de-0acd-4d9a-ac43-5f18d8cd198e",
   "metadata": {},
   "source": [
    "# Load author-level characteristics"
   ]
  },
  {
   "cell_type": "code",
   "execution_count": 35,
   "id": "0858569f-730e-403e-aeb0-e708b8f7ab10",
   "metadata": {},
   "outputs": [],
   "source": [
    "au_level_char= spark.read.parquet('file:\\\\' + save_path + 'au_level_char.parquet')"
   ]
  },
  {
   "cell_type": "code",
   "execution_count": 17,
   "id": "d17d5226-7900-44a7-9b49-0a69a050c536",
   "metadata": {},
   "outputs": [
    {
     "name": "stdout",
     "output_type": "stream",
     "text": [
      "+-----------+----------+---------+-----------+------------+--------------------+------+-----+-------------------+-------------------+-----------------+------+-------------+\n",
      "|  author_id|entry_year|last_year|all_y_in_FR|years_abroad|         author_name|domain|field|           subfield|              topic|author_first_name|gender|entry_country|\n",
      "+-----------+----------+---------+-----------+------------+--------------------+------+-----+-------------------+-------------------+-----------------+------+-------------+\n",
      "|A5000002027|      1986|     2020|         26|          25|    Antoine Guédeney|   2,4|27,32|          2739,3203|          2739,3203|          Antoine|     M|             |\n",
      "|A5000012892|      2014|     2019|          4|           4|       Lesly Fellous|     4|   27|2713,2717,3004,3005|2713,2717,3004,3005|            Lesly|     M|             |\n",
      "|A5000033023|      1994|     2018|          4|           4|            B. Roque|     3|   22|          2202,2505|          2202,2505|               B.|   INI|             |\n",
      "|A5000051438|      1969|     2020|         26|          48|     Michel Aglietta|     2|   20|               2003|               2003|           Michel|     M|           FR|\n",
      "|A5000052469|      1990|     2020|         23|          24|Isabelle Tauzin-C...|     2|   33|          3312,3317|          3312,3317|         Isabelle|     F|           FR|\n",
      "|A5000066077|      2002|     2020|          5|          11|        Annett Wania|     3|   23|     2214,2303,2306|     2214,2303,2306|           Annett|     F|           DE|\n",
      "|A5000123949|      2006|     2020|          6|           2|     Frédéric Rivart|     3|   22|          2211,2505|          2211,2505|         Frédéric|     M|             |\n",
      "|A5000145332|      2017|     2020|          3|           4|      Lionel Delpech|     2|   32|          2805,3207|          2805,3207|           Lionel|     M|           FR|\n",
      "|A5000183915|      2015|     2018|          4|           2|        Cécile Mezon|     3|   22|          1908,2210|          1908,2210|           Cécile|     F|        FR,US|\n",
      "|A5000196544|      1984|     2020|          6|           5|Jean-Christophe F...|     4|   27|               2705|               2705|  Jean-Christophe|     M|             |\n",
      "|A5000243191|      2007|     2020|          3|          10|         Y. Hamlaoui|     3|22,25|               2505|               2505|               Y.|   INI|             |\n",
      "|A5000274916|      1993|     2010|          9|          10|             F Volot|     4|   27|               1312|               1312|                F|   INI|        BE,FR|\n",
      "|A5000288118|      2012|     2020|          4|           6|  Marie‐Angèle Robic|     4|   27|               2721|               2721|     Marie‐Angèle|     F|             |\n",
      "|A5000292032|      1979|     2001|          5|           5|        Julien Davet|     4|   27|               2737|               2737|           Julien|     M|             |\n",
      "|A5000295838|      1997|     2011|          4|          13|      Pascale Seddas|     1|   11|               1110|               1110|          Pascale|     F|             |\n",
      "|A5000330074|      1967|     2019|          4|           8|    Jonathan Lombard|     1|   13|               1312|               1312|         Jonathan|     M|             |\n",
      "|A5000335726|      2005|     2020|          9|          11|     Sabine Langlois|     2|   32|               3207|               3207|           Sabine|     F|           US|\n",
      "|A5000400681|      2016|     2020|          5|           4|           Pierre Ta|     4|   27|               2746|               2746|           Pierre|     M|           FR|\n",
      "|A5000405098|      1992|     2010|          7|           2|      Nathalie Robas|     1|   13|               1312|               1312|         Nathalie|     F|             |\n",
      "|A5000428337|      2014|     2018|          3|           1|           Marie Meo|     4|   27|          2713,2725|          2713,2725|            Marie|     F|             |\n",
      "+-----------+----------+---------+-----------+------------+--------------------+------+-----+-------------------+-------------------+-----------------+------+-------------+\n",
      "only showing top 20 rows\n",
      "\n"
     ]
    }
   ],
   "source": [
    "au_level_char.show()"
   ]
  },
  {
   "cell_type": "code",
   "execution_count": 13,
   "id": "716fad01-fa92-4815-8cbb-0c32a16fa7e2",
   "metadata": {},
   "outputs": [],
   "source": [
    "#au_level_char = spark.read.parquet('file:\\\\' + save_path + 'au_level_char.parquet')"
   ]
  },
  {
   "cell_type": "code",
   "execution_count": 16,
   "id": "47f317d1-24b3-42d6-8738-063b421c665a",
   "metadata": {},
   "outputs": [],
   "source": [
    "#au_level_char.filter(func.col('author_id')==\"A5087461705\").show()"
   ]
  },
  {
   "cell_type": "code",
   "execution_count": 17,
   "id": "773c03da-e912-4100-9e54-fafb28edc000",
   "metadata": {},
   "outputs": [],
   "source": [
    "#(au_level_char.groupBy((func.floor(func.col('entry_year')/5)*5)\n",
    "#                       .alias('entry_year'))\n",
    "#.agg(*[func.mean(col).alias(col) for col in ['last_year',\"all_y_in_FR\", \"years_abroad\"]]).sort('entry_year')).show(100)"
   ]
  },
  {
   "cell_type": "code",
   "execution_count": 18,
   "id": "f71aed91-4a8c-4e44-9dcb-bb5198cc28d3",
   "metadata": {
    "scrolled": true
   },
   "outputs": [],
   "source": [
    "#(au_level_char\n",
    "# .groupBy(((func.floor(func.col('all_y_in_FR')/(func.col('last_year')-func.col('entry_year')+1)*50)*2).alias('share_y_in_fr')))\n",
    "# .count()\n",
    "# .sort('share_y_in_fr')).show(100)"
   ]
  },
  {
   "cell_type": "markdown",
   "id": "2f9c08c2-6f43-425f-a1f1-bc3ebdbfc44d",
   "metadata": {},
   "source": [
    "# Build institution-level information"
   ]
  },
  {
   "cell_type": "code",
   "execution_count": 24,
   "id": "b6ecf99e-c78f-44c2-9947-d1400f45a9c1",
   "metadata": {},
   "outputs": [],
   "source": [
    "spark.catalog.clearCache()"
   ]
  },
  {
   "cell_type": "code",
   "execution_count": 9,
   "id": "b967d745-7ef5-4e2c-8f7e-837e68d0e097",
   "metadata": {
    "scrolled": true
   },
   "outputs": [],
   "source": [
    "works_au_af_subset = (set_french_authors\n",
    "                      .join(works_au_af.select('work_id','author_id', 'inst_id', 'publication_year', 'language', 'country', 'source_id','citations'), on = ['author_id'], how = 'left')\n",
    "                     )\n",
    "#works_au_af_subset.cache()#\n",
    "#works_au_af_subset.show()"
   ]
  },
  {
   "cell_type": "code",
   "execution_count": 10,
   "id": "3378c45c-1ed8-4827-8355-584855b730f9",
   "metadata": {
    "scrolled": true
   },
   "outputs": [],
   "source": [
    "works_au_af_subset = (works_au_af_subset\n",
    "                 # .withColumn('inst_id', func.expr(expr_inst_id))\n",
    "                 # .join(inst.drop('country').distinct(), on = ['inst_id'])\n",
    "                  .join(inst.distinct(), on = ['inst_id'])\n",
    "                     )\n",
    "#works_au_af_subset.cache()\n",
    "#works_au_af_subset.show()"
   ]
  },
  {
   "cell_type": "code",
   "execution_count": 11,
   "id": "8a4453e7-8cba-4681-abab-1639ee1a428f",
   "metadata": {},
   "outputs": [],
   "source": [
    "works_au_af_subset.distinct().write.mode('overwrite').parquet('file:\\\\' + save_path + 'works_au_af_subset.parquet') "
   ]
  },
  {
   "cell_type": "code",
   "execution_count": 36,
   "id": "b54851e7-d9a8-4bb4-8848-3a76b940c252",
   "metadata": {},
   "outputs": [],
   "source": [
    "works_au_af_subset = spark.read.parquet('file:\\\\' + save_path + 'works_au_af_subset.parquet')"
   ]
  },
  {
   "cell_type": "code",
   "execution_count": 9,
   "id": "5bc3d79e-524d-4a87-870c-603dd771c8eb",
   "metadata": {
    "scrolled": true
   },
   "outputs": [
    {
     "name": "stdout",
     "output_type": "stream",
     "text": [
      "+----------+-----------+---------+----------+-----------+---------+-----------+----------------+--------+-------+-----------+---------+--------------------+---------+------------+--------------------+--------------------+--------------------+--------------------+-------+----+---------+--------------------+---------------+-------------------+-------------+-----------+-------------------+-------+\n",
      "|   inst_id|  author_id|last_year|entry_year|n_pub_in_FR|n_y_in_FR|    work_id|publication_year|language|country|  source_id|citations|                name|     type|        city|        homepage_url|         topic_share|          main_topic|              parent|uni_pub|cnrs|acces_rce|                idex|date_first_idex|total_idex_dotation|fused_inst_id|fusion_date|            type_fr|secteur|\n",
      "+----------+-----------+---------+----------+-----------+---------+-----------+----------------+--------+-------+-----------+---------+--------------------+---------+------------+--------------------+--------------------+--------------------+--------------------+-------+----+---------+--------------------+---------------+-------------------+-------------+-----------+-------------------+-------+\n",
      "|I100532134|A5037619534|     2020|      2015|         33|        6|W2597871896|            2017|      en|     FR|  S51654951|       13|Université Claude...|education|Villeurbanne|http://www.univ-l...|[{Materials Scien...|            Medicine|[{I203339264, Uni...|      1|   0|     2009|[idex_annulee_lyo...|           2012|          224019507|         NULL|       NULL|         Université| public|\n",
      "|I100532134|A5001462379|     2020|      2003|        141|       17|W2789724080|            2018|      en|     FR|   S6997661|       32|Université Claude...|education|Villeurbanne|http://www.univ-l...|[{Materials Scien...|            Medicine|[{I203339264, Uni...|      1|   0|     2009|[idex_annulee_lyo...|           2012|          224019507|         NULL|       NULL|         Université| public|\n",
      "|I100532134|A5005646897|     2020|      2010|         24|        9|W1971663156|            2010|      en|     FR|  S62072220|       12|Université Claude...|education|Villeurbanne|http://www.univ-l...|[{Materials Scien...|            Medicine|[{I203339264, Uni...|      1|   0|     2009|[idex_annulee_lyo...|           2012|          224019507|         NULL|       NULL|         Université| public|\n",
      "|I100532134|A5039973512|     2020|      1997|        145|       22|W1974780804|            2011|      en|     FR|  S69753523|        8|Université Claude...|education|Villeurbanne|http://www.univ-l...|[{Materials Scien...|            Medicine|[{I203339264, Uni...|      1|   0|     2009|[idex_annulee_lyo...|           2012|          224019507|         NULL|       NULL|         Université| public|\n",
      "|I100532134|A5035441038|     2012|      2010|          8|        3|W2013309223|            2010|      en|     FR|       NULL|        4|Université Claude...|education|Villeurbanne|http://www.univ-l...|[{Materials Scien...|            Medicine|[{I203339264, Uni...|      1|   0|     2009|[idex_annulee_lyo...|           2012|          224019507|         NULL|       NULL|         Université| public|\n",
      "|I100532134|A5063314207|     2013|      2007|         28|        7|W2323506665|            2013|      en|     FR| S177196338|       19|Université Claude...|education|Villeurbanne|http://www.univ-l...|[{Materials Scien...|            Medicine|[{I203339264, Uni...|      1|   0|     2009|[idex_annulee_lyo...|           2012|          224019507|         NULL|       NULL|         Université| public|\n",
      "|I100532134|A5009459083|     2019|      1997|        111|       23|W1980272366|            1998|      en|     FR| S137419829|       30|Université Claude...|education|Villeurbanne|http://www.univ-l...|[{Materials Scien...|            Medicine|[{I203339264, Uni...|      1|   0|     2009|[idex_annulee_lyo...|           2012|          224019507|         NULL|       NULL|         Université| public|\n",
      "|I100532134|A5052681801|     2020|      1997|         60|       22|W2029133099|            2012|      en|     FR| S125754415|      122|Université Claude...|education|Villeurbanne|http://www.univ-l...|[{Materials Scien...|            Medicine|[{I203339264, Uni...|      1|   0|     2009|[idex_annulee_lyo...|           2012|          224019507|         NULL|       NULL|         Université| public|\n",
      "|I100532134|A5106524585|     2018|      1997|         23|       13|W2124228487|            2010|      en|     FR|  S48849333|       92|Université Claude...|education|Villeurbanne|http://www.univ-l...|[{Materials Scien...|            Medicine|[{I203339264, Uni...|      1|   0|     2009|[idex_annulee_lyo...|           2012|          224019507|         NULL|       NULL|         Université| public|\n",
      "|I102197404|A5106453831|     2009|      1997|        108|       13|W4249000546|            1976|      en|     FR|S4210186961|       38|Université Paris-Sud|education|       Orsay|http://www.u-psud...|[{Physics and Ast...|Physics and Astro...|[{I102197404, Uni...|      1|   0|     2010|                NULL|           NULL|               NULL|   I277688954|       2019|         Université| public|\n",
      "|I102197404|A5039382493|     2020|      1997|        599|       24|W2170546272|            2010|      en|     FR| S174303711|       28|Université Paris-Sud|education|       Orsay|http://www.u-psud...|[{Physics and Ast...|Physics and Astro...|[{I102197404, Uni...|      1|   0|     2010|                NULL|           NULL|               NULL|   I277688954|       2019|         Université| public|\n",
      "|I102197404|A5085268198|     2019|      1997|         12|       10|  W24761729|            1997|      en|     FR|S4306525036|        3|Université Paris-Sud|education|       Orsay|http://www.u-psud...|[{Physics and Ast...|Physics and Astro...|[{I102197404, Uni...|      1|   0|     2010|                NULL|           NULL|               NULL|   I277688954|       2019|         Université| public|\n",
      "|I102197404|A5049683269|     2016|      1997|        133|       20|W2072788208|            1996|      en|     FR| S105243760|       17|Université Paris-Sud|education|       Orsay|http://www.u-psud...|[{Physics and Ast...|Physics and Astro...|[{I102197404, Uni...|      1|   0|     2010|                NULL|           NULL|               NULL|   I277688954|       2019|         Université| public|\n",
      "|I102197404|A5046627814|     2020|      1997|         45|       18|W2066076203|            1997|      en|     FR|S4210173038|        0|Université Paris-Sud|education|       Orsay|http://www.u-psud...|[{Physics and Ast...|Physics and Astro...|[{I102197404, Uni...|      1|   0|     2010|                NULL|           NULL|               NULL|   I277688954|       2019|         Université| public|\n",
      "|I102197404|A5105630117|     2019|      2015|         10|        3|W2997775889|            2018|      en|     FR| S187585107|      101|Université Paris-Sud|education|       Orsay|http://www.u-psud...|[{Physics and Ast...|Physics and Astro...|[{I102197404, Uni...|      1|   0|     2010|                NULL|           NULL|               NULL|   I277688954|       2019|         Université| public|\n",
      "|I102197404|A5013361869|     2020|      2005|         11|        6|W2100125661|            2012|      en|     FR|  S54542293|       62|Université Paris-Sud|education|       Orsay|http://www.u-psud...|[{Physics and Ast...|Physics and Astro...|[{I102197404, Uni...|      1|   0|     2010|                NULL|           NULL|               NULL|   I277688954|       2019|         Université| public|\n",
      "|I102197404|A5029498588|     2019|      1997|       1087|       22|W2033533602|            2007|      en|     FR| S178776955|      117|Université Paris-Sud|education|       Orsay|http://www.u-psud...|[{Physics and Ast...|Physics and Astro...|[{I102197404, Uni...|      1|   0|     2010|                NULL|           NULL|               NULL|   I277688954|       2019|         Université| public|\n",
      "|I106785703|A5074277744|     2013|      2009|         15|        5|W2107288581|            2010|      en|     FR|       NULL|        3|Institut polytech...|education|    Grenoble|http://www.grenob...|[{Engineering, 0....|         Engineering|[{I899635006, Uni...|      1|   0|     2010|   [idex_2_grenoble]|           2016|          123731368|         NULL|       NULL|Grand établissement| public|\n",
      "|I106785703|A5011270757|     2020|      1997|        851|       24|W2040773322|            2014|      en|     FR|       NULL|       22|Institut polytech...|education|    Grenoble|http://www.grenob...|[{Engineering, 0....|         Engineering|[{I899635006, Uni...|      1|   0|     2010|   [idex_2_grenoble]|           2016|          123731368|         NULL|       NULL|Grand établissement| public|\n",
      "|I106785703|A5025794003|     2020|      2006|         11|        8|W3011994667|            2020|      en|     FR|  S36624081|      203|Institut polytech...|education|    Grenoble|http://www.grenob...|[{Engineering, 0....|         Engineering|[{I899635006, Uni...|      1|   0|     2010|   [idex_2_grenoble]|           2016|          123731368|         NULL|       NULL|Grand établissement| public|\n",
      "+----------+-----------+---------+----------+-----------+---------+-----------+----------------+--------+-------+-----------+---------+--------------------+---------+------------+--------------------+--------------------+--------------------+--------------------+-------+----+---------+--------------------+---------------+-------------------+-------------+-----------+-------------------+-------+\n",
      "only showing top 20 rows\n",
      "\n"
     ]
    }
   ],
   "source": [
    "works_au_af_subset.show()"
   ]
  },
  {
   "cell_type": "code",
   "execution_count": 15,
   "id": "4868bfe7-3381-4dea-8286-14940b75af99",
   "metadata": {},
   "outputs": [
    {
     "data": {
      "text/plain": [
       "16764914"
      ]
     },
     "execution_count": 15,
     "metadata": {},
     "output_type": "execute_result"
    }
   ],
   "source": [
    "works_au_af_subset.count()"
   ]
  },
  {
   "cell_type": "code",
   "execution_count": 12,
   "id": "3fc849f8-56bc-4d10-9934-5bc6f12c8ef5",
   "metadata": {
    "scrolled": true
   },
   "outputs": [
    {
     "name": "stdout",
     "output_type": "stream",
     "text": [
      "+----------+-----------+---------+----------+-----------+---------+-----------+----------------+--------+-------+-----------+---------+--------------------+---------+------------+--------------------+--------------------+--------------------+------------+-------+----+---------+--------------------+---------------+-------------------+-------------+-----------+-------------------+-------+\n",
      "|   inst_id|  author_id|last_year|entry_year|n_pub_in_FR|n_y_in_FR|    work_id|publication_year|language|country|  source_id|citations|                name|     type|        city|        homepage_url|         topic_share|          main_topic|      parent|uni_pub|cnrs|acces_rce|                idex|date_first_idex|total_idex_dotation|fused_inst_id|fusion_date|            type_fr|secteur|\n",
      "+----------+-----------+---------+----------+-----------+---------+-----------+----------------+--------+-------+-----------+---------+--------------------+---------+------------+--------------------+--------------------+--------------------+------------+-------+----+---------+--------------------+---------------+-------------------+-------------+-----------+-------------------+-------+\n",
      "|I100532134|A5037619534|     2020|      2015|         33|        6|W2597871896|            2017|      en|     FR|  S51654951|       13|Université Claude...|education|Villeurbanne|http://www.univ-l...|[{Materials Scien...|            Medicine|[I203339264]|      1|   0|     2009|[idex_annulee_lyo...|           2012|          224019507|         NULL|       NULL|         Université| public|\n",
      "|I100532134|A5001462379|     2020|      2003|        141|       17|W2789724080|            2018|      en|     FR|   S6997661|       32|Université Claude...|education|Villeurbanne|http://www.univ-l...|[{Materials Scien...|            Medicine|[I203339264]|      1|   0|     2009|[idex_annulee_lyo...|           2012|          224019507|         NULL|       NULL|         Université| public|\n",
      "|I100532134|A5005646897|     2020|      2010|         24|        9|W1971663156|            2010|      en|     FR|  S62072220|       12|Université Claude...|education|Villeurbanne|http://www.univ-l...|[{Materials Scien...|            Medicine|[I203339264]|      1|   0|     2009|[idex_annulee_lyo...|           2012|          224019507|         NULL|       NULL|         Université| public|\n",
      "|I100532134|A5039973512|     2020|      1997|        145|       22|W1974780804|            2011|      en|     FR|  S69753523|        8|Université Claude...|education|Villeurbanne|http://www.univ-l...|[{Materials Scien...|            Medicine|[I203339264]|      1|   0|     2009|[idex_annulee_lyo...|           2012|          224019507|         NULL|       NULL|         Université| public|\n",
      "|I100532134|A5035441038|     2012|      2010|          8|        3|W2013309223|            2010|      en|     FR|       NULL|        4|Université Claude...|education|Villeurbanne|http://www.univ-l...|[{Materials Scien...|            Medicine|[I203339264]|      1|   0|     2009|[idex_annulee_lyo...|           2012|          224019507|         NULL|       NULL|         Université| public|\n",
      "|I100532134|A5063314207|     2013|      2007|         28|        7|W2323506665|            2013|      en|     FR| S177196338|       19|Université Claude...|education|Villeurbanne|http://www.univ-l...|[{Materials Scien...|            Medicine|[I203339264]|      1|   0|     2009|[idex_annulee_lyo...|           2012|          224019507|         NULL|       NULL|         Université| public|\n",
      "|I100532134|A5009459083|     2019|      1997|        111|       23|W1980272366|            1998|      en|     FR| S137419829|       30|Université Claude...|education|Villeurbanne|http://www.univ-l...|[{Materials Scien...|            Medicine|[I203339264]|      1|   0|     2009|[idex_annulee_lyo...|           2012|          224019507|         NULL|       NULL|         Université| public|\n",
      "|I100532134|A5052681801|     2020|      1997|         60|       22|W2029133099|            2012|      en|     FR| S125754415|      122|Université Claude...|education|Villeurbanne|http://www.univ-l...|[{Materials Scien...|            Medicine|[I203339264]|      1|   0|     2009|[idex_annulee_lyo...|           2012|          224019507|         NULL|       NULL|         Université| public|\n",
      "|I100532134|A5106524585|     2018|      1997|         23|       13|W2124228487|            2010|      en|     FR|  S48849333|       92|Université Claude...|education|Villeurbanne|http://www.univ-l...|[{Materials Scien...|            Medicine|[I203339264]|      1|   0|     2009|[idex_annulee_lyo...|           2012|          224019507|         NULL|       NULL|         Université| public|\n",
      "|I102197404|A5106453831|     2009|      1997|        108|       13|W4249000546|            1976|      en|     FR|S4210186961|       38|Université Paris-Sud|education|       Orsay|http://www.u-psud...|[{Physics and Ast...|Physics and Astro...|          []|      1|   0|     2010|                NULL|           NULL|               NULL|   I277688954|       2019|         Université| public|\n",
      "|I102197404|A5039382493|     2020|      1997|        599|       24|W2170546272|            2010|      en|     FR| S174303711|       28|Université Paris-Sud|education|       Orsay|http://www.u-psud...|[{Physics and Ast...|Physics and Astro...|          []|      1|   0|     2010|                NULL|           NULL|               NULL|   I277688954|       2019|         Université| public|\n",
      "|I102197404|A5085268198|     2019|      1997|         12|       10|  W24761729|            1997|      en|     FR|S4306525036|        3|Université Paris-Sud|education|       Orsay|http://www.u-psud...|[{Physics and Ast...|Physics and Astro...|          []|      1|   0|     2010|                NULL|           NULL|               NULL|   I277688954|       2019|         Université| public|\n",
      "|I102197404|A5049683269|     2016|      1997|        133|       20|W2072788208|            1996|      en|     FR| S105243760|       17|Université Paris-Sud|education|       Orsay|http://www.u-psud...|[{Physics and Ast...|Physics and Astro...|          []|      1|   0|     2010|                NULL|           NULL|               NULL|   I277688954|       2019|         Université| public|\n",
      "|I102197404|A5046627814|     2020|      1997|         45|       18|W2066076203|            1997|      en|     FR|S4210173038|        0|Université Paris-Sud|education|       Orsay|http://www.u-psud...|[{Physics and Ast...|Physics and Astro...|          []|      1|   0|     2010|                NULL|           NULL|               NULL|   I277688954|       2019|         Université| public|\n",
      "|I102197404|A5105630117|     2019|      2015|         10|        3|W2997775889|            2018|      en|     FR| S187585107|      101|Université Paris-Sud|education|       Orsay|http://www.u-psud...|[{Physics and Ast...|Physics and Astro...|          []|      1|   0|     2010|                NULL|           NULL|               NULL|   I277688954|       2019|         Université| public|\n",
      "|I102197404|A5013361869|     2020|      2005|         11|        6|W2100125661|            2012|      en|     FR|  S54542293|       62|Université Paris-Sud|education|       Orsay|http://www.u-psud...|[{Physics and Ast...|Physics and Astro...|          []|      1|   0|     2010|                NULL|           NULL|               NULL|   I277688954|       2019|         Université| public|\n",
      "|I102197404|A5029498588|     2019|      1997|       1087|       22|W2033533602|            2007|      en|     FR| S178776955|      117|Université Paris-Sud|education|       Orsay|http://www.u-psud...|[{Physics and Ast...|Physics and Astro...|          []|      1|   0|     2010|                NULL|           NULL|               NULL|   I277688954|       2019|         Université| public|\n",
      "|I106785703|A5074277744|     2013|      2009|         15|        5|W2107288581|            2010|      en|     FR|       NULL|        3|Institut polytech...|education|    Grenoble|http://www.grenob...|[{Engineering, 0....|         Engineering|[I899635006]|      1|   0|     2010|   [idex_2_grenoble]|           2016|          123731368|         NULL|       NULL|Grand établissement| public|\n",
      "|I106785703|A5011270757|     2020|      1997|        851|       24|W2040773322|            2014|      en|     FR|       NULL|       22|Institut polytech...|education|    Grenoble|http://www.grenob...|[{Engineering, 0....|         Engineering|[I899635006]|      1|   0|     2010|   [idex_2_grenoble]|           2016|          123731368|         NULL|       NULL|Grand établissement| public|\n",
      "|I106785703|A5025794003|     2020|      2006|         11|        8|W3011994667|            2020|      en|     FR|  S36624081|      203|Institut polytech...|education|    Grenoble|http://www.grenob...|[{Engineering, 0....|         Engineering|[I899635006]|      1|   0|     2010|   [idex_2_grenoble]|           2016|          123731368|         NULL|       NULL|Grand établissement| public|\n",
      "+----------+-----------+---------+----------+-----------+---------+-----------+----------------+--------+-------+-----------+---------+--------------------+---------+------------+--------------------+--------------------+--------------------+------------+-------+----+---------+--------------------+---------------+-------------------+-------------+-----------+-------------------+-------+\n",
      "only showing top 20 rows\n",
      "\n"
     ]
    }
   ],
   "source": [
    "(works_au_af_subset\n",
    "                    .withColumn('parent', func.array_compact(func.transform(func.col('parent'), lambda x : func.when(x.parent_id != func.col('inst_id'), x.parent_id))))\n",
    ").show()"
   ]
  },
  {
   "cell_type": "code",
   "execution_count": 13,
   "id": "a872e37f-5d24-4c2c-8491-44f9552ffe24",
   "metadata": {},
   "outputs": [],
   "source": [
    "au_inst_period = (works_au_af_subset\n",
    "                    .withColumn('parent', func.array_compact(func.transform(func.col('parent'), lambda x : func.when(x.parent_id != func.col('inst_id'), x.parent_id))))\n",
    "\n",
    "                    .groupBy('author_id',func.col('publication_year').alias('year'))\n",
    "                    .agg(func.countDistinct('work_id').alias('n_works'),\n",
    "                         func.collect_set('inst_id').alias('inst_id'),\n",
    "                        func.flatten(func.collect_set('parent')).alias('parent'), \n",
    "                         func.collect_set('country').alias('country'),\n",
    "                        func.first('entry_year').alias('entry_year'))\n",
    "                  .withColumn('inst_id', func.array_except(func.col('inst_id'), func.col('parent')))\n",
    "                  .withColumn('inst_id', func.explode(func.col('inst_id')))\n",
    "\n",
    "                 )\n",
    "#au_inst_period.cache()\n",
    "#au_inst_period.show()"
   ]
  },
  {
   "cell_type": "code",
   "execution_count": 15,
   "id": "fca6de71-e682-4d8e-ba2b-94e5db5c9835",
   "metadata": {},
   "outputs": [],
   "source": [
    "au_inst_period.write.mode('overwrite').parquet('file:\\\\' + save_path + 'au_inst_period.parquet')"
   ]
  },
  {
   "cell_type": "code",
   "execution_count": 33,
   "id": "99628548-9bf2-4eab-83c7-aaaceb35e1c5",
   "metadata": {},
   "outputs": [],
   "source": [
    "au_inst_period = spark.read.parquet('file:\\\\' + save_path + 'au_inst_period.parquet')"
   ]
  },
  {
   "cell_type": "code",
   "execution_count": 34,
   "id": "dbb49569-3a13-4fb3-b59b-e05722fd2ad5",
   "metadata": {},
   "outputs": [
    {
     "data": {
      "text/plain": [
       "3614"
      ]
     },
     "execution_count": 34,
     "metadata": {},
     "output_type": "execute_result"
    }
   ],
   "source": [
    "au_inst_period.select('inst_id').distinct().count()"
   ]
  },
  {
   "cell_type": "code",
   "execution_count": 10,
   "id": "495e66f3-b80b-4475-8501-76297ce4a261",
   "metadata": {},
   "outputs": [
    {
     "name": "stdout",
     "output_type": "stream",
     "text": [
      "+-----------+----+-------+-----------+--------------------+-------+----------+\n",
      "|  author_id|year|n_works|    inst_id|              parent|country|entry_year|\n",
      "+-----------+----+-------+-----------+--------------------+-------+----------+\n",
      "|A5000001649|2017|      3|I4210154078|[I4210087131, I22...|   [FR]|      2004|\n",
      "|A5000001649|2017|      3|I4210156486|[I4210087131, I22...|   [FR]|      2004|\n",
      "|A5000001718|2000|      1|   I9769675|                  []|   [FR]|      1998|\n",
      "|A5000001718|2000|      1|I1294671590|                  []|   [FR]|      1998|\n",
      "|A5000001718|2000|      1|  I90183372|                  []|   [FR]|      1998|\n",
      "|A5000004136|2004|      1|I4210145605|[I4210098836, I42...|   [FR]|      1997|\n",
      "|A5000004136|2005|      1|I1294671590|                  []|   [FR]|      1997|\n",
      "|A5000004136|2005|      1| I204730241|                  []|   [FR]|      1997|\n",
      "|A5000004136|2005|      1|  I39804081|                  []|   [FR]|      1997|\n",
      "|A5000006481|2019|      1|I4210126368|[I4210124215, I16...|   [FR]|      1998|\n",
      "|A5000006481|2019|      1|I1294671590|[I4210124215, I16...|   [FR]|      1998|\n",
      "|A5000006697|2007|      1|I4210128565|       [I4210127723]|   [FR]|      2003|\n",
      "|A5000006697|2007|      1|I2738703131|       [I4210127723]|   [FR]|      2003|\n",
      "|A5000007447|2007|      1|I4210120753|[I4210155116, I42...|   [FR]|      2006|\n",
      "|A5000008787|2019|      1|I4210157006|                  []|   [FR]|      1997|\n",
      "|A5000008887|2013|      1| I102516824|                  []|   [FR]|      2012|\n",
      "|A5000010208|2012|      2|I3019441195|       [I4210088668]|   [FR]|      2009|\n",
      "|A5000010208|2012|      2|I4210102957|       [I4210088668]|   [FR]|      2009|\n",
      "|A5000012045|2010|      1| I106530797|                  []|   [FR]|      2005|\n",
      "|A5000012967|2009|      4| I102197404|       [I4210097159]|   [FR]|      1997|\n",
      "+-----------+----+-------+-----------+--------------------+-------+----------+\n",
      "only showing top 20 rows\n",
      "\n"
     ]
    }
   ],
   "source": [
    "au_inst_period.show()"
   ]
  },
  {
   "cell_type": "code",
   "execution_count": 11,
   "id": "ef75da3c-1215-4438-87b7-9834cabdbcb5",
   "metadata": {},
   "outputs": [],
   "source": [
    "au_inst_period = (au_inst_period\n",
    "                  .filter(func.col('inst_id').isNotNull())\n",
    "                  .filter(func.col('author_id').isNotNull())\n",
    "                  .filter(func.col('year').isNotNull())\n",
    "                  .filter(func.col('author_id')!=\"A9999999999\")\n",
    "\n",
    "                    .withColumn('n_appearances', func.collect_set(func.struct(func.col('year').alias('year'),\n",
    "                                                                            func.col('n_works').alias('n_works'))).over(Window.partitionBy('author_id', 'inst_id')))\n",
    "                    \n",
    "                    .withColumn('n_appearances', func.array_compact(func.transform(func.col('n_appearances'), \n",
    "                                                      lambda x: func.when( (x.year >= func.col('year')-5) & (x.year <= func.col('year')+5), x.n_works.cast('int')))))\n",
    "                    .withColumn('n_appearances', func.aggregate(func.col('n_appearances'), func.lit(0), lambda acc, x: acc + x))\n",
    "                    #.withColumn('n_appearances_ctry', func.sum('n_works').over(Window.partitionBy('author_id','country')))\n",
    "                    \n",
    "                    #.withColumn('parent', func.regexp_replace(func.col('parent'), '\\}\\,\\{','\\}\\;\\{'))\n",
    "                    #.withColumn('parent', func.regexp_replace(func.col('parent'), '\\[',''))\n",
    "                    #.withColumn('parent', func.regexp_replace(func.col('parent'), '\\]',''))\n",
    "                    #.withColumn('parent', func.when(func.col('parent').contains(';'), func.split(func.col('parent'), ';'))\n",
    "                    #            .otherwise(func.array(func.col('parent'))))\n",
    "                    #.withColumn('parent', func.transform(func.col('parent'), lambda x: func.from_json(x, func.schema_of_json('{\"parent_id\":\"\",\"parent_name\":\"\",\"parent_type\":\"\"}'))))\n",
    "                    .withColumn('inst_id', func.when(  ((func.col('n_appearances')>1) )\n",
    "                                                     | (func.col('year') == func.col('entry_year'))\n",
    "                                                       , func.col('inst_id')))\n",
    "                    .withColumn('inst_id', func.when(func.col('inst_id').isNull(), func.last(func.col('inst_id'), ignorenulls = True).over(Window.partitionBy('author_id','year'))).otherwise(func.col('inst_id')))\n",
    "                    .select('author_id','inst_id','year','country')\n",
    "                    )"
   ]
  },
  {
   "cell_type": "code",
   "execution_count": 9,
   "id": "9d6b5c59-a115-4257-9793-a3bf4a7df2a6",
   "metadata": {
    "scrolled": true
   },
   "outputs": [],
   "source": [
    "au_inst_period.cache()\n",
    "au_inst_period.show()"
   ]
  },
  {
   "cell_type": "code",
   "execution_count": 21,
   "id": "9cce2bdb-33b5-48af-8475-e1ad588f6dd8",
   "metadata": {},
   "outputs": [],
   "source": [
    "#au_inst_period.filter(func.col('inst_id')==\"I51101395\").show()"
   ]
  },
  {
   "cell_type": "code",
   "execution_count": 22,
   "id": "86c053b7-02dc-4405-9c43-029d87c75825",
   "metadata": {},
   "outputs": [
    {
     "data": {
      "text/plain": [
       "6439373"
      ]
     },
     "execution_count": 22,
     "metadata": {},
     "output_type": "execute_result"
    }
   ],
   "source": [
    "au_inst_period.count() #6439373"
   ]
  },
  {
   "cell_type": "code",
   "execution_count": 12,
   "id": "b7896bcf-0fbf-44df-9cdd-86da21592085",
   "metadata": {},
   "outputs": [],
   "source": [
    "au_inst_period = (au_inst_period\n",
    "                  .join(inst\n",
    "                        .select('inst_id', 'merged_inst_id', func.collect_set('inst_id').over(Window.partitionBy('merged_inst_id')).alias('list_of_merged_inst')), \n",
    "                        on = 'inst_id', how ='left' )\n",
    "                  .withColumn('inst_id_set', func.collect_set('inst_id').over(Window.partitionBy('author_id','year')))\n",
    "                  .withColumn('lag_inst_id_set', func.lag('inst_id_set').over(Window.partitionBy('author_id').orderBy('year')))\n",
    "                  .withColumn('lag_year', func.lag('year').over(Window.partitionBy('author_id','inst_id').orderBy('year')))\n",
    "\n",
    "                 .withColumn('new_inst_period', func.when((func.col('lag_year').isNull())\n",
    "                                                            | (func.col('lag_year') == func.col('year')-1\n",
    "                                                               )\n",
    "                                                          | (func.array_contains(func.col('lag_inst_id_set'), 'merged_inst') )\n",
    "                                                          | (func.arrays_overlap(func.col('lag_inst_id_set'), 'list_of_merged_inst') )\n",
    "                                                          , 0)\n",
    "                                                      .otherwise(1))\n",
    "                  .withColumn('period_inst',1+ func.sum(func.col('new_inst_period')).over(Window.partitionBy(\"author_id\", \"inst_id\").orderBy('year')))    \n",
    "                 )\n",
    "#au_inst_period.cache()\n",
    "#au_inst_period.show()"
   ]
  },
  {
   "cell_type": "code",
   "execution_count": 12,
   "id": "7a047e2e-91f1-4d31-8f57-783a5e1836ca",
   "metadata": {},
   "outputs": [],
   "source": [
    "#au_inst_period.filter(func.col('inst_id') =='I51101395').sort('year').show()"
   ]
  },
  {
   "cell_type": "code",
   "execution_count": 13,
   "id": "494fa040-c61c-44e3-8906-11b0905a8fea",
   "metadata": {},
   "outputs": [],
   "source": [
    "au_inst_period = (au_inst_period\n",
    "                  .select(*au_inst_period.columns,\n",
    "                          (func.max(func.col('year')).over(Window.partitionBy('period_inst','inst_id','author_id'))).alias('last_y_inst_period'),\n",
    "                          (func.min(func.col('year')).over(Window.partitionBy('period_inst','inst_id','author_id'))).alias('first_y_inst_period'),\n",
    "                          func.size(func.col('inst_id_set')).alias('n_inst_y')\n",
    "                         )\n",
    "                  .withColumn('list_of_merged_inst', func.concat_ws(',', func.col('list_of_merged_inst')))\n",
    "                  .withColumn('inst_id_set', func.concat_ws(',', func.col('inst_id_set')))\n",
    "                  .withColumn('lag_inst_id_set', func.concat_ws(',', func.col('lag_inst_id_set')))\n",
    "\n",
    "                 )\n",
    "#au_inst_period.cache()\n",
    "#au_inst_period.show()"
   ]
  },
  {
   "cell_type": "code",
   "execution_count": 14,
   "id": "0f8495bb-1fb2-46e9-b919-5442c02467bc",
   "metadata": {},
   "outputs": [],
   "source": [
    "au_inst_period.write.mode('overwrite').parquet('file:\\\\' + save_path + 'au_inst_period_step2.parquet')"
   ]
  },
  {
   "cell_type": "code",
   "execution_count": null,
   "id": "8da001eb-4864-43b7-8b5c-20433d285d93",
   "metadata": {},
   "outputs": [],
   "source": [
    "au_inst_period = (spark.read.parquet('file:\\\\' + save_path + 'au_inst_period_step2.parquet')\n",
    "                  .filter(func.col('inst_id').isNotNull())\n",
    "                  .filter(func.col('author_id').isNotNull())\n",
    "                  .filter(func.col('year').isNotNull())\n",
    "                  .filter(func.col('author_id')!=\"A9999999999\")\n",
    "                  .select('inst_id','author_id','year','list_of_merged_inst','inst_id_set','lag_inst_id_set','period_inst','new_inst_period','n_inst_y')\n",
    "                 )"
   ]
  },
  {
   "cell_type": "code",
   "execution_count": null,
   "id": "6159bfc2-dc90-4502-8509-ad792c103e7c",
   "metadata": {},
   "outputs": [],
   "source": [
    "au_inst_period.show()"
   ]
  },
  {
   "cell_type": "code",
   "execution_count": 37,
   "id": "5ea829dc-1ff3-4f56-b904-e474f94c083c",
   "metadata": {},
   "outputs": [
    {
     "name": "stdout",
     "output_type": "stream",
     "text": [
      "+-----------+----+-----------+--------------------+------------------+\n",
      "|  source_id|year|source_type|     rank_source_pct|   abs_rank_source|\n",
      "+-----------+----+-----------+--------------------+------------------+\n",
      "| S100014387|2014|    journal|  0.9673077009503904| 407.3062015503876|\n",
      "| S100016587|1997|    journal|  0.6246648793565683|            1379.0|\n",
      "|S1000263748|2012|    journal|  0.8371196475285695|            2343.0|\n",
      "| S100028386|1995|    journal|  0.7268862911795961|             256.0|\n",
      "| S100045985|1972|    journal|  0.8776194467728415|             146.0|\n",
      "| S100062655|2021|    journal|                 0.0|               1.0|\n",
      "|S1000839972|2015|    journal|  0.8853067047075607|             401.0|\n",
      "|S1000944648|2012|    journal|  0.4543330087633885|            2603.0|\n",
      "| S100105777|1991|    journal|  0.5352664576802508|             549.0|\n",
      "| S100105777|2010|    journal| 0.48626549156502025| 4091.909090909091|\n",
      "|S1001192252|2011|    journal|0.030941856511390683|            5374.0|\n",
      "|  S10012645|2018|    journal|  0.9472974996256924|             704.0|\n",
      "| S100126920|2016|    journal|  0.7600129407958589|            3701.0|\n",
      "| S100134864|1985|    journal|  0.2925413130861992|            1491.0|\n",
      "| S100134864|2008|    journal|  0.9796550440238073|134.44897959183672|\n",
      "| S100140721|2013|    journal|  0.7984624090435979|1164.3703703703702|\n",
      "| S100141054|2006|    journal| 0.25001966753845034| 4443.333333333333|\n",
      "| S100141487|1973|    journal| 0.29298321839505487|             512.5|\n",
      "| S100141487|1983|    journal|  0.5727411944869831|             269.0|\n",
      "| S100141487|2003|    journal|  0.8322158177404422| 797.7058823529412|\n",
      "+-----------+----+-----------+--------------------+------------------+\n",
      "only showing top 20 rows\n",
      "\n"
     ]
    }
   ],
   "source": []
  },
  {
   "cell_type": "code",
   "execution_count": 20,
   "id": "b6d671b7-e5af-44d5-85cf-517962515b0c",
   "metadata": {},
   "outputs": [],
   "source": [
    "au_pub_y = (works_au_af_subset\n",
    "            .withColumnRenamed('publication_year','year')\n",
    "            .join(journals_ranking, on = ['source_id','year'], how = 'left')\n",
    "            .select('author_id','work_id', 'year','citations','rank_source_pct')\n",
    "            .distinct()\n",
    "            .filter(func.col('work_id').isNotNull())\n",
    "            .groupBy('author_id','year')\n",
    "            .agg(func.countDistinct('work_id').alias('publications_raw'),\n",
    "                 func.sum(func.col('citations')).alias('citations_raw'),\n",
    "\n",
    "                 func.round(func.mean('rank_source_pct'), 4).alias('avg_rank_source_raw'),\n",
    "                 func.sum((func.col('rank_source_pct')<= 0.5).cast('int')).alias('nr_source_btm_50pct_raw'),\n",
    "                 func.sum((func.col('rank_source_pct').between(0.5,0.9)).cast('int')).alias('nr_source_mid_40pct_raw'),\n",
    "                 func.sum((func.col('rank_source_pct')>= 0.8).cast('int')).alias('nr_source_top_20pct_raw'),\n",
    "                 func.sum((func.col('rank_source_pct')>= 0.9).cast('int')).alias('nr_source_top_10pct_raw'),\n",
    "                 func.sum((func.col('rank_source_pct')>= 0.95).cast('int')).alias('nr_source_top_5pct_raw'),\n",
    "\n",
    "                \n",
    "                )\n",
    "           )"
   ]
  },
  {
   "cell_type": "code",
   "execution_count": 21,
   "id": "83ffbdf4-e9e2-4dfd-ad60-6338179c3b53",
   "metadata": {},
   "outputs": [],
   "source": [
    "au_pub_y.write.mode('overwrite').parquet('file:\\\\' + save_path + 'au_pub_y.parquet')"
   ]
  },
  {
   "cell_type": "code",
   "execution_count": 30,
   "id": "26b0b0e4-3292-480b-8b3d-f1d4509f41f4",
   "metadata": {},
   "outputs": [],
   "source": [
    "au_pub_y = spark.read.parquet('file:\\\\' + save_path + 'au_pub_y.parquet')\n"
   ]
  },
  {
   "cell_type": "code",
   "execution_count": 31,
   "id": "1473a9ed-c36c-433f-bbf1-c26b9de40fdc",
   "metadata": {},
   "outputs": [
    {
     "data": {
      "text/plain": [
       "3402324"
      ]
     },
     "execution_count": 31,
     "metadata": {},
     "output_type": "execute_result"
    }
   ],
   "source": [
    "au_pub_y.cache()\n",
    "au_pub_y.count()"
   ]
  },
  {
   "cell_type": "code",
   "execution_count": 21,
   "id": "1e529719-7b20-43b3-952d-778a814a0eb3",
   "metadata": {
    "scrolled": true
   },
   "outputs": [
    {
     "name": "stdout",
     "output_type": "stream",
     "text": [
      "== Physical Plan ==\n",
      "*(1) Project [inst_id#1213, author_id#1214, year#1215, list_of_fused_inst#1218, inst_id_set#1219, lag_inst_id_set#1220, period_inst#1223L, new_inst_period#1222, n_inst_y#1226]\n",
      "+- *(1) Filter (((isnotnull(inst_id#1213) AND isnotnull(author_id#1214)) AND isnotnull(year#1215)) AND NOT (author_id#1214 = A9999999999))\n",
      "   +- *(1) ColumnarToRow\n",
      "      +- FileScan parquet [inst_id#1213,author_id#1214,year#1215,list_of_fused_inst#1218,inst_id_set#1219,lag_inst_id_set#1220,new_inst_period#1222,period_inst#1223L,n_inst_y#1226] Batched: true, DataFilters: [isnotnull(inst_id#1213), isnotnull(author_id#1214), isnotnull(year#1215), NOT (author_id#1214 = ..., Format: Parquet, Location: InMemoryFileIndex(1 paths)[file:/D:/panel_fr_res/au_inst_period_step2.parquet], PartitionFilters: [], PushedFilters: [IsNotNull(inst_id), IsNotNull(author_id), IsNotNull(year), Not(EqualTo(author_id,A9999999999))], ReadSchema: struct<inst_id:string,author_id:string,year:int,list_of_fused_inst:string,inst_id_set:string,lag_...\n",
      "\n",
      "\n"
     ]
    }
   ],
   "source": [
    "au_inst_period.explain()"
   ]
  },
  {
   "cell_type": "code",
   "execution_count": 22,
   "id": "8e8729ca-b589-4e32-8eaa-dba48a04cc07",
   "metadata": {
    "scrolled": true
   },
   "outputs": [
    {
     "name": "stdout",
     "output_type": "stream",
     "text": [
      "root\n",
      " |-- author_id: string (nullable = true)\n",
      " |-- inst_id: string (nullable = true)\n",
      " |-- year: integer (nullable = true)\n",
      " |-- list_of_fused_inst: string (nullable = true)\n",
      " |-- inst_id_set: string (nullable = true)\n",
      " |-- period_inst: long (nullable = true)\n",
      " |-- new_inst_period: integer (nullable = true)\n",
      " |-- n_inst_y: integer (nullable = true)\n",
      " |-- publications_raw: long (nullable = true)\n",
      " |-- citations_raw: long (nullable = true)\n",
      " |-- avg_rank_source_raw: double (nullable = true)\n",
      " |-- nr_source_btm_50pct_raw: long (nullable = true)\n",
      " |-- nr_source_mid_40pct_raw: long (nullable = true)\n",
      " |-- nr_source_top_20pct_raw: long (nullable = true)\n",
      " |-- nr_source_top_10pct_raw: long (nullable = true)\n",
      " |-- nr_source_top_5pct_raw: long (nullable = true)\n",
      " |-- publications: double (nullable = true)\n",
      " |-- citations: double (nullable = true)\n",
      " |-- name: string (nullable = true)\n",
      " |-- type: string (nullable = true)\n",
      " |-- city: string (nullable = true)\n",
      " |-- main_topic: string (nullable = true)\n",
      " |-- uni_pub: integer (nullable = true)\n",
      " |-- cnrs: integer (nullable = true)\n",
      " |-- acces_rce: string (nullable = true)\n",
      " |-- idex: string (nullable = false)\n",
      " |-- date_first_idex: integer (nullable = true)\n",
      " |-- total_idex_dotation: long (nullable = true)\n",
      " |-- fused_inst_id: string (nullable = true)\n",
      " |-- fusion_date: integer (nullable = true)\n",
      " |-- type_fr: string (nullable = true)\n",
      " |-- secteur: string (nullable = true)\n",
      " |-- universite: integer (nullable = true)\n",
      " |-- ecole: integer (nullable = true)\n",
      " |-- public: integer (nullable = true)\n",
      " |-- prive: integer (nullable = true)\n",
      " |-- entry_year: integer (nullable = true)\n",
      " |-- last_year: integer (nullable = true)\n",
      " |-- all_y_in_FR: long (nullable = true)\n",
      " |-- years_abroad: long (nullable = true)\n",
      " |-- author_name: string (nullable = true)\n",
      " |-- domain: string (nullable = true)\n",
      " |-- field: string (nullable = true)\n",
      " |-- subfield: string (nullable = true)\n",
      " |-- topic: string (nullable = true)\n",
      " |-- author_first_name: string (nullable = true)\n",
      " |-- gender: string (nullable = true)\n",
      " |-- entry_country: string (nullable = true)\n",
      "\n"
     ]
    }
   ],
   "source": [
    "au_inst_period_final = (au_inst_period\n",
    "                        .select('inst_id','author_id','year','list_of_merged_inst','inst_id_set','period_inst','new_inst_period','n_inst_y')\n",
    "                        .join(au_pub_y\n",
    "                        .filter(func.col('author_id')!=\"A9999999999\"),\n",
    "                        on = ['author_id','year'], how = 'left')\n",
    "                  .withColumn('publications', func.col('publications_raw')/func.col('n_inst_y'))\n",
    "                  .withColumn('citations', func.col('citations_raw')/func.col('n_inst_y'))\n",
    "                  .join(inst.distinct()\n",
    "                        .select('inst_id','name','type','city','main_topic','uni_pub','cnrs','acces_rce',\n",
    "                                'idex','date_first_idex','total_idex_dotation','merged_inst_id','fusion_date','type_fr','secteur',\n",
    "                                *[( (func.col('type_fr') == type_).cast('int')).alias(type_.lower().replace('é', 'e'))\n",
    "                                 for type_ in ['Université', 'École']],\n",
    "                                *[( (func.col('secteur') == type_).cast('int')).alias(type_.lower().replace('é', 'e'))\n",
    "                                 for type_ in ['public', 'privé']],\n",
    "                                \n",
    "                               ), on = ['inst_id'])\n",
    "                  .join(au_level_char, on = ['author_id'])\n",
    "                  #.withColumn('entry_cohort', func.when(func.col('entry_year')>=2000, func.col('entry_year'))\n",
    "                  #            .otherwise(func.round(func.col('entry_year')/5)*5))\n",
    "                  .withColumn('idex', func.concat_ws(',', func.array_sort(func.col('idex'))))\n",
    "                  #.withColumn('n_inst_id_sample', func.size(func.collect_set('inst_id').over(Window.partitionBy('author_id'))))\n",
    "                  #.withColumn('n_au_several_inst', func.size(func.collect_set(func.when(func.col('n_inst_id_sample')>1, func.col('author_id')))\n",
    "                  #                                           .over(Window.partitionBy('inst_id','field'))))\n",
    "                  #.withColumn('n_au_by_inst_field', func.size(func.collect_set(func.col('author_id'))\n",
    "                  #                                           .over(Window.partitionBy('inst_id','field'))))\n",
    "                  #.withColumn('n_by_field', func.size(func.collect_set('author_id').over(Window.partitionBy('field'))))\n",
    "                  #.withColumn('n_y_in_sample', func.size(func.collect_set('year').over(Window.partitionBy('author_id'))))\n",
    "                  #.filter(func.col('year').between(2000,2020))\n",
    "                 )\n",
    "au_inst_period_final.printSchema()"
   ]
  },
  {
   "cell_type": "code",
   "execution_count": 23,
   "id": "4106610f-0a19-4d56-a7dd-3d53f25ab28f",
   "metadata": {
    "scrolled": true
   },
   "outputs": [],
   "source": [
    "#au_inst_period.show()"
   ]
  },
  {
   "cell_type": "code",
   "execution_count": 24,
   "id": "44abf0c9-dcc3-4fe2-80cd-a517c38ff82a",
   "metadata": {
    "scrolled": true
   },
   "outputs": [],
   "source": [
    "au_inst_period_final.write.mode('overwrite').parquet('file:\\\\' + save_path + 'panel_non_sphericised.parquet')"
   ]
  },
  {
   "cell_type": "code",
   "execution_count": null,
   "id": "27574471-dfb8-4e96-a25f-c722dc25e286",
   "metadata": {},
   "outputs": [],
   "source": []
  },
  {
   "cell_type": "code",
   "execution_count": 69,
   "id": "d7b87855-b6b4-49a3-830b-c491f88f1fa4",
   "metadata": {},
   "outputs": [],
   "source": [
    "spark.catalog.clearCache()"
   ]
  },
  {
   "cell_type": "code",
   "execution_count": 7,
   "id": "5d69fbdf-d11c-40d2-ba80-ef60823b36d3",
   "metadata": {},
   "outputs": [],
   "source": [
    "au_inst_period = spark.read.format('parquet').load('file:\\\\' + save_path + 'panel_non_sphericised.parquet')"
   ]
  },
  {
   "cell_type": "code",
   "execution_count": 7,
   "id": "79996968-f72b-4af4-90b1-0a54af664007",
   "metadata": {},
   "outputs": [
    {
     "name": "stdout",
     "output_type": "stream",
     "text": [
      "+-----------+----+------------------+----------------+-----------+\n",
      "|  author_id|year|         citations|publications_raw|    inst_id|\n",
      "+-----------+----+------------------+----------------+-----------+\n",
      "|A5000037882|1993|15.333333333333334|               3|I1294671590|\n",
      "|A5000037882|1993|15.333333333333334|               3|I4210128565|\n",
      "|A5000037882|1993|15.333333333333334|               3|I2738703131|\n",
      "|A5000037882|1994|11.333333333333334|               3|I2738703131|\n",
      "|A5000037882|1994|11.333333333333334|               3|I4210128565|\n",
      "|A5000037882|1994|11.333333333333334|               3|I4210133362|\n",
      "|A5000037882|1995|              4.25|               3|I4210133362|\n",
      "|A5000037882|1995|              4.25|               3|I2738703131|\n",
      "|A5000037882|1995|              4.25|               3|I4210088322|\n",
      "|A5000037882|1995|              4.25|               3|I4210128565|\n",
      "|A5000037882|1996|              11.0|               2|I4210133362|\n",
      "|A5000037882|1996|              11.0|               2|I4210128565|\n",
      "|A5000037882|1996|              11.0|               2|I4210088322|\n",
      "|A5000037882|1997|               4.0|               1|I1294671590|\n",
      "|A5000037882|1998|              17.0|               3|I4210133362|\n",
      "|A5000037882|1998|              17.0|               3|I4210128565|\n",
      "|A5000037882|1999|              35.5|               8|I4210133362|\n",
      "|A5000037882|1999|              35.5|               8|I4210128565|\n",
      "|A5000037882|2000|               1.0|               1|I4210133362|\n",
      "|A5000037882|2011|0.6666666666666666|               2|I4210133362|\n",
      "|A5000037882|2011|0.6666666666666666|               2|I2738703131|\n",
      "|A5000037882|2011|0.6666666666666666|               2|I4210128565|\n",
      "+-----------+----+------------------+----------------+-----------+\n",
      "\n"
     ]
    }
   ],
   "source": [
    "au_inst_period.filter(func.col('author_id')==\"A5000037882\").select('author_id','year','citations','publications_raw','inst_id').distinct().sort('year').show(100)"
   ]
  },
  {
   "cell_type": "code",
   "execution_count": 26,
   "id": "a8c52b9c-6b7b-443e-8903-67d5ca269a9d",
   "metadata": {},
   "outputs": [
    {
     "data": {
      "text/plain": [
       "374557"
      ]
     },
     "execution_count": 26,
     "metadata": {},
     "output_type": "execute_result"
    }
   ],
   "source": [
    "au_inst_period.select('author_id').distinct().count()"
   ]
  },
  {
   "cell_type": "code",
   "execution_count": 28,
   "id": "56980955-b795-4390-8b1b-04c919dc3fa6",
   "metadata": {},
   "outputs": [
    {
     "data": {
      "text/plain": [
       "3552"
      ]
     },
     "execution_count": 28,
     "metadata": {},
     "output_type": "execute_result"
    }
   ],
   "source": [
    "au_inst_period.select('inst_id').distinct().count()"
   ]
  },
  {
   "cell_type": "code",
   "execution_count": 27,
   "id": "967c3ada-9981-4947-93d7-e951c7ca2f11",
   "metadata": {
    "scrolled": true
   },
   "outputs": [
    {
     "name": "stdout",
     "output_type": "stream",
     "text": [
      "+-----------+-----------+----+--------------------+--------------------+-----------+---------------+--------+----------------+-------------+-------------------+-----------------------+-----------------------+-----------------------+-----------------------+----------------------+------------+---------+--------------------+---------+------------+--------------------+-------+----+---------+---------+---------------+-------------------+-------------+-----------+----------+---------+----------+-----+------+-----+----------+---------+-----------+------------+-----------------+------+-----+-------------------+-------------------+-----------------+------+-------------+\n",
      "|  author_id|    inst_id|year|  list_of_fused_inst|         inst_id_set|period_inst|new_inst_period|n_inst_y|publications_raw|citations_raw|avg_rank_source_raw|nr_source_btm_50pct_raw|nr_source_mid_40pct_raw|nr_source_top_20pct_raw|nr_source_top_10pct_raw|nr_source_top_5pct_raw|publications|citations|                name|     type|        city|          main_topic|uni_pub|cnrs|acces_rce|     idex|date_first_idex|total_idex_dotation|fused_inst_id|fusion_date|   type_fr|  secteur|universite|ecole|public|prive|entry_year|last_year|all_y_in_FR|years_abroad|      author_name|domain|field|           subfield|              topic|author_first_name|gender|entry_country|\n",
      "+-----------+-----------+----+--------------------+--------------------+-----------+---------------+--------+----------------+-------------+-------------------+-----------------------+-----------------------+-----------------------+-----------------------+----------------------+------------+---------+--------------------+---------+------------+--------------------+-------+----+---------+---------+---------------+-------------------+-------------+-----------+----------+---------+----------+-----+------+-----+----------+---------+-----------+------------+-----------------+------+-----+-------------------+-------------------+-----------------+------+-------------+\n",
      "|A5036205978| I131077856|2002|I2802331213,I4210...|          I131077856|          1|              0|       1|               1|            4|             0.6546|                      0|                      1|                      0|                      0|                     0|         1.0|      4.0|Centre de Coopéra...| facility|       Paris|Agricultural and ...|      0|   0|        0|         |           NULL|               NULL|         NULL|       NULL| undefined|undefined|         0|    0|     0|    0|      1992|     2020|         15|          29|Fabrice Le Bellec|     1|   11|1107,1110,2707,3312|1107,1110,2707,3312|          Fabrice|     M|             |\n",
      "|A5036205978| I131077856|2004|I2802331213,I4210...|          I131077856|          1|              0|       1|               2|           62|             0.8243|                      0|                      1|                      1|                      1|                     1|         2.0|     62.0|Centre de Coopéra...| facility|       Paris|Agricultural and ...|      0|   0|        0|         |           NULL|               NULL|         NULL|       NULL| undefined|undefined|         0|    0|     0|    0|      1992|     2020|         15|          29|Fabrice Le Bellec|     1|   11|1107,1110,2707,3312|1107,1110,2707,3312|          Fabrice|     M|             |\n",
      "|A5036205978| I131077856|2005|I2802331213,I4210...|          I131077856|          1|              0|       1|               1|            0|               NULL|                   NULL|                   NULL|                   NULL|                   NULL|                  NULL|         1.0|      0.0|Centre de Coopéra...| facility|       Paris|Agricultural and ...|      0|   0|        0|         |           NULL|               NULL|         NULL|       NULL| undefined|undefined|         0|    0|     0|    0|      1992|     2020|         15|          29|Fabrice Le Bellec|     1|   11|1107,1110,2707,3312|1107,1110,2707,3312|          Fabrice|     M|             |\n",
      "|A5036205978| I131077856|2006|I2802331213,I4210...|I4210149295,I1310...|          1|              0|       2|               1|          253|             0.7626|                      0|                      1|                      0|                      0|                     0|         0.5|    126.5|Centre de Coopéra...| facility|       Paris|Agricultural and ...|      0|   0|        0|         |           NULL|               NULL|         NULL|       NULL| undefined|undefined|         0|    0|     0|    0|      1992|     2020|         15|          29|Fabrice Le Bellec|     1|   11|1107,1110,2707,3312|1107,1110,2707,3312|          Fabrice|     M|             |\n",
      "|A5036205978|I4210149295|2006|I2802331213,I4210...|I4210149295,I1310...|          1|              0|       2|               1|          253|             0.7626|                      0|                      1|                      0|                      0|                     0|         0.5|    126.5|Institut Pasteur ...| facility|  Les Abymes|            Medicine|      0|   0|        0|         |           NULL|               NULL|         NULL|       NULL| undefined|undefined|         0|    0|     0|    0|      1992|     2020|         15|          29|Fabrice Le Bellec|     1|   11|1107,1110,2707,3312|1107,1110,2707,3312|          Fabrice|     M|             |\n",
      "|A5036205978| I131077856|2007|I2802331213,I4210...|          I131077856|          1|              0|       1|               5|            1|             0.8067|                      0|                      1|                      1|                      0|                     0|         5.0|      1.0|Centre de Coopéra...| facility|       Paris|Agricultural and ...|      0|   0|        0|         |           NULL|               NULL|         NULL|       NULL| undefined|undefined|         0|    0|     0|    0|      1992|     2020|         15|          29|Fabrice Le Bellec|     1|   11|1107,1110,2707,3312|1107,1110,2707,3312|          Fabrice|     M|             |\n",
      "|A5036205978|I4210158756|2008|I2802331213,I4210...|         I4210158756|          1|              0|       1|               2|           25|             0.9784|                      0|                      0|                      1|                      1|                     1|         2.0|     25.0|Systèmes d’élevag...| facility| Montpellier|Agricultural and ...|      0|   0|        0|         |           NULL|               NULL|         NULL|       NULL| undefined|undefined|         0|    0|     0|    0|      1992|     2020|         15|          29|Fabrice Le Bellec|     1|   11|1107,1110,2707,3312|1107,1110,2707,3312|          Fabrice|     M|             |\n",
      "|A5036205978| I131077856|2009|I2802331213,I4210...|          I131077856|          1|              0|       1|               1|            0|               NULL|                   NULL|                   NULL|                   NULL|                   NULL|                  NULL|         1.0|      0.0|Centre de Coopéra...| facility|       Paris|Agricultural and ...|      0|   0|        0|         |           NULL|               NULL|         NULL|       NULL| undefined|undefined|         0|    0|     0|    0|      1992|     2020|         15|          29|Fabrice Le Bellec|     1|   11|1107,1110,2707,3312|1107,1110,2707,3312|          Fabrice|     M|             |\n",
      "|A5036205978| I131077856|2010|I2802331213,I4210...|I4210149295,I1310...|          1|              0|       2|               3|           58|             0.9514|                      0|                      0|                      1|                      1|                     1|         1.5|     29.0|Centre de Coopéra...| facility|       Paris|Agricultural and ...|      0|   0|        0|         |           NULL|               NULL|         NULL|       NULL| undefined|undefined|         0|    0|     0|    0|      1992|     2020|         15|          29|Fabrice Le Bellec|     1|   11|1107,1110,2707,3312|1107,1110,2707,3312|          Fabrice|     M|             |\n",
      "|A5036205978|I4210149295|2010|I2802331213,I4210...|I4210149295,I1310...|          1|              0|       2|               3|           58|             0.9514|                      0|                      0|                      1|                      1|                     1|         1.5|     29.0|Institut Pasteur ...| facility|  Les Abymes|            Medicine|      0|   0|        0|         |           NULL|               NULL|         NULL|       NULL| undefined|undefined|         0|    0|     0|    0|      1992|     2020|         15|          29|Fabrice Le Bellec|     1|   11|1107,1110,2707,3312|1107,1110,2707,3312|          Fabrice|     M|             |\n",
      "|A5036205978|I4210123768|2011|I2802331213,I4210...|I4210149295,I4210...|          1|              0|       2|               4|          112|             0.8987|                      0|                      2|                      3|                      1|                     1|         2.0|     56.0|Fonctionnement et...| facility| Montpellier|Agricultural and ...|      0|   0|        0|         |           NULL|               NULL|         NULL|       NULL| undefined|   public|         0|    0|     1|    0|      1992|     2020|         15|          29|Fabrice Le Bellec|     1|   11|1107,1110,2707,3312|1107,1110,2707,3312|          Fabrice|     M|             |\n",
      "|A5036205978|I4210149295|2011|I2802331213,I4210...|I4210149295,I4210...|          1|              0|       2|               4|          112|             0.8987|                      0|                      2|                      3|                      1|                     1|         2.0|     56.0|Institut Pasteur ...| facility|  Les Abymes|            Medicine|      0|   0|        0|         |           NULL|               NULL|         NULL|       NULL| undefined|undefined|         0|    0|     0|    0|      1992|     2020|         15|          29|Fabrice Le Bellec|     1|   11|1107,1110,2707,3312|1107,1110,2707,3312|          Fabrice|     M|             |\n",
      "|A5036205978|I4210123768|2013|I2802331213,I4210...|I4210135772,I4210...|          1|              0|       2|               3|           69|             0.9303|                      0|                      1|                      2|                      1|                     1|         1.5|     34.5|Fonctionnement et...| facility| Montpellier|Agricultural and ...|      0|   0|        0|         |           NULL|               NULL|         NULL|       NULL| undefined|   public|         0|    0|     1|    0|      1992|     2020|         15|          29|Fabrice Le Bellec|     1|   11|1107,1110,2707,3312|1107,1110,2707,3312|          Fabrice|     M|             |\n",
      "|A5036205978|I4210135772|2013|I2802331213,I4210...|I4210135772,I4210...|          1|              0|       2|               3|           69|             0.9303|                      0|                      1|                      2|                      1|                     1|         1.5|     34.5|Peuplements végét...| facility|Saint-Pierre|Agricultural and ...|      1|   0|        0|         |           NULL|               NULL|         NULL|       NULL|Université|   public|         1|    0|     1|    0|      1992|     2020|         15|          29|Fabrice Le Bellec|     1|   11|1107,1110,2707,3312|1107,1110,2707,3312|          Fabrice|     M|             |\n",
      "|A5036205978| I131077856|2015|I2802331213,I4210...|I131077856,I42101...|          1|              0|       2|               2|           29|             0.9968|                      0|                      0|                      1|                      1|                     1|         1.0|     14.5|Centre de Coopéra...| facility|       Paris|Agricultural and ...|      0|   0|        0|         |           NULL|               NULL|         NULL|       NULL| undefined|undefined|         0|    0|     0|    0|      1992|     2020|         15|          29|Fabrice Le Bellec|     1|   11|1107,1110,2707,3312|1107,1110,2707,3312|          Fabrice|     M|             |\n",
      "|A5036205978|I4210122476|2015|I2802331213,I4210...|I131077856,I42101...|          1|              0|       2|               2|           29|             0.9968|                      0|                      0|                      1|                      1|                     1|         1.0|     14.5|     UMR Territoires| facility|     Aubière|Agricultural and ...|      1|   0|        0|         |           NULL|               NULL|         NULL|       NULL|Université|   public|         1|    0|     1|    0|      1992|     2020|         15|          29|Fabrice Le Bellec|     1|   11|1107,1110,2707,3312|1107,1110,2707,3312|          Fabrice|     M|             |\n",
      "|A5036205978|I4210123768|2017|I2802331213,I4210...|         I4210123768|          1|              0|       1|               2|            9|             0.8622|                      0|                      1|                      1|                      0|                     0|         2.0|      9.0|Fonctionnement et...| facility| Montpellier|Agricultural and ...|      0|   0|        0|         |           NULL|               NULL|         NULL|       NULL| undefined|   public|         0|    0|     1|    0|      1992|     2020|         15|          29|Fabrice Le Bellec|     1|   11|1107,1110,2707,3312|1107,1110,2707,3312|          Fabrice|     M|             |\n",
      "|A5036205978| I131077856|2018|I2802331213,I4210...|I19894307,I131077856|          1|              0|       2|               4|            5|             0.7408|                      0|                      1|                      0|                      0|                     0|         2.0|      2.5|Centre de Coopéra...| facility|       Paris|Agricultural and ...|      0|   0|        0|         |           NULL|               NULL|         NULL|       NULL| undefined|undefined|         0|    0|     0|    0|      1992|     2020|         15|          29|Fabrice Le Bellec|     1|   11|1107,1110,2707,3312|1107,1110,2707,3312|          Fabrice|     M|             |\n",
      "|A5036205978|  I19894307|2018|I2802331213,I4210...|I19894307,I131077856|          1|              0|       2|               4|            5|             0.7408|                      0|                      1|                      0|                      0|                     0|         2.0|      2.5|Université de Mon...|education| Montpellier|Earth and Planeta...|      1|   0|        0|idex_muse|           2017|           84018666|         NULL|       NULL|Université|   public|         1|    0|     1|    0|      1992|     2020|         15|          29|Fabrice Le Bellec|     1|   11|1107,1110,2707,3312|1107,1110,2707,3312|          Fabrice|     M|             |\n",
      "|A5036205978|I4210123768|2019|I2802331213,I4210...|         I4210123768|          1|              0|       1|               1|            5|             0.8462|                      0|                      1|                      1|                      0|                     0|         1.0|      5.0|Fonctionnement et...| facility| Montpellier|Agricultural and ...|      0|   0|        0|         |           NULL|               NULL|         NULL|       NULL| undefined|   public|         0|    0|     1|    0|      1992|     2020|         15|          29|Fabrice Le Bellec|     1|   11|1107,1110,2707,3312|1107,1110,2707,3312|          Fabrice|     M|             |\n",
      "+-----------+-----------+----+--------------------+--------------------+-----------+---------------+--------+----------------+-------------+-------------------+-----------------------+-----------------------+-----------------------+-----------------------+----------------------+------------+---------+--------------------+---------+------------+--------------------+-------+----+---------+---------+---------------+-------------------+-------------+-----------+----------+---------+----------+-----+------+-----+----------+---------+-----------+------------+-----------------+------+-----+-------------------+-------------------+-----------------+------+-------------+\n",
      "only showing top 20 rows\n",
      "\n"
     ]
    }
   ],
   "source": [
    "au_inst_period.filter(func.col('author_id') =='A5036205978').sort('year').show()"
   ]
  },
  {
   "cell_type": "code",
   "execution_count": 12,
   "id": "c069ccd5-0fc2-4fa0-b207-28f54d98f81b",
   "metadata": {
    "scrolled": true
   },
   "outputs": [
    {
     "name": "stdout",
     "output_type": "stream",
     "text": [
      "+-----------+----+\n",
      "|  author_id|year|\n",
      "+-----------+----+\n",
      "|A5036205978|2002|\n",
      "|A5036205978|2003|\n",
      "|A5036205978|2004|\n",
      "|A5036205978|2005|\n",
      "|A5036205978|2006|\n",
      "|A5036205978|2007|\n",
      "|A5036205978|2008|\n",
      "|A5036205978|2009|\n",
      "|A5036205978|2010|\n",
      "|A5036205978|2011|\n",
      "|A5036205978|2012|\n",
      "|A5036205978|2013|\n",
      "|A5036205978|2014|\n",
      "|A5036205978|2015|\n",
      "|A5036205978|2016|\n",
      "|A5036205978|2017|\n",
      "|A5036205978|2018|\n",
      "|A5036205978|2019|\n",
      "|A5036205978|2020|\n",
      "+-----------+----+\n",
      "\n"
     ]
    }
   ],
   "source": [
    "au_all_years = (au_inst_period\n",
    "                .groupBy('author_id')\n",
    "                .agg(func.min('year').alias('entry_year'), func.max('year').alias('last_year'))\n",
    "                .select('author_id',\n",
    "                        func.explode(func.sequence(func.col('entry_year'), func.col('last_year'))).alias('year')\n",
    "                       )\n",
    "               )\n",
    "au_all_years.cache()\n",
    "au_all_years.filter(func.col('author_id') =='A5036205978').show()\n"
   ]
  },
  {
   "cell_type": "code",
   "execution_count": 9,
   "id": "65f98fa0-c018-44ab-8273-2d9a3014f0eb",
   "metadata": {},
   "outputs": [
    {
     "name": "stdout",
     "output_type": "stream",
     "text": [
      "+-----------+----+\n",
      "|  author_id|year|\n",
      "+-----------+----+\n",
      "|A5000037882|1993|\n",
      "|A5000037882|1994|\n",
      "|A5000037882|1995|\n",
      "|A5000037882|1996|\n",
      "|A5000037882|1997|\n",
      "|A5000037882|1998|\n",
      "|A5000037882|1999|\n",
      "|A5000037882|2000|\n",
      "|A5000037882|2001|\n",
      "|A5000037882|2002|\n",
      "|A5000037882|2003|\n",
      "|A5000037882|2004|\n",
      "|A5000037882|2005|\n",
      "|A5000037882|2006|\n",
      "|A5000037882|2007|\n",
      "|A5000037882|2008|\n",
      "|A5000037882|2009|\n",
      "|A5000037882|2010|\n",
      "|A5000037882|2011|\n",
      "+-----------+----+\n",
      "\n"
     ]
    }
   ],
   "source": [
    "au_all_years.filter(func.col('author_id') =='A5000037882').show()\n"
   ]
  },
  {
   "cell_type": "code",
   "execution_count": 13,
   "id": "db5b6006-279b-4934-b4a5-c8f0f537cb3a",
   "metadata": {
    "scrolled": true
   },
   "outputs": [
    {
     "name": "stderr",
     "output_type": "stream",
     "text": [
      "ERROR:root:Exception while sending command.\n",
      "Traceback (most recent call last):\n",
      "  File \"C:\\ProgramData\\anaconda3\\envs\\pyspark_env\\lib\\site-packages\\IPython\\core\\interactiveshell.py\", line 3526, in run_code\n",
      "    exec(code_obj, self.user_global_ns, self.user_ns)\n",
      "  File \"C:\\Users\\raphael.wargon\\AppData\\Local\\Temp\\ipykernel_22888\\2585204683.py\", line 14, in <module>\n",
      "    au_period.count()\n",
      "  File \"C:\\ProgramData\\anaconda3\\envs\\pyspark_env\\lib\\site-packages\\pyspark\\sql\\dataframe.py\", line 1240, in count\n",
      "    return int(self._jdf.count())\n",
      "  File \"C:\\ProgramData\\anaconda3\\envs\\pyspark_env\\lib\\site-packages\\py4j\\java_gateway.py\", line 1322, in __call__\n",
      "    return_value = get_return_value(\n",
      "  File \"C:\\ProgramData\\anaconda3\\envs\\pyspark_env\\lib\\site-packages\\pyspark\\errors\\exceptions\\captured.py\", line 179, in deco\n",
      "    return f(*a, **kw)\n",
      "  File \"C:\\ProgramData\\anaconda3\\envs\\pyspark_env\\lib\\site-packages\\py4j\\protocol.py\", line 326, in get_return_value\n",
      "    raise Py4JJavaError(\n",
      "py4j.protocol.Py4JJavaError: <exception str() failed>\n",
      "\n",
      "During handling of the above exception, another exception occurred:\n",
      "\n",
      "Traceback (most recent call last):\n",
      "  File \"C:\\ProgramData\\anaconda3\\envs\\pyspark_env\\lib\\site-packages\\py4j\\clientserver.py\", line 511, in send_command\n",
      "    answer = smart_decode(self.stream.readline()[:-1])\n",
      "  File \"C:\\ProgramData\\anaconda3\\envs\\pyspark_env\\lib\\socket.py\", line 716, in readinto\n",
      "    return self._sock.recv_into(b)\n",
      "ConnectionResetError: [WinError 10054] Une connexion existante a dû être fermée par l’hôte distant\n",
      "\n",
      "During handling of the above exception, another exception occurred:\n",
      "\n",
      "Traceback (most recent call last):\n",
      "  File \"C:\\ProgramData\\anaconda3\\envs\\pyspark_env\\lib\\site-packages\\py4j\\java_gateway.py\", line 1038, in send_command\n",
      "    response = connection.send_command(command)\n",
      "  File \"C:\\ProgramData\\anaconda3\\envs\\pyspark_env\\lib\\site-packages\\py4j\\clientserver.py\", line 539, in send_command\n",
      "    raise Py4JNetworkError(\n",
      "py4j.protocol.Py4JNetworkError: Error while sending or receiving\n"
     ]
    },
    {
     "ename": "ConnectionRefusedError",
     "evalue": "[WinError 10061] Aucune connexion n’a pu être établie car l’ordinateur cible l’a expressément refusée",
     "output_type": "error",
     "traceback": [
      "\u001b[1;31m---------------------------------------------------------------------------\u001b[0m",
      "\u001b[1;31mPy4JJavaError\u001b[0m                             Traceback (most recent call last)",
      "    \u001b[1;31m[... skipping hidden 1 frame]\u001b[0m\n",
      "Cell \u001b[1;32mIn[13], line 14\u001b[0m\n\u001b[0;32m     13\u001b[0m au_period\u001b[38;5;241m.\u001b[39mcache()\n\u001b[1;32m---> 14\u001b[0m \u001b[43mau_period\u001b[49m\u001b[38;5;241;43m.\u001b[39;49m\u001b[43mcount\u001b[49m\u001b[43m(\u001b[49m\u001b[43m)\u001b[49m\n",
      "File \u001b[1;32mC:\\ProgramData\\anaconda3\\envs\\pyspark_env\\lib\\site-packages\\pyspark\\sql\\dataframe.py:1240\u001b[0m, in \u001b[0;36mDataFrame.count\u001b[1;34m(self)\u001b[0m\n\u001b[0;32m   1218\u001b[0m \u001b[38;5;250m\u001b[39m\u001b[38;5;124;03m\"\"\"Returns the number of rows in this :class:`DataFrame`.\u001b[39;00m\n\u001b[0;32m   1219\u001b[0m \n\u001b[0;32m   1220\u001b[0m \u001b[38;5;124;03m.. versionadded:: 1.3.0\u001b[39;00m\n\u001b[1;32m   (...)\u001b[0m\n\u001b[0;32m   1238\u001b[0m \u001b[38;5;124;03m3\u001b[39;00m\n\u001b[0;32m   1239\u001b[0m \u001b[38;5;124;03m\"\"\"\u001b[39;00m\n\u001b[1;32m-> 1240\u001b[0m \u001b[38;5;28;01mreturn\u001b[39;00m \u001b[38;5;28mint\u001b[39m(\u001b[38;5;28;43mself\u001b[39;49m\u001b[38;5;241;43m.\u001b[39;49m\u001b[43m_jdf\u001b[49m\u001b[38;5;241;43m.\u001b[39;49m\u001b[43mcount\u001b[49m\u001b[43m(\u001b[49m\u001b[43m)\u001b[49m)\n",
      "File \u001b[1;32mC:\\ProgramData\\anaconda3\\envs\\pyspark_env\\lib\\site-packages\\py4j\\java_gateway.py:1322\u001b[0m, in \u001b[0;36mJavaMember.__call__\u001b[1;34m(self, *args)\u001b[0m\n\u001b[0;32m   1321\u001b[0m answer \u001b[38;5;241m=\u001b[39m \u001b[38;5;28mself\u001b[39m\u001b[38;5;241m.\u001b[39mgateway_client\u001b[38;5;241m.\u001b[39msend_command(command)\n\u001b[1;32m-> 1322\u001b[0m return_value \u001b[38;5;241m=\u001b[39m \u001b[43mget_return_value\u001b[49m\u001b[43m(\u001b[49m\n\u001b[0;32m   1323\u001b[0m \u001b[43m    \u001b[49m\u001b[43manswer\u001b[49m\u001b[43m,\u001b[49m\u001b[43m \u001b[49m\u001b[38;5;28;43mself\u001b[39;49m\u001b[38;5;241;43m.\u001b[39;49m\u001b[43mgateway_client\u001b[49m\u001b[43m,\u001b[49m\u001b[43m \u001b[49m\u001b[38;5;28;43mself\u001b[39;49m\u001b[38;5;241;43m.\u001b[39;49m\u001b[43mtarget_id\u001b[49m\u001b[43m,\u001b[49m\u001b[43m \u001b[49m\u001b[38;5;28;43mself\u001b[39;49m\u001b[38;5;241;43m.\u001b[39;49m\u001b[43mname\u001b[49m\u001b[43m)\u001b[49m\n\u001b[0;32m   1325\u001b[0m \u001b[38;5;28;01mfor\u001b[39;00m temp_arg \u001b[38;5;129;01min\u001b[39;00m temp_args:\n",
      "File \u001b[1;32mC:\\ProgramData\\anaconda3\\envs\\pyspark_env\\lib\\site-packages\\pyspark\\errors\\exceptions\\captured.py:179\u001b[0m, in \u001b[0;36mcapture_sql_exception.<locals>.deco\u001b[1;34m(*a, **kw)\u001b[0m\n\u001b[0;32m    178\u001b[0m \u001b[38;5;28;01mtry\u001b[39;00m:\n\u001b[1;32m--> 179\u001b[0m     \u001b[38;5;28;01mreturn\u001b[39;00m f(\u001b[38;5;241m*\u001b[39ma, \u001b[38;5;241m*\u001b[39m\u001b[38;5;241m*\u001b[39mkw)\n\u001b[0;32m    180\u001b[0m \u001b[38;5;28;01mexcept\u001b[39;00m Py4JJavaError \u001b[38;5;28;01mas\u001b[39;00m e:\n",
      "File \u001b[1;32mC:\\ProgramData\\anaconda3\\envs\\pyspark_env\\lib\\site-packages\\py4j\\protocol.py:326\u001b[0m, in \u001b[0;36mget_return_value\u001b[1;34m(answer, gateway_client, target_id, name)\u001b[0m\n\u001b[0;32m    325\u001b[0m \u001b[38;5;28;01mif\u001b[39;00m answer[\u001b[38;5;241m1\u001b[39m] \u001b[38;5;241m==\u001b[39m REFERENCE_TYPE:\n\u001b[1;32m--> 326\u001b[0m     \u001b[38;5;28;01mraise\u001b[39;00m Py4JJavaError(\n\u001b[0;32m    327\u001b[0m         \u001b[38;5;124m\"\u001b[39m\u001b[38;5;124mAn error occurred while calling \u001b[39m\u001b[38;5;132;01m{0}\u001b[39;00m\u001b[38;5;132;01m{1}\u001b[39;00m\u001b[38;5;132;01m{2}\u001b[39;00m\u001b[38;5;124m.\u001b[39m\u001b[38;5;130;01m\\n\u001b[39;00m\u001b[38;5;124m\"\u001b[39m\u001b[38;5;241m.\u001b[39m\n\u001b[0;32m    328\u001b[0m         \u001b[38;5;28mformat\u001b[39m(target_id, \u001b[38;5;124m\"\u001b[39m\u001b[38;5;124m.\u001b[39m\u001b[38;5;124m\"\u001b[39m, name), value)\n\u001b[0;32m    329\u001b[0m \u001b[38;5;28;01melse\u001b[39;00m:\n",
      "\u001b[1;31m<class 'str'>\u001b[0m: (<class 'ConnectionRefusedError'>, ConnectionRefusedError(10061, 'Aucune connexion n’a pu être établie car l’ordinateur cible l’a expressément refusée', None, 10061, None))",
      "\nDuring handling of the above exception, another exception occurred:\n",
      "\u001b[1;31mConnectionRefusedError\u001b[0m                    Traceback (most recent call last)",
      "    \u001b[1;31m[... skipping hidden 1 frame]\u001b[0m\n",
      "File \u001b[1;32mC:\\ProgramData\\anaconda3\\envs\\pyspark_env\\lib\\site-packages\\IPython\\core\\interactiveshell.py:2131\u001b[0m, in \u001b[0;36mInteractiveShell.showtraceback\u001b[1;34m(self, exc_tuple, filename, tb_offset, exception_only, running_compiled_code)\u001b[0m\n\u001b[0;32m   2128\u001b[0m         traceback\u001b[38;5;241m.\u001b[39mprint_exc()\n\u001b[0;32m   2129\u001b[0m         \u001b[38;5;28;01mreturn\u001b[39;00m \u001b[38;5;28;01mNone\u001b[39;00m\n\u001b[1;32m-> 2131\u001b[0m     \u001b[38;5;28;43mself\u001b[39;49m\u001b[38;5;241;43m.\u001b[39;49m\u001b[43m_showtraceback\u001b[49m\u001b[43m(\u001b[49m\u001b[43metype\u001b[49m\u001b[43m,\u001b[49m\u001b[43m \u001b[49m\u001b[43mvalue\u001b[49m\u001b[43m,\u001b[49m\u001b[43m \u001b[49m\u001b[43mstb\u001b[49m\u001b[43m)\u001b[49m\n\u001b[0;32m   2132\u001b[0m \u001b[38;5;28;01mif\u001b[39;00m \u001b[38;5;28mself\u001b[39m\u001b[38;5;241m.\u001b[39mcall_pdb:\n\u001b[0;32m   2133\u001b[0m     \u001b[38;5;66;03m# drop into debugger\u001b[39;00m\n\u001b[0;32m   2134\u001b[0m     \u001b[38;5;28mself\u001b[39m\u001b[38;5;241m.\u001b[39mdebugger(force\u001b[38;5;241m=\u001b[39m\u001b[38;5;28;01mTrue\u001b[39;00m)\n",
      "File \u001b[1;32mC:\\ProgramData\\anaconda3\\envs\\pyspark_env\\lib\\site-packages\\ipykernel\\zmqshell.py:559\u001b[0m, in \u001b[0;36mZMQInteractiveShell._showtraceback\u001b[1;34m(self, etype, evalue, stb)\u001b[0m\n\u001b[0;32m    553\u001b[0m sys\u001b[38;5;241m.\u001b[39mstdout\u001b[38;5;241m.\u001b[39mflush()\n\u001b[0;32m    554\u001b[0m sys\u001b[38;5;241m.\u001b[39mstderr\u001b[38;5;241m.\u001b[39mflush()\n\u001b[0;32m    556\u001b[0m exc_content \u001b[38;5;241m=\u001b[39m {\n\u001b[0;32m    557\u001b[0m     \u001b[38;5;124m\"\u001b[39m\u001b[38;5;124mtraceback\u001b[39m\u001b[38;5;124m\"\u001b[39m: stb,\n\u001b[0;32m    558\u001b[0m     \u001b[38;5;124m\"\u001b[39m\u001b[38;5;124mename\u001b[39m\u001b[38;5;124m\"\u001b[39m: \u001b[38;5;28mstr\u001b[39m(etype\u001b[38;5;241m.\u001b[39m\u001b[38;5;18m__name__\u001b[39m),\n\u001b[1;32m--> 559\u001b[0m     \u001b[38;5;124m\"\u001b[39m\u001b[38;5;124mevalue\u001b[39m\u001b[38;5;124m\"\u001b[39m: \u001b[38;5;28;43mstr\u001b[39;49m\u001b[43m(\u001b[49m\u001b[43mevalue\u001b[49m\u001b[43m)\u001b[49m,\n\u001b[0;32m    560\u001b[0m }\n\u001b[0;32m    562\u001b[0m dh \u001b[38;5;241m=\u001b[39m \u001b[38;5;28mself\u001b[39m\u001b[38;5;241m.\u001b[39mdisplayhook\n\u001b[0;32m    563\u001b[0m \u001b[38;5;66;03m# Send exception info over pub socket for other clients than the caller\u001b[39;00m\n\u001b[0;32m    564\u001b[0m \u001b[38;5;66;03m# to pick up\u001b[39;00m\n",
      "File \u001b[1;32mC:\\ProgramData\\anaconda3\\envs\\pyspark_env\\lib\\site-packages\\py4j\\protocol.py:471\u001b[0m, in \u001b[0;36mPy4JJavaError.__str__\u001b[1;34m(self)\u001b[0m\n\u001b[0;32m    469\u001b[0m \u001b[38;5;28;01mdef\u001b[39;00m \u001b[38;5;21m__str__\u001b[39m(\u001b[38;5;28mself\u001b[39m):\n\u001b[0;32m    470\u001b[0m     gateway_client \u001b[38;5;241m=\u001b[39m \u001b[38;5;28mself\u001b[39m\u001b[38;5;241m.\u001b[39mjava_exception\u001b[38;5;241m.\u001b[39m_gateway_client\n\u001b[1;32m--> 471\u001b[0m     answer \u001b[38;5;241m=\u001b[39m \u001b[43mgateway_client\u001b[49m\u001b[38;5;241;43m.\u001b[39;49m\u001b[43msend_command\u001b[49m\u001b[43m(\u001b[49m\u001b[38;5;28;43mself\u001b[39;49m\u001b[38;5;241;43m.\u001b[39;49m\u001b[43mexception_cmd\u001b[49m\u001b[43m)\u001b[49m\n\u001b[0;32m    472\u001b[0m     return_value \u001b[38;5;241m=\u001b[39m get_return_value(answer, gateway_client, \u001b[38;5;28;01mNone\u001b[39;00m, \u001b[38;5;28;01mNone\u001b[39;00m)\n\u001b[0;32m    473\u001b[0m     \u001b[38;5;66;03m# Note: technically this should return a bytestring 'str' rather than\u001b[39;00m\n\u001b[0;32m    474\u001b[0m     \u001b[38;5;66;03m# unicodes in Python 2; however, it can return unicodes for now.\u001b[39;00m\n\u001b[0;32m    475\u001b[0m     \u001b[38;5;66;03m# See https://github.com/bartdag/py4j/issues/306 for more details.\u001b[39;00m\n",
      "File \u001b[1;32mC:\\ProgramData\\anaconda3\\envs\\pyspark_env\\lib\\site-packages\\py4j\\java_gateway.py:1036\u001b[0m, in \u001b[0;36mGatewayClient.send_command\u001b[1;34m(self, command, retry, binary)\u001b[0m\n\u001b[0;32m   1015\u001b[0m \u001b[38;5;28;01mdef\u001b[39;00m \u001b[38;5;21msend_command\u001b[39m(\u001b[38;5;28mself\u001b[39m, command, retry\u001b[38;5;241m=\u001b[39m\u001b[38;5;28;01mTrue\u001b[39;00m, binary\u001b[38;5;241m=\u001b[39m\u001b[38;5;28;01mFalse\u001b[39;00m):\n\u001b[0;32m   1016\u001b[0m \u001b[38;5;250m    \u001b[39m\u001b[38;5;124;03m\"\"\"Sends a command to the JVM. This method is not intended to be\u001b[39;00m\n\u001b[0;32m   1017\u001b[0m \u001b[38;5;124;03m       called directly by Py4J users. It is usually called by\u001b[39;00m\n\u001b[0;32m   1018\u001b[0m \u001b[38;5;124;03m       :class:`JavaMember` instances.\u001b[39;00m\n\u001b[1;32m   (...)\u001b[0m\n\u001b[0;32m   1034\u001b[0m \u001b[38;5;124;03m     if `binary` is `True`.\u001b[39;00m\n\u001b[0;32m   1035\u001b[0m \u001b[38;5;124;03m    \"\"\"\u001b[39;00m\n\u001b[1;32m-> 1036\u001b[0m     connection \u001b[38;5;241m=\u001b[39m \u001b[38;5;28;43mself\u001b[39;49m\u001b[38;5;241;43m.\u001b[39;49m\u001b[43m_get_connection\u001b[49m\u001b[43m(\u001b[49m\u001b[43m)\u001b[49m\n\u001b[0;32m   1037\u001b[0m     \u001b[38;5;28;01mtry\u001b[39;00m:\n\u001b[0;32m   1038\u001b[0m         response \u001b[38;5;241m=\u001b[39m connection\u001b[38;5;241m.\u001b[39msend_command(command)\n",
      "File \u001b[1;32mC:\\ProgramData\\anaconda3\\envs\\pyspark_env\\lib\\site-packages\\py4j\\clientserver.py:284\u001b[0m, in \u001b[0;36mJavaClient._get_connection\u001b[1;34m(self)\u001b[0m\n\u001b[0;32m    281\u001b[0m     \u001b[38;5;28;01mpass\u001b[39;00m\n\u001b[0;32m    283\u001b[0m \u001b[38;5;28;01mif\u001b[39;00m connection \u001b[38;5;129;01mis\u001b[39;00m \u001b[38;5;28;01mNone\u001b[39;00m \u001b[38;5;129;01mor\u001b[39;00m connection\u001b[38;5;241m.\u001b[39msocket \u001b[38;5;129;01mis\u001b[39;00m \u001b[38;5;28;01mNone\u001b[39;00m:\n\u001b[1;32m--> 284\u001b[0m     connection \u001b[38;5;241m=\u001b[39m \u001b[38;5;28;43mself\u001b[39;49m\u001b[38;5;241;43m.\u001b[39;49m\u001b[43m_create_new_connection\u001b[49m\u001b[43m(\u001b[49m\u001b[43m)\u001b[49m\n\u001b[0;32m    285\u001b[0m \u001b[38;5;28;01mreturn\u001b[39;00m connection\n",
      "File \u001b[1;32mC:\\ProgramData\\anaconda3\\envs\\pyspark_env\\lib\\site-packages\\py4j\\clientserver.py:291\u001b[0m, in \u001b[0;36mJavaClient._create_new_connection\u001b[1;34m(self)\u001b[0m\n\u001b[0;32m    287\u001b[0m \u001b[38;5;28;01mdef\u001b[39;00m \u001b[38;5;21m_create_new_connection\u001b[39m(\u001b[38;5;28mself\u001b[39m):\n\u001b[0;32m    288\u001b[0m     connection \u001b[38;5;241m=\u001b[39m ClientServerConnection(\n\u001b[0;32m    289\u001b[0m         \u001b[38;5;28mself\u001b[39m\u001b[38;5;241m.\u001b[39mjava_parameters, \u001b[38;5;28mself\u001b[39m\u001b[38;5;241m.\u001b[39mpython_parameters,\n\u001b[0;32m    290\u001b[0m         \u001b[38;5;28mself\u001b[39m\u001b[38;5;241m.\u001b[39mgateway_property, \u001b[38;5;28mself\u001b[39m)\n\u001b[1;32m--> 291\u001b[0m     \u001b[43mconnection\u001b[49m\u001b[38;5;241;43m.\u001b[39;49m\u001b[43mconnect_to_java_server\u001b[49m\u001b[43m(\u001b[49m\u001b[43m)\u001b[49m\n\u001b[0;32m    292\u001b[0m     \u001b[38;5;28mself\u001b[39m\u001b[38;5;241m.\u001b[39mset_thread_connection(connection)\n\u001b[0;32m    293\u001b[0m     \u001b[38;5;28;01mreturn\u001b[39;00m connection\n",
      "File \u001b[1;32mC:\\ProgramData\\anaconda3\\envs\\pyspark_env\\lib\\site-packages\\py4j\\clientserver.py:438\u001b[0m, in \u001b[0;36mClientServerConnection.connect_to_java_server\u001b[1;34m(self)\u001b[0m\n\u001b[0;32m    435\u001b[0m \u001b[38;5;28;01mif\u001b[39;00m \u001b[38;5;28mself\u001b[39m\u001b[38;5;241m.\u001b[39mssl_context:\n\u001b[0;32m    436\u001b[0m     \u001b[38;5;28mself\u001b[39m\u001b[38;5;241m.\u001b[39msocket \u001b[38;5;241m=\u001b[39m \u001b[38;5;28mself\u001b[39m\u001b[38;5;241m.\u001b[39mssl_context\u001b[38;5;241m.\u001b[39mwrap_socket(\n\u001b[0;32m    437\u001b[0m         \u001b[38;5;28mself\u001b[39m\u001b[38;5;241m.\u001b[39msocket, server_hostname\u001b[38;5;241m=\u001b[39m\u001b[38;5;28mself\u001b[39m\u001b[38;5;241m.\u001b[39mjava_address)\n\u001b[1;32m--> 438\u001b[0m \u001b[38;5;28;43mself\u001b[39;49m\u001b[38;5;241;43m.\u001b[39;49m\u001b[43msocket\u001b[49m\u001b[38;5;241;43m.\u001b[39;49m\u001b[43mconnect\u001b[49m\u001b[43m(\u001b[49m\u001b[43m(\u001b[49m\u001b[38;5;28;43mself\u001b[39;49m\u001b[38;5;241;43m.\u001b[39;49m\u001b[43mjava_address\u001b[49m\u001b[43m,\u001b[49m\u001b[43m \u001b[49m\u001b[38;5;28;43mself\u001b[39;49m\u001b[38;5;241;43m.\u001b[39;49m\u001b[43mjava_port\u001b[49m\u001b[43m)\u001b[49m\u001b[43m)\u001b[49m\n\u001b[0;32m    439\u001b[0m \u001b[38;5;28mself\u001b[39m\u001b[38;5;241m.\u001b[39mstream \u001b[38;5;241m=\u001b[39m \u001b[38;5;28mself\u001b[39m\u001b[38;5;241m.\u001b[39msocket\u001b[38;5;241m.\u001b[39mmakefile(\u001b[38;5;124m\"\u001b[39m\u001b[38;5;124mrb\u001b[39m\u001b[38;5;124m\"\u001b[39m)\n\u001b[0;32m    440\u001b[0m \u001b[38;5;28mself\u001b[39m\u001b[38;5;241m.\u001b[39mis_connected \u001b[38;5;241m=\u001b[39m \u001b[38;5;28;01mTrue\u001b[39;00m\n",
      "\u001b[1;31mConnectionRefusedError\u001b[0m: [WinError 10061] Aucune connexion n’a pu être établie car l’ordinateur cible l’a expressément refusée"
     ]
    }
   ],
   "source": [
    "au_period = (au_inst_period\n",
    "             .groupBy('author_id', 'year')\n",
    "             .agg(func.array_sort(  func.collect_set('inst_id')).alias('inst_set_this_year'),\n",
    "                 func.flatten(func.collect_set(func.split(func.col('list_of_merged_inst'), ','))).alias('list_of_merged_inst'))\n",
    "                      .withColumn('lag_inst_set_this_year', func.lag('inst_set_this_year').over(Window.partitionBy('author_id').orderBy('year')))\n",
    "                      .withColumn('new_period', (\n",
    "                          ( (func.col('lag_inst_set_this_year')!=func.col('inst_set_this_year')) | (func.col('lag_inst_set_this_year').isNull()) \n",
    "                          | (~func.arrays_overlap(func.col('lag_inst_set_this_year'), func.col('list_of_merged_inst')))\n",
    "                          )\n",
    "                            ).cast('int') )\n",
    "                      .withColumn('period_total', func.sum('new_period').over(Window.partitionBy('author_id').orderBy('year')))\n",
    "                     )\n",
    "au_period.cache()\n",
    "au_period.count()"
   ]
  },
  {
   "cell_type": "code",
   "execution_count": 21,
   "id": "9ea5bc1e-a041-4272-89e0-da1ceccf1c5a",
   "metadata": {
    "scrolled": true
   },
   "outputs": [
    {
     "data": {
      "text/plain": [
       "[Row(year=2002, inst_set_this_year=['I131077856'], lag_inst_set_this_year=None, new_period=1, period_total=1),\n",
       " Row(year=2004, inst_set_this_year=['I131077856'], lag_inst_set_this_year=['I131077856'], new_period=0, period_total=1),\n",
       " Row(year=2005, inst_set_this_year=['I131077856'], lag_inst_set_this_year=['I131077856'], new_period=0, period_total=1),\n",
       " Row(year=2006, inst_set_this_year=['I131077856', 'I4210149295'], lag_inst_set_this_year=['I131077856'], new_period=1, period_total=2),\n",
       " Row(year=2007, inst_set_this_year=['I131077856'], lag_inst_set_this_year=['I131077856', 'I4210149295'], new_period=1, period_total=3),\n",
       " Row(year=2008, inst_set_this_year=['I4210158756'], lag_inst_set_this_year=['I131077856'], new_period=1, period_total=4),\n",
       " Row(year=2009, inst_set_this_year=['I131077856'], lag_inst_set_this_year=['I4210158756'], new_period=1, period_total=5),\n",
       " Row(year=2010, inst_set_this_year=['I131077856', 'I4210149295'], lag_inst_set_this_year=['I131077856'], new_period=1, period_total=6),\n",
       " Row(year=2011, inst_set_this_year=['I4210123768', 'I4210149295'], lag_inst_set_this_year=['I131077856', 'I4210149295'], new_period=1, period_total=7),\n",
       " Row(year=2013, inst_set_this_year=['I4210123768', 'I4210135772'], lag_inst_set_this_year=['I4210123768', 'I4210149295'], new_period=1, period_total=8),\n",
       " Row(year=2015, inst_set_this_year=['I131077856', 'I4210122476'], lag_inst_set_this_year=['I4210123768', 'I4210135772'], new_period=1, period_total=9),\n",
       " Row(year=2017, inst_set_this_year=['I4210123768'], lag_inst_set_this_year=['I131077856', 'I4210122476'], new_period=1, period_total=10),\n",
       " Row(year=2018, inst_set_this_year=['I131077856', 'I19894307'], lag_inst_set_this_year=['I4210123768'], new_period=1, period_total=11),\n",
       " Row(year=2019, inst_set_this_year=['I4210123768'], lag_inst_set_this_year=['I131077856', 'I19894307'], new_period=1, period_total=12),\n",
       " Row(year=2020, inst_set_this_year=['I4210123768'], lag_inst_set_this_year=['I4210123768'], new_period=0, period_total=12)]"
      ]
     },
     "execution_count": 21,
     "metadata": {},
     "output_type": "execute_result"
    }
   ],
   "source": [
    "(au_period.filter(func.col('author_id') =='A5036205978')\n",
    " .select('year','inst_set_this_year','lag_inst_set_this_year', 'new_period', 'period_total')\n",
    " .sort('year','period_total')).collect()"
   ]
  },
  {
   "cell_type": "code",
   "execution_count": null,
   "id": "3d23e6e9-2970-474e-9cd9-76553c71e0af",
   "metadata": {},
   "outputs": [],
   "source": [
    "(au_period.filter(func.col('author_id') =='A5036205978')\n",
    " .select('year','inst_set_this_year','lag_inst_set_this_year', 'new_period', 'period_total')\n",
    " .sort('year','period_total')).collect()"
   ]
  },
  {
   "cell_type": "code",
   "execution_count": 23,
   "id": "fd2f4315-9989-4afd-8754-296f23953abd",
   "metadata": {},
   "outputs": [
    {
     "data": {
      "text/plain": [
       "[Row(author_id='A5000037882', year=1993, inst_set_this_year=['I1294671590', 'I2738703131', 'I4210128565'], lag_inst_set_this_year=None, new_period=1, period_total=1),\n",
       " Row(author_id='A5000037882', year=1994, inst_set_this_year=['I2738703131', 'I4210128565', 'I4210133362'], lag_inst_set_this_year=['I1294671590', 'I2738703131', 'I4210128565'], new_period=1, period_total=2),\n",
       " Row(author_id='A5000037882', year=1995, inst_set_this_year=['I2738703131', 'I4210088322', 'I4210128565', 'I4210133362'], lag_inst_set_this_year=['I2738703131', 'I4210128565', 'I4210133362'], new_period=1, period_total=3),\n",
       " Row(author_id='A5000037882', year=1996, inst_set_this_year=['I4210088322', 'I4210128565', 'I4210133362'], lag_inst_set_this_year=['I2738703131', 'I4210088322', 'I4210128565', 'I4210133362'], new_period=1, period_total=4),\n",
       " Row(author_id='A5000037882', year=1997, inst_set_this_year=['I1294671590'], lag_inst_set_this_year=['I4210088322', 'I4210128565', 'I4210133362'], new_period=1, period_total=5),\n",
       " Row(author_id='A5000037882', year=1998, inst_set_this_year=['I4210128565', 'I4210133362'], lag_inst_set_this_year=['I1294671590'], new_period=1, period_total=6),\n",
       " Row(author_id='A5000037882', year=1999, inst_set_this_year=['I4210128565', 'I4210133362'], lag_inst_set_this_year=['I4210128565', 'I4210133362'], new_period=0, period_total=6),\n",
       " Row(author_id='A5000037882', year=2000, inst_set_this_year=['I4210133362'], lag_inst_set_this_year=['I4210128565', 'I4210133362'], new_period=1, period_total=7),\n",
       " Row(author_id='A5000037882', year=2011, inst_set_this_year=['I2738703131', 'I4210128565', 'I4210133362'], lag_inst_set_this_year=['I4210133362'], new_period=1, period_total=8)]"
      ]
     },
     "execution_count": 23,
     "metadata": {},
     "output_type": "execute_result"
    }
   ],
   "source": [
    "au_period.filter(func.col('author_id')==\"A5000037882\").drop('list_of_merged_inst').sort('year').collect()"
   ]
  },
  {
   "cell_type": "code",
   "execution_count": null,
   "id": "2bc483d7-cc13-4384-8605-56ae7700f6a0",
   "metadata": {
    "scrolled": true
   },
   "outputs": [],
   "source": [
    "au_period = (au_period\n",
    "             .withColumn('duration_period', func.sequence(func.min('year').over(Window.partitionBy('author_id', 'period_total')),\n",
    "                                                          func.max('year').over(Window.partitionBy('author_id', 'period_total'))\n",
    "                                                        )\n",
    "                        )\n",
    "             .withColumn('year', func.explode(func.col('duration_period')))\n",
    "             .select('author_id', 'year', 'inst_set_this_year','period_total')\n",
    "             .distinct()\n",
    "            )\n",
    "au_period.filter(func.col('author_id')==\"A5036205978\").sort('year').collect()"
   ]
  },
  {
   "cell_type": "code",
   "execution_count": null,
   "id": "a1e4085e-65e4-466f-ba87-09eb3ba8c5b8",
   "metadata": {},
   "outputs": [],
   "source": [
    "au_period.filter(func.col('author_id')==\"A5000037882\").sort('year').collect()"
   ]
  },
  {
   "cell_type": "code",
   "execution_count": null,
   "id": "6bedb718-1e73-4912-bdf1-53dc1b038bc0",
   "metadata": {},
   "outputs": [],
   "source": [
    "au_period = (au_all_years\n",
    "             .join(au_period, how = 'left', on = ['author_id','year'])\n",
    "             .withColumn('inst_set_this_year', \n",
    "                         func.when(func.col('inst_set_this_year').isNull(),\n",
    "                                   func.last(func.col('inst_set_this_year'), ignorenulls = True)\n",
    "                                   .over(Window.partitionBy('author_id').orderBy('year')))\n",
    "                         .otherwise(func.col('inst_set_this_year'))\n",
    "                        )\n",
    "             .withColumn('period_total', \n",
    "                         func.when(func.col('period_total').isNull(),\n",
    "                                   func.last(func.col('period_total'), ignorenulls = True)\n",
    "                                   .over(Window.partitionBy('author_id').orderBy('year')))\n",
    "                         .otherwise(func.col('period_total'))\n",
    "                        )\n",
    "             .withColumn('n_inst', func.size(func.col('inst_set_this_year')))\n",
    "            )\n",
    "au_period.filter(func.col('author_id')==\"A5036205978\").sort('year').collect()"
   ]
  },
  {
   "cell_type": "code",
   "execution_count": 27,
   "id": "9da090fb-b9b8-4781-bd71-67a0d46084bc",
   "metadata": {},
   "outputs": [
    {
     "data": {
      "text/plain": [
       "[Row(author_id='A5000037882', year=1993, inst_set_this_year=['I1294671590', 'I2738703131', 'I4210128565'], period_total=1, n_inst=3),\n",
       " Row(author_id='A5000037882', year=1994, inst_set_this_year=['I2738703131', 'I4210128565', 'I4210133362'], period_total=2, n_inst=3),\n",
       " Row(author_id='A5000037882', year=1995, inst_set_this_year=['I2738703131', 'I4210088322', 'I4210128565', 'I4210133362'], period_total=3, n_inst=4),\n",
       " Row(author_id='A5000037882', year=1996, inst_set_this_year=['I4210088322', 'I4210128565', 'I4210133362'], period_total=4, n_inst=3),\n",
       " Row(author_id='A5000037882', year=1997, inst_set_this_year=['I1294671590'], period_total=5, n_inst=1),\n",
       " Row(author_id='A5000037882', year=1998, inst_set_this_year=['I4210128565', 'I4210133362'], period_total=6, n_inst=2),\n",
       " Row(author_id='A5000037882', year=1999, inst_set_this_year=['I4210128565', 'I4210133362'], period_total=6, n_inst=2),\n",
       " Row(author_id='A5000037882', year=2000, inst_set_this_year=['I4210133362'], period_total=7, n_inst=1),\n",
       " Row(author_id='A5000037882', year=2001, inst_set_this_year=['I4210133362'], period_total=7, n_inst=1),\n",
       " Row(author_id='A5000037882', year=2002, inst_set_this_year=['I4210133362'], period_total=7, n_inst=1),\n",
       " Row(author_id='A5000037882', year=2003, inst_set_this_year=['I4210133362'], period_total=7, n_inst=1),\n",
       " Row(author_id='A5000037882', year=2004, inst_set_this_year=['I4210133362'], period_total=7, n_inst=1),\n",
       " Row(author_id='A5000037882', year=2005, inst_set_this_year=['I4210133362'], period_total=7, n_inst=1),\n",
       " Row(author_id='A5000037882', year=2006, inst_set_this_year=['I4210133362'], period_total=7, n_inst=1),\n",
       " Row(author_id='A5000037882', year=2007, inst_set_this_year=['I4210133362'], period_total=7, n_inst=1),\n",
       " Row(author_id='A5000037882', year=2008, inst_set_this_year=['I4210133362'], period_total=7, n_inst=1),\n",
       " Row(author_id='A5000037882', year=2009, inst_set_this_year=['I4210133362'], period_total=7, n_inst=1),\n",
       " Row(author_id='A5000037882', year=2010, inst_set_this_year=['I4210133362'], period_total=7, n_inst=1),\n",
       " Row(author_id='A5000037882', year=2011, inst_set_this_year=['I2738703131', 'I4210128565', 'I4210133362'], period_total=8, n_inst=3)]"
      ]
     },
     "execution_count": 27,
     "metadata": {},
     "output_type": "execute_result"
    }
   ],
   "source": [
    "au_period.filter(func.col('author_id')==\"A5000037882\").sort('year').collect()"
   ]
  },
  {
   "cell_type": "code",
   "execution_count": null,
   "id": "88188987-4bfe-4968-8f0b-647393bf5f47",
   "metadata": {},
   "outputs": [],
   "source": [
    "au_inst_period"
   ]
  },
  {
   "cell_type": "code",
   "execution_count": null,
   "id": "77d0166f-eb40-4ad7-909c-c51e39e2f4dd",
   "metadata": {},
   "outputs": [],
   "source": [
    "au_pub_y"
   ]
  },
  {
   "cell_type": "code",
   "execution_count": null,
   "id": "4bdca70e-b133-4a62-af17-cd4e82db042e",
   "metadata": {
    "scrolled": true
   },
   "outputs": [],
   "source": [
    "au_inst_period_smoothed = (au_period\n",
    "                           .withColumn('inst_id', func.explode(func.col('inst_set_this_year')))\n",
    "                           .withColumn('n_inst_y', func.size(func.col('inst_set_this_year')))\n",
    "                           .join(au_inst_period.select('inst_id','author_id','year','list_of_merged_inst','period_inst','new_inst_period'),\n",
    "                                 on = ['author_id','inst_id','year'], how = 'left')\n",
    "                           .join(au_pub_y\n",
    "                                 .filter(func.col('author_id')!=\"A9999999999\"),\n",
    "                                 on = ['author_id','year'], how = 'left')\n",
    "                          .fillna(0, subset = [col for col in au_pub_y.columns if col not in ['author_id','year']])\n",
    "                          .withColumn('publications', func.col('publications_raw')/func.col('n_inst_y'))\n",
    "                          .withColumn('citations', func.col('citations_raw')/func.col('n_inst_y'))\n",
    "                                .select('inst_id','name','type','city','main_topic','uni_pub','cnrs','acces_rce',\n",
    "                                        'idex','date_first_idex','total_idex_dotation','merged_inst_id','fusion_date','type_fr','secteur',\n",
    "                                        *[( (func.col('type_fr') == type_).cast('int')).alias(type_.lower().replace('é', 'e'))\n",
    "                                         for type_ in ['Université', 'École']],\n",
    "                                        *[( (func.col('secteur') == type_).cast('int')).alias(type_.lower().replace('é', 'e'))\n",
    "                                         for type_ in ['public', 'privé']],\n",
    "                                        \n",
    "                                       ), on = ['inst_id'])\n",
    "                          .join(au_level_char, on = ['author_id'])\n",
    "                          #.withColumn('entry_cohort', func.when(func.col('entry_year')>=2000, func.col('entry_year'))\n",
    "                          #            .otherwise(func.round(func.col('entry_year')/5)*5))\n",
    "                          .withColumn('idex', func.concat_ws(',', func.array_sort(func.col('idex'))))\n",
    "\n",
    "                          )\n",
    "au_inst_period_smoothed = (au_inst_period_smoothed\n",
    "                           .select('author_id','year','inst_id','field',\n",
    "                                   *[ col for col in set(au_inst_period_smoothed.columns) if col not in ['author_id','year','inst_id','field','publications','citations'\n",
    "                                                                                         # ,\"avg_rank_source_raw\",\"nr_source_btm_50pct_raw\",\n",
    "                                                                                         # \"nr_source_mid_40pct_raw\",\"nr_source_top_20pct_raw\",\"nr_source_top_10pct_raw\",\"nr_source_top_5pct_raw\"\n",
    "                                                                                         # ,'nr_type_article','nr_type_book',\n",
    "                                                                                         #'nr_type_book-series','nr_language_en','nr_language_fr','citations_type_article'\n",
    "                                                                                         #,'citations_type_book','citations_type_book-series','citations_language_en','citations_language_fr'\n",
    "                                                                                         ]],\n",
    "                                  *[func.mean(func.col(col)/func.col('n_inst')).over(Window.partitionBy('author_id','period_total')).alias(col.replace('_raw', ''))\n",
    "                                   for col in au_inst_period_smoothed.columns if col in ['publications_raw','citations_raw'\n",
    "                                                                                          ,\"avg_rank_source_raw\",\"nr_source_btm_50pct_raw\",\n",
    "                                                                                          \"nr_source_mid_40pct_raw\",\"nr_source_top_20pct_raw\",\"nr_source_top_10pct_raw\",\"nr_source_top_5pct_raw\"\n",
    "                                                                                #,'nr_type_article','nr_type_book',\n",
    "                                                                                #         'nr_type_book-series','nr_language_en','nr_language_fr','citations_type_article'\n",
    "                                                                                #         ,'citations_type_book','citations_type_book-series','citations_language_en','citations_language_fr'\n",
    "                                                                               ]],\n",
    "                                 )\n",
    "                           .withColumn('first_y_inst_period', func.min('year').over(Window.partitionBy('author_id','inst_id','period_inst')))\n",
    "                          )\n",
    "au_inst_period_smoothed.columns"
   ]
  },
  {
   "cell_type": "code",
   "execution_count": null,
   "id": "812ddf77-afa2-4c9f-9899-124bb0a82fb6",
   "metadata": {},
   "outputs": [],
   "source": [
    "au_inst_period_smoothed.write.mode('overwrite').parquet('file:\\\\' + save_path + 'panel_smoothed.parquet')"
   ]
  },
  {
   "cell_type": "code",
   "execution_count": 38,
   "id": "9d35ea08-3fdb-4107-bca2-b2f74953aa2c",
   "metadata": {},
   "outputs": [],
   "source": [
    "au_inst_period_smoothed = spark.read.parquet('file:\\\\' + save_path + 'panel_smoothed.parquet')"
   ]
  },
  {
   "cell_type": "code",
   "execution_count": 39,
   "id": "022de48f-2334-48df-830f-c10c526b277a",
   "metadata": {},
   "outputs": [
    {
     "data": {
      "text/plain": [
       "DataFrame[author_id: string, year: int, inst_id: string, field: string, period_total: bigint, entry_country: string, ecole: int, author_name: string, type_fr: string, nr_source_mid_40pct_raw: bigint, city: string, cnrs: int, publications_raw: bigint, universite: int, nr_source_top_20pct_raw: bigint, subfield: string, all_y_in_FR: bigint, fusion_date: int, inst_set_this_year: array<string>, n_inst: int, idex: string, years_abroad: bigint, new_inst_period: int, topic: string, fused_inst_id: string, total_idex_dotation: bigint, nr_source_top_10pct_raw: bigint, author_first_name: string, nr_source_top_5pct_raw: bigint, list_of_fused_inst: string, main_topic: string, entry_year: int, avg_rank_source_raw: double, secteur: string, citations_raw: bigint, gender: string, n_inst_y: int, name: string, uni_pub: int, last_year: int, domain: string, acces_rce: string, type: string, public: int, nr_source_btm_50pct_raw: bigint, prive: int, period_inst: bigint, date_first_idex: int, publications: double, citations: double, avg_rank_source: double, nr_source_btm_50pct: double, nr_source_mid_40pct: double, nr_source_top_20pct: double, nr_source_top_10pct: double, nr_source_top_5pct: double, first_y_inst_period: int]"
      ]
     },
     "execution_count": 39,
     "metadata": {},
     "output_type": "execute_result"
    }
   ],
   "source": [
    "au_inst_period_smoothed"
   ]
  },
  {
   "cell_type": "code",
   "execution_count": 16,
   "id": "382129e8-cea3-4397-92b8-4cf63c9430e8",
   "metadata": {},
   "outputs": [],
   "source": [
    "au_inst_period_smoothed = (au_inst_period_smoothed\n",
    "                           .drop('fused_inst_id','fusion_date','merged_inst_id','acces_rce','idex','date_first_idex')\n",
    "                           .join(inst.select('inst_id','merged_inst_id','fusion_date','acces_rce','idex','date_first_idex'), on= 'inst_id', how = 'left')\n",
    "                           .withColumn('merged_inst_id', func.when(func.col('merged_inst_id').isNull(), func.col('inst_id'))\n",
    "                                       .otherwise(func.col('merged_inst_id')))\n",
    "                          )"
   ]
  },
  {
   "cell_type": "code",
   "execution_count": 17,
   "id": "55fd5095-2e97-4e5c-8d19-456e223811b5",
   "metadata": {},
   "outputs": [],
   "source": [
    "au_inst_period_smoothed.write.mode('overwrite').parquet('file:\\\\' + save_path + 'panel_smoothed_cor.parquet')"
   ]
  },
  {
   "cell_type": "code",
   "execution_count": 40,
   "id": "4a0edd09-1a5f-4399-a3aa-8b6d85028a1e",
   "metadata": {},
   "outputs": [],
   "source": [
    "au_inst_period_smoothed = spark.read.parquet('file:\\\\' + save_path + 'panel_smoothed_cor.parquet')"
   ]
  },
  {
   "cell_type": "code",
   "execution_count": 44,
   "id": "7b2fc154-772b-4787-a3d6-245f3e0e63aa",
   "metadata": {
    "scrolled": true
   },
   "outputs": [
    {
     "name": "stdout",
     "output_type": "stream",
     "text": [
      "+-----------+----+------------------+----------------+-----------+\n",
      "|  author_id|year|         citations|publications_raw|    inst_id|\n",
      "+-----------+----+------------------+----------------+-----------+\n",
      "|A5000037882|1993|15.333333333333334|               3|I1294671590|\n",
      "|A5000037882|1993|15.333333333333334|               3|I4210128565|\n",
      "|A5000037882|1993|15.333333333333334|               3|I2738703131|\n",
      "|A5000037882|1994|11.333333333333334|               3|I2738703131|\n",
      "|A5000037882|1994|11.333333333333334|               3|I4210128565|\n",
      "|A5000037882|1994|11.333333333333334|               3|I4210133362|\n",
      "|A5000037882|1995|              4.25|               3|I4210133362|\n",
      "|A5000037882|1995|              4.25|               3|I2738703131|\n",
      "|A5000037882|1995|              4.25|               3|I4210088322|\n",
      "|A5000037882|1995|              4.25|               3|I4210128565|\n",
      "|A5000037882|1996|              11.0|               2|I4210133362|\n",
      "|A5000037882|1996|              11.0|               2|I4210128565|\n",
      "|A5000037882|1996|              11.0|               2|I4210088322|\n",
      "|A5000037882|1997|               4.0|               1|I1294671590|\n",
      "|A5000037882|1998|             26.25|               3|I4210133362|\n",
      "|A5000037882|1998|             26.25|               3|I4210128565|\n",
      "|A5000037882|1999|             26.25|               8|I4210133362|\n",
      "|A5000037882|1999|             26.25|               8|I4210128565|\n",
      "|A5000037882|2000|2.8181818181818183|               1|I4210133362|\n",
      "|A5000037882|2001|2.8181818181818183|               0|I4210133362|\n",
      "|A5000037882|2002|2.8181818181818183|               1|I4210133362|\n",
      "|A5000037882|2003|2.8181818181818183|               0|I4210133362|\n",
      "|A5000037882|2004|2.8181818181818183|               0|I4210133362|\n",
      "|A5000037882|2005|2.8181818181818183|               0|I4210133362|\n",
      "|A5000037882|2006|2.8181818181818183|               0|I4210133362|\n",
      "|A5000037882|2007|2.8181818181818183|               0|I4210133362|\n",
      "|A5000037882|2008|2.8181818181818183|               0|I4210133362|\n",
      "|A5000037882|2009|2.8181818181818183|               0|I4210133362|\n",
      "|A5000037882|2010|2.8181818181818183|               0|I4210133362|\n",
      "|A5000037882|2011|0.6666666666666666|               2|I4210133362|\n",
      "|A5000037882|2011|0.6666666666666666|               2|I2738703131|\n",
      "|A5000037882|2011|0.6666666666666666|               2|I4210128565|\n",
      "+-----------+----+------------------+----------------+-----------+\n",
      "\n"
     ]
    }
   ],
   "source": [
    "au_inst_period_smoothed.filter(func.col('author_id')==\"A5000037882\").select('author_id','year','citations','publications_raw','inst_id').distinct().sort('year').show(100)"
   ]
  },
  {
   "cell_type": "code",
   "execution_count": 46,
   "id": "9a60a434-ebce-461b-8e62-51f0e3d252e1",
   "metadata": {
    "scrolled": true
   },
   "outputs": [
    {
     "name": "stdout",
     "output_type": "stream",
     "text": [
      "+-----------+----+---------+-----+---------+----------+------------+----------+-----------------+---------+-------------------+-----------+-------+-----------------------+-------------------+---------------+----------------------+-----+---------+-------------------+-----------+--------------------+------+-----------------------+------+-----------------------+-----------+----------------+------------------+---------+--------+--------------------+----------+-------------+-------+-------------------+----+-------------+-------------+---------------+-----------+-----------------------+--------------------+------+--------------------+-----+------------------+------------------+-------------------+-------------------+-------------------+-------------------+-------------------+------------------+-------------------+\n",
      "|  author_id|year|  inst_id|field|     type|   type_fr|years_abroad|entry_year|author_first_name|last_year|avg_rank_source_raw|       city|secteur|nr_source_btm_50pct_raw|           subfield|new_inst_period|nr_source_top_5pct_raw|ecole|     idex|total_idex_dotation|all_y_in_FR|         inst_id_set|domain|nr_source_top_20pct_raw|gender|nr_source_top_10pct_raw|fusion_date|publications_raw|       author_name|acces_rce|n_inst_y|  list_of_fused_inst|universite|entry_country|uni_pub|              topic|cnrs|fused_inst_id|citations_raw|date_first_idex|period_inst|nr_source_mid_40pct_raw|                name|public|          main_topic|prive|      publications|         citations|    avg_rank_source|nr_source_btm_50pct|nr_source_mid_40pct|nr_source_top_20pct|nr_source_top_10pct|nr_source_top_5pct|first_y_inst_period|\n",
      "+-----------+----+---------+-----+---------+----------+------------+----------+-----------------+---------+-------------------+-----------+-------+-----------------------+-------------------+---------------+----------------------+-----+---------+-------------------+-----------+--------------------+------+-----------------------+------+-----------------------+-----------+----------------+------------------+---------+--------+--------------------+----------+-------------+-------+-------------------+----+-------------+-------------+---------------+-----------+-----------------------+--------------------+------+--------------------+-----+------------------+------------------+-------------------+-------------------+-------------------+-------------------+-------------------+------------------+-------------------+\n",
      "|A5000455992|2014|I19894307|   27|education|Université|           9|      2006|          Adeline|     2020|             0.8664|Montpellier| public|                      0|2403,2717,2738,3600|              0|                     2|    0|idex_muse|           84018666|         12|I4210100596,I1989...|     4|                      3|     F|                      3|       NULL|               5|   Adeline Gallini|        0|       6|I2802331213,I4210...|         1|             |      1|2403,2717,2738,3600|   0|         NULL|          159|           2017|          1|                      2|Université de Mon...|     1|Earth and Planeta...|    0|0.8333333333333334|              26.5|             0.1444|                0.0| 0.3333333333333333|                0.5|                0.5|0.3333333333333333|               2014|\n",
      "|A5000929890|2011|I19894307|   24|education|Université|          12|      2005|          Paulina|     2020|                1.0|Montpellier| public|                      0|               2403|              0|                     1|    0|idex_muse|           84018666|          6|I19894307,I154202...|     1|                      1|     F|                      1|       NULL|               1|   Paulina Schmitt|        0|       3|I2802331213,I4210...|         1|           CL|      1|               2403|   0|         NULL|          152|           2017|          1|                      0|Université de Mon...|     1|Earth and Planeta...|    0|0.3333333333333333|50.666666666666664| 0.3333333333333333|                0.0|                0.0| 0.3333333333333333| 0.3333333333333333|0.3333333333333333|               2009|\n",
      "|A5000929890|2012|I19894307|   24|education|Université|          12|      2005|          Paulina|     2020|             0.9467|Montpellier| public|                      0|               2403|              0|                     1|    0|idex_muse|           84018666|          6|I19894307,I154202...|     1|                      2|     F|                      2|       NULL|               2|   Paulina Schmitt|        0|       4|I2802331213,I4210...|         1|           CL|      1|               2403|   0|         NULL|          149|           2017|          1|                      0|Université de Mon...|     1|Earth and Planeta...|    0|               0.5|             37.25|           0.236675|                0.0|                0.0|                0.5|                0.5|              0.25|               2009|\n",
      "|A5000929890|2015|I19894307|   24|education|Université|          12|      2005|          Paulina|     2020|             0.9959|Montpellier| public|                      0|               2403|              0|                     1|    0|idex_muse|           84018666|          6|I19894307,I154202...|     1|                      1|     F|                      1|       NULL|               1|   Paulina Schmitt|        0|       3|I2802331213,I4210...|         1|           CL|      1|               2403|   0|         NULL|           94|           2017|          1|                      0|Université de Mon...|     1|Earth and Planeta...|    0|0.3333333333333333|31.333333333333332| 0.3319666666666667|                0.0|                0.0| 0.3333333333333333| 0.3333333333333333|0.3333333333333333|               2009|\n",
      "|A5000929890|2009|I19894307|   24|education|Université|          12|      2005|          Paulina|     2020|             0.9732|Montpellier| public|                      0|               2403|              0|                     1|    0|idex_muse|           84018666|          6|I19894307,I154202...|     1|                      1|     F|                      1|       NULL|               1|   Paulina Schmitt|        0|       3|I2802331213,I4210...|         1|           CL|      1|               2403|   0|         NULL|           82|           2017|          1|                      0|Université de Mon...|     1|Earth and Planeta...|    0|0.3333333333333333|27.333333333333332|0.32439999999999997|                0.0|                0.0| 0.3333333333333333| 0.3333333333333333|0.3333333333333333|               2009|\n",
      "|A5007113192|2017|I19894307|   13|education|Université|          10|      2000|             Yves|     2020|             0.9801|Montpellier| public|                      0|               1312|              0|                     1|    0|idex_muse|           84018666|          8|I19894307,I129467...|     1|                      1|     M|                      1|       NULL|               2|        Yves Roméo|        0|       3|I2802331213,I4210...|         1|             |      1|               1312|   0|         NULL|           70|           2017|          1|                      0|Université de Mon...|     1|Earth and Planeta...|    0|0.6666666666666666|23.333333333333332|             0.3267|                0.0|                0.0| 0.3333333333333333| 0.3333333333333333|0.3333333333333333|               2017|\n",
      "|A5008326713|2020|I19894307|   27|education|Université|          16|      1981|         Philippe|     2020|              0.991|Montpellier| public|                      0|     2204,2705,2746|              0|                     4|    0|idex_muse|           84018666|         10|I19894307,I421013...|     4|                      4|     M|                      4|       NULL|               4| Philippe Rouvière|        0|       3|I2802331213,I4210...|         1|             |      1|     2204,2705,2746|   0|         NULL|           13|           2017|          1|                      0|Université de Mon...|     1|Earth and Planeta...|    0|1.3333333333333333| 4.333333333333333| 0.3303333333333333|                0.0|                0.0| 1.3333333333333333| 1.3333333333333333|1.3333333333333333|               2018|\n",
      "|A5008326713|2018|I19894307|   27|education|Université|          16|      1981|         Philippe|     2020|             0.9624|Montpellier| public|                      0|     2204,2705,2746|              0|                     3|    0|idex_muse|           84018666|         10|I19894307,I421013...|     4|                      4|     M|                      4|       NULL|               4| Philippe Rouvière|        0|       3|I2802331213,I4210...|         1|             |      1|     2204,2705,2746|   0|         NULL|           53|           2017|          1|                      0|Université de Mon...|     1|Earth and Planeta...|    0|1.3333333333333333|17.666666666666668|0.32080000000000003|                0.0|                0.0| 1.3333333333333333| 1.3333333333333333|               1.0|               2018|\n",
      "|A5009916238|2018|I19894307|22,25|education|Université|          34|      1974|     Charafeddine|     2020|             0.8594|Montpellier| public|                      1|          2210,2507|              0|                     4|    0|idex_muse|           84018666|         34|I19894307,I129467...|     3|                      7|     M|                      6|       NULL|              11| Charafeddine Jama|        0|       3|I2802331213,I4210...|         1|           FR|      1|          2210,2507|   0|         NULL|          344|           2017|          1|                      2|Université de Mon...|     1|Earth and Planeta...|    0|3.6666666666666665|114.66666666666667| 0.2864666666666667| 0.3333333333333333| 0.6666666666666666| 2.3333333333333335|                2.0|1.3333333333333333|               2005|\n",
      "|A5009916238|2005|I19894307|22,25|education|Université|          34|      1974|     Charafeddine|     2020|             0.9809|Montpellier| public|                      0|          2210,2507|              0|                     2|    0|idex_muse|           84018666|         34|I19894307,I421012...|     3|                      2|     M|                      2|       NULL|               3| Charafeddine Jama|        0|       3|I2802331213,I4210...|         1|           FR|      1|          2210,2507|   0|         NULL|          126|           2017|          1|                      0|Université de Mon...|     1|Earth and Planeta...|    0|               1.0|              42.0| 0.3269666666666667|                0.0|                0.0| 0.6666666666666666| 0.6666666666666666|0.6666666666666666|               2005|\n",
      "|A5012155527|2010|I19894307|   11|education|Université|           2|      2010|          Cécilia|     2015|             0.9824|Montpellier| public|                      0|               1109|              0|                     1|    0|idex_muse|           84018666|          3|           I19894307|     1|                      1|     F|                      1|       NULL|               1|   Cécilia Multeau|        0|       1|I2802331213,I4210...|         1|           FR|      1|               1109|   0|         NULL|           46|           2017|          1|                      0|Université de Mon...|     1|Earth and Planeta...|    0|               1.0|              46.0|             0.9824|                0.0|                0.0|                1.0|                1.0|               1.0|               2010|\n",
      "|A5012542722|1998|I19894307|   27|education|Université|           9|      1976|               B.|     2004|               NULL|Montpellier| public|                   NULL|          2402,2704|              0|                  NULL|    0|idex_muse|           84018666|          7|           I19894307|     4|                   NULL|   INI|                   NULL|       NULL|               1|       B. Descomps|        0|       1|I2802331213,I4210...|         1|             |      1|          2402,2704|   0|         NULL|            0|           2017|          1|                   NULL|Université de Mon...|     1|Earth and Planeta...|    0|               1.0|               0.0|               NULL|               NULL|               NULL|               NULL|               NULL|              NULL|               1995|\n",
      "|A5012542722|1995|I19894307|   27|education|Université|           9|      1976|               B.|     2004|               NULL|Montpellier| public|                   NULL|          2402,2704|              0|                  NULL|    0|idex_muse|           84018666|          7|           I19894307|     4|                   NULL|   INI|                   NULL|       NULL|               1|       B. Descomps|        0|       1|I2802331213,I4210...|         1|             |      1|          2402,2704|   0|         NULL|            6|           2017|          1|                   NULL|Université de Mon...|     1|Earth and Planeta...|    0|               1.0|               6.0|               NULL|               NULL|               NULL|               NULL|               NULL|              NULL|               1995|\n",
      "|A5016990805|2018|I19894307|   11|education|Université|          36|      1977|         Philippe|     2019|             0.8313|Montpellier| public|                      0|               1108|              0|                     0|    0|idex_muse|           84018666|         13|I19894307,I131077856|     1|                      1|     M|                      0|       NULL|               2|Philippe Lachenaud|        0|       2|I2802331213,I4210...|         1|             |      1|               1108|   0|         NULL|            9|           2017|          1|                      1|Université de Mon...|     1|Earth and Planeta...|    0|               1.0|               4.5|            0.41565|                0.0|                0.5|                0.5|                0.0|               0.0|               2018|\n",
      "|A5023099136|2019|I19894307|   27|education|Université|           7|      2002|        Souphatta|     2020|             0.9816|Montpellier| public|                      0|               2740|              0|                     3|    0|idex_muse|           84018666|          8|I19894307,I421015...|     4|                      3|   UNK|                      3|       NULL|               3|Souphatta Sasorith|        0|       3|I2802331213,I4210...|         1|        FR,US|      1|               2740|   0|         NULL|           23|           2017|          1|                      0|Université de Mon...|     1|Earth and Planeta...|    0|               1.0| 7.666666666666667|             0.3272|                0.0|                0.0|                1.0|                1.0|               1.0|               2014|\n",
      "|A5023099136|2014|I19894307|   27|education|Université|           7|      2002|        Souphatta|     2020|             0.9995|Montpellier| public|                      0|               2740|              0|                     1|    0|idex_muse|           84018666|          8|           I19894307|     4|                      1|   UNK|                      1|       NULL|               1|Souphatta Sasorith|        0|       1|I2802331213,I4210...|         1|        FR,US|      1|               2740|   0|         NULL|          501|           2017|          1|                      0|Université de Mon...|     1|Earth and Planeta...|    0|               1.0|             501.0| 0.9994999999999999|                0.0|                0.0|                1.0|                1.0|               1.0|               2014|\n",
      "|A5023099136|2014|I19894307|   27|education|Université|           7|      2002|        Souphatta|     2020|             0.9995|Montpellier| public|                      0|               2740|              0|                     1|    0|idex_muse|           84018666|          8|           I19894307|     4|                      1|   UNK|                      1|       NULL|               1|Souphatta Sasorith|        0|       1|I2802331213,I4210...|         1|        FR,US|      1|               2740|   0|         NULL|          501|           2017|          1|                      0|Université de Mon...|     1|Earth and Planeta...|    0|               1.0|             501.0| 0.9994999999999999|                0.0|                0.0|                1.0|                1.0|               1.0|               2014|\n",
      "|A5023099136|2014|I19894307|   27|education|Université|           7|      2002|        Souphatta|     2020|             0.9995|Montpellier| public|                      0|               2740|              0|                     1|    0|idex_muse|           84018666|          8|           I19894307|     4|                      1|   UNK|                      1|       NULL|               1|Souphatta Sasorith|        0|       1|I2802331213,I4210...|         1|        FR,US|      1|               2740|   0|         NULL|          501|           2017|          1|                      0|Université de Mon...|     1|Earth and Planeta...|    0|               1.0|             501.0| 0.9994999999999999|                0.0|                0.0|                1.0|                1.0|               1.0|               2014|\n",
      "|A5024105275|2014|I19894307|   27|education|Université|          23|      1987|             Eric|     2020|             0.7322|Montpellier| public|                      2|          2725,2739|              0|                     2|    0|idex_muse|           84018666|         10|I4210091756,I1989...|     4|                      2|     M|                      2|       NULL|              10|     Eric Martínez|        0|       4|I2802331213,I4210...|         1|             |      1|          2725,2739|   0|         NULL|          172|           2017|          1|                      0|Université de Mon...|     1|Earth and Planeta...|    0|               2.5|              43.0|            0.18305|                0.5|                0.0|                0.5|                0.5|               0.5|               2014|\n",
      "|A5024105275|2016|I19894307|   27|education|Université|          23|      1987|             Eric|     2020|             0.9603|Montpellier| public|                      0|          2725,2739|              0|                     1|    0|idex_muse|           84018666|         10|I4210091756,I1989...|     4|                      2|     M|                      2|       NULL|               3|     Eric Martínez|        0|       4|I2802331213,I4210...|         1|             |      1|          2725,2739|   0|         NULL|          180|           2017|          1|                      0|Université de Mon...|     1|Earth and Planeta...|    0|              0.75|              45.0|           0.240075|                0.0|                0.0|                0.5|                0.5|              0.25|               2014|\n",
      "+-----------+----+---------+-----+---------+----------+------------+----------+-----------------+---------+-------------------+-----------+-------+-----------------------+-------------------+---------------+----------------------+-----+---------+-------------------+-----------+--------------------+------+-----------------------+------+-----------------------+-----------+----------------+------------------+---------+--------+--------------------+----------+-------------+-------+-------------------+----+-------------+-------------+---------------+-----------+-----------------------+--------------------+------+--------------------+-----+------------------+------------------+-------------------+-------------------+-------------------+-------------------+-------------------+------------------+-------------------+\n",
      "only showing top 20 rows\n",
      "\n"
     ]
    }
   ],
   "source": [
    "au_inst_period_smoothed.filter(func.col('inst_id')==\"I19894307\").show()"
   ]
  },
  {
   "cell_type": "markdown",
   "id": "318e7363-bf15-4723-9374-ae6727e4109e",
   "metadata": {},
   "source": [
    "# Lab level panel"
   ]
  },
  {
   "cell_type": "code",
   "execution_count": 41,
   "id": "1bf94bff-7c4e-4653-899e-cf5a46a169a6",
   "metadata": {},
   "outputs": [],
   "source": [
    "inst_n_au_y = (au_inst_period_smoothed\n",
    "               .groupBy('merged_inst_id','field','year')\n",
    "               .agg(func.countDistinct('author_id').alias('n_au'))\n",
    "              )"
   ]
  },
  {
   "cell_type": "code",
   "execution_count": 45,
   "id": "2239c6a1-6fcb-41e0-8fc1-61b1ee725209",
   "metadata": {},
   "outputs": [],
   "source": [
    "inst_pub_y = (works_au_af_subset\n",
    "            .join(inst.select('inst_id','merged_inst_id'), on = 'inst_id', how = 'left')\n",
    "            .withColumn('merged_inst_id', func.when(func.col('merged_inst_id').isNull(), func.col('inst_id'))\n",
    "                                       .otherwise(func.col('merged_inst_id')))\n",
    "            .withColumnRenamed('publication_year','year')\n",
    "            .join(journals_ranking, on = ['source_id','year'], how = 'left')\n",
    "            .join(au_level_char.select('author_id','field'), on = ['author_id'])\n",
    "            .select('merged_inst_id', 'field','work_id', 'year','citations','rank_source_pct')\n",
    "            .distinct()\n",
    "            .filter(func.col('work_id').isNotNull())\n",
    "            .groupBy('merged_inst_id','field','year')\n",
    "            .agg(func.countDistinct('work_id').alias('publications_raw'),\n",
    "                 func.sum(func.col('citations')).alias('citations_raw'),\n",
    "\n",
    "                 func.round(func.mean('rank_source_pct'), 4).alias('avg_rank_source_raw'),\n",
    "                 func.sum((func.col('rank_source_pct')<= 0.5).cast('int')).alias('nr_source_btm_50pct_raw'),\n",
    "                 func.sum((func.col('rank_source_pct').between(0.5,0.9)).cast('int')).alias('nr_source_mid_40pct_raw'),\n",
    "                 func.sum((func.col('rank_source_pct')>= 0.8).cast('int')).alias('nr_source_top_20pct_raw'),\n",
    "                 func.sum((func.col('rank_source_pct')>= 0.9).cast('int')).alias('nr_source_top_10pct_raw'),\n",
    "                 func.sum((func.col('rank_source_pct')>= 0.95).cast('int')).alias('nr_source_top_5pct_raw'),\n",
    "\n",
    "                \n",
    "                )\n",
    "              .join(inst_n_au_y, on = ['merged_inst_id','field','year'], how = 'full')\n",
    "                  .join(inst\n",
    "                    .withColumn('merged_inst_id', func.when(func.col('merged_inst_id').isNull(), func.col('inst_id'))\n",
    "                                       .otherwise(func.col('merged_inst_id')))\n",
    "                    .filter(func.col('merged_inst_id')==func.col('inst_id'))\n",
    "                        .select('merged_inst_id','type','city','main_topic','uni_pub','cnrs','acces_rce',\n",
    "                                'idex','date_first_idex','total_idex_dotation','fusion_date','type_fr','secteur',\n",
    "                                *[( (func.col('type_fr') == type_).cast('int')).alias(type_.lower().replace('é', 'e'))\n",
    "                                 for type_ in ['Université', 'École']],\n",
    "                                *[( (func.col('secteur') == type_).cast('int')).alias(type_.lower().replace('é', 'e'))\n",
    "                                 for type_ in ['public', 'privé']],\n",
    "                                *[ func.concat_ws(',', func.collect_set(col).over(Window.partitionBy('merged_inst_id') ) ).alias(col) \n",
    "                                                  for col in ['inst_id','name']]\n",
    "                               )\n",
    "                        .distinct()\n",
    "                        , on = ['merged_inst_id'])\n",
    "              .fillna(0, ['n_au','publications_raw','citations_raw','avg_rank_source_raw','nr_source_btm_50pct_raw','nr_source_mid_40pct_raw',\n",
    "                          'nr_source_top_20pct_raw','nr_source_top_10pct_raw','nr_source_top_5pct_raw'])\n",
    "               )"
   ]
  },
  {
   "cell_type": "code",
   "execution_count": null,
   "id": "5f69b7c0-3e0c-49e4-a076-583f2671124c",
   "metadata": {},
   "outputs": [],
   "source": [
    "inst_pub_y.cache()\n",
    "inst_pub_y.groupBy('merged_inst_id','field','year').count().groupBy('count').count().show()"
   ]
  },
  {
   "cell_type": "code",
   "execution_count": null,
   "id": "06306ba7-a3f0-4e3f-8ae2-f3ac5ad680b2",
   "metadata": {},
   "outputs": [],
   "source": [
    "inst_pub_y.write.mode('overwrite').parquet('file:\\\\' + save_path + 'inst_pub_y.parquet')"
   ]
  },
  {
   "cell_type": "code",
   "execution_count": null,
   "id": "a2267206-eccb-4f55-a8ff-59d904a77ad9",
   "metadata": {},
   "outputs": [],
   "source": []
  },
  {
   "cell_type": "code",
   "execution_count": 27,
   "id": "368f2488-00e5-4f47-a1f8-4db54dd71f45",
   "metadata": {},
   "outputs": [],
   "source": [
    "spark.catalog.clearCache()\n",
    "spark.stop()"
   ]
  },
  {
   "cell_type": "code",
   "execution_count": null,
   "id": "14c71244-7489-4503-bda3-72bc73b06b35",
   "metadata": {},
   "outputs": [],
   "source": []
  },
  {
   "cell_type": "code",
   "execution_count": null,
   "id": "47a3a72a-5c05-490d-b130-d515ca9573dc",
   "metadata": {},
   "outputs": [],
   "source": []
  }
 ],
 "metadata": {
  "kernelspec": {
   "display_name": "Python 3 (ipykernel)",
   "language": "python",
   "name": "python3"
  },
  "language_info": {
   "codemirror_mode": {
    "name": "ipython",
    "version": 3
   },
   "file_extension": ".py",
   "mimetype": "text/x-python",
   "name": "python",
   "nbconvert_exporter": "python",
   "pygments_lexer": "ipython3",
   "version": "3.9.21"
  }
 },
 "nbformat": 4,
 "nbformat_minor": 5
}
