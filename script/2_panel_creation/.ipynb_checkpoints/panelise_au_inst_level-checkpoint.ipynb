{
 "cells": [
  {
   "cell_type": "code",
   "execution_count": 1,
   "id": "d1087cf4-87a6-42de-98a9-cdd1276aeced",
   "metadata": {},
   "outputs": [
    {
     "name": "stdout",
     "output_type": "stream",
     "text": [
<<<<<<< Updated upstream
<<<<<<< HEAD
<<<<<<< HEAD
<<<<<<< Updated upstream
      "C:\\Users\\raphael.wargon\\Documents\\GitHub\\sorting_univ\\script/headers/\n"
=======
      "C:\\Users\\raphael.wargon\\Documents\\GitHub\\sorting_univ\\script/headers/\n",
      "CDF-9FB1674\n",
      "starting spark session\n"
>>>>>>> Stashed changes
=======
      "C:\\Users\\common\\projet_3_lru\\sorting_univ\\script/headers/\n"
>>>>>>> parent of c878191 (update_merge_panel)
=======
      "C:\\Users\\raphael.wargon\\Documents\\GitHub\\sorting_univ\\script/headers/\n"
>>>>>>> parent of c7a76a3 (update_fe_and_panel)
=======
      "C:\\Users\\raphael.wargon\\Documents\\GitHub\\sorting_univ\\script/headers/\n",
      "CDF-9FB1674\n",
      "starting spark session\n"
>>>>>>> Stashed changes
     ]
    }
   ],
   "source": [
    "import os\n",
    "base_path = os.path.dirname(os.path.abspath(\"\"))\n",
    "base_path = base_path + \"/headers/\"\n",
    "print(base_path)\n",
    "header_path = base_path + 'header_data_treatment.ipynb'\n",
    "%run $header_path"
   ]
  },
  {
   "cell_type": "code",
   "execution_count": 2,
   "id": "d96cef8c-d495-4fe6-9b86-2e477829fe8d",
   "metadata": {},
   "outputs": [
    {
     "data": {
      "text/plain": [
       "'E:\\\\scanR'"
      ]
     },
     "execution_count": 2,
     "metadata": {},
     "output_type": "execute_result"
    }
   ],
   "source": [
    "scanR_path "
   ]
  },
  {
   "cell_type": "code",
   "execution_count": 3,
   "id": "e3b5f207-383f-43a2-9244-6f9300afa33c",
<<<<<<< HEAD
   "metadata": {
    "scrolled": true
   },
=======
   "metadata": {},
>>>>>>> parent of c878191 (update_merge_panel)
   "outputs": [],
   "source": [
    "works_au_af = (spark.read.format('parquet').load('file:\\\\' + main_path_openalex + 'works_au_af.parquet')\n",
    "               .filter( func.col('publication_year').between(1950,2020) )\n",
    "              )"
   ]
  },
  {
   "cell_type": "code",
   "execution_count": 4,
   "id": "ab07751b-acca-49ab-95d2-9ee9c152b688",
   "metadata": {},
   "outputs": [],
   "source": [
    "df_authors = (spark.read.format('parquet').load('file:\\\\' + main_path_openalex + 'authors.parquet')\n",
    "              )"
   ]
  },
  {
   "cell_type": "code",
   "execution_count": 5,
   "id": "f71b748a-4fb8-4da0-a7e6-2427bc226c94",
   "metadata": {},
   "outputs": [
    {
     "data": {
      "text/plain": [
       "DataFrame[affiliations: array<struct<institution:struct<country_code:string,country_id:string,display_name:string,id:string,lineage:array<string>,ror:string,type:string,type_id:string>,years:array<bigint>>>, cited_by_count: bigint, counts_by_year: array<struct<cited_by_count:bigint,oa_works_count:bigint,works_count:bigint,year:bigint>>, created_date: string, display_name: string, display_name_alternatives: array<string>, id: string, ids: struct<openalex:string,orcid:string,scopus:string>, last_known_institutions: array<struct<country_code:string,country_id:string,display_name:string,id:string,lineage:array<string>,ror:string,type:string,type_id:string>>, orcid: string, summary_stats: struct<2yr_cited_by_count:bigint,2yr_h_index:bigint,2yr_i10_index:bigint,2yr_mean_citedness:double,2yr_works_count:bigint,cited_by_count:bigint,h_index:bigint,i10_index:bigint,works_count:bigint>, topic_share: array<struct<display_name:string,domain:struct<display_name:string,id:string>,field:struct<display_name:string,id:string>,id:string,subfield:struct<display_name:string,id:string>,value:double>>, topics: array<struct<count:bigint,display_name:string,domain:struct<display_name:string,id:string>,field:struct<display_name:string,id:string>,id:string,subfield:struct<display_name:string,id:string>>>, updated: string, updated_date: string, works_api_url: string, works_count: bigint, x_concepts: array<struct<display_name:string,id:string,level:bigint,score:double,wikidata:string>>]"
      ]
     },
     "execution_count": 5,
     "metadata": {},
     "output_type": "execute_result"
    }
   ],
   "source": [
    "df_authors"
   ]
  },
  {
   "cell_type": "code",
   "execution_count": null,
   "id": "e93357bb-fc6b-42c6-9a31-8be77b04e1c8",
   "metadata": {},
   "outputs": [],
   "source": [
    "#df_au_scanR = spark.read.format('parquet').load('file:\\\\' + scanR_path + '\\\\authors.parquet')"
   ]
  },
  {
   "cell_type": "markdown",
   "id": "13a00b86-3438-4339-b0e6-0c1a7a1bed8a",
   "metadata": {
    "jp-MarkdownHeadingCollapsed": true
   },
   "source": [
    "# Build set of French authors"
   ]
  },
  {
   "cell_type": "code",
   "execution_count": null,
   "id": "1e60686a-2ceb-41ce-a1e3-2b3ef700de26",
   "metadata": {},
   "outputs": [],
   "source": [
    "set_french_authors = (works_au_af\n",
    "                      .filter(func.col('publication_year').between(1997,2020))\n",
    "                      .filter(func.col('country')=='FR')\n",
    "                      .groupBy('author_id')\n",
    "                      .agg(func.max('publication_year').alias('last_year'),\n",
    "                           func.min('publication_year').alias('entry_year'),\n",
    "                           func.countDistinct('work_id').alias('n_pub_in_FR'),\n",
    "                           func.countDistinct('publication_year').alias('n_y_in_FR')\n",
    "                          )\n",
    "                      .filter( ~(func.col('last_year')==func.col('entry_year'))\n",
    "                               & (func.col('n_y_in_FR')>2)\n",
    "                               & (func.col('n_pub_in_FR')>2)\n",
    "                             )\n",
    "                     )\n",
    "#set_french_authors.cache()\n",
    "#set_french_authors.count()"
   ]
  },
  {
   "cell_type": "code",
   "execution_count": null,
   "id": "49a84384-553d-42f9-a75a-b3d28891b1b6",
   "metadata": {
    "scrolled": true
   },
   "outputs": [],
   "source": [
    "(set_french_authors.filter(func.col('author_id')==\"A5084984675\")\n",
    "                      .join(works_au_af, on = ['author_id'], how = 'left')).show()"
   ]
  },
  {
   "cell_type": "code",
   "execution_count": 9,
   "id": "de0df412-8783-4fda-8eb1-91866b4a1cfb",
   "metadata": {
    "scrolled": true
   },
   "outputs": [
    {
     "name": "stdout",
     "output_type": "stream",
     "text": [
      "+-----------+---------+----------+-----------+---------+\n",
      "|  author_id|last_year|entry_year|n_pub_in_FR|n_y_in_FR|\n",
      "+-----------+---------+----------+-----------+---------+\n",
      "|A5081892619|     2010|      2002|         11|        5|\n",
      "|A5079653947|     2020|      2006|         56|       13|\n",
      "|A5105641933|     2020|      1998|        183|       23|\n",
      "|A5007411109|     2020|      1997|       1138|       24|\n",
      "|A5027058032|     2020|      2003|        146|       16|\n",
      "|A5053414030|     2006|      1997|         10|        7|\n",
      "|A5028937897|     2020|      1998|        273|       22|\n",
      "|A5008496995|     2020|      2003|         40|       13|\n",
      "|A5028912390|     2020|      2001|         66|       18|\n",
      "|A5061749308|     2020|      1997|        133|       23|\n",
      "|A5087508730|     2020|      2002|         26|       13|\n",
      "|A5019424031|     2020|      1999|         76|       17|\n",
      "|A5039654491|     2017|      2011|          3|        3|\n",
      "|A5089185306|     2020|      1999|        112|       21|\n",
      "|A5019988390|     2020|      1997|        188|       23|\n",
      "|A5102854655|     2020|      1998|         50|       17|\n",
      "|A5029275729|     2020|      2005|         42|       15|\n",
      "|A5027800053|     2015|      1997|         25|        9|\n",
      "|A5068176411|     2020|      2004|         21|       10|\n",
      "|A5076187430|     2020|      1997|        107|       20|\n",
      "+-----------+---------+----------+-----------+---------+\n",
      "only showing top 20 rows\n",
      "\n"
     ]
    }
   ],
   "source": [
    "set_french_authors.show()"
   ]
  },
  {
   "cell_type": "code",
   "execution_count": 19,
   "id": "89ffafe4-730c-4b07-9bd9-962f30c07b43",
   "metadata": {},
   "outputs": [],
   "source": [
    "set_french_authors.write.mode('overwrite').parquet('file:\\\\' + save_path + 'set_french_authors.parquet')"
   ]
  },
  {
   "cell_type": "markdown",
   "id": "98d2063a-8135-4055-a8ec-f5a8db68c905",
   "metadata": {
    "jp-MarkdownHeadingCollapsed": true
   },
   "source": [
    "# Load set of French authors"
   ]
  },
  {
   "cell_type": "code",
   "execution_count": 6,
   "id": "98deaa35-5539-45bc-8a0d-b9de59a449c9",
   "metadata": {},
   "outputs": [
    {
     "data": {
      "text/plain": [
       "380346"
      ]
     },
     "execution_count": 6,
     "metadata": {},
     "output_type": "execute_result"
    }
   ],
   "source": [
    "set_french_authors = spark.read.parquet('file:\\\\' + save_path + 'set_french_authors.parquet')\n",
    "set_french_authors.count()"
   ]
  },
  {
   "cell_type": "code",
   "execution_count": 7,
   "id": "aa5e02c9-2b14-4dae-8ffc-174be26b41fd",
   "metadata": {
    "scrolled": true
   },
   "outputs": [],
   "source": [
    "works_au_af_subset = (set_french_authors\n",
    "                      .join(works_au_af.select('author_id', 'inst_id', 'publication_year', 'language', 'source_id','topics', 'citations'), on = ['author_id'], how = 'left')\n",
    "                     )\n",
    "works_au_af_subset.cache()\n",
    "\n",
    "works_au_af_subset.show()"
   ]
  },
  {
   "cell_type": "markdown",
   "id": "699c788b-eb85-4207-a79c-8bb6aaaf255f",
   "metadata": {},
   "source": [
    "# Build author-level characteristics\n"
   ]
  },
  {
   "cell_type": "code",
   "execution_count": 8,
   "id": "4c03661b-5d99-4261-95de-0b833d0c8443",
   "metadata": {
    "scrolled": true
   },
   "outputs": [],
   "source": [
    "au_level_char = (works_au_af_subset\n",
    "              .groupBy('author_id','publication_year').agg(func.max((func.col('country')=='FR').cast('int')).alias('in_FR'),\n",
    "                                                          func.max((func.col('country')!='FR').cast('int')).alias('abroad'))\n",
    "              .groupBy('author_id').agg(func.min('publication_year').alias('entry_year'),\n",
    "                                        func.max('publication_year').alias('last_year'),\n",
    "                                        func.sum('in_FR').alias('all_y_in_FR'), func.sum('abroad').alias('years_abroad'))\n",
    "                )\n",
    "#au_level_char.cache()\n",
    "#au_level_char.show()"
   ]
  },
  {
   "cell_type": "code",
   "execution_count": 36,
   "id": "79274711-4aaf-4b4e-af7d-1d10aa08fc61",
   "metadata": {},
   "outputs": [
    {
     "name": "stdout",
     "output_type": "stream",
     "text": [
      "+-----------+----------+---------+-----------+------------+\n",
      "|  author_id|entry_year|last_year|all_y_in_FR|years_abroad|\n",
      "+-----------+----------+---------+-----------+------------+\n",
      "|A5084984675|      1985|     2020|         28|          33|\n",
      "+-----------+----------+---------+-----------+------------+\n",
      "\n"
     ]
    }
   ],
   "source": [
    "au_level_char.filter(func.col('author_id')==\"A5084984675\").show()"
   ]
  },
  {
   "cell_type": "code",
   "execution_count": 9,
   "id": "12f00d9d-b48a-406e-bf7b-db1837c67e47",
   "metadata": {},
   "outputs": [
    {
     "data": {
      "text/plain": [
       "DataFrame[author_id: string, main_field: string, author_name: string]"
      ]
     },
     "execution_count": 9,
     "metadata": {},
     "output_type": "execute_result"
    }
   ],
   "source": [
    "au_fields = (set_french_authors\n",
    "             .join(df_authors\n",
    "                   .select(func.regexp_replace('id', 'https://openalex.org/','').alias('author_id'), func.explode(func.col('topic_share')).alias('topic_share'),\n",
    "                          func.col('display_name').alias('author_name'))\n",
    "                   , on = ['author_id'], how = 'inner')\n",
    "             .withColumn('max_topic_share', func.max(func.col('topic_share.value')).over(Window.partitionBy('author_id')))\n",
    "             .filter(func.col('max_topic_share') <= func.col('topic_share.value'))\n",
    "             .withColumn('field', func.substring(func.lower(func.col('topic_share.field.display_name')), 1, 4))\n",
    "             .withColumn('main_field', func.concat_ws(',', func.array_sort(func.collect_set(func.col('field')).over(Window.partitionBy('author_id')))))\n",
    "             .select('author_id', 'main_field','author_name')\n",
    "             #.groupBy('author_id','main_field','author_name')\n",
    "             #.pivot('field')\n",
    "             #.agg(func.lit(1))\n",
    "             #.fillna(0)\n",
    "            )\n",
    "au_fields"
   ]
  },
  {
   "cell_type": "code",
   "execution_count": 9,
   "id": "db78e0f5-e6e4-4025-a991-1dbf850e89ea",
   "metadata": {
    "scrolled": true
   },
   "outputs": [],
   "source": [
    "#au_level_char.count()"
   ]
  },
  {
   "cell_type": "code",
   "execution_count": 10,
   "id": "ef777538-27bc-457e-bbd9-c1e196408909",
   "metadata": {},
   "outputs": [],
   "source": [
    "au_level_char = (au_level_char\n",
    "                 .filter((func.col('entry_year')<2020) & (func.col('entry_year')>1954))\n",
    "                 .join(au_fields, on = ['author_id'], how = 'left')\n",
    "                 .distinct()\n",
    "                )"
   ]
  },
  {
   "cell_type": "code",
   "execution_count": 11,
   "id": "17786a76-d575-49c2-a25a-643aae0d747f",
   "metadata": {
    "scrolled": true
   },
   "outputs": [],
   "source": [
    "#au_level_char.show()"
   ]
  },
  {
   "cell_type": "code",
   "execution_count": 12,
   "id": "3618898f-efd5-4455-a116-6e12a17e3d4a",
   "metadata": {
    "scrolled": true
   },
   "outputs": [],
   "source": [
    "au_level_char.write.mode('overwrite').parquet('file:\\\\' + save_path + 'au_level_char.parquet')"
   ]
  },
  {
   "cell_type": "code",
   "execution_count": null,
   "id": "2b8d823f-d68a-46de-b2b3-95193e8af986",
   "metadata": {},
   "outputs": [],
   "source": [
    "#spark.catalog.clearCache()"
   ]
  },
  {
   "cell_type": "markdown",
   "id": "44cd00de-0acd-4d9a-ac43-5f18d8cd198e",
   "metadata": {},
   "source": [
    "# Load author-level characteristics"
   ]
  },
  {
   "cell_type": "code",
   "execution_count": 19,
   "id": "0858569f-730e-403e-aeb0-e708b8f7ab10",
   "metadata": {},
   "outputs": [],
   "source": [
    "au_level_char= spark.read.parquet('file:\\\\' + save_path + 'au_level_char.parquet')"
   ]
  },
  {
   "cell_type": "code",
   "execution_count": 13,
   "id": "716fad01-fa92-4815-8cbb-0c32a16fa7e2",
   "metadata": {},
   "outputs": [],
   "source": [
    "#au_level_char = spark.read.parquet('file:\\\\' + save_path + 'au_level_char.parquet')"
   ]
  },
  {
   "cell_type": "code",
   "execution_count": 16,
   "id": "47f317d1-24b3-42d6-8738-063b421c665a",
   "metadata": {},
   "outputs": [],
   "source": [
    "#au_level_char.filter(func.col('author_id')==\"A5087461705\").show()"
   ]
  },
  {
   "cell_type": "code",
   "execution_count": 17,
   "id": "773c03da-e912-4100-9e54-fafb28edc000",
   "metadata": {},
   "outputs": [],
   "source": [
    "#(au_level_char.groupBy((func.floor(func.col('entry_year')/5)*5)\n",
    "#                       .alias('entry_year'))\n",
    "#.agg(*[func.mean(col).alias(col) for col in ['last_year',\"all_y_in_FR\", \"years_abroad\"]]).sort('entry_year')).show(100)"
   ]
  },
  {
   "cell_type": "code",
   "execution_count": 18,
   "id": "f71aed91-4a8c-4e44-9dcb-bb5198cc28d3",
   "metadata": {
    "scrolled": true
   },
   "outputs": [],
   "source": [
    "#(au_level_char\n",
    "# .groupBy(((func.floor(func.col('all_y_in_FR')/(func.col('last_year')-func.col('entry_year')+1)*50)*2).alias('share_y_in_fr')))\n",
    "# .count()\n",
    "# .sort('share_y_in_fr')).show(100)"
   ]
  },
  {
   "cell_type": "markdown",
   "id": "2f9c08c2-6f43-425f-a1f1-bc3ebdbfc44d",
   "metadata": {},
   "source": [
    "# Build institution-level information"
   ]
  },
  {
   "cell_type": "code",
   "execution_count": 19,
   "id": "b6ecf99e-c78f-44c2-9947-d1400f45a9c1",
   "metadata": {},
   "outputs": [],
   "source": [
    "#spark.catalog.clearCache()"
   ]
  },
  {
   "cell_type": "code",
   "execution_count": 20,
   "id": "b967d745-7ef5-4e2c-8f7e-837e68d0e097",
   "metadata": {
    "scrolled": true
   },
   "outputs": [],
   "source": [
    "#works_au_af_subset = (set_french_authors\n",
    "#                      .join(works_au_af.select('work_id','author_id', 'inst_id', 'publication_year', 'language', 'source_id'), on = ['author_id'], how = 'left')\n",
    "#                     )\n",
    "#works_au_af_subset.cache()#\n",
    "\n",
    "#works_au_af_subset.show()"
   ]
  },
  {
   "cell_type": "code",
   "execution_count": 5,
   "id": "0964a3c4-09d8-469a-80d9-ec59231628b4",
   "metadata": {},
   "outputs": [],
   "source": [
    "\n",
    "recoding= {   'I118618916'  :  \"I899635006\",\n",
    "              \"I36085230\"   :  \"I899635006\",\n",
    "              \"I177483745\"  :  \"I899635006\",\n",
    "              \"I4210103002\" :  \"I198244214\",\n",
    "              \"I4210143836\" :  \"I198244214\",\n",
    "              \"I184646667\"  :  \"I39804081\",\n",
    "              \"I102197404\"  :  \"I277688954\",\n",
    "              'I7171862'    :  \"I2279609970\",\n",
    "              \"I59807433\"   :  \"I2279609970\",\n",
    "              \"I2800379142\" :  \"I4210154111\",\n",
    "              \"I3123023596\" : \"I56067802\",\n",
    "              \"I4210095130\" : \"I208215962\" \n",
    "          #  , \"I4210140029\": \"I197518295\"\n",
    "}\n",
    "def recoding_univ(x):\n",
    "    if x in list(recoding.keys()):\n",
    "        return(recoding[x])\n",
    "    else:\n",
    "        return x\n",
    "udf_recoding_univ = func.udf(recoding_univ, StringType())\n",
    "list_fused = [\"I21491767\",\"I198244214\",\"I4210142324\",\n",
    "                \"I899635006\",\"I899635006\",\"I39804081\",\n",
    "                \"I201841394\",\"I4210154111\",\"I204730241\",\"I15057530\",\n",
    "                \"I277688954\",\"I68947357\",\"I2279609970\",\"I19894307\"]\n",
    "\n",
    "list_non_fr_non_uni_pub = ['I3131573726','I4210086079',\n",
    "                             \"I24240610\",\"I16465266\",'I35298706',\n",
    "                             \"I4210134562\",\"I185839726\",\"I4210143169\",\n",
    "                             \"I4210127465\",\"I10342815\",\n",
    "                             \"I57206974\",\"I193291145\",\"I4210163862\",\"I124357947\",\n",
    "                             \"I97565354\"]"
   ]
  },
  {
   "cell_type": "code",
   "execution_count": 9,
   "id": "84f9cb60-0734-4254-878a-5850474d3146",
   "metadata": {},
   "outputs": [],
   "source": [
    "from itertools import product"
   ]
  },
  {
   "cell_type": "code",
   "execution_count": 19,
   "id": "71907c42-aa2b-4e4c-a4ae-50ca9cf53928",
   "metadata": {},
   "outputs": [],
   "source": [
    "df_inst = (spark.read.format('parquet').load('file:\\\\' + main_path_openalex + 'institutions.parquet')\n",
    "          )"
   ]
  },
  {
   "cell_type": "code",
   "execution_count": 20,
   "id": "57f86b42-11dc-4af4-9ae5-8c0bbf78b58e",
   "metadata": {
    "scrolled": true
   },
   "outputs": [
    {
     "name": "stdout",
     "output_type": "stream",
     "text": [
      "+-----------------------+--------------+------------+--------------------+--------------------+------------+--------------------+---------------------+-------------------------+--------------------+--------------------+--------------------+--------------------+--------------------+--------------------+--------------------+---------------+--------------------+--------------------+--------------------+--------------------+--------------------+--------------------+--------------------+----------+--------------------+--------------------+--------------------+--------------------+-----------+--------------------+\n",
      "|associated_institutions|cited_by_count|country_code|          country_id|      counts_by_year|created_date|        display_name|display_name_acronyms|display_name_alternatives|                 geo|        homepage_url|                  id|                 ids| image_thumbnail_url|           image_url|       international|is_super_system|             lineage|        repositories|               roles|                 ror|       summary_stats|         topic_share|              topics|      type|             type_id|             updated|        updated_date|       works_api_url|works_count|          x_concepts|\n",
      "+-----------------------+--------------+------------+--------------------+--------------------+------------+--------------------+---------------------+-------------------------+--------------------+--------------------+--------------------+--------------------+--------------------+--------------------+--------------------+---------------+--------------------+--------------------+--------------------+--------------------+--------------------+--------------------+--------------------+----------+--------------------+--------------------+--------------------+--------------------+-----------+--------------------+\n",
      "|   [{US, https://ope...|      38967597|          US|https://openalex....|[{1952001, 7684, ...|  2016-06-24|  Harvard University|                   []|     [Universidad de H...|{Cambridge, Unite...|http://www.harvar...|https://openalex....|{grid.38142.3c, 1...|https://commons.w...|https://commons.w...|{{NULL, NULL, NUL...|          false|[https://openalex...|[{Digital Access ...|[{https://openale...|https://ror.org/0...|{5602809, 197, 12...|[{Genomic Studies...|[{10134, Natural ...| education|https://openalex....|2024-08-29T21:03:...|2024-08-29T21:03:...|https://api.opena...|     625576|[{Medicine, https...|\n",
      "|   [{US, https://ope...|      19884672|          US|https://openalex....|[{938113, 4074, 1...|  2016-06-24|University of Was...|                 [UW]|     [Universidad de W...|{Seattle, United ...|http://www.washin...|https://openalex....|{grid.34477.33, 2...|https://commons.w...|https://commons.w...|{{NULL, NULL, NUL...|          false|[https://openalex...|[{ResearchWorks a...|[{https://openale...|https://ror.org/0...|{2764509, 147, 56...|[{Genomic Studies...|[{4722, Preventio...| education|https://openalex....|2024-08-29T17:06:...|2024-08-29T17:06:...|https://api.opena...|     445606|[{Biology, https:...|\n",
      "|   [{US, https://ope...|      19647237|          US|https://openalex....|[{802100, 2801, 6...|  2016-06-24|University of Cal...|                [UCB]|     [University of Ca...|{Berkeley, United...|https://www.berke...|https://openalex....|{grid.47840.3f, 9...|https://commons.w...|https://commons.w...|{{NULL, NULL, NUL...|          false|[https://openalex...|                  []|[{https://openale...|https://ror.org/0...|{2385165, 126, 42...|[{Galaxy Formatio...|[{6959, Space Wea...| education|https://openalex....|2024-08-29T18:30:...|2024-08-29T18:30:...|https://api.opena...|     374013|[{Physics, https:...|\n",
      "|   [{US, https://ope...|      17691946|          US|https://openalex....|[{633752, 1920, 4...|  2016-06-24|National Institut...|                [NIH]|                       []|{Bethesda, United...| http://www.nih.gov/|https://openalex....|{grid.94365.3d, 1...|https://commons.w...|https://commons.w...|{{NULL, NULL, NUL...|          false|[https://openalex...|[{PubMed, https:/...|[{https://openale...|https://ror.org/0...|{1918814, 118, 29...|[{Human Immunodef...|[{9263, Natural K...|government|https://openalex....|2024-08-29T21:22:...|2024-08-29T21:22:...|https://api.opena...|     257174|[{Biology, https:...|\n",
      "|   [{GB, https://ope...|      16962493|          GB|https://openalex....|[{1045288, 7198, ...|  2016-06-24|University Colleg...|                [UCL]|     [London Universit...|{London, United K...|http://www.ucl.ac...|https://openalex....|{grid.83440.3b, 4...|https://commons.w...|https://commons.w...|{{NULL, NULL, NUL...|          false|[https://openalex...|[{Digital Educati...|[{https://openale...|https://ror.org/0...|{2923538, 164, 83...|[{Diagnosis and M...|[{5943, Molecular...| education|https://openalex....|2024-08-29T22:37:...|2024-08-29T22:37:...|https://api.opena...|     446870|[{Biology, https:...|\n",
      "|   [{US, https://ope...|      16425423|          US|https://openalex....|[{794186, 3332, 9...|  2016-06-24|University of Pen...|                   []|                  [UPenn]|{Philadelphia, Un...|http://www.upenn....|https://openalex....|{grid.25879.31, 7...|https://commons.w...|https://commons.w...|{{NULL, NULL, NUL...|          false|[https://openalex...|[{ScholarlyCommon...|[{https://openale...|https://ror.org/0...|{2298645, 137, 52...|[{Genomic Studies...|[{4545, Natural K...| education|https://openalex....|2024-08-29T09:45:...|2024-08-29T09:45:...|https://api.opena...|     340757|[{Medicine, https...|\n",
      "|   [{GB, https://ope...|      15604040|          GB|https://openalex....|[{835775, 4843, 9...|  2016-06-24|University of Cam...|                   []|     [Cambridge Univer...|{Cambridge, Unite...|http://www.cam.ac...|https://openalex....|{grid.5335.0, 241...|https://commons.w...|https://commons.w...|{{NULL, Кембриџь ...|          false|[https://openalex...|[{Apollo (Univers...|[{https://openale...|https://ror.org/0...|{2370527, 147, 58...|[{Galaxy Formatio...|[{5793, Stellar A...| education|https://openalex....|2024-08-29T13:30:...|2024-08-29T13:30:...|https://api.opena...|     355835|[{Biology, https:...|\n",
      "|   [{US, https://ope...|      15195869|          US|https://openalex....|[{695428, 3356, 9...|  2016-06-24|     Yale University|                   []|     [Universidad Yale...|{New Haven, Unite...| http://www.yale.edu|https://openalex....|{grid.47100.32, 3...|https://commons.w...|https://commons.w...|{{NULL, NULL, NUL...|          false|[https://openalex...|[{eYLS (Yale Law ...|[{https://openale...|https://ror.org/0...|{1994121, 139, 48...|[{Genomic Studies...|[{5569, Molecular...| education|https://openalex....|2024-08-29T22:44:...|2024-08-29T22:44:...|https://api.opena...|     327009|[{Biology, https:...|\n",
      "|   [{US, https://ope...|      14524718|          US|https://openalex....|[{737665, 3439, 9...|  2016-06-24|University of Cal...|               [UCSD]|     [Universidad de C...|{San Diego, Unite...|    https://ucsd.edu|https://openalex....|{grid.266100.3, 3...|https://commons.w...|https://commons.w...|{{NULL, NULL, NUL...|          false|[https://openalex...|[{Digital USD (Un...|[{https://openale...|https://ror.org/0...|{2136584, 146, 47...|[{Molecular Mecha...|[{3582, Neuronal ...| education|https://openalex....|2024-08-29T02:12:...|2024-08-29T02:12:...|https://api.opena...|     289520|[{Biology, https:...|\n",
      "|   [{US, https://ope...|      13840065|          US|https://openalex....|[{672940, 3086, 8...|  2016-06-24|University of Cal...|               [UCSF]|     [Universidad de C...|{San Francisco, U...|https://www.ucsf....|https://openalex....|{grid.266102.1, 1...|https://commons.w...|https://commons.w...|{{NULL, NULL, NUL...|          false|[https://openalex...|                  []|[{https://openale...|https://ror.org/0...|{1956019, 130, 44...|[{Prevention and ...|[{6176, Preventio...| education|https://openalex....|2024-08-29T03:02:...|2024-08-29T03:02:...|https://api.opena...|     250693|[{Medicine, https...|\n",
      "|   [{FR, https://ope...|      13492420|          FR|https://openalex....|[{698866, 5127, 1...|  2016-06-24|              Inserm|             [INSERM]|     [Institut Nationa...|{Paris, France, F...|https://www.inser...|https://openalex....|{grid.7429.8, 154...|https://commons.w...|https://commons.w...|{{NULL, NULL, NUL...|          false|[https://openalex...|                  []|[{https://openale...|https://ror.org/0...|{1997212, 129, 48...|[{Regulatory T Ce...|[{10068, Natural ...|government|https://openalex....|2024-08-29T01:11:...|2024-08-29T01:11:...|https://api.opena...|     334874|[{Medicine, https...|\n",
      "|   [{US, https://ope...|      13462259|          US|https://openalex....|[{559710, 2685, 7...|  2016-06-24|University of Wis...|                 [UW]|     [Universidad de W...|{Madison, United ...|http://www.wisc.edu/|https://openalex....|{grid.14003.36, 1...|https://commons.w...|https://commons.w...|{{NULL, NULL, NUL...|          false|[https://openalex...|[{Minds at UW (Un...|[{https://openale...|https://ror.org/0...|{1645509, 105, 32...|[{Neutrino Flavor...|[{4290, Particle ...| education|https://openalex....|2024-08-29T16:33:...|2024-08-29T16:33:...|https://api.opena...|     315004|[{Biology, https:...|\n",
      "|   [{US, https://ope...|      12508772|          US|https://openalex....|[{552051, 2403, 6...|  2016-06-24|University of Min...|                   []|     [University of Mi...|{Minneapolis, Uni...|http://twin-citie...|https://openalex....|{grid.17635.36, 1...|https://commons.w...|https://commons.w...|{{NULL, NULL, NUL...|          false|[https://openalex...|[{University of M...|[{https://openale...|https://ror.org/0...|{1618347, 96, 313...|[{Self-Assembly o...|[{3090, Global Tr...| education|https://openalex....|2024-08-29T20:41:...|2024-08-29T20:41:...|https://api.opena...|     298752|[{Biology, https:...|\n",
      "|   [{US, https://ope...|      11948285|          US|https://openalex....|[{495431, 2178, 6...|  2016-06-24|University of Chi...|                 [UC]|     [UChicago, Univer...|{Chicago, United ...|http://www.uchica...|https://openalex....|{grid.170205.1, 4...|https://commons.w...|https://commons.w...|{{NULL, NULL, NUL...|          false|[https://openalex...|[{Knowledge@UChic...|[{https://openale...|https://ror.org/0...|{1434494, 109, 30...|[{Genomic Studies...|[{3643, Particle ...| education|https://openalex....|2024-08-29T01:54:...|2024-08-29T01:54:...|https://api.opena...|     247600|[{Biology, https:...|\n",
      "|   [{GB, https://ope...|      11132567|          GB|https://openalex....|[{710812, 4606, 9...|  2016-06-24|Imperial College ...|                   []|     [Coleg Imperial L...|{London, United K...|https://www.imper...|https://openalex....|{grid.7445.2, 475...|https://commons.w...|https://commons.w...|{{NULL, NULL, NUL...|          false|[https://openalex...|[{Spiral (Imperia...|[{https://openale...|https://ror.org/0...|{2016311, 143, 62...|[{Nonlinear Dynam...|[{4090, Asthma, {...| education|https://openalex....|2024-08-29T13:19:...|2024-08-29T13:19:...|https://api.opena...|     283172|[{Biology, https:...|\n",
      "|   [{CA, https://ope...|      10918030|          CA|https://openalex....|[{610382, 3575, 9...|  2016-06-24|University of Bri...|                [UBC]|     [Université de la...|{Vancouver, Canad...| https://www.ubc.ca/|https://openalex....|{grid.17091.3e, 1...|https://commons.w...|https://commons.w...|{{NULL, NULL, NUL...|          false|[https://openalex...|[{cIRcle (Univers...|[{https://openale...|https://ror.org/0...|{1729066, 112, 45...|[{Pathophysiology...|[{2440, Molecular...| education|https://openalex....|2024-08-29T22:12:...|2024-08-29T22:12:...|https://api.opena...|     291331|[{Biology, https:...|\n",
      "|   [{US, https://ope...|      10863657|          US|https://openalex....|[{538677, 2377, 7...|  2016-06-24|University of Nor...|                [UNC]|     [Universidad de C...|{Chapel Hill, Uni...| http://www.unc.edu/|https://openalex....|{grid.10698.36, 1...|https://commons.w...|https://commons.w...|{{NULL, NULL, NUL...|          false|[https://openalex...|[{Boloka Institut...|[{https://openale...|https://ror.org/0...|{1592887, 115, 33...|[{Genomic Studies...|[{4412, Preventio...| education|https://openalex....|2024-08-29T10:45:...|2024-08-29T10:45:...|https://api.opena...|     243945|[{Medicine, https...|\n",
      "|   [{US, https://ope...|      10265475|          US|https://openalex....|[{593300, 2218, 7...|  2016-06-24|Brigham and Women...|                [BWH]|            [The Brigham]|{Boston, United S...|http://www.brigha...|https://openalex....|{grid.62560.37, 1...|https://commons.w...|https://commons.w...|{{NULL, NULL, NUL...|          false|[https://openalex...|                  []|[{https://openale...|https://ror.org/0...|{1701099, 136, 42...|[{Genomic Studies...|[{3504, Natural K...|healthcare|https://openalex....|2024-08-29T19:57:...|2024-08-29T19:57:...|https://api.opena...|     174242|[{Medicine, https...|\n",
      "|   [{US, https://ope...|      10151677|          US|https://openalex....|[{478807, 2086, 6...|  2016-06-24|Washington Univer...|              [WUSTL]|     [Universidad Wash...|{St Louis, United...|   http://wustl.edu/|https://openalex....|{grid.4367.6, 204...|https://commons.w...|https://commons.w...|{{NULL, NULL, NUL...|          false|[https://openalex...|[{Digital Commons...|[{https://openale...|https://ror.org/0...|{1375659, 123, 32...|[{Genomic Studies...|[{2688, Anaerobic...| education|https://openalex....|2024-08-29T17:19:...|2024-08-29T17:19:...|https://api.opena...|     205550|[{Biology, https:...|\n",
      "|   [{US, https://ope...|      10076195|          US|https://openalex....|[{478260, 2508, 7...|  2016-06-24|Pennsylvania Stat...|                [PSU]|     [Universidad Esta...|{State College, U...| http://www.psu.edu/|https://openalex....|{grid.29857.31, 1...|https://commons.w...|https://commons.w...|{{NULL, NULL, NUL...|          false|[https://openalex...|[{CiteSeer X (The...|[{https://openale...|https://ror.org/0...|{1372522, 93, 312...|[{Lead-free Piezo...|[{4017, Lead-free...| education|https://openalex....|2024-08-29T20:47:...|2024-08-29T20:47:...|https://api.opena...|     290919|[{Biology, https:...|\n",
      "+-----------------------+--------------+------------+--------------------+--------------------+------------+--------------------+---------------------+-------------------------+--------------------+--------------------+--------------------+--------------------+--------------------+--------------------+--------------------+---------------+--------------------+--------------------+--------------------+--------------------+--------------------+--------------------+--------------------+----------+--------------------+--------------------+--------------------+--------------------+-----------+--------------------+\n",
      "only showing top 20 rows\n",
      "\n"
     ]
    }
   ],
   "source": [
    "df_inst.show()"
   ]
  },
  {
   "cell_type": "code",
   "execution_count": 23,
   "id": "61ceb0fc-ef66-4765-9cd6-84f2ffd27546",
   "metadata": {
    "scrolled": true
   },
   "outputs": [
    {
     "name": "stdout",
     "output_type": "stream",
     "text": [
      "+-----------+--------------------+----------+-------+--------------------+-----+\n",
      "|    inst_id|           inst_name| inst_type|country|              parent|fused|\n",
      "+-----------+--------------------+----------+-------+--------------------+-----+\n",
      "| I255234318|Universidad de Za...| education|     ES|                NULL|    0|\n",
      "|  I38877650|Zhengzhou University| education|     CN|                NULL|    0|\n",
      "|I4210141565|Institut de Chimi...|  facility|     FR|[{I4210128300, In...|    0|\n",
      "| I193033237|Institut Superieu...| education|     FR|[{I17866349, Univ...|    0|\n",
      "|I4210130930|Peking University...|healthcare|     CN|                NULL|    0|\n",
      "| I169016828|  Shimane University| education|     JP|                NULL|    0|\n",
      "|I4210101037|Laboratoire de Ph...|  facility|     FR|[{I4210137101, Dé...|    0|\n",
      "|I1296604144|Memorial Hospital...|healthcare|     US|[{NULL, NULL, NULL}]|    0|\n",
      "|I2800288331|Hospital Israelit...|healthcare|     BR|[{NULL, NULL, NULL}]|    0|\n",
      "|  I79817857|University of Guelph| education|     CA|[{NULL, NULL, NULL}]|    0|\n",
      "|   I5561750|University of Bar...| education|     IT|[{NULL, NULL, NULL}]|    0|\n",
      "|I4210135252|University of Min...|healthcare|     US|[{I1309104334, Fa...|    0|\n",
      "| I160993911|Queensland Univer...| education|     AU|                NULL|    0|\n",
      "|I2802694670|Academic Center f...| nonprofit|     IR|                NULL|    0|\n",
      "|  I59611059|Institute of Math...|  facility|     IN|[{NULL, NULL, NULL}]|    0|\n",
      "|I4210115196|Laboratoire d’Inf...|  facility|     FR|[{I4210159245, In...|    0|\n",
      "|  I91935597|University of Sou...| education|     CN|                NULL|    0|\n",
      "|   I8204097|Ludwig-Maximilian...| education|     DE|                NULL|    0|\n",
      "| I118564535|  University of Bern| education|     CH|                NULL|    0|\n",
      "|I4210109693|Association pour ...|     other|     FR|[{NULL, NULL, NULL}]|    0|\n",
      "+-----------+--------------------+----------+-------+--------------------+-----+\n",
      "only showing top 20 rows\n",
      "\n"
     ]
    }
   ],
   "source": [
    "inst = (works_au_af_subset\n",
    "        .select('inst_id')\n",
    "        .distinct()\n",
    "        .withColumn('inst_id', udf_recoding_univ(func.col('inst_id')))\n",
    "        .join(df_inst\n",
    "              .withColumn('has_parent', func.array_contains(func.col('associated_institutions.relationship'), 'parent').cast(\"int\"))\n",
    "              .groupBy(func.regexp_replace(func.col('id'), 'https://openalex.org/', '').alias('inst_id'))\n",
    "              .agg(func.first(func.col('display_name')).alias('inst_name'),func.first(func.col('type')).alias('inst_type'), func.first('country_code').alias('country'))\n",
    "              , on = ['inst_id'], how = 'left')\n",
    "        .join(df_inst\n",
    "              .select(func.regexp_replace(func.col('id'), 'https://openalex.org/', '').alias('inst_id'),\n",
    "                      func.explode_outer(func.col('associated_institutions')).alias('associated_institutions'))\n",
    "              .filter( (func.col('associated_institutions.relationship') =='parent') | (func.col('associated_institutions').isNull()))\n",
    "              .groupBy('inst_id')\n",
    "               .agg( func.collect_set(func.struct(func.regexp_replace(func.col('associated_institutions.id'), 'https://openalex.org/', '').alias('parent_id'),\n",
    "                      func.col('associated_institutions.display_name').alias('parent_name'),\n",
    "                      func.col('associated_institutions.type').alias('parent_type'))).alias('parent'))\n",
    "             , on = 'inst_id', how = 'left')\n",
    "        .withColumn('fused', (func.col('inst_id').isin(list_fused)).cast('int'))\n",
    "       )\n",
    "inst.cache()\n",
    "inst.show()\n",
    "                     "
   ]
  },
  {
   "cell_type": "code",
   "execution_count": null,
   "id": "36cbaba6-d27a-4110-bd9d-f5500a91b266",
   "metadata": {},
   "outputs": [],
   "source": [
    "inst.filter(func.col('inst_id').isin([\"I57995698\",\"I4210154111\"])).collect()"
   ]
  },
  {
   "cell_type": "code",
   "execution_count": 24,
   "id": "44daf1b7-90ff-451d-8b65-410a991c0092",
   "metadata": {
    "scrolled": true
   },
   "outputs": [
    {
     "data": {
      "text/plain": [
       "[Row(inst_id='I57995698', inst_name='Paris School of Economics', inst_type='education', country='FR', parent=[Row(parent_id=None, parent_name=None, parent_type=None)], fused=0, uni_pub=0)]"
      ]
     },
     "execution_count": 24,
     "metadata": {},
     "output_type": "execute_result"
    }
   ],
   "source": [
    "inst = (inst.distinct()\n",
    "        .withColumn('fused', (func.arrays_overlap(func.col('parent.parent_id'), func.array([func.lit(fused_uni) for fused_uni in list_fused]) ) ).cast('int'))\n",
    "        .withColumn('uni_pub', \n",
    "                  (  ( ( func.col('inst_type') == \"education\")\n",
    "                    & (func.lower(func.col('inst_name')).contains('universit'))\n",
    "                    & ~(func.lower(func.col('inst_name')).contains('catholi'))\n",
    "                     & ~ (func.col('inst_id').isin(list_non_fr_non_uni_pub))\n",
    "                    )\n",
    "                        |\n",
    "                    (\n",
    "                    (func.array_contains(func.col('parent.parent_type'), 'education'))\n",
    "                    & ~(func.arrays_overlap(func.col('parent.parent_id'),func.array([func.lit(fused_uni) for fused_uni in list_non_fr_non_uni_pub])))\n",
    "                    & (func.array_max(func.transform(func.col('parent.parent_name'), lambda x : func.when(func.lower(x).contains('universit'), 1))) ==1)\n",
    "                    & (func.array_max(func.transform(func.col('parent.parent_name'), lambda x : func.when(func.lower(x).contains('catholic'), 1)\n",
    "                                                    .otherwise(0))) ==0)\n",
    "                    )\n",
    "                    ).cast('int')\n",
    "                   )\n",
    "        .fillna(0, subset = ['fused','uni_pub'])\n",
    "       )\n",
    "\n",
    "inst.cache()\n",
    "inst.filter(func.col('inst_id')==\"I57995698\").collect()"
   ]
  },
  {
   "cell_type": "code",
   "execution_count": null,
   "id": "02211639-3b80-40b2-8023-db42bd41dcf4",
   "metadata": {},
   "outputs": [],
   "source": [
    "inst.filter( (func.col('inst_type')==\"non_profit\") "
   ]
  },
  {
   "cell_type": "code",
   "execution_count": 25,
   "id": "fa31d986-89cf-45bf-93d6-14e2a789a008",
   "metadata": {},
   "outputs": [
    {
     "data": {
      "text/plain": [
       "798"
      ]
     },
     "execution_count": 25,
     "metadata": {},
     "output_type": "execute_result"
    }
   ],
   "source": [
    "cnrs_descendants = [row[0] for row in inst.filter((func.array_contains(func.col('parent.parent_id'),'I1294671590')\n",
    "                                                   | (func.col('inst_id')==\"I1294671590\") )).select('inst_id').collect()\n",
    "                   ] + ['I1294671590', 'I57995698']\n",
    "inst = (inst\n",
    "        .withColumn('cnrs', ( (func.col('inst_id').isin(cnrs_descendants) )\n",
    "                             | (func.arrays_overlap(func.col('parent.parent_id'), func.array( [func.lit(el) for el in cnrs_descendants] )))\n",
    "                             | (func.array_max(func.transform(func.col('parent.parent_name'), lambda x: x.contains('CNRS').cast('int'))) ==1)\n",
    "                            ).cast('int')\n",
    "                   )\n",
    "        .fillna(0, subset = ['cnrs'])\n",
    "        .withColumn('parent', func.when(func.col('parent').isNull(), func.array(func.struct(func.col('inst_id').alias('parent_id'),\n",
    "                                                                                           func.col('inst_name').alias('parent_name'),\n",
    "                                                                                           func.col('inst_type').alias('parent_type'))))\n",
    "                              .otherwise(func.col('parent'))\n",
    "        \n",
    "       )\n",
    "                  .withColumn('parent',func.to_json(func.col('parent')))\n",
    "       )\n",
    "inst.cache()\n",
    "inst.filter(func.col('cnrs') ==1).count()"
   ]
  },
  {
   "cell_type": "code",
   "execution_count": null,
   "id": "13d932bc-762f-4e49-91b8-1afd2ff8201d",
   "metadata": {},
   "outputs": [],
   "source": []
  },
  {
   "cell_type": "code",
   "execution_count": 12,
   "id": "c3055c96-3af6-45a7-a836-8e9494f0e4e9",
   "metadata": {},
   "outputs": [
    {
     "data": {
      "text/plain": [
       "'CASE WHEN inst_id ==\"I118618916\" THEN \"I899635006\" WHEN inst_id ==\"I36085230\" THEN \"I899635006\" WHEN inst_id ==\"I177483745\" THEN \"I899635006\" WHEN inst_id ==\"I4210103002\" THEN \"I198244214\" WHEN inst_id ==\"I4210143836\" THEN \"I198244214\" WHEN inst_id ==\"I184646667\" THEN \"I39804081\" WHEN inst_id ==\"I102197404\" THEN \"I277688954\" WHEN inst_id ==\"I7171862\" THEN \"I2279609970\" WHEN inst_id ==\"I59807433\" THEN \"I2279609970\" WHEN inst_id ==\"I2800379142\" THEN \"I4210154111\" WHEN inst_id ==\"I3123023596\" THEN \"I56067802\" WHEN inst_id ==\"I4210095130\" THEN \"I208215962\"ELSE inst_id END'"
      ]
     },
     "execution_count": 12,
     "metadata": {},
     "output_type": "execute_result"
    }
   ],
   "source": [
    "expr_inst_id = 'CASE WHEN ' + ' WHEN '.join(['inst_id ==\"' + \n",
    "                                        to_recode +'\" THEN \"' + recoding[to_recode] +'\"' \n",
    "                                        for to_recode in list(recoding.keys()) ]) + 'ELSE inst_id END'\n",
    "expr_inst_id"
   ]
  },
  {
   "cell_type": "code",
   "execution_count": 34,
   "id": "f7df2f3e-e871-4d23-b226-1695fd987251",
   "metadata": {},
   "outputs": [
    {
     "data": {
      "text/plain": [
       "[Row(inst_id='I2801673036', country='FR', inst_name=\"Chambre de Commerce et d'industrie de Paris\", inst_type='other', parent='[{\"parent_id\":\"I2801673036\",\"parent_name\":\"Chambre de Commerce et d\\'industrie de Paris\",\"parent_type\":\"other\"}]', fused=0, uni_pub=0, cnrs=0),\n",
       " Row(inst_id='I2801673036', country='FR', inst_name=\"Chambre de Commerce et d'industrie de Paris\", inst_type='other', parent='[{\"parent_id\":\"I2801673036\",\"parent_name\":\"Paris Chamber of Commerce\",\"parent_type\":\"other\"}]', fused=0, uni_pub=0, cnrs=0)]"
      ]
     },
     "execution_count": 34,
     "metadata": {},
     "output_type": "execute_result"
    }
   ],
   "source": [
    "inst.filter(func.col('inst_id')==\"I2801673036\").collect()"
   ]
  },
  {
   "cell_type": "code",
   "execution_count": 37,
   "id": "6024eec6-0b1e-45cb-be48-6857b3f2098a",
   "metadata": {
    "scrolled": true
   },
   "outputs": [
    {
     "data": {
      "text/plain": [
       "82"
      ]
     },
     "execution_count": 37,
     "metadata": {},
     "output_type": "execute_result"
    }
   ],
   "source": [
    "inst.filter(func.col('country')==\"FR\").groupBy('inst_id').count().filter('count=2').count()"
   ]
  },
  {
   "cell_type": "code",
   "execution_count": 27,
   "id": "c305b086-d282-49dd-8930-97545a8a97d1",
   "metadata": {},
   "outputs": [
    {
     "name": "stdout",
     "output_type": "stream",
     "text": [
      "+-----+-----+\n",
      "|count|count|\n",
      "+-----+-----+\n",
      "|    1|49888|\n",
      "+-----+-----+\n",
      "\n"
     ]
    }
   ],
   "source": [
    "inst = (inst\n",
    "        .withColumn('inst_name', func.first(func.col('inst_name')).over(Window.partitionBy('inst_id')))\n",
    "        .distinct()\n",
    "       .withColumn('test', func.size(func.collect_set('uni_pub').over(Window.partitionBy('inst_id'))))\n",
    "        .filter('test=1')\n",
    "        .drop('test')\n",
    "       )\n",
    "inst.groupBy('inst_id').count().groupBy('count').count().show()"
   ]
  },
  {
   "cell_type": "code",
   "execution_count": 28,
   "id": "f503e82b-1711-4e2e-90b2-1c35f1900422",
   "metadata": {},
   "outputs": [],
   "source": [
    "inst.write.mode('overwrite').parquet('file:\\\\' + save_path + 'inst_clean.parquet')"
   ]
  },
  {
   "cell_type": "code",
   "execution_count": 6,
   "id": "771b8343-7138-41a8-963c-2bb0fa28e025",
   "metadata": {},
   "outputs": [],
   "source": [
    "inst= spark.read.parquet('file:\\\\' + save_path + 'inst_clean.parquet')"
   ]
  },
  {
   "cell_type": "code",
   "execution_count": 13,
   "id": "3378c45c-1ed8-4827-8355-584855b730f9",
   "metadata": {
    "scrolled": true
   },
   "outputs": [
    {
     "name": "stdout",
     "output_type": "stream",
     "text": [
      "+-----------+-----------+---------+----------+-----------+---------+-----------+----------------+--------+-----------+--------------------+----------+-------+--------------------+-----+-------+----+\n",
      "|    inst_id|  author_id|last_year|entry_year|n_pub_in_FR|n_y_in_FR|    work_id|publication_year|language|  source_id|           inst_name| inst_type|country|              parent|fused|uni_pub|cnrs|\n",
      "+-----------+-----------+---------+----------+-----------+---------+-----------+----------------+--------+-----------+--------------------+----------+-------+--------------------+-----+-------+----+\n",
      "|I4210149539|A5000157973|     2020|      2003|         80|       16|W3003814814|            2019|      fr|S4306402512|Laboratoire d'Ant...|  facility|     FR|[{\"parent_id\":\"I1...|    0|      0|   1|\n",
      "|I4210149539|A5000157973|     2020|      2003|         80|       16|W4378736409|            2016|      en|S4306402512|Laboratoire d'Ant...|  facility|     FR|[{\"parent_id\":\"I1...|    0|      0|   1|\n",
      "|I1294671590|A5000157973|     2020|      2003|         80|       16|W1925844554|            2011|      fr|S4306463550|Centre National d...|government|     FR|[{\"parent_id\":\"I1...|    0|      0|   1|\n",
      "|I1294671590|A5000157973|     2020|      2003|         80|       16|W3110988154|            2020|      fr|S4306402512|Centre National d...|government|     FR|[{\"parent_id\":\"I1...|    0|      0|   1|\n",
      "| I187986737|A5000157973|     2020|      2003|         80|       16|W2599059147|            2017|      fr|S2736580918|   Collège de France| education|     FR|[{\"parent_id\":\"I1...|    0|      0|   0|\n",
      "|I1294671590|A5000157973|     2020|      2003|         80|       16|W3113741922|            2020|      fr|       NULL|Centre National d...|government|     FR|[{\"parent_id\":\"I1...|    0|      0|   1|\n",
      "|I4210149539|A5000157973|     2020|      2003|         80|       16|W3110988154|            2020|      fr|S4306402512|Laboratoire d'Ant...|  facility|     FR|[{\"parent_id\":\"I1...|    0|      0|   1|\n",
      "|I1294671590|A5000157973|     2020|      2003|         80|       16|W4378736409|            2016|      en|S4306402512|Centre National d...|government|     FR|[{\"parent_id\":\"I1...|    0|      0|   1|\n",
      "|I1294671590|A5000157973|     2020|      2003|         80|       16|W4312221268|            2017|      fr|S4306402512|Centre National d...|government|     FR|[{\"parent_id\":\"I1...|    0|      0|   1|\n",
      "| I187986737|A5000157973|     2020|      2003|         80|       16|W4241009160|            2020|      fr|       NULL|   Collège de France| education|     FR|[{\"parent_id\":\"I1...|    0|      0|   0|\n",
      "|I1294671590|A5000157973|     2020|      2003|         80|       16|W4299930771|            2016|      en|S2764381542|Centre National d...|government|     FR|[{\"parent_id\":\"I1...|    0|      0|   1|\n",
      "|I4210149539|A5000157973|     2020|      2003|         80|       16|W2958576784|            2019|      fr|S4210195010|Laboratoire d'Ant...|  facility|     FR|[{\"parent_id\":\"I1...|    0|      0|   1|\n",
      "|I4210149539|A5000157973|     2020|      2003|         80|       16|W4327879613|            2016|      en|S4306402512|Laboratoire d'Ant...|  facility|     FR|[{\"parent_id\":\"I1...|    0|      0|   1|\n",
      "|I4210149539|A5000157973|     2020|      2003|         80|       16|W4287998410|            2019|      fr|S4306402512|Laboratoire d'Ant...|  facility|     FR|[{\"parent_id\":\"I1...|    0|      0|   1|\n",
      "|I4210149539|A5000157973|     2020|      2003|         80|       16|W3118016111|            2020|      fr|S4306402512|Laboratoire d'Ant...|  facility|     FR|[{\"parent_id\":\"I1...|    0|      0|   1|\n",
      "|I1294671590|A5000157973|     2020|      2003|         80|       16|W4312221267|            2017|      fr|S4306402512|Centre National d...|government|     FR|[{\"parent_id\":\"I1...|    0|      0|   1|\n",
      "|I1294671590|A5000157973|     2020|      2003|         80|       16|W3003439469|            2019|      fr|S4306402512|Centre National d...|government|     FR|[{\"parent_id\":\"I1...|    0|      0|   1|\n",
      "|I1294671590|A5000157973|     2020|      2003|         80|       16|W4312201244|            2017|      fr|S4306402512|Centre National d...|government|     FR|[{\"parent_id\":\"I1...|    0|      0|   1|\n",
      "|I4210124615|A5000157973|     2020|      2003|         80|       16|W2405443696|            2016|      en| S127900037|Laboratoire Inter...|  facility|     FR|[{\"parent_id\":\"I1...|    0|      1|   1|\n",
      "|I4210149539|A5000157973|     2020|      2003|         80|       16|W4287973193|            2020|      fr|S2736580918|Laboratoire d'Ant...|  facility|     FR|[{\"parent_id\":\"I1...|    0|      0|   1|\n",
      "+-----------+-----------+---------+----------+-----------+---------+-----------+----------------+--------+-----------+--------------------+----------+-------+--------------------+-----+-------+----+\n",
      "only showing top 20 rows\n",
      "\n"
     ]
    }
   ],
   "source": [
    "works_au_af_subset = (works_au_af_subset\n",
    "                 # .withColumn('inst_id', func.expr(expr_inst_id))\n",
    "                 # .join(inst.drop('country').distinct(), on = ['inst_id'])\n",
    "                  .withColumn('inst_id', func.expr(expr_inst_id))\n",
    "                  .withColumn('inst_id', func.when(func.col('inst_id')== \"I4210140029\", \"I197518295\").otherwise(func.col('inst_id')))\n",
    "                  .join(inst.distinct(), on = ['inst_id'])\n",
    "                     )\n",
    "works_au_af_subset.cache()\n",
    "works_au_af_subset.show()"
   ]
  },
  {
   "cell_type": "code",
   "execution_count": 23,
   "id": "8a4453e7-8cba-4681-abab-1639ee1a428f",
   "metadata": {},
   "outputs": [],
   "source": [
    "works_au_af_subset.join(works_au_af.select('work_id','citations').distinct(), on = ['work_id'], how = 'left').write.mode('overwrite').parquet('file:\\\\' + save_path + 'works_au_af_subset.parquet') "
   ]
  },
  {
   "cell_type": "code",
<<<<<<< Updated upstream
   "execution_count": 7,
=======
   "execution_count": 12,
>>>>>>> Stashed changes
   "id": "b54851e7-d9a8-4bb4-8848-3a76b940c252",
   "metadata": {},
   "outputs": [],
   "source": [
    "works_au_af_subset = spark.read.parquet('file:\\\\' + save_path + 'works_au_af_subset.parquet') "
   ]
  },
  {
   "cell_type": "code",
<<<<<<< Updated upstream
   "execution_count": 8,
   "id": "5bc3d79e-524d-4a87-870c-603dd771c8eb",
   "metadata": {
    "scrolled": true
   },
=======
   "execution_count": 13,
   "id": "91e7496e-4247-4ddb-a8ad-e260889a3d92",
   "metadata": {},
   "outputs": [],
   "source": [
    "journals_ranking = (spark.read.format('parquet').load('file:\\\\' + main_path_openalex + 'journals_ranking_year.parquet')\n",
    "                      .withColumn('source_id', func.regexp_replace(func.col('source_id'), 'https://openalex.org/', ''))\n",
    "                   )"
   ]
  },
  {
   "cell_type": "code",
   "execution_count": 17,
   "id": "1430828f-b385-4516-bce9-0dde852082da",
   "metadata": {},
   "outputs": [],
   "source": [
    "works_au_af_subset = (works_au_af_subset\n",
    "                      .join(works_au_af\n",
    "                            .groupBy('author_id','work_id')\n",
    "                            .agg(func.collect_set('author_position').alias('author_position')),\n",
    "                            on =['author_id','work_id'], how = 'left')\n",
    "                      .join(journals_ranking, on = \"source_id\", how =\"left\")\n",
    "                     )"
   ]
  },
  {
   "cell_type": "code",
   "execution_count": 19,
   "id": "9fa9568a-0832-4ce6-8902-4af25d73a2f7",
   "metadata": {},
>>>>>>> Stashed changes
   "outputs": [
    {
     "ename": "Py4JJavaError",
     "evalue": "An error occurred while calling o181.parquet.\n: org.apache.spark.SparkException: Job 16 cancelled \r\n\tat org.apache.spark.scheduler.DAGScheduler.failJobAndIndependentStages(DAGScheduler.scala:2856)\r\n\tat org.apache.spark.scheduler.DAGScheduler.handleJobCancellation(DAGScheduler.scala:2731)\r\n\tat org.apache.spark.scheduler.DAGSchedulerEventProcessLoop.doOnReceive(DAGScheduler.scala:3013)\r\n\tat org.apache.spark.scheduler.DAGSchedulerEventProcessLoop.onReceive(DAGScheduler.scala:2994)\r\n\tat org.apache.spark.scheduler.DAGSchedulerEventProcessLoop.onReceive(DAGScheduler.scala:2983)\r\n\tat org.apache.spark.util.EventLoop$$anon$1.run(EventLoop.scala:49)\r\n",
     "output_type": "error",
     "traceback": [
      "\u001b[1;31m---------------------------------------------------------------------------\u001b[0m",
      "\u001b[1;31mPy4JJavaError\u001b[0m                             Traceback (most recent call last)",
      "Cell \u001b[1;32mIn[19], line 1\u001b[0m\n\u001b[1;32m----> 1\u001b[0m \u001b[43mworks_au_af_subset\u001b[49m\u001b[38;5;241;43m.\u001b[39;49m\u001b[43mwrite\u001b[49m\u001b[38;5;241;43m.\u001b[39;49m\u001b[43mmode\u001b[49m\u001b[43m(\u001b[49m\u001b[38;5;124;43m'\u001b[39;49m\u001b[38;5;124;43moverwrite\u001b[39;49m\u001b[38;5;124;43m'\u001b[39;49m\u001b[43m)\u001b[49m\u001b[38;5;241;43m.\u001b[39;49m\u001b[43mparquet\u001b[49m\u001b[43m(\u001b[49m\u001b[38;5;124;43m'\u001b[39;49m\u001b[38;5;124;43mfile:\u001b[39;49m\u001b[38;5;130;43;01m\\\\\u001b[39;49;00m\u001b[38;5;124;43m'\u001b[39;49m\u001b[43m \u001b[49m\u001b[38;5;241;43m+\u001b[39;49m\u001b[43m \u001b[49m\u001b[43msave_path\u001b[49m\u001b[43m \u001b[49m\u001b[38;5;241;43m+\u001b[39;49m\u001b[43m \u001b[49m\u001b[38;5;124;43m'\u001b[39;49m\u001b[38;5;124;43mworks_au_af_subset.parquet\u001b[39;49m\u001b[38;5;124;43m'\u001b[39;49m\u001b[43m)\u001b[49m \n",
      "File \u001b[1;32m~\\.conda\\envs\\sparknlp\\lib\\site-packages\\pyspark\\sql\\readwriter.py:1140\u001b[0m, in \u001b[0;36mDataFrameWriter.parquet\u001b[1;34m(self, path, mode, partitionBy, compression)\u001b[0m\n\u001b[0;32m   1138\u001b[0m     \u001b[38;5;28mself\u001b[39m\u001b[38;5;241m.\u001b[39mpartitionBy(partitionBy)\n\u001b[0;32m   1139\u001b[0m \u001b[38;5;28mself\u001b[39m\u001b[38;5;241m.\u001b[39m_set_opts(compression\u001b[38;5;241m=\u001b[39mcompression)\n\u001b[1;32m-> 1140\u001b[0m \u001b[38;5;28;43mself\u001b[39;49m\u001b[38;5;241;43m.\u001b[39;49m\u001b[43m_jwrite\u001b[49m\u001b[38;5;241;43m.\u001b[39;49m\u001b[43mparquet\u001b[49m\u001b[43m(\u001b[49m\u001b[43mpath\u001b[49m\u001b[43m)\u001b[49m\n",
      "File \u001b[1;32mC:\\ProgramData\\anaconda3\\\\Lib\\site-packages\\pyspark\\python\\lib\\py4j-0.10.9.7-src.zip\\py4j\\java_gateway.py:1322\u001b[0m, in \u001b[0;36mJavaMember.__call__\u001b[1;34m(self, *args)\u001b[0m\n\u001b[0;32m   1316\u001b[0m command \u001b[38;5;241m=\u001b[39m proto\u001b[38;5;241m.\u001b[39mCALL_COMMAND_NAME \u001b[38;5;241m+\u001b[39m\\\n\u001b[0;32m   1317\u001b[0m     \u001b[38;5;28mself\u001b[39m\u001b[38;5;241m.\u001b[39mcommand_header \u001b[38;5;241m+\u001b[39m\\\n\u001b[0;32m   1318\u001b[0m     args_command \u001b[38;5;241m+\u001b[39m\\\n\u001b[0;32m   1319\u001b[0m     proto\u001b[38;5;241m.\u001b[39mEND_COMMAND_PART\n\u001b[0;32m   1321\u001b[0m answer \u001b[38;5;241m=\u001b[39m \u001b[38;5;28mself\u001b[39m\u001b[38;5;241m.\u001b[39mgateway_client\u001b[38;5;241m.\u001b[39msend_command(command)\n\u001b[1;32m-> 1322\u001b[0m return_value \u001b[38;5;241m=\u001b[39m \u001b[43mget_return_value\u001b[49m\u001b[43m(\u001b[49m\n\u001b[0;32m   1323\u001b[0m \u001b[43m    \u001b[49m\u001b[43manswer\u001b[49m\u001b[43m,\u001b[49m\u001b[43m \u001b[49m\u001b[38;5;28;43mself\u001b[39;49m\u001b[38;5;241;43m.\u001b[39;49m\u001b[43mgateway_client\u001b[49m\u001b[43m,\u001b[49m\u001b[43m \u001b[49m\u001b[38;5;28;43mself\u001b[39;49m\u001b[38;5;241;43m.\u001b[39;49m\u001b[43mtarget_id\u001b[49m\u001b[43m,\u001b[49m\u001b[43m \u001b[49m\u001b[38;5;28;43mself\u001b[39;49m\u001b[38;5;241;43m.\u001b[39;49m\u001b[43mname\u001b[49m\u001b[43m)\u001b[49m\n\u001b[0;32m   1325\u001b[0m \u001b[38;5;28;01mfor\u001b[39;00m temp_arg \u001b[38;5;129;01min\u001b[39;00m temp_args:\n\u001b[0;32m   1326\u001b[0m     \u001b[38;5;28;01mif\u001b[39;00m \u001b[38;5;28mhasattr\u001b[39m(temp_arg, \u001b[38;5;124m\"\u001b[39m\u001b[38;5;124m_detach\u001b[39m\u001b[38;5;124m\"\u001b[39m):\n",
      "File \u001b[1;32m~\\.conda\\envs\\sparknlp\\lib\\site-packages\\pyspark\\sql\\utils.py:190\u001b[0m, in \u001b[0;36mcapture_sql_exception.<locals>.deco\u001b[1;34m(*a, **kw)\u001b[0m\n\u001b[0;32m    188\u001b[0m \u001b[38;5;28;01mdef\u001b[39;00m\u001b[38;5;250m \u001b[39m\u001b[38;5;21mdeco\u001b[39m(\u001b[38;5;241m*\u001b[39ma: Any, \u001b[38;5;241m*\u001b[39m\u001b[38;5;241m*\u001b[39mkw: Any) \u001b[38;5;241m-\u001b[39m\u001b[38;5;241m>\u001b[39m Any:\n\u001b[0;32m    189\u001b[0m     \u001b[38;5;28;01mtry\u001b[39;00m:\n\u001b[1;32m--> 190\u001b[0m         \u001b[38;5;28;01mreturn\u001b[39;00m \u001b[43mf\u001b[49m\u001b[43m(\u001b[49m\u001b[38;5;241;43m*\u001b[39;49m\u001b[43ma\u001b[49m\u001b[43m,\u001b[49m\u001b[43m \u001b[49m\u001b[38;5;241;43m*\u001b[39;49m\u001b[38;5;241;43m*\u001b[39;49m\u001b[43mkw\u001b[49m\u001b[43m)\u001b[49m\n\u001b[0;32m    191\u001b[0m     \u001b[38;5;28;01mexcept\u001b[39;00m Py4JJavaError \u001b[38;5;28;01mas\u001b[39;00m e:\n\u001b[0;32m    192\u001b[0m         converted \u001b[38;5;241m=\u001b[39m convert_exception(e\u001b[38;5;241m.\u001b[39mjava_exception)\n",
      "File \u001b[1;32mC:\\ProgramData\\anaconda3\\\\Lib\\site-packages\\pyspark\\python\\lib\\py4j-0.10.9.7-src.zip\\py4j\\protocol.py:326\u001b[0m, in \u001b[0;36mget_return_value\u001b[1;34m(answer, gateway_client, target_id, name)\u001b[0m\n\u001b[0;32m    324\u001b[0m value \u001b[38;5;241m=\u001b[39m OUTPUT_CONVERTER[\u001b[38;5;28mtype\u001b[39m](answer[\u001b[38;5;241m2\u001b[39m:], gateway_client)\n\u001b[0;32m    325\u001b[0m \u001b[38;5;28;01mif\u001b[39;00m answer[\u001b[38;5;241m1\u001b[39m] \u001b[38;5;241m==\u001b[39m REFERENCE_TYPE:\n\u001b[1;32m--> 326\u001b[0m     \u001b[38;5;28;01mraise\u001b[39;00m Py4JJavaError(\n\u001b[0;32m    327\u001b[0m         \u001b[38;5;124m\"\u001b[39m\u001b[38;5;124mAn error occurred while calling \u001b[39m\u001b[38;5;132;01m{0}\u001b[39;00m\u001b[38;5;132;01m{1}\u001b[39;00m\u001b[38;5;132;01m{2}\u001b[39;00m\u001b[38;5;124m.\u001b[39m\u001b[38;5;130;01m\\n\u001b[39;00m\u001b[38;5;124m\"\u001b[39m\u001b[38;5;241m.\u001b[39m\n\u001b[0;32m    328\u001b[0m         \u001b[38;5;28mformat\u001b[39m(target_id, \u001b[38;5;124m\"\u001b[39m\u001b[38;5;124m.\u001b[39m\u001b[38;5;124m\"\u001b[39m, name), value)\n\u001b[0;32m    329\u001b[0m \u001b[38;5;28;01melse\u001b[39;00m:\n\u001b[0;32m    330\u001b[0m     \u001b[38;5;28;01mraise\u001b[39;00m Py4JError(\n\u001b[0;32m    331\u001b[0m         \u001b[38;5;124m\"\u001b[39m\u001b[38;5;124mAn error occurred while calling \u001b[39m\u001b[38;5;132;01m{0}\u001b[39;00m\u001b[38;5;132;01m{1}\u001b[39;00m\u001b[38;5;132;01m{2}\u001b[39;00m\u001b[38;5;124m. Trace:\u001b[39m\u001b[38;5;130;01m\\n\u001b[39;00m\u001b[38;5;132;01m{3}\u001b[39;00m\u001b[38;5;130;01m\\n\u001b[39;00m\u001b[38;5;124m\"\u001b[39m\u001b[38;5;241m.\u001b[39m\n\u001b[0;32m    332\u001b[0m         \u001b[38;5;28mformat\u001b[39m(target_id, \u001b[38;5;124m\"\u001b[39m\u001b[38;5;124m.\u001b[39m\u001b[38;5;124m\"\u001b[39m, name, value))\n",
      "\u001b[1;31mPy4JJavaError\u001b[0m: An error occurred while calling o181.parquet.\n: org.apache.spark.SparkException: Job 16 cancelled \r\n\tat org.apache.spark.scheduler.DAGScheduler.failJobAndIndependentStages(DAGScheduler.scala:2856)\r\n\tat org.apache.spark.scheduler.DAGScheduler.handleJobCancellation(DAGScheduler.scala:2731)\r\n\tat org.apache.spark.scheduler.DAGSchedulerEventProcessLoop.doOnReceive(DAGScheduler.scala:3013)\r\n\tat org.apache.spark.scheduler.DAGSchedulerEventProcessLoop.onReceive(DAGScheduler.scala:2994)\r\n\tat org.apache.spark.scheduler.DAGSchedulerEventProcessLoop.onReceive(DAGScheduler.scala:2983)\r\n\tat org.apache.spark.util.EventLoop$$anon$1.run(EventLoop.scala:49)\r\n"
     ]
    }
   ],
   "source": [
    "works_au_af_subset.write.mode('overwrite').parquet('file:\\\\' + save_path + 'works_au_af_subset.parquet') "
   ]
  },
  {
   "cell_type": "code",
   "execution_count": 9,
   "id": "ef75da3c-1215-4438-87b7-9834cabdbcb5",
   "metadata": {},
   "outputs": [
    {
     "name": "stderr",
     "output_type": "stream",
     "text": [
      "<>:14: SyntaxWarning: invalid escape sequence '\\}'\n",
      "<>:14: SyntaxWarning: invalid escape sequence '\\}'\n",
      "<>:15: SyntaxWarning: invalid escape sequence '\\['\n",
      "<>:16: SyntaxWarning: invalid escape sequence '\\]'\n",
      "<>:14: SyntaxWarning: invalid escape sequence '\\}'\n",
      "<>:14: SyntaxWarning: invalid escape sequence '\\}'\n",
      "<>:15: SyntaxWarning: invalid escape sequence '\\['\n",
      "<>:16: SyntaxWarning: invalid escape sequence '\\]'\n",
      "C:\\Users\\raphael.wargon\\AppData\\Local\\Temp\\ipykernel_9872\\2487976817.py:14: SyntaxWarning: invalid escape sequence '\\}'\n",
      "  .withColumn('parent', func.regexp_replace(func.col('parent'), '\\}\\,\\{','\\}\\;\\{'))\n",
      "C:\\Users\\raphael.wargon\\AppData\\Local\\Temp\\ipykernel_9872\\2487976817.py:14: SyntaxWarning: invalid escape sequence '\\}'\n",
      "  .withColumn('parent', func.regexp_replace(func.col('parent'), '\\}\\,\\{','\\}\\;\\{'))\n",
      "C:\\Users\\raphael.wargon\\AppData\\Local\\Temp\\ipykernel_9872\\2487976817.py:15: SyntaxWarning: invalid escape sequence '\\['\n",
      "  .withColumn('parent', func.regexp_replace(func.col('parent'), '\\[',''))\n",
      "C:\\Users\\raphael.wargon\\AppData\\Local\\Temp\\ipykernel_9872\\2487976817.py:16: SyntaxWarning: invalid escape sequence '\\]'\n",
      "  .withColumn('parent', func.regexp_replace(func.col('parent'), '\\]',''))\n"
     ]
    }
   ],
   "source": [
    "au_inst_period = (works_au_af_subset\n",
    "                    .groupBy('author_id','inst_id',func.col('publication_year').alias('year'))\n",
    "                    .agg(func.countDistinct('work_id').alias('n_works'),\n",
    "                        func.first('parent').alias('parent'), func.first('country').alias('country'),\n",
    "                        func.first('entry_year').alias('entry_year'))\n",
    "                    .withColumn('n_appearances', func.collect_set(func.struct(func.col('year').alias('year'),\n",
    "                                                                            func.col('n_works').alias('n_works'))).over(Window.partitionBy('author_id', 'inst_id')))\n",
    "                    \n",
    "                    .withColumn('n_appearances', func.array_compact(func.transform(func.col('n_appearances'), \n",
    "                                                      lambda x: func.when( (x.year >= func.col('year')-5) & (x.year <= func.col('year')+5), x.n_works.cast('int')))))\n",
    "                    .withColumn('n_appearances', func.aggregate(func.col('n_appearances'), func.lit(0), lambda acc, x: acc + x))\n",
    "                    .withColumn('n_appearances_ctry', func.sum('n_works').over(Window.partitionBy('author_id','country')))\n",
    "                    \n",
    "                    .withColumn('parent', func.regexp_replace(func.col('parent'), '\\}\\,\\{','\\}\\;\\{'))\n",
    "                    .withColumn('parent', func.regexp_replace(func.col('parent'), '\\[',''))\n",
    "                    .withColumn('parent', func.regexp_replace(func.col('parent'), '\\]',''))\n",
    "                    .withColumn('parent', func.when(func.col('parent').contains(';'), func.split(func.col('parent'), ';'))\n",
    "                                .otherwise(func.array(func.col('parent'))))\n",
    "                    .withColumn('parent', func.transform(func.col('parent'), lambda x: func.from_json(x, func.schema_of_json('{\"parent_id\":\"\",\"parent_name\":\"\",\"parent_type\":\"\"}'))))\n",
    "                    .withColumn('parent', func.array_compact(func.transform(func.col('parent'), lambda x : func.when(x.parent_id != func.col('inst_id'), x))))\n",
    "                    .withColumn('all_parent_ids', func.array_compact(func.transform(func.array_distinct(func.flatten(func.collect_set(func.col('parent.parent_id')).over(Window.partitionBy('year')))), lambda x: func.regexp_replace(x, 'https://openalex.org/', ''))))\n",
    "                    .withColumn('test_drop', (func.array_contains(func.col('all_parent_ids'), func.col('inst_id'))).cast('int'))\n",
    "                    .filter( (func.col('test_drop')==0) | (func.col('test_drop').isNull()))  \n",
    "                    .withColumn('inst_id', func.when(  ((func.col('n_appearances')>1) & (func.col('n_appearances_ctry') >1) )\n",
    "                                                     | (func.col('year') == func.col('entry_year'))\n",
    "                                                       , func.col('inst_id')))\n",
    "                    .withColumn('inst_id', func.when(func.col('inst_id').isNull(), func.last(func.col('inst_id'), ignorenulls = True).over(Window.partitionBy('author_id','year'))).otherwise(func.col('inst_id')))\n",
    "                    .select('author_id','inst_id','year')\n",
    "                    )"
   ]
  },
  {
   "cell_type": "code",
   "execution_count": 10,
   "id": "9d6b5c59-a115-4257-9793-a3bf4a7df2a6",
   "metadata": {
    "scrolled": true
   },
   "outputs": [
    {
     "name": "stdout",
     "output_type": "stream",
     "text": [
      "+-----------+-----------+----+\n",
      "|  author_id|    inst_id|year|\n",
      "+-----------+-----------+----+\n",
      "|A5000010047|I2801259928|1959|\n",
      "|A5000010047| I166337079|1959|\n",
      "|A5000027759|       NULL|1959|\n",
      "|A5000090806|  I78577930|1959|\n",
      "|A5000409387|I4210107423|1959|\n",
      "|A5000570208|I4210163092|1959|\n",
      "|A5000601191|       NULL|1959|\n",
      "|A5000726633|       NULL|1959|\n",
      "|A5000776451|       NULL|1959|\n",
      "|A5000971455|       NULL|1959|\n",
      "|A5001283845| I111979921|1959|\n",
      "|A5001307276|       NULL|1959|\n",
      "|A5001307276|       NULL|1959|\n",
      "|A5001307276|       NULL|1959|\n",
      "|A5001307276|       NULL|1959|\n",
      "|A5001590383|  I87208433|1959|\n",
      "|A5001910430|       NULL|1959|\n",
      "|A5001969191|       NULL|1959|\n",
      "|A5002136143|       NULL|1959|\n",
      "|A5002146860|  I53964585|1959|\n",
      "+-----------+-----------+----+\n",
      "only showing top 20 rows\n",
      "\n"
     ]
    }
   ],
   "source": [
    "au_inst_period.cache()\n",
    "au_inst_period.show()"
   ]
  },
  {
   "cell_type": "code",
   "execution_count": 11,
   "id": "86c053b7-02dc-4405-9c43-029d87c75825",
   "metadata": {},
   "outputs": [
    {
     "data": {
      "text/plain": [
       "5853066"
      ]
     },
     "execution_count": 11,
     "metadata": {},
     "output_type": "execute_result"
    }
   ],
   "source": [
    "au_inst_period.count()"
   ]
  },
  {
   "cell_type": "code",
   "execution_count": 12,
   "id": "b7896bcf-0fbf-44df-9cdd-86da21592085",
   "metadata": {},
   "outputs": [],
   "source": [
    "au_inst_period = (au_inst_period\n",
    "                 .withColumn('new_inst_period', func.when((func.lag('year').over(Window.partitionBy('author_id','inst_id').orderBy('year')).isNull())\n",
    "                                                            | (func.lag('year').over(Window.partitionBy('author_id','inst_id').orderBy('year')) == func.col('year')-1\n",
    "                                                               ), 0)\n",
    "                                                      .otherwise(1))\n",
    "                  .withColumn('period_inst',1+ func.sum(func.col('new_inst_period')).over(Window.partitionBy(\"author_id\", \"inst_id\").orderBy('year')))    \n",
    "                 )\n",
    "#au_inst_period.cache()\n",
    "#au_inst_period.show()"
   ]
  },
  {
   "cell_type": "code",
   "execution_count": 13,
   "id": "494fa040-c61c-44e3-8906-11b0905a8fea",
   "metadata": {},
   "outputs": [],
   "source": [
    "au_inst_period = (au_inst_period\n",
    "                  .select(*au_inst_period.columns,\n",
    "                          (func.max(func.col('year')).over(Window.partitionBy('period_inst','inst_id','author_id'))).alias('last_y_inst_period'),\n",
    "                          (func.min(func.col('year')).over(Window.partitionBy('period_inst','inst_id','author_id'))).alias('first_y_inst_period'),\n",
    "                          func.size(func.collect_set('inst_id').over(Window.partitionBy('year','author_id'))).alias('n_inst_y')\n",
    "                         )\n",
    "                 )\n",
    "#au_inst_period.cache()\n",
    "#au_inst_period.show()"
   ]
  },
  {
   "cell_type": "code",
   "execution_count": 14,
   "id": "5ea829dc-1ff3-4f56-b904-e474f94c083c",
   "metadata": {},
   "outputs": [
    {
     "name": "stdout",
     "output_type": "stream",
     "text": [
      "+-----------+----+-----------+------------------+------------------+\n",
      "|  source_id|year|source_type|   rank_source_pct|   abs_rank_source|\n",
      "+-----------+----+-----------+------------------+------------------+\n",
      "| S100028386|2000|    journal|0.8187134502923976|             217.0|\n",
      "| S100045985|1957|    journal|0.8255395683453237|              98.0|\n",
      "| S100045985|1985|    journal|0.9227373068432672|             176.0|\n",
      "| S100045985|2001|    journal|0.9590356722853783|             210.0|\n",
      "| S100062655|2013|    journal|0.8979432336514213|1085.4476190476191|\n",
      "|S1000839972|1999|    journal|0.8367626886145405|             238.0|\n",
      "|S1000839972|2017|    journal|0.8949784017278618|             388.0|\n",
      "|S1000944648|2016|    journal| 0.807972611464417|2328.6081081081084|\n",
      "|S1000944648|2017|    journal|0.8922782643712877|            2132.0|\n",
      "|S1000944648|2019|    journal|0.6022198843945348|          6325.625|\n",
      "| S100105777|2016|    journal|0.5854789417204764| 5389.076923076924|\n",
      "|  S10012645|1987|    journal|0.8851985559566787|             318.0|\n",
      "|  S10012645|1993|    journal|0.8305628463108778|             581.0|\n",
      "| S100140721|2021|    journal|0.8333243329534226|1500.4444444444446|\n",
      "| S100141487|2004|    journal|0.8479111403617892| 758.2631578947369|\n",
      "| S100142436|1968|    journal|0.4358736059479554|             591.0|\n",
      "| S100142436|2012|    journal|0.9585963750151648|400.79326923076917|\n",
      "| S100142436|2016|    journal|0.9555519246445399| 515.8483412322274|\n",
      "| S100149336|2014|    journal|0.8460481099656357|            2667.0|\n",
      "| S100167944|2001|    journal|0.9428678117998507|             153.0|\n",
      "+-----------+----+-----------+------------------+------------------+\n",
      "only showing top 20 rows\n",
      "\n"
     ]
    }
   ],
   "source": [
    "journals_ranking = (spark.read.format('parquet').load('file:\\\\' + main_path_openalex + 'journals_ranking_year.parquet')\n",
    "                    .withColumn('source_id', func.regexp_replace(func.col('source_id'), 'https://openalex.org/', ''))\n",
    "                   )\n",
    "journals_ranking.show()"
   ]
  },
  {
   "cell_type": "code",
   "execution_count": 17,
   "id": "b6d671b7-e5af-44d5-85cf-517962515b0c",
   "metadata": {},
   "outputs": [],
   "source": [
    "au_pub_y = (works_au_af_subset\n",
    "            .withColumnRenamed('publication_year','year')\n",
    "            .join(journals_ranking, on = ['source_id','year'], how = 'left')\n",
    "            .select('author_id','work_id', 'year','citations','rank_source_pct')\n",
    "            .distinct()\n",
    "            .groupBy('author_id','year')\n",
    "            .agg(func.countDistinct('work_id').alias('publications_raw'),\n",
    "                 func.sum(func.col('citations')).alias('citations_raw'),\n",
    "\n",
    "                 func.mean('rank_source_pct').alias('avg_rank_source_raw'),\n",
    "                 func.sum((func.col('rank_source_pct')<= 0.5).cast('int')).alias('nr_source_btm_50pct_raw'),\n",
    "                 func.sum((func.col('rank_source_pct').between(0.5,0.9)).cast('int')).alias('nr_source_mid_40pct_raw'),\n",
    "                 func.sum((func.col('rank_source_pct')>= 0.8).cast('int')).alias('nr_source_top_20pct_raw'),\n",
    "                 func.sum((func.col('rank_source_pct')>= 0.9).cast('int')).alias('nr_source_top_10pct_raw'),\n",
    "                 func.sum((func.col('rank_source_pct')>= 0.95).cast('int')).alias('nr_source_top_5pct_raw'),\n",
    "\n",
    "                \n",
    "                )\n",
    "           )"
   ]
  },
  {
   "cell_type": "code",
   "execution_count": 20,
   "id": "8e8729ca-b589-4e32-8eaa-dba48a04cc07",
   "metadata": {
    "scrolled": true
   },
   "outputs": [
    {
     "name": "stdout",
     "output_type": "stream",
     "text": [
      "root\n",
      " |-- author_id: string (nullable = true)\n",
      " |-- inst_id: string (nullable = true)\n",
      " |-- year: integer (nullable = true)\n",
      " |-- new_inst_period: integer (nullable = false)\n",
      " |-- period_inst: long (nullable = true)\n",
      " |-- last_y_inst_period: integer (nullable = true)\n",
      " |-- first_y_inst_period: integer (nullable = true)\n",
      " |-- n_inst_y: integer (nullable = false)\n",
      " |-- publications_raw: long (nullable = true)\n",
      " |-- citations_raw: long (nullable = true)\n",
      " |-- avg_rank_source_raw: double (nullable = true)\n",
      " |-- nr_source_btm_50pct_raw: long (nullable = true)\n",
      " |-- nr_source_mid_40pct_raw: long (nullable = true)\n",
      " |-- nr_source_top_20pct_raw: long (nullable = true)\n",
      " |-- nr_source_top_10pct_raw: long (nullable = true)\n",
      " |-- nr_source_top_5pct_raw: long (nullable = true)\n",
      " |-- publications: double (nullable = true)\n",
      " |-- citations: double (nullable = true)\n",
      " |-- inst_name: string (nullable = true)\n",
      " |-- inst_type: string (nullable = true)\n",
      " |-- country: string (nullable = true)\n",
      " |-- parent: string (nullable = true)\n",
      " |-- fused: integer (nullable = true)\n",
      " |-- uni_pub: integer (nullable = true)\n",
      " |-- cnrs: integer (nullable = true)\n",
      " |-- entry_year: integer (nullable = true)\n",
      " |-- last_year: integer (nullable = true)\n",
      " |-- all_y_in_FR: long (nullable = true)\n",
      " |-- years_abroad: long (nullable = true)\n",
      " |-- main_field: string (nullable = true)\n",
      " |-- author_name: string (nullable = true)\n",
      " |-- entry_cohort: double (nullable = true)\n",
      "\n"
     ]
    }
   ],
   "source": [
    "au_inst_period = (au_inst_period\n",
    "                  .join(au_pub_y, on = ['author_id','year'], how = 'left')\n",
    "                  .withColumn('publications', func.col('publications_raw')/func.col('n_inst_y'))\n",
    "                  .withColumn('citations', func.col('citations_raw')/func.col('n_inst_y'))\n",
    "                  .join(inst.distinct(), on = ['inst_id'])\n",
    "                  .join(au_level_char, on = ['author_id'])\n",
    "                  .withColumn('entry_cohort', func.when(func.col('entry_year')>=2000, func.col('entry_year'))\n",
    "                              .otherwise(func.round(func.col('entry_year')/5)*5))\n",
    "                  #.withColumn('n_inst_id_sample', func.size(func.collect_set('inst_id').over(Window.partitionBy('author_id'))))\n",
    "                  #.withColumn('n_au_several_inst', func.size(func.collect_set(func.when(func.col('n_inst_id_sample')>1, func.col('author_id')))\n",
    "                  #                                           .over(Window.partitionBy('inst_id','main_field'))))\n",
    "                  #.withColumn('n_au_by_inst_field', func.size(func.collect_set(func.col('author_id'))\n",
    "                  #                                           .over(Window.partitionBy('inst_id','main_field'))))\n",
    "                  #.withColumn('n_by_field', func.size(func.collect_set('author_id').over(Window.partitionBy('main_field'))))\n",
    "                  #.withColumn('n_y_in_sample', func.size(func.collect_set('year').over(Window.partitionBy('author_id'))))\n",
    "                  ##.filter(func.col('year').between(2000,2020))\n",
    "                 )\n",
    "au_inst_period.printSchema()"
   ]
  },
  {
   "cell_type": "code",
   "execution_count": 20,
   "id": "4106610f-0a19-4d56-a7dd-3d53f25ab28f",
   "metadata": {
    "scrolled": true
   },
   "outputs": [],
   "source": [
    "#au_inst_period.show()"
   ]
  },
  {
   "cell_type": "code",
   "execution_count": 21,
   "id": "44abf0c9-dcc3-4fe2-80cd-a517c38ff82a",
   "metadata": {
    "scrolled": true
   },
   "outputs": [],
   "source": [
    "au_inst_period.write.mode('overwrite').parquet('file:\\\\' + save_path + 'panel_non_sphericised.parquet')"
   ]
  },
  {
   "cell_type": "code",
   "execution_count": null,
   "id": "27574471-dfb8-4e96-a25f-c722dc25e286",
   "metadata": {},
   "outputs": [],
   "source": []
  },
  {
   "cell_type": "code",
   "execution_count": 27,
   "id": "d7b87855-b6b4-49a3-830b-c491f88f1fa4",
   "metadata": {},
   "outputs": [],
   "source": [
    "spark.catalog.clearCache()"
   ]
  },
  {
   "cell_type": "code",
   "execution_count": 22,
   "id": "5d69fbdf-d11c-40d2-ba80-ef60823b36d3",
   "metadata": {},
   "outputs": [],
   "source": [
    "au_inst_period = spark.read.format('parquet').load('file:\\\\' + save_path + 'panel_non_sphericised.parquet')"
   ]
  },
  {
   "cell_type": "code",
<<<<<<< HEAD
   "execution_count": 11,
   "id": "e963a9f8-d8f0-4d83-b1f7-e092d66f0bef",
   "metadata": {},
   "outputs": [],
   "source": [
    "au_inst_period = au_inst_period_smoothed"
   ]
  },
  {
   "cell_type": "code",
=======
>>>>>>> parent of c878191 (update_merge_panel)
   "execution_count": 23,
   "id": "a8c52b9c-6b7b-443e-8903-67d5ca269a9d",
   "metadata": {},
   "outputs": [
    {
     "data": {
      "text/plain": [
       "333840"
      ]
     },
     "execution_count": 23,
     "metadata": {},
     "output_type": "execute_result"
    }
   ],
   "source": [
    "au_inst_period.select('author_id').distinct().count()"
   ]
  },
  {
   "cell_type": "code",
<<<<<<< HEAD
   "execution_count": 25,
   "id": "967c3ada-9981-4947-93d7-e951c7ca2f11",
   "metadata": {
    "scrolled": true
   },
   "outputs": [
    {
     "name": "stdout",
     "output_type": "stream",
     "text": [
      "+-----------+-----------+----+---------------+-----------+------------------+-------------------+--------+----------------+-------------+--------------------+---------+-------+--------------------+-----+-------+----+----------+---------+-----------+------------+----------+-----------------+------------+------------+--------------------+------------+---------+\n",
      "|  author_id|    inst_id|year|new_inst_period|period_inst|last_y_inst_period|first_y_inst_period|n_inst_y|publications_raw|citations_raw|           inst_name|inst_type|country|              parent|fused|uni_pub|cnrs|entry_year|last_year|all_y_in_FR|years_abroad|main_field|      author_name|entry_cohort|period_total|  inst_set_this_year|publications|citations|\n",
      "+-----------+-----------+----+---------------+-----------+------------------+-------------------+--------+----------------+-------------+--------------------+---------+-------+--------------------+-----+-------+----+----------+---------+-----------+------------+----------+-----------------+------------+------------+--------------------+------------+---------+\n",
      "|A5036205978|I4210149295|2006|              0|          1|              2006|               2006|       1|               1|          253|Institut Pasteur ...| facility|     GP|                [{}]|    0|      0|   0|      1992|     2020|         15|           4|      agri|Fabrice Le Bellec|      1990.0|           1|       [I4210149295]|         2.0|    155.5|\n",
      "|A5036205978|I4210149295|2006|              0|          1|              2006|               2006|       1|               1|          253|Institut Pasteur ...| facility|     GP|                [{}]|    0|      0|   0|      1992|     2020|         15|           4|      agri|Fabrice Le Bellec|      1990.0|           1|       [I4210149295]|         2.0|    155.5|\n",
      "|A5036205978|I4210149295|2010|              1|          2|              2011|               2010|       1|               3|           58|Institut Pasteur ...| facility|     GP|                [{}]|    0|      0|   0|      1992|     2020|         15|           4|      agri|Fabrice Le Bellec|      1990.0|           1|       [I4210149295]|         2.0|    155.5|\n",
      "|A5036205978|I4210149295|2010|              1|          2|              2011|               2010|       1|               3|           58|Institut Pasteur ...| facility|     GP|                [{}]|    0|      0|   0|      1992|     2020|         15|           4|      agri|Fabrice Le Bellec|      1990.0|           1|       [I4210149295]|         2.0|    155.5|\n",
      "|A5036205978|I4210123768|2011|              0|          1|              2011|               2011|       2|               4|          112|Fonctionnement et...| facility|     FR|[{\"parent_id\":\"I2...|    0|      0|   0|      1992|     2020|         15|           4|      agri|Fabrice Le Bellec|      1990.0|           2|[I4210123768, I42...|         1.0|     28.0|\n",
      "|A5036205978|I4210149295|2011|              0|          2|              2011|               2010|       2|               4|          112|Institut Pasteur ...| facility|     GP|                [{}]|    0|      0|   0|      1992|     2020|         15|           4|      agri|Fabrice Le Bellec|      1990.0|           2|[I4210123768, I42...|         1.0|     28.0|\n",
      "|A5036205978|I4210123768|2013|              1|          3|              2013|               2013|       1|               3|           69|Fonctionnement et...| facility|     FR|[{\"parent_id\":\"I2...|    0|      0|   0|      1992|     2020|         15|           4|      agri|Fabrice Le Bellec|      1990.0|           3|       [I4210123768]|         2.0|     34.0|\n",
      "|A5036205978|I4210123768|2013|              1|          3|              2013|               2013|       1|               3|           69|Fonctionnement et...| facility|     FR|[{\"parent_id\":\"I2...|    0|      0|   0|      1992|     2020|         15|           4|      agri|Fabrice Le Bellec|      1990.0|           3|       [I4210123768]|         2.0|     34.0|\n",
      "|A5036205978|I4210123768|2013|              1|          3|              2013|               2013|       1|               3|           69|Fonctionnement et...| facility|     FR|[{\"parent_id\":\"I2...|    0|      0|   0|      1992|     2020|         15|           4|      agri|Fabrice Le Bellec|      1990.0|           3|       [I4210123768]|         2.0|     34.0|\n",
      "|A5036205978|I4210123768|2013|              1|          3|              2013|               2013|       1|               3|           69|Fonctionnement et...| facility|     FR|[{\"parent_id\":\"I2...|    0|      0|   0|      1992|     2020|         15|           4|      agri|Fabrice Le Bellec|      1990.0|           3|       [I4210123768]|         2.0|     34.0|\n",
      "|A5036205978|I4210123768|2013|              1|          3|              2013|               2013|       1|               3|           69|Fonctionnement et...| facility|     FR|[{\"parent_id\":\"I2...|    0|      0|   0|      1992|     2020|         15|           4|      agri|Fabrice Le Bellec|      1990.0|           3|       [I4210123768]|         2.0|     34.0|\n",
      "|A5036205978|I4210123768|2013|              1|          3|              2013|               2013|       1|               3|           69|Fonctionnement et...| facility|     FR|[{\"parent_id\":\"I2...|    0|      0|   0|      1992|     2020|         15|           4|      agri|Fabrice Le Bellec|      1990.0|           3|       [I4210123768]|         2.0|     34.0|\n",
      "|A5036205978|I4210123768|2013|              1|          3|              2013|               2013|       1|               3|           69|Fonctionnement et...| facility|     FR|[{\"parent_id\":\"I2...|    0|      0|   0|      1992|     2020|         15|           4|      agri|Fabrice Le Bellec|      1990.0|           3|       [I4210123768]|         2.0|     34.0|\n",
      "|A5036205978|I4210123768|2013|              1|          3|              2013|               2013|       1|               3|           69|Fonctionnement et...| facility|     FR|[{\"parent_id\":\"I2...|    0|      0|   0|      1992|     2020|         15|           4|      agri|Fabrice Le Bellec|      1990.0|           3|       [I4210123768]|         2.0|     34.0|\n",
      "|A5036205978|I4210123768|2017|              1|          4|              2017|               2017|       1|               2|            9|Fonctionnement et...| facility|     FR|[{\"parent_id\":\"I2...|    0|      0|   0|      1992|     2020|         15|           4|      agri|Fabrice Le Bellec|      1990.0|           3|       [I4210123768]|         2.0|     34.0|\n",
      "|A5036205978|I4210123768|2017|              1|          4|              2017|               2017|       1|               2|            9|Fonctionnement et...| facility|     FR|[{\"parent_id\":\"I2...|    0|      0|   0|      1992|     2020|         15|           4|      agri|Fabrice Le Bellec|      1990.0|           3|       [I4210123768]|         2.0|     34.0|\n",
      "|A5036205978|I4210123768|2017|              1|          4|              2017|               2017|       1|               2|            9|Fonctionnement et...| facility|     FR|[{\"parent_id\":\"I2...|    0|      0|   0|      1992|     2020|         15|           4|      agri|Fabrice Le Bellec|      1990.0|           3|       [I4210123768]|         2.0|     34.0|\n",
      "|A5036205978|I4210123768|2017|              1|          4|              2017|               2017|       1|               2|            9|Fonctionnement et...| facility|     FR|[{\"parent_id\":\"I2...|    0|      0|   0|      1992|     2020|         15|           4|      agri|Fabrice Le Bellec|      1990.0|           3|       [I4210123768]|         2.0|     34.0|\n",
      "|A5036205978|I4210123768|2019|              1|          5|              2020|               2019|       1|               1|            5|Fonctionnement et...| facility|     FR|[{\"parent_id\":\"I2...|    0|      0|   0|      1992|     2020|         15|           4|      agri|Fabrice Le Bellec|      1990.0|           3|       [I4210123768]|         2.0|     34.0|\n",
      "|A5036205978|I4210123768|2019|              1|          5|              2020|               2019|       1|               1|            5|Fonctionnement et...| facility|     FR|[{\"parent_id\":\"I2...|    0|      0|   0|      1992|     2020|         15|           4|      agri|Fabrice Le Bellec|      1990.0|           3|       [I4210123768]|         2.0|     34.0|\n",
      "+-----------+-----------+----+---------------+-----------+------------------+-------------------+--------+----------------+-------------+--------------------+---------+-------+--------------------+-----+-------+----+----------+---------+-----------+------------+----------+-----------------+------------+------------+--------------------+------------+---------+\n",
      "only showing top 20 rows\n",
      "\n"
     ]
    }
   ],
   "source": [
    "au_inst_period.filter(func.col('author_id') =='A5036205978').sort('year').show()"
   ]
  },
  {
   "cell_type": "code",
   "execution_count": 24,
   "id": "c069ccd5-0fc2-4fa0-b207-28f54d98f81b",
   "metadata": {},
   "outputs": [
    {
     "name": "stdout",
     "output_type": "stream",
     "text": [
      "+-----------+----+\n",
      "|  author_id|year|\n",
      "+-----------+----+\n",
      "|A5036205978|2006|\n",
      "|A5036205978|2007|\n",
      "|A5036205978|2008|\n",
      "|A5036205978|2009|\n",
      "|A5036205978|2010|\n",
      "|A5036205978|2011|\n",
      "|A5036205978|2012|\n",
      "|A5036205978|2013|\n",
      "|A5036205978|2014|\n",
      "|A5036205978|2015|\n",
      "|A5036205978|2016|\n",
      "|A5036205978|2017|\n",
      "|A5036205978|2018|\n",
      "|A5036205978|2019|\n",
      "|A5036205978|2020|\n",
      "+-----------+----+\n",
      "\n"
     ]
    }
   ],
   "source": [
    "au_all_years = (au_inst_period\n",
    "                .groupBy('author_id')\n",
    "                .agg(func.min('year').alias('entry_year'), func.max('year').alias('last_year'))\n",
    "                .select('author_id',\n",
    "                        func.explode(func.sequence(func.col('entry_year'), func.col('last_year'))).alias('year')\n",
    "                       )\n",
    "               )\n",
    "au_all_years.filter(func.col('author_id') =='A5036205978').show()\n"
   ]
  },
  {
   "cell_type": "code",
   "execution_count": 25,
=======
   "execution_count": 24,
>>>>>>> parent of c878191 (update_merge_panel)
   "id": "db5b6006-279b-4934-b4a5-c8f0f537cb3a",
   "metadata": {
    "scrolled": true
   },
   "outputs": [],
   "source": [
    "au_period = (au_inst_period\n",
    "             .groupBy('author_id', 'year')\n",
    "             .agg(func.array_sort(  func.collect_set('inst_id')).alias('inst_set_this_year'))\n",
    "                      .withColumn('lag_inst_set_this_year', func.lag('inst_set_this_year').over(Window.partitionBy('author_id').orderBy('year')))\n",
    "                      .withColumn('new_period', (\n",
    "                          ( (func.col('lag_inst_set_this_year')!=func.col('inst_set_this_year')) | (func.col('lag_inst_set_this_year').isNull()) )\n",
    "                            ).cast('int') )\n",
    "                      .withColumn('period_total', func.sum('new_period').over(Window.partitionBy('author_id').orderBy('year')))\n",
    "                     )"
   ]
  },
  {
   "cell_type": "code",
   "execution_count": 37,
   "id": "9ea5bc1e-a041-4272-89e0-da1ceccf1c5a",
   "metadata": {
    "scrolled": true
   },
   "outputs": [
    {
     "data": {
      "text/plain": [
       "[Row(year=1985, inst_set_this_year=['I136199984', 'I4210126650'], lag_inst_set_this_year=None, new_period=1, period_total=1),\n",
       " Row(year=1989, inst_set_this_year=['I63966007'], lag_inst_set_this_year=['I136199984', 'I4210126650'], new_period=1, period_total=2),\n",
       " Row(year=1990, inst_set_this_year=['I35841627', 'I63966007'], lag_inst_set_this_year=['I63966007'], new_period=1, period_total=3),\n",
       " Row(year=1991, inst_set_this_year=['I4210135922'], lag_inst_set_this_year=['I35841627', 'I63966007'], new_period=1, period_total=4),\n",
       " Row(year=1992, inst_set_this_year=['I1321305853', 'I187986737', 'I35841627', 'I4210140326', 'I57995698'], lag_inst_set_this_year=['I4210135922'], new_period=1, period_total=5),\n",
       " Row(year=1993, inst_set_this_year=['I170486558', 'I35841627'], lag_inst_set_this_year=['I1321305853', 'I187986737', 'I35841627', 'I4210140326', 'I57995698'], new_period=1, period_total=6),\n",
       " Row(year=1994, inst_set_this_year=['I143622237', 'I35841627', 'I4210087409', 'I4210160949', 'I45129253', 'I63966007'], lag_inst_set_this_year=['I170486558', 'I35841627'], new_period=1, period_total=7),\n",
       " Row(year=1995, inst_set_this_year=['I35841627', 'I40120149'], lag_inst_set_this_year=['I143622237', 'I35841627', 'I4210087409', 'I4210160949', 'I45129253', 'I63966007'], new_period=1, period_total=8),\n",
       " Row(year=1996, inst_set_this_year=['I35841627', 'I40120149'], lag_inst_set_this_year=['I35841627', 'I40120149'], new_period=0, period_total=8),\n",
       " Row(year=1997, inst_set_this_year=['I1321305853', 'I187986737', 'I35841627', 'I40120149', 'I4210140326', 'I45129253', 'I57995698'], lag_inst_set_this_year=['I35841627', 'I40120149'], new_period=1, period_total=9),\n",
       " Row(year=1998, inst_set_this_year=['I170486558', 'I3131550300', 'I35841627', 'I4210110987', 'I45129253'], lag_inst_set_this_year=['I1321305853', 'I187986737', 'I35841627', 'I40120149', 'I4210140326', 'I45129253', 'I57995698'], new_period=1, period_total=10),\n",
       " Row(year=1999, inst_set_this_year=['I1321305853', 'I136199984', 'I187986737', 'I2800173700', 'I35841627', 'I4210140326', 'I45129253', 'I57995698'], lag_inst_set_this_year=['I170486558', 'I3131550300', 'I35841627', 'I4210110987', 'I45129253'], new_period=1, period_total=11),\n",
       " Row(year=2000, inst_set_this_year=['I1321305853', 'I187986737', 'I2800173700', 'I2801851002', 'I35841627', 'I4210140326', 'I45129253', 'I57995698'], lag_inst_set_this_year=['I1321305853', 'I136199984', 'I187986737', 'I2800173700', 'I35841627', 'I4210140326', 'I45129253', 'I57995698'], new_period=1, period_total=12),\n",
       " Row(year=2001, inst_set_this_year=['I1279858714', 'I1321305853', 'I136199984', 'I187986737', 'I2801851002', 'I4210140326', 'I45129253', 'I57995698'], lag_inst_set_this_year=['I1321305853', 'I187986737', 'I2800173700', 'I2801851002', 'I35841627', 'I4210140326', 'I45129253', 'I57995698'], new_period=1, period_total=13),\n",
       " Row(year=2002, inst_set_this_year=['I1279858714', 'I1321305853', 'I136199984', 'I187986737', 'I2801851002', 'I4210140326', 'I45129253', 'I57995698'], lag_inst_set_this_year=['I1279858714', 'I1321305853', 'I136199984', 'I187986737', 'I2801851002', 'I4210140326', 'I45129253', 'I57995698'], new_period=0, period_total=13),\n",
       " Row(year=2003, inst_set_this_year=['I1321305853', 'I1325290502', 'I136199984', 'I187986737', 'I20089843', 'I204730241', 'I2800173700', 'I40434647', 'I4210140326', 'I45129253', 'I57995698', 'I97018004'], lag_inst_set_this_year=['I1279858714', 'I1321305853', 'I136199984', 'I187986737', 'I2801851002', 'I4210140326', 'I45129253', 'I57995698'], new_period=1, period_total=14),\n",
       " Row(year=2004, inst_set_this_year=['I109736498', 'I1279858714', 'I1321305853', 'I136199984', 'I187986737', 'I2801851002', 'I2802841742', 'I4210140326', 'I57995698'], lag_inst_set_this_year=['I1321305853', 'I1325290502', 'I136199984', 'I187986737', 'I20089843', 'I204730241', 'I2800173700', 'I40434647', 'I4210140326', 'I45129253', 'I57995698', 'I97018004'], new_period=1, period_total=15),\n",
       " Row(year=2005, inst_set_this_year=['I1321305853', 'I136199984', 'I139607695', 'I187986737', 'I2801851002', 'I4210140326', 'I57995698', 'I63966007'], lag_inst_set_this_year=['I109736498', 'I1279858714', 'I1321305853', 'I136199984', 'I187986737', 'I2801851002', 'I2802841742', 'I4210140326', 'I57995698'], new_period=1, period_total=16),\n",
       " Row(year=2006, inst_set_this_year=['I111088046', 'I1279858714', 'I1321305853', 'I136199984', 'I187986737', 'I2801851002', 'I4210140326', 'I57995698'], lag_inst_set_this_year=['I1321305853', 'I136199984', 'I139607695', 'I187986737', 'I2801851002', 'I4210140326', 'I57995698', 'I63966007'], new_period=1, period_total=17),\n",
       " Row(year=2007, inst_set_this_year=['I1321305853', 'I136199984', 'I139607695', 'I187986737', 'I2801851002', 'I40120149', 'I40347166', 'I4210140326', 'I45129253', 'I57995698'], lag_inst_set_this_year=['I111088046', 'I1279858714', 'I1321305853', 'I136199984', 'I187986737', 'I2801851002', 'I4210140326', 'I57995698'], new_period=1, period_total=18),\n",
       " Row(year=2008, inst_set_this_year=['I109736498', 'I1321305853', 'I136199984', 'I161593684', 'I187986737', 'I197817023', 'I20089843', 'I2801851002', 'I40347166', 'I4210140326', 'I57995698', 'I61544103'], lag_inst_set_this_year=['I1321305853', 'I136199984', 'I139607695', 'I187986737', 'I2801851002', 'I40120149', 'I40347166', 'I4210140326', 'I45129253', 'I57995698'], new_period=1, period_total=19),\n",
       " Row(year=2009, inst_set_this_year=['I1321305853', 'I136199984', 'I139607695', 'I187986737', 'I35841627', 'I4210140326', 'I45129253', 'I57995698', 'I63966007'], lag_inst_set_this_year=['I109736498', 'I1321305853', 'I136199984', 'I161593684', 'I187986737', 'I197817023', 'I20089843', 'I2801851002', 'I40347166', 'I4210140326', 'I57995698', 'I61544103'], new_period=1, period_total=20),\n",
       " Row(year=2010, inst_set_this_year=['I109736498', 'I132053463', 'I1321305853', 'I1341575764', 'I136199984', 'I139607695', 'I170486558', 'I187986737', 'I202697423', 'I21450314', 'I2801851002', 'I2802841742', 'I4210140326', 'I42134832', 'I45129253', 'I57995698', 'I63966007', 'I95457486', 'I97018004'], lag_inst_set_this_year=['I1321305853', 'I136199984', 'I139607695', 'I187986737', 'I35841627', 'I4210140326', 'I45129253', 'I57995698', 'I63966007'], new_period=1, period_total=21),\n",
       " Row(year=2011, inst_set_this_year=['I1321305853', 'I136199984', 'I187986737', 'I2801851002', 'I4210140326', 'I57995698'], lag_inst_set_this_year=['I109736498', 'I132053463', 'I1321305853', 'I1341575764', 'I136199984', 'I139607695', 'I170486558', 'I187986737', 'I202697423', 'I21450314', 'I2801851002', 'I2802841742', 'I4210140326', 'I42134832', 'I45129253', 'I57995698', 'I63966007', 'I95457486', 'I97018004'], new_period=1, period_total=22),\n",
       " Row(year=2012, inst_set_this_year=['I111428342', 'I1321305853', 'I136199984', 'I187986737', 'I2801851002', 'I31746571', 'I4210140326', 'I57995698'], lag_inst_set_this_year=['I1321305853', 'I136199984', 'I187986737', 'I2801851002', 'I4210140326', 'I57995698'], new_period=1, period_total=23),\n",
       " Row(year=2013, inst_set_this_year=['I1279858714', 'I1321305853', 'I136199984', 'I187986737', 'I2801851002', 'I4210140326', 'I57995698'], lag_inst_set_this_year=['I111428342', 'I1321305853', 'I136199984', 'I187986737', 'I2801851002', 'I31746571', 'I4210140326', 'I57995698'], new_period=1, period_total=24),\n",
       " Row(year=2014, inst_set_this_year=['I1321305853', 'I136199984', 'I187986737', 'I2801851002', 'I2802687840', 'I4210140326', 'I57995698'], lag_inst_set_this_year=['I1279858714', 'I1321305853', 'I136199984', 'I187986737', 'I2801851002', 'I4210140326', 'I57995698'], new_period=1, period_total=25),\n",
       " Row(year=2015, inst_set_this_year=['I1321305853', 'I136199984', 'I187986737', 'I2801851002', 'I4210140326', 'I57995698'], lag_inst_set_this_year=['I1321305853', 'I136199984', 'I187986737', 'I2801851002', 'I2802687840', 'I4210140326', 'I57995698'], new_period=1, period_total=26),\n",
       " Row(year=2016, inst_set_this_year=['I109736498', 'I1321305853', 'I136199984', 'I187986737', 'I2801851002', 'I4210112104', 'I4210140326', 'I57995698', 'I909854389'], lag_inst_set_this_year=['I1321305853', 'I136199984', 'I187986737', 'I2801851002', 'I4210140326', 'I57995698'], new_period=1, period_total=27),\n",
       " Row(year=2017, inst_set_this_year=['I1321305853', 'I187986737', 'I19990318', 'I2801851002', 'I4210140326', 'I57995698', 'I909854389'], lag_inst_set_this_year=['I109736498', 'I1321305853', 'I136199984', 'I187986737', 'I2801851002', 'I4210112104', 'I4210140326', 'I57995698', 'I909854389'], new_period=1, period_total=28),\n",
       " Row(year=2018, inst_set_this_year=['I114090438', 'I1321305853', 'I1330254920', 'I165932596', 'I187986737', 'I2801851002', 'I4210131007', 'I4210140326', 'I57995698', 'I909854389'], lag_inst_set_this_year=['I1321305853', 'I187986737', 'I19990318', 'I2801851002', 'I4210140326', 'I57995698', 'I909854389'], new_period=1, period_total=29),\n",
       " Row(year=2019, inst_set_this_year=['I114090438', 'I1321305853', 'I1330254920', 'I165932596', 'I187986737', 'I2801851002', 'I4210112104', 'I4210131007', 'I4210140326', 'I57995698'], lag_inst_set_this_year=['I114090438', 'I1321305853', 'I1330254920', 'I165932596', 'I187986737', 'I2801851002', 'I4210131007', 'I4210140326', 'I57995698', 'I909854389'], new_period=1, period_total=30),\n",
       " Row(year=2020, inst_set_this_year=['I1321305853', 'I187986737', 'I2801851002', 'I35841627', 'I4210140326', 'I4210152270', 'I45129253', 'I57995698'], lag_inst_set_this_year=['I114090438', 'I1321305853', 'I1330254920', 'I165932596', 'I187986737', 'I2801851002', 'I4210112104', 'I4210131007', 'I4210140326', 'I57995698'], new_period=1, period_total=31),\n",
       " Row(year=2021, inst_set_this_year=['I102272798', 'I1310145890', 'I1321305853', 'I187986737', 'I205092303', 'I2801851002', 'I4210140326', 'I4210152270', 'I57995698', 'I897156735', 'I909854389'], lag_inst_set_this_year=['I1321305853', 'I187986737', 'I2801851002', 'I35841627', 'I4210140326', 'I4210152270', 'I45129253', 'I57995698'], new_period=1, period_total=32),\n",
       " Row(year=2022, inst_set_this_year=['I102272798', 'I1321305853', 'I187986737', 'I2801851002', 'I4210140326', 'I4210152270', 'I57995698', 'I909854389', 'I97018004'], lag_inst_set_this_year=['I102272798', 'I1310145890', 'I1321305853', 'I187986737', 'I205092303', 'I2801851002', 'I4210140326', 'I4210152270', 'I57995698', 'I897156735', 'I909854389'], new_period=1, period_total=33),\n",
       " Row(year=2023, inst_set_this_year=['I102272798', 'I1321305853', 'I187986737', 'I2801851002', 'I39804081', 'I4210140326', 'I4210161993', 'I57995698', 'I909854389'], lag_inst_set_this_year=['I102272798', 'I1321305853', 'I187986737', 'I2801851002', 'I4210140326', 'I4210152270', 'I57995698', 'I909854389', 'I97018004'], new_period=1, period_total=34),\n",
       " Row(year=2024, inst_set_this_year=['I102272798', 'I187986737', 'I57995698', 'I909854389'], lag_inst_set_this_year=['I102272798', 'I1321305853', 'I187986737', 'I2801851002', 'I39804081', 'I4210140326', 'I4210161993', 'I57995698', 'I909854389'], new_period=1, period_total=35)]"
      ]
     },
     "execution_count": 37,
     "metadata": {},
     "output_type": "execute_result"
    }
   ],
   "source": [
    "(au_period.filter(func.col('author_id') =='A5084984675')\n",
    " .select('year','inst_set_this_year','lag_inst_set_this_year', 'new_period', 'period_total')\n",
    " .sort('year','period_total')).collect()"
   ]
  },
  {
   "cell_type": "code",
   "execution_count": 38,
   "id": "fd2f4315-9989-4afd-8754-296f23953abd",
   "metadata": {},
   "outputs": [
    {
     "data": {
      "text/plain": [
       "[Row(author_id='A5049840686', year=2006, inst_set_this_year=['I102197404', 'I1294671590'], lag_inst_set_this_year=None, new_period=1, period_total=1),\n",
       " Row(author_id='A5049840686', year=2007, inst_set_this_year=['I148261361', 'I4210097099'], lag_inst_set_this_year=['I102197404', 'I1294671590'], new_period=1, period_total=2),\n",
       " Row(author_id='A5049840686', year=2009, inst_set_this_year=['I1294671590', 'I148261361', 'I204730241', 'I4210145605'], lag_inst_set_this_year=['I148261361', 'I4210097099'], new_period=1, period_total=3),\n",
       " Row(author_id='A5049840686', year=2010, inst_set_this_year=['I1294671590', 'I148261361', 'I204730241'], lag_inst_set_this_year=['I1294671590', 'I148261361', 'I204730241', 'I4210145605'], new_period=1, period_total=4),\n",
       " Row(author_id='A5049840686', year=2016, inst_set_this_year=['I39804081'], lag_inst_set_this_year=['I1294671590', 'I148261361', 'I204730241'], new_period=1, period_total=5),\n",
       " Row(author_id='A5049840686', year=2018, inst_set_this_year=['I4210146095'], lag_inst_set_this_year=['I39804081'], new_period=1, period_total=6),\n",
       " Row(author_id='A5049840686', year=2021, inst_set_this_year=['I4210148430'], lag_inst_set_this_year=['I4210146095'], new_period=1, period_total=7),\n",
       " Row(author_id='A5049840686', year=2022, inst_set_this_year=['I39804081', 'I4389425445'], lag_inst_set_this_year=['I4210148430'], new_period=1, period_total=8),\n",
       " Row(author_id='A5049840686', year=2023, inst_set_this_year=['I148261361', 'I39804081', 'I4210091437', 'I4210148430'], lag_inst_set_this_year=['I39804081', 'I4389425445'], new_period=1, period_total=9),\n",
       " Row(author_id='A5049840686', year=2024, inst_set_this_year=['I1294671590', 'I39804081', 'I4389425445'], lag_inst_set_this_year=['I148261361', 'I39804081', 'I4210091437', 'I4210148430'], new_period=1, period_total=10)]"
      ]
     },
     "execution_count": 38,
     "metadata": {},
     "output_type": "execute_result"
    }
   ],
   "source": [
    "au_period.filter(func.col('author_id')==\"A5049840686\").sort('year').collect()"
   ]
  },
  {
   "cell_type": "code",
<<<<<<< HEAD
   "execution_count": 26,
   "id": "2bc483d7-cc13-4384-8605-56ae7700f6a0",
   "metadata": {
    "scrolled": true
   },
   "outputs": [
    {
     "data": {
      "text/plain": [
       "[Row(author_id='A5036205978', year=2006, inst_set_this_year=['I4210149295'], period_total=1),\n",
       " Row(author_id='A5036205978', year=2007, inst_set_this_year=['I4210149295'], period_total=1),\n",
       " Row(author_id='A5036205978', year=2008, inst_set_this_year=['I4210149295'], period_total=1),\n",
       " Row(author_id='A5036205978', year=2009, inst_set_this_year=['I4210149295'], period_total=1),\n",
       " Row(author_id='A5036205978', year=2010, inst_set_this_year=['I4210149295'], period_total=1),\n",
       " Row(author_id='A5036205978', year=2011, inst_set_this_year=['I4210123768', 'I4210149295'], period_total=2),\n",
       " Row(author_id='A5036205978', year=2013, inst_set_this_year=['I4210123768'], period_total=3),\n",
       " Row(author_id='A5036205978', year=2014, inst_set_this_year=['I4210123768'], period_total=3),\n",
       " Row(author_id='A5036205978', year=2015, inst_set_this_year=['I4210123768'], period_total=3),\n",
       " Row(author_id='A5036205978', year=2016, inst_set_this_year=['I4210123768'], period_total=3),\n",
       " Row(author_id='A5036205978', year=2017, inst_set_this_year=['I4210123768'], period_total=3),\n",
       " Row(author_id='A5036205978', year=2018, inst_set_this_year=['I4210123768'], period_total=3),\n",
       " Row(author_id='A5036205978', year=2019, inst_set_this_year=['I4210123768'], period_total=3),\n",
       " Row(author_id='A5036205978', year=2020, inst_set_this_year=['I4210123768'], period_total=3)]"
      ]
     },
     "execution_count": 26,
     "metadata": {},
     "output_type": "execute_result"
    }
   ],
=======
   "execution_count": 25,
   "id": "2bc483d7-cc13-4384-8605-56ae7700f6a0",
   "metadata": {},
   "outputs": [],
>>>>>>> parent of c878191 (update_merge_panel)
   "source": [
    "au_period = (au_period\n",
    "             .withColumn('duration_period', func.sequence(func.min('year').over(Window.partitionBy('author_id', 'period_total')),\n",
    "                                                          func.max('year').over(Window.partitionBy('author_id', 'period_total')))\n",
    "                        )\n",
    "             .withColumn('year', func.explode(func.col('duration_period')))\n",
<<<<<<< HEAD
    "             .select('author_id', 'year', 'inst_set_this_year','period_total')\n",
    "             .distinct()\n",
    "            )\n",
    "au_period.filter(func.col('author_id')==\"A5036205978\").sort('year').collect()"
   ]
  },
  {
   "cell_type": "code",
   "execution_count": 27,
   "id": "6bedb718-1e73-4912-bdf1-53dc1b038bc0",
   "metadata": {},
   "outputs": [
    {
     "data": {
      "text/plain": [
       "[Row(author_id='A5036205978', year=2006, inst_set_this_year=['I4210149295'], period_total=1, n_inst=1),\n",
       " Row(author_id='A5036205978', year=2007, inst_set_this_year=['I4210149295'], period_total=1, n_inst=1),\n",
       " Row(author_id='A5036205978', year=2008, inst_set_this_year=['I4210149295'], period_total=1, n_inst=1),\n",
       " Row(author_id='A5036205978', year=2009, inst_set_this_year=['I4210149295'], period_total=1, n_inst=1),\n",
       " Row(author_id='A5036205978', year=2010, inst_set_this_year=['I4210149295'], period_total=1, n_inst=1),\n",
       " Row(author_id='A5036205978', year=2011, inst_set_this_year=['I4210123768', 'I4210149295'], period_total=2, n_inst=2),\n",
       " Row(author_id='A5036205978', year=2012, inst_set_this_year=['I4210123768', 'I4210149295'], period_total=2, n_inst=2),\n",
       " Row(author_id='A5036205978', year=2013, inst_set_this_year=['I4210123768'], period_total=3, n_inst=1),\n",
       " Row(author_id='A5036205978', year=2014, inst_set_this_year=['I4210123768'], period_total=3, n_inst=1),\n",
       " Row(author_id='A5036205978', year=2015, inst_set_this_year=['I4210123768'], period_total=3, n_inst=1),\n",
       " Row(author_id='A5036205978', year=2016, inst_set_this_year=['I4210123768'], period_total=3, n_inst=1),\n",
       " Row(author_id='A5036205978', year=2017, inst_set_this_year=['I4210123768'], period_total=3, n_inst=1),\n",
       " Row(author_id='A5036205978', year=2018, inst_set_this_year=['I4210123768'], period_total=3, n_inst=1),\n",
       " Row(author_id='A5036205978', year=2019, inst_set_this_year=['I4210123768'], period_total=3, n_inst=1),\n",
       " Row(author_id='A5036205978', year=2020, inst_set_this_year=['I4210123768'], period_total=3, n_inst=1)]"
      ]
     },
     "execution_count": 27,
     "metadata": {},
     "output_type": "execute_result"
    }
   ],
   "source": [
    "au_period = (au_all_years\n",
    "             .join(au_period, how = 'left', on = ['author_id','year'])\n",
    "             .withColumn('inst_set_this_year', \n",
    "                         func.when(func.col('inst_set_this_year').isNull(),\n",
    "                                   func.last(func.col('inst_set_this_year'), ignorenulls = True)\n",
    "                                   .over(Window.partitionBy('author_id').orderBy('year')))\n",
    "                         .otherwise(func.col('inst_set_this_year'))\n",
    "                        )\n",
    "             .withColumn('period_total', \n",
    "                         func.when(func.col('period_total').isNull(),\n",
    "                                   func.last(func.col('period_total'), ignorenulls = True)\n",
    "                                   .over(Window.partitionBy('author_id').orderBy('year')))\n",
    "                         .otherwise(func.col('period_total'))\n",
    "                        )\n",
=======
>>>>>>> parent of c878191 (update_merge_panel)
    "             .withColumn('n_inst', func.size(func.col('inst_set_this_year')))\n",
    "            .select('author_id', 'year', 'n_inst', 'inst_set_this_year','period_total')\n",
    "            )"
   ]
  },
  {
   "cell_type": "code",
<<<<<<< HEAD
   "execution_count": 28,
=======
   "execution_count": 26,
>>>>>>> parent of c878191 (update_merge_panel)
   "id": "4bdca70e-b133-4a62-af17-cd4e82db042e",
   "metadata": {
    "scrolled": true
   },
   "outputs": [
    {
     "data": {
      "text/plain": [
       "['author_id',\n",
       " 'inst_id',\n",
       " 'year',\n",
       " 'new_inst_period',\n",
       " 'period_inst',\n",
       " 'last_y_inst_period',\n",
       " 'first_y_inst_period',\n",
       " 'n_inst_y',\n",
       " 'publications_raw',\n",
       " 'citations_raw',\n",
       " 'avg_rank_source_raw',\n",
       " 'nr_source_btm_50pct_raw',\n",
       " 'nr_source_mid_40pct_raw',\n",
       " 'nr_source_top_20pct_raw',\n",
       " 'nr_source_top_10pct_raw',\n",
       " 'nr_source_top_5pct_raw',\n",
       " 'inst_name',\n",
       " 'inst_type',\n",
       " 'country',\n",
       " 'parent',\n",
       " 'fused',\n",
       " 'uni_pub',\n",
       " 'cnrs',\n",
       " 'entry_year',\n",
       " 'last_year',\n",
       " 'all_y_in_FR',\n",
       " 'years_abroad',\n",
       " 'main_field',\n",
       " 'author_name',\n",
       " 'entry_cohort',\n",
       " 'publications',\n",
       " 'citations',\n",
       " 'avg_rank_source',\n",
       " 'nr_source_btm_50pct',\n",
       " 'nr_source_mid_40pct',\n",
       " 'nr_source_top_20pct',\n",
       " 'nr_source_top_10pct',\n",
       " 'nr_source_top_5pct']"
      ]
     },
<<<<<<< HEAD
     "execution_count": 28,
=======
     "execution_count": 26,
>>>>>>> parent of c878191 (update_merge_panel)
     "metadata": {},
     "output_type": "execute_result"
    }
   ],
   "source": [
    "au_inst_period_smoothed = (au_inst_period\n",
    "                          .join(au_period, on = ['author_id', 'year'], how = 'inner')\n",
    "                          .select(*[ col for col in au_inst_period.columns if col not in ['publications','citations'\n",
    "                                                                                         # ,\"avg_rank_source_raw\",\"nr_source_btm_50pct_raw\",\n",
    "                                                                                         # \"nr_source_mid_40pct_raw\",\"nr_source_top_20pct_raw\",\"nr_source_top_10pct_raw\",\"nr_source_top_5pct_raw\"\n",
    "                                                                                         # ,'nr_type_article','nr_type_book',\n",
    "                                                                                         #'nr_type_book-series','nr_language_en','nr_language_fr','citations_type_article'\n",
    "                                                                                         #,'citations_type_book','citations_type_book-series','citations_language_en','citations_language_fr'\n",
    "                                                                                         ]],\n",
<<<<<<< HEAD
    "                                  *[func.mean(func.col(col)/func.col('n_inst')).over(Window.partitionBy('author_id','period_total')).alias(col.replace('_raw', ''))\n",
    "                                   for col in au_inst_period.columns if col in ['publications_raw','citations_raw'\n",
    "                                                                                          ,\"avg_rank_source_raw\",\"nr_source_btm_50pct_raw\",\n",
    "                                                                                          \"nr_source_mid_40pct_raw\",\"nr_source_top_20pct_raw\",\"nr_source_top_10pct_raw\",\"nr_source_top_5pct_raw\"\n",
=======
    "                                  \"period_total\", \"inst_set_this_year\",\n",
    "                                  *[func.mean(func.col(col)/func.col('n_inst')).over(Window.partitionBy('author_id','period_total')).alias(col)\n",
    "                                   for col in au_inst_period.columns if col in ['publications','citations'\n",
>>>>>>> parent of c878191 (update_merge_panel)
    "                                                                                #,'nr_type_article','nr_type_book',\n",
    "                                                                                #         'nr_type_book-series','nr_language_en','nr_language_fr','citations_type_article'\n",
    "                                                                                #         ,'citations_type_book','citations_type_book-series','citations_language_en','citations_language_fr'\n",
    "                                                                               ]]\n",
    "                                 )\n",
    "                          )\n",
    "au_inst_period_smoothed.columns"
   ]
  },
  {
   "cell_type": "code",
<<<<<<< HEAD
   "execution_count": 29,
=======
   "execution_count": 27,
>>>>>>> parent of c878191 (update_merge_panel)
   "id": "812ddf77-afa2-4c9f-9899-124bb0a82fb6",
   "metadata": {},
   "outputs": [],
   "source": [
    "au_inst_period_smoothed.write.mode('overwrite').parquet('file:\\\\' + save_path + 'panel_smoothed.parquet')"
   ]
  },
  {
   "cell_type": "code",
   "execution_count": 3,
   "id": "326ff877-162b-4cbc-9a87-b1861187ff02",
   "metadata": {},
   "outputs": [],
   "source": [
    "au_inst_period_smoothed = spark.read.parquet('file:\\\\' + save_path + 'panel_smoothed.parquet')"
   ]
  },
  {
   "cell_type": "code",
   "execution_count": 30,
   "id": "e70942c1-f015-495f-b205-d395afd979b5",
   "metadata": {},
   "outputs": [
    {
     "name": "stderr",
     "output_type": "stream",
     "text": [
      "<>:3: SyntaxWarning: invalid escape sequence '\\}'\n",
      "<>:3: SyntaxWarning: invalid escape sequence '\\}'\n",
      "<>:4: SyntaxWarning: invalid escape sequence '\\['\n",
      "<>:5: SyntaxWarning: invalid escape sequence '\\]'\n",
      "<>:3: SyntaxWarning: invalid escape sequence '\\}'\n",
      "<>:3: SyntaxWarning: invalid escape sequence '\\}'\n",
      "<>:4: SyntaxWarning: invalid escape sequence '\\['\n",
      "<>:5: SyntaxWarning: invalid escape sequence '\\]'\n",
      "C:\\Users\\raphael.wargon\\AppData\\Local\\Temp\\ipykernel_9872\\1570136931.py:3: SyntaxWarning: invalid escape sequence '\\}'\n",
      "  .withColumn('parent', func.regexp_replace(func.col('parent'), '\\}\\,\\{','\\}\\;\\{'))\n",
      "C:\\Users\\raphael.wargon\\AppData\\Local\\Temp\\ipykernel_9872\\1570136931.py:3: SyntaxWarning: invalid escape sequence '\\}'\n",
      "  .withColumn('parent', func.regexp_replace(func.col('parent'), '\\}\\,\\{','\\}\\;\\{'))\n",
      "C:\\Users\\raphael.wargon\\AppData\\Local\\Temp\\ipykernel_9872\\1570136931.py:4: SyntaxWarning: invalid escape sequence '\\['\n",
      "  .withColumn('parent', func.regexp_replace(func.col('parent'), '\\[',''))\n",
      "C:\\Users\\raphael.wargon\\AppData\\Local\\Temp\\ipykernel_9872\\1570136931.py:5: SyntaxWarning: invalid escape sequence '\\]'\n",
      "  .withColumn('parent', func.regexp_replace(func.col('parent'), '\\]',''))\n"
     ]
    }
   ],
   "source": [
    "panel_smoothed_w_past_inst = (au_inst_period_smoothed\n",
    "                                  .withColumn('all_past_af', func.array_distinct((func.collect_set(func.col('inst_id')).over(Window.partitionBy('author_id').orderBy('year')))))\n",
    "                                  .withColumn('parent', func.regexp_replace(func.col('parent'), '\\}\\,\\{','\\}\\;\\{'))\n",
    "                                  .withColumn('parent', func.regexp_replace(func.col('parent'), '\\[',''))\n",
    "                                  .withColumn('parent', func.regexp_replace(func.col('parent'), '\\]',''))\n",
    "                                  .withColumn('parent', func.when(func.col('parent').contains(';'), func.split(func.col('parent'), ';'))\n",
    "                                              .otherwise(func.array(func.col('parent'))))\n",
    "                                  .withColumn('parent', func.transform(func.col('parent'), lambda x: func.from_json(x, func.schema_of_json('{\"parent_id\":\"\",\"parent_name\":\"\",\"parent_type\":\"\"}'))))\n",
    "                                  .withColumn('parent', func.array_compact(func.transform(func.col('parent'), lambda x : func.when(x.parent_id != func.col('inst_id'), x))))\n",
    "                                  .withColumn('all_parent_ids', func.array_compact(func.transform(func.array_distinct(func.flatten(func.collect_set(func.col('parent.parent_id')).over(Window.partitionBy('year')))), lambda x: func.regexp_replace(x, 'https://openalex.org/', ''))))\n",
    "   \n",
    "                                  .withColumn('all_past_parents', func.array_distinct(func.flatten(func.collect_set(func.col('all_parent_ids')).over(Window.partitionBy('author_id').orderBy('year')))))\n",
    "   \n",
    "                            #      .withColumn('past_af_parent', ( (func.array_contains(func.col('all_past_parents'), func.col('inst_id')))\n",
    "                            #                                     | (func.arrays_overlap(func.col('all_past_parents'), func.col('all_parent_ids'))) ).cast('int'))\n",
    "                            #      .withColumn('past_af', ( (func.array_contains(func.col('all_past_af'), func.col('inst_id')))\n",
    "                            #                                     | (func.arrays_overlap(func.col('all_past_af'), func.col('all_parent_ids'))) ).cast('int'))\n",
    "                            #  .withColumn('lag_inst_set', func.lag(func.col('inst_set_this_year')).over(Window.partitionBy('author_id').orderBy('year')))\n",
    "                            #  .withColumn('entrant', func.array_contains(func.col('lag_inst_set'), func.col('inst_id')))\n",
    "                            #  .select(*au_inst_period_smoothed.columns, \"past_af_parent\",\"past_af\",'entrant')\n",
    "                                 )"
   ]
  },
  {
   "cell_type": "code",
   "execution_count": null,
   "id": "3cd45114-8661-446a-965c-888d53fb7612",
   "metadata": {},
   "outputs": [],
   "source": [
    "panel_smoothed_w_past_inst.show()"
   ]
  },
  {
   "cell_type": "code",
   "execution_count": null,
   "id": "3818ccd6-680d-4619-bff5-22a904703591",
   "metadata": {},
   "outputs": [],
   "source": []
  },
  {
   "cell_type": "code",
   "execution_count": 32,
   "id": "4522cddb-2cef-487a-9d3f-7d1d388972c7",
   "metadata": {
    "scrolled": true
   },
   "outputs": [
    {
     "ename": "Py4JJavaError",
     "evalue": "An error occurred while calling o2097.parquet.\n: org.apache.spark.SparkException: Job 70 cancelled \r\n\tat org.apache.spark.scheduler.DAGScheduler.failJobAndIndependentStages(DAGScheduler.scala:2856)\r\n\tat org.apache.spark.scheduler.DAGScheduler.handleJobCancellation(DAGScheduler.scala:2731)\r\n\tat org.apache.spark.scheduler.DAGSchedulerEventProcessLoop.doOnReceive(DAGScheduler.scala:3013)\r\n\tat org.apache.spark.scheduler.DAGSchedulerEventProcessLoop.onReceive(DAGScheduler.scala:2994)\r\n\tat org.apache.spark.scheduler.DAGSchedulerEventProcessLoop.onReceive(DAGScheduler.scala:2983)\r\n\tat org.apache.spark.util.EventLoop$$anon$1.run(EventLoop.scala:49)\r\n",
     "output_type": "error",
     "traceback": [
      "\u001b[1;31m---------------------------------------------------------------------------\u001b[0m",
      "\u001b[1;31mPy4JJavaError\u001b[0m                             Traceback (most recent call last)",
      "Cell \u001b[1;32mIn[32], line 1\u001b[0m\n\u001b[1;32m----> 1\u001b[0m panel_smoothed_w_past_inst\u001b[38;5;241m.\u001b[39mwrite\u001b[38;5;241m.\u001b[39mmode(\u001b[38;5;124m'\u001b[39m\u001b[38;5;124moverwrite\u001b[39m\u001b[38;5;124m'\u001b[39m)\u001b[38;5;241m.\u001b[39mparquet(\u001b[38;5;124m'\u001b[39m\u001b[38;5;124mfile:\u001b[39m\u001b[38;5;130;01m\\\\\u001b[39;00m\u001b[38;5;124m'\u001b[39m \u001b[38;5;241m+\u001b[39m save_path \u001b[38;5;241m+\u001b[39m \u001b[38;5;124m'\u001b[39m\u001b[38;5;124mpanel_smoothed_w_past_inst.parquet\u001b[39m\u001b[38;5;124m'\u001b[39m)\n",
      "File \u001b[1;32mC:\\ProgramData\\anaconda3\\Lib\\site-packages\\pyspark\\sql\\readwriter.py:1721\u001b[0m, in \u001b[0;36mDataFrameWriter.parquet\u001b[1;34m(self, path, mode, partitionBy, compression)\u001b[0m\n\u001b[0;32m   1719\u001b[0m     \u001b[38;5;28mself\u001b[39m\u001b[38;5;241m.\u001b[39mpartitionBy(partitionBy)\n\u001b[0;32m   1720\u001b[0m \u001b[38;5;28mself\u001b[39m\u001b[38;5;241m.\u001b[39m_set_opts(compression\u001b[38;5;241m=\u001b[39mcompression)\n\u001b[1;32m-> 1721\u001b[0m \u001b[38;5;28mself\u001b[39m\u001b[38;5;241m.\u001b[39m_jwrite\u001b[38;5;241m.\u001b[39mparquet(path)\n",
      "File \u001b[1;32mC:\\ProgramData\\anaconda3\\\\Lib\\site-packages\\pyspark\\python\\lib\\py4j-0.10.9.7-src.zip\\py4j\\java_gateway.py:1322\u001b[0m, in \u001b[0;36mJavaMember.__call__\u001b[1;34m(self, *args)\u001b[0m\n\u001b[0;32m   1316\u001b[0m command \u001b[38;5;241m=\u001b[39m proto\u001b[38;5;241m.\u001b[39mCALL_COMMAND_NAME \u001b[38;5;241m+\u001b[39m\\\n\u001b[0;32m   1317\u001b[0m     \u001b[38;5;28mself\u001b[39m\u001b[38;5;241m.\u001b[39mcommand_header \u001b[38;5;241m+\u001b[39m\\\n\u001b[0;32m   1318\u001b[0m     args_command \u001b[38;5;241m+\u001b[39m\\\n\u001b[0;32m   1319\u001b[0m     proto\u001b[38;5;241m.\u001b[39mEND_COMMAND_PART\n\u001b[0;32m   1321\u001b[0m answer \u001b[38;5;241m=\u001b[39m \u001b[38;5;28mself\u001b[39m\u001b[38;5;241m.\u001b[39mgateway_client\u001b[38;5;241m.\u001b[39msend_command(command)\n\u001b[1;32m-> 1322\u001b[0m return_value \u001b[38;5;241m=\u001b[39m get_return_value(\n\u001b[0;32m   1323\u001b[0m     answer, \u001b[38;5;28mself\u001b[39m\u001b[38;5;241m.\u001b[39mgateway_client, \u001b[38;5;28mself\u001b[39m\u001b[38;5;241m.\u001b[39mtarget_id, \u001b[38;5;28mself\u001b[39m\u001b[38;5;241m.\u001b[39mname)\n\u001b[0;32m   1325\u001b[0m \u001b[38;5;28;01mfor\u001b[39;00m temp_arg \u001b[38;5;129;01min\u001b[39;00m temp_args:\n\u001b[0;32m   1326\u001b[0m     \u001b[38;5;28;01mif\u001b[39;00m \u001b[38;5;28mhasattr\u001b[39m(temp_arg, \u001b[38;5;124m\"\u001b[39m\u001b[38;5;124m_detach\u001b[39m\u001b[38;5;124m\"\u001b[39m):\n",
      "File \u001b[1;32mC:\\ProgramData\\anaconda3\\Lib\\site-packages\\pyspark\\errors\\exceptions\\captured.py:179\u001b[0m, in \u001b[0;36mcapture_sql_exception.<locals>.deco\u001b[1;34m(*a, **kw)\u001b[0m\n\u001b[0;32m    177\u001b[0m \u001b[38;5;28;01mdef\u001b[39;00m \u001b[38;5;21mdeco\u001b[39m(\u001b[38;5;241m*\u001b[39ma: Any, \u001b[38;5;241m*\u001b[39m\u001b[38;5;241m*\u001b[39mkw: Any) \u001b[38;5;241m-\u001b[39m\u001b[38;5;241m>\u001b[39m Any:\n\u001b[0;32m    178\u001b[0m     \u001b[38;5;28;01mtry\u001b[39;00m:\n\u001b[1;32m--> 179\u001b[0m         \u001b[38;5;28;01mreturn\u001b[39;00m f(\u001b[38;5;241m*\u001b[39ma, \u001b[38;5;241m*\u001b[39m\u001b[38;5;241m*\u001b[39mkw)\n\u001b[0;32m    180\u001b[0m     \u001b[38;5;28;01mexcept\u001b[39;00m Py4JJavaError \u001b[38;5;28;01mas\u001b[39;00m e:\n\u001b[0;32m    181\u001b[0m         converted \u001b[38;5;241m=\u001b[39m convert_exception(e\u001b[38;5;241m.\u001b[39mjava_exception)\n",
      "File \u001b[1;32mC:\\ProgramData\\anaconda3\\\\Lib\\site-packages\\pyspark\\python\\lib\\py4j-0.10.9.7-src.zip\\py4j\\protocol.py:326\u001b[0m, in \u001b[0;36mget_return_value\u001b[1;34m(answer, gateway_client, target_id, name)\u001b[0m\n\u001b[0;32m    324\u001b[0m value \u001b[38;5;241m=\u001b[39m OUTPUT_CONVERTER[\u001b[38;5;28mtype\u001b[39m](answer[\u001b[38;5;241m2\u001b[39m:], gateway_client)\n\u001b[0;32m    325\u001b[0m \u001b[38;5;28;01mif\u001b[39;00m answer[\u001b[38;5;241m1\u001b[39m] \u001b[38;5;241m==\u001b[39m REFERENCE_TYPE:\n\u001b[1;32m--> 326\u001b[0m     \u001b[38;5;28;01mraise\u001b[39;00m Py4JJavaError(\n\u001b[0;32m    327\u001b[0m         \u001b[38;5;124m\"\u001b[39m\u001b[38;5;124mAn error occurred while calling \u001b[39m\u001b[38;5;132;01m{0}\u001b[39;00m\u001b[38;5;132;01m{1}\u001b[39;00m\u001b[38;5;132;01m{2}\u001b[39;00m\u001b[38;5;124m.\u001b[39m\u001b[38;5;130;01m\\n\u001b[39;00m\u001b[38;5;124m\"\u001b[39m\u001b[38;5;241m.\u001b[39m\n\u001b[0;32m    328\u001b[0m         \u001b[38;5;28mformat\u001b[39m(target_id, \u001b[38;5;124m\"\u001b[39m\u001b[38;5;124m.\u001b[39m\u001b[38;5;124m\"\u001b[39m, name), value)\n\u001b[0;32m    329\u001b[0m \u001b[38;5;28;01melse\u001b[39;00m:\n\u001b[0;32m    330\u001b[0m     \u001b[38;5;28;01mraise\u001b[39;00m Py4JError(\n\u001b[0;32m    331\u001b[0m         \u001b[38;5;124m\"\u001b[39m\u001b[38;5;124mAn error occurred while calling \u001b[39m\u001b[38;5;132;01m{0}\u001b[39;00m\u001b[38;5;132;01m{1}\u001b[39;00m\u001b[38;5;132;01m{2}\u001b[39;00m\u001b[38;5;124m. Trace:\u001b[39m\u001b[38;5;130;01m\\n\u001b[39;00m\u001b[38;5;132;01m{3}\u001b[39;00m\u001b[38;5;130;01m\\n\u001b[39;00m\u001b[38;5;124m\"\u001b[39m\u001b[38;5;241m.\u001b[39m\n\u001b[0;32m    332\u001b[0m         \u001b[38;5;28mformat\u001b[39m(target_id, \u001b[38;5;124m\"\u001b[39m\u001b[38;5;124m.\u001b[39m\u001b[38;5;124m\"\u001b[39m, name, value))\n",
      "\u001b[1;31mPy4JJavaError\u001b[0m: An error occurred while calling o2097.parquet.\n: org.apache.spark.SparkException: Job 70 cancelled \r\n\tat org.apache.spark.scheduler.DAGScheduler.failJobAndIndependentStages(DAGScheduler.scala:2856)\r\n\tat org.apache.spark.scheduler.DAGScheduler.handleJobCancellation(DAGScheduler.scala:2731)\r\n\tat org.apache.spark.scheduler.DAGSchedulerEventProcessLoop.doOnReceive(DAGScheduler.scala:3013)\r\n\tat org.apache.spark.scheduler.DAGSchedulerEventProcessLoop.onReceive(DAGScheduler.scala:2994)\r\n\tat org.apache.spark.scheduler.DAGSchedulerEventProcessLoop.onReceive(DAGScheduler.scala:2983)\r\n\tat org.apache.spark.util.EventLoop$$anon$1.run(EventLoop.scala:49)\r\n"
     ]
    }
   ],
   "source": [
    "panel_smoothed_w_past_inst.write.mode('overwrite').parquet('file:\\\\' + save_path + 'panel_smoothed_w_past_inst.parquet')"
   ]
  },
  {
   "cell_type": "code",
   "execution_count": null,
   "id": "38519341-fcc8-482d-b48c-4183c6760852",
   "metadata": {},
   "outputs": [],
   "source": []
  }
 ],
 "metadata": {
  "kernelspec": {
   "display_name": "SparkNLP kernel",
   "language": "python",
   "name": "condaenv"
  },
  "language_info": {
   "codemirror_mode": {
    "name": "ipython",
    "version": 3
   },
   "file_extension": ".py",
   "mimetype": "text/x-python",
   "name": "python",
   "nbconvert_exporter": "python",
   "pygments_lexer": "ipython3",
<<<<<<< Updated upstream
   "version": "3.12.3"
=======
   "version": "3.8.20"
>>>>>>> Stashed changes
  }
 },
 "nbformat": 4,
 "nbformat_minor": 5
}
