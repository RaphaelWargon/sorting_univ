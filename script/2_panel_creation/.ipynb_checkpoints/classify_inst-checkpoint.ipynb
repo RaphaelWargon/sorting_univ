{
 "cells": [
  {
   "cell_type": "code",
   "execution_count": 35,
   "id": "df3a702a-cf27-4af7-bf37-811e075652fe",
   "metadata": {},
   "outputs": [
    {
     "name": "stdout",
     "output_type": "stream",
     "text": [
      "C:\\Users\\raphael.wargon\\Documents\\GitHub\\sorting_univ\\script/headers/\n",
      "default\n",
      "initalizing spark nlp session w gpu\n"
     ]
    }
   ],
   "source": [
    "import os\n",
    "base_path = os.path.dirname(os.path.abspath(\"\"))\n",
    "base_path = base_path + \"/headers/\"\n",
    "print(base_path)\n",
    "header_path = base_path + 'header_data_treatment.ipynb'\n",
    "%run $header_path"
   ]
  },
  {
   "cell_type": "code",
   "execution_count": 63,
   "id": "a3036308-e6ba-41ed-bcb4-a10dacbee8d0",
   "metadata": {},
   "outputs": [],
   "source": [
    "df_inst = (spark.read.format('parquet').load('file:\\\\' + main_path_openalex + 'institutions.parquet')\n",
    "           .withColumn('max_updated_date', func.max(func.col('updated_date')).over(Window.partitionBy('id')))\n",
    "           .filter(func.col('updated_date')==func.col('max_updated_date'))\n",
    "          )"
   ]
  },
  {
   "cell_type": "markdown",
   "id": "70248814-7df1-4f1b-adae-f0a4b2f4cff0",
   "metadata": {},
   "source": [
    "# Principal higher ed institutions"
   ]
  },
  {
   "cell_type": "code",
   "execution_count": 4,
   "id": "579db61e-9323-4ea5-b301-691bce07d7d5",
   "metadata": {},
   "outputs": [],
   "source": [
    "fr_esr = spark.read.format('csv').option(\"delimiter\", \";\").option(\"header\",\"true\").load('file:\\\\' + scanR_path + '\\\\fr-esr-principaux-etablissements-enseignement-superieur.csv')"
   ]
  },
  {
   "cell_type": "code",
   "execution_count": 5,
   "id": "c7ae5678-4fee-4ac4-96a3-878999c9f2a9",
   "metadata": {
    "scrolled": true
   },
   "outputs": [
    {
     "name": "stdout",
     "output_type": "stream",
     "text": [
      "+--------------------+--------------------+---------+---------+---------+-------------------+-------+\n",
      "|                name|          short_name|    idref|      ror| wikidata|               type|secteur|\n",
      "+--------------------+--------------------+---------+---------+---------+-------------------+-------+\n",
      "|Université de Rennes|          UNIVRENNES|26693823X|015m7wh34| Q1987282|         Université| public|\n",
      "|Institut français...|                IFAO|026387395|055pd2p26| Q1472454|Autre établissement| public|\n",
      "|Université Paris ...|             UP Cité|236453505|05f82e368|Q55849612|         Université| public|\n",
      "|École des hautes ...|           HEC Paris|027321118|0423jsj19|  Q273535|              École|  privé|\n",
      "|Institut national...|        INSA de Lyon|052444724|050jn9y42| Q1633859|              École| public|\n",
      "|Université de Poi...| Université Poitiers|026403765|04xhy8q59|  Q661056|         Université| public|\n",
      "|Neoma Business Sc...|            Neoma BS|250789329|01g1pe685|Q16665962|              École|  privé|\n",
      "|Université de Cor...|    Université Corse|029473284|050ra0n32|  Q335841|         Université| public|\n",
      "|La Rochelle Unive...|Université La Roc...|035375043|04mv1z119| Q1500822|         Université| public|\n",
      "|         Sciences Po|        IEP de Paris|027918459|05fe7ax82|  Q859363|Grand établissement| public|\n",
      "|Institut catholiq...|                ICES|031034098|02tqmhd47| Q3151861|              École|  privé|\n",
      "|École nationale s...|             ENSAPLV|185977049|03e2r1r87| Q3578185|              École| public|\n",
      "|Institut national...|INSA de Rouen Nor...|033364346|020ws7586| Q1665112|              École| public|\n",
      "|École supérieure ...|          ESB Nantes|027957314|03x8h1v05| Q3578509|              École|  privé|\n",
      "|Université de Cae...|             UNICAEN|026403064|051kpcy16|  Q568554|         Université| public|\n",
      "|Université de Toulon|   Université Toulon|031122337|02m9kbe37| Q1816857|         Université| public|\n",
      "|Arts et Métiers S...|     Arts et Métiers|02637515X|018pp1107| Q2570220|Grand établissement| public|\n",
      "|École normale sup...|         ENS de Lyon|149154992|04zmssz18|   Q10159|              École| public|\n",
      "|    Sciences Po Lyon|         IEP de Lyon|028888537|02h3vcz70| Q2253344|Autre établissement| public|\n",
      "|Université Paris-...|      Panthéon-Assas|260745863|04qb2qm38|  Q662976|         Université| public|\n",
      "+--------------------+--------------------+---------+---------+---------+-------------------+-------+\n",
      "only showing top 20 rows\n",
      "\n"
     ]
    }
   ],
   "source": [
    "fr_esr = (fr_esr\n",
    "          .select(func.col('libellé').alias('name'), func.col('nom court').alias('short_name'),\n",
    "                  func.col('identifiant_idref').alias('idref'), func.col('Identifiant ROR').alias('ror'),\n",
    "                  func.col('Identifiant wikidata').alias('wikidata'), func.col(\"type d'établissement\").alias('type'),\n",
    "                 func.col(\"secteur d'établissement\").alias('secteur'))\n",
    "          .distinct()\n",
    "         )\n",
    "fr_esr.show()\n",
    "          "
   ]
  },
  {
   "cell_type": "code",
   "execution_count": 6,
   "id": "52f7219d-8cf4-496b-852c-6cf3349dd72d",
   "metadata": {},
   "outputs": [
    {
     "data": {
      "text/plain": [
       "215"
      ]
     },
     "execution_count": 6,
     "metadata": {},
     "output_type": "execute_result"
    }
   ],
   "source": [
    "merged_by_ror = (df_inst\n",
    "                 .select('id', 'ror')\n",
    "                 .join(fr_esr\n",
    "                       .withColumn('ror', func.concat(func.lit('https://ror.org/'), func.col('ror'))), on = 'ror', how ='inner')\n",
    "                 .select(func.regexp_replace(func.col('id'), 'https://openalex.org/', '').alias('inst_id'),'idref','name','ror','type',\"secteur\")\n",
    "                 .distinct()\n",
    "                )\n",
    "merged_by_ror.count()"
   ]
  },
  {
   "cell_type": "code",
   "execution_count": 7,
   "id": "61603e4a-8bfb-4dea-8968-22786ecfefa5",
   "metadata": {
    "scrolled": true
   },
   "outputs": [
    {
     "name": "stdout",
     "output_type": "stream",
     "text": [
      "+-----------+---------+--------------------+--------------------+-------------------+-------+\n",
      "|    inst_id|    idref|                name|                 ror|               type|secteur|\n",
      "+-----------+---------+--------------------+--------------------+-------------------+-------+\n",
      "| I187986737|026370921|   Collège de France|https://ror.org/0...|Grand établissement| public|\n",
      "| I138816502|029473284|Université de Cor...|https://ror.org/0...|         Université| public|\n",
      "|I2802487185|030969379|Université du Lit...|https://ror.org/0...|         Université| public|\n",
      "|I2746051580|241597595|Université Paris ...|https://ror.org/0...|Grand établissement| public|\n",
      "| I110017253|026404478| Université de Tours|https://ror.org/0...|         Université| public|\n",
      "|I4210145102|238327159|Institut polytech...|https://ror.org/0...|              École| public|\n",
      "|  I40434647|026403587|Université Paris ...|https://ror.org/0...|         Université| public|\n",
      "| I277688954|241345251|Université Paris-...|https://ror.org/0...|         Université| public|\n",
      "|I4210142724|163078998|Centrale Méditerr...|https://ror.org/0...|              École| public|\n",
      "| I112936343|033894221|       Centrale Lyon|https://ror.org/0...|              École| public|\n",
      "|  I65806277|026403315|Université de Lim...|https://ror.org/0...|         Université| public|\n",
      "|  I83860666|027321118|École des hautes ...|https://ror.org/0...|              École|  privé|\n",
      "| I196454796|026388766|Institut national...|https://ror.org/0...|              École| public|\n",
      "|  I17606148|031803695|École nationale v...|https://ror.org/0...|              École| public|\n",
      "| I193033237|026523493|Institut supérieu...|https://ror.org/0...|Grand établissement| public|\n",
      "|  I44563897|034634894| Université d'Artois|https://ror.org/0...|         Université| public|\n",
      "| I129162050|027931676|       TBS Education|https://ror.org/0...|              École|  privé|\n",
      "|  I59692284|050425900|École supérieure ...|https://ror.org/0...|              École|  privé|\n",
      "|I4210152422|026403994|Université Toulou...|https://ror.org/0...|         Université| public|\n",
      "|I1289910757|250789329|Neoma Business Sc...|https://ror.org/0...|              École|  privé|\n",
      "+-----------+---------+--------------------+--------------------+-------------------+-------+\n",
      "only showing top 20 rows\n",
      "\n"
     ]
    }
   ],
   "source": [
    "merged_by_ror.show()"
   ]
  },
  {
   "cell_type": "code",
   "execution_count": 8,
   "id": "8213ce83-cf09-4d11-a73e-8f5e12a2547d",
   "metadata": {},
   "outputs": [
    {
     "name": "stdout",
     "output_type": "stream",
     "text": [
      "+-------------------+-----+\n",
      "|               type|count|\n",
      "+-------------------+-----+\n",
      "|         Université|   61|\n",
      "|Grand établissement|   27|\n",
      "|              École|  117|\n",
      "|Autre établissement|   10|\n",
      "+-------------------+-----+\n",
      "\n"
     ]
    }
   ],
   "source": [
    "merged_by_ror.groupBy('type').count().show()"
   ]
  },
  {
   "cell_type": "code",
   "execution_count": 9,
   "id": "d8393cb8-740c-4ef6-8ca5-b81ffe136615",
   "metadata": {},
   "outputs": [
    {
     "name": "stdout",
     "output_type": "stream",
     "text": [
      "+-----------------------+--------------+------------+----------+--------------+------------+------------+---------------------+-------------------------+---+------------+---+---+-------------------+---------+-------------+---------------+-------+------------+-----+---+-------------+-----------+------+----+-------+-------+------------+-------------+-----------+----------+\n",
      "|associated_institutions|cited_by_count|country_code|country_id|counts_by_year|created_date|display_name|display_name_acronyms|display_name_alternatives|geo|homepage_url| id|ids|image_thumbnail_url|image_url|international|is_super_system|lineage|repositories|roles|ror|summary_stats|topic_share|topics|type|type_id|updated|updated_date|works_api_url|works_count|x_concepts|\n",
      "+-----------------------+--------------+------------+----------+--------------+------------+------------+---------------------+-------------------------+---+------------+---+---+-------------------+---------+-------------+---------------+-------+------------+-----+---+-------------+-----------+------+----+-------+-------+------------+-------------+-----------+----------+\n",
      "+-----------------------+--------------+------------+----------+--------------+------------+------------+---------------------+-------------------------+---+------------+---+---+-------------------+---------+-------------+---------------+-------+------------+-----+---+-------------+-----------+------+----+-------+-------+------------+-------------+-----------+----------+\n",
      "\n"
     ]
    }
   ],
   "source": [
    "df_inst.filter(func.col('id').contains(\"I4403386658\")).show()"
   ]
  },
  {
   "cell_type": "code",
   "execution_count": 11,
   "id": "2589db25-7a78-44c6-be88-1747911ca1fc",
   "metadata": {
    "scrolled": true
   },
   "outputs": [
    {
     "data": {
      "text/plain": [
       "126"
      ]
     },
     "execution_count": 11,
     "metadata": {},
     "output_type": "execute_result"
    }
   ],
   "source": [
    "merge = (inst.withColumn('to_join',\n",
    "                                           func.regexp_replace(func.lower(func.col('name')),       \" de| la| d'| l'| des| du| le| les\",'')\n",
    "                )\n",
    "      .withColumn('to_join', func.regexp_replace(func.col('to_join'), 'é|è', 'e'))\n",
    ".join(fr_esr\n",
    "      .withColumn('to_join', \n",
    "                  func.explode(func.array([func.regexp_replace(func.lower(func.col('name')),       \" de| la| d'| l'| des| du| le| les\",''), \n",
    "                                           func.regexp_replace(func.lower(func.col('short_name')), \" de| la| d'| l'| des| du| le| les\",'')])))\n",
    "      .withColumn('to_join', func.regexp_replace(func.col('to_join'), 'é|è', 'e'))\n",
    "      , on = 'to_join', how ='inner'))\n",
    "merge.count()"
   ]
  },
  {
   "cell_type": "code",
   "execution_count": 12,
   "id": "ef0c15e2-de32-47c9-b234-63d3f0f2b3dc",
   "metadata": {
    "scrolled": true
   },
   "outputs": [
    {
     "name": "stdout",
     "output_type": "stream",
     "text": [
      "+--------------------+-----------+--------------------+---------+--------------+--------------------+--------------------+--------------------+-----+-------+----+--------------------+------------------+---------+---------+----------+-------------------+-------+\n",
      "|             to_join|    inst_id|                name|     type|          city|         topic_share|          main_topic|              parent|fused|uni_pub|cnrs|                name|        short_name|    idref|      ror|  wikidata|               type|secteur|\n",
      "+--------------------+-----------+--------------------+---------+--------------+--------------------+--------------------+--------------------+-----+-------+----+--------------------+------------------+---------+---------+----------+-------------------+-------+\n",
      "|ecole nationale s...| I194210350|École Nationale S...|education|          Caen|[{Materials Scien...|   Materials Science|[{I194210350, Éco...|    0|      0|   0|École nationale s...|         ENSI Caen|190907991|01fpqqe90|  Q3578208|              École| public|\n",
      "|universite paris-...| I197681013|Université Paris-...|education|       Créteil|[{Medicine, 0.017...|            Medicine|[{I197681013, Uni...|    0|      1|   0|Université Paris-...|              NULL|028021037|05ggc9x40|   Q980688|         Université| public|\n",
      "|    universite lille|I2279609970| Université de Lille|education|         Lille|[{Social Sciences...|     Social Sciences|[{I2279609970, Un...|    0|      1|   0| Université de Lille|              NULL|259265152|02kzqn938|      NULL|         Université| public|\n",
      "|universite paris-...| I277688954|Université Paris-...|education|Gif-sur-Yvette|[{Physics and Ast...|Physics and Astro...|[{I277688954, Uni...|    0|      1|   0|Université Paris-...|              NULL|241345251|03xjwb503|Q109409389|         Université| public|\n",
      "|universite haute-...|I2800745255|Université de Hau...|education|      Mulhouse|[{Physics and Ast...|           Chemistry|[{I2800745255, Un...|    0|      1|   0|Université de Hau...|              NULL|026403250|04k8k6n84|   Q280183|         Université| public|\n",
      "|institut national...|I2801509770|Institut National...|education|    Strasbourg|[{Engineering, 0....|         Engineering|[{I2801509770, In...|    0|      0|   0|Institut national...|INSA de Strasbourg|076359735|001nta019|   Q521036|              École| public|\n",
      "| sorbonne universite|  I39804081| Sorbonne Université|education|         Paris|[{Medicine, 0.098...|            Medicine|[{I39804081, Sorb...|    0|      1|   0| Sorbonne Université|        Sorbonne U|221333754|02en5vm52| Q41497113|         Université| public|\n",
      "|universite sorbon...|I4210091279|Université Sorbon...|education|  Villetaneuse|[{Medicine, 0.012...|     Social Sciences|[{I4210091279, Un...|    0|      1|   0|Université Sorbon...|              NULL|02640463X|0199hds37|  Q1780212|         Université| public|\n",
      "|ecole superieurei...|I4210095914|École Supérieure ...|education|          Metz|[{Engineering, 8....|         Engineering|[{I4210095914, Éc...|    0|      0|   0|École supérieure ...|     ESITC de Metz|     NULL|00s13q694|  Q3578417|              École|  privé|\n",
      "|  le mans universite|I4210108471|  Le Mans Université|education|       Le Mans|[{Engineering, 0....|         Engineering|[{I4210108471, Le...|    0|      1|   0|  Le Mans Université|              NULL|026404435|01mtcc283|   Q834825|         Université| public|\n",
      "|ecole superieure ...|I4210117656|École Supérieure ...|education|     Compiègne|[{Engineering, 0....|Biochemistry, Gen...|[{I4210117656, Éc...|    0|      0|   0|École supérieure ...|              NULL|035816120|02j530k95|  Q3578426|              École|  privé|\n",
      "|institut polytech...|I4210145102|Institut Polytech...|education|     Palaiseau|[{Computer Scienc...|    Computer Science|[{I4210145102, In...|    0|      0|   0|Institut polytech...|          IP Paris|238327159|042tfbd02| Q48759778|              École| public|\n",
      "|ecole superieure ...|I4210154114|École Supérieure ...|education|        Nantes|[{Engineering, 7....|         Engineering|[{I4210154114, Éc...|    0|      0|   0|École supérieure ...|        ESB Nantes|027957314|03x8h1v05|  Q3578509|              École|  privé|\n",
      "|    universiteangers|  I49451733| Université d'Angers|education|        Angers|[{Engineering, 0....|   Materials Science|[{I49451733, Univ...|    0|      1|   0| Université d'Angers|              NULL|026402920|04yrqp957|  Q1538727|         Université| public|\n",
      "|institut polytech...|  I58581550|Institut Polytech...|education|Ivry-sur-Seine|[{Engineering, 0....|         Engineering|[{I58581550, Inst...|    0|      0|   0|Institut polytech...|              IPSA|     NULL|050r7zc91|   Q183213|              École|  privé|\n",
      "|  universite limoges|  I65806277|Université de Lim...|education|       Limoges|[{Engineering, 0....|         Engineering|[{I65806277, Univ...|    0|      1|   0|Université de Lim...|              NULL|026403315|02cp04407|  Q2661290|         Université| public|\n",
      "|universite polyte...|  I70348806|Université Polyte...|education|  Valenciennes|[{Engineering, 0....|         Engineering|[{I70348806, Univ...|    0|      1|   0|Université Polyte...|              NULL|242335675|02ezch769|  Q1548539|         Université| public|\n",
      "|universite paris-...| I117841876|Université Paris-...|education|         Paris|[{Social Sciences...|     Social Sciences|[{I117841876, Uni...|    0|      1|   0|Université Paris-...|    Panthéon-Assas|260745863|04qb2qm38|   Q662976|         Université| public|\n",
      "|conservatoire nat...| I124158823|Conservatoire Nat...|education|         Paris|[{Engineering, 0....|     Social Sciences|[{I4210134562, HE...|    0|      0|   0|Conservatoire nat...|              NULL|027404978|0175hh227|   Q524289|Grand établissement| public|\n",
      "|ecole superieures...| I124261006|École Supérieure ...|    other|         Cergy|[{Business, Manag...|Business, Managem...|[{I124261006, Éco...|    0|      0|   0|École supérieure ...|              NULL|028029429|02dga6j42|   Q273642|              École|  privé|\n",
      "+--------------------+-----------+--------------------+---------+--------------+--------------------+--------------------+--------------------+-----+-------+----+--------------------+------------------+---------+---------+----------+-------------------+-------+\n",
      "only showing top 20 rows\n",
      "\n"
     ]
    }
   ],
   "source": [
    "merge.show()"
   ]
  },
  {
   "cell_type": "code",
   "execution_count": 13,
   "id": "1be4ea5d-4b99-41d3-a657-d6aa5c3f4a59",
   "metadata": {},
   "outputs": [
    {
     "name": "stdout",
     "output_type": "stream",
     "text": [
      "+-------+----+----+----+-----------+----------+------+-----+-------+----+\n",
      "|inst_id|name|type|city|topic_share|main_topic|parent|fused|uni_pub|cnrs|\n",
      "+-------+----+----+----+-----------+----------+------+-----+-------+----+\n",
      "+-------+----+----+----+-----------+----------+------+-----+-------+----+\n",
      "\n"
     ]
    }
   ],
   "source": [
    "inst.filter(func.col('inst_id')==\"I4403386658\").show()"
   ]
  },
  {
   "cell_type": "code",
   "execution_count": 16,
   "id": "da0aa272-c7ad-49b5-8434-6514d641b2c2",
   "metadata": {},
   "outputs": [
    {
     "data": {
      "text/plain": [
       "246"
      ]
     },
     "execution_count": 16,
     "metadata": {},
     "output_type": "execute_result"
    }
   ],
   "source": [
    "fr_esr.count()"
   ]
  },
  {
   "cell_type": "code",
   "execution_count": 18,
   "id": "49d3c5ea-f185-4657-9b4a-3ab4d2d06407",
   "metadata": {},
   "outputs": [],
   "source": [
    "sorted_by_hand = { #'IAE Paris - Sorbonne Business School':\n",
    "                   'Université de Mayotte':\"I4403928291\",\n",
    "               \"École d'ingénieurs des sciences aérospatiales\" :\"I58581550\",\n",
    "    'Université de technologie Tarbes Occitanie Pyrénées':\"I119865316\",\n",
    "    #\"Institut régional du travail social de Champagne-Ardennes\"\n",
    "    \"Université Bourgogne Europe\":\"I177064439\",\n",
    "    \"Université de Montpellier Paul-Valéry\":'I208215962',\n",
    "    #Institut national du service public\n",
    "    \"Nîmes université\":\"I66456633\",\n",
    "    #Y SCHOOLS\n",
    "    \"École nationale supérieure de paysage\":\"I4387154791\",\n",
    "    #Brest Business School\n",
    "    #École supérieure de fonderie et de forge\n",
    "    #Institut national des sciences et techniques nucléaires\n",
    "    #Université Marie et Louis Pasteur\n",
    "    \"Université de Toulouse\": \"I17866349\",\n",
    "    #Institut supérieur du commerce de Paris,\n",
    "    #École spéciale d'architecture\n",
    "    #Institut supérieur de l'électronique et du numérique de Brest\n",
    "    #Centre national des arts du cirque\n",
    "    #Institut des relations publiques et de la communication d’Angers\n",
    "    #ESIEE-IT\n",
    "    #Institut français de la mode \n",
    "    #École nationale supérieure des arts et techniques du théâtre\n",
    "    \"Institut supérieur du bâtiment et des travaux publics\": 'I4210160645',\n",
    "    #Centre des hautes études de la construction\n",
    "    #École supérieure d'art et de design d'Amiens\n",
    "    \"Université Jean Monnet\":\"I86767153\",\n",
    "    #Centre de ressources, d'expertise et de performance sportives de Toulouse \n",
    "    \"École nationale supérieure du pétrole et des moteurs\":\"I4403386658\",\n",
    "    \"Institut protestant de théologie\":\"I4210121454\",\n",
    "    \"Institut supérieur international du parfum, de la cosmétique et de l'aromatique alimentaire\":\"I4387154221\",\n",
    "    \"ICN Business School\": \"I4400600934\",\n",
    "    \"École nationale supérieure des métiers de l'image et du son\":'I4387156185',\n",
    "    #Institut d'ingénierie informatique de Limoges\n",
    "    \"École de management Léonard De Vinci\":\"I4210121459\"\n",
    "    \n",
    "                }"
   ]
  },
  {
   "cell_type": "code",
   "execution_count": 19,
   "id": "2aa80e22-576e-4cd7-b2c4-f5f8da80eeaa",
   "metadata": {},
   "outputs": [
    {
     "name": "stdout",
     "output_type": "stream",
     "text": [
      "['I4403928291', 'I58581550', 'I119865316', 'I177064439', 'I208215962', 'I66456633', 'I4387154791', 'I17866349', 'I4210160645', 'I86767153', 'I4403386658', 'I4210121454', 'I4387154221', 'I4400600934', 'I4387156185', 'I4210121459']\n"
     ]
    }
   ],
   "source": [
    "print([test[1]for test in sorted_by_hand.items()])"
   ]
  },
  {
   "cell_type": "code",
   "execution_count": 20,
   "id": "85cfb3e2-f69b-45fb-b0a7-508d8bf3d3a6",
   "metadata": {},
   "outputs": [
    {
     "data": {
      "text/plain": [
       "'CASE WHEN name = \"Université de Mayotte\" THEN \"I4403928291\" WHEN name = \"École d\\'ingénieurs des sciences aérospatiales\" THEN \"I58581550\" WHEN name = \"Université de technologie Tarbes Occitanie Pyrénées\" THEN \"I119865316\" WHEN name = \"Université Bourgogne Europe\" THEN \"I177064439\" WHEN name = \"Université de Montpellier Paul-Valéry\" THEN \"I208215962\" WHEN name = \"Nîmes université\" THEN \"I66456633\" WHEN name = \"École nationale supérieure de paysage\" THEN \"I4387154791\" WHEN name = \"Université de Toulouse\" THEN \"I17866349\" WHEN name = \"Institut supérieur du bâtiment et des travaux publics\" THEN \"I4210160645\" WHEN name = \"Université Jean Monnet\" THEN \"I86767153\" WHEN name = \"École nationale supérieure du pétrole et des moteurs\" THEN \"I4403386658\" WHEN name = \"Institut protestant de théologie\" THEN \"I4210121454\" WHEN name = \"Institut supérieur international du parfum, de la cosmétique et de l\\'aromatique alimentaire\" THEN \"I4387154221\" WHEN name = \"ICN Business School\" THEN \"I4400600934\" WHEN name = \"École nationale supérieure des métiers de l\\'image et du son\" THEN \"I4387156185\" WHEN name = \"École de management Léonard De Vinci\" THEN \"I4210121459\" END'"
      ]
     },
     "execution_count": 20,
     "metadata": {},
     "output_type": "execute_result"
    }
   ],
   "source": [
    "expr_merge_hand = 'CASE WHEN ' + ' WHEN '.join(['name = \"' + el[0] + '\" THEN \"' + el[1] + '\"' for el in sorted_by_hand.items()] )+ ' END'\n",
    "expr_merge_hand                  "
   ]
  },
  {
   "cell_type": "code",
   "execution_count": 22,
   "id": "98fbb09d-50b4-46ff-992a-7fef1d1226c0",
   "metadata": {
    "scrolled": true
   },
   "outputs": [
    {
     "name": "stdout",
     "output_type": "stream",
     "text": [
      "+--------------------+----------+---------+---------+----------+----------+-------+-----------+\n",
      "|                name|short_name|    idref|      ror|  wikidata|      type|secteur|    inst_id|\n",
      "+--------------------+----------+---------+---------+----------+----------+-------+-----------+\n",
      "|Université de May...|      NULL|262921715|02t0k0832|  Q2946102|Université| public|I4403928291|\n",
      "|École d'ingénieur...|     ELISA|     NULL|     NULL| Q65162999|     École|  privé|  I58581550|\n",
      "|Université de tec...|      NULL|     NULL|     NULL|Q124412825|     École| public| I119865316|\n",
      "|Université Bourgo...|      NULL|     NULL|     NULL|      NULL|Université| public| I177064439|\n",
      "|Université de Mon...|      NULL|     NULL|     NULL|      NULL|Université| public| I208215962|\n",
      "|    Nîmes université|      NULL|     NULL|     NULL|      NULL|Université| public|  I66456633|\n",
      "|École nationale s...|      ENSP|035622261|     NULL|  Q3578260|     École| public|I4387154791|\n",
      "|Université de Tou...|      NULL|     NULL|     NULL|      NULL|Université| public|  I17866349|\n",
      "|Institut supérieu...|   ISBA TP|     NULL|     NULL| Q60846049|     École|  privé|I4210160645|\n",
      "|Université Jean M...|      NULL|     NULL|     NULL|      NULL|Université| public|  I86767153|\n",
      "|École nationale s...|IFP school|026375303|     NULL|  Q2732297|     École| public|I4403386658|\n",
      "|Institut protesta...|       IPT|029412706|     NULL|  Q3064314|     École|  privé|I4210121454|\n",
      "|Institut supérieu...|    ISIPCA|028549783|     NULL|  Q3152629|     École|  privé|I4387154221|\n",
      "| ICN Business School|      NULL|240717511|     NULL|  Q3146547|     École|  privé|I4400600934|\n",
      "|École nationale s...|  La Fémis|     NULL|     NULL|  Q1138556|     École| public|I4387156185|\n",
      "|École de manageme...|      EMLV|     NULL|     NULL|   Q166446|     École|  privé|I4210121459|\n",
      "+--------------------+----------+---------+---------+----------+----------+-------+-----------+\n",
      "\n"
     ]
    }
   ],
   "source": [
    "merged_by_hand = (fr_esr\n",
    "                  .withColumn('inst_id', func.expr(expr_merge_hand))\n",
    "                  .filter(func.col('inst_id').isNotNull())\n",
    "                 )\n",
    "merged_by_hand.show()"
   ]
  },
  {
   "cell_type": "code",
   "execution_count": 23,
   "id": "3fbc7ed9-47fd-4838-b98c-81007a7f370f",
   "metadata": {
    "scrolled": true
   },
   "outputs": [
    {
     "name": "stdout",
     "output_type": "stream",
     "text": [
      "+-----------+-------------------+--------------------+-------------------+-------+\n",
      "|    inst_id|              idref|                name|               type|secteur|\n",
      "+-----------+-------------------+--------------------+-------------------+-------+\n",
      "|  I51101395|          027361802|Université Paris ...|         Université| public|\n",
      "|  I90183372|          157040569|Université de Lor...|Grand établissement| public|\n",
      "| I277688954|          241345251|Université Paris-...|         Université| public|\n",
      "|  I68947357|          131056549|Université de Str...|         Université| public|\n",
      "|I4210126056|086908480,193857561|Institut national...|Autre établissement| public|\n",
      "|I4210103002|          252404955|Université Clermo...|         Université| public|\n",
      "|  I24715933|          026404451|Université de La ...|         Université| public|\n",
      "| I161463649|          028222814|Audencia Business...|              École|  privé|\n",
      "|I4210123735|          028888537|    Sciences Po Lyon|Autre établissement| public|\n",
      "|I4387154602|          161841821|École supérieure ...|              École| public|\n",
      "|  I32881790|          026403765|Université de Poi...|         Université| public|\n",
      "|I1287193074|          026525704|Institut catholiq...|              École|  privé|\n",
      "| I151295451|          026403692|Université de Per...|         Université| public|\n",
      "| I144889574|          026403668|Université de Pau...|         Université| public|\n",
      "|I4210156868|          198281633|Institut polytech...|              École|  privé|\n",
      "|I4210125635|          031034098|Institut catholiq...|              École|  privé|\n",
      "|I4210133729|          074593714|Institut national...|Grand établissement| public|\n",
      "|  I88467170|          030820529|Université d'Évry...|         Université| public|\n",
      "| I141576021|          031308570|Université Le Hav...|         Université| public|\n",
      "|I4210112425|          026386321|Sciences Po Toulouse|Autre établissement| public|\n",
      "+-----------+-------------------+--------------------+-------------------+-------+\n",
      "only showing top 20 rows\n",
      "\n"
     ]
    }
   ],
   "source": [
    "merged = (merged_by_ror\n",
    "          .select('inst_id', 'idref', 'name', 'type','secteur')\n",
    "          .unionAll(merged_by_hand.select('inst_id', 'idref','name', 'type','secteur'))\n",
    "          .distinct()\n",
    "         )\n",
    "merged.show()"
   ]
  },
  {
   "cell_type": "code",
   "execution_count": 24,
   "id": "371d371f-cd6e-4f49-b154-68274cbd6b59",
   "metadata": {},
   "outputs": [
    {
     "data": {
      "text/plain": [
       "231"
      ]
     },
     "execution_count": 24,
     "metadata": {},
     "output_type": "execute_result"
    }
   ],
   "source": [
    "merged.count()"
   ]
  },
  {
   "cell_type": "code",
   "execution_count": 74,
   "id": "6714ec38-130c-4002-b4c1-0a8effff6ff7",
   "metadata": {},
   "outputs": [],
   "source": [
    "idex = {\"idex_aix_marseille\": #https://anr.fr/ProjetIA-11-IDEX-0001\n",
    "        ['I21491767',\"I4210142724\",'I4210087487','I4387155629', # Aix-Marseille Université, Ecole centrale de Marseille, CHRU Marseille, IEP Aix \n",
    "                             # \"I4210166444\", \"I4387153840\",\"I4210128565\"  #IRD Marseille, Inserm Paris, CEA Saclay\n",
    "        ]\n",
    ",\n",
    "        'idex_paris_saclay':#https://anr.fr/ProjetIA-11-IDEX-0003\n",
    "        ['I195731000',\"I22248866\", \"I83860666\", \"I201181511\",\"I11559806\",\"I142476485\",\"I4210091746\",\"I205703379\", # UVSQ, AgroParisTech, HEC,ENSTA, ENS Saclay, X, SupOptique, Télécom,\n",
    "         \"I84009706\", \"I4210088668\", \"I2801658355\" ,\"I2801148539\",\"I4210107720\",\"I88467170\", \"I4210126360\"#ENSAE,INRAE, ONERA, Synchotron Soleil, Centrale Supélec, Univ Evry Val d'Essonne, Inria Saclay\n",
    "         #,\"I4387153840\", \"I4210128565\"# Inserm paris,CEA Saclay\n",
    "        ] \n",
    "         # missing : IHES,Systematic,Institut Villebon Georges Charpak, ADEPRINA\n",
    ",      'idex_bordeaux' : #https://anr.fr/ProjetIA-10-IDEX-0003\n",
    "        ['I3130945570',\"I4210160189\",'I139506611','I4210091158' #Univ Bordeaux Montaigne, Polytechnique Bordeaux, Sciences Po Bordeaux, ENSA Bordeaux\n",
    "         #,\"I4387153840\", \"I4210128565\"# Inserm paris,CEA Saclay\n",
    "        ]\n",
    ",      \"idex_psl\": #https://anr.fr/ProjetIA-10-IDEX-0001\n",
    "        [\"I2746051580\", #PSL\n",
    "            'I187986737',\"I149758196\",\"I29607241\",'I98910050',\"I80043\",'I2800004676' #CdF, Chimie ParisTech, ENS Ulm, ESPCI, Institut Curie, Observatoire de Paris\n",
    "         , 'I56435720',\"I4210166784\",\"I4210107334\",\"I4210118986\",\"I4210126561\" #Dauphine, Ecole Nat Sup Arts Deco, Beaux Arts Paris, conservatoire musique et danse, institut louis bachelier\n",
    "         ,\"I70768539\", \"I159885104\",\"I4210127304\",\"I4387156185\", \"I90669466\",\"I4210092825\",\"I4210100316\" #Mines Paris, EPHE, fondation Rotschild, fémis, EHESS, Ecole Française d'Extrême Orient, Chartes, \n",
    "      #  , \"I4210126360\"#Inria Saclay\n",
    "        ]\n",
    ",      \"idex_paris_cite\": #https://anr.fr/ProjetIA-18-IDEX-0001\n",
    "        ['I204730241',\"I148261361\",\"I4210091279\",\"I205092303\",\"I162346809\",\"I1325388108\",'I182627622',\"I1326498283\" #Paris Cité, institut de physique du globe, Sorbonne Paris-Nord, Sciences Po, INALCO, INED, Sorbonne Nouvelle, INRIA\n",
    "         #,\"I4210166444\",\"I4387153840\",\"I4210128565\" # IRD Marseille, Inserm Paris, CEA Saclay\n",
    "        ]\n",
    ",      \"idex_sorbonne_univ\": #https://anr.fr/ProjetIA-11-IDEX-0004\n",
    "        [\"I39804081\" ,\"I4210123595\",\"I102272798\",\"I102516824\", #Sorbonne Université, Museum d'histoire naturelle, UTC\n",
    "         #,\"I4210166444\",\"I4387153840\",\"I4210128565\" # IRD Marseille, Inserm Paris, CEA Saclay\n",
    "        ]\n",
    ",      \"idex_strasbourg\": #https://anr.fr/ProjetIA-10-IDEX-0002\n",
    "        [\"I68947357\" #Univ_strasbourg\n",
    "                  #,\"I4387153840\" # Inserm paris\n",
    "        ]\n",
    ",      \"idex_2_cote_azur\": #https://anr.fr/ProjetIA-15-IDEX-0001\n",
    "        [ 'I201841394','I4210147253', \"I4210126779\",\"I3018988418\", \"I4210111578\", #UCA, CNRS côte d'azur, observatoire côte d'azur, CHU Nice, INSERM côte d'azur\n",
    "         \"I1902872\",\"I90326151\",\"I181418319\" # Eurecom, EDHEC, SKEMA, \n",
    "         #,\"I70768539\" Mines Paris                            \n",
    "         # \"I4210166444\"  #IRD Marseille # INRAE\n",
    "        ]\n",
    ",     'idex_2_grenoble': #https://anr.fr/ProjetIA-15-IDEX-0002\n",
    "        ['I106785703',\"I4210113225\",\"I3020098449\", \"I4210150872\", #Polytechnique Grenoble, ENSAG, CEA Grenoble, INSERM Alpes\n",
    "         \"I899635006\",\"I2800555055\",\"I4210101348\",\"I4387155711\",\"I4387154183\" #UGA, CHU Grenoble, INRIA Grenoble, Sciences Po Grenoble, IRSTEA\n",
    "\n",
    "         # \"I4210155509\" CNRS Alpes\n",
    "        ]\n",
    "\n",
    ",     'idex_annulee_toulouse': #https://anr.fr/ProjetIA-11-IDEX-0002\n",
    "        [\"I4210126056\",'I17866349','I4210152422','I3131550300', #Centre Champollion, Univ Toulouse, Toulouse Jaurès,Toulouse Capitole,\n",
    "         'I134560555',\"I205747304\",\"I196454796\",\"I193033237\" ,\"I4210147367\" # Toulouse Sabatier, Polytechnique Toulouse, INSA Toulouse, ISEA-SUPAéro, INRAE Occitanie\n",
    "         , \"I4210106734\", \"I4210145734\",\"I4210092408\",\"I176063091\" # CNRS Occitanie, INSERM Occitanie, TSE, Ecole Vétérinaire Toulouse,\n",
    "        ,\"I4210091876\",\"I119865316\",\"I4210112425\",\"I129162050\" #Mines d'Albi, Université de Technologie de Tarbes, Sciences Po Toulouse,Toulouse Business School\n",
    "         ,\"I100296615\",  \"I100296615\" #ENAC, Ecole nationale d'Ingénieurs de Purpan\n",
    "         #,\"I4210166444\" #IRD Marseille\n",
    "        ]\n",
    ",     \"idex_annulee_lyon\":#https://anr.fr/ProjetIA-16-IDEX-0005\n",
    "        [\"I112936343\",\"I203339264\", \"I4210166914\",\"I154490720\",\"I113428412\" #Centrale Lyon, Univ Lyon, ENTPE, ENISE, ENS Lyon\n",
    "         , \"I48430043\" ,\"I4210123735\",'I100532134', \"I188626449\", \"I874609350\",\"I4210104684\" #INSA Lyon, Sciences Po Lyon, Lyon I, Lyon II, Lyon III, VetAgroSup\n",
    "          #\"I4387153840\" \"I4210155509\" # Inserm Paris CNRS Rhône Alpes\n",
    "        ]\n",
    "\n",
    "#,     'isite_lorraine':#https://anr.fr/ProjetIA-15-IDEX-0004\n",
    "#        [\"I90183372\",\"I4210100260\", \"I4210141980\" ,\"I1288283403\", #univ Lorraine, chu nancy, inserm nancy,georgia tech nancy,\n",
    "#         \"I4210098696\" #Institut Régional de médecine physique et de Réadaptation de Nancy\n",
    "#        ]\n",
    "#,     'isite_\n",
    ",     \"multi_idex\": \n",
    "        [\"I1294671590\", \"I4210166444\",\"I4387153840\",\"I4210128565\",'I1326498283',\"I70768539\",'I4210155509', # CNRS, IRD Marseille, Inserm Paris, CEA Saclay, INRIA, Mines Paris, CNRS Rhône-Alpes\n",
    "        ]\n",
    "        ,'no_idex':[]\n",
    "}\n"
   ]
  },
  {
   "cell_type": "code",
   "execution_count": 30,
   "id": "67acf6d5-a5f8-453d-b1ed-00015e98868e",
   "metadata": {},
   "outputs": [
    {
     "data": {
      "text/plain": [
       "'CASE WHEN inst_id = \"I21491767\" OR inst_id = \"I4210142724\" OR inst_id = \"I4210087487\" OR inst_id = \"I4387155629\" THEN \"idex_aix_marseille\" WHEN inst_id = \"I195731000\" OR inst_id = \"I22248866\" OR inst_id = \"I83860666\" OR inst_id = \"I201181511\" OR inst_id = \"I11559806\" OR inst_id = \"I142476485\" OR inst_id = \"I4210091746\" OR inst_id = \"I205703379\" OR inst_id = \"I84009706\" OR inst_id = \"I4210088668\" OR inst_id = \"I2801658355\" OR inst_id = \"I2801148539\" OR inst_id = \"I4210107720\" OR inst_id = \"I88467170\" OR inst_id = \"I4210126360\" THEN \"idex_paris_saclay\" WHEN inst_id = \"I3130945570\" OR inst_id = \"I4210160189\" OR inst_id = \"I139506611\" OR inst_id = \"I4210091158\" THEN \"idex_bordeaux\" WHEN inst_id = \"I2746051580\" OR inst_id = \"I187986737\" OR inst_id = \"I149758196\" OR inst_id = \"I29607241\" OR inst_id = \"I98910050\" OR inst_id = \"I80043\" OR inst_id = \"I2800004676\" OR inst_id = \"I56435720\" OR inst_id = \"I4210166784\" OR inst_id = \"I4210107334\" OR inst_id = \"I4210118986\" OR inst_id = \"I4210126561\" OR inst_id = \"I70768539\" OR inst_id = \"I159885104\" OR inst_id = \"I4210127304\" OR inst_id = \"I4387156185\" OR inst_id = \"I90669466\" OR inst_id = \"I4210092825\" OR inst_id = \"I4210100316\" THEN \"idex_psl\" WHEN inst_id = \"I204730241\" OR inst_id = \"I148261361\" OR inst_id = \"I4210091279\" OR inst_id = \"I205092303\" OR inst_id = \"I162346809\" OR inst_id = \"I1325388108\" OR inst_id = \"I182627622\" OR inst_id = \"I1326498283\" THEN \"idex_paris_cite\" WHEN inst_id = \"I39804081\" OR inst_id = \"I4210123595\" OR inst_id = \"I102272798\" OR inst_id = \"I102516824\" THEN \"idex_sorbonne_univ\" WHEN inst_id = \"I68947357\" THEN \"idex_strasbourg\" WHEN inst_id = \"I201841394\" OR inst_id = \"I4210147253\" OR inst_id = \"I4210126779\" OR inst_id = \"I3018988418\" OR inst_id = \"I4210111578\" OR inst_id = \"I1902872\" OR inst_id = \"I90326151\" OR inst_id = \"I181418319\" THEN \"idex_2_cote_azur\" WHEN inst_id = \"I106785703\" OR inst_id = \"I4210113225\" OR inst_id = \"I3020098449\" OR inst_id = \"I4210150872\" OR inst_id = \"I899635006\" OR inst_id = \"I2800555055\" OR inst_id = \"I4210101348\" OR inst_id = \"I4387155711\" OR inst_id = \"I4387154183\" THEN \"idex_2_grenoble\" WHEN inst_id = \"I4210126056\" OR inst_id = \"I17866349\" OR inst_id = \"I4210152422\" OR inst_id = \"I3131550300\" OR inst_id = \"I134560555\" OR inst_id = \"I205747304\" OR inst_id = \"I196454796\" OR inst_id = \"I193033237\" OR inst_id = \"I4210147367\" OR inst_id = \"I4210106734\" OR inst_id = \"I4210145734\" OR inst_id = \"I4210092408\" OR inst_id = \"I176063091\" OR inst_id = \"I4210091876\" OR inst_id = \"I119865316\" OR inst_id = \"I4210112425\" OR inst_id = \"I129162050\" OR inst_id = \"I100296615\" OR inst_id = \"I100296615\" THEN \"idex_annulee_toulouse\" WHEN inst_id = \"I112936343\" OR inst_id = \"I203339264\" OR inst_id = \"I4210166914\" OR inst_id = \"I154490720\" OR inst_id = \"I113428412\" OR inst_id = \"I48430043\" OR inst_id = \"I4210123735\" OR inst_id = \"I100532134\" OR inst_id = \"I188626449\" OR inst_id = \"I874609350\" OR inst_id = \"I4210104684\" THEN \"idex_annulee_lyon\" WHEN inst_id = \"I1294671590\" OR inst_id = \"I4210166444\" OR inst_id = \"I4387153840\" OR inst_id = \"I4210128565\" OR inst_id = \"I1326498283\" OR inst_id = \"I70768539\" OR inst_id = \"I4210155509\" THEN \"multi_idex\" ELSE  \"no_idex\" END'"
      ]
     },
     "execution_count": 30,
     "metadata": {},
     "output_type": "execute_result"
    }
   ],
   "source": [
    "expr_idex = \"CASE WHEN \" + ' WHEN '.join([ 'inst_id = \"' + ('\" OR inst_id = \"').join(item[1])   + '\" THEN \"' + item[0] +'\"' for item in idex.items()]) + ' ELSE  \"no_idex\" END'\n",
    "expr_idex"
   ]
  },
  {
   "cell_type": "code",
   "execution_count": 32,
   "id": "3c601c66-d8d1-488b-9aa6-67f398b16205",
   "metadata": {},
   "outputs": [
    {
     "name": "stdout",
     "output_type": "stream",
     "text": [
      "+-----------+-------------------+--------------------+-------------------+-------+--------------------+\n",
      "|    inst_id|              idref|                name|               type|secteur|                idex|\n",
      "+-----------+-------------------+--------------------+-------------------+-------+--------------------+\n",
      "|  I51101395|          027361802|Université Paris ...|         Université| public|             no_idex|\n",
      "|  I90183372|          157040569|Université de Lor...|Grand établissement| public|             no_idex|\n",
      "| I277688954|          241345251|Université Paris-...|         Université| public|             no_idex|\n",
      "|  I68947357|          131056549|Université de Str...|         Université| public|     idex_strasbourg|\n",
      "|I4210126056|086908480,193857561|Institut national...|Autre établissement| public|idex_annulee_toul...|\n",
      "|I4210103002|          252404955|Université Clermo...|         Université| public|             no_idex|\n",
      "|  I24715933|          026404451|Université de La ...|         Université| public|             no_idex|\n",
      "| I161463649|          028222814|Audencia Business...|              École|  privé|             no_idex|\n",
      "|I4210123735|          028888537|    Sciences Po Lyon|Autre établissement| public|   idex_annulee_lyon|\n",
      "|I4387154602|          161841821|École supérieure ...|              École| public|             no_idex|\n",
      "|  I32881790|          026403765|Université de Poi...|         Université| public|             no_idex|\n",
      "|I1287193074|          026525704|Institut catholiq...|              École|  privé|             no_idex|\n",
      "| I151295451|          026403692|Université de Per...|         Université| public|             no_idex|\n",
      "| I144889574|          026403668|Université de Pau...|         Université| public|             no_idex|\n",
      "|I4210156868|          198281633|Institut polytech...|              École|  privé|             no_idex|\n",
      "|I4210125635|          031034098|Institut catholiq...|              École|  privé|             no_idex|\n",
      "|I4210133729|          074593714|Institut national...|Grand établissement| public|             no_idex|\n",
      "|  I88467170|          030820529|Université d'Évry...|         Université| public|   idex_paris_saclay|\n",
      "| I141576021|          031308570|Université Le Hav...|         Université| public|             no_idex|\n",
      "|I4210112425|          026386321|Sciences Po Toulouse|Autre établissement| public|idex_annulee_toul...|\n",
      "+-----------+-------------------+--------------------+-------------------+-------+--------------------+\n",
      "only showing top 20 rows\n",
      "\n"
     ]
    }
   ],
   "source": [
    "merged = (merged\n",
    "          .withColumn('idex', func.expr(expr_idex))\n",
    "         )\n",
    "merged.show()"
   ]
  },
  {
   "cell_type": "code",
   "execution_count": 33,
   "id": "c57919b3-63ec-4e3c-aec6-56a0a5db1e01",
   "metadata": {},
   "outputs": [],
   "source": [
    "merged.write.mode('overwrite').parquet('file:\\\\' + save_path + 'french_inst_type_w_idex.parquet')"
   ]
  },
  {
   "cell_type": "markdown",
   "id": "96b7bb8a-5583-4b99-9244-c0288f36f577",
   "metadata": {},
   "source": [
    "# Get all institutions from OpenAlex"
   ]
  },
  {
   "cell_type": "code",
   "execution_count": 75,
   "id": "cce974af-8107-46c5-b8b3-55ed74dd3e8e",
   "metadata": {},
   "outputs": [],
   "source": [
    "\n",
    "recoding= {   'I118618916'  :  \"I899635006\",\n",
    "              \"I36085230\"   :  \"I899635006\",\n",
    "              \"I177483745\"  :  \"I899635006\",\n",
    "              \"I4210103002\" :  \"I198244214\",\n",
    "              \"I4210143836\" :  \"I198244214\",\n",
    "              \"I184646667\"  :  \"I39804081\",\n",
    "              \"I102197404\"  :  \"I277688954\",\n",
    "              'I7171862'    :  \"I2279609970\",\n",
    "              \"I59807433\"   :  \"I2279609970\",\n",
    "              \"I2800379142\" :  \"I4210154111\",\n",
    "              \"I3123023596\" : \"I56067802\",\n",
    "              \"I4210095130\" : \"I208215962\" \n",
    "          #  , \"I4210140029\": \"I197518295\"\n",
    "}\n",
    "recoding = spark.sparkContext.broadcast(recoding)\n",
    "def recoding_univ(x):\n",
    "    if x in list(recoding.keys()):\n",
    "        return(recoding[x])\n",
    "    else:\n",
    "        return x\n",
    "udf_recoding_univ = func.udf(recoding_univ, StringType())\n",
    "list_fused = [\"I21491767\",\"I198244214\",\"I4210142324\",\n",
    "                \"I899635006\",\"I899635006\",\"I39804081\",\n",
    "                \"I201841394\",\"I4210154111\",\"I204730241\",\"I15057530\",\n",
    "                \"I277688954\",\"I68947357\",\"I2279609970\",\"I19894307\"]\n",
    "list_non_fr_non_uni_pub = ['I3131573726','I4210086079',\n",
    "                             \"I24240610\",\"I16465266\",'I35298706',\n",
    "                             \"I4210134562\",\"I185839726\",\"I4210143169\",\n",
    "                             \"I4210127465\",\"I10342815\",\n",
    "                             \"I57206974\",\"I193291145\",\"I4210163862\",\"I124357947\",\n",
    "                             \"I97565354\"]"
   ]
  },
  {
   "cell_type": "code",
   "execution_count": 76,
   "id": "deb8ce23-f09d-453f-b247-339066ab2207",
   "metadata": {},
   "outputs": [],
   "source": [
    "french_inst_type_w_idex = spark.read.parquet('file:\\\\' + save_path + 'french_inst_type_w_idex.parquet')"
   ]
  },
  {
   "cell_type": "code",
   "execution_count": 77,
   "id": "8e264243-d358-4b04-9351-4489c0d1c4c7",
   "metadata": {},
   "outputs": [],
   "source": [
    "idex_index = {\n",
    "        row['idex'] : list(set(row['inst_id'] + idex[row['idex']]))  for row in french_inst_type_w_idex.groupBy('idex').agg(func.collect_set('inst_id').alias('inst_id')).collect()\n",
    "}\n",
    "type_index = {\n",
    "        row['type'] : row['inst_id'] for row in french_inst_type_w_idex.groupBy('type').agg(func.collect_set('inst_id').alias('inst_id')).collect()\n",
    "}\n",
    "secteur_index = {\n",
    "        row['secteur'] : row['inst_id'] for row in french_inst_type_w_idex.groupBy('secteur').agg(func.collect_set('inst_id').alias('inst_id')).collect()\n",
    "}\n",
    "expr_idex  = \"CASE WHEN \" + ' WHEN '.join([( \"inst_id IN ('\" + \"' , '\".join(item[1])  + \"')\" + \n",
    "                                                     \" OR arrays_overlap(parent.parent_id, array('\" + \"','\".join(item[1]) + \"'))\"  +\n",
    "                                                     \" THEN '\" + item[0] +\"'\") for item in idex_index.items()]) + \" ELSE  'no_idex' END\"\n",
    "expr_type  = \"CASE WHEN \" + ' WHEN '.join([( \"inst_id IN ('\" + \"' , '\".join(item[1])  + \"')\" + \n",
    "                                                     \" OR arrays_overlap(parent.parent_id, array('\" + \"','\".join(item[1]) + \"'))\"  +\n",
    "                                                     \" THEN '\" + item[0] +\"'\") for item in type_index.items()]) + \" ELSE  'undefined' END\"\n",
    "expr_secteur  = \"CASE WHEN \" + ' WHEN '.join([( \"inst_id IN ('\" + \"' , '\".join(item[1])  + \"')\" + \n",
    "                                                     \" OR arrays_overlap(parent.parent_id, array('\" + \"','\".join(item[1]) + \"'))\"  +\n",
    "                                                     \" THEN '\" + item[0] +\"'\") for item in secteur_index.items()]) + \" ELSE  'undefined' END\""
   ]
  },
  {
   "cell_type": "code",
   "execution_count": 95,
   "id": "95ed69dd-cc69-4f64-b5c1-1dd02fd1ee26",
   "metadata": {
    "scrolled": true
   },
   "outputs": [
    {
     "name": "stdout",
     "output_type": "stream",
     "text": [
      "+-----------+-------------------------------------------------------------------------------+----------+--------------+---------------------------------------------------------------------------------------------------------------------------------------------------------+---------------------+--------------------------------------------------------------------------------------------------------------------------------------------------------------------------------------------------------------------------------------------------------------------------------------------------------------------------------------------------------------------------------------------+-----+-------+----+\n",
      "|inst_id    |name                                                                           |type      |city          |topic_share                                                                                                                                              |main_topic           |parent                                                                                                                                                                                                                                                                                                                                                                                      |fused|uni_pub|cnrs|\n",
      "+-----------+-------------------------------------------------------------------------------+----------+--------------+---------------------------------------------------------------------------------------------------------------------------------------------------------+---------------------+--------------------------------------------------------------------------------------------------------------------------------------------------------------------------------------------------------------------------------------------------------------------------------------------------------------------------------------------------------------------------------------------+-----+-------+----+\n",
      "|I193033237 |Institut Superieur de l'Aeronautique et de l'Espace (ISAE-SUPAERO)             |education |Toulouse      |[{Engineering, 0.014542599999999998}]                                                                                                                    |Engineering          |[{I17866349, Université de Toulouse, education}]                                                                                                                                                                                                                                                                                                                                            |0    |1      |0   |\n",
      "|I4210085936|LABCATAL (France)                                                              |company   |Montrouge     |[{Medicine, 1.6759999999999998E-4}, {Nursing, 1.248E-4}]                                                                                                 |Medicine             |[{I4210085936, LABCATAL (France), company}]                                                                                                                                                                                                                                                                                                                                                 |0    |0      |0   |\n",
      "|I4210090216|Laboratoire de la Mer                                                          |facility  |St-Malo       |[{Arts and Humanities, 6.75E-5}, {Medicine, 9.250000000000001E-5}, {Biochemistry, Genetics and Molecular Biology, 5.87E-5}]                              |Medicine             |[{I4210090216, Laboratoire de la Mer, facility}]                                                                                                                                                                                                                                                                                                                                            |0    |0      |0   |\n",
      "|I4210096859|Centre Nouvelle Aquitaine-Bordeaux                                             |facility  |Bordeaux      |[{Environmental Science, 1.0809999999999998E-4}, {Medicine, 7.5E-5}]                                                                                     |Environmental Science|[{I4210088668, Institut National de Recherche pour l'Agriculture, l'Alimentation et l'Environnement, government}]                                                                                                                                                                                                                                                                           |0    |0      |0   |\n",
      "|I4210101037|Laboratoire de Physico-Chimie de l'Atmosphère                                  |facility  |Dunkirk       |[{Earth and Planetary Sciences, 0.0017094999999999999}, {Environmental Science, 0.0022707}, {Chemistry, 0.0026539000000000003}, {Engineering, 0.0020765}]|Chemistry            |[{I4210137101, Délégation Nord, Pas-de-Calais et Picardie, government}, {I2802487185, Université du littoral côte d'opale, education}]                                                                                                                                                                                                                                                      |0    |1      |0   |\n",
      "|I4210106601|Virtual Open Systems (France)                                                  |company   |Grenoble      |[{Computer Science, 8.672999999999999E-4}]                                                                                                               |Computer Science     |[{I4210106601, Virtual Open Systems (France), company}]                                                                                                                                                                                                                                                                                                                                     |0    |0      |0   |\n",
      "|I4210110495|Institut de Neurosciences des Systèmes                                         |facility  |Marseille     |[{Neuroscience, 0.0077102}]                                                                                                                              |Neuroscience         |[{I21491767, Aix-Marseille Université, education}, {I4210087487, Assistance Publique Hôpitaux de Marseille, healthcare}, {I154526488, Inserm, government}]                                                                                                                                                                                                                                  |1    |1      |0   |\n",
      "|I4210111182|Impeto Medical (France)                                                        |company   |Paris         |[{Medicine, 1.516E-4}]                                                                                                                                   |Medicine             |[{I4210111182, Impeto Medical (France), company}]                                                                                                                                                                                                                                                                                                                                           |0    |0      |0   |\n",
      "|I4210115196|Laboratoire d’Informatique Fondamentale de Marseille                           |facility  |Marseille     |[{Computer Science, 0.0168505}]                                                                                                                          |Computer Science     |[{I21491767, Aix-Marseille Université, education}, {I4210142724, Centrale Marseille, education}, {I4210159245, Institut des Sciences de l'Information et de leurs Interactions, government}]                                                                                                                                                                                                |1    |1      |1   |\n",
      "|I4210131541|ACIES Consulting Group                                                         |other     |Lyon          |[{NULL, NULL}]                                                                                                                                           |                     |[{I4210131541, ACIES Consulting Group, other}]                                                                                                                                                                                                                                                                                                                                              |0    |0      |0   |\n",
      "|I4210134103|Total (Czechia)                                                                |company   |Prague        |[{Pharmacology, Toxicology and Pharmaceutics, 6.95E-5}, {Social Sciences, 9.88E-5}, {Chemistry, 1.293E-4}]                                               |Chemistry            |[{I103084370, Total (France), company}]                                                                                                                                                                                                                                                                                                                                                     |0    |0      |0   |\n",
      "|I4210134453|Fondation ARCAD                                                                |nonprofit |Paris         |[{Medicine, 2.139E-4}]                                                                                                                                   |Medicine             |[{I4210134453, Fondation ARCAD, nonprofit}]                                                                                                                                                                                                                                                                                                                                                 |0    |0      |0   |\n",
      "|I4210134684|Ferring Pharmaceuticals (France)                                               |company   |Gentilly      |[{Medicine, 3.8860000000000007E-4}]                                                                                                                      |Medicine             |[{I22138158, Ferring Pharmaceuticals (Switzerland), company}]                                                                                                                                                                                                                                                                                                                               |0    |0      |0   |\n",
      "|I4210141217|Vizion’R                                                                       |other     |Paris         |[{NULL, NULL}]                                                                                                                                           |                     |[{I4210141217, Vizion’R, other}]                                                                                                                                                                                                                                                                                                                                                            |0    |0      |0   |\n",
      "|I4210141565|Institut de Chimie Organique et Analytique                                     |facility  |Orléans       |[{Chemistry, 0.010318800000000001}]                                                                                                                      |Chemistry            |[{I2738703131, Commissariat à l'Énergie Atomique et aux Énergies Alternatives, government}, {I4210128300, Institut de Chimie, facility}, {I12449238, Université d'Orléans, education}]                                                                                                                                                                                                      |0    |1      |1   |\n",
      "|I4210152014|Hôpital Georges-Clemenceau                                                     |healthcare|Champcueil    |[{Medicine, 0.002595000000000001}]                                                                                                                       |Medicine             |[{I4210130325, Hôpitaux Universitaires Henri-Mondor, healthcare}]                                                                                                                                                                                                                                                                                                                           |0    |0      |0   |\n",
      "|I4210156974|Histoire, Archéologie, Littératures des Mondes Chrétiens et Musulmans Médiévaux|facility  |Lyon          |[{Arts and Humanities, 0.0075974}, {Social Sciences, 0.004702500000000001}]                                                                              |Arts and Humanities  |[{I4210150854, Institut des Sciences Humaines et Sociales, government}, {I874609350, Université Jean Moulin Lyon III, education}, {I188626449, Université Lumière Lyon 2, education}, {I198415970, Université d'Avignon et des Pays de Vaucluse, education}, {I113428412, École Normale Supérieure de Lyon, education}, {I90669466, École des hautes études en sciences sociales, facility}]|0    |1      |1   |\n",
      "|I4387152196|Immunologie intégrative des tumeurs et immunothérapie du cancer                |facility  |Villejuif     |[{NULL, NULL}]                                                                                                                                           |                     |[{I4387152196, Immunologie intégrative des tumeurs et immunothérapie du cancer, facility}]                                                                                                                                                                                                                                                                                                  |0    |0      |0   |\n",
      "|I4387153895|Maison des Sciences de l'Homme Paris Nord                                      |facility  |Saint-Denis   |[{NULL, NULL}]                                                                                                                                           |                     |[{I4387153895, Maison des Sciences de l'Homme Paris Nord, facility}]                                                                                                                                                                                                                                                                                                                        |0    |0      |0   |\n",
      "|I4387154672|Laboratoire Méthodes Formelles                                                 |facility  |Gif-sur-Yvette|[{NULL, NULL}]                                                                                                                                           |                     |[{I4387154672, Laboratoire Méthodes Formelles, facility}]                                                                                                                                                                                                                                                                                                                                   |0    |0      |0   |\n",
      "+-----------+-------------------------------------------------------------------------------+----------+--------------+---------------------------------------------------------------------------------------------------------------------------------------------------------+---------------------+--------------------------------------------------------------------------------------------------------------------------------------------------------------------------------------------------------------------------------------------------------------------------------------------------------------------------------------------------------------------------------------------+-----+-------+----+\n",
      "only showing top 20 rows\n",
      "\n"
     ]
    }
   ],
   "source": [
    "inst = (df_inst\n",
    "        .filter( (func.col('geo.country_code')==\"FR\" ) |\n",
    "                (func.array_distinct(func.col('associated_institutions.country_code')) == func.array([func.lit('FR')]))\n",
    "              | (func.col('homepage_url').rlike(\"\\.fr$|\\.fr/\"))\n",
    "                              | ( (func.col('geo.country_code').isNull() )& (func.col('homepage_url').rlike(\"\\.fr$|\\.fr/\")))\n",
    "                              | ( (func.col('geo.country_code').isNull() )& (func.array_distinct(func.col('associated_institutions.country_code')) == func.array([func.lit('FR')])))\n",
    "               )\n",
    "        .select(func.regexp_replace(func.col('id'), 'https://openalex.org/', '').alias('inst_id'), func.col('display_name').alias('name'),\n",
    "                'type', 'geo.city','associated_institutions','topic_share')\n",
    "\n",
    "        .withColumn('topic_share', func.explode_outer(func.transform(func.col('topic_share'), lambda x: func.struct(x.field.display_name.alias('field'), x.value.alias('value')))))\n",
    "        .groupBy(\"inst_id\", \"name\",\n",
    "                'type', 'city','associated_institutions', 'topic_share.field')\n",
    "        .agg(func.sum('topic_share.value').alias('value'))\n",
    "        .withColumn('max_share', func.max(func.col('value')).over(Window.partitionBy('inst_id')))\n",
    "        .filter( (func.col('value')>=0.5*func.col('max_share')) | (func.col('max_share').isNull()))\n",
    "        .withColumn('topic_share', func.collect_set(func.struct(func.col('field').alias('field'), func.col('value').alias('share'))).over(Window.partitionBy('inst_id')))\n",
    "        .withColumn('main_topic', func.concat_ws(',', func.array_except(\n",
    "            func.collect_set( func.when(func.col('value')==func.col('max_share'), func.col('field'))).over(Window.partitionBy('inst_id')), func.array([func.lit(None)]) )))\n",
    "        .drop('max_share','field','value')\n",
    "        .distinct()\n",
    "        .withColumn('parent', func.array_except(func.transform(func.col('associated_institutions'), lambda x: func.when(x.relationship == 'parent', x)) , func.array([func.lit(None)]) ))\n",
    "        .withColumn('parent', func.transform(func.col('parent'), lambda x : func.struct(func.regexp_replace(x.id, 'https://openalex.org/', '').alias('parent_id'),\n",
    "                      x.display_name.alias('parent_name'),\n",
    "                      x.type.alias('parent_type'))))\n",
    "        .drop('associated_institutions')\n",
    "        .withColumn('fused', (func.col('inst_id').isin(list_fused)).cast('int'))\n",
    "        .withColumn('fused', (func.arrays_overlap(func.col('parent.parent_id'), func.array([func.lit(fused_uni) for fused_uni in list_fused]) ) ).cast('int'))\n",
    "        .withColumn('uni_pub', \n",
    "                  (  ( ( func.col('type') == \"education\")\n",
    "                    & (func.lower(func.col('name')).contains('universit'))\n",
    "                    & ~(func.lower(func.col('name')).contains('catholi'))\n",
    "                     & ~ (func.col('inst_id').isin(list_non_fr_non_uni_pub))\n",
    "                    )\n",
    "                        |\n",
    "                    (\n",
    "                    (func.array_contains(func.col('parent.parent_type'), 'education'))\n",
    "                    & ~(func.arrays_overlap(func.col('parent.parent_id'),func.array([func.lit(fused_uni) for fused_uni in list_non_fr_non_uni_pub])))\n",
    "                    & (func.array_max(func.transform(func.col('parent.parent_name'), lambda x : func.when(func.lower(x).contains('universit'), 1))) ==1)\n",
    "                    & (func.array_max(func.transform(func.col('parent.parent_name'), lambda x : func.when(func.lower(x).contains('catholic'), 1)\n",
    "                                                    .otherwise(0))) ==0)\n",
    "                    )\n",
    "                    ).cast('int')\n",
    "                   )\n",
    "        .fillna(0, subset = ['fused','uni_pub'])\n",
    "       )\n",
    "cnrs_descendants = [row[0] for row in inst.filter((func.array_contains(func.col('parent.parent_id'),'I1294671590')\n",
    "                                                   | (func.col('inst_id')==\"I1294671590\") )).select('inst_id').collect()\n",
    "                   ] + ['I1294671590', 'I57995698']\n",
    "\n",
    "inst = (inst\n",
    "        .withColumn('cnrs', ( (func.col('inst_id').isin(cnrs_descendants) )\n",
    "                             | (func.arrays_overlap(func.col('parent.parent_id'), func.array( [func.lit(el) for el in cnrs_descendants] )))\n",
    "                             | (func.array_max(func.transform(func.col('parent.parent_name'), lambda x: x.contains('CNRS').cast('int'))) ==1)\n",
    "                            ).cast('int')\n",
    "                   )\n",
    "        .fillna(0, subset = ['cnrs'])\n",
    "        .withColumn('parent', func.when( (func.col('parent').isNull() ) | (func.col('parent') == func.array([])), func.array(func.struct(func.col('inst_id').alias('parent_id'),\n",
    "                                                                                           func.col('name').alias('parent_name'),\n",
    "                                                                                           func.col('type').alias('parent_type'))))\n",
    "                              .otherwise(func.col('parent'))\n",
    "        \n",
    "       )\n",
    "             #     .withColumn('parent',func.to_json(func.col('parent')))\n",
    "        \n",
    "       )\n",
    "inst.cache()\n",
    "inst.show(truncate = False)"
   ]
  },
  {
   "cell_type": "code",
   "execution_count": 96,
   "id": "56a35589-80fd-44c5-ae3a-1f90b7a18dc0",
   "metadata": {},
   "outputs": [
    {
     "data": {
      "text/plain": [
       "5106"
      ]
     },
     "execution_count": 96,
     "metadata": {},
     "output_type": "execute_result"
    }
   ],
   "source": [
    "inst.count() #  5106\n"
   ]
  },
  {
   "cell_type": "code",
   "execution_count": 97,
   "id": "4cc7b84f-97de-4024-9536-1bf745746f31",
   "metadata": {
    "scrolled": true
   },
   "outputs": [
    {
     "name": "stdout",
     "output_type": "stream",
     "text": [
      "+-----------+-------------------------------------------------------------------------------+----------+--------------+---------------------------------------------------------------------------------------------------------------------------------------------------------+---------------------+--------------------------------------------------------------------------------------------------------------------------------------------------------------------------------------------------------------------------------------------------------------------------------------------------------------------------------------------------------------------------------------------+-----+-------+----+---------------------+----------+---------+\n",
      "|inst_id    |name                                                                           |type      |city          |topic_share                                                                                                                                              |main_topic           |parent                                                                                                                                                                                                                                                                                                                                                                                      |fused|uni_pub|cnrs|idex                 |type_fr   |secteur  |\n",
      "+-----------+-------------------------------------------------------------------------------+----------+--------------+---------------------------------------------------------------------------------------------------------------------------------------------------------+---------------------+--------------------------------------------------------------------------------------------------------------------------------------------------------------------------------------------------------------------------------------------------------------------------------------------------------------------------------------------------------------------------------------------+-----+-------+----+---------------------+----------+---------+\n",
      "|I193033237 |Institut Superieur de l'Aeronautique et de l'Espace (ISAE-SUPAERO)             |education |Toulouse      |[{Engineering, 0.014542599999999998}]                                                                                                                    |Engineering          |[{I17866349, Université de Toulouse, education}]                                                                                                                                                                                                                                                                                                                                            |0    |1      |0   |idex_annulee_toulouse|Université|public   |\n",
      "|I4210085936|LABCATAL (France)                                                              |company   |Montrouge     |[{Medicine, 1.6759999999999998E-4}, {Nursing, 1.248E-4}]                                                                                                 |Medicine             |[{I4210085936, LABCATAL (France), company}]                                                                                                                                                                                                                                                                                                                                                 |0    |0      |0   |no_idex              |Firme     |privé    |\n",
      "|I4210090216|Laboratoire de la Mer                                                          |facility  |St-Malo       |[{Arts and Humanities, 6.75E-5}, {Medicine, 9.250000000000001E-5}, {Biochemistry, Genetics and Molecular Biology, 5.87E-5}]                              |Medicine             |[{I4210090216, Laboratoire de la Mer, facility}]                                                                                                                                                                                                                                                                                                                                            |0    |0      |0   |no_idex              |undefined |undefined|\n",
      "|I4210096859|Centre Nouvelle Aquitaine-Bordeaux                                             |facility  |Bordeaux      |[{Environmental Science, 1.0809999999999998E-4}, {Medicine, 7.5E-5}]                                                                                     |Environmental Science|[{I4210088668, Institut National de Recherche pour l'Agriculture, l'Alimentation et l'Environnement, government}]                                                                                                                                                                                                                                                                           |0    |0      |0   |idex_paris_saclay    |undefined |public   |\n",
      "|I4210101037|Laboratoire de Physico-Chimie de l'Atmosphère                                  |facility  |Dunkirk       |[{Earth and Planetary Sciences, 0.0017094999999999999}, {Environmental Science, 0.0022707}, {Chemistry, 0.0026539000000000003}, {Engineering, 0.0020765}]|Chemistry            |[{I4210137101, Délégation Nord, Pas-de-Calais et Picardie, government}, {I2802487185, Université du littoral côte d'opale, education}]                                                                                                                                                                                                                                                      |0    |1      |0   |no_idex              |Université|public   |\n",
      "|I4210106601|Virtual Open Systems (France)                                                  |company   |Grenoble      |[{Computer Science, 8.672999999999999E-4}]                                                                                                               |Computer Science     |[{I4210106601, Virtual Open Systems (France), company}]                                                                                                                                                                                                                                                                                                                                     |0    |0      |0   |no_idex              |Firme     |privé    |\n",
      "|I4210110495|Institut de Neurosciences des Systèmes                                         |facility  |Marseille     |[{Neuroscience, 0.0077102}]                                                                                                                              |Neuroscience         |[{I21491767, Aix-Marseille Université, education}, {I4210087487, Assistance Publique Hôpitaux de Marseille, healthcare}, {I154526488, Inserm, government}]                                                                                                                                                                                                                                  |1    |1      |0   |idex_aix_marseille   |Université|public   |\n",
      "|I4210111182|Impeto Medical (France)                                                        |company   |Paris         |[{Medicine, 1.516E-4}]                                                                                                                                   |Medicine             |[{I4210111182, Impeto Medical (France), company}]                                                                                                                                                                                                                                                                                                                                           |0    |0      |0   |no_idex              |Firme     |privé    |\n",
      "|I4210115196|Laboratoire d’Informatique Fondamentale de Marseille                           |facility  |Marseille     |[{Computer Science, 0.0168505}]                                                                                                                          |Computer Science     |[{I21491767, Aix-Marseille Université, education}, {I4210142724, Centrale Marseille, education}, {I4210159245, Institut des Sciences de l'Information et de leurs Interactions, government}]                                                                                                                                                                                                |1    |1      |1   |idex_aix_marseille   |Université|public   |\n",
      "|I4210131541|ACIES Consulting Group                                                         |other     |Lyon          |[{NULL, NULL}]                                                                                                                                           |                     |[{I4210131541, ACIES Consulting Group, other}]                                                                                                                                                                                                                                                                                                                                              |0    |0      |0   |no_idex              |undefined |undefined|\n",
      "|I4210134103|Total (Czechia)                                                                |company   |Prague        |[{Pharmacology, Toxicology and Pharmaceutics, 6.95E-5}, {Social Sciences, 9.88E-5}, {Chemistry, 1.293E-4}]                                               |Chemistry            |[{I103084370, Total (France), company}]                                                                                                                                                                                                                                                                                                                                                     |0    |0      |0   |no_idex              |Firme     |privé    |\n",
      "|I4210134453|Fondation ARCAD                                                                |nonprofit |Paris         |[{Medicine, 2.139E-4}]                                                                                                                                   |Medicine             |[{I4210134453, Fondation ARCAD, nonprofit}]                                                                                                                                                                                                                                                                                                                                                 |0    |0      |0   |no_idex              |undefined |privé    |\n",
      "|I4210134684|Ferring Pharmaceuticals (France)                                               |company   |Gentilly      |[{Medicine, 3.8860000000000007E-4}]                                                                                                                      |Medicine             |[{I22138158, Ferring Pharmaceuticals (Switzerland), company}]                                                                                                                                                                                                                                                                                                                               |0    |0      |0   |no_idex              |Firme     |privé    |\n",
      "|I4210141217|Vizion’R                                                                       |other     |Paris         |[{NULL, NULL}]                                                                                                                                           |                     |[{I4210141217, Vizion’R, other}]                                                                                                                                                                                                                                                                                                                                                            |0    |0      |0   |no_idex              |undefined |undefined|\n",
      "|I4210141565|Institut de Chimie Organique et Analytique                                     |facility  |Orléans       |[{Chemistry, 0.010318800000000001}]                                                                                                                      |Chemistry            |[{I2738703131, Commissariat à l'Énergie Atomique et aux Énergies Alternatives, government}, {I4210128300, Institut de Chimie, facility}, {I12449238, Université d'Orléans, education}]                                                                                                                                                                                                      |0    |1      |1   |no_idex              |Université|public   |\n",
      "|I4210152014|Hôpital Georges-Clemenceau                                                     |healthcare|Champcueil    |[{Medicine, 0.002595000000000001}]                                                                                                                       |Medicine             |[{I4210130325, Hôpitaux Universitaires Henri-Mondor, healthcare}]                                                                                                                                                                                                                                                                                                                           |0    |0      |0   |no_idex              |undefined |public   |\n",
      "|I4210156974|Histoire, Archéologie, Littératures des Mondes Chrétiens et Musulmans Médiévaux|facility  |Lyon          |[{Arts and Humanities, 0.0075974}, {Social Sciences, 0.004702500000000001}]                                                                              |Arts and Humanities  |[{I4210150854, Institut des Sciences Humaines et Sociales, government}, {I874609350, Université Jean Moulin Lyon III, education}, {I188626449, Université Lumière Lyon 2, education}, {I198415970, Université d'Avignon et des Pays de Vaucluse, education}, {I113428412, École Normale Supérieure de Lyon, education}, {I90669466, École des hautes études en sciences sociales, facility}]|0    |1      |1   |idex_annulee_lyon    |Université|public   |\n",
      "|I4387152196|Immunologie intégrative des tumeurs et immunothérapie du cancer                |facility  |Villejuif     |[{NULL, NULL}]                                                                                                                                           |                     |[{I4387152196, Immunologie intégrative des tumeurs et immunothérapie du cancer, facility}]                                                                                                                                                                                                                                                                                                  |0    |0      |0   |no_idex              |undefined |undefined|\n",
      "|I4387153895|Maison des Sciences de l'Homme Paris Nord                                      |facility  |Saint-Denis   |[{NULL, NULL}]                                                                                                                                           |                     |[{I4387153895, Maison des Sciences de l'Homme Paris Nord, facility}]                                                                                                                                                                                                                                                                                                                        |0    |0      |0   |no_idex              |undefined |public   |\n",
      "|I4387154672|Laboratoire Méthodes Formelles                                                 |facility  |Gif-sur-Yvette|[{NULL, NULL}]                                                                                                                                           |                     |[{I4387154672, Laboratoire Méthodes Formelles, facility}]                                                                                                                                                                                                                                                                                                                                   |0    |0      |0   |no_idex              |undefined |undefined|\n",
      "+-----------+-------------------------------------------------------------------------------+----------+--------------+---------------------------------------------------------------------------------------------------------------------------------------------------------+---------------------+--------------------------------------------------------------------------------------------------------------------------------------------------------------------------------------------------------------------------------------------------------------------------------------------------------------------------------------------------------------------------------------------+-----+-------+----+---------------------+----------+---------+\n",
      "only showing top 20 rows\n",
      "\n"
     ]
    }
   ],
   "source": [
    "inst = (inst\n",
    "        .withColumn('idex', func.expr(expr_idex))\n",
    "        .withColumn('type_fr', func.expr(expr_type))\n",
    "        .withColumn('type_fr', func.when(func.col('type_fr')!='undefined', func.col('type_fr'))\n",
    "                    .when(func.col('uni_pub')==1, \"Université\")\n",
    "                    .when((func.col('uni_pub')==0) & (func.col('type')==\"education\"), \"École\")\n",
    "                    .when((func.col('name').rlike('École')), \"École\")\n",
    "                    .when(func.col('type')==\"company\", \"Firme\")\n",
    "                    .otherwise('undefined')\n",
    "                   )\n",
    "        .withColumn('secteur', func.expr(expr_secteur))\n",
    "        .withColumn('secteur', func.when(func.col('secteur')!='undefined', func.col('secteur'))\n",
    "                    .when(func.lower(func.col('name')).rlike(\"de france|établissement français|public|publique\"),'public')\n",
    "                    .when(func.lower(func.col('name')).rlike('privé'), 'privé')\n",
    "                    .when( (func.col('uni_pub')==1) | (func.col('type')==\"government\"), \"public\")\n",
    "                    .when(func.col('type').isin([\"company\",\"nonprofit\"]), \"privé\")\n",
    "                    .when((func.col('type')==\"facility\") & \n",
    "                          (func.lower(func.col('name')).rlike('observatoire|sorbonne|maison des sciences')), \"public\")\n",
    "\n",
    "                    .when((func.col('type_fr')==\"École\") & \n",
    "                          (func.lower(func.col('name')).rlike('national|école normale|école supérieure|académie de|lycée|school of economics|chimie paris|télécom|mines|institut universitaire|ens|purpan|institut français|collège|obs')), \"public\")\n",
    "                    .when((func.col('type_fr')==\"École\") , \"privé\")\n",
    "                    .when( (func.col('type')==\"healthcare\")  & ( (func.lower(func.concat_ws(',', func.col('parent.parent_name'))).rlike('niversit|militaire|armée|national'))\n",
    "                                                              | (func.col('name').contains('Centre Hospitalier')) ) , \"public\")\n",
    "                    .when( (func.col('type')==\"healthcare\")  &(func.lower(func.concat_ws(',', func.col('parent.parent_name'))).rlike('clinique')), \"privé\")\n",
    "\n",
    "                    .when( (func.concat_ws(',', func.col('parent.parent_name')).rlike('National|Publi|Ministère'))  | (func.concat_ws(',', func.col('parent.parent_type')).rlike('government')), \"public\")\n",
    "                    .when(func.col('name').rlike('Fondation|Association'), 'privé')\n",
    "                    .otherwise('undefined')\n",
    "                   )\n",
    "       )\n",
    "inst.show(truncate = False)"
   ]
  },
  {
   "cell_type": "code",
   "execution_count": null,
   "id": "bb4f6097-6751-4f7b-a390-6b2d512e49d8",
   "metadata": {},
   "outputs": [],
   "source": []
  },
  {
   "cell_type": "code",
   "execution_count": null,
   "id": "be223897-84d5-47e2-b223-cf59398ef318",
   "metadata": {},
   "outputs": [],
   "source": [
    "inst.write.mode('overwrite').parquet('file:\\\\' + save_path + 'inst_fr.parquet')"
   ]
  },
  {
   "cell_type": "markdown",
   "id": "b108029f-4d8a-4088-9a1e-50498fe9f751",
   "metadata": {},
   "source": [
    "# Classify all public labs"
   ]
  },
  {
   "cell_type": "code",
   "execution_count": 42,
   "id": "9dc4f9e3-87c1-42c8-9425-375a4a77ab23",
   "metadata": {},
   "outputs": [],
   "source": [
    "inst = spark.read.parquet('file:\\\\' + save_path + 'inst_fr.parquet')"
   ]
  },
  {
   "cell_type": "code",
   "execution_count": 43,
   "id": "ea72b76b-97fa-461b-9ba1-025f551431df",
   "metadata": {},
   "outputs": [
    {
     "data": {
      "text/plain": [
       "1395"
      ]
     },
     "execution_count": 43,
     "metadata": {},
     "output_type": "execute_result"
    }
   ],
   "source": [
    "inst.filter(func.col('type') == \"facility\").count()"
   ]
  },
  {
   "cell_type": "code",
   "execution_count": null,
   "id": "7d7376ec-1edb-49c9-a878-8ba1ce84714e",
   "metadata": {},
   "outputs": [],
   "source": []
  },
  {
   "cell_type": "code",
   "execution_count": 39,
   "id": "f90e38ae-e9ea-45a9-af8c-3f771f441593",
   "metadata": {},
   "outputs": [],
   "source": [
    "public_labs = spark.read.option(\"multiline\",\"true\").json('file:\\\\' + scanR_path + '\\\\fr-esr-structures-recherche-publiques-actives.json')\n"
   ]
  },
  {
   "cell_type": "code",
   "execution_count": 41,
   "id": "8ecd2d0e-687f-4ada-bbc3-e94d4a23ff2b",
   "metadata": {
    "scrolled": true
   },
   "outputs": [
    {
     "name": "stdout",
     "output_type": "stream",
     "text": [
      "+--------------------+------------------------+-----------------+-------------------------+---------------------------+-------------------------+--------------------------+-----------------------+-------------------------+-------------------+-----------+--------------------+--------------------+--------------------+--------------------+--------------------+--------------------+--------------------+--------------------------+------------------------------+--------------------------+----------------------------+--------------------+---------------------+----------+--------------------+--------------------+--------------------+--------------------+--------------------+--------------------+--------------------+--------------------+--------------------+\n",
      "|             adresse|annee_d_effet_historique|annee_de_creation|code_de_nature_de_tutelle|code_de_niveau_de_structure|code_de_type_de_structure|code_de_type_de_succession|code_de_type_de_tutelle|code_domaine_scientifique|     code_panel_erc|code_postal|             commune|domaine_scientifique|          fiche_rnsr|        label_numero|             libelle|   nature_de_tutelle|  nom_du_responsable|numero_de_structure_enfant|numero_de_structure_historique|numero_de_structure_parent|numero_national_de_structure|           panel_erc|prenom_du_responsable|     sigle| sigles_des_tutelles|  siret_des_tutelles|            site_web|titre_du_responsable|            tutelles|   type_de_structure|  type_de_succession|     type_de_tutelle|    uai_des_tutelles|\n",
      "+--------------------+------------------------+-----------------+-------------------------+---------------------------+-------------------------+--------------------------+-----------------------+-------------------------+-------------------+-----------+--------------------+--------------------+--------------------+--------------------+--------------------+--------------------+--------------------+--------------------------+------------------------------+--------------------------+----------------------------+--------------------+---------------------+----------+--------------------+--------------------+--------------------+--------------------+--------------------+--------------------+--------------------+--------------------+--------------------+\n",
      "|43 Boulevard du 1...|                    NULL|             2007|     [UNIV, AUT_ETAB, ...|                          3|                        3|                      NULL|   [TUTE, TUTE, TUTE...|                      [4]|                PE5|      69622|  VILLEURBANNE CEDEX|            [Chimie]|https://appliweb....|[, , FR 3023, , F...|INSTITUT DE CHIMI...|[Université, Autr...|[PINEL, ANDRIOLETTI]|      [202123703C, 2013...|                          NULL|                      NULL|                  200710696A|[Synthetic Chemis...|   [Catherine, Bruno]|       ICL|[SAINT-ETIENNE, I...|[19421095100423, ...|http://www.iclyon...|[Directrice adjoi...|[Université Jean ...|Structures Fédéra...|                NULL|[établissement tu...|[0421095M, 069019...|\n",
      "|                NULL|                    NULL|             2008|         [UNIV, AUT_ETAB]|                          3|                        3|                      NULL|           [TUTE, PART]|                      [7]|                SH2|      13628|AIX EN PROVENCE C...|[Sciences de la s...|https://appliweb....|        [FED 4280, ]|Droits, Pouvoirs ...|[Université, Autr...|           [PERRIER]|              [202123701A]|                          NULL|                      NULL|                  200810699Z|[Institutions, Go...|      [Jean-Baptiste]|       DPS|[AIX-MARSEILLE, I...|[13001533200013, ...|                NULL|         [Directeur]|[Université Aix-M...|Structures Fédéra...|                NULL|[établissement tu...|[0134009M, 0130221V]|\n",
      "|    33 rue Saint Leu|                    NULL|             2008|                   [UNIV]|                          3|                        3|                      NULL|                 [TUTE]|                      [4]|               NULL|      80039|      AMIENS CEDEX 1|            [Chimie]|https://appliweb....|                NULL|Institut de Chimi...|        [Université]|[POURCEAU, BECUWE...|                      NULL|                          NULL|                      NULL|                  200810700A|                NULL| [Gwladys, Matthie...|      NULL|            [AMIENS]|    [19801344300017]|                NULL|[DIR-AJT, Directe...|[Université Picar...|Structures Fédéra...|                NULL|[établissement tu...|          [0801344B]|\n",
      "|6 avenue Victor l...|                    NULL|             2004|       [UNIV, EPST, UNIV]|                          2|                       22|                      NULL|     [TUTE, TUTE, PART]|                      [1]|                PE1|      29238|       BREST CEDEX 2|[Mathématiques et...|https://appliweb....|[UMR 6205, UMR 62...|LABORATOIRE DE MA...|[Université, Orga...|          [ROUSSEAU]|                      NULL|                          NULL|                      NULL|                  200412254G|[Mathematics : Al...|              [Erwan]|      LMBA|[BREST, CNRS, BRE...|[19290346600014, ...|http://www.math.u...|                NULL|[Université de Br...|         Unité mixte|                NULL|[établissement tu...|[0290346U, 075363...|\n",
      "|41 bis av. de l'O...|          2007;2007;2007|             2006|       [UNIV, EPST, SITE]|                          2|                       22|                     F;F;F|     [TUTE, TUTE, TUTE]|                [2, 3, 4]|PE3;PE2;PE4;PE5;PE9|      25000|            BESANCON|[Physique, Scienc...|https://appliweb....|[UMR 6213, UMR 62...|UNIVERS, TEMPS-FR...|[Université, Orga...|     [LAKARD, LAGES]|              [201120530X]|          [200012172K, 1996...|              [201120530X]|                  200712259Z|[Condensed matter...|        [Boris, José]|    UTINAM|[BESANCON, CNRS, ...|[19251215000363, ...|http://www.utinam...|      [DIR-ADJ, DIR]|[Université Franc...|         Unité mixte|fusion;fusion;fusion|[établissement tu...|[0251215K, 075363...|\n",
      "|2 rue de la Houss...|          2008;2008;2008|             2008|             [EPST, UNIV]|                          2|                       22|                     F;F;F|           [TUTE, TUTE]|                      [4]|               NULL|      44322|      NANTES CEDEX 3|            [Chimie]|https://appliweb....|[UMR 6230, UMR 6230]|CHIMIE ET INTERDI...|[Organismes de ty...|            [BOULER]|              [200810705F]|          [200012107P, 1996...|              [200810705F]|                  200812273K|                NULL|        [Jean-Michel]|    CEISAM|[CNRS, Nantes Uni...|[18008901303720, ...|http://www.scienc...|               [DIR]|[Centre national ...|         Unité mixte|fusion;fusion;fusion|[établissement tu...|[0753639Y, 0442953W]|\n",
      "|3 place Victor Hu...|                    NULL|             2001|     [UNIV, UNIV, EPST...|                          3|                        3|                      NULL|   [TUTE, TUTE, TUTE...|                   [1, 2]|               NULL|      13331|  MARSEILLE CEDEX 03|[Mathématiques et...|https://appliweb....|   [, , FR 2291, , ]|Fédération de rec...|[Université, Univ...|         [BORDENAVE]|      [201420768T, 2012...|                          NULL|                      NULL|                  200410654T|                NULL|            [Charles]|    FRUMAM|[TOULON, AU, CNRS...|[19830766200017, ...|                NULL|         [Directeur]|[Université de To...|Structures Fédéra...|                NULL|[établissement tu...|[0830766G, 084068...|\n",
      "|     1 rue de la Noë|                    NULL|             2002|     [UNIV, AUT_ETAB, ...|                          3|                        3|                      NULL|   [TUTE, TUTE, TUTE...|                   [6, 8]|               NULL|      44321|      NANTES CEDEX 3|[Sciences humaine...|https://appliweb....|[, , , , FR 2488,...|Institut de reche...|[Université, Autr...|[INARD, CALMET, M...|              [200817993C]|                          NULL|                      NULL|                  200610662T|                NULL| [Christian, Isabe...|     IRSTV|[LA ROCHELLE, EC....|[19170032700015, ...|https://irstv.ec-...|[DIR-ADJ, DIR-ADJ...|[Université La Ro...|Structures Fédéra...|                NULL|[établissement tu...|[0171463Y, 044010...|\n",
      "|118 Route de Narb...|                    NULL|             2003|     [AUT_ETAB, UNIV, ...|                          3|                        3|                      NULL|   [TUTE, TUTE, TUTE...|                [2, 4, 5]|               NULL|      31062|    TOULOUSE CEDEX 9|[Physique, Chimie...|https://appliweb....|[, UAR 2599, UAR ...|Institut de Chimi...|[Autres établisse...|  [LAURENT, DELPECH]|      [200317398C, 1999...|                          NULL|                      NULL|                  200310667L|                NULL|      [Régis, Fabien]|       ICT|[INP TOULOUSE, TO...|[19311386700025, ...|https://ict.cnrs.fr/|[DIR-ADJ, Directeur]|[Institut Nationa...|Structures Fédéra...|                NULL|[établissement tu...|[0311381H, 031138...|\n",
      "|Bd de l'Observato...|                    NULL|             2000|     [AUT_ETAB, EPST, ...|                          3|                        3|                      NULL|     [TUTE, TUTE, TUTE]|                      [3]|               NULL|      06304|        NICE CEDEX 4|[Sciences de la t...|https://appliweb....|[UMS 2202, UAR 22...|         GALILEE-OCA|[Autres établisse...|           [MAZEVET]|      [201220434N, 2012...|                          NULL|                      NULL|                  200410855L|                NULL|           [Stéphane]|GALILEEOCA|[OBSV. COTE D'AZU...|[19061563300012, ...|   http://www.oca.eu|         [Directeur]|[Observatoire de ...|Structures Fédéra...|                NULL|[établissement tu...|[0060099A, 075363...|\n",
      "|Cité des Sciences...|                    NULL|             2008|             [UNIV, UNIV]|                          3|                        3|                      NULL|           [TUTE, TUTE]|                   [6, 7]|               NULL|      75019|               PARIS|[Sciences humaine...|https://appliweb....|[UMS 2809, UMS 2809]|               LUTIN|[Université, Univ...|             [TIJUS]|                      NULL|                          NULL|                      NULL|                  200810868H|                NULL|            [Charles]|   UMS2809|[UT COMPIEGNE, PA...|[19601223100169, ...|http://www.lutin-...|                NULL|[Université de Te...|Structures Fédéra...|                NULL|[établissement tu...|[0601223D, 0931827F]|\n",
      "|     32 Rue Megevand|                    NULL|             2000|       [UNIV, UNIV, EPST]|                          2|                       22|                      NULL|     [TUTE, TUTE, TUTE]|            [3, 6, 7, 10]|       PE10;SH3;SH2|      25030|      BESANCON CEDEX|[Sciences de la t...|https://appliweb....|[UMR 6049, UMR 60...|THEORISER ET MODE...|[Université, Univ...|[TANNIER, THEVENI...|                      NULL|                          NULL|                      NULL|                  200012140A|[Earth System Sci...| [Cécile, Thomas, ...|     ThéMA|[DIJON, BESANCON,...|[19211237300019, ...|http://thema.univ...|[Directrice adjoi...|[Université Bourg...|         Unité mixte|                NULL|[établissement tu...|[0211237F, 025121...|\n",
      "|Université Paris-...|                    NULL|             2006|       [EPST, EPST, UNIV]|                          3|                        3|                      NULL|     [TUTE, TUTE, TUTE]|                      [5]|               NULL|      91400|               ORSAY|[Biologie, médeci...|https://appliweb....|[IFR 141, IFR 141, ]|Fédération Paris-...|[Organismes de ty...|        [BACHELERIE]|              [201019138N]|                          NULL|                      NULL|                  200610822S|                NULL|          [Françoise]|     FPSIT|[INSERM, INRAE, U...|[18003604800015, ...|                NULL|               [DIR]|[Institut nationa...|Structures Fédéra...|                NULL|[établissement tu...|[0755364Y, , 0912...|\n",
      "|   17 rue de Martyrs|          2007;2007;2007|             2006|       [EPST, EPIC, UNIV]|                          2|                       22|                  EF;EF;EF|     [TUTE, TUTE, TUTE]|                   [4, 5]|        LS2;PE5;LS1|      38054|    GRENOBLE CEDEX 9|[Chimie, Biologie...|https://appliweb....|[UMR 5249, UMR 52...|LABORATOIRE DE CH...|[Organismes de ty...| [ARTERO, RABILLOUD]|                      NULL|          [200311831B, 1989...|      [201923169F, 2011...|                  200711914Z|[Integrative Biol...|   [Vincent, Thierry]|      LCBM|[CNRS, CEA, GRENO...|[18008901303720, ...|                NULL|[, directeur-adjo...|[Centre national ...|         Unité mixte|éclatement - fusi...|[établissement tu...|[0753639Y, 091228...|\n",
      "|  21 rue des Martyrs|               2007;2007|             2006|     [AUT_ETAB, EPST, ...|                          2|                       22|                       F;F|     [TUTE, TUTE, TUTE]|                   [2, 8]|            PE3;PE8|      38031|    GRENOBLE CEDEX 1|[Physique, Scienc...|https://appliweb....|[UMR 5269, UMR 52...|Laboratoire de Gé...|[Autres établisse...|[LEMBEYE, HADJ-SAID]|                      NULL|          [199511973R, 1995...|                      NULL|                  200711931T|[Condensed matter...|    [Yves, Nouredine]|    G2Elab|[GRENOBLE INP, CN...|[19381912500017, ...|http://www.g2elab...|[DIR-ADJ, Directeur]|[Institut polytec...|         Unité mixte|       fusion;fusion|[établissement tu...|[0381912X, 075363...|\n",
      "| 14 avenue Berthelot|                    NULL|             1995|     [UNIV, AUT_ETAB, ...|                          2|                       22|                      NULL|     [TUTE, TUTE, TUTE]|                   [6, 7]|        SH2;SH1;SH3|      69363|       LYON CEDEX 07|[Sciences humaine...|https://appliweb....|[UMR 5593, UMR 55...|Laboratoire Aména...|[Université, Autr...|  [PEGUY, BOUZOUINA]|                      NULL|                          NULL|              [201119599K]|                  197112027D|[Institutions, Go...| [Pierre-Yves, Lou...|      LAET|[LYON 2, ENTPE LY...|[19691775100014, ...|http://www.laet.s...|      [DIR, DIR-ADJ]|[Université Lumiè...|         Unité mixte|                NULL|[établissement tu...|[0691775E, 069256...|\n",
      "|5 allées Antonio ...|                    NULL|             1995|     [UNIV, EPST, AUT_...|                          2|                       22|                      NULL|     [TUTE, TUTE, PART]|                      [6]|               NULL|      31058|    TOULOUSE CEDEX 9|[Sciences humaine...|https://appliweb....|[UMR 5602, UMR 56...|GEOGRAPHIE DE L'E...|[Université, Orga...|[MAZIER, CHALLEAT...|                      NULL|                          NULL|                      NULL|                  199512032E|                NULL| [Florence, Samuel...|     GEODE|[TOULOUSE 2, CNRS...|[19311383400017, ...|http://w3.geode.u...|[Directrice adjoi...|[Université Toulo...|         Unité mixte|                NULL|[établissement tu...|[0311383K, 075363...|\n",
      "|  4 rue Enrico Fermi|                    NULL|             1995|             [UNIV, EPST]|                          2|                       22|                      NULL|           [TUTE, TUTE]|                   [2, 3]|    PE2;PE9;PE1;LS7|      69622|  VILLEURBANNE CEDEX|[Physique, Scienc...|https://appliweb....|[UMR 5822, UMR 5822]|INSTITUT DE PHYSI...|[Université, Orga...|    [MARTEAU, EALET]|                      NULL|                          NULL|      [201119599K, 2011...|                  199512096Z|[Fundamental cons...|      [Jacques, Anne]| IP2I Lyon|      [LYON 1, CNRS]|[19691774400019, ...|http://www.ipnl.i...|[Directeur adjoin...|[Université Claud...|         Unité mixte|                NULL|[établissement tu...|[0691774D, 0753639Y]|\n",
      "| 14 avenue Berthelot|                    NULL|             1995|     [UNIV, UNIV, AUT_...|                          2|                       22|                      NULL|   [TUTE, TUTE, TUTE...|                      [6]|                SH6|      69363|       LYON CEDEX 07|[Sciences humaine...|https://appliweb....|[UMR 5648, UMR 56...|Histoire et Arché...|[Université, Univ...|[CARRIER, AILLET,...|                      NULL|                          NULL|              [201420876K]|                  199412070A|[The Study of the...| [Nicolas, Cyrille...|     CIHAM|[LYON 2, LYON 3, ...|[19691775100014, ...|http://ciham.ish-...|[Directeur adjoin...|[Université Lumiè...|         Unité mixte|                NULL|[établissement tu...|[0691775E, 069243...|\n",
      "|   46 allée d'Italie|                    NULL|             1999|     [EPST, AUT_ETAB, ...|                          2|                       22|                      NULL|     [TUTE, TUTE, PART]|                      [1]|               NULL|      69364|       LYON CEDEX 07|[Mathématiques et...|https://appliweb....|[UMR 5669, UMR 56...|Unité de mathémat...|[Organismes de ty...| [GARIVIER, DEGLISE]|      [202424543C, 2009...|                          NULL|              [201119599K]|                  199812077R|                NULL| [Aurélien, Frédéric]| UMPA/ENSL|[CNRS, ENS LYON, ...|[18008901303720, ...|http://www.umpa.e...|[Directeur adjoin...|[Centre national ...|         Unité mixte|                NULL|[établissement tu...|[0753639Y, 069412...|\n",
      "+--------------------+------------------------+-----------------+-------------------------+---------------------------+-------------------------+--------------------------+-----------------------+-------------------------+-------------------+-----------+--------------------+--------------------+--------------------+--------------------+--------------------+--------------------+--------------------+--------------------------+------------------------------+--------------------------+----------------------------+--------------------+---------------------+----------+--------------------+--------------------+--------------------+--------------------+--------------------+--------------------+--------------------+--------------------+--------------------+\n",
      "only showing top 20 rows\n",
      "\n"
     ]
    }
   ],
   "source": [
    "public_labs.show()"
   ]
  },
  {
   "cell_type": "code",
   "execution_count": 46,
   "id": "25e40ab4-ad43-4a2e-aad5-85849e9d6a5b",
   "metadata": {},
   "outputs": [
    {
     "name": "stdout",
     "output_type": "stream",
     "text": [
      "+--------------------+-----+\n",
      "|   type_de_structure|count|\n",
      "+--------------------+-----+\n",
      "|Fondations de coo...|    6|\n",
      "|        Unité propre| 1866|\n",
      "|      Equipe interne|  692|\n",
      "|         Unité mixte| 1551|\n",
      "|Groupements d'Int...|    7|\n",
      "|Unité mixte inter...|   58|\n",
      "|Collaborations in...|    1|\n",
      "|Groupements d'Int...|    8|\n",
      "|Structures Fédéra...|  366|\n",
      "|      Société privée|    6|\n",
      "|Groupements de Re...|   64|\n",
      "+--------------------+-----+\n",
      "\n"
     ]
    }
   ],
   "source": [
    "public_labs.groupBy('type_de_structure').count().show()"
   ]
  },
  {
   "cell_type": "code",
   "execution_count": 82,
   "id": "b9540783-5864-4626-8a3b-ae39395e19f3",
   "metadata": {},
   "outputs": [
    {
     "data": {
      "text/plain": [
       "886"
      ]
     },
     "execution_count": 82,
     "metadata": {},
     "output_type": "execute_result"
    }
   ],
   "source": [
    "test = df_inst.filter(func.col('geo.country_code').isNull()).filter(func.col('homepage_url').rlike(\"\\.fr$|\\.fr/\") ).select('display_name','homepage_url')\n",
    "test.count()\n"
   ]
  },
  {
   "cell_type": "code",
   "execution_count": 58,
   "id": "be6885e8-8edc-4df1-af6b-f56db24a6ae3",
   "metadata": {},
   "outputs": [
    {
     "name": "stdout",
     "output_type": "stream",
     "text": [
      "+------------+---------------------------------------+\n",
      "|country_code|array_distinct(associated_institutions)|\n",
      "+------------+---------------------------------------+\n",
      "|        NULL|                                     []|\n",
      "|        NULL|                                     []|\n",
      "+------------+---------------------------------------+\n",
      "\n"
     ]
    }
   ],
   "source": [
    "test.select('geo.country_code', func.array_distinct(func.col('associated_institutions'))).show()"
   ]
  },
  {
   "cell_type": "code",
   "execution_count": 86,
   "id": "8c2f5b95-ddcb-464d-b06f-af1ca5361383",
   "metadata": {},
   "outputs": [
    {
     "name": "stdout",
     "output_type": "stream",
     "text": [
      "+-------+----+----+----+-----------+----------+------+-----+-------+----+\n",
      "|inst_id|name|type|city|topic_share|main_topic|parent|fused|uni_pub|cnrs|\n",
      "+-------+----+----+----+-----------+----------+------+-----+-------+----+\n",
      "+-------+----+----+----+-----------+----------+------+-----+-------+----+\n",
      "\n"
     ]
    }
   ],
   "source": [
    "(inst\n",
    " .filter(func.col('inst_id').contains(\"I4387154605\"))).show()"
   ]
  },
  {
   "cell_type": "code",
   "execution_count": 50,
   "id": "afd2d8bf-2508-4bd1-a554-12ff518f4a89",
   "metadata": {},
   "outputs": [
    {
     "name": "stdout",
     "output_type": "stream",
     "text": [
      "+-----------------------------------------------------------------------------------------------------------------+\n",
      "|libelle                                                                                                          |\n",
      "+-----------------------------------------------------------------------------------------------------------------+\n",
      "|Cerema Direction Territoriale Centre-Est                                                                         |\n",
      "|CENTRE DE RECHERCHES ANGLOPHONES                                                                                 |\n",
      "|Institut de Recherches Philosophiques                                                                            |\n",
      "|CENTRE DE DROIT INTERNATIONAL DE NANTERRE                                                                        |\n",
      "|Institut Droit Ethique Patrimoine                                                                                |\n",
      "|LABORATOIRE DE SOCIOLINGUISTIQUE, D'ANTHROPOLOGIE DES PRATIQUES LANGAGIÈRES ET DE DIDACTIQUE DES LANGUES-CULTURES|\n",
      "|INSTITUT DE RECHERCHE INTERSITE ETUDES CULTURELLES                                                               |\n",
      "|ETUDES MONTPELLIERAINES DU MONDE ANGLOPHONE                                                                      |\n",
      "|CENTRE DE DROIT MARITIME ET OCEANIQUE                                                                            |\n",
      "|UR 1207 PHYSIOLOGIE, ECOLOGIER, ENVIRONNEMENT                                                                    |\n",
      "|Linguistique, Langues et Parole (EA 1339 - UR 1339 depuis 01.01.2020)                                            |\n",
      "|Centre de droit privé fondamental (EA 1351 - UR 1351 depuis 01.01.2020)                                          |\n",
      "|Centre de recherche en informatique                                                                              |\n",
      "|CENTRE DE RECHERCHE SUR LE TRANSPORT ET LA LOGISTIQUE                                                            |\n",
      "|Équipe Littérature et Culture italiennes                                                                         |\n",
      "|CENTRE MAURICE HAURIOU POUR LA RECHERCHE EN DROIT PUBLIC                                                         |\n",
      "|TRANSFERTS CRITIQUES ANGLOPHONES (TransCrit)                                                                     |\n",
      "|INSTITUT DE DROIT PRIVE                                                                                          |\n",
      "|LABORATOIRE DE PHYSIQUE DE LA MATIERE CONDENSEE - UR UPJV  2081                                                  |\n",
      "|Edition, Interprétation et traduction des textes anciens                                                         |\n",
      "+-----------------------------------------------------------------------------------------------------------------+\n",
      "only showing top 20 rows\n",
      "\n"
     ]
    }
   ],
   "source": [
    "public_labs.filter(func.col('type_de_structure') == \"Unité propre\").select('libelle').show(truncate= False)"
   ]
  },
  {
   "cell_type": "code",
   "execution_count": null,
   "id": "c0084867-5c6b-4321-8788-a0516ae9d26a",
   "metadata": {},
   "outputs": [],
   "source": []
  },
  {
   "cell_type": "code",
   "execution_count": null,
   "id": "10bd99f3-e740-44e9-9d4c-987ca0c6cd88",
   "metadata": {},
   "outputs": [],
   "source": []
  },
  {
   "cell_type": "code",
   "execution_count": null,
   "id": "4e5199e2-d952-4c27-a4c5-4793b92ec5cb",
   "metadata": {},
   "outputs": [],
   "source": []
  },
  {
   "cell_type": "code",
   "execution_count": null,
   "id": "36046cc4-299c-4978-b691-c1352df50c8f",
   "metadata": {},
   "outputs": [],
   "source": []
  },
  {
   "cell_type": "code",
   "execution_count": 34,
   "id": "b3201dbd-79a9-4aec-89d9-3ed0c06a550c",
   "metadata": {},
   "outputs": [],
   "source": [
    "spark.catalog.clearCache()\n",
    "spark.stop()"
   ]
  }
 ],
 "metadata": {
  "kernelspec": {
   "display_name": "Python 3 (ipykernel)",
   "language": "python",
   "name": "python3"
  },
  "language_info": {
   "codemirror_mode": {
    "name": "ipython",
    "version": 3
   },
   "file_extension": ".py",
   "mimetype": "text/x-python",
   "name": "python",
   "nbconvert_exporter": "python",
   "pygments_lexer": "ipython3",
   "version": "3.9.21"
  }
 },
 "nbformat": 4,
 "nbformat_minor": 5
}
