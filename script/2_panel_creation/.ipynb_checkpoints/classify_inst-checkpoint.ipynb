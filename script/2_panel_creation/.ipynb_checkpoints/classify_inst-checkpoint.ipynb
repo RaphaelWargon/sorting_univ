{
 "cells": [
  {
   "cell_type": "code",
   "execution_count": 1,
   "id": "df3a702a-cf27-4af7-bf37-811e075652fe",
   "metadata": {},
   "outputs": [
    {
     "name": "stdout",
     "output_type": "stream",
     "text": [
      "C:\\Users\\raphael.wargon\\Documents\\GitHub\\sorting_univ\\script/headers/\n",
      "initalizing spark nlp session w gpu\n"
     ]
    }
   ],
   "source": [
    "import os\n",
    "base_path = os.path.dirname(os.path.abspath(\"\"))\n",
    "base_path = base_path + \"/headers/\"\n",
    "print(base_path)\n",
    "header_path = base_path + 'header_data_treatment.ipynb'\n",
    "%run $header_path"
   ]
  },
  {
   "cell_type": "code",
   "execution_count": 17,
   "id": "a0fab2b1-a164-42b0-8018-7d4cf7502f91",
   "metadata": {},
   "outputs": [
    {
     "data": {
      "text/plain": [
       "'C:\\\\Users\\\\raphael.wargon\\\\Documents\\\\GitHub\\\\sorting_univ\\\\script\\\\2_panel_creation'"
      ]
     },
     "execution_count": 17,
     "metadata": {},
     "output_type": "execute_result"
    }
   ],
   "source": []
  },
  {
   "cell_type": "code",
   "execution_count": 22,
   "id": "eab2045a-5e0e-4dbe-adfc-06f133f3d671",
   "metadata": {},
   "outputs": [],
   "source": [
    "info_status_path = os.path.abspath(\"\") + '\\\\info_statuses.ipynb'\n",
    "%run $info_status_path"
   ]
  },
  {
   "cell_type": "code",
   "execution_count": 2,
   "id": "a3036308-e6ba-41ed-bcb4-a10dacbee8d0",
   "metadata": {},
   "outputs": [],
   "source": [
    "df_inst = (spark.read.format('parquet').load('file:\\\\' + main_path_openalex + 'institutions.parquet')\n",
    "           .withColumn('max_updated_date', func.max(func.col('updated_date')).over(Window.partitionBy('id')))\n",
    "           .filter(func.col('updated_date')==func.col('max_updated_date'))\n",
    "          )"
   ]
  },
  {
   "cell_type": "markdown",
   "id": "70248814-7df1-4f1b-adae-f0a4b2f4cff0",
   "metadata": {},
   "source": [
    "# Principal higher ed institutions"
   ]
  },
  {
   "cell_type": "code",
   "execution_count": 3,
   "id": "579db61e-9323-4ea5-b301-691bce07d7d5",
   "metadata": {},
   "outputs": [],
   "source": [
    "fr_esr = spark.read.format('csv').option(\"delimiter\", \";\").option(\"header\",\"true\").load('file:\\\\' + scanR_path + '\\\\fr-esr-principaux-etablissements-enseignement-superieur.csv')"
   ]
  },
  {
   "cell_type": "code",
   "execution_count": 4,
   "id": "b73845b0-7e1d-4b0d-b38a-4a4c2b7da3e3",
   "metadata": {
    "scrolled": true
   },
   "outputs": [
    {
     "name": "stdout",
     "output_type": "stream",
     "text": [
      "root\n",
      " |-- identifiant interne: string (nullable = true)\n",
      " |-- libellé: string (nullable = true)\n",
      " |-- nom court: string (nullable = true)\n",
      " |-- sigle: string (nullable = true)\n",
      " |-- type d'établissement: string (nullable = true)\n",
      " |-- typologie d'universités et assimilés: string (nullable = true)\n",
      " |-- secteur d'établissement: string (nullable = true)\n",
      " |-- vague contractuelle: string (nullable = true)\n",
      " |-- localisation: string (nullable = true)\n",
      " |-- site internet: string (nullable = true)\n",
      " |-- géolocalisation: string (nullable = true)\n",
      " |-- uai - identifiant: string (nullable = true)\n",
      " |-- anciens codes uai: string (nullable = true)\n",
      " |-- siret: string (nullable = true)\n",
      " |-- siren: string (nullable = true)\n",
      " |-- rna: string (nullable = true)\n",
      " |-- Identifiant wikidata: string (nullable = true)\n",
      " |-- Elément wikidata: string (nullable = true)\n",
      " |-- identifiant_idref: string (nullable = true)\n",
      " |-- Identifiant ETER: string (nullable = true)\n",
      " |-- Identifiant ROR: string (nullable = true)\n",
      " |-- Elément ROR: string (nullable = true)\n",
      " |-- Identifiant PIC: string (nullable = true)\n",
      " |-- Identifiant OrgRef: string (nullable = true)\n",
      " |-- Identifiant ISNI: string (nullable = true)\n",
      " |-- Elément ISNI: string (nullable = true)\n",
      " |-- Elément Funding Data: string (nullable = true)\n",
      " |-- date_creation: string (nullable = true)\n",
      " |-- texte_de_ref_creation_lib: string (nullable = true)\n",
      " |-- texte_de_ref_creation: string (nullable = true)\n",
      " |-- Code commune: string (nullable = true)\n",
      " |-- Commune: string (nullable = true)\n",
      " |-- Code unité urbaine: string (nullable = true)\n",
      " |-- Unité urbaine: string (nullable = true)\n",
      " |-- Code département: string (nullable = true)\n",
      " |-- Département: string (nullable = true)\n",
      " |-- Code académie: string (nullable = true)\n",
      " |-- Académie: string (nullable = true)\n",
      " |-- Code région: string (nullable = true)\n",
      " |-- Région: string (nullable = true)\n",
      " |-- Ancien code région: string (nullable = true)\n",
      " |-- Ancienne région: string (nullable = true)\n",
      " |-- Mention distribution: string (nullable = true)\n",
      " |-- Adresse: string (nullable = true)\n",
      " |-- Lieu dit: string (nullable = true)\n",
      " |-- Boite postale: string (nullable = true)\n",
      " |-- Code postal: string (nullable = true)\n",
      " |-- Localité: string (nullable = true)\n",
      " |-- Pays: string (nullable = true)\n",
      " |-- Numéro de téléphone: string (nullable = true)\n",
      " |-- statut_juridique_court: string (nullable = true)\n",
      " |-- Statut juridique: string (nullable = true)\n",
      " |-- compte_facebook: string (nullable = true)\n",
      " |-- compte_twitter: string (nullable = true)\n",
      " |-- compte_instagram: string (nullable = true)\n",
      " |-- compte_flickr: string (nullable = true)\n",
      " |-- compte_pinterest: string (nullable = true)\n",
      " |-- flux_rss: string (nullable = true)\n",
      " |-- compte_linkedin: string (nullable = true)\n",
      " |-- compte_france_culture: string (nullable = true)\n",
      " |-- compte_scribd: string (nullable = true)\n",
      " |-- compte_scoopit: string (nullable = true)\n",
      " |-- compte_tumblr: string (nullable = true)\n",
      " |-- compte_youtube: string (nullable = true)\n",
      " |-- compte_vimeo: string (nullable = true)\n",
      " |-- compte_dailymotion: string (nullable = true)\n",
      " |-- compte_github: string (nullable = true)\n",
      " |-- Page Wikipédia en français: string (nullable = true)\n",
      " |-- Page Wikipédia en anglais: string (nullable = true)\n",
      " |-- scanr: string (nullable = true)\n",
      " |-- hal: string (nullable = true)\n",
      " |-- mooc: string (nullable = true)\n",
      " |-- article: string (nullable = true)\n",
      " |-- uo_lib_officiel: string (nullable = true)\n",
      " |-- English name: string (nullable = true)\n",
      " |-- Site internet en anglais: string (nullable = true)\n",
      " |-- Site internet en chinois: string (nullable = true)\n",
      " |-- Site internet en espagnol: string (nullable = true)\n",
      " |-- Site internet en allemand: string (nullable = true)\n",
      " |-- Site internet en italien: string (nullable = true)\n",
      " |-- universites_fusionnees: string (nullable = true)\n",
      " |-- etablissement_experimental: string (nullable = true)\n",
      " |-- champ_recherche: string (nullable = true)\n",
      " |-- inscrits: string (nullable = true)\n",
      " |-- Effectifs d'étudiants inscrits 2010-11: string (nullable = true)\n",
      " |-- Effectifs d'étudiants inscrits 2011-12: string (nullable = true)\n",
      " |-- Effectifs d'étudiants inscrits 2012-13: string (nullable = true)\n",
      " |-- Effectifs d'étudiants inscrits 2013-14: string (nullable = true)\n",
      " |-- Effectifs d'étudiants inscrits 2014-15: string (nullable = true)\n",
      " |-- Effectifs d'étudiants inscrits 2015-16: string (nullable = true)\n",
      " |-- Effectifs d'étudiants inscrits 2016-17: string (nullable = true)\n",
      " |-- Effectifs d'étudiants inscrits 2017-18: string (nullable = true)\n",
      " |-- Effectifs d'étudiants inscrits 2018-19: string (nullable = true)\n",
      " |-- Effectifs d'étudiants inscrits 2019-20: string (nullable = true)\n",
      " |-- Effectifs d'étudiants inscrits 2020-21: string (nullable = true)\n",
      " |-- Effectifs d'étudiants inscrits 2021-22: string (nullable = true)\n",
      " |-- Effectifs d'étudiants inscrits 2022-23: string (nullable = true)\n",
      "\n"
     ]
    }
   ],
   "source": [
    "fr_esr.printSchema()"
   ]
  },
  {
   "cell_type": "code",
   "execution_count": 5,
   "id": "c7ae5678-4fee-4ac4-96a3-878999c9f2a9",
   "metadata": {
    "scrolled": true
   },
   "outputs": [
    {
     "name": "stdout",
     "output_type": "stream",
     "text": [
      "+--------------------+--------------------+---------+---------+---------+-------------------+-----------------+-------+\n",
      "|                name|          short_name|    idref|      ror| wikidata|               type|              uai|secteur|\n",
      "+--------------------+--------------------+---------+---------+---------+-------------------+-----------------+-------+\n",
      "|École nationale s...|   ENS Louis Lumière|030067618|003hyqr30|  Q273466|              École|         0932066R| public|\n",
      "|École des hautes ...|           HEC Paris|027321118|0423jsj19|  Q273535|              École|         0783054W|  privé|\n",
      "|École supérieure ...|         ESITC Paris|086229834|037mk9523| Q3578412|              École|         0941954N|  privé|\n",
      "|Institut d'économ...|               IÉSEG|030507200|04jqeag92| Q3156522|              École|         0593202K|  privé|\n",
      "|École supérieure ...| ÉSAM Caen/Cherbourg|174791534|00c62es15| Q3578397|              École|         0141432F| public|\n",
      "|    Sciences Po Lyon|         IEP de Lyon|028888537|02h3vcz70| Q2253344|Autre établissement|         0690173N| public|\n",
      "|École nationale d...|                ENAC|027771881|022zdgq74|  Q174335|Grand établissement|         0311256X| public|\n",
      "|École d'ingénieur...|               ISTOM|232687420|05tegpz81| Q3577763|              École|0951808Z;0492466P|  privé|\n",
      "|École supérieure ...|            ESIGELEC|030646480|01apwkd48|Q17672767|              École|         0762378X|  privé|\n",
      "|Skema Business Sc...|               Skema|198630298|036h8vg94| Q3486229|              École|         0590346F|  privé|\n",
      "|     Sciences Po Aix|IEP d'Aix-en-Prov...|026386283|0406m4x33| Q1139065|Autre établissement|         0130221V| public|\n",
      "|Université Sorbon...|           Paris III|027361837|03z6jp965|  Q571293|         Université|         0751719L| public|\n",
      "|Université Paris ...|             UP Cité|236453505|05f82e368|Q55849612|         Université|         0755976N| public|\n",
      "|Université Paris ...|             Paris 1|027361802|002t25c44|  Q999763|         Université|         0751717J| public|\n",
      "|Université Paris-...|      Panthéon-Assas|260745863|04qb2qm38|  Q662976|         Université|         0756305W| public|\n",
      "|École française d...|                 EFR|026436922|049b5m346|  Q273542|Autre établissement|         1270009V| public|\n",
      "|École supérieure ...|          ESAD Reims|106942387|04ch3k260| Q3578396|              École|         0510084P| public|\n",
      "|La Rochelle Unive...|Université La Roc...|035375043|04mv1z119| Q1500822|         Université|         0171463Y| public|\n",
      "|École normale sup...|         ENS de Lyon|149154992|04zmssz18|   Q10159|              École|         0694123G| public|\n",
      "|Institut supérieu...|               ISDAT|182696766|00yzbmy59|  Q941853|              École|         0310144N| public|\n",
      "+--------------------+--------------------+---------+---------+---------+-------------------+-----------------+-------+\n",
      "only showing top 20 rows\n",
      "\n"
     ]
    }
   ],
   "source": [
    "fr_esr = (fr_esr\n",
    "          .select(func.col('libellé').alias('name'), func.col('nom court').alias('short_name'),\n",
    "                  func.col('identifiant_idref').alias('idref'), func.col('Identifiant ROR').alias('ror'),\n",
    "                  func.col('Identifiant wikidata').alias('wikidata'), func.col(\"type d'établissement\").alias('type'),\n",
    "                  func.col('uai - identifiant').alias('uai'),\n",
    "                 func.col(\"secteur d'établissement\").alias('secteur'))\n",
    "          .distinct()\n",
    "         )\n",
    "fr_esr.show()\n",
    "          "
   ]
  },
  {
   "cell_type": "code",
   "execution_count": 6,
   "id": "7b16ff47-d8ed-419e-aec4-96992759b8f0",
   "metadata": {},
   "outputs": [
    {
     "name": "stdout",
     "output_type": "stream",
     "text": [
      "+-------------------+-----+\n",
      "|               type|count|\n",
      "+-------------------+-----+\n",
      "|         Université|   65|\n",
      "|Grand établissement|   25|\n",
      "|              École|  146|\n",
      "|Autre établissement|   10|\n",
      "+-------------------+-----+\n",
      "\n"
     ]
    }
   ],
   "source": [
    "fr_esr.groupBy('type').count().show()"
   ]
  },
  {
   "cell_type": "code",
   "execution_count": 6,
   "id": "52f7219d-8cf4-496b-852c-6cf3349dd72d",
   "metadata": {},
   "outputs": [
    {
     "data": {
      "text/plain": [
       "215"
      ]
     },
     "execution_count": 6,
     "metadata": {},
     "output_type": "execute_result"
    }
   ],
   "source": [
    "merged_by_ror = (df_inst\n",
    "                 .select('id', 'ror')\n",
    "                 .join(fr_esr\n",
    "                       .withColumn('ror', func.concat(func.lit('https://ror.org/'), func.col('ror'))), on = 'ror', how ='inner')\n",
    "                 .select(func.regexp_replace(func.col('id'), 'https://openalex.org/', '').alias('inst_id'),'idref','uai','name','ror','type',\"secteur\")\n",
    "                 .distinct()\n",
    "                )\n",
    "merged_by_ror.count()"
   ]
  },
  {
   "cell_type": "code",
   "execution_count": 8,
   "id": "61603e4a-8bfb-4dea-8968-22786ecfefa5",
   "metadata": {
    "scrolled": true
   },
   "outputs": [
    {
     "name": "stdout",
     "output_type": "stream",
     "text": [
      "+-----------+---------+-----------------+--------------------+--------------------+-------------------+-------+\n",
      "|    inst_id|    idref|              uai|                name|                 ror|               type|secteur|\n",
      "+-----------+---------+-----------------+--------------------+--------------------+-------------------+-------+\n",
      "|I4210118719|027976122|0783664J;0921929X|École supérieure ...|https://ror.org/0...|              École|  privé|\n",
      "|I4210107334|026408139|         0753667D|Ecole Nationale S...|https://ror.org/0...|              École| public|\n",
      "|I4387155629|026386283|         0130221V|     Sciences Po Aix|https://ror.org/0...|Autre établissement| public|\n",
      "| I180375564|120796899|         0290119X|École nationale d...|https://ror.org/0...|              École| public|\n",
      "| I138816502|029473284|         7200664J|Université de Cor...|https://ror.org/0...|         Université| public|\n",
      "| I181827316|026582481|         0590344D|Institut catholiq...|https://ror.org/0...|              École|  privé|\n",
      "|  I56067802|26693823X|         0353074B|Université de Rennes|https://ror.org/0...|         Université| public|\n",
      "|  I39804081|221333754|         0755890V| Sorbonne Université|https://ror.org/0...|         Université| public|\n",
      "| I102516824|026570564|         0601223D|Université de Tec...|https://ror.org/0...|              École| public|\n",
      "|I4210123735|028888537|         0690173N|    Sciences Po Lyon|https://ror.org/0...|Autre établissement| public|\n",
      "| I100532134|026402823|         0691774D|Université Claude...|https://ror.org/0...|         Université| public|\n",
      "|I3130945570|027548392|         0331766R|Université Bordea...|https://ror.org/0...|         Université| public|\n",
      "|I4210108471|026404435|         0720916E|  Le Mans Université|https://ror.org/0...|         Université| public|\n",
      "| I183158303|032760639|         0290124C|        École navale|https://ror.org/0...|Grand établissement| public|\n",
      "|I4210140465|026363933|         1340004B|Casa de Velázquez...|https://ror.org/0...|Autre établissement| public|\n",
      "| I102272798|026537036|         0771077C|Institut européen...|https://ror.org/0...|              École|  privé|\n",
      "|I4210104245|029613043|         0310155A|Institut catholiq...|https://ror.org/0...|              École|  privé|\n",
      "|I2801509770|076359735|         0670190T|Institut national...|https://ror.org/0...|              École| public|\n",
      "|I4210157468|157779092|         0441916U|École nationale v...|https://ror.org/0...|Grand établissement| public|\n",
      "|I4210142724|163078998|         0133774G|Centrale Méditerr...|https://ror.org/0...|              École| public|\n",
      "+-----------+---------+-----------------+--------------------+--------------------+-------------------+-------+\n",
      "only showing top 20 rows\n",
      "\n"
     ]
    }
   ],
   "source": [
    "merged_by_ror.show()"
   ]
  },
  {
   "cell_type": "code",
   "execution_count": 9,
   "id": "8213ce83-cf09-4d11-a73e-8f5e12a2547d",
   "metadata": {},
   "outputs": [
    {
     "name": "stdout",
     "output_type": "stream",
     "text": [
      "+-------------------+-----+\n",
      "|               type|count|\n",
      "+-------------------+-----+\n",
      "|         Université|   61|\n",
      "|Grand établissement|   27|\n",
      "|              École|  117|\n",
      "|Autre établissement|   10|\n",
      "+-------------------+-----+\n",
      "\n"
     ]
    }
   ],
   "source": [
    "merged_by_ror.groupBy('type').count().show()"
   ]
  },
  {
   "cell_type": "code",
   "execution_count": 12,
   "id": "284a62ae-6786-4725-9bb9-3b99da239244",
   "metadata": {},
   "outputs": [
    {
     "name": "stdout",
     "output_type": "stream",
     "text": [
      "+-------+-----+---+----+---+----+-------+\n",
      "|inst_id|idref|uai|name|ror|type|secteur|\n",
      "+-------+-----+---+----+---+----+-------+\n",
      "+-------+-----+---+----+---+----+-------+\n",
      "\n"
     ]
    }
   ],
   "source": [
    "merged_by_ror.filter(func.col('inst_id')==\"I4392021178\").show()"
   ]
  },
  {
   "cell_type": "code",
   "execution_count": 10,
   "id": "d8393cb8-740c-4ef6-8ca5-b81ffe136615",
   "metadata": {},
   "outputs": [
    {
     "name": "stdout",
     "output_type": "stream",
     "text": [
      "+-----------------------+--------------+------------+----------+--------------+------------+------------+---------------------+-------------------------+---+------------+---+---+-------------------+---------+-------------+---------------+-------+------------+-----+---+-------------+-----------+------+----+-------+-------+------------+-------------+-----------+----------+----------------+\n",
      "|associated_institutions|cited_by_count|country_code|country_id|counts_by_year|created_date|display_name|display_name_acronyms|display_name_alternatives|geo|homepage_url| id|ids|image_thumbnail_url|image_url|international|is_super_system|lineage|repositories|roles|ror|summary_stats|topic_share|topics|type|type_id|updated|updated_date|works_api_url|works_count|x_concepts|max_updated_date|\n",
      "+-----------------------+--------------+------------+----------+--------------+------------+------------+---------------------+-------------------------+---+------------+---+---+-------------------+---------+-------------+---------------+-------+------------+-----+---+-------------+-----------+------+----+-------+-------+------------+-------------+-----------+----------+----------------+\n",
      "+-----------------------+--------------+------------+----------+--------------+------------+------------+---------------------+-------------------------+---+------------+---+---+-------------------+---------+-------------+---------------+-------+------------+-----+---+-------------+-----------+------+----+-------+-------+------------+-------------+-----------+----------+----------------+\n",
      "\n"
     ]
    }
   ],
   "source": [
    "df_inst.filter(func.col('id').contains(\"I4403386658\")).show()"
   ]
  },
  {
   "cell_type": "code",
   "execution_count": 11,
   "id": "2589db25-7a78-44c6-be88-1747911ca1fc",
   "metadata": {
    "scrolled": true
   },
   "outputs": [],
   "source": [
    "#merge = (inst.withColumn('to_join',\n",
    "#                                           func.regexp_replace(func.lower(func.col('name')),       \" de| la| d'| l'| des| du| le| les\",'')\n",
    "#                )\n",
    "#      .withColumn('to_join', func.regexp_replace(func.col('to_join'), 'é|è', 'e'))\n",
    "#.join(fr_esr\n",
    "#      .withColumn('to_join', \n",
    "#                  func.explode(func.array([func.regexp_replace(func.lower(func.col('name')),       \" de| la| d'| l'| des| du| le| les\",''), \n",
    "#                                           func.regexp_replace(func.lower(func.col('short_name')), \" de| la| d'| l'| des| du| le| les\",'')])))\n",
    "#      .withColumn('to_join', func.regexp_replace(func.col('to_join'), 'é|è', 'e'))\n",
    "#      , on = 'to_join', how ='inner'))\n",
    "#merge.count()"
   ]
  },
  {
   "cell_type": "code",
   "execution_count": 15,
   "id": "da0aa272-c7ad-49b5-8434-6514d641b2c2",
   "metadata": {},
   "outputs": [
    {
     "data": {
      "text/plain": [
       "246"
      ]
     },
     "execution_count": 15,
     "metadata": {},
     "output_type": "execute_result"
    }
   ],
   "source": [
    "fr_esr.count()"
   ]
  },
  {
   "cell_type": "code",
   "execution_count": 7,
   "id": "49d3c5ea-f185-4657-9b4a-3ab4d2d06407",
   "metadata": {},
   "outputs": [],
   "source": [
    "sorted_by_hand = { #'IAE Paris - Sorbonne Business School':\n",
    "                   'Université de Mayotte':\"I4403928291\",\n",
    "               \"École d'ingénieurs des sciences aérospatiales\" :\"I58581550\",\n",
    "    'Université de technologie Tarbes Occitanie Pyrénées':\"I119865316\",\n",
    "    #\"Institut régional du travail social de Champagne-Ardennes\"\n",
    "    \"Université Bourgogne Europe\":\"I177064439\",\n",
    "    \"Université de Montpellier Paul-Valéry\":'I208215962',\n",
    "    #Institut national du service public\n",
    "    \"Nîmes université\":\"I66456633\",\n",
    "    #Y SCHOOLS\n",
    "    \"École nationale supérieure de paysage\":\"I4387154791\",\n",
    "    #Brest Business School\n",
    "    #École supérieure de fonderie et de forge\n",
    "    #Institut national des sciences et techniques nucléaires\n",
    "    #Université Marie et Louis Pasteur\n",
    "    \"Université de Toulouse\": \"I17866349\",\n",
    "    #Institut supérieur du commerce de Paris,\n",
    "    #École spéciale d'architecture\n",
    "    #Institut supérieur de l'électronique et du numérique de Brest\n",
    "    #Centre national des arts du cirque\n",
    "    #Institut des relations publiques et de la communication d’Angers\n",
    "    #ESIEE-IT\n",
    "    #Institut français de la mode \n",
    "    #École nationale supérieure des arts et techniques du théâtre\n",
    "    \"Institut supérieur du bâtiment et des travaux publics\": 'I4210160645',\n",
    "    #Centre des hautes études de la construction\n",
    "    #École supérieure d'art et de design d'Amiens\n",
    "    \"Université Jean Monnet\":\"I86767153\",\n",
    "    #Centre de ressources, d'expertise et de performance sportives de Toulouse \n",
    "    \"École nationale supérieure du pétrole et des moteurs\":\"I4403386658\",\n",
    "    \"Institut protestant de théologie\":\"I4210121454\",\n",
    "    \"Institut supérieur international du parfum, de la cosmétique et de l'aromatique alimentaire\":\"I4387154221\",\n",
    "    \"ICN Business School\": \"I4400600934\",\n",
    "    \"École nationale supérieure des métiers de l'image et du son\":'I4387156185',\n",
    "    #Institut d'ingénierie informatique de Limoges\n",
    "    \"École de management Léonard De Vinci\":\"I4210121459\"\n",
    "    \n",
    "                }"
   ]
  },
  {
   "cell_type": "code",
   "execution_count": 8,
   "id": "2aa80e22-576e-4cd7-b2c4-f5f8da80eeaa",
   "metadata": {},
   "outputs": [
    {
     "name": "stdout",
     "output_type": "stream",
     "text": [
      "['I4403928291', 'I58581550', 'I119865316', 'I177064439', 'I208215962', 'I66456633', 'I4387154791', 'I17866349', 'I4210160645', 'I86767153', 'I4403386658', 'I4210121454', 'I4387154221', 'I4400600934', 'I4387156185', 'I4210121459']\n"
     ]
    }
   ],
   "source": [
    "print([test[1]for test in sorted_by_hand.items()])"
   ]
  },
  {
   "cell_type": "code",
   "execution_count": 9,
   "id": "85cfb3e2-f69b-45fb-b0a7-508d8bf3d3a6",
   "metadata": {},
   "outputs": [
    {
     "data": {
      "text/plain": [
       "'CASE WHEN name = \"Université de Mayotte\" THEN \"I4403928291\" WHEN name = \"École d\\'ingénieurs des sciences aérospatiales\" THEN \"I58581550\" WHEN name = \"Université de technologie Tarbes Occitanie Pyrénées\" THEN \"I119865316\" WHEN name = \"Université Bourgogne Europe\" THEN \"I177064439\" WHEN name = \"Université de Montpellier Paul-Valéry\" THEN \"I208215962\" WHEN name = \"Nîmes université\" THEN \"I66456633\" WHEN name = \"École nationale supérieure de paysage\" THEN \"I4387154791\" WHEN name = \"Université de Toulouse\" THEN \"I17866349\" WHEN name = \"Institut supérieur du bâtiment et des travaux publics\" THEN \"I4210160645\" WHEN name = \"Université Jean Monnet\" THEN \"I86767153\" WHEN name = \"École nationale supérieure du pétrole et des moteurs\" THEN \"I4403386658\" WHEN name = \"Institut protestant de théologie\" THEN \"I4210121454\" WHEN name = \"Institut supérieur international du parfum, de la cosmétique et de l\\'aromatique alimentaire\" THEN \"I4387154221\" WHEN name = \"ICN Business School\" THEN \"I4400600934\" WHEN name = \"École nationale supérieure des métiers de l\\'image et du son\" THEN \"I4387156185\" WHEN name = \"École de management Léonard De Vinci\" THEN \"I4210121459\" END'"
      ]
     },
     "execution_count": 9,
     "metadata": {},
     "output_type": "execute_result"
    }
   ],
   "source": [
    "expr_merge_hand = 'CASE WHEN ' + ' WHEN '.join(['name = \"' + el[0] + '\" THEN \"' + el[1] + '\"' for el in sorted_by_hand.items()] )+ ' END'\n",
    "expr_merge_hand                  "
   ]
  },
  {
   "cell_type": "code",
   "execution_count": 10,
   "id": "98fbb09d-50b4-46ff-992a-7fef1d1226c0",
   "metadata": {
    "scrolled": true
   },
   "outputs": [
    {
     "name": "stdout",
     "output_type": "stream",
     "text": [
      "+--------------------+----------+---------+---------+----------+----------+-----------------+-------+-----------+\n",
      "|                name|short_name|    idref|      ror|  wikidata|      type|              uai|secteur|    inst_id|\n",
      "+--------------------+----------+---------+---------+----------+----------+-----------------+-------+-----------+\n",
      "|Université Jean M...|      NULL|     NULL|     NULL|      NULL|Université|         0422388T| public|  I86767153|\n",
      "|Institut supérieu...|    ISIPCA|028549783|     NULL|  Q3152629|     École|0781110H;0783690M|  privé|I4387154221|\n",
      "|Université Bourgo...|      NULL|     NULL|     NULL|      NULL|Université|         0212296G| public| I177064439|\n",
      "|École nationale s...|IFP school|026375303|     NULL|  Q2732297|     École|         0920815L| public|I4403386658|\n",
      "|Université de Tou...|      NULL|     NULL|     NULL|      NULL|Université|         0313218E| public|  I17866349|\n",
      "|Université de Mon...|      NULL|     NULL|     NULL|      NULL|Université|         0342569H| public| I208215962|\n",
      "|École de manageme...|      EMLV|     NULL|     NULL|   Q166446|     École|         0922369A|  privé|I4210121459|\n",
      "|École nationale s...|      ENSP|035622261|     NULL|  Q3578260|     École|         0782019W| public|I4387154791|\n",
      "|Université de tec...|      NULL|     NULL|     NULL|Q124412825|     École|         0651124U| public| I119865316|\n",
      "|Université de May...|      NULL|262921715|02t0k0832|  Q2946102|Université|         9760358K| public|I4403928291|\n",
      "| ICN Business School|      NULL|240717511|     NULL|  Q3146547|     École|         0542455A|  privé|I4400600934|\n",
      "|    Nîmes université|      NULL|     NULL|     NULL|      NULL|Université|         0301911P| public|  I66456633|\n",
      "|Institut protesta...|       IPT|029412706|     NULL|  Q3064314|     École|         0753605L|  privé|I4210121454|\n",
      "|École d'ingénieur...|     ELISA|     NULL|     NULL| Q65162999|     École|0333415H;0022134J|  privé|  I58581550|\n",
      "|École nationale s...|  La Fémis|     NULL|     NULL|  Q1138556|     École|         0753457A| public|I4387156185|\n",
      "|Institut supérieu...|   ISBA TP|     NULL|     NULL| Q60846049|     École|         0130238N|  privé|I4210160645|\n",
      "+--------------------+----------+---------+---------+----------+----------+-----------------+-------+-----------+\n",
      "\n"
     ]
    }
   ],
   "source": [
    "merged_by_hand = (fr_esr\n",
    "                  .withColumn('inst_id', func.expr(expr_merge_hand))\n",
    "                  .filter(func.col('inst_id').isNotNull())\n",
    "                 )\n",
    "merged_by_hand.show()"
   ]
  },
  {
   "cell_type": "code",
   "execution_count": 11,
   "id": "3fbc7ed9-47fd-4838-b98c-81007a7f370f",
   "metadata": {
    "scrolled": true
   },
   "outputs": [
    {
     "name": "stdout",
     "output_type": "stream",
     "text": [
      "+-----------+---------+-----------------+--------------------+-------------------+-------+\n",
      "|    inst_id|    idref|              uai|                name|               type|secteur|\n",
      "+-----------+---------+-----------------+--------------------+-------------------+-------+\n",
      "|  I88467170|030820529|         0911975C|Université d'Évry...|         Université| public|\n",
      "| I141576021|031308570|         0762762P|Université Le Hav...|         Université| public|\n",
      "|I4210152422|026403994|         0311383K|Université Toulou...|         Université| public|\n",
      "|I4210144611|026436922|         1270009V|École française d...|Autre établissement| public|\n",
      "| I112936343|033894221|         0690187D|       Centrale Lyon|              École| public|\n",
      "|I4210108471|026404435|         0720916E|  Le Mans Université|         Université| public|\n",
      "|I4210103111|133015572|         0310150V|École nationale s...|              École| public|\n",
      "|I4210150352|136233902|         0693364G|Institut textile ...|              École|  privé|\n",
      "|I2279609970|259265152|         0597239Y| Université de Lille|         Université| public|\n",
      "|I4210160189|175330263|         0333232J|        Bordeaux INP|Grand établissement| public|\n",
      "|I4387152728|108803821|         0922605G|Institut national...|              École| public|\n",
      "| I140494188|050522604|         0101060Y|Université de tec...|              École| public|\n",
      "|I4210125872|09560846X|0942500G;0920674H|EPF - École d'ing...|              École|  privé|\n",
      "|  I90326151|026374862|         0590350K|École des hautes ...|              École|  privé|\n",
      "|  I51101395|027361802|         0751717J|Université Paris ...|         Université| public|\n",
      "|   I7171862|259265152|         0597239Y| Université de Lille|         Université| public|\n",
      "| I193033237|026523493|         0312760G|Institut supérieu...|Grand établissement| public|\n",
      "|  I48825208|026403552|0751724S;0931827F|Université Paris ...|         Université| public|\n",
      "| I187986737|026370921|         0753480A|   Collège de France|Grand établissement| public|\n",
      "|I2802204017|05017746X|         0561718N|Université Bretag...|         Université| public|\n",
      "+-----------+---------+-----------------+--------------------+-------------------+-------+\n",
      "only showing top 20 rows\n",
      "\n"
     ]
    }
   ],
   "source": [
    "merged = (merged_by_ror\n",
    "          .select('inst_id', 'idref','uai', 'name', 'type','secteur')\n",
    "          .unionAll(merged_by_hand.select('inst_id', 'idref','uai','name', 'type','secteur'))\n",
    "          .distinct()\n",
    "         )\n",
    "merged.show()"
   ]
  },
  {
   "cell_type": "code",
   "execution_count": 12,
   "id": "371d371f-cd6e-4f49-b154-68274cbd6b59",
   "metadata": {},
   "outputs": [
    {
     "data": {
      "text/plain": [
       "231"
      ]
     },
     "execution_count": 12,
     "metadata": {},
     "output_type": "execute_result"
    }
   ],
   "source": [
    "merged.count()"
   ]
  },
  {
   "cell_type": "code",
   "execution_count": 47,
   "id": "6714ec38-130c-4002-b4c1-0a8effff6ff7",
   "metadata": {
    "scrolled": true
   },
   "outputs": [
    {
     "name": "stdout",
     "output_type": "stream",
     "text": [
      "+--------------------+--------------------+---------+-------------+\n",
      "|                idex|             inst_id|idex_date|idex_dotation|\n",
      "+--------------------+--------------------+---------+-------------+\n",
      "|  idex_aix_marseille|[I21491767, I4210...|     2012|     87785947|\n",
      "|   idex_annulee_lyon|[I112936343, I203...|     2017|    123694688|\n",
      "|          isite_next|[I4412460051, I97...|     2017|     37034102|\n",
      "|     isite_cap_20_25|[I198244214, I222...|     2017|     49328947|\n",
      "|     idex_strasbourg|         [I68947357]|     2011|     86361781|\n",
      "|           idex_muse|[I19894307, I4210...|     2017|     84018666|\n",
      "|       idex_bordeaux|[I3130945570, I42...|     2011|     92201049|\n",
      "|           idex_daum|         [I90183372]|     2014|      5026000|\n",
      "|     idex_paris_cite|[I204730241, I148...|     2018|     93979522|\n",
      "|   idex_paris_saclay|[I195731000, I222...|     2012|    172882291|\n",
      "|idex_paris_cite_2012|[I204730241, I182...|     2012|     83617599|\n",
      "|  idex_sorbonne_univ|[I39804081, I4210...|     2012|    102970282|\n",
      "|           isite_e2s|[I144889574, I421...|     2017|     29122038|\n",
      "|      isite_lorraine|[I90183372, I4210...|     2016|     51328947|\n",
      "|idex_annulee_toul...|[I4210126056, I17...|     2013|     56353926|\n",
      "|         isite_lille|[I2279609970, I30...|     2017|     74055406|\n",
      "|          idex_hesam|[I4210134562, I51...|     2012|     32515745|\n",
      "|          multi_idex|[I1294671590, I42...|        0|            0|\n",
      "|            idex_psl|[I2746051580, I18...|     2011|    157116249|\n",
      "|    idex_2_cote_azur|[I201841394, I421...|     2016|     73991216|\n",
      "+--------------------+--------------------+---------+-------------+\n",
      "only showing top 20 rows\n",
      "\n"
     ]
    }
   ],
   "source": [
    "idex_df = (spark.createDataFrame([[key, value] for key,value in idex_dict.items()], \n",
    "                                 schema =StructType([StructField('idex',StringType(),True),  \n",
    "                                        StructField('inst_id',ArrayType(StringType()),True)]) )\n",
    "           .join(spark.createDataFrame([[key, value] for key,value in idex_dict_dates.items()], \n",
    "                                 schema =StructType([StructField('idex',StringType(),True),  \n",
    "                                        StructField('idex_date',IntegerType(),True)]) ),\n",
    "                 on = 'idex', how ='left')\n",
    "           .join(spark.createDataFrame([[key, value] for key,value in idex_dict_dotation.items()], \n",
    "                                 schema =StructType([StructField('idex',StringType(),True),  \n",
    "                                        StructField('idex_dotation',IntegerType(),True)]) ),\n",
    "                 on = 'idex', how ='left')\n",
    "          )\n",
    "\n",
    "idex_df.cache()\n",
    "idex_df.show()"
   ]
  },
  {
   "cell_type": "code",
   "execution_count": 48,
   "id": "0e7c5e02-5f97-4cc1-859f-2b43940454f1",
   "metadata": {
    "scrolled": true
   },
   "outputs": [
    {
     "name": "stdout",
     "output_type": "stream",
     "text": [
      "+-----------+-------------+-----------+\n",
      "|    inst_id|fused_inst_id|fusion_date|\n",
      "+-----------+-------------+-----------+\n",
      "|I4387155307|  I2279609970|       2017|\n",
      "| I102475099|  I4210107720|       2015|\n",
      "|I4387156284|   I204730241|       2019|\n",
      "|I4396570533|    I15057530|       2014|\n",
      "|I4412460446|   I201841394|       2019|\n",
      "|   I7171862|  I2279609970|       2017|\n",
      "|I4387154463|  I4210154111|       2019|\n",
      "|I4387154560|  I2279609970|       2017|\n",
      "|  I88467170|   I277688954|       NULL|\n",
      "| I118618916|   I899635006|       2016|\n",
      "|I2800379142|  I4210154111|       2019|\n",
      "|  I90843659|    I90843659|       NULL|\n",
      "|I4210103002|   I198244214|       2017|\n",
      "|I4387154756|    I19894307|       2014|\n",
      "|I4412460119|   I198244214|       2017|\n",
      "|  I59807433|  I2279609970|       2017|\n",
      "| I184646667|    I39804081|       2017|\n",
      "|I4387154366|   I204730241|       2019|\n",
      "| I177483745|   I899635006|       2016|\n",
      "|I3123023596|    I56067802|       2023|\n",
      "+-----------+-------------+-----------+\n",
      "only showing top 20 rows\n",
      "\n"
     ]
    }
   ],
   "source": [
    "fused_df = (spark.createDataFrame([[key, value] for key,value in recoding_fusion.items()], \n",
    "                                 schema =StructType([StructField('inst_id',StringType(),True),  \n",
    "                                        StructField('fused_inst_id',StringType(),True)]) )\n",
    "           .join(spark.createDataFrame([[key, value] for key,value in fusion_dates.items()], \n",
    "                                 schema =StructType([StructField('inst_id',StringType(),True),  \n",
    "                                        StructField('fusion_date',IntegerType(),True)]) ),\n",
    "                 on = 'inst_id', how ='left')\n",
    "          )\n",
    "\n",
    "fused_df.cache()\n",
    "fused_df.show()"
   ]
  },
  {
   "cell_type": "code",
   "execution_count": 50,
   "id": "a2526646-30e0-48aa-a924-b3aff0fffaa6",
   "metadata": {
    "scrolled": true
   },
   "outputs": [
    {
     "data": {
      "text/plain": [
       "'CASE WHEN inst_id = \"I21491767\" THEN \"2012\" WHEN inst_id = \"I4387155829\" THEN \"2009\" WHEN inst_id = \"I4210142324\" THEN \"2009\" WHEN inst_id = \"I4412460347\" THEN \"2009\" WHEN inst_id = \"I138816502\" THEN \"2009\" WHEN inst_id = \"I65806277\" THEN \"2009\" WHEN inst_id = \"I100532134\" THEN \"2009\" WHEN inst_id = \"I4387154463\" THEN \"2009\" WHEN inst_id = \"I4387153574\" THEN \"2009\" WHEN inst_id = \"I2800745255\" THEN \"2009\" WHEN inst_id = \"I90183372\" THEN \"2012\" WHEN inst_id = \"I4387156284\" THEN \"2009\" WHEN inst_id = \"I4387154366\" THEN \"2009\" WHEN inst_id = \"I78744979\" THEN \"2009\" WHEN inst_id = \"I86767153\" THEN \"2009\" WHEN inst_id = \"I68947357\" THEN \"2009\" WHEN inst_id = \"I3131550300\" THEN \"2009\" WHEN inst_id = \"I140494188\" THEN \"2009\" WHEN inst_id = \"I4396570539\" THEN \"2010\" WHEN inst_id = \"I113428412\" THEN \"2010\" WHEN inst_id = \"I134560555\" THEN \"2010\" WHEN inst_id = \"I110017253\" THEN \"2010\" WHEN inst_id = \"I4210156171\" THEN \"2010\" WHEN inst_id = \"I195731000\" THEN \"2010\" WHEN inst_id = \"I4400573212\" THEN \"2010\" WHEN inst_id = \"I177064439\" THEN \"2010\" WHEN inst_id = \"I4412460119\" THEN \"2010\" WHEN inst_id = \"I102197404\" THEN \"2010\" WHEN inst_id = \"I177483745\" THEN \"2010\" WHEN inst_id = \"I2802204017\" THEN \"2010\" WHEN inst_id = \"I2279609970\" THEN \"2010\" WHEN inst_id = \"I2802487185\" THEN \"2010\" WHEN inst_id = \"I874609350\" THEN \"2010\" WHEN inst_id = \"I49451733\" THEN \"2010\" WHEN inst_id = \"I37553959\" THEN \"2010\" WHEN inst_id = \"I4387154756\" THEN \"2010\" WHEN inst_id = \"I205747304\" THEN \"2010\" WHEN inst_id = \"I198415970\" THEN \"2010\" WHEN inst_id = \"I97188460\" THEN \"2010\" WHEN inst_id = \"I4412460051\" THEN \"2010\" WHEN inst_id = \"I4387154757\" THEN \"2010\" WHEN inst_id = \"I117841876\" THEN \"2010\" WHEN inst_id = \"I102516824\" THEN \"2010\" WHEN inst_id = \"I4210091279\" THEN \"2010\" WHEN inst_id = \"I106785703\" THEN \"2010\" WHEN inst_id = \"I29607241\" THEN \"2010\" WHEN inst_id = \"I197681013\" THEN \"2010\" WHEN inst_id = \"I144889574\" THEN \"2010\" WHEN inst_id = \"I90843659\" THEN \"2010\" WHEN inst_id = \"I4407990293\" THEN \"2010\" WHEN inst_id = \"I4396570533\" THEN \"2010\" WHEN inst_id = \"I32881790\" THEN \"2010\" WHEN inst_id = \"I4407990165\" THEN \"2010\" WHEN inst_id = \"I4412460399\" THEN \"2010\" WHEN inst_id = \"I3124938446\" THEN \"2010\" WHEN inst_id = \"I161929037\" THEN \"2010\" WHEN inst_id = \"I44563897\" THEN \"2011\" WHEN inst_id = \"I4647051\" THEN \"2011\" WHEN inst_id = \"I3130945570\" THEN \"2011\" WHEN inst_id = \"I4396570530\" THEN \"2011\" WHEN inst_id = \"I98702875\" THEN \"2011\" WHEN inst_id = \"I70900168\" THEN \"2011\" WHEN inst_id = \"I88467170\" THEN \"2011\" WHEN inst_id = \"I118618916\" THEN \"2011\" WHEN inst_id = \"I141576021\" THEN \"2011\" WHEN inst_id = \"I4210108471\" THEN \"2011\" WHEN inst_id = \"I4387154560\" THEN \"2011\" WHEN inst_id = \"I66456633\" THEN \"2011\" WHEN inst_id = \"I102190016\" THEN \"2011\" WHEN inst_id = \"I12449238\" THEN \"2011\" WHEN inst_id = \"I51101395\" THEN \"2011\" WHEN inst_id = \"I182627622\" THEN \"2011\" WHEN inst_id = \"I39804081\" THEN \"2011\" WHEN inst_id = \"I56435720\" THEN \"2011\" WHEN inst_id = \"I96226040\" THEN \"2011\" WHEN inst_id = \"I62396329\" THEN \"2011\" WHEN inst_id = \"I4210152422\" THEN \"2011\" WHEN inst_id = \"I100445878\" THEN \"2011\" WHEN inst_id = \"I216852786\" THEN \"2011\" WHEN inst_id = \"I119865316\" THEN \"2011\" WHEN inst_id = \"I11935315\" THEN \"2011\" WHEN inst_id = \"I11559806\" THEN \"2011\" WHEN inst_id = \"I149758196\" THEN \"2011\" WHEN inst_id = \"I4210143826\" THEN \"2014\" WHEN inst_id = \"I88814501\" THEN \"2011\" WHEN inst_id = \"I36085230\" THEN \"2012\" WHEN inst_id = \"I4387155307\" THEN \"2012\" WHEN inst_id = \"I188626449\" THEN \"2012\" WHEN inst_id = \"I208215962\" THEN \"2012\" WHEN inst_id = \"I48825208\" THEN \"2012\" WHEN inst_id = \"I40434647\" THEN \"2012\" WHEN inst_id = \"I151295451\" THEN \"2012\" WHEN inst_id = \"I143002897\" THEN \"2012\" WHEN inst_id = \"I7454413\" THEN \"2012\" WHEN inst_id = \"I187986737\" THEN \"2012\" WHEN inst_id = \"I165283593\" THEN \"2012\" WHEN inst_id = \"I90669466\" THEN \"2012\" WHEN inst_id = \"I194210350\" THEN \"2012\" WHEN inst_id = \"I196454796\" THEN \"2012\" WHEN inst_id = \"I52585520\" THEN \"2013\" WHEN inst_id = \"I2800447973\" THEN \"2013\" WHEN inst_id = \"I86908984\" THEN \"2013\" WHEN inst_id = \"I24715933\" THEN \"2013\" WHEN inst_id = \"I112936343\" THEN \"2013\" WHEN inst_id = \"I2801509770\" THEN \"2013\" WHEN inst_id = \"I124158823\" THEN \"2013\" WHEN inst_id = \"I159885104\" THEN \"2013\" WHEN inst_id = \"I171246369\" THEN \"2013\" WHEN inst_id = \"I4210142724\" THEN \"2014\" WHEN inst_id = \"I4210146044\" THEN \"2014\" WHEN inst_id = \"I190861549\" THEN \"2015\" WHEN inst_id = \"I4210115835\" THEN \"2015\" WHEN inst_id = \"I4210097372\" THEN \"2015\" WHEN inst_id = \"I28221208\" THEN \"2015\" ELSE  \"0\" END'"
      ]
     },
     "execution_count": 50,
     "metadata": {},
     "output_type": "execute_result"
    }
   ],
   "source": [
    "expr_rce = \"CASE WHEN \" + ' WHEN '.join([ 'inst_id = \"' + item[0]   + '\" THEN \"' + str(item[1]) +'\"' for item in acces_rce.items()]) + ' ELSE  \"0\" END'\n",
    "expr_rce"
   ]
  },
  {
   "cell_type": "code",
   "execution_count": null,
   "id": "bb3db047-ad53-48b0-a803-4855dcc6f905",
   "metadata": {},
   "outputs": [],
   "source": []
  },
  {
   "cell_type": "code",
   "execution_count": 51,
   "id": "3c601c66-d8d1-488b-9aa6-67f398b16205",
   "metadata": {
    "scrolled": true
   },
   "outputs": [
    {
     "name": "stdout",
     "output_type": "stream",
     "text": [
      "+-----------+---------+-----------------+--------------------+-------------------+-------+---------+--------------------+---------------+-------------------+-------------+-----------+\n",
      "|    inst_id|    idref|              uai|                name|               type|secteur|acces_rce|                idex|date_first_idex|total_idex_dotation|fused_inst_id|fusion_date|\n",
      "+-----------+---------+-----------------+--------------------+-------------------+-------+---------+--------------------+---------------+-------------------+-------------+-----------+\n",
      "|  I88467170|030820529|         0911975C|Université d'Évry...|         Université| public|     2011| [idex_paris_saclay]|           2012|          172882291|   I277688954|       NULL|\n",
      "| I141576021|031308570|         0762762P|Université Le Hav...|         Université| public|     2011|                NULL|           NULL|               NULL|         NULL|       NULL|\n",
      "|I4210152422|026403994|         0311383K|Université Toulou...|         Université| public|     2011|[idex_annulee_tou...|           2013|           56353926|         NULL|       NULL|\n",
      "|I4210144611|026436922|         1270009V|École française d...|Autre établissement| public|        0|                NULL|           NULL|               NULL|         NULL|       NULL|\n",
      "| I112936343|033894221|         0690187D|       Centrale Lyon|              École| public|     2013|[idex_annulee_lyo...|           2012|          224019507|         NULL|       NULL|\n",
      "|I4210108471|026404435|         0720916E|  Le Mans Université|         Université| public|     2011|                NULL|           NULL|               NULL|         NULL|       NULL|\n",
      "|I4210103111|133015572|         0310150V|École nationale s...|              École| public|        0|                NULL|           NULL|               NULL|         NULL|       NULL|\n",
      "|I4210150352|136233902|         0693364G|Institut textile ...|              École|  privé|        0|                NULL|           NULL|               NULL|         NULL|       NULL|\n",
      "|I2279609970|259265152|         0597239Y| Université de Lille|         Université| public|     2010|       [isite_lille]|           2017|           74055406|         NULL|       NULL|\n",
      "|I4210160189|175330263|         0333232J|        Bordeaux INP|Grand établissement| public|        0|     [idex_bordeaux]|           2011|           92201049|         NULL|       NULL|\n",
      "|I4387152728|108803821|         0922605G|Institut national...|              École| public|        0|                NULL|           NULL|               NULL|         NULL|       NULL|\n",
      "| I140494188|050522604|         0101060Y|Université de tec...|              École| public|     2009|                NULL|           NULL|               NULL|         NULL|       NULL|\n",
      "|I4210125872|09560846X|0942500G;0920674H|EPF - École d'ing...|              École|  privé|        0|                NULL|           NULL|               NULL|         NULL|       NULL|\n",
      "|  I90326151|026374862|         0590350K|École des hautes ...|              École|  privé|        0|  [idex_2_cote_azur]|           2016|           73991216|         NULL|       NULL|\n",
      "|  I51101395|027361802|         0751717J|Université Paris ...|         Université| public|     2011|        [idex_hesam]|           2012|           32515745|         NULL|       NULL|\n",
      "|   I7171862|259265152|         0597239Y| Université de Lille|         Université| public|        0|                NULL|           NULL|               NULL|  I2279609970|       2017|\n",
      "| I193033237|026523493|         0312760G|Institut supérieu...|Grand établissement| public|        0|[idex_annulee_tou...|           2013|           56353926|         NULL|       NULL|\n",
      "|  I48825208|026403552|0751724S;0931827F|Université Paris ...|         Université| public|     2012|                NULL|           NULL|               NULL|         NULL|       NULL|\n",
      "| I187986737|026370921|         0753480A|   Collège de France|Grand établissement| public|     2012|          [idex_psl]|           2011|          157116249|         NULL|       NULL|\n",
      "|I2802204017|05017746X|         0561718N|Université Bretag...|         Université| public|     2010|                NULL|           NULL|               NULL|         NULL|       NULL|\n",
      "+-----------+---------+-----------------+--------------------+-------------------+-------+---------+--------------------+---------------+-------------------+-------------+-----------+\n",
      "only showing top 20 rows\n",
      "\n"
     ]
    }
   ],
   "source": [
    "merged = (merged\n",
    "          .withColumn('acces_rce', func.expr(expr_rce))\n",
    "          .join(idex_df\n",
    "                .withColumn('inst_id', func.explode(func.col('inst_id')))\n",
    "                .groupBy('inst_id')\n",
    "                .agg(func.collect_set('idex').alias('idex'),\n",
    "                     func.min('idex_date').alias('date_first_idex'),\n",
    "                     func.sum('idex_dotation').alias('total_idex_dotation'))\n",
    "                , on = 'inst_id', how = 'left')\n",
    "          .join(fused_df, on = 'inst_id', how = 'left')\n",
    "         )\n",
    "merged.count()\n",
    "merged.show()"
   ]
  },
  {
   "cell_type": "code",
   "execution_count": 52,
   "id": "c57919b3-63ec-4e3c-aec6-56a0a5db1e01",
   "metadata": {},
   "outputs": [],
   "source": [
    "merged.write.mode('overwrite').parquet('file:\\\\' + save_path + 'french_inst_type_w_idex.parquet')"
   ]
  },
  {
   "cell_type": "code",
   "execution_count": 17,
   "id": "555470f4-5269-4c6c-934c-12cfbd1e5efd",
   "metadata": {},
   "outputs": [],
   "source": [
    "merged= spark.read.parquet('file:\\\\' + save_path + 'french_inst_type_w_idex.parquet')"
   ]
  },
  {
   "cell_type": "code",
   "execution_count": 5,
   "id": "392db0fe-a31a-463b-87dd-a818575358ba",
   "metadata": {},
   "outputs": [],
   "source": [
    "df_budget = spark.read.format('json').load('file:\\\\' + scanR_path + '\\\\fr-esr-operateurs-indicateurs-financiers.json')"
   ]
  },
  {
   "cell_type": "code",
   "execution_count": 6,
   "id": "530f3ebb-61c2-4815-80b5-a0a21ec1711a",
   "metadata": {
    "scrolled": true
   },
   "outputs": [
    {
     "name": "stdout",
     "output_type": "stream",
     "text": [
      "+-------------+------------------------------+---------------------------------+----------------------------+-------------------------+------------------+----------------------------+----------------------------------+-------------------------+--------------------------+--------------------------------------+--------------------+------------------------------------------+------------------------------------------+----------------+--------------------------------------+------------------+------------------+-----------------+---------------+---------------------------------------------+--------------------+--------------------+------------------------+--------------------------------+--------+---------------------------------------------------+-----------------------------+------------------------------------------+---------------------------------------+----+------------------+--------------------+-------------------------------+----------------------------------------+----------------------+-------------------------------+----------------+------------------+------------------------+----------------------------+-----------------------------------+--------------------+--------------+-------------------------------------------+---------------+-------+------------+\n",
      "|     academie|acquisitions_d_immobilisations|anr_hors_investissements_d_avenir|anr_investissements_d_avenir|autres_ressources_propres|autres_subventions|besoin_en_fonds_de_roulement|caf_acquisitions_d_immobilisations|caf_produits_encaissables|capacite_d_autofinancement|charges_de_fonctionnement_decaissables|charges_de_personnel|charges_de_personnel_produits_encaissables|charges_decaissables_produits_encaissables|charges_externes|charges_externes_produits_encaissables|code_de_l_academie|code_de_la_commune|code_de_la_region|        commune|contrats_et_prestations_de_recherche_hors_anr|droits_d_inscription|       etablissement|etablissement_id_paysage|excedent_brut_d_exploitation_ebe|exercice|fonds_de_roulement_en_jours_de_charges_decaissables|fonds_de_roulement_net_global|formation_continue_diplomes_propres_et_vae|produits_de_fonctionnement_encaissables| rce|  recettes_propres|              region|ressources_propres_encaissables|ressources_propres_produits_encaissables|resultat_net_comptable|resultat_net_comptable_hors_sie|solde_budgetaire|            source|subventions_de_la_region|subventions_union_europeenne|taux_de_remuneration_des_permanents|taxe_d_apprentissage|    tresorerie|tresorerie_en_jours_de_charges_decaissables|uai_identifiant|  vague|valorisation|\n",
      "+-------------+------------------------------+---------------------------------+----------------------------+-------------------------+------------------+----------------------------+----------------------------------+-------------------------+--------------------------+--------------------------------------+--------------------+------------------------------------------+------------------------------------------+----------------+--------------------------------------+------------------+------------------+-----------------+---------------+---------------------------------------------+--------------------+--------------------+------------------------+--------------------------------+--------+---------------------------------------------------+-----------------------------+------------------------------------------+---------------------------------------+----+------------------+--------------------+-------------------------------+----------------------------------------+----------------------+-------------------------------+----------------+------------------+------------------------+----------------------------+-----------------------------------+--------------------+--------------+-------------------------------------------+---------------+-------+------------+\n",
      "|         Nice|                      880002.0|                             NULL|                        NULL|                     NULL|              NULL|                   -234038.0|                  140.626157667823|         30.5503171398192|                 1237513.0|                             2813224.0|                NULL|                           27.128643503639|                          69.4496828601807|            NULL|                                  NULL|               A23|             06088|              R93|           Nice|                                         NULL|                NULL|Observatoire de l...|                   8JlNN|                            NULL|    2016|                                   297.773586461654|                    2326955.0|                                      NULL|                              4050737.0|2023|         2181353.0|Provence-Alpes-Cô...|                      2181353.0|                         53.850768391036|              566999.0|                       566999.0|       1336461.0|Comptes financiers|                    NULL|                        NULL|                               NULL|                NULL|     2560993.0|                           327.722740883769|       0060099A|Vague C|        NULL|\n",
      "|         Nice|                     1009679.0|                         889125.0|                     18647.0|                  59132.0|          890725.0|                  -2054057.0|                  92.9511260509528|         18.9438868083648|                  938508.0|                             4015639.0|           1565889.0|                          31.6076410328559|                          81.0561131916352|            NULL|                                  NULL|               A23|             06088|              R93|           Nice|                                     123176.0|              5042.0|Observatoire de l...|                   8JlNN|                            NULL|    2022|                                   229.777118909344|                    2563061.0|                                      NULL|                              4954147.0|2023|         3627850.0|Provence-Alpes-Cô...|                      2694865.0|                        54.3961452899964|              262319.0|                       262319.0|       1029756.0|Comptes financiers|                 80797.0|                   1561206.0|                               NULL|                NULL|     4617118.0|                           413.922287337084|       0060099A|Vague C|        NULL|\n",
      "|         Nice|                     1824053.0|                         958109.0|                         0.0|                 504978.0|         1291964.0|                  -2625022.0|                 43.24200009539197|        5.664533876376873|                  788757.0|                            1.314652E7|         1.0473204E7|                         75.21431676955739|                         94.41299144916128|            NULL|                                  NULL|               A23|             06088|              R93|           Nice|                                      77178.0|                 0.0|Observatoire de l...|                   8JlNN|                            NULL|    2023|                                   72.1662188929085|                    2635374.0|                                       0.0|                            1.3924482E7|2023|         3769623.0|Provence-Alpes-Cô...|                      3148138.0|                       22.60865431116217|               44184.0|                        44184.0|        313723.0|Comptes financiers|                 87025.0|                    850369.0|                   75.6486160158929|                 0.0|     5260396.0|                           144.048962006676|       0060099A|Vague C|         0.0|\n",
      "|         Nice|                   2.0499796E7|                        2242120.0|                    368169.0|                7040688.0|       2.0917335E7|                -1.0869534E7|                  56.9641912534154|         5.09488106106678|               1.1677543E7|                           2.1752394E8|        1.80462504E8|                          78.7353122024288|                          94.9051185026359|            NULL|                                  NULL|               A23|             06088|              R93|           Nice|                                     510169.0|           5701819.0|Université NICE -...|                   7CYWd|                            NULL|    2019|                                   42.7446049386564|                  2.5827708E7|                                 5776260.0|                           2.29201484E8|2010|       5.2114763E7|Provence-Alpes-Cô...|                    3.8774918E7|                        16.9173939554423|             8496466.0|                      8496466.0|       8889661.0|Comptes financiers|               1748378.0|                   5367684.0|                   85.2255165896461|           1136564.0|   3.6697242E7|                           60.7335777386158|       0060931E|Vague C|   1305577.0|\n",
      "|         Nice|                       12637.0|                             NULL|                        NULL|                     NULL|              NULL|                  -8820806.0|                  648.286776924903|         3.07632572763455|                   81924.0|                             2581124.0|                NULL|                          83.2372842086527|                          96.9237118233362|            NULL|                                  NULL|               A23|             06088|              R93|           Nice|                                         NULL|                NULL|COMUE université ...|                   RDy6Q|                            NULL|    2016|                                   35.2870919800831|                     253001.0|                                      NULL|                              2663047.0|2018|          899539.0|Provence-Alpes-Cô...|                       899539.0|                         33.778562676513|               81924.0|                        81924.0|       8878806.0|Comptes financiers|                    NULL|                        NULL|                               NULL|                NULL|     9073807.0|                           1265.56125160976|       0062126D|Vague C|        NULL|\n",
      "|         Nice|                      573955.0|                             NULL|                        NULL|                     NULL|              NULL|                  -4494470.0|                  4.03690184770583|        0.177854511171827|                   23170.0|                           1.3004332E7|                NULL|                          70.3813209930806|                          99.8221454888282|            NULL|                                  NULL|               A23|             06088|              R93|           Nice|                                         NULL|                NULL|COMUE université ...|                   RDy6Q|                            NULL|    2017|                                        5.739644297|                     207334.0|                                      NULL|                            1.3027502E7|2018|         7632661.0|Provence-Alpes-Cô...|                      7632661.0|                        58.5888299997958|               11558.0|                        11558.0|      -5823604.0|Comptes financiers|                    NULL|                        NULL|                               NULL|                NULL|     4701804.0|                               130.16042962|       0062126D|Vague C|        NULL|\n",
      "|         Nice|                   1.9667011E7|                        2342505.0|                 2.9054794E7|                6179378.0|       2.7444037E7|                -5.2501284E7|                  47.3327136492678|         3.47194842623327|                 9308930.0|                          2.58809396E8|        2.09561341E8|                          78.1600214078615|                          96.5280515737667|            NULL|                                  NULL|               A23|             06088|              R93|           Nice|                                     449108.0|           4239638.0|EPE université Cô...|                   s3t8T|                            NULL|    2021|                                   41.3798925600058|                  2.9748625E7|                                 5592372.0|                           2.68118326E8|2019|       8.5273132E7|Provence-Alpes-Cô...|                    6.1682245E7|                        23.0056057413994|             5262351.0|                      5262351.0|     1.6444358E7|Comptes financiers|               6160467.0|                   1056075.0|                   76.3160647004438|            986243.0|   8.2249909E7|                           114.408393580888|       0062205P|Vague C|   1768515.0|\n",
      "|         Nice|                   2.9861878E7|                        6221681.0|                 1.3914284E7|                4729527.0|       3.6197645E7|                -5.5606573E7|                   35.628171141815|         3.76545816247631|               1.0639241E7|                          2.71909139E8|            2.1914E8|                           77.558399299824|                          96.2345421914454|            NULL|                                  NULL|               A23|             06088|              R93|           Nice|                                     232471.0|           5301412.0|EPE université Cô...|                   s3t8T|                            NULL|    2022|                                   44.9582361407867|                  3.3957098E7|                                 6808415.0|                           2.82548379E8|2019|       8.4513737E7|Provence-Alpes-Cô...|                    7.0722158E7|                        25.0301057292564|             6705871.0|                      6705871.0|       4815383.0|Comptes financiers|               2247766.0|                   5624494.0|                   75.9256903503944|           1027885.0|   8.9563671E7|                           118.579764102743|       0062205P|Vague C|   2208157.0|\n",
      "|        Reims|                     2385504.0|                             NULL|                        NULL|                     NULL|              NULL|                   -232916.0|                  11.5276268662723|        0.850439414727268|                  274992.0|                           3.4466026E7|                NULL|                           79.701625629761|                          106.589526165906|            NULL|                                  NULL|               A19|             10387|              R44|         Troyes|                                         NULL|                NULL|Université de tec...|                   8tVLr|                            NULL|    2015|                                               53.0|                    5085069.0|                                      NULL|                            3.2335284E7|2009|              NULL|           Grand Est|                      9981116.0|                        30.8675686905982|             -862252.0|                           NULL|            NULL|Comptes financiers|                    NULL|                        NULL|                   55.8018182038293|                NULL|     5317985.0|                                       56.0|       0101060Y|Vague C|        NULL|\n",
      "|        Reims|                     2747504.0|                        1197599.0|                    343231.0|                1588204.0|         2002645.0|                  -4252777.0|                -14.06021610887555|       -0.909179037958875|                 -386305.0|                           4.2868236E7|         3.3407198E7|                         78.62472434615565|                         100.8915275895316|            NULL|                                  NULL|               A19|             10387|              R44|         Troyes|                                          0.0|           1274310.0|Université de tec...|                   8tVLr|                            NULL|    2023|                                   57.6713583456058|                    6867415.0|                                 3111098.0|                            4.2489431E7|2009|       1.3337188E7|           Grand Est|                    1.4480426E7|                       34.08006569916175|            -1468097.0|                     -1468097.0|      -3941525.0|Comptes financiers|                607522.0|                   1531908.0|                  75.79605407860019|            619907.0|   1.1120192E7|                           93.3854409124742|       0101060Y|Vague C|   1060764.0|\n",
      "|Aix-Marseille|                      106995.1|                              0.0|                         0.0|                 54499.83|         287738.31|                   528614.45|                  279.863171304107|         6.15470912133992|                 299439.88|                            4555134.02|                NULL|                          52.5464145959289|                          93.6265566958542|      1755331.01|                      36.0792015352725|               A02|             13001|              R93|Aix-en-Provence|                                     68151.04|           313069.88|Institut d'études...|                   G8QBG|                       725515.07|    2011|                                   263.158973487239|                   3329789.98|                                1416387.02|                             4865215.79|NULL|        2810513.79|Provence-Alpes-Cô...|                     2810513.79|                        57.7675053134694|             127901.88|                           NULL|            NULL|Comptes financiers|                 88584.6|                     16800.0|                               NULL|           318297.14|    2801175.53|                           221.381673156567|       0130221V|Vague C|       507.5|\n",
      "|Aix-Marseille|                      233248.0|                             NULL|                        NULL|                     NULL|              NULL|                   -835816.0|                   147.60298051859|         7.41846616956106|                  344281.0|                             4296584.0|                NULL|                          52.1491790862264|                          92.5815338304389|            NULL|                                  NULL|               A02|             13001|              R93|Aix-en-Provence|                                         NULL|                NULL|Institut d'études...|                   G8QBG|                            NULL|    2016|                                   248.043068633128|                    2960383.0|                                      NULL|                              4640865.0|NULL|         2644834.0|Provence-Alpes-Cô...|                      2644834.0|                        56.9901085250271|                9664.0|                         9664.0|        184714.0|Comptes financiers|                    NULL|                        NULL|                               NULL|                NULL|     3796199.0|                            318.07399552761|       0130221V|Vague C|        NULL|\n",
      "|Aix-Marseille|                     7452967.0|                         411363.0|                         0.0|                1234689.0|          953816.0|                  -1301075.0|                  13.5041386873174|         4.96292913210638|                 1006459.0|                           1.9273077E7|         1.4788368E7|                          72.9226151919847|                          95.0370708678936|            NULL|                                  NULL|               A02|             13213|              R93|  Marseille 13e|                                      34500.0|           1451096.0|Ecole centrale de...|                   1tI7C|                            NULL|    2022|                                   69.2191516694506|                    3705739.0|                                  157057.0|                            2.0279536E7|2014|         6471289.0|Provence-Alpes-Cô...|                      4742569.0|                        23.3859837818775|              227539.0|                       227539.0|        175180.0|Comptes financiers|               1410657.0|                    419433.0|                   83.5482789050702|            398678.0|     5006814.0|                           93.5218097245188|       0133774G|Vague C|         0.0|\n",
      "|Aix-Marseille|                     1229556.0|                         427704.0|                         0.0|                1951625.0|         1548443.0|                  -1830682.0|                 88.02624687285491|        4.948056995286478|                 1082332.0|                           2.0791548E7|         1.5650116E7|                           71.547053908454|                         95.05194757637638|            NULL|                                  NULL|               A02|             13213|              R93|  Marseille 13e|                                      45774.0|           1579161.0|Ecole centrale de...|                   1tI7C|                            NULL|    2023|                                   74.3909977265762|                    4296400.0|                                  296668.0|                            2.1873879E7|2014|         6719782.0|Provence-Alpes-Cô...|                      5491819.0|                       25.10674489879001|              207564.0|                       207564.0|       1109282.0|Comptes financiers|                102078.0|                    373637.0|                   84.4905343677267|            394692.0|     6127082.0|                           106.088758759088|       0133774G|Vague C|         0.0|\n",
      "|Aix-Marseille|                 5.394591775E7|                              0.0|                         0.0|               6910651.11|      1.24559936E7|                        NULL|                  27.4183780662439|          2.6576069912521|             1.479109568E7|                        5.4173037199E8|                NULL|                          83.1408229754146|                          97.3360226396853|   6.843145922E7|                      12.2955005078201|               A02|             13207|              R93|  Marseille  7e|                                   4697995.54|          9989670.73|Université AIX MA...|                   xJdyB|                    2.31428648E7|    2012|                                   375.360374204298|                5.648447643E8|                             1.334490023E7|                          5.565569224E8|2012|7.88656088800002E7|Provence-Alpes-Cô...|             7.88656088800002E7|                        14.1702682521518|      5062326.89999995|                           NULL|            NULL|Comptes financiers|              6010808.28|                  4717392.72|                   82.9283805218979|          3653226.55|6.0485003698E8|                            401.94536723671|       0134009M|Vague C|   995092.79|\n",
      "|Aix-Marseille|                    9.800422E7|                      1.2638975E7|                 3.9704966E7|              2.2560978E7|        4.112317E7|               -1.54148045E8|                  21.2260176143435|         3.27653223445288|               2.0802393E7|                          6.14088151E8|        5.00350155E8|                          78.8088856590198|                          96.7234693406218|            NULL|                                  NULL|               A02|             13207|              R93|  Marseille  7e|                                     952061.0|           9032702.0|Université AIX MA...|                   xJdyB|                            NULL|    2018|                                   26.5320587825509|                  4.5258397E7|                                2.196011E7|                           6.34890534E8|2012|      1.69100885E8|Provence-Alpes-Cô...|                   1.27555641E8|                        20.0909659491001|             7922741.0|                      7697878.0|       7520574.0|Comptes financiers|             1.0905755E7|                   4167352.0|                   82.3711227484888|           3369709.0|  1.99406442E8|                            116.89904617619|       0134009M|Vague C|   2685107.0|\n",
      "|Aix-Marseille|                  1.26687654E8|                      1.9354404E7|                 6.3203018E7|               1.335895E7|        5.262022E7|               -1.54830591E8|                   17.929875787265|         2.82883492597001|               2.2714939E7|                           6.8704367E8|        5.52954697E8|                          68.8629434291136|                               96.79962459|            NULL|                                  NULL|               A02|             13207|              R93|  Marseille  7e|                                     753310.0|         1.3774817E7|Université AIX MA...|                   xJdyB|                            NULL|    2022|                                   47.3243168370942|                  9.0316312E7|                               2.5732238E7|                            7.0975861E8|2012|      2.20337764E8|Provence-Alpes-Cô...|                   1.72774535E8|                        33.1259790726402|            -1599019.0|                     -1712255.0|     1.7787354E7|Comptes financiers|               8556008.0|                 1.5544187E7|                   80.1709975339926|           2573012.0|  2.45146903E8|                           128.453093935062|       0134009M|Vague C|   4867600.0|\n",
      "|         Caen|                 1.401241033E7|                              0.0|                         0.0|               8113120.85|        1124638.93|                        NULL|                              NULL|       -0.656916717135802|                      NULL|                         6.100797854E7|                NULL|                          41.1016724765312|                          99.5866686088142|    3.27572446E7|                      53.4714465318534|               A05|             14118|              R28|           Caen|                                   6682036.84|          1823615.27|Université CAEN -...|                   p25Q3|                567013.329999998|    2010|                                   77.0768697559276|                 1.30619556E7|                                5940281.65|                          6.126119027E7|2011|      2.94554407E7|           Normandie|                   2.94554407E7|                        48.0817309787474|                  NULL|                           NULL|            NULL|Comptes financiers|              1828619.79|                   351443.19|                               NULL|          1963170.25|  1.67263572E7|                           98.7000181960134|       0141408E|Vague B|     81099.3|\n",
      "|         Caen|                    5840267.16|                        908630.91|                         0.0|               6333268.19|        2405834.29|                 -8260327.37|                       94.67025974|              2.610449579|                5528996.09|                         2.060751232E8|                NULL|                               82.74414623|                               97.29591228|    2.63983508E7|                           12.46366657|               A05|             14118|              R28|           Caen|                                   1979131.95|          4027767.63|Université CAEN -...|                   p25Q3|                      6249997.04|    2014|                                        21.40811217|                1.225466487E7|                                6579155.92|                          2.118024472E8|2011|     3.222198776E7|           Normandie|                  3.222198776E7|                             15.21322732|            2251630.34|                           NULL|            NULL|Comptes financiers|               4777698.2|                  1774872.62|                   86.4711691850518|           2582779.8| 2.051499224E7|                                35.83837336|       0141408E|Vague B|    57851.87|\n",
      "|         Caen|                     7664787.0|                        859282.11|                         0.0|               5139859.14|        3052524.26|                  -8759668.0|                   57.123126839663|         2.06564126168767|                 4378366.0|                          2.04269568E8|                NULL|                          83.3721895090359|                          96.3710316058353|   2.580501492E7|                           12.17438277|               A05|             14118|              R28|           Caen|                                   2074158.75|          4033928.03|Université CAEN -...|                   p25Q3|                      6905337.37|    2015|                                               21.0|                  1.1702788E7|                                 6846208.8|                           2.11961587E8|2011|     3.164683322E7|           Normandie|                    3.1646833E7|                        14.9304567152538|             1976087.0|                           NULL|            NULL|Comptes financiers|              4403936.08|                  1488445.49|                   85.9040113127347|          2579058.03|   2.0462456E7|                                       36.0|       0141408E|Vague B|    70827.61|\n",
      "+-------------+------------------------------+---------------------------------+----------------------------+-------------------------+------------------+----------------------------+----------------------------------+-------------------------+--------------------------+--------------------------------------+--------------------+------------------------------------------+------------------------------------------+----------------+--------------------------------------+------------------+------------------+-----------------+---------------+---------------------------------------------+--------------------+--------------------+------------------------+--------------------------------+--------+---------------------------------------------------+-----------------------------+------------------------------------------+---------------------------------------+----+------------------+--------------------+-------------------------------+----------------------------------------+----------------------+-------------------------------+----------------+------------------+------------------------+----------------------------+-----------------------------------+--------------------+--------------+-------------------------------------------+---------------+-------+------------+\n",
      "only showing top 20 rows\n",
      "\n"
     ]
    }
   ],
   "source": [
    "df_budget.show()"
   ]
  },
  {
   "cell_type": "markdown",
   "id": "96b7bb8a-5583-4b99-9244-c0288f36f577",
   "metadata": {},
   "source": [
    "# Get all institutions from OpenAlex"
   ]
  },
  {
   "cell_type": "code",
   "execution_count": 4,
   "id": "cce974af-8107-46c5-b8b3-55ed74dd3e8e",
   "metadata": {},
   "outputs": [],
   "source": []
  },
  {
   "cell_type": "code",
   "execution_count": 53,
   "id": "deb8ce23-f09d-453f-b247-339066ab2207",
   "metadata": {},
   "outputs": [],
   "source": [
    "french_inst_type_w_idex = spark.read.parquet('file:\\\\' + save_path + 'french_inst_type_w_idex.parquet')"
   ]
  },
  {
   "cell_type": "code",
   "execution_count": null,
   "id": "a365cc3f-5990-4174-9e34-0350daee4b08",
   "metadata": {},
   "outputs": [],
   "source": [
    "french_inst_type_w_idex"
   ]
  },
  {
   "cell_type": "code",
   "execution_count": 57,
   "id": "8e264243-d358-4b04-9351-4489c0d1c4c7",
   "metadata": {},
   "outputs": [],
   "source": [
    "type_index = {\n",
    "        row['type'] : row['inst_id'] for row in french_inst_type_w_idex.groupBy('type').agg(func.collect_set('inst_id').alias('inst_id')).collect()\n",
    "}\n",
    "secteur_index = {\n",
    "        row['secteur'] : row['inst_id'] for row in french_inst_type_w_idex.groupBy('secteur').agg(func.collect_set('inst_id').alias('inst_id')).collect()\n",
    "}\n",
    "expr_type  = \"CASE WHEN \" + ' WHEN '.join([( \"inst_id IN ('\" + \"' , '\".join(item[1])  + \"')\" + \n",
    "                                                     \" OR arrays_overlap(parent.parent_id, array('\" + \"','\".join(item[1]) + \"'))\"  +\n",
    "                                                     \" THEN '\" + item[0] +\"'\") for item in type_index.items()]) + \" ELSE  'undefined' END\"\n",
    "expr_secteur  = \"CASE WHEN \" + ' WHEN '.join([( \"inst_id IN ('\" + \"' , '\".join(item[1])  + \"')\" + \n",
    "                                                     \" OR arrays_overlap(parent.parent_id, array('\" + \"','\".join(item[1]) + \"'))\"  +\n",
    "                                                     \" THEN '\" + item[0] +\"'\") for item in secteur_index.items()]) + \" ELSE  'undefined' END\""
   ]
  },
  {
   "cell_type": "code",
   "execution_count": 54,
   "id": "95ed69dd-cc69-4f64-b5c1-1dd02fd1ee26",
   "metadata": {
    "scrolled": true
   },
   "outputs": [
    {
     "name": "stdout",
     "output_type": "stream",
     "text": [
      "+-----------+-------------------------------------------------------------------------------+----------+--------------+---------------------------------------------------------+---------------------------------------------------------------------------------------------------------------------------------------------------------+---------------------+--------------------------------------------------------------------------------------------------------------------------------------------------------------------------------------------------------------------------------------------------------------------------------------------------------------------------------------------------------------------------------------------+-------+----+\n",
      "|inst_id    |name                                                                           |type      |city          |homepage_url                                             |topic_share                                                                                                                                              |main_topic           |parent                                                                                                                                                                                                                                                                                                                                                                                      |uni_pub|cnrs|\n",
      "+-----------+-------------------------------------------------------------------------------+----------+--------------+---------------------------------------------------------+---------------------------------------------------------------------------------------------------------------------------------------------------------+---------------------+--------------------------------------------------------------------------------------------------------------------------------------------------------------------------------------------------------------------------------------------------------------------------------------------------------------------------------------------------------------------------------------------+-------+----+\n",
      "|I193033237 |Institut Superieur de l'Aeronautique et de l'Espace (ISAE-SUPAERO)             |education |Toulouse      |https://www.isae-supaero.fr                              |[{Engineering, 0.014542599999999998}]                                                                                                                    |Engineering          |[{I17866349, Université de Toulouse, education}]                                                                                                                                                                                                                                                                                                                                            |1      |0   |\n",
      "|I4210085936|LABCATAL (France)                                                              |company   |Montrouge     |http://www.labcatal.com/                                 |[{Medicine, 1.6759999999999998E-4}, {Nursing, 1.248E-4}]                                                                                                 |Medicine             |[{I4210085936, LABCATAL (France), company}]                                                                                                                                                                                                                                                                                                                                                 |0      |0   |\n",
      "|I4210090216|Laboratoire de la Mer                                                          |facility  |St-Malo       |http://www.laboratoiredelamer.com/?lang=en               |[{Arts and Humanities, 6.75E-5}, {Medicine, 9.250000000000001E-5}, {Biochemistry, Genetics and Molecular Biology, 5.87E-5}]                              |Medicine             |[{I4210090216, Laboratoire de la Mer, facility}]                                                                                                                                                                                                                                                                                                                                            |0      |0   |\n",
      "|I4210096859|Centre Nouvelle Aquitaine-Bordeaux                                             |facility  |Bordeaux      |https://www.inrae.fr/centres/nouvelle-aquitaine-bordeaux/|[{Environmental Science, 1.0809999999999998E-4}, {Medicine, 7.5E-5}]                                                                                     |Environmental Science|[{I4210088668, Institut National de Recherche pour l'Agriculture, l'Alimentation et l'Environnement, government}]                                                                                                                                                                                                                                                                           |0      |0   |\n",
      "|I4210101037|Laboratoire de Physico-Chimie de l'Atmosphère                                  |facility  |Dunkirk       |https://lpca.univ-littoral.fr/                           |[{Earth and Planetary Sciences, 0.0017094999999999999}, {Environmental Science, 0.0022707}, {Chemistry, 0.0026539000000000003}, {Engineering, 0.0020765}]|Chemistry            |[{I4210137101, Délégation Nord, Pas-de-Calais et Picardie, government}, {I2802487185, Université du littoral côte d'opale, education}]                                                                                                                                                                                                                                                      |1      |1   |\n",
      "|I4210106601|Virtual Open Systems (France)                                                  |company   |Grenoble      |http://www.virtualopensystems.com/                       |[{Computer Science, 8.672999999999999E-4}]                                                                                                               |Computer Science     |[{I4210106601, Virtual Open Systems (France), company}]                                                                                                                                                                                                                                                                                                                                     |0      |0   |\n",
      "|I4210110495|Institut de Neurosciences des Systèmes                                         |facility  |Marseille     |http://ins.univ-amu.fr/                                  |[{Neuroscience, 0.0077102}]                                                                                                                              |Neuroscience         |[{I21491767, Aix-Marseille Université, education}, {I4210087487, Assistance Publique Hôpitaux de Marseille, healthcare}, {I154526488, Inserm, government}]                                                                                                                                                                                                                                  |1      |0   |\n",
      "|I4210111182|Impeto Medical (France)                                                        |company   |Paris         |https://www.impeto-medical.com/en/                       |[{Medicine, 1.516E-4}]                                                                                                                                   |Medicine             |[{I4210111182, Impeto Medical (France), company}]                                                                                                                                                                                                                                                                                                                                           |0      |0   |\n",
      "|I4210115196|Laboratoire d’Informatique Fondamentale de Marseille                           |facility  |Marseille     |http://www.lif.univ-mrs.fr/                              |[{Computer Science, 0.0168505}]                                                                                                                          |Computer Science     |[{I21491767, Aix-Marseille Université, education}, {I4210142724, Centrale Marseille, education}, {I4210159245, Institut des Sciences de l'Information et de leurs Interactions, government}]                                                                                                                                                                                                |1      |1   |\n",
      "|I4210131541|ACIES Consulting Group                                                         |other     |Lyon          |http://www.acies-cg.com/                                 |[{NULL, NULL}]                                                                                                                                           |                     |[{I4210131541, ACIES Consulting Group, other}]                                                                                                                                                                                                                                                                                                                                              |0      |0   |\n",
      "|I4210134453|Fondation ARCAD                                                                |nonprofit |Paris         |https://www.fondationarcad.org/en/                       |[{Medicine, 2.139E-4}]                                                                                                                                   |Medicine             |[{I4210134453, Fondation ARCAD, nonprofit}]                                                                                                                                                                                                                                                                                                                                                 |0      |0   |\n",
      "|I4210134684|Ferring Pharmaceuticals (France)                                               |company   |Gentilly      |https://www.ferring.com/                                 |[{Medicine, 3.8860000000000007E-4}]                                                                                                                      |Medicine             |[{I22138158, Ferring Pharmaceuticals (Switzerland), company}]                                                                                                                                                                                                                                                                                                                               |0      |0   |\n",
      "|I4210141217|Vizion’R                                                                       |other     |Paris         |http://vizionr.fr/index-en.html                          |[{NULL, NULL}]                                                                                                                                           |                     |[{I4210141217, Vizion’R, other}]                                                                                                                                                                                                                                                                                                                                                            |0      |0   |\n",
      "|I4210141565|Institut de Chimie Organique et Analytique                                     |facility  |Orléans       |http://www.icoa.fr/en                                    |[{Chemistry, 0.010318800000000001}]                                                                                                                      |Chemistry            |[{I2738703131, Commissariat à l'Énergie Atomique et aux Énergies Alternatives, government}, {I4210128300, Institut de Chimie, facility}, {I12449238, Université d'Orléans, education}]                                                                                                                                                                                                      |1      |1   |\n",
      "|I4210152014|Hôpital Georges-Clemenceau                                                     |healthcare|Champcueil    |http://chu-mondor.aphp.fr/georgesclemenceau/             |[{Medicine, 0.002595000000000001}]                                                                                                                       |Medicine             |[{I4210130325, Hôpitaux Universitaires Henri-Mondor, healthcare}]                                                                                                                                                                                                                                                                                                                           |0      |0   |\n",
      "|I4210156974|Histoire, Archéologie, Littératures des Mondes Chrétiens et Musulmans Médiévaux|facility  |Lyon          |https://ciham.cnrs.fr                                    |[{Arts and Humanities, 0.0075974}, {Social Sciences, 0.004702500000000001}]                                                                              |Arts and Humanities  |[{I4210150854, Institut des Sciences Humaines et Sociales, government}, {I874609350, Université Jean Moulin Lyon III, education}, {I188626449, Université Lumière Lyon 2, education}, {I198415970, Université d'Avignon et des Pays de Vaucluse, education}, {I113428412, École Normale Supérieure de Lyon, education}, {I90669466, École des hautes études en sciences sociales, facility}]|1      |1   |\n",
      "|I4387152196|Immunologie intégrative des tumeurs et immunothérapie du cancer                |facility  |Villejuif     |https://www.gustaveroussy.fr/node/2299                   |[{NULL, NULL}]                                                                                                                                           |                     |[{I4387152196, Immunologie intégrative des tumeurs et immunothérapie du cancer, facility}]                                                                                                                                                                                                                                                                                                  |0      |0   |\n",
      "|I4387153895|Maison des Sciences de l'Homme Paris Nord                                      |facility  |Saint-Denis   |http://www.mshparisnord.fr                               |[{NULL, NULL}]                                                                                                                                           |                     |[{I4387153895, Maison des Sciences de l'Homme Paris Nord, facility}]                                                                                                                                                                                                                                                                                                                        |0      |0   |\n",
      "|I4387154672|Laboratoire Méthodes Formelles                                                 |facility  |Gif-sur-Yvette|https://lmf.cnrs.fr                                      |[{NULL, NULL}]                                                                                                                                           |                     |[{I4387154672, Laboratoire Méthodes Formelles, facility}]                                                                                                                                                                                                                                                                                                                                   |0      |1   |\n",
      "|I4387155482|Centre d'Etudes Germaniques Interculturelles de Lorraine                       |facility  |Metz          |https://cegil.univ-lorraine.fr                           |[{NULL, NULL}]                                                                                                                                           |                     |[{I4387155482, Centre d'Etudes Germaniques Interculturelles de Lorraine, facility}]                                                                                                                                                                                                                                                                                                         |0      |0   |\n",
      "+-----------+-------------------------------------------------------------------------------+----------+--------------+---------------------------------------------------------+---------------------------------------------------------------------------------------------------------------------------------------------------------+---------------------+--------------------------------------------------------------------------------------------------------------------------------------------------------------------------------------------------------------------------------------------------------------------------------------------------------------------------------------------------------------------------------------------+-------+----+\n",
      "only showing top 20 rows\n",
      "\n"
     ]
    }
   ],
   "source": [
    "inst = (df_inst\n",
    "        .filter( (func.col('geo.country_code').isin([\"FR\",'GP','GF','NC','RE','MQ','YT','PF','BL','MF','TF','WF'] )) |\n",
    "                (func.col('country_code').isin([\"FR\",'GP','GF','NC','RE','MQ','YT','PF','BL','MF','TF','WF'] ) ) |\n",
    "                (func.col('geo.country')==\"France\" ) |\n",
    "              (  (func.col('country_code').isNull()) & (func.col('geo.country_code').isNull()) &\n",
    "                  (func.array_distinct(func.col('associated_institutions.country_code')) == func.array([func.lit('FR')]))\n",
    "              )\n",
    "              | (func.col('homepage_url').rlike(\"\\.fr$|\\.fr/\"))\n",
    "                              | ( (func.col('geo.country_code').isNull() )& (func.col('homepage_url').rlike(\"\\.fr$|\\.fr/\")))\n",
    "                              | ( (func.col('geo.country_code').isNull() )& (func.array_distinct(func.col('associated_institutions.country_code')) == func.array([func.lit('FR')])))\n",
    "               )\n",
    "        .select(func.regexp_replace(func.col('id'), 'https://openalex.org/', '').alias('inst_id'), func.col('display_name').alias('name'),\n",
    "                'type', 'geo.city','associated_institutions','topic_share','homepage_url')\n",
    "\n",
    "        .withColumn('topic_share', func.explode_outer(func.transform(func.col('topic_share'), lambda x: func.struct(x.field.display_name.alias('field'), x.value.alias('value')))))\n",
    "        .groupBy(\"inst_id\", \"name\",\n",
    "                'type', 'city','associated_institutions', 'topic_share.field','homepage_url')\n",
    "        .agg(func.sum('topic_share.value').alias('value'))\n",
    "        .withColumn('max_share', func.max(func.col('value')).over(Window.partitionBy('inst_id')))\n",
    "        .filter( (func.col('value')>=0.5*func.col('max_share')) | (func.col('max_share').isNull()))\n",
    "        .withColumn('topic_share', func.collect_set(func.struct(func.col('field').alias('field'), func.col('value').alias('share'))).over(Window.partitionBy('inst_id')))\n",
    "        .withColumn('main_topic', func.concat_ws(',', func.array_except(\n",
    "            func.collect_set( func.when(func.col('value')==func.col('max_share'), func.col('field'))).over(Window.partitionBy('inst_id')), func.array([func.lit(None)]) )))\n",
    "        .drop('max_share','field','value')\n",
    "        .distinct()\n",
    "        .withColumn('parent', func.array_except(func.transform(func.col('associated_institutions'), lambda x: func.when(x.relationship == 'parent', x)) , func.array([func.lit(None)]) ))\n",
    "        .withColumn('parent', func.transform(func.col('parent'), lambda x : func.struct(func.regexp_replace(x.id, 'https://openalex.org/', '').alias('parent_id'),\n",
    "                      x.display_name.alias('parent_name'),\n",
    "                      x.type.alias('parent_type'))))\n",
    "        .drop('associated_institutions')\n",
    "        .withColumn('uni_pub', \n",
    "                  (  ( ( func.col('type') == \"education\")\n",
    "                    & (func.lower(func.col('name')).contains('universit'))\n",
    "                    & ~(func.lower(func.col('name')).contains('catholi'))\n",
    "                     & ~ (func.col('inst_id').isin(list_non_fr_non_uni_pub))\n",
    "                    )\n",
    "                        |\n",
    "                    (\n",
    "                    (func.array_contains(func.col('parent.parent_type'), 'education'))\n",
    "                    & ~(func.arrays_overlap(func.col('parent.parent_id'),func.array([func.lit(fused_uni) for fused_uni in list_non_fr_non_uni_pub])))\n",
    "                    & (func.array_max(func.transform(func.col('parent.parent_name'), lambda x : func.when(func.lower(x).contains('universit'), 1))) ==1)\n",
    "                    & (func.array_max(func.transform(func.col('parent.parent_name'), lambda x : func.when(func.lower(x).contains('catholic'), 1)\n",
    "                                                    .otherwise(0))) ==0)\n",
    "                    )\n",
    "                    ).cast('int')\n",
    "                   )\n",
    "        .fillna(0, subset = ['uni_pub'])\n",
    "       )\n",
    "cnrs_descendants = [row[0] for row in inst.filter((func.array_contains(func.col('parent.parent_id'),'I1294671590')\n",
    "                                                   | (func.col('inst_id')==\"I1294671590\") )\n",
    "                                                  | (func.col('homepage_url').contains('cnrs'))\n",
    "                                                 ).select('inst_id').collect()\n",
    "                   ] + ['I1294671590', 'I57995698']\n",
    "\n",
    "inst = (inst\n",
    "        .withColumn('cnrs', ( (func.col('inst_id').isin(cnrs_descendants) )\n",
    "                             | (func.arrays_overlap(func.col('parent.parent_id'), func.array( [func.lit(el) for el in cnrs_descendants] )))\n",
    "                             | (func.array_max(func.transform(func.col('parent.parent_name'), lambda x: x.contains('CNRS').cast('int'))) ==1)\n",
    "                            ).cast('int')\n",
    "                   )\n",
    "        .fillna(0, subset = ['cnrs'])\n",
    "        .withColumn('parent', func.when( (func.col('parent').isNull() ) | (func.col('parent') == func.array([])), func.array(func.struct(func.col('inst_id').alias('parent_id'),\n",
    "                                                                                           func.col('name').alias('parent_name'),\n",
    "                                                                                           func.col('type').alias('parent_type'))))\n",
    "                              .otherwise(func.col('parent'))\n",
    "        \n",
    "       )\n",
    "             #     .withColumn('parent',func.to_json(func.col('parent')))\n",
    "        \n",
    "       )\n",
    "inst.cache()\n",
    "inst.show(truncate = False)"
   ]
  },
  {
   "cell_type": "code",
   "execution_count": 55,
   "id": "56a35589-80fd-44c5-ae3a-1f90b7a18dc0",
   "metadata": {},
   "outputs": [
    {
     "data": {
      "text/plain": [
       "4972"
      ]
     },
     "execution_count": 55,
     "metadata": {},
     "output_type": "execute_result"
    }
   ],
   "source": [
    "inst.count() #  5106 # 4972\n"
   ]
  },
  {
   "cell_type": "code",
   "execution_count": null,
   "id": "c8f93ea1-863c-42bf-800e-11c8edd599df",
   "metadata": {},
   "outputs": [],
   "source": []
  },
  {
   "cell_type": "code",
   "execution_count": 58,
   "id": "4cc7b84f-97de-4024-9536-1bf745746f31",
   "metadata": {
    "scrolled": true
   },
   "outputs": [
    {
     "name": "stdout",
     "output_type": "stream",
     "text": [
      "+-----------+-------------------------------------------------------------------------------+----------+--------------+---------------------------------------------------------+---------------------------------------------------------------------------------------------------------------------------------------------------------+---------------------+--------------------------------------------------------------------------------------------------------------------------------------------------------------------------------------------------------------------------------------------------------------------------------------------------------------------------------------------------------------------------------------------+-------+----+---------+-----------------------+---------------+-------------------+-------------+-----------+----------+---------+\n",
      "|inst_id    |name                                                                           |type      |city          |homepage_url                                             |topic_share                                                                                                                                              |main_topic           |parent                                                                                                                                                                                                                                                                                                                                                                                      |uni_pub|cnrs|acces_rce|idex                   |date_first_idex|total_idex_dotation|fused_inst_id|fusion_date|type_fr   |secteur  |\n",
      "+-----------+-------------------------------------------------------------------------------+----------+--------------+---------------------------------------------------------+---------------------------------------------------------------------------------------------------------------------------------------------------------+---------------------+--------------------------------------------------------------------------------------------------------------------------------------------------------------------------------------------------------------------------------------------------------------------------------------------------------------------------------------------------------------------------------------------+-------+----+---------+-----------------------+---------------+-------------------+-------------+-----------+----------+---------+\n",
      "|I193033237 |Institut Superieur de l'Aeronautique et de l'Espace (ISAE-SUPAERO)             |education |Toulouse      |https://www.isae-supaero.fr                              |[{Engineering, 0.014542599999999998}]                                                                                                                    |Engineering          |[{I17866349, Université de Toulouse, education}]                                                                                                                                                                                                                                                                                                                                            |1      |0   |0        |[idex_annulee_toulouse]|2013           |56353926           |NULL         |NULL       |Université|public   |\n",
      "|I4210085936|LABCATAL (France)                                                              |company   |Montrouge     |http://www.labcatal.com/                                 |[{Medicine, 1.6759999999999998E-4}, {Nursing, 1.248E-4}]                                                                                                 |Medicine             |[{I4210085936, LABCATAL (France), company}]                                                                                                                                                                                                                                                                                                                                                 |0      |0   |0        |NULL                   |NULL           |NULL               |NULL         |NULL       |Firme     |privé    |\n",
      "|I4210090216|Laboratoire de la Mer                                                          |facility  |St-Malo       |http://www.laboratoiredelamer.com/?lang=en               |[{Arts and Humanities, 6.75E-5}, {Medicine, 9.250000000000001E-5}, {Biochemistry, Genetics and Molecular Biology, 5.87E-5}]                              |Medicine             |[{I4210090216, Laboratoire de la Mer, facility}]                                                                                                                                                                                                                                                                                                                                            |0      |0   |0        |NULL                   |NULL           |NULL               |NULL         |NULL       |undefined |undefined|\n",
      "|I4210096859|Centre Nouvelle Aquitaine-Bordeaux                                             |facility  |Bordeaux      |https://www.inrae.fr/centres/nouvelle-aquitaine-bordeaux/|[{Environmental Science, 1.0809999999999998E-4}, {Medicine, 7.5E-5}]                                                                                     |Environmental Science|[{I4210088668, Institut National de Recherche pour l'Agriculture, l'Alimentation et l'Environnement, government}]                                                                                                                                                                                                                                                                           |0      |0   |0        |[isite_e2s]            |2017           |29122038           |NULL         |NULL       |undefined |public   |\n",
      "|I4210101037|Laboratoire de Physico-Chimie de l'Atmosphère                                  |facility  |Dunkirk       |https://lpca.univ-littoral.fr/                           |[{Earth and Planetary Sciences, 0.0017094999999999999}, {Environmental Science, 0.0022707}, {Chemistry, 0.0026539000000000003}, {Engineering, 0.0020765}]|Chemistry            |[{I4210137101, Délégation Nord, Pas-de-Calais et Picardie, government}, {I2802487185, Université du littoral côte d'opale, education}]                                                                                                                                                                                                                                                      |1      |1   |0        |NULL                   |NULL           |NULL               |NULL         |NULL       |Université|public   |\n",
      "|I4210106601|Virtual Open Systems (France)                                                  |company   |Grenoble      |http://www.virtualopensystems.com/                       |[{Computer Science, 8.672999999999999E-4}]                                                                                                               |Computer Science     |[{I4210106601, Virtual Open Systems (France), company}]                                                                                                                                                                                                                                                                                                                                     |0      |0   |0        |NULL                   |NULL           |NULL               |NULL         |NULL       |Firme     |privé    |\n",
      "|I4210110495|Institut de Neurosciences des Systèmes                                         |facility  |Marseille     |http://ins.univ-amu.fr/                                  |[{Neuroscience, 0.0077102}]                                                                                                                              |Neuroscience         |[{I21491767, Aix-Marseille Université, education}, {I4210087487, Assistance Publique Hôpitaux de Marseille, healthcare}, {I154526488, Inserm, government}]                                                                                                                                                                                                                                  |1      |0   |0        |NULL                   |NULL           |NULL               |NULL         |NULL       |Université|public   |\n",
      "|I4210111182|Impeto Medical (France)                                                        |company   |Paris         |https://www.impeto-medical.com/en/                       |[{Medicine, 1.516E-4}]                                                                                                                                   |Medicine             |[{I4210111182, Impeto Medical (France), company}]                                                                                                                                                                                                                                                                                                                                           |0      |0   |0        |NULL                   |NULL           |NULL               |NULL         |NULL       |Firme     |privé    |\n",
      "|I4210115196|Laboratoire d’Informatique Fondamentale de Marseille                           |facility  |Marseille     |http://www.lif.univ-mrs.fr/                              |[{Computer Science, 0.0168505}]                                                                                                                          |Computer Science     |[{I21491767, Aix-Marseille Université, education}, {I4210142724, Centrale Marseille, education}, {I4210159245, Institut des Sciences de l'Information et de leurs Interactions, government}]                                                                                                                                                                                                |1      |1   |0        |NULL                   |NULL           |NULL               |NULL         |NULL       |Université|public   |\n",
      "|I4210131541|ACIES Consulting Group                                                         |other     |Lyon          |http://www.acies-cg.com/                                 |[{NULL, NULL}]                                                                                                                                           |                     |[{I4210131541, ACIES Consulting Group, other}]                                                                                                                                                                                                                                                                                                                                              |0      |0   |0        |NULL                   |NULL           |NULL               |NULL         |NULL       |undefined |undefined|\n",
      "|I4210134453|Fondation ARCAD                                                                |nonprofit |Paris         |https://www.fondationarcad.org/en/                       |[{Medicine, 2.139E-4}]                                                                                                                                   |Medicine             |[{I4210134453, Fondation ARCAD, nonprofit}]                                                                                                                                                                                                                                                                                                                                                 |0      |0   |0        |NULL                   |NULL           |NULL               |NULL         |NULL       |undefined |privé    |\n",
      "|I4210134684|Ferring Pharmaceuticals (France)                                               |company   |Gentilly      |https://www.ferring.com/                                 |[{Medicine, 3.8860000000000007E-4}]                                                                                                                      |Medicine             |[{I22138158, Ferring Pharmaceuticals (Switzerland), company}]                                                                                                                                                                                                                                                                                                                               |0      |0   |0        |NULL                   |NULL           |NULL               |NULL         |NULL       |Firme     |privé    |\n",
      "|I4210141217|Vizion’R                                                                       |other     |Paris         |http://vizionr.fr/index-en.html                          |[{NULL, NULL}]                                                                                                                                           |                     |[{I4210141217, Vizion’R, other}]                                                                                                                                                                                                                                                                                                                                                            |0      |0   |0        |NULL                   |NULL           |NULL               |NULL         |NULL       |undefined |undefined|\n",
      "|I4210141565|Institut de Chimie Organique et Analytique                                     |facility  |Orléans       |http://www.icoa.fr/en                                    |[{Chemistry, 0.010318800000000001}]                                                                                                                      |Chemistry            |[{I2738703131, Commissariat à l'Énergie Atomique et aux Énergies Alternatives, government}, {I4210128300, Institut de Chimie, facility}, {I12449238, Université d'Orléans, education}]                                                                                                                                                                                                      |1      |1   |0        |NULL                   |NULL           |NULL               |NULL         |NULL       |Université|public   |\n",
      "|I4210152014|Hôpital Georges-Clemenceau                                                     |healthcare|Champcueil    |http://chu-mondor.aphp.fr/georgesclemenceau/             |[{Medicine, 0.002595000000000001}]                                                                                                                       |Medicine             |[{I4210130325, Hôpitaux Universitaires Henri-Mondor, healthcare}]                                                                                                                                                                                                                                                                                                                           |0      |0   |0        |NULL                   |NULL           |NULL               |NULL         |NULL       |undefined |public   |\n",
      "|I4210156974|Histoire, Archéologie, Littératures des Mondes Chrétiens et Musulmans Médiévaux|facility  |Lyon          |https://ciham.cnrs.fr                                    |[{Arts and Humanities, 0.0075974}, {Social Sciences, 0.004702500000000001}]                                                                              |Arts and Humanities  |[{I4210150854, Institut des Sciences Humaines et Sociales, government}, {I874609350, Université Jean Moulin Lyon III, education}, {I188626449, Université Lumière Lyon 2, education}, {I198415970, Université d'Avignon et des Pays de Vaucluse, education}, {I113428412, École Normale Supérieure de Lyon, education}, {I90669466, École des hautes études en sciences sociales, facility}]|1      |1   |0        |NULL                   |NULL           |NULL               |NULL         |NULL       |Université|public   |\n",
      "|I4387152196|Immunologie intégrative des tumeurs et immunothérapie du cancer                |facility  |Villejuif     |https://www.gustaveroussy.fr/node/2299                   |[{NULL, NULL}]                                                                                                                                           |                     |[{I4387152196, Immunologie intégrative des tumeurs et immunothérapie du cancer, facility}]                                                                                                                                                                                                                                                                                                  |0      |0   |0        |NULL                   |NULL           |NULL               |NULL         |NULL       |undefined |undefined|\n",
      "|I4387153895|Maison des Sciences de l'Homme Paris Nord                                      |facility  |Saint-Denis   |http://www.mshparisnord.fr                               |[{NULL, NULL}]                                                                                                                                           |                     |[{I4387153895, Maison des Sciences de l'Homme Paris Nord, facility}]                                                                                                                                                                                                                                                                                                                        |0      |0   |0        |NULL                   |NULL           |NULL               |NULL         |NULL       |undefined |public   |\n",
      "|I4387154672|Laboratoire Méthodes Formelles                                                 |facility  |Gif-sur-Yvette|https://lmf.cnrs.fr                                      |[{NULL, NULL}]                                                                                                                                           |                     |[{I4387154672, Laboratoire Méthodes Formelles, facility}]                                                                                                                                                                                                                                                                                                                                   |0      |1   |0        |NULL                   |NULL           |NULL               |NULL         |NULL       |undefined |undefined|\n",
      "|I4387155482|Centre d'Etudes Germaniques Interculturelles de Lorraine                       |facility  |Metz          |https://cegil.univ-lorraine.fr                           |[{NULL, NULL}]                                                                                                                                           |                     |[{I4387155482, Centre d'Etudes Germaniques Interculturelles de Lorraine, facility}]                                                                                                                                                                                                                                                                                                         |0      |0   |0        |NULL                   |NULL           |NULL               |NULL         |NULL       |undefined |undefined|\n",
      "+-----------+-------------------------------------------------------------------------------+----------+--------------+---------------------------------------------------------+---------------------------------------------------------------------------------------------------------------------------------------------------------+---------------------+--------------------------------------------------------------------------------------------------------------------------------------------------------------------------------------------------------------------------------------------------------------------------------------------------------------------------------------------------------------------------------------------+-------+----+---------+-----------------------+---------------+-------------------+-------------+-----------+----------+---------+\n",
      "only showing top 20 rows\n",
      "\n"
     ]
    }
   ],
   "source": [
    "inst = (inst\n",
    "          .withColumn('acces_rce', func.expr(expr_rce))\n",
    "          .join(idex_df\n",
    "                .withColumn('inst_id', func.explode(func.col('inst_id')))\n",
    "                .groupBy('inst_id')\n",
    "                .agg(func.collect_set('idex').alias('idex'),\n",
    "                     func.min('idex_date').alias('date_first_idex'),\n",
    "                     func.sum('idex_dotation').alias('total_idex_dotation'))\n",
    "                , on = 'inst_id', how = 'left')\n",
    "          .join(fused_df, on = 'inst_id', how = 'left')\n",
    "        .withColumn('type_fr', func.expr(expr_type))\n",
    "        .withColumn('type_fr', func.when(func.col('type_fr')!='undefined', func.col('type_fr'))\n",
    "                    .when(func.col('uni_pub')==1, \"Université\")\n",
    "                    .when((func.col('uni_pub')==0) & (func.col('type')==\"education\"), \"École\")\n",
    "                    .when((func.col('name').rlike('École')), \"École\")\n",
    "                    .when(func.col('type')==\"company\", \"Firme\")\n",
    "                    .otherwise('undefined')\n",
    "                   )\n",
    "        .withColumn('secteur', func.expr(expr_secteur))\n",
    "        .withColumn('secteur', func.when(func.col('secteur')!='undefined', func.col('secteur'))\n",
    "                    .when(func.lower(func.col('name')).rlike(\"de france|établissement français|public|publique\"),'public')\n",
    "                    .when(func.lower(func.col('name')).rlike('privé'), 'privé')\n",
    "                    .when( (func.col('uni_pub')==1) | (func.col('type')==\"government\"), \"public\")\n",
    "                    .when(func.col('type').isin([\"company\",\"nonprofit\"]), \"privé\")\n",
    "                    .when((func.col('type')==\"facility\") & \n",
    "                          (func.lower(func.col('name')).rlike('observatoire|sorbonne|maison des sciences')), \"public\")\n",
    "\n",
    "                    .when((func.col('type_fr')==\"École\") & \n",
    "                          (func.lower(func.col('name')).rlike('national|école normale|école supérieure|académie de|lycée|school of economics|chimie paris|télécom|mines|institut universitaire|ens|purpan|institut français|collège|obs')), \"public\")\n",
    "                    .when((func.col('type_fr')==\"École\") , \"privé\")\n",
    "                    .when( (func.col('type')==\"healthcare\")  & ( (func.lower(func.concat_ws(',', func.col('parent.parent_name'))).rlike('niversit|militaire|armée|national'))\n",
    "                                                              | (func.col('name').contains('Centre Hospitalier')) ) , \"public\")\n",
    "                    .when( (func.col('type')==\"healthcare\")  &(func.lower(func.concat_ws(',', func.col('parent.parent_name'))).rlike('clinique')), \"privé\")\n",
    "\n",
    "                    .when( (func.concat_ws(',', func.col('parent.parent_name')).rlike('National|Publi|Ministère'))  | (func.concat_ws(',', func.col('parent.parent_type')).rlike('government')), \"public\")\n",
    "                    .when(func.col('name').rlike('Fondation|Association'), 'privé')\n",
    "                    .otherwise('undefined')\n",
    "                   )\n",
    "       )\n",
    "inst.show(truncate = False)"
   ]
  },
  {
   "cell_type": "code",
   "execution_count": 59,
   "id": "be223897-84d5-47e2-b223-cf59398ef318",
   "metadata": {},
   "outputs": [],
   "source": [
    "inst.write.mode('overwrite').parquet('file:\\\\' + save_path + 'inst_fr.parquet')"
   ]
  },
  {
   "cell_type": "markdown",
   "id": "b108029f-4d8a-4088-9a1e-50498fe9f751",
   "metadata": {},
   "source": [
    "# Classify all public labs"
   ]
  },
  {
   "cell_type": "code",
   "execution_count": 10,
   "id": "9dc4f9e3-87c1-42c8-9425-375a4a77ab23",
   "metadata": {},
   "outputs": [],
   "source": [
    "inst = spark.read.parquet('file:\\\\' + save_path + 'inst_fr.parquet')"
   ]
  },
  {
   "cell_type": "code",
   "execution_count": 11,
   "id": "f2d28077-9298-4ab9-a1eb-8b10ff9db7c9",
   "metadata": {},
   "outputs": [
    {
     "name": "stdout",
     "output_type": "stream",
     "text": [
      "+-----------+-------------------------------------------------------------------------------------+--------+----+-------------------+--------------+----------+----------------------------------------------------------------------------------------------------------------+-----+-------+----+-------+---------+---------+\n",
      "|inst_id    |name                                                                                 |type    |city|homepage_url       |topic_share   |main_topic|parent                                                                                                          |fused|uni_pub|cnrs|idex   |type_fr  |secteur  |\n",
      "+-----------+-------------------------------------------------------------------------------------+--------+----+-------------------+--------------+----------+----------------------------------------------------------------------------------------------------------------+-----+-------+----+-------+---------+---------+\n",
      "|I4392021178|Unité de recherche interdisciplinaire pour la prévention et le traitement des cancers|facility|Caen|https://anticipe.eu|[{NULL, NULL}]|          |[{I4392021178, Unité de recherche interdisciplinaire pour la prévention et le traitement des cancers, facility}]|0    |0      |0   |no_idex|undefined|undefined|\n",
      "+-----------+-------------------------------------------------------------------------------------+--------+----+-------------------+--------------+----------+----------------------------------------------------------------------------------------------------------------+-----+-------+----+-------+---------+---------+\n",
      "\n"
     ]
    }
   ],
   "source": [
    "inst.filter(func.col('inst_id') == \"I4392021178\").show(truncate = False) #2308"
   ]
  },
  {
   "cell_type": "code",
   "execution_count": 28,
   "id": "ea72b76b-97fa-461b-9ba1-025f551431df",
   "metadata": {},
   "outputs": [
    {
     "data": {
      "text/plain": [
       "2308"
      ]
     },
     "execution_count": 28,
     "metadata": {},
     "output_type": "execute_result"
    }
   ],
   "source": [
    "inst.filter(func.col('type') == \"facility\").count() #2308"
   ]
  },
  {
   "cell_type": "code",
   "execution_count": 23,
   "id": "7d7376ec-1edb-49c9-a878-8ba1ce84714e",
   "metadata": {},
   "outputs": [
    {
     "data": {
      "text/plain": [
       "1366"
      ]
     },
     "execution_count": 23,
     "metadata": {},
     "output_type": "execute_result"
    }
   ],
   "source": [
    "inst.filter( (func.col('type') == \"facility\") & (func.col('type_fr')=='undefined')).count() #1366"
   ]
  },
  {
   "cell_type": "code",
   "execution_count": 24,
   "id": "bde19413-fc8e-4a8d-a0bf-47b697a02611",
   "metadata": {},
   "outputs": [
    {
     "data": {
      "text/plain": [
       "1182"
      ]
     },
     "execution_count": 24,
     "metadata": {},
     "output_type": "execute_result"
    }
   ],
   "source": [
    "inst.filter( (func.col('type') == \"facility\") & (func.col('secteur')=='public')).count() #1182"
   ]
  },
  {
   "cell_type": "code",
   "execution_count": 7,
   "id": "f90e38ae-e9ea-45a9-af8c-3f771f441593",
   "metadata": {},
   "outputs": [],
   "source": [
    "public_labs = spark.read.option(\"multiline\",\"true\").json('file:\\\\' + scanR_path + '\\\\fr-esr-structures-recherche-publiques-actives.json')\n"
   ]
  },
  {
   "cell_type": "code",
   "execution_count": 10,
   "id": "ac8348ac-bdc4-4950-8aef-87989230e7b5",
   "metadata": {
    "scrolled": true
   },
   "outputs": [
    {
     "name": "stdout",
     "output_type": "stream",
     "text": [
      "+--------------------+-----+\n",
      "|   type_de_structure|count|\n",
      "+--------------------+-----+\n",
      "|Fondations de coo...|    6|\n",
      "|        Unité propre| 1866|\n",
      "|      Equipe interne|  692|\n",
      "|         Unité mixte| 1551|\n",
      "|Groupements d'Int...|    7|\n",
      "|Unité mixte inter...|   58|\n",
      "|Collaborations in...|    1|\n",
      "|Groupements d'Int...|    8|\n",
      "|Structures Fédéra...|  366|\n",
      "|      Société privée|    6|\n",
      "|Groupements de Re...|   64|\n",
      "+--------------------+-----+\n",
      "\n"
     ]
    }
   ],
   "source": [
    "public_labs.groupBy('type_de_structure').count().show()"
   ]
  },
  {
   "cell_type": "code",
   "execution_count": 15,
   "id": "fea033b6-4ddd-4abc-a8e2-1b7065ed2c44",
   "metadata": {},
   "outputs": [
    {
     "name": "stdout",
     "output_type": "stream",
     "text": [
      "+--------------------+-----+\n",
      "|   type_de_structure|count|\n",
      "+--------------------+-----+\n",
      "|Fondations de coo...|    2|\n",
      "|        Unité propre|  210|\n",
      "|      Equipe interne|  169|\n",
      "|         Unité mixte| 1046|\n",
      "|Groupements d'Int...|    1|\n",
      "|Unité mixte inter...|   56|\n",
      "|Groupements d'Int...|    2|\n",
      "|Structures Fédéra...|  189|\n",
      "|Groupements de Re...|   56|\n",
      "+--------------------+-----+\n",
      "\n"
     ]
    }
   ],
   "source": [
    "public_labs.filter(func.array_contains(func.col('sigles_des_tutelles'),\"CNRS\")).groupBy('type_de_structure').count().show()"
   ]
  },
  {
   "cell_type": "code",
   "execution_count": 17,
   "id": "76b1ae0d-378c-42d0-a4b0-7c6dc00c3c99",
   "metadata": {},
   "outputs": [
    {
     "data": {
      "text/plain": [
       "4625"
      ]
     },
     "execution_count": 17,
     "metadata": {},
     "output_type": "execute_result"
    }
   ],
   "source": [
    "public_labs.count()"
   ]
  },
  {
   "cell_type": "code",
   "execution_count": 18,
   "id": "0a20e86f-c745-496b-b73e-dac1872a0238",
   "metadata": {},
   "outputs": [
    {
     "name": "stdout",
     "output_type": "stream",
     "text": [
      "+--------------------+-----+\n",
      "|   type_de_structure|count|\n",
      "+--------------------+-----+\n",
      "|Fondations de coo...|    2|\n",
      "|        Unité propre|  210|\n",
      "|      Equipe interne|  169|\n",
      "|         Unité mixte| 1046|\n",
      "|Groupements d'Int...|    1|\n",
      "|Unité mixte inter...|   56|\n",
      "|Groupements d'Int...|    2|\n",
      "|Structures Fédéra...|  189|\n",
      "|Groupements de Re...|   56|\n",
      "+--------------------+-----+\n",
      "\n"
     ]
    }
   ],
   "source": [
    "public_labs.filter(func.array_contains(func.col('sigles_des_tutelles'),\"CNRS\")).groupBy('type_de_structure').count().show()"
   ]
  },
  {
   "cell_type": "code",
   "execution_count": 23,
   "id": "1cd0afd2-7f07-4602-8400-e6b4833c767c",
   "metadata": {},
   "outputs": [
    {
     "name": "stdout",
     "output_type": "stream",
     "text": [
      "+--------------------+--------+-----+\n",
      "|   type_de_structure|has_cnrs|count|\n",
      "+--------------------+--------+-----+\n",
      "|Groupements d'Int...|    true|    1|\n",
      "|        Unité propre|   false|  951|\n",
      "|Groupements d'Int...|   false|    2|\n",
      "|Groupements d'Int...|   false|    4|\n",
      "|Groupements d'Int...|    true|    1|\n",
      "|         Unité mixte|    true|  917|\n",
      "|Structures Fédéra...|    true|  176|\n",
      "|Unité mixte inter...|   false|    2|\n",
      "|         Unité mixte|   false|  429|\n",
      "|Structures Fédéra...|   false|  116|\n",
      "|      Equipe interne|   false|  222|\n",
      "|        Unité propre|    true|  126|\n",
      "|Groupements de Re...|    true|   16|\n",
      "|Unité mixte inter...|    true|   17|\n",
      "|      Equipe interne|    true|  157|\n",
      "|Groupements de Re...|   false|    4|\n",
      "|Fondations de coo...|    true|    2|\n",
      "|Fondations de coo...|   false|    2|\n",
      "+--------------------+--------+-----+\n",
      "\n"
     ]
    }
   ],
   "source": [
    "public_labs.filter(func.array_contains(func.col('code_de_nature_de_tutelle'),\"UNIV\")).groupBy('type_de_structure',\n",
    "func.array_contains(func.col('sigles_des_tutelles'),\"CNRS\").alias('has_cnrs')\n",
    "                                                                                             ).count().show()"
   ]
  },
  {
   "cell_type": "code",
   "execution_count": null,
   "id": "49026255-b553-40eb-b3e9-5aac2605b067",
   "metadata": {},
   "outputs": [],
   "source": [
    "public_labs.filter(func.col('annee_de_creation').groupBy('type_de_structure').count().show()"
   ]
  },
  {
   "cell_type": "code",
   "execution_count": 13,
   "id": "8ecd2d0e-687f-4ada-bbc3-e94d4a23ff2b",
   "metadata": {
    "scrolled": true
   },
   "outputs": [
    {
     "name": "stdout",
     "output_type": "stream",
     "text": [
      "+--------------------+------------------------+-----------------+-------------------------+---------------------------+-------------------------+--------------------------+-----------------------+-------------------------+-------------------+-----------+--------------------+--------------------+--------------------+--------------------+--------------------+--------------------+--------------------+--------------------------+------------------------------+--------------------------+----------------------------+--------------------+---------------------+----------+--------------------+--------------------+--------------------+--------------------+--------------------+--------------------+--------------------+--------------------+--------------------+\n",
      "|             adresse|annee_d_effet_historique|annee_de_creation|code_de_nature_de_tutelle|code_de_niveau_de_structure|code_de_type_de_structure|code_de_type_de_succession|code_de_type_de_tutelle|code_domaine_scientifique|     code_panel_erc|code_postal|             commune|domaine_scientifique|          fiche_rnsr|        label_numero|             libelle|   nature_de_tutelle|  nom_du_responsable|numero_de_structure_enfant|numero_de_structure_historique|numero_de_structure_parent|numero_national_de_structure|           panel_erc|prenom_du_responsable|     sigle| sigles_des_tutelles|  siret_des_tutelles|            site_web|titre_du_responsable|            tutelles|   type_de_structure|  type_de_succession|     type_de_tutelle|    uai_des_tutelles|\n",
      "+--------------------+------------------------+-----------------+-------------------------+---------------------------+-------------------------+--------------------------+-----------------------+-------------------------+-------------------+-----------+--------------------+--------------------+--------------------+--------------------+--------------------+--------------------+--------------------+--------------------------+------------------------------+--------------------------+----------------------------+--------------------+---------------------+----------+--------------------+--------------------+--------------------+--------------------+--------------------+--------------------+--------------------+--------------------+--------------------+\n",
      "|43 Boulevard du 1...|                    NULL|             2007|     [UNIV, AUT_ETAB, ...|                          3|                        3|                      NULL|   [TUTE, TUTE, TUTE...|                      [4]|                PE5|      69622|  VILLEURBANNE CEDEX|            [Chimie]|https://appliweb....|[, , FR 3023, , F...|INSTITUT DE CHIMI...|[Université, Autr...|[PINEL, ANDRIOLETTI]|      [202123703C, 2013...|                          NULL|                      NULL|                  200710696A|[Synthetic Chemis...|   [Catherine, Bruno]|       ICL|[SAINT-ETIENNE, I...|[19421095100423, ...|http://www.iclyon...|[Directrice adjoi...|[Université Jean ...|Structures Fédéra...|                NULL|[établissement tu...|[0421095M, 069019...|\n",
      "|                NULL|                    NULL|             2008|         [UNIV, AUT_ETAB]|                          3|                        3|                      NULL|           [TUTE, PART]|                      [7]|                SH2|      13628|AIX EN PROVENCE C...|[Sciences de la s...|https://appliweb....|        [FED 4280, ]|Droits, Pouvoirs ...|[Université, Autr...|           [PERRIER]|              [202123701A]|                          NULL|                      NULL|                  200810699Z|[Institutions, Go...|      [Jean-Baptiste]|       DPS|[AIX-MARSEILLE, I...|[13001533200013, ...|                NULL|         [Directeur]|[Université Aix-M...|Structures Fédéra...|                NULL|[établissement tu...|[0134009M, 0130221V]|\n",
      "|    33 rue Saint Leu|                    NULL|             2008|                   [UNIV]|                          3|                        3|                      NULL|                 [TUTE]|                      [4]|               NULL|      80039|      AMIENS CEDEX 1|            [Chimie]|https://appliweb....|                NULL|Institut de Chimi...|        [Université]|[POURCEAU, BECUWE...|                      NULL|                          NULL|                      NULL|                  200810700A|                NULL| [Gwladys, Matthie...|      NULL|            [AMIENS]|    [19801344300017]|                NULL|[DIR-AJT, Directe...|[Université Picar...|Structures Fédéra...|                NULL|[établissement tu...|          [0801344B]|\n",
      "|6 avenue Victor l...|                    NULL|             2004|       [UNIV, EPST, UNIV]|                          2|                       22|                      NULL|     [TUTE, TUTE, PART]|                      [1]|                PE1|      29238|       BREST CEDEX 2|[Mathématiques et...|https://appliweb....|[UMR 6205, UMR 62...|LABORATOIRE DE MA...|[Université, Orga...|          [ROUSSEAU]|                      NULL|                          NULL|                      NULL|                  200412254G|[Mathematics : Al...|              [Erwan]|      LMBA|[BREST, CNRS, BRE...|[19290346600014, ...|http://www.math.u...|                NULL|[Université de Br...|         Unité mixte|                NULL|[établissement tu...|[0290346U, 075363...|\n",
      "|41 bis av. de l'O...|          2007;2007;2007|             2006|       [UNIV, EPST, SITE]|                          2|                       22|                     F;F;F|     [TUTE, TUTE, TUTE]|                [2, 3, 4]|PE3;PE2;PE4;PE5;PE9|      25000|            BESANCON|[Physique, Scienc...|https://appliweb....|[UMR 6213, UMR 62...|UNIVERS, TEMPS-FR...|[Université, Orga...|     [LAKARD, LAGES]|              [201120530X]|          [200012172K, 1996...|              [201120530X]|                  200712259Z|[Condensed matter...|        [Boris, José]|    UTINAM|[BESANCON, CNRS, ...|[19251215000363, ...|http://www.utinam...|      [DIR-ADJ, DIR]|[Université Franc...|         Unité mixte|fusion;fusion;fusion|[établissement tu...|[0251215K, 075363...|\n",
      "|2 rue de la Houss...|          2008;2008;2008|             2008|             [EPST, UNIV]|                          2|                       22|                     F;F;F|           [TUTE, TUTE]|                      [4]|               NULL|      44322|      NANTES CEDEX 3|            [Chimie]|https://appliweb....|[UMR 6230, UMR 6230]|CHIMIE ET INTERDI...|[Organismes de ty...|            [BOULER]|              [200810705F]|          [200012107P, 1996...|              [200810705F]|                  200812273K|                NULL|        [Jean-Michel]|    CEISAM|[CNRS, Nantes Uni...|[18008901303720, ...|http://www.scienc...|               [DIR]|[Centre national ...|         Unité mixte|fusion;fusion;fusion|[établissement tu...|[0753639Y, 0442953W]|\n",
      "|3 place Victor Hu...|                    NULL|             2001|     [UNIV, UNIV, EPST...|                          3|                        3|                      NULL|   [TUTE, TUTE, TUTE...|                   [1, 2]|               NULL|      13331|  MARSEILLE CEDEX 03|[Mathématiques et...|https://appliweb....|   [, , FR 2291, , ]|Fédération de rec...|[Université, Univ...|         [BORDENAVE]|      [201420768T, 2012...|                          NULL|                      NULL|                  200410654T|                NULL|            [Charles]|    FRUMAM|[TOULON, AU, CNRS...|[19830766200017, ...|                NULL|         [Directeur]|[Université de To...|Structures Fédéra...|                NULL|[établissement tu...|[0830766G, 084068...|\n",
      "|     1 rue de la Noë|                    NULL|             2002|     [UNIV, AUT_ETAB, ...|                          3|                        3|                      NULL|   [TUTE, TUTE, TUTE...|                   [6, 8]|               NULL|      44321|      NANTES CEDEX 3|[Sciences humaine...|https://appliweb....|[, , , , FR 2488,...|Institut de reche...|[Université, Autr...|[INARD, CALMET, M...|              [200817993C]|                          NULL|                      NULL|                  200610662T|                NULL| [Christian, Isabe...|     IRSTV|[LA ROCHELLE, EC....|[19170032700015, ...|https://irstv.ec-...|[DIR-ADJ, DIR-ADJ...|[Université La Ro...|Structures Fédéra...|                NULL|[établissement tu...|[0171463Y, 044010...|\n",
      "|118 Route de Narb...|                    NULL|             2003|     [AUT_ETAB, UNIV, ...|                          3|                        3|                      NULL|   [TUTE, TUTE, TUTE...|                [2, 4, 5]|               NULL|      31062|    TOULOUSE CEDEX 9|[Physique, Chimie...|https://appliweb....|[, UAR 2599, UAR ...|Institut de Chimi...|[Autres établisse...|  [LAURENT, DELPECH]|      [200317398C, 1999...|                          NULL|                      NULL|                  200310667L|                NULL|      [Régis, Fabien]|       ICT|[INP TOULOUSE, TO...|[19311386700025, ...|https://ict.cnrs.fr/|[DIR-ADJ, Directeur]|[Institut Nationa...|Structures Fédéra...|                NULL|[établissement tu...|[0311381H, 031138...|\n",
      "|Bd de l'Observato...|                    NULL|             2000|     [AUT_ETAB, EPST, ...|                          3|                        3|                      NULL|     [TUTE, TUTE, TUTE]|                      [3]|               NULL|      06304|        NICE CEDEX 4|[Sciences de la t...|https://appliweb....|[UMS 2202, UAR 22...|         GALILEE-OCA|[Autres établisse...|           [MAZEVET]|      [201220434N, 2012...|                          NULL|                      NULL|                  200410855L|                NULL|           [Stéphane]|GALILEEOCA|[OBSV. COTE D'AZU...|[19061563300012, ...|   http://www.oca.eu|         [Directeur]|[Observatoire de ...|Structures Fédéra...|                NULL|[établissement tu...|[0060099A, 075363...|\n",
      "|Cité des Sciences...|                    NULL|             2008|             [UNIV, UNIV]|                          3|                        3|                      NULL|           [TUTE, TUTE]|                   [6, 7]|               NULL|      75019|               PARIS|[Sciences humaine...|https://appliweb....|[UMS 2809, UMS 2809]|               LUTIN|[Université, Univ...|             [TIJUS]|                      NULL|                          NULL|                      NULL|                  200810868H|                NULL|            [Charles]|   UMS2809|[UT COMPIEGNE, PA...|[19601223100169, ...|http://www.lutin-...|                NULL|[Université de Te...|Structures Fédéra...|                NULL|[établissement tu...|[0601223D, 0931827F]|\n",
      "|     32 Rue Megevand|                    NULL|             2000|       [UNIV, UNIV, EPST]|                          2|                       22|                      NULL|     [TUTE, TUTE, TUTE]|            [3, 6, 7, 10]|       PE10;SH3;SH2|      25030|      BESANCON CEDEX|[Sciences de la t...|https://appliweb....|[UMR 6049, UMR 60...|THEORISER ET MODE...|[Université, Univ...|[TANNIER, THEVENI...|                      NULL|                          NULL|                      NULL|                  200012140A|[Earth System Sci...| [Cécile, Thomas, ...|     ThéMA|[DIJON, BESANCON,...|[19211237300019, ...|http://thema.univ...|[Directrice adjoi...|[Université Bourg...|         Unité mixte|                NULL|[établissement tu...|[0211237F, 025121...|\n",
      "|Université Paris-...|                    NULL|             2006|       [EPST, EPST, UNIV]|                          3|                        3|                      NULL|     [TUTE, TUTE, TUTE]|                      [5]|               NULL|      91400|               ORSAY|[Biologie, médeci...|https://appliweb....|[IFR 141, IFR 141, ]|Fédération Paris-...|[Organismes de ty...|        [BACHELERIE]|              [201019138N]|                          NULL|                      NULL|                  200610822S|                NULL|          [Françoise]|     FPSIT|[INSERM, INRAE, U...|[18003604800015, ...|                NULL|               [DIR]|[Institut nationa...|Structures Fédéra...|                NULL|[établissement tu...|[0755364Y, , 0912...|\n",
      "|   17 rue de Martyrs|          2007;2007;2007|             2006|       [EPST, EPIC, UNIV]|                          2|                       22|                  EF;EF;EF|     [TUTE, TUTE, TUTE]|                   [4, 5]|        LS2;PE5;LS1|      38054|    GRENOBLE CEDEX 9|[Chimie, Biologie...|https://appliweb....|[UMR 5249, UMR 52...|LABORATOIRE DE CH...|[Organismes de ty...| [ARTERO, RABILLOUD]|                      NULL|          [200311831B, 1989...|      [201923169F, 2011...|                  200711914Z|[Integrative Biol...|   [Vincent, Thierry]|      LCBM|[CNRS, CEA, GRENO...|[18008901303720, ...|                NULL|[, directeur-adjo...|[Centre national ...|         Unité mixte|éclatement - fusi...|[établissement tu...|[0753639Y, 091228...|\n",
      "|  21 rue des Martyrs|               2007;2007|             2006|     [AUT_ETAB, EPST, ...|                          2|                       22|                       F;F|     [TUTE, TUTE, TUTE]|                   [2, 8]|            PE3;PE8|      38031|    GRENOBLE CEDEX 1|[Physique, Scienc...|https://appliweb....|[UMR 5269, UMR 52...|Laboratoire de Gé...|[Autres établisse...|[LEMBEYE, HADJ-SAID]|                      NULL|          [199511973R, 1995...|                      NULL|                  200711931T|[Condensed matter...|    [Yves, Nouredine]|    G2Elab|[GRENOBLE INP, CN...|[19381912500017, ...|http://www.g2elab...|[DIR-ADJ, Directeur]|[Institut polytec...|         Unité mixte|       fusion;fusion|[établissement tu...|[0381912X, 075363...|\n",
      "| 14 avenue Berthelot|                    NULL|             1995|     [UNIV, AUT_ETAB, ...|                          2|                       22|                      NULL|     [TUTE, TUTE, TUTE]|                   [6, 7]|        SH2;SH1;SH3|      69363|       LYON CEDEX 07|[Sciences humaine...|https://appliweb....|[UMR 5593, UMR 55...|Laboratoire Aména...|[Université, Autr...|  [PEGUY, BOUZOUINA]|                      NULL|                          NULL|              [201119599K]|                  197112027D|[Institutions, Go...| [Pierre-Yves, Lou...|      LAET|[LYON 2, ENTPE LY...|[19691775100014, ...|http://www.laet.s...|      [DIR, DIR-ADJ]|[Université Lumiè...|         Unité mixte|                NULL|[établissement tu...|[0691775E, 069256...|\n",
      "|5 allées Antonio ...|                    NULL|             1995|     [UNIV, EPST, AUT_...|                          2|                       22|                      NULL|     [TUTE, TUTE, PART]|                      [6]|               NULL|      31058|    TOULOUSE CEDEX 9|[Sciences humaine...|https://appliweb....|[UMR 5602, UMR 56...|GEOGRAPHIE DE L'E...|[Université, Orga...|[MAZIER, CHALLEAT...|                      NULL|                          NULL|                      NULL|                  199512032E|                NULL| [Florence, Samuel...|     GEODE|[TOULOUSE 2, CNRS...|[19311383400017, ...|http://w3.geode.u...|[Directrice adjoi...|[Université Toulo...|         Unité mixte|                NULL|[établissement tu...|[0311383K, 075363...|\n",
      "|  4 rue Enrico Fermi|                    NULL|             1995|             [UNIV, EPST]|                          2|                       22|                      NULL|           [TUTE, TUTE]|                   [2, 3]|    PE2;PE9;PE1;LS7|      69622|  VILLEURBANNE CEDEX|[Physique, Scienc...|https://appliweb....|[UMR 5822, UMR 5822]|INSTITUT DE PHYSI...|[Université, Orga...|    [MARTEAU, EALET]|                      NULL|                          NULL|      [201119599K, 2011...|                  199512096Z|[Fundamental cons...|      [Jacques, Anne]| IP2I Lyon|      [LYON 1, CNRS]|[19691774400019, ...|http://www.ipnl.i...|[Directeur adjoin...|[Université Claud...|         Unité mixte|                NULL|[établissement tu...|[0691774D, 0753639Y]|\n",
      "| 14 avenue Berthelot|                    NULL|             1995|     [UNIV, UNIV, AUT_...|                          2|                       22|                      NULL|   [TUTE, TUTE, TUTE...|                      [6]|                SH6|      69363|       LYON CEDEX 07|[Sciences humaine...|https://appliweb....|[UMR 5648, UMR 56...|Histoire et Arché...|[Université, Univ...|[CARRIER, AILLET,...|                      NULL|                          NULL|              [201420876K]|                  199412070A|[The Study of the...| [Nicolas, Cyrille...|     CIHAM|[LYON 2, LYON 3, ...|[19691775100014, ...|http://ciham.ish-...|[Directeur adjoin...|[Université Lumiè...|         Unité mixte|                NULL|[établissement tu...|[0691775E, 069243...|\n",
      "|   46 allée d'Italie|                    NULL|             1999|     [EPST, AUT_ETAB, ...|                          2|                       22|                      NULL|     [TUTE, TUTE, PART]|                      [1]|               NULL|      69364|       LYON CEDEX 07|[Mathématiques et...|https://appliweb....|[UMR 5669, UMR 56...|Unité de mathémat...|[Organismes de ty...| [GARIVIER, DEGLISE]|      [202424543C, 2009...|                          NULL|              [201119599K]|                  199812077R|                NULL| [Aurélien, Frédéric]| UMPA/ENSL|[CNRS, ENS LYON, ...|[18008901303720, ...|http://www.umpa.e...|[Directeur adjoin...|[Centre national ...|         Unité mixte|                NULL|[établissement tu...|[0753639Y, 069412...|\n",
      "+--------------------+------------------------+-----------------+-------------------------+---------------------------+-------------------------+--------------------------+-----------------------+-------------------------+-------------------+-----------+--------------------+--------------------+--------------------+--------------------+--------------------+--------------------+--------------------+--------------------------+------------------------------+--------------------------+----------------------------+--------------------+---------------------+----------+--------------------+--------------------+--------------------+--------------------+--------------------+--------------------+--------------------+--------------------+--------------------+\n",
      "only showing top 20 rows\n",
      "\n"
     ]
    }
   ],
   "source": [
    "public_labs.show()"
   ]
  },
  {
   "cell_type": "code",
   "execution_count": 9,
   "id": "21d56009-1284-480a-a106-14a9e1fe495f",
   "metadata": {},
   "outputs": [
    {
     "name": "stdout",
     "output_type": "stream",
     "text": [
      "+--------------------+-----+\n",
      "|  type_de_succession|count|\n",
      "+--------------------+-----+\n",
      "|fusion;fusion;fus...|    1|\n",
      "|éclatement - fusi...|   18|\n",
      "|renouvellement;éc...|    1|\n",
      "|éclatement - fusi...|    1|\n",
      "|intégration;intég...|    1|\n",
      "|renouvellement;re...|    1|\n",
      "|essaimage;fusion;...|    1|\n",
      "|              fusion|    9|\n",
      "|éclatement - fusi...|    2|\n",
      "|éclatement - fusi...|    1|\n",
      "|                NULL| 3800|\n",
      "|essaimage;essaima...|    1|\n",
      "|éclatement - fusi...|    1|\n",
      "|      renouvellement|  198|\n",
      "|           essaimage|   32|\n",
      "|essaimage;intégra...|    1|\n",
      "|intégration;intég...|    1|\n",
      "|éclatement - fusi...|    2|\n",
      "|fusion;fusion;écl...|    1|\n",
      "|    essaimage-fusion|    2|\n",
      "+--------------------+-----+\n",
      "only showing top 20 rows\n",
      "\n"
     ]
    }
   ],
   "source": [
    "public_labs.groupBy('type_de_succession').count().show()"
   ]
  },
  {
   "cell_type": "code",
   "execution_count": 14,
   "id": "54b209d8-40a5-40cc-b653-813af6b96f2f",
   "metadata": {},
   "outputs": [
    {
     "name": "stdout",
     "output_type": "stream",
     "text": [
      "['arabic', 'azerbaijani', 'basque', 'bengali', 'catalan', 'chinese', 'danish', 'dutch', 'english', 'finnish', 'french', 'german', 'greek', 'hebrew', 'hinglish', 'hungarian', 'indonesian', 'italian', 'kazakh', 'nepali', 'norwegian', 'portuguese', 'romanian', 'russian', 'slovene', 'spanish', 'swedish', 'tajik', 'turkish']\n"
     ]
    }
   ],
   "source": [
    "from nltk.corpus import stopwords\n",
    "print(stopwords.fileids())\n",
    "stopwords_dict = {}\n",
    "for language in stopwords.fileids():\n",
    "    stopwords_dict[language.capitalize()] = stopwords.words(language)\n",
    "    \n",
    "def rm_stopwords(x,y):\n",
    "    try:\n",
    "        list_x = x.split(' ')\n",
    "        list_y = y\n",
    "        return(' '.join([word for word in list_x if word not in list_y]))\n",
    "    except:\n",
    "        return(x)\n",
    "udf_rm_stopwords = func.udf(rm_stopwords)"
   ]
  },
  {
   "cell_type": "code",
   "execution_count": 15,
   "id": "bc36e433-5763-4500-99d6-79a75c45b58b",
   "metadata": {},
   "outputs": [],
   "source": [
    "import unidecode\n",
    "def unidecode_debug(x):\n",
    "    try:\n",
    "        return unidecode.unidecode(x) if x is not None else None\n",
    "       \n",
    "    except:\n",
    "        return(x)\n",
    "\n",
    "udf_unidecode = func.udf(unidecode_debug, StringType())\n",
    "\n",
    "def stemmer(x,y):\n",
    "    try:\n",
    "        if y == 'fr' or y == 'French' or y == 'Français':\n",
    "            output = ' '.join([FrenchStemmer().stem(word) for word in x.split(' ')])\n",
    "            return(output)\n",
    "        else:\n",
    "            output = ' '.join([PorterStemmer().stem(word) for word in x.split(' ')])\n",
    "            return(output)\n",
    "    except:\n",
    "        return(x)\n",
    "udf_stemmer = func.udf(stemmer)"
   ]
  },
  {
   "cell_type": "code",
   "execution_count": 152,
   "id": "109f1432-0295-42e8-af27-7dcdfa160a6c",
   "metadata": {},
   "outputs": [
    {
     "data": {
      "text/plain": [
       "8904"
      ]
     },
     "execution_count": 152,
     "metadata": {},
     "output_type": "execute_result"
    }
   ],
   "source": [
    "regex_homepage = r'(?:(?<=[w]{3}\\.)|(?<=//)|(?<=[w]{3}6\\.))[\\w\\W]*(?:(?=\\.fr)|(?=\\.com)|(?=\\.org)|(?=\\.net)|(?=\\.eu)|(?=\\.edu)|(?=\\.int))'\n",
    "try:\n",
    "    matching_url.unpersist()\n",
    "except:\n",
    "    print('first run')\n",
    "\n",
    "matching_url = (inst\n",
    "                .select('inst_id', 'name', 'homepage_url')\n",
    "                .withColumn('homepage_url_recoded_oa', func.regexp_extract(func.col('homepage_url'), regex_homepage,0))\n",
    "                .withColumn('homepage_url_recoded_oa', func.when(func.col('homepage_url_recoded_oa') =='',\n",
    "                                                              func.regexp_extract(func.col('homepage_url'), \n",
    "                                                                                  r'(?:(?<=[w]{3}\\.)|(?<=//)|(?<=[w]{3}6\\.))[\\w\\W]*(?=\\.[\\w\\W]{2,})',0))\n",
    "                            .otherwise(func.col('homepage_url_recoded_oa')))\n",
    "                \n",
    "                .withColumn('homepage_url_recoded_oa', func.when(func.col('homepage_url_recoded_oa') =='',\n",
    "                                                              func.col('homepage_url'))\n",
    "                            .otherwise(func.col('homepage_url_recoded_oa')))\n",
    "                .withColumnRenamed('homepage_url', 'url_oa')\n",
    "                .crossJoin(public_labs\n",
    "                      .select('numero_national_de_structure', func.col('site_web').alias('homepage_url'),'libelle')\n",
    "                      .withColumn('homepage_url_recoded_lab', func.regexp_extract(func.col('homepage_url'), regex_homepage,0))\n",
    "                      .withColumn('homepage_url_recoded_lab', func.when(func.col('homepage_url_recoded_lab') =='',\n",
    "                                                                    func.regexp_extract(func.col('homepage_url'), \n",
    "                                                                                  r'(?:(?<=[w]{3}\\.)|(?<=//)|(?<=[w]{3}6\\.))[\\w\\W]*(?=\\.[\\w\\W]{2,})',0))\n",
    "                                  .otherwise(func.col('homepage_url_recoded_lab')))\n",
    "                      .withColumn('homepage_url_recoded_lab', func.when(func.col('homepage_url_recoded_lab') =='',\n",
    "                                                                    func.col('homepage_url'))\n",
    "                                  .otherwise(func.col('homepage_url_recoded_lab')))\n",
    "                    .withColumnRenamed('homepage_url', 'url_lab')\n",
    "                     )\n",
    "                .filter(func.levenshtein(func.col('homepage_url_recoded_lab'), func.col('homepage_url_recoded_oa'))<=5)\n",
    "                .withColumn('n_links', func.count(func.col('numero_national_de_structure')).over(Window.partitionBy('numero_national_de_structure')))\n",
    "                .withColumn('min_levenshtein_s', func.min(func.levenshtein(func.col('homepage_url_recoded_lab'), func.col('homepage_url_recoded_oa')))\n",
    "                            .over(Window.partitionBy('numero_national_de_structure')))\n",
    "                .withColumn('min_levenshtein_o', func.min(func.levenshtein(func.col('homepage_url_recoded_lab'), func.col('homepage_url_recoded_oa')))\n",
    "                            .over(Window.partitionBy('inst_id')))\n",
    "\n",
    "                .withColumn('homepage_url_recoded_oa_2', func.regexp_extract(func.col('url_oa'), \n",
    "                                                                                        r'(?:(?<=[w]{3}\\.)|(?<=//)|(?<=[w]{3}6\\.))[\\w\\W]*', 0))\n",
    "                .withColumn('homepage_url_recoded_lab_2', func.regexp_extract(func.col('url_lab'), \n",
    "                                                                                        r'(?:(?<=[w]{3}\\.)|(?<=//)|(?<=[w]{3}6\\.))[\\w\\W]*', 0))\n",
    "                .withColumn('has_perfect_link_lab', func.max( (func.col('homepage_url_recoded_lab')==func.col('homepage_url_recoded_oa')).cast('int')).over(Window.partitionBy('numero_national_de_structure')))\n",
    "                .withColumn('has_perfect_link_oa', func.max( (func.col('homepage_url_recoded_lab')==func.col('homepage_url_recoded_oa')).cast('int')).over(Window.partitionBy('inst_id')))\n",
    "                .filter( \n",
    "                        (func.col('n_links')==1) \n",
    "                    |  (func.col('url_oa')==func.col('url_lab'))\n",
    "                    | ((func.col('homepage_url_recoded_oa') == func.col('homepage_url_recoded_lab'))\n",
    "                     &( (func.col('min_levenshtein_s')==func.levenshtein(func.col('homepage_url_recoded_lab'), func.col('homepage_url_recoded_oa')))\n",
    "                           | (func.col('min_levenshtein_o')==func.levenshtein(func.col('homepage_url_recoded_lab'), func.col('homepage_url_recoded_oa')))\n",
    "                         )\n",
    "                      )\n",
    "                    | (\n",
    "                         (func.col('homepage_url_recoded_oa_2') == func.col('homepage_url_recoded_lab_2'))\n",
    "                        &( (func.col('min_levenshtein_s')==func.levenshtein(func.col('homepage_url_recoded_lab'), func.col('homepage_url_recoded_oa')))\n",
    "                           | (func.col('min_levenshtein_o')==func.levenshtein(func.col('homepage_url_recoded_lab'), func.col('homepage_url_recoded_oa')))\n",
    "                         )\n",
    "                    )\n",
    "                    \n",
    "                    | (\n",
    "                         (func.col('homepage_url_recoded_oa') == func.col('homepage_url_recoded_lab'))  \n",
    "                    &\n",
    "                        # (    (func.col('has_perfect_link_lab')==0) | ( func.col('has_perfect_link_oa')==0) )\n",
    "                           #& \n",
    "                        (func.levenshtein(func.col('homepage_url_recoded_oa_2'), func.col('homepage_url_recoded_lab_2'))<=3)\n",
    "                        \n",
    "\n",
    "                    )\n",
    "#\n",
    "                    \n",
    "                    |\n",
    "                    \n",
    "                    (\n",
    "                        ( func.levenshtein(func.col('url_lab'), func.col('url_oa')) <=3)  #& (func.col('has_perfect_link_lab')+ func.col('has_perfect_link_oa')==0)\n",
    "                        &( (func.col('min_levenshtein_s')==func.levenshtein(func.col('url_lab'), func.col('url_oa')))\n",
    "                           | (func.col('min_levenshtein_o')==func.levenshtein(func.col('url_lab'), func.col('url_oa')))\n",
    "                         )\n",
    "                        ) \n",
    ")\n",
    "\n",
    "                .distinct()\n",
    "               )\n",
    "matching_url.cache()\n",
    "matching_url.count() #8904"
   ]
  },
  {
   "cell_type": "code",
   "execution_count": 218,
   "id": "522edcde-203e-43eb-bfb9-43cf2fb473c4",
   "metadata": {},
   "outputs": [
    {
     "data": {
      "text/plain": [
       "1313"
      ]
     },
     "execution_count": 218,
     "metadata": {},
     "output_type": "execute_result"
    }
   ],
   "source": [
    "matching_url_2 = (matching_url\n",
    "                .withColumn('n_links_s', func.count(func.col('inst_id')).over(Window.partitionBy('numero_national_de_structure')))\n",
    "                .withColumn('n_links_oa', func.count(func.col('numero_national_de_structure')).over(Window.partitionBy('inst_id')))\n",
    "                .withColumn('homepage_url_recoded_lab_2', func.regexp_replace(func.col('homepage_url_recoded_lab_2'), 'http://www.|https://www.|https://www6.|http://www6.|http://|https://|\\?lang=en|\\?lang=fr|$|/en',''))\n",
    "                .withColumn('homepage_url_recoded_oa_2', func.regexp_replace(func.col('homepage_url_recoded_oa_2'), 'http://www.|https://www.|https://www6.|http://www6.|http://|https://|\\?lang=en|\\?lang=fr|/$|/en',''))\n",
    "                .withColumn('levenshtein', func.levenshtein(func.col('homepage_url_recoded_lab_2'), func.col('homepage_url_recoded_oa_2')))\n",
    "                .withColumn('min_levenshtein_s', func.min('levenshtein')\n",
    "                            .over(Window.partitionBy('numero_national_de_structure')))\n",
    "                .withColumn('min_levenshtein_o', func.min(\"levenshtein\")\n",
    "                            .over(Window.partitionBy('inst_id')))\n",
    "\n",
    "                .filter( ( (func.col('n_links_s')==1) & (func.col('n_links_oa')==1))\n",
    "                       |\n",
    "                       ( (func.col('levenshtein')==func.col('min_levenshtein_s'))\n",
    "                        & (func.col('levenshtein')==func.col('min_levenshtein_o'))\n",
    "                        & (func.col('levenshtein')<=3)\n",
    "                       )\n",
    "                       \n",
    "                       )\n",
    "                .withColumn('n_links_s', func.count(func.col('inst_id')).over(Window.partitionBy('numero_national_de_structure')))\n",
    "                .withColumn('n_links_oa', func.count(func.col('numero_national_de_structure')).over(Window.partitionBy('inst_id')))\n",
    "                 )\n",
    "matching_url_2.cache()\n",
    "matching_url_2.filter(func.col('n_links_oa')<=2).count()\n",
    "#matching_url_2.groupBy('n_links_s','n_links_oa').count().sort(func.col('count').desc()).show()"
   ]
  },
  {
   "cell_type": "code",
   "execution_count": null,
   "id": "16cbb0bc-fb82-42f7-97f5-cbcc2466f8c3",
   "metadata": {},
   "outputs": [],
   "source": []
  },
  {
   "cell_type": "code",
   "execution_count": 161,
   "id": "44f111a4-27b3-43b3-b217-38687f0865ee",
   "metadata": {},
   "outputs": [
    {
     "name": "stdout",
     "output_type": "stream",
     "text": [
      "+--------------------+------------------------+-----------------+-------------------------+---------------------------+-------------------------+--------------------------+-----------------------+-------------------------+--------------+-----------+-------+--------------------+--------------------+------------+--------------+--------------------+------------------+--------------------------+------------------------------+--------------------------+----------------------------+--------------------+---------------------+----------+-------------------+------------------+--------------------+--------------------+--------------------+-----------------+------------------+--------------------+----------------+\n",
      "|             adresse|annee_d_effet_historique|annee_de_creation|code_de_nature_de_tutelle|code_de_niveau_de_structure|code_de_type_de_structure|code_de_type_de_succession|code_de_type_de_tutelle|code_domaine_scientifique|code_panel_erc|code_postal|commune|domaine_scientifique|          fiche_rnsr|label_numero|       libelle|   nature_de_tutelle|nom_du_responsable|numero_de_structure_enfant|numero_de_structure_historique|numero_de_structure_parent|numero_national_de_structure|           panel_erc|prenom_du_responsable|     sigle|sigles_des_tutelles|siret_des_tutelles|            site_web|titre_du_responsable|            tutelles|type_de_structure|type_de_succession|     type_de_tutelle|uai_des_tutelles|\n",
      "+--------------------+------------------------+-----------------+-------------------------+---------------------------+-------------------------+--------------------------+-----------------------+-------------------------+--------------+-----------+-------+--------------------+--------------------+------------+--------------+--------------------+------------------+--------------------------+------------------------------+--------------------------+----------------------------+--------------------+---------------------+----------+-------------------+------------------+--------------------+--------------------+--------------------+-----------------+------------------+--------------------+----------------+\n",
      "|49 avenue des Gen...|                    NULL|             2019|               [AUT_ETAB]|                          1|                        1|                      NULL|                 [TUTE]|                      [5]|           PE8|      95895|  CERGY|[Biologie, médeci...|https://appliweb....|        NULL|Biotechnologie|[Autres établisse...|           [SENNI]|                      NULL|                          NULL|              [202124066X]|                  201924068H|[Products and Pro...|              [Karim]|EBInnov® 2|              [EBI]|  [38859163800035]|http://www.ebi-ed...|               [DIR]|[Ecole de Biologi...|   Equipe interne|              NULL|[établissement tu...|      [0951820M]|\n",
      "+--------------------+------------------------+-----------------+-------------------------+---------------------------+-------------------------+--------------------------+-----------------------+-------------------------+--------------+-----------+-------+--------------------+--------------------+------------+--------------+--------------------+------------------+--------------------------+------------------------------+--------------------------+----------------------------+--------------------+---------------------+----------+-------------------+------------------+--------------------+--------------------+--------------------+-----------------+------------------+--------------------+----------------+\n",
      "\n"
     ]
    }
   ],
   "source": [
    "public_labs.filter(func.col('numero_national_de_structure')==\"201924068H\").show()"
   ]
  },
  {
   "cell_type": "code",
   "execution_count": 219,
   "id": "8dafa3c9-dfc9-4f0b-b4e2-c5c996cc6362",
   "metadata": {},
   "outputs": [
    {
     "data": {
      "text/plain": [
       "3332"
      ]
     },
     "execution_count": 219,
     "metadata": {},
     "output_type": "execute_result"
    }
   ],
   "source": [
    "unmatched = (public_labs\n",
    "             .join(matching_url_2.filter(func.col('n_links_oa')<=2).select('numero_national_de_structure'), on = 'numero_national_de_structure', how = 'left_anti')\n",
    "            )\n",
    "#unmatched.cache()\n",
    "unmatched.count() #3332"
   ]
  },
  {
   "cell_type": "code",
   "execution_count": 21,
   "id": "45673cd1-057c-463f-860a-0dfd0f4a5c7a",
   "metadata": {},
   "outputs": [
    {
     "data": {
      "text/plain": [
       "4625"
      ]
     },
     "execution_count": 21,
     "metadata": {},
     "output_type": "execute_result"
    }
   ],
   "source": [
    "#public_labs.count() #4625"
   ]
  },
  {
   "cell_type": "code",
   "execution_count": 220,
   "id": "9ed02234-44b5-4c1b-a4f2-3a09bbc031d4",
   "metadata": {
    "scrolled": true
   },
   "outputs": [
    {
     "data": {
      "text/plain": [
       "4030144"
      ]
     },
     "execution_count": 220,
     "metadata": {},
     "output_type": "execute_result"
    }
   ],
   "source": [
    "try:\n",
    "    test_fuzzy_matching.unpersist()\n",
    "except:\n",
    "    print('first run')\n",
    "\n",
    "test_fuzzy_matching = (inst\n",
    "                       .select('inst_id', 'name', 'city')\n",
    "                       .withColumn('city', (func.lower(func.col('city'))))\n",
    "                       .withColumn('city', func.translate(func.col('city'), \"éèêëàâäîïôöùûüç\", \"eeeeaaaiioouuuc\"))\n",
    "                        .withColumn('city', func.regexp_replace(func.col('city'), '-', ' '))\n",
    "                        .withColumn('name', func.regexp_replace(func.translate(func.lower(func.col('name')), \"éèêëàâäîïôöùûüç\", \"eeeeaaaiioouuuc\"), r'[^\\w\\s\\-]', ''))\n",
    "                       #.withColumn('name', udf_rm_stopwords(func.regexp_replace(udf_unidecode(func.lower(func.col('name'))), r'[^\\w\\s\\-]', ''), func.array([func.lit(x) for x in stopwords_dict['French']])))\n",
    "                       .crossJoin(unmatched\n",
    "                             .select('numero_national_de_structure', 'libelle', 'commune')\n",
    "                             .withColumn('city_s', func.translate(func.lower(func.col('commune')), \"éèêëàâäîïôöùûüç\", \"eeeeaaaiioouuuc\"))\n",
    "                           .withColumn('city_s', func.regexp_replace(func.col('city_s'), r'\\scedex|\\s\\d+', ''))\n",
    "                           .withColumn('city_s', func.regexp_replace(func.col('city_s'), '-', ' '))\n",
    "\n",
    "                            .withColumn('libelle', func.regexp_replace(func.translate(func.lower(func.col('libelle')), \"éèêëàâäîïôöùûüç\", \"eeeeaaaiioouuuc\"), r'[^\\w\\s\\-]', ''))\n",
    "                            # .withColumn('libelle', udf_rm_stopwords(func.regexp_replace(udf_unidecode(func.lower(func.col('libelle'))), r'[^\\w\\s\\-]', ''), func.array([func.lit(x) for x in stopwords_dict['French']])))\n",
    "                             )\n",
    "                       .withColumn('token_oa', func.split(func.col('name'),' '))\n",
    "                       .withColumn('token_pub', func.split(func.col('libelle'),' '))\n",
    "                        .withColumn('n_shared_tokens', func.size(func.array_intersect(func.col('token_oa'), func.col('token_pub') )))\n",
    "                         .filter((func.col('n_shared_tokens')>0)\n",
    "                                # & ( (func.col('city')== func.col('city_s'))\n",
    "                                #    | (func.col('city').isNull())\n",
    "                                #    | (func.col('city_s').isNull())\n",
    "                                #   )\n",
    "                                )\n",
    "                      )\n",
    "test_fuzzy_matching.cache()\n",
    "test_fuzzy_matching.count() #4030144"
   ]
  },
  {
   "cell_type": "code",
   "execution_count": 63,
   "id": "6a97d36f-9486-4b4c-aeb5-1131d15ca10b",
   "metadata": {
    "scrolled": true
   },
   "outputs": [
    {
     "name": "stdout",
     "output_type": "stream",
     "text": [
      "+-----------+--------------------+-------------------+----------------------------+--------------------+-------+------+--------------------+--------------------+---------------+\n",
      "|    inst_id|                name|               city|numero_national_de_structure|             libelle|commune|city_s|            token_oa|           token_pub|n_shared_tokens|\n",
      "+-----------+--------------------+-------------------+----------------------------+--------------------+-------+------+--------------------+--------------------+---------------+\n",
      "| I100445878|ecole centrale de...|             nantes|                  201722473H|unite de recherch...|   NULL|  NULL|[ecole, centrale,...|[unite, de, reche...|              1|\n",
      "|  I11935315|ecole nationale s...|        montpellier|                  201722473H|unite de recherch...|   NULL|  NULL|[ecole, nationale...|[unite, de, reche...|              1|\n",
      "| I119865316|ecole nationale d...|             tarbes|                  201722473H|unite de recherch...|   NULL|  NULL|[ecole, nationale...|[unite, de, reche...|              1|\n",
      "| I129162050|ecole superieure ...|           toulouse|                  201722473H|unite de recherch...|   NULL|  NULL|[ecole, superieur...|[unite, de, reche...|              1|\n",
      "|I1293226324|organisation des ...|              paris|                  201722473H|unite de recherch...|   NULL|  NULL|[organisation, de...|[unite, de, reche...|              4|\n",
      "|I1293448361|institut de radio...| fontenay-aux-roses|                  201722473H|unite de recherch...|   NULL|  NULL|[institut, de, ra...|[unite, de, reche...|              2|\n",
      "|I1295345811|institut de linfo...|vandœuvre-les-nancy|                  201722473H|unite de recherch...|   NULL|  NULL|[institut, de, li...|[unite, de, reche...|              2|\n",
      "|I1298017689|cite des sciences...|              paris|                  201722473H|unite de recherch...|   NULL|  NULL|[cite, des, scien...|[unite, de, reche...|              3|\n",
      "|I1298838906|institut de chimi...|     gif-sur-yvette|                  201722473H|unite de recherch...|   NULL|  NULL|[institut, de, ch...|[unite, de, reche...|              2|\n",
      "|I1340951533|institut de la vi...|              paris|                  201722473H|unite de recherch...|   NULL|  NULL|[institut, de, la...|[unite, de, reche...|              2|\n",
      "| I137614889|ecole nationale s...|  villeneuve-d'ascq|                  201722473H|unite de recherch...|   NULL|  NULL|[ecole, nationale...|[unite, de, reche...|              1|\n",
      "| I148261361|institut de physi...|              paris|                  201722473H|unite de recherch...|   NULL|  NULL|[institut, de, ph...|[unite, de, reche...|              1|\n",
      "|  I15057530|universite de bor...|           bordeaux|                  201722473H|unite de recherch...|   NULL|  NULL|[universite, de, ...|[unite, de, reche...|              1|\n",
      "| I159082835|agence internatio...|              paris|                  201722473H|unite de recherch...|   NULL|  NULL|[agence, internat...|[unite, de, reche...|              1|\n",
      "| I160727737|ecole des mines d...|              douai|                  201722473H|unite de recherch...|   NULL|  NULL|[ecole, des, mine...|[unite, de, reche...|              2|\n",
      "| I165283593|ecole des hautes ...|             rennes|                  201722473H|unite de recherch...|   NULL|  NULL|[ecole, des, haut...|[unite, de, reche...|              1|\n",
      "| I194210350|ecole nationale s...|               caen|                  201722473H|unite de recherch...|   NULL|  NULL|[ecole, nationale...|[unite, de, reche...|              1|\n",
      "|I2279609970| universite de lille|              lille|                  201722473H|unite de recherch...|   NULL|  NULL|[universite, de, ...|[unite, de, reche...|              1|\n",
      "|I2799419631|fondation pour la...|              paris|                  201722473H|unite de recherch...|   NULL|  NULL|[fondation, pour,...|[unite, de, reche...|              3|\n",
      "|I2799504677|institut de laudi...|           clapiers|                  201722473H|unite de recherch...|   NULL|  NULL|[institut, de, la...|[unite, de, reche...|              3|\n",
      "+-----------+--------------------+-------------------+----------------------------+--------------------+-------+------+--------------------+--------------------+---------------+\n",
      "only showing top 20 rows\n",
      "\n"
     ]
    }
   ],
   "source": [
    "test_fuzzy_matching.filter(func.col('numero_national_de_structure').isin([\"200815493K\",'198821638B'])).show()"
   ]
  },
  {
   "cell_type": "code",
   "execution_count": 48,
   "id": "aaf21487-f315-4198-83fb-10e36b11978f",
   "metadata": {
    "scrolled": true
   },
   "outputs": [
    {
     "name": "stdout",
     "output_type": "stream",
     "text": [
      "+----+-----------+--------------------+----------------------------+--------------------+-------------+--------------------+--------------------+---------------+\n",
      "|city|    inst_id|                name|numero_national_de_structure|             libelle|      commune|            token_oa|           token_pub|n_shared_tokens|\n",
      "+----+-----------+--------------------+----------------------------+--------------------+-------------+--------------------+--------------------+---------------+\n",
      "|caen|I4392021178|unite de recherch...|                  201220890J|unite support cyc...| CAEN CEDEX 5|[unite, de, reche...|[unite, support, ...|              1|\n",
      "|caen|I4392021178|unite de recherch...|                  200810701B|institut de reche...| CAEN CEDEX 4|[unite, de, reche...|[institut, de, re...|              2|\n",
      "|caen|I4392021178|unite de recherch...|                  199814135C|equipe de recherc...|   CAEN CEDEX|[unite, de, reche...|[equipe, de, rech...|              5|\n",
      "|caen|I4392021178|unite de recherch...|                  200815491H|equipe de recherc...|   CAEN CEDEX|[unite, de, reche...|[equipe, de, rech...|              2|\n",
      "|caen|I4392021178|unite de recherch...|                  199612302U|laboratoire de ch...| CAEN CEDEX 4|[unite, de, reche...|[laboratoire, de,...|              2|\n",
      "|caen|I4392021178|unite de recherch...|                  201221521V|maison de la rech...| CAEN CEDEX 5|[unite, de, reche...|[maison, de, la, ...|              3|\n",
      "|caen|I4392021178|unite de recherch...|                  201722469D|biologie du carti...|         caen|[unite, de, reche...|[biologie, du, ca...|              1|\n",
      "|caen|I4392021178|unite de recherch...|                  201722476L|laboratoire dauto...| Caen cedex 5|[unite, de, reche...|[laboratoire, dau...|              1|\n",
      "|caen|I4392021178|unite de recherch...|                  200815492J|centre de recherc...|   CAEN CEDEX|[unite, de, reche...|[centre, de, rech...|              3|\n",
      "|caen|I4392021178|unite de recherch...|                  201223841S|delegation a la r...|         Caen|[unite, de, reche...|[delegation, a, l...|              3|\n",
      "|caen|I4392021178|unite de recherch...|                  201019033Z|centre michel de ...| CAEN CEDEX 5|[unite, de, reche...|[centre, michel, ...|              2|\n",
      "|caen|I4392021178|unite de recherch...|                  200012210B|morphodynamique c...|         CAEN|[unite, de, reche...|[morphodynamique,...|              1|\n",
      "|caen|I4392021178|unite de recherch...|                  200212207P|laboratoire de ma...| CAEN CEDEX 5|[unite, de, reche...|[laboratoire, de,...|              1|\n",
      "|caen|I4392021178|unite de recherch...|                  201421817H|reseau national d...| CAEN CEDEX 5|[unite, de, reche...|[reseau, national...|              2|\n",
      "|caen|I4392021178|unite de recherch...|                  202224275V|laboratoire de de...|Caen Cedex 05|[unite, de, reche...|[laboratoire, de,...|              1|\n",
      "|caen|I4392021178|unite de recherch...|                  200815495M|centre detudes et...|   CAEN CEDEX|[unite, de, reche...|[centre, detudes,...|              4|\n",
      "|caen|I4392021178|unite de recherch...|                  200415177J|centre de recherc...|   CAEN CEDEX|[unite, de, reche...|[centre, de, rech...|              3|\n",
      "|caen|I4392021178|unite de recherch...|                  199613742J|identite et subje...|   CAEN CEDEX|[unite, de, reche...|[identite, et, su...|              1|\n",
      "|caen|I4392021178|unite de recherch...|                  202224221L|physiopathologie ...|         CAEN|[unite, de, reche...|[physiopathologie...|              1|\n",
      "|caen|I4392021178|unite de recherch...|                  200815497P|centre detude spo...|   CAEN CEDEX|[unite, de, reche...|[centre, detude, ...|              1|\n",
      "+----+-----------+--------------------+----------------------------+--------------------+-------------+--------------------+--------------------+---------------+\n",
      "\n"
     ]
    }
   ],
   "source": [
    "test_fuzzy_matching.filter(func.col('inst_id').isin([\"I4392021178\"])).show()"
   ]
  },
  {
   "cell_type": "code",
   "execution_count": 221,
   "id": "89c72353-e79c-45a1-ab4a-5c4770f6e737",
   "metadata": {
    "scrolled": true
   },
   "outputs": [
    {
     "name": "stdout",
     "output_type": "stream",
     "text": [
      "+-----------+---------------------------------------------------------------+-------------------+----------------------------+-----------------------------------------------------------------------------+-------------------------------+-------------------------+------------------------------------------------------------------------+------------------------------------------------------------------------------------------+---------------+-------------------+-----------------+-----------------+-------------------+\n",
      "|inst_id    |name                                                           |city               |numero_national_de_structure|libelle                                                                      |commune                        |city_s                   |token_oa                                                                |token_pub                                                                                 |n_shared_tokens|levenshtein        |fuzz_ratio       |token_sort_ratio |max_match_measure_t|\n",
      "+-----------+---------------------------------------------------------------+-------------------+----------------------------+-----------------------------------------------------------------------------+-------------------------------+-------------------------+------------------------------------------------------------------------+------------------------------------------------------------------------------------------+---------------+-------------------+-----------------+-----------------+-------------------+\n",
      "|I4210104035|nature environnement 17                                        |surgeres           |200017435F                  |abeilles et environnement                                                    |Avignon                        |avignon                  |[nature, environnement, 17]                                             |[abeilles, et, environnement]                                                             |1              |0.52               |66.66666666666667|66.66666666666667|67.79661016949152  |\n",
      "|I4210107625|institut ecologie et environnement                             |paris              |200017435F                  |abeilles et environnement                                                    |Avignon                        |avignon                  |[institut, ecologie, et, environnement]                                 |[abeilles, et, environnement]                                                             |2              |0.4411764705882353 |67.79661016949152|67.79661016949152|67.79661016949152  |\n",
      "|I4387154055|acquisition et analyse de donnees pour lhistoire naturelle     |paris              |201220525M                  |acquisition et analyse de donnees pour lhistoire naturelle                   |PARIS CEDEX 05                 |paris                    |[acquisition, et, analyse, de, donnees, pour, lhistoire, naturelle]     |[acquisition, et, analyse, de, donnees, pour, lhistoire, naturelle]                       |8              |0.0                |100.0            |100.0            |100.0              |\n",
      "|I4399657931|jeunesse - activite physique et sportive sante                 |toulon             |201223176U                  |activite physique corps sport et sante                                       |NULL                           |NULL                     |[jeunesse, -, activite, physique, et, sportive, sante]                  |[activite, physique, corps, sport, et, sante]                                             |4              |0.41304347826086957|73.80952380952381|76.19047619047619|76.19047619047619  |\n",
      "|I4399657931|jeunesse - activite physique et sportive sante                 |toulon             |200023806F                  |activite physique muscle sante                                               |LOOS                           |loos                     |[jeunesse, -, activite, physique, et, sportive, sante]                  |[activite, physique, muscle, sante]                                                       |3              |0.43478260869565216|68.42105263157895|71.05263157894737|71.05263157894737  |\n",
      "|I4389425262|adaptation biologique et vieillissement                        |paris              |201420756E                  |adaptation biologique et vieillissement                                      |PARIS CEDEX 05                 |paris                    |[adaptation, biologique, et, vieillissement]                            |[adaptation, biologique, et, vieillissement]                                              |4              |0.0                |100.0            |100.0            |100.0              |\n",
      "|I4210117160|adaptation et diversite en milieu marin                        |roscoff            |200512529B                  |adaptation et diversite en milieu marin                                      |ROSCOFF CEDEX                  |roscoff                  |[adaptation, et, diversite, en, milieu, marin]                          |[adaptation, et, diversite, en, milieu, marin]                                            |6              |0.0                |100.0            |100.0            |100.0              |\n",
      "|I4210117160|adaptation et diversite en milieu marin                        |roscoff            |202224207W                  |adaptation et sante des invertebres marins                                   |La Tremblade                   |la tremblade             |[adaptation, et, diversite, en, milieu, marin]                          |[adaptation, et, sante, des, invertebres, marins]                                         |2              |0.4523809523809524 |69.1358024691358 |66.66666666666667|66.66666666666667  |\n",
      "|I4401200261|adaptation physiologiques a lexercice et readaptation a leffort|amiens             |200014207X                  |adaptions physiologiques a lexercice et readaptation a leffort - ur upjv 3300|AMIENS CEDEX 1                 |amiens                   |[adaptation, physiologiques, a, lexercice, et, readaptation, a, leffort]|[adaptions, physiologiques, a, lexercice, et, readaptation, a, leffort, -, ur, upjv, 3300]|6              |0.23376623376623376|87.14285714285714|87.14285714285714|87.14285714285714  |\n",
      "|I4401200328|agents infectieux resistance et chimiotherapie                 |amiens             |201822701B                  |agents infectieux resistance et chimiotherapie - ur upjv 4294                |AMIENS CEDEX1                  |amiens1                  |[agents, infectieux, resistance, et, chimiotherapie]                    |[agents, infectieux, resistance, et, chimiotherapie, -, ur, upjv, 4294]                   |5              |0.2459016393442623 |85.98130841121495|85.98130841121495|85.98130841121495  |\n",
      "|I4387154115|laboratoire agronomie et environnement                         |vandœuvre les nancy|201522209E                  |agroecologie et environnement                                                |LYON                           |lyon                     |[laboratoire, agronomie, et, environnement]                             |[agroecologie, et, environnement]                                                         |2              |0.34210526315789475|74.62686567164178|71.64179104477613|79.36507936507937  |\n",
      "|I4210107625|institut ecologie et environnement                             |paris              |201522209E                  |agroecologie et environnement                                                |LYON                           |lyon                     |[institut, ecologie, et, environnement]                                 |[agroecologie, et, environnement]                                                         |2              |0.2647058823529412 |79.36507936507937|79.36507936507937|79.36507936507937  |\n",
      "|I4392021103|architecture territoire environnement                          |darnetal           |201522209E                  |agroecologie et environnement                                                |LYON                           |lyon                     |[architecture, territoire, environnement]                               |[agroecologie, et, environnement]                                                         |1              |0.4864864864864865 |66.66666666666667|66.66666666666667|79.36507936507937  |\n",
      "|I4210097444|physiologie ecologie et environnement                          |orleans            |201522209E                  |agroecologie et environnement                                                |LYON                           |lyon                     |[physiologie, ecologie, et, environnement]                              |[agroecologie, et, environnement]                                                         |2              |0.2972972972972973 |78.78787878787878|75.75757575757575|79.36507936507937  |\n",
      "|I4210111259|agroecologies innovations  ruralities                          |castanet tolosan   |200317643U                  |agroecologie innovations territoires                                         |Auzeville                      |auzeville                |[agroecologies, innovations, , ruralities]                              |[agroecologie, innovations, territoires]                                                  |1              |0.21621621621621623|87.67123287671232|88.88888888888889|88.88888888888889  |\n",
      "|I4387155813|agronomie                                                      |palaiseau          |196417851P                  |agronomie                                                                    |PALAISEAU                      |palaiseau                |[agronomie]                                                             |[agronomie]                                                                               |1              |0.0                |100.0            |100.0            |100.0              |\n",
      "|I57995698  |paris school of economics                                      |paris              |201220324U                  |aix marseille school of economics                                            |MARSEILLE                      |marseille                |[paris, school, of, economics]                                          |[aix, marseille, school, of, economics]                                                   |3              |0.30303030303030304|79.3103448275862 |68.96551724137932|68.96551724137932  |\n",
      "|I4210146074|analyse geometrie et modelisation                              |cergy pontoise     |201622154R                  |algebre geometrie modelisation et algorithmes                                |NULL                           |NULL                     |[analyse, geometrie, et, modelisation]                                  |[algebre, geometrie, modelisation, et, algorithmes]                                       |3              |0.5111111111111111 |66.66666666666667|76.92307692307692|76.92307692307692  |\n",
      "|I4210094158|departement alimentation humaine                               |aydat              |201221253D                  |alimentation et nutrition humaine                                            |BREST                          |brest                    |[departement, alimentation, humaine]                                    |[alimentation, et, nutrition, humaine]                                                    |2              |0.48484848484848486|67.6923076923077 |70.76923076923076|70.76923076923076  |\n",
      "|I4210146074|analyse geometrie et modelisation                              |cergy pontoise     |200212747B                  |analyse geometrie et modelisation agm                                        |CERGY PONTOISE CEDEX - PONTOISE|cergy pontoise   pontoise|[analyse, geometrie, et, modelisation]                                  |[analyse, geometrie, et, modelisation, agm]                                               |4              |0.10810810810810811|94.28571428571428|94.28571428571428|94.28571428571428  |\n",
      "+-----------+---------------------------------------------------------------+-------------------+----------------------------+-----------------------------------------------------------------------------+-------------------------------+-------------------------+------------------------------------------------------------------------+------------------------------------------------------------------------------------------+---------------+-------------------+-----------------+-----------------+-------------------+\n",
      "only showing top 20 rows\n",
      "\n"
     ]
    }
   ],
   "source": [
    "from rapidfuzz import fuzz\n",
    "from pyspark.sql.types import *\n",
    "udf_ratio = func.udf(fuzz.ratio, DoubleType() )\n",
    "udf_token_sort = func.udf(fuzz.token_sort_ratio, DoubleType())\n",
    "\n",
    "test_fuzzy_matching_2  = (test_fuzzy_matching\n",
    "                          .withColumn('levenshtein', func.levenshtein(func.col('libelle'), func.col('name'))/func.greatest(func.length(func.col('libelle')), func.length(func.col('name'))))\n",
    "                         # .withColumn('max_length_str', func.greatest(func.length(func.col('libelle')), func.length(func.col('name'))))\n",
    "                         .withColumn('fuzz_ratio', udf_ratio(func.col('libelle'), func.col('name')))\n",
    "                         .withColumn('token_sort_ratio', udf_token_sort(func.col('libelle'), func.col('name')))\n",
    "                         .filter( func.col('token_sort_ratio') >= 66 )\n",
    "                          .filter(func.col('fuzz_ratio')>=66)\n",
    "                         .withColumn('max_match_measure_t', func.max(func.col('token_sort_ratio')).over(Window.partitionBy('libelle')))\n",
    "                         )\n",
    "test_fuzzy_matching_2.show(truncate = False)"
   ]
  },
  {
   "cell_type": "code",
   "execution_count": 222,
   "id": "7a1bd38e-7e20-4f9b-b4d5-5129ccaeb346",
   "metadata": {},
   "outputs": [
    {
     "data": {
      "text/plain": [
       "6810"
      ]
     },
     "execution_count": 222,
     "metadata": {},
     "output_type": "execute_result"
    }
   ],
   "source": [
    "test_fuzzy_matching_2.count() #6826"
   ]
  },
  {
   "cell_type": "code",
   "execution_count": 66,
   "id": "d927e826-1ffc-4341-8b24-62d803f7e923",
   "metadata": {
    "scrolled": true
   },
   "outputs": [
    {
     "name": "stdout",
     "output_type": "stream",
     "text": [
      "+-----------+---------------------------------------------------------------+--------------+----------------------------+-----------------------------------------------------------------------+----------------+--------+------------------------------------------------------------------------+-----------------------------------------------------------------------------------+---------------+-------------------+-----------------+-----------------+-------------------+\n",
      "|inst_id    |name                                                           |city          |numero_national_de_structure|libelle                                                                |commune         |city_s  |token_oa                                                                |token_pub                                                                          |n_shared_tokens|levenshtein        |fuzz_ratio       |token_sort_ratio |max_match_measure_t|\n",
      "+-----------+---------------------------------------------------------------+--------------+----------------------------+-----------------------------------------------------------------------+----------------+--------+------------------------------------------------------------------------+-----------------------------------------------------------------------------------+---------------+-------------------+-----------------+-----------------+-------------------+\n",
      "|I4387153497|acta - les instituts techniques agricoles                      |paris         |195723651Z                  |acta-les instituts techniques agricoles                                |PARIS CEDEX 12  |paris   |[acta, -, les, instituts, techniques, agricoles]                        |[acta-les, instituts, techniques, agricoles]                                       |3              |0.04878048780487805|97.5             |87.5             |89.74358974358975  |\n",
      "|I4210113668|direction de la recherche fondamentale                         |gif-sur-yvette|200023422N                  |aphm direction de la recherche sante                                   |NULL            |NULL    |[direction, de, la, recherche, fondamentale]                            |[aphm, direction, de, la, recherche, sante]                                        |4              |0.34210526315789475|81.08108108108108|67.56756756756756|74.66666666666666  |\n",
      "|I1322608751|institut de france                                             |paris         |202023688R                  |bibliotheque de linstitut de france                                    |Paris           |paris   |[institut, de, france]                                                  |[bibliotheque, de, linstitut, de, france]                                          |2              |0.4857142857142857 |67.9245283018868 |67.9245283018868 |77.61194029850746  |\n",
      "|I4210138893|institut de recherche interdisciplinaire sur les enjeux sociaux|paris         |199713846T                  |centre danalyse et de recherche interdisciplinaire sur les medias      |PARIS           |paris   |[institut, de, recherche, interdisciplinaire, sur, les, enjeux, sociaux]|[centre, danalyse, et, de, recherche, interdisciplinaire, sur, les, medias]        |5              |0.4153846153846154 |73.4375          |68.75            |74.17218543046357  |\n",
      "|I4210088826|centre deconomie de la sorbonne                                |paris         |201420822B                  |centre de linguistique en sorbonne                                     |PARIS           |paris   |[centre, deconomie, de, la, sorbonne]                                   |[centre, de, linguistique, en, sorbonne]                                           |3              |0.35294117647058826|70.76923076923076|70.76923076923076|100.0              |\n",
      "|I4399598365|centre de recherches en histoire internationale et atlantique  |nantes        |199213370X                  |centre de recherche  sur les identites nationales  et linterculturalite|NANTES CEDEX 3  |nantes  |[centre, de, recherches, en, histoire, internationale, et, atlantique]  |[centre, de, recherche, , sur, les, identites, nationales, , et, linterculturalite]|3              |0.4225352112676056 |71.21212121212122|66.15384615384615|94.96402877697841  |\n",
      "|I4210098684|centre de recherches sur la cognition animale                  |toulouse      |199311991U                  |centre de recherche cerveau et cognition                               |TOULOUSE CEDEX 3|toulouse|[centre, de, recherches, sur, la, cognition, animale]                   |[centre, de, recherche, cerveau, et, cognition]                                    |3              |0.37777777777777777|75.29411764705883|72.94117647058825|100.0              |\n",
      "|I4387152541|centre de recherche en design                                  |paris         |201923266L                  |centre de recherche clinique                                           |PARIS           |paris   |[centre, de, recherche, en, design]                                     |[centre, de, recherche, clinique]                                                  |3              |0.3103448275862069 |77.19298245614034|73.6842105263158 |77.41935483870968  |\n",
      "|I4394709284|centre de recherche droit dauphine                             |paris         |201923266L                  |centre de recherche clinique                                           |PARIS           |paris   |[centre, de, recherche, droit, dauphine]                                |[centre, de, recherche, clinique]                                                  |3              |0.3235294117647059 |74.19354838709677|74.19354838709677|77.41935483870968  |\n",
      "|I4389425387|centre de recherche en myologie                                |paris         |201923266L                  |centre de recherche clinique                                           |PARIS           |paris   |[centre, de, recherche, en, myologie]                                   |[centre, de, recherche, clinique]                                                  |3              |0.3225806451612903 |77.96610169491525|67.79661016949152|77.41935483870968  |\n",
      "|I4387154645|centre de recherche sur la conservation                        |paris         |201923266L                  |centre de recherche clinique                                           |PARIS           |paris   |[centre, de, recherche, sur, la, conservation]                          |[centre, de, recherche, clinique]                                                  |3              |0.4358974358974359 |68.65671641791045|68.65671641791045|77.41935483870968  |\n",
      "|I4210150823|centre de recherches historiques                               |paris         |201923266L                  |centre de recherche clinique                                           |PARIS           |paris   |[centre, de, recherches, historiques]                                   |[centre, de, recherche, clinique]                                                  |2              |0.25               |83.33333333333334|73.33333333333334|77.41935483870968  |\n",
      "|I4387152541|centre de recherche en design                                  |paris         |200716512X                  |centre de recherche des cordeliers                                     |PARIS cedex 06  |paris   |[centre, de, recherche, en, design]                                     |[centre, de, recherche, des, cordeliers]                                           |3              |0.2647058823529412 |79.36507936507937|76.19047619047619|100.0              |\n",
      "|I4210110823|centre de recherche sur les liens sociaux                      |paris         |200716512X                  |centre de recherche des cordeliers                                     |PARIS cedex 06  |paris   |[centre, de, recherche, sur, les, liens, sociaux]                       |[centre, de, recherche, des, cordeliers]                                           |3              |0.4146341463414634 |72.0             |66.66666666666667|100.0              |\n",
      "|I4389425459|centre de recherche en litterature comparee                    |paris         |200716512X                  |centre de recherche des cordeliers                                     |PARIS cedex 06  |paris   |[centre, de, recherche, en, litterature, comparee]                      |[centre, de, recherche, des, cordeliers]                                           |3              |0.4418604651162791 |70.12987012987013|70.12987012987013|100.0              |\n",
      "|I4394709284|centre de recherche droit dauphine                             |paris         |200716512X                  |centre de recherche des cordeliers                                     |PARIS cedex 06  |paris   |[centre, de, recherche, droit, dauphine]                                |[centre, de, recherche, des, cordeliers]                                           |3              |0.38235294117647056|73.52941176470588|73.52941176470588|100.0              |\n",
      "|I4389425387|centre de recherche en myologie                                |paris         |200716512X                  |centre de recherche des cordeliers                                     |PARIS cedex 06  |paris   |[centre, de, recherche, en, myologie]                                   |[centre, de, recherche, des, cordeliers]                                           |3              |0.29411764705882354|80.0             |70.76923076923076|100.0              |\n",
      "|I4387154645|centre de recherche sur la conservation                        |paris         |200716512X                  |centre de recherche des cordeliers                                     |PARIS cedex 06  |paris   |[centre, de, recherche, sur, la, conservation]                          |[centre, de, recherche, des, cordeliers]                                           |3              |0.38461538461538464|71.23287671232876|68.49315068493152|100.0              |\n",
      "|I4210150823|centre de recherches historiques                               |paris         |200716512X                  |centre de recherche des cordeliers                                     |PARIS cedex 06  |paris   |[centre, de, recherches, historiques]                                   |[centre, de, recherche, des, cordeliers]                                           |2              |0.29411764705882354|78.78787878787878|69.6969696969697 |100.0              |\n",
      "|I4387152541|centre de recherche en design                                  |paris         |199213078E                  |centre de recherche droit dauphine                                     |PARIS CEDEX 16  |paris   |[centre, de, recherche, en, design]                                     |[centre, de, recherche, droit, dauphine]                                           |3              |0.3235294117647059 |76.19047619047619|73.01587301587303|100.0              |\n",
      "+-----------+---------------------------------------------------------------+--------------+----------------------------+-----------------------------------------------------------------------+----------------+--------+------------------------------------------------------------------------+-----------------------------------------------------------------------------------+---------------+-------------------+-----------------+-----------------+-------------------+\n",
      "only showing top 20 rows\n",
      "\n"
     ]
    }
   ],
   "source": [
    "test_fuzzy_matching_2.filter((func.col('token_sort_ratio') != func.col('max_match_measure_t') )).show(truncate = False)"
   ]
  },
  {
   "cell_type": "code",
   "execution_count": 67,
   "id": "d99c584b-a160-4adf-8085-fdc296507101",
   "metadata": {},
   "outputs": [
    {
     "name": "stdout",
     "output_type": "stream",
     "text": [
      "+-----------+-------------------------------------------------------------------------------------+----+----------------------------+-------------------------------------------------------------------------------------+-------+------+--------------------------------------------------------------------------------------------------+--------------------------------------------------------------------------------------------------+---------------+-----------+----------+----------------+-------------------+\n",
      "|inst_id    |name                                                                                 |city|numero_national_de_structure|libelle                                                                              |commune|city_s|token_oa                                                                                          |token_pub                                                                                         |n_shared_tokens|levenshtein|fuzz_ratio|token_sort_ratio|max_match_measure_t|\n",
      "+-----------+-------------------------------------------------------------------------------------+----+----------------------------+-------------------------------------------------------------------------------------+-------+------+--------------------------------------------------------------------------------------------------+--------------------------------------------------------------------------------------------------+---------------+-----------+----------+----------------+-------------------+\n",
      "|I4392021178|unite de recherche interdisciplinaire pour la prevention et le traitement des cancers|caen|201722473H                  |unite de recherche interdisciplinaire pour la prevention et le traitement des cancers|NULL   |NULL  |[unite, de, recherche, interdisciplinaire, pour, la, prevention, et, le, traitement, des, cancers]|[unite, de, recherche, interdisciplinaire, pour, la, prevention, et, le, traitement, des, cancers]|12             |0.0        |100.0     |100.0           |100.0              |\n",
      "+-----------+-------------------------------------------------------------------------------------+----+----------------------------+-------------------------------------------------------------------------------------+-------+------+--------------------------------------------------------------------------------------------------+--------------------------------------------------------------------------------------------------+---------------+-----------+----------+----------------+-------------------+\n",
      "\n"
     ]
    }
   ],
   "source": [
    "test_fuzzy_matching_2.filter(func.col('numero_national_de_structure')=='201722473H').show(truncate = False)"
   ]
  },
  {
   "cell_type": "code",
   "execution_count": 223,
   "id": "c86bd53b-de51-482e-8934-ab9d1599cf1c",
   "metadata": {
    "scrolled": true
   },
   "outputs": [
    {
     "data": {
      "text/plain": [
       "949"
      ]
     },
     "execution_count": 223,
     "metadata": {},
     "output_type": "execute_result"
    }
   ],
   "source": [
    "fuzzy_matches = (test_fuzzy_matching_2\n",
    "                 .filter((func.col('token_sort_ratio') == func.col('max_match_measure_t') )\n",
    "                        )\n",
    "                 .withColumn('n_matches', func.count('inst_id').over(Window.partitionBy('numero_national_de_structure')))\n",
    "                 .filter('n_matches=1')\n",
    "                .withColumn('max_match_measure_t', func.max(func.col('token_sort_ratio')).over(Window.partitionBy('inst_id')))\n",
    "                 .withColumn('n_city', func.size(func.collect_set(func.col('city_s')).over(Window.partitionBy('inst_id') )))\n",
    "                 .filter((func.col('token_sort_ratio') == func.col('max_match_measure_t') )\n",
    "                         & ( (func.col('n_city')==1) | (func.col('city')==func.col('city_s') )\n",
    "                             |  ( func.col('city').isNull() ) |  (func.col('city_s').isNull() ) \n",
    "                         )\n",
    "                        )\n",
    "                )\n",
    "fuzzy_matches.cache()\n",
    "fuzzy_matches.count() #960"
   ]
  },
  {
   "cell_type": "code",
   "execution_count": 224,
   "id": "230f39e1-8b22-4d58-9595-68dd62917815",
   "metadata": {
    "scrolled": true
   },
   "outputs": [
    {
     "name": "stdout",
     "output_type": "stream",
     "text": [
      "+-----------+-----+\n",
      "|    inst_id|count|\n",
      "+-----------+-----+\n",
      "|I4210127988|    2|\n",
      "|I4210113963|    2|\n",
      "|I4210112285|    2|\n",
      "|I4210161954|    2|\n",
      "|I4210100775|    2|\n",
      "+-----------+-----+\n",
      "\n"
     ]
    }
   ],
   "source": [
    "fuzzy_matches.groupBy('inst_id').count().filter('count>1').show()"
   ]
  },
  {
   "cell_type": "code",
   "execution_count": 225,
   "id": "1ea2a79f-eb4e-4000-9e08-09b223364798",
   "metadata": {
    "scrolled": true
   },
   "outputs": [
    {
     "name": "stdout",
     "output_type": "stream",
     "text": [
      "+-----------+-------------------------------------------------+----+----------------------------+-----------------------------------------------------+-------------+------+---------------------------------------------------------+--------------------------------------------------------------+---------------+-------------------+-----------------+-----------------+-------------------+---------+------+\n",
      "|inst_id    |name                                             |city|numero_national_de_structure|libelle                                              |commune      |city_s|token_oa                                                 |token_pub                                                     |n_shared_tokens|levenshtein        |fuzz_ratio       |token_sort_ratio |max_match_measure_t|n_matches|n_city|\n",
      "+-----------+-------------------------------------------------+----+----------------------------+-----------------------------------------------------+-------------+------+---------------------------------------------------------+--------------------------------------------------------------+---------------+-------------------+-----------------+-----------------+-------------------+---------+------+\n",
      "|I4210100775|laboratoire de biologie moleculaire de la cellule|lyon|200711906R                  |laboratoire de biologie et modelisation de la cellule|LYON CEDEX 07|lyon  |[laboratoire, de, biologie, moleculaire, de, la, cellule]|[laboratoire, de, biologie, et, modelisation, de, la, cellule]|5              |0.18867924528301888|86.27450980392157|86.27450980392157|86.27450980392157  |1        |1     |\n",
      "|I4210100775|laboratoire de biologie moleculaire de la cellule|lyon|202124006G                  |laboratoire de biologie et modelisation de la cellule|Lyon         |lyon  |[laboratoire, de, biologie, moleculaire, de, la, cellule]|[laboratoire, de, biologie, et, modelisation, de, la, cellule]|5              |0.18867924528301888|86.27450980392157|86.27450980392157|86.27450980392157  |1        |1     |\n",
      "+-----------+-------------------------------------------------+----+----------------------------+-----------------------------------------------------+-------------+------+---------------------------------------------------------+--------------------------------------------------------------+---------------+-------------------+-----------------+-----------------+-------------------+---------+------+\n",
      "\n"
     ]
    }
   ],
   "source": [
    "fuzzy_matches.filter(func.col('inst_id')==\"I4210100775\").show(truncate = False)"
   ]
  },
  {
   "cell_type": "code",
   "execution_count": null,
   "id": "31a5c2e3-beef-4e62-8ae8-83a6aaa4f2af",
   "metadata": {},
   "outputs": [],
   "source": []
  },
  {
   "cell_type": "code",
   "execution_count": 227,
   "id": "02ee9cce-cbc1-43d3-8ac0-0f61f7f561a1",
   "metadata": {},
   "outputs": [
    {
     "data": {
      "text/plain": [
       "2386"
      ]
     },
     "execution_count": 227,
     "metadata": {},
     "output_type": "execute_result"
    }
   ],
   "source": [
    "matches = (matching_url_2\n",
    "           .select('numero_national_de_structure', 'inst_id')\n",
    "           .unionAll(fuzzy_matches.filter(~func.col('inst_id').isin(['I4210127988',\"I4210161954\"])).select('numero_national_de_structure', 'inst_id'))\n",
    "          )\n",
    "matches.count() #2386"
   ]
  },
  {
   "cell_type": "code",
   "execution_count": 48,
   "id": "a86bb747-a3b2-4009-9357-813454a2f008",
   "metadata": {},
   "outputs": [
    {
     "name": "stdout",
     "output_type": "stream",
     "text": [
      "+----------------------------+-----------+\n",
      "|numero_national_de_structure|    inst_id|\n",
      "+----------------------------+-----------+\n",
      "|                  201722473H|I4392021178|\n",
      "+----------------------------+-----------+\n",
      "\n"
     ]
    }
   ],
   "source": [
    "matches.filter(func.col('inst_id')==\"I4392021178\").show()"
   ]
  },
  {
   "cell_type": "code",
   "execution_count": 228,
   "id": "03ca750a-e9ef-4a6c-a174-740c7f347210",
   "metadata": {},
   "outputs": [
    {
     "data": {
      "text/plain": [
       "2289"
      ]
     },
     "execution_count": 228,
     "metadata": {},
     "output_type": "execute_result"
    }
   ],
   "source": [
    "unmatched.unpersist()\n",
    "unmatched = (public_labs\n",
    "             .join(matches.select('numero_national_de_structure'), on = 'numero_national_de_structure', how = 'left_anti')\n",
    "            )\n",
    "unmatched.cache()\n",
    "unmatched.count() #2289"
   ]
  },
  {
   "cell_type": "code",
   "execution_count": 230,
   "id": "22a71b3f-deef-4c5e-88ac-deb1c14b9f56",
   "metadata": {},
   "outputs": [
    {
     "name": "stdout",
     "output_type": "stream",
     "text": [
      "root\n",
      " |-- numero_national_de_structure: string (nullable = true)\n",
      " |-- adresse: string (nullable = true)\n",
      " |-- annee_d_effet_historique: string (nullable = true)\n",
      " |-- annee_de_creation: string (nullable = true)\n",
      " |-- code_de_nature_de_tutelle: array (nullable = true)\n",
      " |    |-- element: string (containsNull = true)\n",
      " |-- code_de_niveau_de_structure: string (nullable = true)\n",
      " |-- code_de_type_de_structure: string (nullable = true)\n",
      " |-- code_de_type_de_succession: string (nullable = true)\n",
      " |-- code_de_type_de_tutelle: array (nullable = true)\n",
      " |    |-- element: string (containsNull = true)\n",
      " |-- code_domaine_scientifique: array (nullable = true)\n",
      " |    |-- element: string (containsNull = true)\n",
      " |-- code_panel_erc: string (nullable = true)\n",
      " |-- code_postal: string (nullable = true)\n",
      " |-- commune: string (nullable = true)\n",
      " |-- domaine_scientifique: array (nullable = true)\n",
      " |    |-- element: string (containsNull = true)\n",
      " |-- fiche_rnsr: string (nullable = true)\n",
      " |-- label_numero: array (nullable = true)\n",
      " |    |-- element: string (containsNull = true)\n",
      " |-- libelle: string (nullable = true)\n",
      " |-- nature_de_tutelle: array (nullable = true)\n",
      " |    |-- element: string (containsNull = true)\n",
      " |-- nom_du_responsable: array (nullable = true)\n",
      " |    |-- element: string (containsNull = true)\n",
      " |-- numero_de_structure_enfant: array (nullable = true)\n",
      " |    |-- element: string (containsNull = true)\n",
      " |-- numero_de_structure_historique: array (nullable = true)\n",
      " |    |-- element: string (containsNull = true)\n",
      " |-- numero_de_structure_parent: array (nullable = true)\n",
      " |    |-- element: string (containsNull = true)\n",
      " |-- panel_erc: array (nullable = true)\n",
      " |    |-- element: string (containsNull = true)\n",
      " |-- prenom_du_responsable: array (nullable = true)\n",
      " |    |-- element: string (containsNull = true)\n",
      " |-- sigle: string (nullable = true)\n",
      " |-- sigles_des_tutelles: array (nullable = true)\n",
      " |    |-- element: string (containsNull = true)\n",
      " |-- siret_des_tutelles: array (nullable = true)\n",
      " |    |-- element: string (containsNull = true)\n",
      " |-- site_web: string (nullable = true)\n",
      " |-- titre_du_responsable: array (nullable = true)\n",
      " |    |-- element: string (containsNull = true)\n",
      " |-- tutelles: array (nullable = true)\n",
      " |    |-- element: string (containsNull = true)\n",
      " |-- type_de_structure: string (nullable = true)\n",
      " |-- type_de_succession: string (nullable = true)\n",
      " |-- type_de_tutelle: array (nullable = true)\n",
      " |    |-- element: string (containsNull = true)\n",
      " |-- uai_des_tutelles: array (nullable = true)\n",
      " |    |-- element: string (containsNull = true)\n",
      "\n"
     ]
    }
   ],
   "source": [
    "unmatched.printSchema()"
   ]
  },
  {
   "cell_type": "code",
   "execution_count": 51,
   "id": "f52c317f-338a-4dd3-95e7-4150be3fb538",
   "metadata": {},
   "outputs": [
    {
     "data": {
      "text/plain": [
       "1831"
      ]
     },
     "execution_count": 51,
     "metadata": {},
     "output_type": "execute_result"
    }
   ],
   "source": [
    "unmatched.filter(func.col('annee_de_creation')<2021).count() #1831"
   ]
  },
  {
   "cell_type": "code",
   "execution_count": 93,
   "id": "bc24c49a-f1d1-4372-9c07-56552461152d",
   "metadata": {},
   "outputs": [
    {
     "data": {
      "text/plain": [
       "4211"
      ]
     },
     "execution_count": 93,
     "metadata": {},
     "output_type": "execute_result"
    }
   ],
   "source": [
    "public_labs.filter(func.col('annee_de_creation')<2021).count() #4211"
   ]
  },
  {
   "cell_type": "code",
   "execution_count": 87,
   "id": "9efc5249-4efd-4fa5-8984-09625d0ebdee",
   "metadata": {},
   "outputs": [
    {
     "name": "stdout",
     "output_type": "stream",
     "text": [
      "+----------------------------+-----------+\n",
      "|numero_national_de_structure|    inst_id|\n",
      "+----------------------------+-----------+\n",
      "|                  198821638B|I4387155715|\n",
      "|                  200815493K|I4392021105|\n",
      "+----------------------------+-----------+\n",
      "\n"
     ]
    }
   ],
   "source": [
    "matches.filter(func.col('numero_national_de_structure').isin([\"200815493K\",'198821638B'])).show()"
   ]
  },
  {
   "cell_type": "code",
   "execution_count": 231,
   "id": "1c81350b-c0e3-47c8-971f-52571423c04b",
   "metadata": {
    "scrolled": true
   },
   "outputs": [
    {
     "name": "stdout",
     "output_type": "stream",
     "text": [
      "+-----------------------------------------------------------------------------------------------------------------+----------------------------+-----------------+-----------------------------------------------------------------------------------------+\n",
      "|libelle                                                                                                          |numero_national_de_structure|annee_de_creation|site_web                                                                                 |\n",
      "+-----------------------------------------------------------------------------------------------------------------+----------------------------+-----------------+-----------------------------------------------------------------------------------------+\n",
      "|INSTITUT DE CHIMIE DE LYON                                                                                       |200710696A                  |2007             |http://www.iclyon.fr/                                                                    |\n",
      "|Droits, Pouvoirs et Sociétés                                                                                     |200810699Z                  |2008             |NULL                                                                                     |\n",
      "|Institut de Chimie de Picardie FR 3085                                                                           |200810700A                  |2008             |NULL                                                                                     |\n",
      "|Fédération de recherche des unités de mathématiques de Marseille                                                 |200410654T                  |2001             |NULL                                                                                     |\n",
      "|Institut de Chimie de Toulouse                                                                                   |200310667L                  |2003             |https://ict.cnrs.fr/                                                                     |\n",
      "|LUTIN                                                                                                            |200810868H                  |2008             |http://www.lutin-userlab.fr                                                              |\n",
      "|Fédération Paris-Saclay d'Innovation Thérapeutique                                                               |200610822S                  |2006             |NULL                                                                                     |\n",
      "|Cerema Direction Territoriale Centre-Est                                                                         |201521807T                  |2014             |http://www.centre-est.cerema.fr                                                          |\n",
      "|Laboratoire de mathématiques                                                                                     |200111810M                  |2001             |http://www.lama.univ-savoie.fr                                                           |\n",
      "|Institut Brestois Numérique Mathématiques                                                                        |201722457R                  |2017             |NULL                                                                                     |\n",
      "|LABORATOIRE DE SOCIOLINGUISTIQUE, D'ANTHROPOLOGIE DES PRATIQUES LANGAGIÈRES ET DE DIDACTIQUE DES LANGUES-CULTURES|199113211D                  |1991             |https://dipralang.www.univ-montp3.fr/                                                    |\n",
      "|ETUDES MONTPELLIERAINES DU MONDE ANGLOPHONE                                                                      |199113213F                  |1991             |https://emma.www.univ-montp3.fr/                                                         |\n",
      "|Centre de recherche en informatique                                                                              |199213454N                  |1992             |NULL                                                                                     |\n",
      "|CENTRE DE RECHERCHE SUR LE TRANSPORT ET LA LOGISTIQUE                                                            |199213256Y                  |1992             |https://cret-log.univ-amu.fr/                                                            |\n",
      "|CENTRE MAURICE HAURIOU POUR LA RECHERCHE EN DROIT PUBLIC                                                         |199213485X                  |1992             |http://recherche.parisdescartes.fr/cmh                                                   |\n",
      "|TRANSFERTS CRITIQUES ANGLOPHONES (TransCrit)                                                                     |199213502R                  |1992             |https://transcrit.univ-paris8.fr/                                                        |\n",
      "|INSTITUT DE DROIT PRIVE                                                                                          |199513633V                  |1995             |http://idprive.ut-capitole.fr                                                            |\n",
      "|LABORATOIRE DE PHYSIQUE DE LA MATIERE CONDENSEE - UR UPJV  2081                                                  |199613705U                  |1996             |https://www.u-picardie.fr/labo/lpmc/spip/                                                |\n",
      "|LABORATOIRE COMMUN DE MÉTROLOGIE LNE-CNAM                                                                        |199713913R                  |1997             |http://inm.cnam.fr/                                                                      |\n",
      "|CENTRE DE RECHERCHES DE L'INSTITUT DES HAUTES ETUDES INTERNATIONALES                                             |199713847U                  |1997             |http://www.ihei.fr                                                                       |\n",
      "|EQUIPE DE RECHERCHE : TEXTES, INFORMATIQUE, MULTILINGUISME                                                       |199814049J                  |1998             |http://www.inalco.fr/equipe-recherche/equipe-recherche-textes-informatique-multilinguisme|\n",
      "|IDENTITES , TERRITOIRES, EXPRESSIONS, MOBILITES                                                                  |199914319Y                  |1999             |https://item.univ-pau.fr                                                                 |\n",
      "|LABORATOIRE DE TRAITEMENT ET TRANSPORT DE L'INFORMATION                                                          |199914358R                  |1999             |http://www-l2ti.univ-paris13.fr/                                                         |\n",
      "|Laboratoire d'Analyse des Signaux et des Processus Industriels                                                   |199914373G                  |1999             |NULL                                                                                     |\n",
      "|LABORATOIRE DE DROIT SOCIAL                                                                                      |200114659J                  |2001             |http://ldsocial.u-paris2.fr/                                                             |\n",
      "|LABORATOIRE DE RECHERCHE EN SCIENCES DE GESTION DU PANTHEON-ASSAS                                                |200114663N                  |2001             |https://ed455-egic.u-paris2.fr/fr                                                        |\n",
      "|LABORATOIRE D'ECONOMIE DIONYSIEN                                                                                 |200114668U                  |2001             |https://sites.google.com/site/up8led/                                                    |\n",
      "|Institut de recherches Carré de Malberg (EA 3399 - UR 3399 depuis 01.01.2020)                                    |200114676C                  |2001             |http://ircm.unistra.fr/                                                                  |\n",
      "|HELLENISATION ET ROMANISATION DANS LE MONDE ANTIQUE : IDENTITES ET PHENOMENES INTERCULTURELS                     |200415071U                  |2004             |http://herma.labo.univ-poitiers.fr/                                                      |\n",
      "|SCIENCES INTÉGRATIVES DU VÉGÉTAL - MÉDITERRANÉE                                                                  |200719522U                  |2007             |NULL                                                                                     |\n",
      "|TERRITOIRES EN RESEAU - MISE EN RESEAU DE LA RECHERCHE TERRITORIALE                                              |201119541X                  |2011             |NULL                                                                                     |\n",
      "|Recherche clinique appliquée à l'hématologie                                                                     |200918498X                  |2009             |https://www.opale.org/entities/urp3518                                                   |\n",
      "|Unité Expérimentale de Pech Rouge                                                                                |199417766S                  |1994             |NULL                                                                                     |\n",
      "|Infectiologie Expérimentale des Rongeurs et Poissons                                                             |198917775Y                  |1989             |https://www6.jouy.inrae.fr/ierp/                                                         |\n",
      "|Unité Expérimentale de La Fage                                                                                   |196517781J                  |1972             |NULL                                                                                     |\n",
      "|Unité Expérimentale Avicole                                                                                      |200817785B                  |2008             |https://www6.tours.inrae.fr/peat                                                         |\n",
      "|Plate-Forme Cristallographie                                                                                     |200218085D                  |2002             |https://research.pasteur.fr/en/team/crystallography/                                     |\n",
      "|Unité de Chimie des biomolécules                                                                                 |200818087E                  |2008             |https://research.pasteur.fr/en/team/chemistry-of-biomolecules/                           |\n",
      "|CENTRE COMMUN DE CALCUL INTENSIF                                                                                 |201019190V                  |2010             |NULL                                                                                     |\n",
      "|FÉDÉRATION DES BIOMATÉRIAUX ET DISPOSITIFS MÉDICAUX FONCTIONNALISÉS DU NORD-PAS DE CALAIS                        |201019191W                  |2010             |NULL                                                                                     |\n",
      "+-----------------------------------------------------------------------------------------------------------------+----------------------------+-----------------+-----------------------------------------------------------------------------------------+\n",
      "only showing top 40 rows\n",
      "\n"
     ]
    }
   ],
   "source": [
    "unmatched.select('libelle','numero_national_de_structure','annee_de_creation','site_web').show(40,truncate = False)"
   ]
  },
  {
   "cell_type": "code",
   "execution_count": 97,
   "id": "f3138392-feda-434d-b2b5-a7e76ef15cae",
   "metadata": {},
   "outputs": [
    {
     "name": "stdout",
     "output_type": "stream",
     "text": [
      "+----------------------------+-----------+\n",
      "|numero_national_de_structure|    inst_id|\n",
      "+----------------------------+-----------+\n",
      "|                  202023559A|I4387154857|\n",
      "+----------------------------+-----------+\n",
      "\n"
     ]
    }
   ],
   "source": [
    "matches.filter(func.col('inst_id')==\"I4387154857\").show()"
   ]
  },
  {
   "cell_type": "code",
   "execution_count": 62,
   "id": "3876a3dc-2601-4da4-832d-ba9599174f30",
   "metadata": {},
   "outputs": [
    {
     "data": {
      "text/plain": [
       "537"
      ]
     },
     "execution_count": 62,
     "metadata": {},
     "output_type": "execute_result"
    }
   ],
   "source": [
    "inst.filter(func.col('type')==\"facility\").join(matches.select('inst_id'), on = 'inst_id', how = 'left_anti').select('inst_id','name','city').show(truncate =False) # 537"
   ]
  },
  {
   "cell_type": "code",
   "execution_count": 30,
   "id": "12aee09f-f230-4afd-976e-2dcc7a978797",
   "metadata": {
    "scrolled": true
   },
   "outputs": [],
   "source": [
    "df_inst.filter(func.col('id').contains(\"I4392021178\")).show()"
   ]
  },
  {
   "cell_type": "code",
   "execution_count": 105,
   "id": "c204bebe-24da-4dbe-ac13-0441adf34dfd",
   "metadata": {},
   "outputs": [
    {
     "name": "stdout",
     "output_type": "stream",
     "text": [
      "+----------------------------+-------------------------------------------------------+------------------------+-----------------+-------------------------+---------------------------+-------------------------+--------------------------+------------------------+-------------------------+--------------+-----------+---------------------------------+-------------------------------------------------------------------------------------------------------+--------------------------------------------------------------------------------------------+------------------------------+------------------------------------------------------------------------------------------------------+---------------------------------------------------------------------------------------+------------------------+------------------------------------------------------------------------------------------------------------+------------------------------+--------------------------+-------------------------------------------------------------------------------------------------------------------------------------+---------------------+------+---------------------------------------+----------------------------------------------------------------+------------------------------------------------------------------------------------------------------------------+------------------------------+------------------------------------------------------------------------------------------------------------------------------------------------------------------------------------------------+-----------------+------------------+--------------------------------------------------------------------------------------------+----------------------------------------+\n",
      "|numero_national_de_structure|adresse                                                |annee_d_effet_historique|annee_de_creation|code_de_nature_de_tutelle|code_de_niveau_de_structure|code_de_type_de_structure|code_de_type_de_succession|code_de_type_de_tutelle |code_domaine_scientifique|code_panel_erc|code_postal|commune                          |domaine_scientifique                                                                                   |fiche_rnsr                                                                                  |label_numero                  |libelle                                                                                               |nature_de_tutelle                                                                      |nom_du_responsable      |numero_de_structure_enfant                                                                                  |numero_de_structure_historique|numero_de_structure_parent|panel_erc                                                                                                                            |prenom_du_responsable|sigle |sigles_des_tutelles                    |siret_des_tutelles                                              |site_web                                                                                                          |titre_du_responsable          |tutelles                                                                                                                                                                                        |type_de_structure|type_de_succession|type_de_tutelle                                                                             |uai_des_tutelles                        |\n",
      "+----------------------------+-------------------------------------------------------+------------------------+-----------------+-------------------------+---------------------------+-------------------------+--------------------------+------------------------+-------------------------+--------------+-----------+---------------------------------+-------------------------------------------------------------------------------------------------------+--------------------------------------------------------------------------------------------+------------------------------+------------------------------------------------------------------------------------------------------+---------------------------------------------------------------------------------------+------------------------+------------------------------------------------------------------------------------------------------------+------------------------------+--------------------------+-------------------------------------------------------------------------------------------------------------------------------------+---------------------+------+---------------------------------------+----------------------------------------------------------------+------------------------------------------------------------------------------------------------------------------+------------------------------+------------------------------------------------------------------------------------------------------------------------------------------------------------------------------------------------+-----------------+------------------+--------------------------------------------------------------------------------------------+----------------------------------------+\n",
      "|201220432L                  |2000 route des Lucioles                                |NULL                    |2012             |[EPST, UNIV, EPST]       |2                          |22                       |NULL                      |[TUTE, TUTE, PART]      |[1, 9]                   |NULL          |06903      |SOPHIA ANTIPOLIS CEDEX - VALBONNE|[Mathématiques et leurs interactions, Sciences et technologies de l'information et de la communication]|https://appliweb.dgri.education.fr/rnsr/PresenteStruct.jsp?numNatStruct=201220432L&PUBLIC=OK|[UMR 7271, UMR 7271, UMR 7271]|Laboratoire d'Informatique, Signaux et Systèmes de Sophia Antipolis                                   |[Organismes de type EPST, Université, Organismes de type EPST]                         |[ZARZOSO, MALLET]       |[202023544J, 201722225N, 201322124W, 201221031M, 201120999G, 200418395G, 200018393X, 200018391V, 199818387Z]|NULL                          |NULL                      |NULL                                                                                                                                 |[Vicente, Frédéric]  |I3S   |[CNRS, UniCA, INRIA]                   |[18008901303720, 13002566100013, 18008904700013]                |https://univ-cotedazur.fr/laboratoires/laboratoire-dinformatique-signaux-et-syste%CC%80mes-de-sophia-antipolis-i3s|[Directeur Adjoint, Directeur]|[Centre national de la recherche scientifique, Université Côte d'Azur, Institut national de la recherche en informatique et automatique]                                                        |Unité mixte      |NULL              |[établissement tutelle, établissement tutelle, établissement participant]                   |[0753639Y, 0062205P, 0780491K]          |\n",
      "|201221057R                  |NULL                                                   |NULL                    |2012             |[EPST, EPST, EPST, UNIV] |2                          |21                       |NULL                      |[TUTE, TUTE, TUTE, TUTE]|[9]                      |NULL          |75013      |Paris                            |[Sciences et technologies de l'information et de la communication]                                     |https://appliweb.dgri.education.fr/rnsr/PresenteStruct.jsp?numNatStruct=201221057R&PUBLIC=OK|[, , , ]                      |Algorithmes, modèles et méthodes pour les images et les signaux du cerveau humain sain et pathologique|[Organismes de type EPST, Organismes de type EPST, Organismes de type EPST, Université]|[COLLIOT]               |NULL                                                                                                        |NULL                          |[196718247G, 200918525B]  |NULL                                                                                                                                 |[Olivier]            |ARAMIS|[CNRS, INSERM, INRIA, SORBONNE UNIV.]  |[18008901303720, 18003604800015, 18008904700013, 13002338500011]|http://www.inria.fr/equipes/aramis                                                                                |NULL                          |[Centre national de la recherche scientifique, Institut national de la sante et de la recherche medicale, Institut national de la recherche en informatique et automatique, Sorbonne Université]|Unité propre     |NULL              |[établissement tutelle, établissement tutelle, établissement tutelle, établissement tutelle]|[0753639Y, 0755364Y, 0780491K, 0755890V]|\n",
      "|199812842X                  |3 rue Joliot Curie                                     |NULL                    |1998             |[EPST, AUT_ETAB, UNIV]   |2                          |22                       |NULL                      |[TUTE, TUTE, TUTE]      |[8, 9]                   |NULL          |91192      |GIF SUR YVETTE CEDEX             |[Sciences pour l'ingénieur, Sciences et technologies de l'information et de la communication]          |https://appliweb.dgri.education.fr/rnsr/PresenteStruct.jsp?numNatStruct=199812842X&PUBLIC=OK|[UMR 8506, UMR 8506, UMR 8506]|Laboratoire des Signaux et Systèmes                                                                   |[Organismes de type EPST, Autres établissements ESR, Université]                       |[BONDON]                |[201020959T]                                                                                                |NULL                          |NULL                      |NULL                                                                                                                                 |[Pascal]             |L2S   |[CNRS, CENTRALESUPELEC, U PARIS-SACLAY]|[18008901303720, 13002076100016, 13002602400054]                |http://www.l2s.centralesupelec.fr/                                                                                |[Directeur de laboratoire]    |[Centre national de la recherche scientifique, CentraleSupélec, Université Paris-Saclay]                                                                                                        |Unité mixte      |NULL              |[établissement tutelle, établissement tutelle, établissement tutelle]                       |[0753639Y, 0912341A, 0912408Y]          |\n",
      "|199914373G                  |UNIVERSITE SAINT-ETIENNEIUT DE ROANNE20 AVENUE DE PARIS|NULL                    |1999             |[UNIV]                   |2                          |21                       |NULL                      |[TUTE]                  |NULL                     |PE6           |42334      |ROANNE CEDEX                     |NULL                                                                                                   |https://appliweb.dgri.education.fr/rnsr/PresenteStruct.jsp?numNatStruct=199914373G&PUBLIC=OK|[EA 3059]                     |Laboratoire d'Analyse des Signaux et des Processus Industriels                                        |[Université]                                                                           |[EL BADAOUI, EL BADAOUI]|NULL                                                                                                        |NULL                          |[201119605S]              |[Computer science and informatics : informatics and information systems, computer science, scientific computing, intelligent systems]|[Mohamed, Mohamed]   |LASPI |[SAINT-ETIENNE]                        |[19421095100423]                                                |NULL                                                                                                              |[DIR, DIR]                    |[Université Jean Monnet Saint-Etienne]                                                                                                                                                          |Unité propre     |NULL              |[établissement tutelle]                                                                     |[0421095M]                              |\n",
      "|202324357E                  |Institut Pasteur 25-28 rue du Docteur Roux             |2023                    |2023             |[FONDATION]              |2                          |21                       |R                         |[TUTE]                  |[5]                      |NULL          |75724      |Paris Cedex 15                   |[Biologie, médecine et santé]                                                                          |https://appliweb.dgri.education.fr/rnsr/PresenteStruct.jsp?numNatStruct=202324357E&PUBLIC=OK|NULL                          |Unité Structures et signaux dans la niche neurogénique                                                |[Fondation et institut particulier (Institut pasteur, Institut Curie, etc.)]           |[SPEDER]                |NULL                                                                                                        |[000021565R]                  |[200621926L, 198718066Y]  |NULL                                                                                                                                 |[Pauline]            |NULL  |[INSTITUT PASTEUR]                     |[77568489700017]                                                |NULL                                                                                                              |[DIR]                         |[Institut Pasteur]                                                                                                                                                                              |Unité propre     |renouvellement    |[établissement tutelle]                                                                     |[0755366A]                              |\n",
      "+----------------------------+-------------------------------------------------------+------------------------+-----------------+-------------------------+---------------------------+-------------------------+--------------------------+------------------------+-------------------------+--------------+-----------+---------------------------------+-------------------------------------------------------------------------------------------------------+--------------------------------------------------------------------------------------------+------------------------------+------------------------------------------------------------------------------------------------------+---------------------------------------------------------------------------------------+------------------------+------------------------------------------------------------------------------------------------------------+------------------------------+--------------------------+-------------------------------------------------------------------------------------------------------------------------------------+---------------------+------+---------------------------------------+----------------------------------------------------------------+------------------------------------------------------------------------------------------------------------------+------------------------------+------------------------------------------------------------------------------------------------------------------------------------------------------------------------------------------------+-----------------+------------------+--------------------------------------------------------------------------------------------+----------------------------------------+\n",
      "\n"
     ]
    }
   ],
   "source": [
    "unmatched.filter(func.lower(func.col('libelle')).contains('signaux')).show(truncate =False)"
   ]
  },
  {
   "cell_type": "code",
   "execution_count": 26,
   "id": "57263beb-89f1-43ae-9e93-83b0bb09adb7",
   "metadata": {
    "scrolled": true
   },
   "outputs": [
    {
     "name": "stdout",
     "output_type": "stream",
     "text": [
      "+-----------------+-----+\n",
      "|annee_de_creation|count|\n",
      "+-----------------+-----+\n",
      "|1800             |2    |\n",
      "|1909             |1    |\n",
      "|1953             |1    |\n",
      "|1955             |2    |\n",
      "|1958             |1    |\n",
      "|1959             |2    |\n",
      "|1960             |2    |\n",
      "|1961             |1    |\n",
      "|1962             |2    |\n",
      "|1963             |3    |\n",
      "|1964             |1    |\n",
      "|1966             |4    |\n",
      "|1967             |1    |\n",
      "|1968             |2    |\n",
      "|1969             |3    |\n",
      "|1970             |2    |\n",
      "|1972             |1    |\n",
      "|1973             |1    |\n",
      "|1975             |2    |\n",
      "|1978             |1    |\n",
      "|1979             |2    |\n",
      "|1980             |1    |\n",
      "|1981             |2    |\n",
      "|1982             |4    |\n",
      "|1983             |1    |\n",
      "|1985             |2    |\n",
      "|1986             |1    |\n",
      "|1987             |2    |\n",
      "|1988             |2    |\n",
      "|1989             |3    |\n",
      "|1990             |9    |\n",
      "|1991             |17   |\n",
      "|1992             |52   |\n",
      "|1993             |10   |\n",
      "|1994             |11   |\n",
      "|1995             |13   |\n",
      "|1996             |19   |\n",
      "|1997             |15   |\n",
      "|1998             |50   |\n",
      "|1999             |25   |\n",
      "|2000             |35   |\n",
      "|2001             |28   |\n",
      "|2002             |41   |\n",
      "|2003             |28   |\n",
      "|2004             |44   |\n",
      "|2005             |34   |\n",
      "|2006             |76   |\n",
      "|2007             |82   |\n",
      "|2008             |86   |\n",
      "|2009             |65   |\n",
      "|2010             |97   |\n",
      "|2011             |110  |\n",
      "|2012             |179  |\n",
      "|2013             |62   |\n",
      "|2014             |107  |\n",
      "|2015             |119  |\n",
      "|2016             |89   |\n",
      "|2017             |149  |\n",
      "|2018             |116  |\n",
      "|2019             |187  |\n",
      "|2020             |155  |\n",
      "|2021             |98   |\n",
      "|2022             |109  |\n",
      "|2023             |64   |\n",
      "|2024             |62   |\n",
      "+-----------------+-----+\n",
      "\n"
     ]
    }
   ],
   "source": [
    "unmatched.select('libelle','numero_national_de_structure','annee_de_creation').groupBy('annee_de_creation').count().sort('annee_de_creation').show(100, truncate = False)"
   ]
  },
  {
   "cell_type": "code",
   "execution_count": 129,
   "id": "0c0a0908-7258-4133-916e-4eaa7a0dedee",
   "metadata": {
    "scrolled": true
   },
   "outputs": [
    {
     "data": {
      "text/plain": [
       "[Row(city='caen', inst_id='I4392021105', name='lettres arts du spectacle langues romanes', numero_national_de_structure='200815493K', libelle='lettres arts du spectacle langues romanes', commune='CAEN CEDEX', n_shared_tokens=6)]"
      ]
     },
     "execution_count": 129,
     "metadata": {},
     "output_type": "execute_result"
    }
   ],
   "source": [
    "(inst\n",
    "                       .select('inst_id', 'name', 'city')\n",
    "                       .withColumn('city', func.translate(func.col('city'), \"éèêëàâäîïôöùûüç\", \"eeeeaaaiioouuuc\"))\n",
    "                       .withColumn('city', func.regexp_extract(func.col('city'),r'^\\w*$|^\\w*(?=\\s)|^[\\w\\-]*', 0))\n",
    "                       .withColumn('city', (func.lower(func.col('city'))))\n",
    "                       .withColumn('city', func.regexp_replace(func.col('city'), 'r\\W', ' '))\n",
    "                        .withColumn('name', func.regexp_replace(func.translate(func.lower(func.col('name')), \"éèêëàâäîïôöùûüç\", \"eeeeaaaiioouuuc\"), r'[^\\w\\s\\-]', ''))\n",
    "                       #.withColumn('name', udf_rm_stopwords(func.regexp_replace(udf_unidecode(func.lower(func.col('name'))), r'[^\\w\\s\\-]', ''), func.array([func.lit(x) for x in stopwords_dict['French']])))\n",
    "                       .join(unmatched.filter(func.col('numero_national_de_structure')==\"200815493K\")\n",
    "                             .select('numero_national_de_structure', 'libelle', 'commune')\n",
    "                             .withColumn('city', func.translate(func.lower(func.col('commune')), \"éèêëàâäîïôöùûüç\", \"eeeeaaaiioouuuc\"))\n",
    "                             .withColumn('city', func.regexp_extract(func.col('city'),r'^\\w*$|^\\w*(?=\\s)|^[\\w\\-]*', 0))\n",
    "                             .withColumn('city', func.regexp_replace(func.col('city'), 'r\\W', ' '))\n",
    "                            .withColumn('libelle', func.regexp_replace(func.translate(func.lower(func.col('libelle')), \"éèêëàâäîïôöùûüç\", \"eeeeaaaiioouuuc\"), r'[^\\w\\s\\-]', ''))\n",
    "                            # .withColumn('libelle', udf_rm_stopwords(func.regexp_replace(udf_unidecode(func.lower(func.col('libelle'))), r'[^\\w\\s\\-]', ''), func.array([func.lit(x) for x in stopwords_dict['French']])))\n",
    "                             , on = ['city'], how ='inner')\n",
    "                         .withColumn('n_shared_tokens', func.size(func.array_intersect(func.split(func.col('name'),' '), func.split( func.col('libelle'), ' '))))\n",
    ".filter(func.col('n_shared_tokens')>1)).collect()"
   ]
  },
  {
   "cell_type": "code",
   "execution_count": 182,
   "id": "2d0da483-4b49-4f2a-98f9-512a23c02c13",
   "metadata": {
    "scrolled": true
   },
   "outputs": [
    {
     "data": {
      "text/plain": [
       "[Row(name='Laboratoire des Biomolécules', inst_id='I4210165010'),\n",
       " Row(name='Institut thématique Bases moléculaires et structurales du vivant', inst_id='I4210094820'),\n",
       " Row(name='Institut de génétique et de biologie moléculaire et cellulaire', inst_id='I4210086872')]"
      ]
     },
     "execution_count": 182,
     "metadata": {},
     "output_type": "execute_result"
    }
   ],
   "source": [
    "inst.filter(func.concat_ws(',',func.col('parent.parent_id')).contains('I154526488')).select('name',\"inst_id\").filter(func.lower(func.col('name')).rlike('molécu')).collect()"
   ]
  },
  {
   "cell_type": "code",
   "execution_count": 53,
   "id": "64b26026-9b70-4584-bba1-30c09913bac6",
   "metadata": {},
   "outputs": [
    {
     "name": "stdout",
     "output_type": "stream",
     "text": [
      "+--------------------+------------------------+-----------------+-----------------------------+---------------------------+-------------------------+--------------------------+------------------------+-------------------------+--------------+-----------+--------+-------------------------------------------------------------------+--------------------------------------------------------------------------------------------+----------------------------------------------+-----------------------------------+-----------------------------------------------------------------------------------------+-----------------------------+--------------------------+------------------------------+--------------------------+----------------------------+--------------------------------------------------------------------------------------------------------------------------------------------------------------------------------------------------------------------------------------------------------------------------------------------------------------------------------------------------------------------------------------------------------------------------------------------------------------------------------------------------------------------------------------------------------------------------------------------------------------------------------------------------------------------------------------------------------------------------------------------------------------------------------------------------------------------------------------------------------------------------------------------+--------------------------+----------+---------------------------------------------+----------------------------------------------------------------+---------------------------------------------------+----------------------------------------------------+-------------------------------------------------------------------------------------------------------------------------------------------------------------------------+-----------------+------------------+------------------------------------------------------------------------------------------------+------------------------+\n",
      "|adresse             |annee_d_effet_historique|annee_de_creation|code_de_nature_de_tutelle    |code_de_niveau_de_structure|code_de_type_de_structure|code_de_type_de_succession|code_de_type_de_tutelle |code_domaine_scientifique|code_panel_erc|code_postal|commune |domaine_scientifique                                               |fiche_rnsr                                                                                  |label_numero                                  |libelle                            |nature_de_tutelle                                                                        |nom_du_responsable           |numero_de_structure_enfant|numero_de_structure_historique|numero_de_structure_parent|numero_national_de_structure|panel_erc                                                                                                                                                                                                                                                                                                                                                                                                                                                                                                                                                                                                                                                                                                                                                                                                                                                                                   |prenom_du_responsable     |sigle     |sigles_des_tutelles                          |siret_des_tutelles                                              |site_web                                           |titre_du_responsable                                |tutelles                                                                                                                                                                 |type_de_structure|type_de_succession|type_de_tutelle                                                                                 |uai_des_tutelles        |\n",
      "+--------------------+------------------------+-----------------+-----------------------------+---------------------------+-------------------------+--------------------------+------------------------+-------------------------+--------------+-----------+--------+-------------------------------------------------------------------+--------------------------------------------------------------------------------------------+----------------------------------------------+-----------------------------------+-----------------------------------------------------------------------------------------+-----------------------------+--------------------------+------------------------------+--------------------------+----------------------------+--------------------------------------------------------------------------------------------------------------------------------------------------------------------------------------------------------------------------------------------------------------------------------------------------------------------------------------------------------------------------------------------------------------------------------------------------------------------------------------------------------------------------------------------------------------------------------------------------------------------------------------------------------------------------------------------------------------------------------------------------------------------------------------------------------------------------------------------------------------------------------------------+--------------------------+----------+---------------------------------------------+----------------------------------------------------------------+---------------------------------------------------+----------------------------------------------------+-------------------------------------------------------------------------------------------------------------------------------------------------------------------------+-----------------+------------------+------------------------------------------------------------------------------------------------+------------------------+\n",
      "|146  rue Léo Saignat|NULL                    |2011             |[EPST, AUT_ETAB, UNIV, MEDIC]|2                          |22                       |NULL                      |[TUTE, TUTE, TUTE, PART]|[5, 10]                  |LS5;LS1;LS4   |33076      |Bordeaux|[Biologie, médecine et santé, Sciences agronomiques et écologiques]|https://appliweb.dgri.education.fr/rnsr/PresenteStruct.jsp?numNatStruct=200617985C&PUBLIC=OK|[UMR 1286, UMR_A 1286, UMR_A 1286, UMR_A 1286]|Nutrition et Neurobiologie intégrée|[Organismes de type EPST, Autres établissements ESR, Université, Etablissements de santé]|[CAPURON, PALLET, AOUIZERATE]|[199817727G]              |NULL                          |NULL                      |200617985C                  |[Neuroscience and Disorders of the Nervous System : Nervous system development, homeostasis and ageing, nervous system function and dysfunction, systems neuroscience and modelling, biological basis of cognitive processes and of behaviour, neurological and mental disorders, Molecules of Life: Biological Mechanisms, Structures and Functions : Molecular biology, biochemistry, structural biology, molecular biophysics, synthetic and chemical biology, drug design, innovative methods and modelling, Physiology in Health, Disease and Ageing : Organ and tissue physiology, comparative physiology, physiology of ageing, pathophysiology, inter-organ and tissue communication, endocrinology, nutrition, metabolism, interaction with the microbiome, non-communicable diseases including cancer (and except disorders of the nervous system and immunity-related diseases))]|[Lucile, Véronique, Bruno]|NutriNeurO|[INRAE, Bordeaux INP, BORDEAUX, CHU BORDEAUX]|[18007003901803, 13000635600013, 13001835100010, 26330582300019]|https://www6.bordeaux-aquitaine.inrae.fr/nutrineuro|[Directrice, Directrice-adjointe, Directeur adjoint]|[Institut national de recherche pour l'agriculture, l'alimentation et l'environnement, Institut Polytechnique Bordeaux, Université de Bordeaux, CHU Hôpitaux de Bordeaux]|Unité mixte      |NULL              |[établissement tutelle, établissement tutelle, établissement tutelle, établissement participant]|[, 0333232J, 0333298F, ]|\n",
      "+--------------------+------------------------+-----------------+-----------------------------+---------------------------+-------------------------+--------------------------+------------------------+-------------------------+--------------+-----------+--------+-------------------------------------------------------------------+--------------------------------------------------------------------------------------------+----------------------------------------------+-----------------------------------+-----------------------------------------------------------------------------------------+-----------------------------+--------------------------+------------------------------+--------------------------+----------------------------+--------------------------------------------------------------------------------------------------------------------------------------------------------------------------------------------------------------------------------------------------------------------------------------------------------------------------------------------------------------------------------------------------------------------------------------------------------------------------------------------------------------------------------------------------------------------------------------------------------------------------------------------------------------------------------------------------------------------------------------------------------------------------------------------------------------------------------------------------------------------------------------------+--------------------------+----------+---------------------------------------------+----------------------------------------------------------------+---------------------------------------------------+----------------------------------------------------+-------------------------------------------------------------------------------------------------------------------------------------------------------------------------+-----------------+------------------+------------------------------------------------------------------------------------------------+------------------------+\n",
      "\n"
     ]
    }
   ],
   "source": [
    "public_labs.filter(func.col('numero_national_de_structure')==\"200617985C\").show(truncate= False)"
   ]
  },
  {
   "cell_type": "code",
   "execution_count": 91,
   "id": "2c1f96ee-613a-40b7-a76c-18c579c335af",
   "metadata": {},
   "outputs": [
    {
     "name": "stdout",
     "output_type": "stream",
     "text": [
      "+----------------------------+-------+\n",
      "|numero_national_de_structure|inst_id|\n",
      "+----------------------------+-------+\n",
      "+----------------------------+-------+\n",
      "\n"
     ]
    }
   ],
   "source": [
    "matches.filter(func.col('numero_national_de_structure')==('198821638B')).show(truncate = False)"
   ]
  },
  {
   "cell_type": "code",
   "execution_count": 88,
   "id": "0a212d89-0572-4942-9ef7-7bf8ecacaeca",
   "metadata": {},
   "outputs": [
    {
     "data": {
      "text/plain": [
       "[Row(numero_national_de_structure='198821638B', libelle='centre recherche inegalites sociales', commune='PARIS', city='paris')]"
      ]
     },
     "execution_count": 88,
     "metadata": {},
     "output_type": "execute_result"
    }
   ],
   "source": [
    "(public_labs.filter(func.col('numero_national_de_structure')==\"198821638B\")\n",
    "      .select('numero_national_de_structure', 'libelle', 'commune')\n",
    "                             .withColumn('city', func.regexp_extract(func.col('commune'),r'^\\w*$|^\\w*\\s|^[\\w\\-]*', 0))\n",
    "                             .withColumn('city', udf_unidecode(func.lower(func.col('city'))))\n",
    "                             .withColumn('city', func.regexp_replace(func.col('city'), 'r\\W', ' '))\n",
    "                             .withColumn('libelle', udf_rm_stopwords(func.regexp_replace(udf_unidecode(func.lower(func.col('libelle'))), r'[^\\w\\s\\-]', ''), func.array([func.lit(x) for x in stopwords_dict['French']])))\n",
    "\n",
    "                             ).collect()"
   ]
  },
  {
   "cell_type": "code",
   "execution_count": 46,
   "id": "25e40ab4-ad43-4a2e-aad5-85849e9d6a5b",
   "metadata": {},
   "outputs": [
    {
     "name": "stdout",
     "output_type": "stream",
     "text": [
      "+--------------------+-----+\n",
      "|   type_de_structure|count|\n",
      "+--------------------+-----+\n",
      "|Fondations de coo...|    6|\n",
      "|        Unité propre| 1866|\n",
      "|      Equipe interne|  692|\n",
      "|         Unité mixte| 1551|\n",
      "|Groupements d'Int...|    7|\n",
      "|Unité mixte inter...|   58|\n",
      "|Collaborations in...|    1|\n",
      "|Groupements d'Int...|    8|\n",
      "|Structures Fédéra...|  366|\n",
      "|      Société privée|    6|\n",
      "|Groupements de Re...|   64|\n",
      "+--------------------+-----+\n",
      "\n"
     ]
    }
   ],
   "source": [
    "public_labs.groupBy('type_de_structure').count().show()"
   ]
  },
  {
   "cell_type": "code",
   "execution_count": 50,
   "id": "afd2d8bf-2508-4bd1-a554-12ff518f4a89",
   "metadata": {
    "scrolled": true
   },
   "outputs": [
    {
     "name": "stdout",
     "output_type": "stream",
     "text": [
      "+-----------------------------------------------------------------------------------------------------------------+\n",
      "|libelle                                                                                                          |\n",
      "+-----------------------------------------------------------------------------------------------------------------+\n",
      "|Cerema Direction Territoriale Centre-Est                                                                         |\n",
      "|CENTRE DE RECHERCHES ANGLOPHONES                                                                                 |\n",
      "|Institut de Recherches Philosophiques                                                                            |\n",
      "|CENTRE DE DROIT INTERNATIONAL DE NANTERRE                                                                        |\n",
      "|Institut Droit Ethique Patrimoine                                                                                |\n",
      "|LABORATOIRE DE SOCIOLINGUISTIQUE, D'ANTHROPOLOGIE DES PRATIQUES LANGAGIÈRES ET DE DIDACTIQUE DES LANGUES-CULTURES|\n",
      "|INSTITUT DE RECHERCHE INTERSITE ETUDES CULTURELLES                                                               |\n",
      "|ETUDES MONTPELLIERAINES DU MONDE ANGLOPHONE                                                                      |\n",
      "|CENTRE DE DROIT MARITIME ET OCEANIQUE                                                                            |\n",
      "|UR 1207 PHYSIOLOGIE, ECOLOGIER, ENVIRONNEMENT                                                                    |\n",
      "|Linguistique, Langues et Parole (EA 1339 - UR 1339 depuis 01.01.2020)                                            |\n",
      "|Centre de droit privé fondamental (EA 1351 - UR 1351 depuis 01.01.2020)                                          |\n",
      "|Centre de recherche en informatique                                                                              |\n",
      "|CENTRE DE RECHERCHE SUR LE TRANSPORT ET LA LOGISTIQUE                                                            |\n",
      "|Équipe Littérature et Culture italiennes                                                                         |\n",
      "|CENTRE MAURICE HAURIOU POUR LA RECHERCHE EN DROIT PUBLIC                                                         |\n",
      "|TRANSFERTS CRITIQUES ANGLOPHONES (TransCrit)                                                                     |\n",
      "|INSTITUT DE DROIT PRIVE                                                                                          |\n",
      "|LABORATOIRE DE PHYSIQUE DE LA MATIERE CONDENSEE - UR UPJV  2081                                                  |\n",
      "|Edition, Interprétation et traduction des textes anciens                                                         |\n",
      "+-----------------------------------------------------------------------------------------------------------------+\n",
      "only showing top 20 rows\n",
      "\n"
     ]
    }
   ],
   "source": [
    "public_labs.filter(func.col('type_de_structure') == \"Unité propre\").select('libelle').show(truncate= False)"
   ]
  },
  {
   "cell_type": "code",
   "execution_count": 3,
   "id": "c0084867-5c6b-4321-8788-a0516ae9d26a",
   "metadata": {
    "scrolled": true
   },
   "outputs": [
    {
     "name": "stdout",
     "output_type": "stream",
     "text": [
      "+-----------------------+--------------+------------+----------+--------------+------------+-------------------------------------------------------------------------------------+---------------------+------------------------------------------------------------------------------------------------------------------------------------------------------------------------+----------------------------------------------------+-------------------+--------------------------------+-------------------------------------------------------------------------------------+-------------------+---------+-----------------------------------------------------------------------------------------------------------------------------------------------------------------------------------------------------------------------------------------------------------------------------------------------------------------------------------------------------------------------------------------------------------------------------------------------------------------------------------------------------------------------------------------------------------------------------------------------------------------------------------------------------------------------------------------------------------------------------------------------------------------------------------------------------------------------------------------------------------------------------------------------------------------------------------------------------------------------------------------------------------------------------------------------------------------------------------------------------------------------------------------------------------------------------------------------------------------------------------------------------------------------------------------------------------------------------------------------------------------------------------------------------------------------------------------------------------------------------------------------------------------------------------------------------------------------------------------------------------------------------------------------------------------------------------------------------------------------------------------------------------------------------------------------------------------------------------------------------------------------------------------------------------------------------------------------------------------------------------------------------------------------------------------------------------------------------------------------------------------------------------------------------------------------------------------------------------------------------------------------------------------------------------------------------------------------------------------------------------------------------------------------------------------------------------------------------------------------------------------------------------------------------------------------------------------------------------------------------------------------------------------------------------------------------------------------------------------------------------------------------------------------------------+---------------+-------------------------------------------------------------------------------------------------------------------------------------+------------+----------------------------------------------------+-------------------------+----------------------------------+-----------+------+--------+-----------------------------------------------+--------------------------+--------------------------+-----------------------------------------------------------------+-----------+----------+--------------------------+\n",
      "|associated_institutions|cited_by_count|country_code|country_id|counts_by_year|created_date|display_name                                                                         |display_name_acronyms|display_name_alternatives                                                                                                                                               |geo                                                 |homepage_url       |id                              |ids                                                                                  |image_thumbnail_url|image_url|international                                                                                                                                                                                                                                                                                                                                                                                                                                                                                                                                                                                                                                                                                                                                                                                                                                                                                                                                                                                                                                                                                                                                                                                                                                                                                                                                                                                                                                                                                                                                                                                                                                                                                                                                                                                                                                                                                                                                                                                                                                                                                                                                                                                                                                                                                                                                                                                                                                                                                                                                                                                                                                                                                                                                                                      |is_super_system|lineage                                                                                                                              |repositories|roles                                               |ror                      |summary_stats                     |topic_share|topics|type    |type_id                                        |updated                   |updated_date              |works_api_url                                                    |works_count|x_concepts|max_updated_date          |\n",
      "+-----------------------+--------------+------------+----------+--------------+------------+-------------------------------------------------------------------------------------+---------------------+------------------------------------------------------------------------------------------------------------------------------------------------------------------------+----------------------------------------------------+-------------------+--------------------------------+-------------------------------------------------------------------------------------+-------------------+---------+-----------------------------------------------------------------------------------------------------------------------------------------------------------------------------------------------------------------------------------------------------------------------------------------------------------------------------------------------------------------------------------------------------------------------------------------------------------------------------------------------------------------------------------------------------------------------------------------------------------------------------------------------------------------------------------------------------------------------------------------------------------------------------------------------------------------------------------------------------------------------------------------------------------------------------------------------------------------------------------------------------------------------------------------------------------------------------------------------------------------------------------------------------------------------------------------------------------------------------------------------------------------------------------------------------------------------------------------------------------------------------------------------------------------------------------------------------------------------------------------------------------------------------------------------------------------------------------------------------------------------------------------------------------------------------------------------------------------------------------------------------------------------------------------------------------------------------------------------------------------------------------------------------------------------------------------------------------------------------------------------------------------------------------------------------------------------------------------------------------------------------------------------------------------------------------------------------------------------------------------------------------------------------------------------------------------------------------------------------------------------------------------------------------------------------------------------------------------------------------------------------------------------------------------------------------------------------------------------------------------------------------------------------------------------------------------------------------------------------------------------------------------------------------+---------------+-------------------------------------------------------------------------------------------------------------------------------------+------------+----------------------------------------------------+-------------------------+----------------------------------+-----------+------+--------+-----------------------------------------------+--------------------------+--------------------------+-----------------------------------------------------------------+-----------+----------+--------------------------+\n",
      "|[]                     |0             |NULL        |NULL      |[]            |2024-02-23  |Unité de recherche interdisciplinaire pour la prévention et le traitement des cancers|[ANTICIPE]           |[Laboratoire ANTICIPE, Interdisciplinary Research Unit for the Prevention and Treatment of Cancers, Interdisciplinary Research Unit for Cancer Prevention and Treatment]|{Caen, France, NULL, NULL, 49.18585, -0.35912, NULL}|https://anticipe.eu|https://openalex.org/I4392021178|{NULL, NULL, https://openalex.org/I4392021178, https://ror.org/04b8tg719, NULL, NULL}|NULL               |NULL     |{{NULL, NULL, NULL, NULL, NULL, NULL, NULL, NULL, NULL, NULL, NULL, NULL, NULL, NULL, NULL, NULL, NULL, NULL, NULL, NULL, NULL, NULL, NULL, NULL, NULL, NULL, NULL, NULL, NULL, NULL, NULL, NULL, NULL, NULL, NULL, NULL, NULL, NULL, NULL, NULL, NULL, NULL, NULL, NULL, NULL, NULL, NULL, NULL, NULL, NULL, NULL, NULL, NULL, NULL, NULL, NULL, NULL, NULL, NULL, NULL, NULL, NULL, NULL, NULL, NULL, NULL, NULL, NULL, NULL, NULL, NULL, NULL, NULL, NULL, NULL, NULL, NULL, NULL, NULL, NULL, NULL, NULL, NULL, NULL, NULL, NULL, NULL, NULL, NULL, Unité de recherche interdisciplinaire pour la prévention et le traitement des cancers, NULL, NULL, NULL, NULL, NULL, NULL, NULL, NULL, NULL, NULL, NULL, NULL, NULL, NULL, NULL, NULL, NULL, NULL, NULL, NULL, NULL, NULL, NULL, NULL, NULL, NULL, NULL, NULL, NULL, NULL, NULL, NULL, NULL, NULL, NULL, NULL, NULL, NULL, NULL, NULL, NULL, NULL, NULL, NULL, NULL, NULL, NULL, NULL, NULL, NULL, NULL, NULL, NULL, NULL, NULL, NULL, NULL, NULL, NULL, NULL, NULL, NULL, NULL, NULL, NULL, NULL, NULL, NULL, NULL, NULL, NULL, NULL, NULL, NULL, NULL, NULL, NULL, NULL, NULL, NULL, NULL, NULL, NULL, NULL, NULL, NULL, NULL, NULL, NULL, NULL, NULL, NULL, NULL, NULL, NULL, NULL, NULL, NULL, NULL, NULL, NULL, NULL, NULL, NULL, NULL, NULL, NULL, NULL, NULL, NULL, NULL, NULL, NULL, NULL, NULL, NULL, NULL, NULL, NULL, NULL, NULL, NULL, NULL, NULL, NULL, NULL, NULL, NULL, NULL, NULL, NULL, NULL, NULL, NULL, NULL, NULL, NULL, NULL, NULL, NULL, NULL, NULL, NULL, NULL, NULL, NULL, NULL, NULL, NULL, NULL, NULL, NULL, NULL, NULL, NULL, NULL, NULL, NULL, NULL, NULL, NULL, NULL, NULL, NULL, NULL, NULL, NULL, NULL, NULL, NULL, NULL, NULL, NULL, NULL, NULL, NULL, NULL, NULL, NULL, NULL, NULL, NULL, NULL, NULL, NULL, NULL, NULL, NULL, NULL, NULL, NULL, NULL, NULL, NULL, NULL, NULL, NULL, NULL, NULL, NULL, NULL, NULL, NULL, NULL, NULL, NULL, NULL, NULL, NULL, NULL, NULL, NULL, NULL, NULL, NULL, NULL, NULL, NULL, NULL, NULL, NULL, NULL, NULL, NULL, NULL, NULL, NULL, NULL, NULL, NULL, NULL, NULL, NULL, NULL, NULL, NULL, NULL, NULL, NULL, NULL, NULL, NULL, NULL, NULL, NULL, NULL, NULL, NULL, NULL, NULL, NULL, NULL, NULL, NULL, NULL, NULL, NULL, NULL, NULL, NULL, NULL, NULL, NULL, NULL, NULL, NULL, NULL, NULL, NULL, NULL, NULL, NULL, NULL, NULL, NULL, NULL, NULL, NULL, NULL, NULL, NULL, NULL, NULL, NULL, NULL, NULL, NULL, NULL, NULL, NULL, NULL, NULL, NULL, NULL, NULL, NULL, NULL, NULL, NULL, NULL, NULL, NULL, NULL, NULL, NULL, NULL, NULL, NULL, NULL, NULL, NULL, NULL, NULL, NULL, NULL, NULL, NULL, NULL, NULL, NULL, NULL, NULL, NULL, NULL, NULL, NULL, NULL, NULL, NULL, NULL, NULL, NULL, NULL, NULL, NULL, NULL, NULL, NULL, NULL, NULL, NULL, NULL}}|false          |[https://openalex.org/I154526488, https://openalex.org/I4210105918, https://openalex.org/I4392021178, https://openalex.org/I98702875]|[]          |[{https://openalex.org/I4392021178, institution, 0}]|https://ror.org/04b8tg719|{0, 0, 0, 0.0, 0, 0, 0, 0, 0.0, 0}|[]         |[]    |facility|https://openalex.org/institution-types/facility|2024-08-29T02:24:17.289254|2024-08-29T02:24:17.289254|https://api.openalex.org/works?filter=institutions.id:I4392021178|0          |[]        |2024-08-29T02:24:17.289254|\n",
      "+-----------------------+--------------+------------+----------+--------------+------------+-------------------------------------------------------------------------------------+---------------------+------------------------------------------------------------------------------------------------------------------------------------------------------------------------+----------------------------------------------------+-------------------+--------------------------------+-------------------------------------------------------------------------------------+-------------------+---------+-----------------------------------------------------------------------------------------------------------------------------------------------------------------------------------------------------------------------------------------------------------------------------------------------------------------------------------------------------------------------------------------------------------------------------------------------------------------------------------------------------------------------------------------------------------------------------------------------------------------------------------------------------------------------------------------------------------------------------------------------------------------------------------------------------------------------------------------------------------------------------------------------------------------------------------------------------------------------------------------------------------------------------------------------------------------------------------------------------------------------------------------------------------------------------------------------------------------------------------------------------------------------------------------------------------------------------------------------------------------------------------------------------------------------------------------------------------------------------------------------------------------------------------------------------------------------------------------------------------------------------------------------------------------------------------------------------------------------------------------------------------------------------------------------------------------------------------------------------------------------------------------------------------------------------------------------------------------------------------------------------------------------------------------------------------------------------------------------------------------------------------------------------------------------------------------------------------------------------------------------------------------------------------------------------------------------------------------------------------------------------------------------------------------------------------------------------------------------------------------------------------------------------------------------------------------------------------------------------------------------------------------------------------------------------------------------------------------------------------------------------------------------------------+---------------+-------------------------------------------------------------------------------------------------------------------------------------+------------+----------------------------------------------------+-------------------------+----------------------------------+-----------+------+--------+-----------------------------------------------+--------------------------+--------------------------+-----------------------------------------------------------------+-----------+----------+--------------------------+\n",
      "\n"
     ]
    }
   ],
   "source": [
    "df_inst.filter(func.col('id').contains('I4392021178')).show(truncate = False)"
   ]
  },
  {
   "cell_type": "code",
   "execution_count": null,
   "id": "10bd99f3-e740-44e9-9d4c-987ca0c6cd88",
   "metadata": {},
   "outputs": [],
   "source": [
    "(public_labs\n",
    " .withColumn('uai', func.explode_outer(func.col('uai_des_tutelles')))\n",
    ".join(df_budget.select(func.col('uai_identifiant').alias('uai')).distinct(), on = 'uai', how = 'inner')\n",
    ".select('numero_national_de_structure').distinct()\n",
    ").count()"
   ]
  },
  {
   "cell_type": "code",
   "execution_count": 42,
   "id": "4e5199e2-d952-4c27-a4c5-4793b92ec5cb",
   "metadata": {
    "scrolled": true
   },
   "outputs": [
    {
     "name": "stdout",
     "output_type": "stream",
     "text": [
      "+-----+-----+\n",
      "|count|count|\n",
      "+-----+-----+\n",
      "|    7|    4|\n",
      "|   32|    2|\n",
      "|   43|    1|\n",
      "|   31|    1|\n",
      "|   25|    1|\n",
      "|    6|   29|\n",
      "|    9|    5|\n",
      "|   17|    1|\n",
      "|    5|   31|\n",
      "|    1| 2339|\n",
      "|   10|    4|\n",
      "|    3|  215|\n",
      "|   37|    1|\n",
      "|   12|    1|\n",
      "|    8|    4|\n",
      "|   11|    3|\n",
      "|    2|  592|\n",
      "|    4|   65|\n",
      "|   13|    1|\n",
      "|   14|    1|\n",
      "+-----+-----+\n",
      "only showing top 20 rows\n",
      "\n"
     ]
    }
   ],
   "source": [
    "(public_labs\n",
    " .withColumn('uai', func.explode_outer(func.col('uai_des_tutelles')))\n",
    ".join(df_budget.select(func.col('uai_identifiant').alias('uai')).distinct(), on = 'uai', how = 'inner')\n",
    ".groupBy('numero_national_de_structure').count()\n",
    " .groupBy('count').count()\n",
    ").show()"
   ]
  },
  {
   "cell_type": "code",
   "execution_count": null,
   "id": "36046cc4-299c-4978-b691-c1352df50c8f",
   "metadata": {},
   "outputs": [],
   "source": []
  },
  {
   "cell_type": "code",
   "execution_count": 34,
   "id": "b3201dbd-79a9-4aec-89d9-3ed0c06a550c",
   "metadata": {},
   "outputs": [],
   "source": [
    "spark.catalog.clearCache()\n",
    "spark.stop()"
   ]
  }
 ],
 "metadata": {
  "kernelspec": {
   "display_name": "Python 3 (ipykernel)",
   "language": "python",
   "name": "python3"
  },
  "language_info": {
   "codemirror_mode": {
    "name": "ipython",
    "version": 3
   },
   "file_extension": ".py",
   "mimetype": "text/x-python",
   "name": "python",
   "nbconvert_exporter": "python",
   "pygments_lexer": "ipython3",
   "version": "3.9.21"
  }
 },
 "nbformat": 4,
 "nbformat_minor": 5
}
