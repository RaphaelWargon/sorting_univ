{
 "cells": [
  {
   "cell_type": "code",
   "execution_count": 1,
   "id": "df3a702a-cf27-4af7-bf37-811e075652fe",
   "metadata": {},
   "outputs": [
    {
     "name": "stdout",
     "output_type": "stream",
     "text": [
      "C:\\Users\\common\\projet_3_lru\\sorting_univ\\script/headers/\n",
      "initalizing spark session \n"
     ]
    }
   ],
   "source": [
    "import os\n",
    "base_path = os.path.dirname(os.path.abspath(\"\"))\n",
    "base_path = base_path + \"/headers/\"\n",
    "print(base_path)\n",
    "header_path = base_path + 'header_data_treatment.ipynb'\n",
    "%run $header_path"
   ]
  },
  {
   "cell_type": "code",
   "execution_count": 2,
   "id": "a3036308-e6ba-41ed-bcb4-a10dacbee8d0",
   "metadata": {},
   "outputs": [],
   "source": [
    "df_inst = (spark.read.format('parquet').load('file:\\\\' + main_path_openalex + 'institutions.parquet')\n",
    "          )"
   ]
  },
  {
   "cell_type": "code",
   "execution_count": 3,
   "id": "2983c6b5-7fca-44aa-8459-04b532338ec9",
   "metadata": {},
   "outputs": [],
   "source": [
    "inst = spark.read.parquet('file:\\\\' + save_path + 'inst_fr.parquet')"
   ]
  },
  {
   "cell_type": "code",
   "execution_count": 82,
   "id": "579db61e-9323-4ea5-b301-691bce07d7d5",
   "metadata": {},
   "outputs": [],
   "source": [
    "fr_esr = spark.read.format('csv').option(\"delimiter\", \";\").option(\"header\",\"true\").load('file:\\\\' + scanR_path + '\\\\fr-esr-principaux-etablissements-enseignement-superieur.csv')"
   ]
  },
  {
   "cell_type": "code",
   "execution_count": 83,
   "id": "c7ae5678-4fee-4ac4-96a3-878999c9f2a9",
   "metadata": {
    "scrolled": true
   },
   "outputs": [
    {
     "name": "stdout",
     "output_type": "stream",
     "text": [
      "+--------------------+--------------------+---------+---------+---------+-------------------+-------+\n",
      "|                name|          short_name|    idref|      ror| wikidata|               type|secteur|\n",
      "+--------------------+--------------------+---------+---------+---------+-------------------+-------+\n",
      "|Université de Rennes|          UNIVRENNES|26693823X|015m7wh34| Q1987282|         Université| public|\n",
      "|Institut français...|                IFAO|026387395|055pd2p26| Q1472454|Autre établissement| public|\n",
      "|Université Paris ...|             UP Cité|236453505|05f82e368|Q55849612|         Université| public|\n",
      "|École des hautes ...|           HEC Paris|027321118|0423jsj19|  Q273535|              École|  privé|\n",
      "|Institut national...|        INSA de Lyon|052444724|050jn9y42| Q1633859|              École| public|\n",
      "|Université de Poi...| Université Poitiers|026403765|04xhy8q59|  Q661056|         Université| public|\n",
      "|Neoma Business Sc...|            Neoma BS|250789329|01g1pe685|Q16665962|              École|  privé|\n",
      "|Université de Cor...|    Université Corse|029473284|050ra0n32|  Q335841|         Université| public|\n",
      "|La Rochelle Unive...|Université La Roc...|035375043|04mv1z119| Q1500822|         Université| public|\n",
      "|         Sciences Po|        IEP de Paris|027918459|05fe7ax82|  Q859363|Grand établissement| public|\n",
      "|Institut catholiq...|                ICES|031034098|02tqmhd47| Q3151861|              École|  privé|\n",
      "|École nationale s...|             ENSAPLV|185977049|03e2r1r87| Q3578185|              École| public|\n",
      "|Institut national...|INSA de Rouen Nor...|033364346|020ws7586| Q1665112|              École| public|\n",
      "|École supérieure ...|          ESB Nantes|027957314|03x8h1v05| Q3578509|              École|  privé|\n",
      "|Université de Cae...|             UNICAEN|026403064|051kpcy16|  Q568554|         Université| public|\n",
      "|Université de Toulon|   Université Toulon|031122337|02m9kbe37| Q1816857|         Université| public|\n",
      "|Arts et Métiers S...|     Arts et Métiers|02637515X|018pp1107| Q2570220|Grand établissement| public|\n",
      "|École normale sup...|         ENS de Lyon|149154992|04zmssz18|   Q10159|              École| public|\n",
      "|    Sciences Po Lyon|         IEP de Lyon|028888537|02h3vcz70| Q2253344|Autre établissement| public|\n",
      "|Université Paris-...|      Panthéon-Assas|260745863|04qb2qm38|  Q662976|         Université| public|\n",
      "+--------------------+--------------------+---------+---------+---------+-------------------+-------+\n",
      "only showing top 20 rows\n",
      "\n"
     ]
    }
   ],
   "source": [
    "fr_esr = (fr_esr\n",
    "          .select(func.col('libellé').alias('name'), func.col('nom court').alias('short_name'),\n",
    "                  func.col('identifiant_idref').alias('idref'), func.col('Identifiant ROR').alias('ror'),\n",
    "                  func.col('Identifiant wikidata').alias('wikidata'), func.col(\"type d'établissement\").alias('type'),\n",
    "                 func.col(\"secteur d'établissement\").alias('secteur'))\n",
    "          .distinct()\n",
    "         )\n",
    "fr_esr.show()\n",
    "          "
   ]
  },
  {
   "cell_type": "code",
   "execution_count": 111,
   "id": "52f7219d-8cf4-496b-852c-6cf3349dd72d",
   "metadata": {},
   "outputs": [
    {
     "data": {
      "text/plain": [
       "215"
      ]
     },
     "execution_count": 111,
     "metadata": {},
     "output_type": "execute_result"
    }
   ],
   "source": [
    "merged_by_ror = (df_inst\n",
    "                 .select('id', 'ror')\n",
    "                 .join(fr_esr\n",
    "                       .withColumn('ror', func.concat(func.lit('https://ror.org/'), func.col('ror'))), on = 'ror', how ='inner')\n",
    "                 .select(func.regexp_replace(func.col('id'), 'https://openalex.org/', '').alias('inst_id'),'idref','name','ror','type',\"secteur\")\n",
    "                 .distinct()\n",
    "                )\n",
    "merged_by_ror.count()"
   ]
  },
  {
   "cell_type": "code",
   "execution_count": 112,
   "id": "61603e4a-8bfb-4dea-8968-22786ecfefa5",
   "metadata": {
    "scrolled": true
   },
   "outputs": [
    {
     "name": "stdout",
     "output_type": "stream",
     "text": [
      "+-----------+-------------------+--------------------+--------------------+-------------------+-------+\n",
      "|    inst_id|              idref|                name|                 ror|               type|secteur|\n",
      "+-----------+-------------------+--------------------+--------------------+-------------------+-------+\n",
      "| I187986737|          026370921|   Collège de France|https://ror.org/0...|Grand établissement| public|\n",
      "| I138816502|          029473284|Université de Cor...|https://ror.org/0...|         Université| public|\n",
      "|I2802487185|          030969379|Université du Lit...|https://ror.org/0...|         Université| public|\n",
      "|I2746051580|          241597595|Université Paris ...|https://ror.org/0...|Grand établissement| public|\n",
      "| I110017253|          026404478| Université de Tours|https://ror.org/0...|         Université| public|\n",
      "|I4210103002|          252404955|Université Clermo...|https://ror.org/0...|         Université| public|\n",
      "|I4210145102|          238327159|Institut polytech...|https://ror.org/0...|              École| public|\n",
      "|  I40434647|          026403587|Université Paris ...|https://ror.org/0...|         Université| public|\n",
      "| I180375564|          120796899|École nationale d...|https://ror.org/0...|              École| public|\n",
      "| I277688954|          241345251|Université Paris-...|https://ror.org/0...|         Université| public|\n",
      "|I4210142724|          163078998|Centrale Méditerr...|https://ror.org/0...|              École| public|\n",
      "|I4210126056|086908480,193857561|Institut national...|https://ror.org/0...|Autre établissement| public|\n",
      "| I112936343|          033894221|       Centrale Lyon|https://ror.org/0...|              École| public|\n",
      "|I1287193074|          026525704|Institut catholiq...|https://ror.org/0...|              École|  privé|\n",
      "|I4210130549|          035348127|   EIGSI La Rochelle|https://ror.org/0...|              École|  privé|\n",
      "|  I65806277|          026403315|Université de Lim...|https://ror.org/0...|         Université| public|\n",
      "|I4210128193|          034635491|École nationale s...|https://ror.org/0...|              École| public|\n",
      "|  I86175216|          034641491|École nationale s...|https://ror.org/0...|              École| public|\n",
      "|  I83860666|          027321118|École des hautes ...|https://ror.org/0...|              École|  privé|\n",
      "| I100296615|          027771881|École nationale d...|https://ror.org/0...|Grand établissement| public|\n",
      "+-----------+-------------------+--------------------+--------------------+-------------------+-------+\n",
      "only showing top 20 rows\n",
      "\n"
     ]
    }
   ],
   "source": [
    "merged_by_ror.show()"
   ]
  },
  {
   "cell_type": "code",
   "execution_count": 80,
   "id": "8213ce83-cf09-4d11-a73e-8f5e12a2547d",
   "metadata": {},
   "outputs": [
    {
     "name": "stdout",
     "output_type": "stream",
     "text": [
      "+-------------------+-----+\n",
      "|               type|count|\n",
      "+-------------------+-----+\n",
      "|         Université|   61|\n",
      "|Grand établissement|   27|\n",
      "|              École|  116|\n",
      "|Autre établissement|   10|\n",
      "+-------------------+-----+\n",
      "\n"
     ]
    }
   ],
   "source": [
    "merged_by_ror.groupBy('type').count().show()"
   ]
  },
  {
   "cell_type": "code",
   "execution_count": 87,
   "id": "d8393cb8-740c-4ef6-8ca5-b81ffe136615",
   "metadata": {},
   "outputs": [
    {
     "name": "stdout",
     "output_type": "stream",
     "text": [
      "+-----------------------+--------------+------------+----------+--------------+------------+------------+---------------------+-------------------------+---+------------+---+---+-------------------+---------+-------------+---------------+-------+------------+-----+---+-------------+-----------+------+----+-------+-------+------------+-------------+-----------+----------+\n",
      "|associated_institutions|cited_by_count|country_code|country_id|counts_by_year|created_date|display_name|display_name_acronyms|display_name_alternatives|geo|homepage_url| id|ids|image_thumbnail_url|image_url|international|is_super_system|lineage|repositories|roles|ror|summary_stats|topic_share|topics|type|type_id|updated|updated_date|works_api_url|works_count|x_concepts|\n",
      "+-----------------------+--------------+------------+----------+--------------+------------+------------+---------------------+-------------------------+---+------------+---+---+-------------------+---------+-------------+---------------+-------+------------+-----+---+-------------+-----------+------+----+-------+-------+------------+-------------+-----------+----------+\n",
      "+-----------------------+--------------+------------+----------+--------------+------------+------------+---------------------+-------------------------+---+------------+---+---+-------------------+---------+-------------+---------------+-------+------------+-----+---+-------------+-----------+------+----+-------+-------+------------+-------------+-----------+----------+\n",
      "\n"
     ]
    }
   ],
   "source": [
    "df_inst.filter(func.col('id').contains(\"I4403386658\")).show()"
   ]
  },
  {
   "cell_type": "code",
   "execution_count": 73,
   "id": "2589db25-7a78-44c6-be88-1747911ca1fc",
   "metadata": {
    "scrolled": true
   },
   "outputs": [
    {
     "data": {
      "text/plain": [
       "3"
      ]
     },
     "execution_count": 73,
     "metadata": {},
     "output_type": "execute_result"
    }
   ],
   "source": [
    "merge = (inst.withColumn('to_join',\n",
    "                                           func.regexp_replace(func.lower(func.col('name')),       \" de| la| d'| l'| des| du| le| les\",'')\n",
    "                )\n",
    "      .withColumn('to_join', func.regexp_replace(func.col('to_join'), 'é|è', 'e'))\n",
    ".join(fr_esr.filter(  (~ func.col('ror').isin(merged_ror)) | (func.col('ror').isNull()) )\n",
    "      .withColumn('to_join', \n",
    "                  func.explode(func.array([func.regexp_replace(func.lower(func.col('name')),       \" de| la| d'| l'| des| du| le| les\",''), \n",
    "                                           func.regexp_replace(func.lower(func.col('short_name')), \" de| la| d'| l'| des| du| le| les\",'')])))\n",
    "      .withColumn('to_join', func.regexp_replace(func.col('to_join'), 'é|è', 'e'))\n",
    "      , on = 'to_join', how ='inner'))\n",
    "merge.count()"
   ]
  },
  {
   "cell_type": "code",
   "execution_count": 74,
   "id": "ef0c15e2-de32-47c9-b234-63d3f0f2b3dc",
   "metadata": {},
   "outputs": [
    {
     "name": "stdout",
     "output_type": "stream",
     "text": [
      "+--------------------+-----------+--------------------+---------+-------------+--------------------+---------------+--------------------+-----+-------+----+--------------------+----------+---------+----+--------+----------+\n",
      "|             to_join|    inst_id|                name|     type|         city|         topic_share|     main_topic|              parent|fused|uni_pub|cnrs|                name|short_name|    idref| ror|wikidata|      type|\n",
      "+--------------------+-----------+--------------------+---------+-------------+--------------------+---------------+--------------------+-----+-------+----+--------------------+----------+---------+----+--------+----------+\n",
      "| universite toulouse|  I17866349|Université de Tou...|education|     Toulouse|[{Chemistry, 0.00...|    Engineering|[{I17866349, Univ...|    0|      1|   0|Université de Tou...|      NULL|     NULL|NULL|    NULL|Université|\n",
      "|institut protesta...|I4210121454|Institut Protesta...|education|  Montpellier|[{Social Sciences...|Social Sciences|[{I4210121454, In...|    0|      0|   0|Institut protesta...|       IPT|029412706|NULL|Q3064314|     École|\n",
      "|universite jean m...|  I86767153|Université Jean M...|education|Saint-Etienne|[{Social Sciences...|       Medicine|[{I203339264, Uni...|    0|      1|   0|Université Jean M...|      NULL|     NULL|NULL|    NULL|Université|\n",
      "+--------------------+-----------+--------------------+---------+-------------+--------------------+---------------+--------------------+-----+-------+----+--------------------+----------+---------+----+--------+----------+\n",
      "\n"
     ]
    }
   ],
   "source": [
    "merge.show()"
   ]
  },
  {
   "cell_type": "code",
   "execution_count": 76,
   "id": "1be4ea5d-4b99-41d3-a657-d6aa5c3f4a59",
   "metadata": {},
   "outputs": [
    {
     "name": "stdout",
     "output_type": "stream",
     "text": [
      "+-------+----+----+----+-----------+----------+------+-----+-------+----+\n",
      "|inst_id|name|type|city|topic_share|main_topic|parent|fused|uni_pub|cnrs|\n",
      "+-------+----+----+----+-----------+----------+------+-----+-------+----+\n",
      "+-------+----+----+----+-----------+----------+------+-----+-------+----+\n",
      "\n"
     ]
    }
   ],
   "source": [
    "inst.filter(func.col('inst_id')==\"I4403386658\").show()"
   ]
  },
  {
   "cell_type": "code",
   "execution_count": 70,
   "id": "22ffb7f1-7fd6-4151-96d5-a1fec1ed48f2",
   "metadata": {},
   "outputs": [],
   "source": [
    "merged_idref = [row[0] for row in merged_by_ror.select('idref').collect() if row[0] !=None]\n",
    "merged_ror = [row[0].replace('https://ror.org/','') for row in merged_by_ror.select('ror').collect() if row[0] !=None]"
   ]
  },
  {
   "cell_type": "code",
   "execution_count": 54,
   "id": "5e118f9d-1c9f-4c0c-bb4e-5c6e6f541b0e",
   "metadata": {
    "scrolled": true
   },
   "outputs": [
    {
     "data": {
      "text/plain": [
       "['203592077',\n",
       " '242335675',\n",
       " '027771881',\n",
       " '050425900',\n",
       " '026523493',\n",
       " '060121076',\n",
       " '032760639',\n",
       " '026394944',\n",
       " '05017746X',\n",
       " '131056549',\n",
       " '027321118',\n",
       " '221333754',\n",
       " '026403714',\n",
       " '026374986',\n",
       " '03082057X',\n",
       " '029473284',\n",
       " '034641491',\n",
       " '163078998',\n",
       " '259265152',\n",
       " '136233902',\n",
       " '028064089',\n",
       " '030820529',\n",
       " '157779092',\n",
       " '156395703',\n",
       " '241345251',\n",
       " '09560846X',\n",
       " '240648315',\n",
       " '052444724',\n",
       " '114146756',\n",
       " '029823382',\n",
       " '026403765',\n",
       " '031308570',\n",
       " '026404478',\n",
       " '035375043',\n",
       " '026523248',\n",
       " '250789329',\n",
       " '027361837',\n",
       " '033364346',\n",
       " '034634894',\n",
       " '034635491',\n",
       " '027404978',\n",
       " '252404955',\n",
       " '034817670',\n",
       " '026370921',\n",
       " '175330263',\n",
       " '026403552',\n",
       " '035348127',\n",
       " '027941426',\n",
       " '026403919',\n",
       " '157040569',\n",
       " '026404435',\n",
       " '187841578',\n",
       " '031122337',\n",
       " '026403021',\n",
       " '076359735',\n",
       " '26693823X',\n",
       " '027976122',\n",
       " '030646480',\n",
       " '236453505',\n",
       " '026388766',\n",
       " '026402920',\n",
       " '026404451',\n",
       " '026537036',\n",
       " '25843614X',\n",
       " '026402971',\n",
       " '149154992',\n",
       " '026386291',\n",
       " '199743169',\n",
       " '030507200',\n",
       " '026403250',\n",
       " '034656278',\n",
       " '026453932',\n",
       " '054447658',\n",
       " '027964361',\n",
       " '026403692',\n",
       " '026404494',\n",
       " '188204024',\n",
       " '067101925',\n",
       " '026403064',\n",
       " '033894221',\n",
       " '028029429',\n",
       " '241597595',\n",
       " '026375060',\n",
       " '026403994',\n",
       " '027915379',\n",
       " '026402823',\n",
       " '249214202',\n",
       " '192427156',\n",
       " '241035694',\n",
       " '028021037',\n",
       " '027534138',\n",
       " '238327159',\n",
       " '035816120',\n",
       " '120796899',\n",
       " '028888537',\n",
       " '027931676',\n",
       " '175206562',\n",
       " '028222814',\n",
       " '035074566',\n",
       " '026403668',\n",
       " '026403587',\n",
       " '026374889',\n",
       " '027918459',\n",
       " '028024400',\n",
       " '198630298',\n",
       " '030341558',\n",
       " '030969379',\n",
       " '031803695',\n",
       " '026570564',\n",
       " '15863621X',\n",
       " '026374862',\n",
       " '026388820',\n",
       " '026565919',\n",
       " '197605990',\n",
       " '026582481',\n",
       " '026403315',\n",
       " '026363933',\n",
       " '030983908',\n",
       " '050522604',\n",
       " '027361802',\n",
       " '190907991',\n",
       " '027548392',\n",
       " '02637515X',\n",
       " '026525704',\n",
       " '258086599',\n",
       " '244936234',\n",
       " '241871808',\n",
       " '02640463X',\n",
       " '026403838',\n",
       " '198281633',\n",
       " '026388782',\n",
       " '026369125',\n",
       " '027771970',\n",
       " '026388715',\n",
       " '187922535',\n",
       " '252404955',\n",
       " '086212435',\n",
       " '031078540',\n",
       " '260745863',\n",
       " '086908480,193857561',\n",
       " '026369044',\n",
       " '174791534',\n",
       " '030464579',\n",
       " '259265152',\n",
       " '028219317',\n",
       " '031034098',\n",
       " '086229834',\n",
       " '074593714',\n",
       " '029573238',\n",
       " '114520275',\n",
       " '157040569',\n",
       " '194786412',\n",
       " '185977049',\n",
       " '086260553',\n",
       " '033064377',\n",
       " '027957314',\n",
       " '126531536',\n",
       " '133015572',\n",
       " '136900887',\n",
       " '026387395',\n",
       " '026386321',\n",
       " '02640334X',\n",
       " '026523493',\n",
       " '182696766',\n",
       " '026408139',\n",
       " '030913020',\n",
       " '163710023',\n",
       " '026374765',\n",
       " '028222954',\n",
       " '106942387',\n",
       " '026436922',\n",
       " '029613043',\n",
       " '260373249',\n",
       " '108803821',\n",
       " '161841821',\n",
       " '232687420',\n",
       " '66951844',\n",
       " '029643724',\n",
       " '116276851',\n",
       " '026386283',\n",
       " '030067618',\n",
       " '221333754']"
      ]
     },
     "execution_count": 54,
     "metadata": {},
     "output_type": "execute_result"
    }
   ],
   "source": [
    "merged_idref"
   ]
  },
  {
   "cell_type": "code",
   "execution_count": 60,
   "id": "da0aa272-c7ad-49b5-8434-6514d641b2c2",
   "metadata": {},
   "outputs": [
    {
     "data": {
      "text/plain": [
       "246"
      ]
     },
     "execution_count": 60,
     "metadata": {},
     "output_type": "execute_result"
    }
   ],
   "source": [
    "fr_esr.count()"
   ]
  },
  {
   "cell_type": "code",
   "execution_count": 88,
   "id": "df45ce88-745b-43c9-9d13-530a7a0ba945",
   "metadata": {},
   "outputs": [
    {
     "name": "stdout",
     "output_type": "stream",
     "text": [
      "+-------------------------------------------------------------------------------------------+-------------------------+---------+---------+----------+----------+-------+\n",
      "|name                                                                                       |short_name               |idref    |ror      |wikidata  |type      |secteur|\n",
      "+-------------------------------------------------------------------------------------------+-------------------------+---------+---------+----------+----------+-------+\n",
      "|IAE Paris - Sorbonne Business School                                                       |IAE de Paris             |067108490|NULL     |Q3151899  |École     |public |\n",
      "|Université de Mayotte                                                                      |NULL                     |262921715|02t0k0832|Q2946102  |Université|public |\n",
      "|École d'ingénieurs des sciences aérospatiales                                              |ELISA                    |NULL     |NULL     |Q65162999 |École     |privé  |\n",
      "|Université de technologie Tarbes Occitanie Pyrénées                                        |NULL                     |NULL     |NULL     |Q124412825|École     |public |\n",
      "|Institut régional du travail social de Champagne-Ardennes                                  |IRTS Champagne-Ardenne   |158736869|NULL     |NULL      |École     |privé  |\n",
      "|Université Bourgogne Europe                                                                |NULL                     |NULL     |NULL     |NULL      |Université|public |\n",
      "|Université de Montpellier Paul-Valéry                                                      |NULL                     |NULL     |NULL     |NULL      |Université|public |\n",
      "|Institut national du service public                                                        |NULL                     |259062340|NULL     |Q109039648|École     |public |\n",
      "|Nîmes université                                                                           |NULL                     |NULL     |NULL     |NULL      |Université|public |\n",
      "|Y SCHOOLS                                                                                  |Y SCHOOLS                |035228938|NULL     |Q3117947  |École     |privé  |\n",
      "|École nationale supérieure de paysage                                                      |ENSP                     |035622261|NULL     |Q3578260  |École     |public |\n",
      "|Brest Business School                                                                      |Brest BS                 |17205124X|NULL     |Q3578429  |École     |privé  |\n",
      "|École supérieure de fonderie et de forge                                                   |ESFF                     |NULL     |NULL     |Q3578445  |École     |privé  |\n",
      "|Institut national des sciences et techniques nucléaires                                    |INSTN                    |085810444|NULL     |Q3152438  |École     |public |\n",
      "|Université Marie et Louis Pasteur                                                          |NULL                     |NULL     |NULL     |NULL      |Université|public |\n",
      "|Université de Toulouse                                                                     |NULL                     |NULL     |NULL     |NULL      |Université|public |\n",
      "|Institut supérieur du commerce de Paris                                                    |ISC Paris Business School|028263952|NULL     |Q1665124  |École     |privé  |\n",
      "|École spéciale d'architecture                                                              |NULL                     |NULL     |NULL     |Q1140013  |École     |privé  |\n",
      "|Institut supérieur de l'électronique et du numérique de Brest                              |Yncréa Ouest             |NULL     |NULL     |Q51648617 |École     |privé  |\n",
      "|Institut des relations publiques et de la communication d’Angers                           |Ircom                    |02960480X|NULL     |Q74181405 |École     |privé  |\n",
      "|ESIEE-IT                                                                                   |NULL                     |NULL     |NULL     |NULL      |École     |privé  |\n",
      "|Institut français de la mode                                                               |NULL                     |NULL     |NULL     |Q3152284  |École     |privé  |\n",
      "|Centre national des arts du cirque                                                         |CNAC                     |030111455|NULL     |Q2945947  |École     |privé  |\n",
      "|École nationale supérieure des arts et techniques du théâtre                               |NULL                     |154402680|NULL     |Q3578242  |École     |public |\n",
      "|Institut supérieur du bâtiment et des travaux publics                                      |ISBA TP                  |NULL     |NULL     |Q60846049 |École     |privé  |\n",
      "|Centre des hautes études de la construction                                                |NULL                     |NULL     |NULL     |Q97293012 |École     |privé  |\n",
      "|École supérieure d'art et de design d'Amiens                                               |Ésad Amiens              |052472183|NULL     |Q3578393  |École     |public |\n",
      "|Université Jean Monnet                                                                     |NULL                     |NULL     |NULL     |NULL      |Université|public |\n",
      "|Centre de ressources, d'expertise et de performance sportives de Toulouse                  |CREPS Toulouse           |NULL     |NULL     |Q54409652 |École     |public |\n",
      "|École nationale supérieure du pétrole et des moteurs                                       |IFP school               |026375303|NULL     |Q2732297  |École     |public |\n",
      "|Institut protestant de théologie                                                           |IPT                      |029412706|NULL     |Q3064314  |École     |privé  |\n",
      "|Institut supérieur international du parfum, de la cosmétique et de l'aromatique alimentaire|ISIPCA                   |028549783|NULL     |Q3152629  |École     |privé  |\n",
      "|ICN Business School                                                                        |NULL                     |240717511|NULL     |Q3146547  |École     |privé  |\n",
      "|École nationale supérieure des métiers de l'image et du son                                |La Fémis                 |NULL     |NULL     |Q1138556  |École     |public |\n",
      "|Institut d'ingénierie informatique de Limoges                                              |3IL                      |NULL     |NULL     |Q3151931  |École     |privé  |\n",
      "|École de management Léonard De Vinci                                                       |EMLV                     |NULL     |NULL     |Q166446   |École     |privé  |\n",
      "+-------------------------------------------------------------------------------------------+-------------------------+---------+---------+----------+----------+-------+\n",
      "\n"
     ]
    }
   ],
   "source": [
    "fr_esr.filter(  (~ func.col('ror').isin(merged_ror)) | (func.col('ror').isNull()) ).show(100,truncate = False)"
   ]
  },
  {
   "cell_type": "code",
   "execution_count": 89,
   "id": "49d3c5ea-f185-4657-9b4a-3ab4d2d06407",
   "metadata": {},
   "outputs": [],
   "source": [
    "sorted_by_hand = { #'IAE Paris - Sorbonne Business School':\n",
    "                   'Université de Mayotte':\"I4403928291\",\n",
    "               \"École d'ingénieurs des sciences aérospatiales\" :\"I58581550\",\n",
    "    'Université de technologie Tarbes Occitanie Pyrénées':\"I119865316\",\n",
    "    #\"Institut régional du travail social de Champagne-Ardennes\"\n",
    "    \"Université Bourgogne Europe\":\"I177064439\",\n",
    "    \"Université de Montpellier Paul-Valéry\":'I208215962',\n",
    "    #Institut national du service public\n",
    "    \"Nîmes université\":\"I66456633\",\n",
    "    #Y SCHOOLS\n",
    "    \"École nationale supérieure de paysage\":\"I4387154791\",\n",
    "    #Brest Business School\n",
    "    #École supérieure de fonderie et de forge\n",
    "    #Institut national des sciences et techniques nucléaires\n",
    "    #Université Marie et Louis Pasteur\n",
    "    \"Université de Toulouse\": \"I17866349\",\n",
    "    #Institut supérieur du commerce de Paris,\n",
    "    #École spéciale d'architecture\n",
    "    #Institut supérieur de l'électronique et du numérique de Brest\n",
    "    #Centre national des arts du cirque\n",
    "    #Institut des relations publiques et de la communication d’Angers\n",
    "    #ESIEE-IT\n",
    "    #Institut français de la mode \n",
    "    #École nationale supérieure des arts et techniques du théâtre\n",
    "    \"Institut supérieur du bâtiment et des travaux publics\": 'I4210160645',\n",
    "    #Centre des hautes études de la construction\n",
    "    #École supérieure d'art et de design d'Amiens\n",
    "    \"Université Jean Monnet\":\"I86767153\",\n",
    "    #Centre de ressources, d'expertise et de performance sportives de Toulouse \n",
    "    \"École nationale supérieure du pétrole et des moteurs\":\"I4403386658\",\n",
    "    \"Institut protestant de théologie\":\"I4210121454\",\n",
    "    \"Institut supérieur international du parfum, de la cosmétique et de l'aromatique alimentaire\":\"I4387154221\",\n",
    "    \"ICN Business School\": \"I4400600934\",\n",
    "    \"École nationale supérieure des métiers de l'image et du son\":'I4387156185',\n",
    "    #Institut d'ingénierie informatique de Limoges\n",
    "    \"École de management Léonard De Vinci\":\"I4210121459\"\n",
    "    \n",
    "                }"
   ]
  },
  {
   "cell_type": "code",
   "execution_count": 94,
   "id": "2aa80e22-576e-4cd7-b2c4-f5f8da80eeaa",
   "metadata": {},
   "outputs": [
    {
     "name": "stdout",
     "output_type": "stream",
     "text": [
      "['I4403928291', 'I58581550', 'I119865316', 'I177064439', 'I208215962', 'I66456633', 'I4387154791', 'I17866349', 'I4210160645', 'I86767153', 'I4403386658', 'I4210121454', 'I4387154221', 'I4400600934', 'I4387156185', 'I4210121459']\n"
     ]
    }
   ],
   "source": [
    "print([test[1]for test in sorted_by_hand.items()])"
   ]
  },
  {
   "cell_type": "code",
   "execution_count": 101,
   "id": "85cfb3e2-f69b-45fb-b0a7-508d8bf3d3a6",
   "metadata": {},
   "outputs": [
    {
     "data": {
      "text/plain": [
       "'CASE WHEN name = \"Université de Mayotte\" THEN \"I4403928291\" WHEN name = \"École d\\'ingénieurs des sciences aérospatiales\" THEN \"I58581550\" WHEN name = \"Université de technologie Tarbes Occitanie Pyrénées\" THEN \"I119865316\" WHEN name = \"Université Bourgogne Europe\" THEN \"I177064439\" WHEN name = \"Université de Montpellier Paul-Valéry\" THEN \"I208215962\" WHEN name = \"Nîmes université\" THEN \"I66456633\" WHEN name = \"École nationale supérieure de paysage\" THEN \"I4387154791\" WHEN name = \"Université de Toulouse\" THEN \"I17866349\" WHEN name = \"Institut supérieur du bâtiment et des travaux publics\" THEN \"I4210160645\" WHEN name = \"Université Jean Monnet\" THEN \"I86767153\" WHEN name = \"École nationale supérieure du pétrole et des moteurs\" THEN \"I4403386658\" WHEN name = \"Institut protestant de théologie\" THEN \"I4210121454\" WHEN name = \"Institut supérieur international du parfum, de la cosmétique et de l\\'aromatique alimentaire\" THEN \"I4387154221\" WHEN name = \"ICN Business School\" THEN \"I4400600934\" WHEN name = \"École nationale supérieure des métiers de l\\'image et du son\" THEN \"I4387156185\" WHEN name = \"École de management Léonard De Vinci\" THEN \"I4210121459\" END'"
      ]
     },
     "execution_count": 101,
     "metadata": {},
     "output_type": "execute_result"
    }
   ],
   "source": [
    "expr_merge_hand = 'CASE WHEN ' + ' WHEN '.join(['name = \"' + el[0] + '\" THEN \"' + el[1] + '\"' for el in sorted_by_hand.items()] )+ ' END'\n",
    "expr_merge_hand                  "
   ]
  },
  {
   "cell_type": "code",
   "execution_count": 103,
   "id": "98fbb09d-50b4-46ff-992a-7fef1d1226c0",
   "metadata": {
    "scrolled": true
   },
   "outputs": [
    {
     "name": "stdout",
     "output_type": "stream",
     "text": [
      "+--------------------+--------------------+---------+---------+----------+----------+-------+-----------+\n",
      "|                name|          short_name|    idref|      ror|  wikidata|      type|secteur|    inst_id|\n",
      "+--------------------+--------------------+---------+---------+----------+----------+-------+-----------+\n",
      "|IAE Paris - Sorbo...|        IAE de Paris|067108490|     NULL|  Q3151899|     École| public|       NULL|\n",
      "|Université de May...|                NULL|262921715|02t0k0832|  Q2946102|Université| public|I4403928291|\n",
      "|École d'ingénieur...|               ELISA|     NULL|     NULL| Q65162999|     École|  privé|  I58581550|\n",
      "|Université de tec...|                NULL|     NULL|     NULL|Q124412825|     École| public| I119865316|\n",
      "|Institut régional...|IRTS Champagne-Ar...|158736869|     NULL|      NULL|     École|  privé|       NULL|\n",
      "|Université Bourgo...|                NULL|     NULL|     NULL|      NULL|Université| public| I177064439|\n",
      "|Université de Mon...|                NULL|     NULL|     NULL|      NULL|Université| public| I208215962|\n",
      "|Institut national...|                NULL|259062340|     NULL|Q109039648|     École| public|       NULL|\n",
      "|    Nîmes université|                NULL|     NULL|     NULL|      NULL|Université| public|  I66456633|\n",
      "|           Y SCHOOLS|           Y SCHOOLS|035228938|     NULL|  Q3117947|     École|  privé|       NULL|\n",
      "|École nationale s...|                ENSP|035622261|     NULL|  Q3578260|     École| public|I4387154791|\n",
      "|Brest Business Sc...|            Brest BS|17205124X|     NULL|  Q3578429|     École|  privé|       NULL|\n",
      "|École supérieure ...|                ESFF|     NULL|     NULL|  Q3578445|     École|  privé|       NULL|\n",
      "|Institut national...|               INSTN|085810444|     NULL|  Q3152438|     École| public|       NULL|\n",
      "|Université Marie ...|                NULL|     NULL|     NULL|      NULL|Université| public|       NULL|\n",
      "|Université de Tou...|                NULL|     NULL|     NULL|      NULL|Université| public|  I17866349|\n",
      "|Institut supérieu...|ISC Paris Busines...|028263952|     NULL|  Q1665124|     École|  privé|       NULL|\n",
      "|École spéciale d'...|                NULL|     NULL|     NULL|  Q1140013|     École|  privé|       NULL|\n",
      "|Institut supérieu...|        Yncréa Ouest|     NULL|     NULL| Q51648617|     École|  privé|       NULL|\n",
      "|Institut des rela...|               Ircom|02960480X|     NULL| Q74181405|     École|  privé|       NULL|\n",
      "+--------------------+--------------------+---------+---------+----------+----------+-------+-----------+\n",
      "only showing top 20 rows\n",
      "\n"
     ]
    }
   ],
   "source": [
    "merged_by_hand = (fr_esr\n",
    "                  .filter(  (~ func.col('ror').isin(merged_ror)) | (func.col('ror').isNull()) )\n",
    "                  .withColumn('inst_id', func.expr(expr_merge_hand))\n",
    "                 )\n",
    "merged_by_hand.show()"
   ]
  },
  {
   "cell_type": "code",
   "execution_count": 113,
   "id": "3fbc7ed9-47fd-4838-b98c-81007a7f370f",
   "metadata": {
    "scrolled": true
   },
   "outputs": [
    {
     "name": "stdout",
     "output_type": "stream",
     "text": [
      "+-----------+-------------------+--------------------+-------------------+-------+\n",
      "|    inst_id|              idref|                name|               type|secteur|\n",
      "+-----------+-------------------+--------------------+-------------------+-------+\n",
      "|  I51101395|          027361802|Université Paris ...|         Université| public|\n",
      "|  I90183372|          157040569|Université de Lor...|Grand établissement| public|\n",
      "| I277688954|          241345251|Université Paris-...|         Université| public|\n",
      "|I4210126056|086908480,193857561|Institut national...|Autre établissement| public|\n",
      "|  I68947357|          131056549|Université de Str...|         Université| public|\n",
      "|I4210103002|          252404955|Université Clermo...|         Université| public|\n",
      "|  I24715933|          026404451|Université de La ...|         Université| public|\n",
      "| I161463649|          028222814|Audencia Business...|              École|  privé|\n",
      "|I4210123735|          028888537|    Sciences Po Lyon|Autre établissement| public|\n",
      "|I4387154602|          161841821|École supérieure ...|              École| public|\n",
      "|  I32881790|          026403765|Université de Poi...|         Université| public|\n",
      "|I1287193074|          026525704|Institut catholiq...|              École|  privé|\n",
      "| I151295451|          026403692|Université de Per...|         Université| public|\n",
      "| I144889574|          026403668|Université de Pau...|         Université| public|\n",
      "|I4210156868|          198281633|Institut polytech...|              École|  privé|\n",
      "|I4210125635|          031034098|Institut catholiq...|              École|  privé|\n",
      "|I4210133729|          074593714|Institut national...|Grand établissement| public|\n",
      "|  I88467170|          030820529|Université d'Évry...|         Université| public|\n",
      "| I141576021|          031308570|Université Le Hav...|         Université| public|\n",
      "|I4210112425|          026386321|Sciences Po Toulouse|Autre établissement| public|\n",
      "+-----------+-------------------+--------------------+-------------------+-------+\n",
      "only showing top 20 rows\n",
      "\n"
     ]
    }
   ],
   "source": [
    "merged = (merged_by_ror\n",
    "          .select('inst_id', 'idref', 'name', 'type','secteur')\n",
    "          .unionAll(merged_by_hand.select('inst_id', 'idref','name', 'type','secteur'))\n",
    "          .distinct()\n",
    "         )\n",
    "merged.show()"
   ]
  },
  {
   "cell_type": "code",
   "execution_count": 114,
   "id": "371d371f-cd6e-4f49-b154-68274cbd6b59",
   "metadata": {},
   "outputs": [
    {
     "data": {
      "text/plain": [
       "251"
      ]
     },
     "execution_count": 114,
     "metadata": {},
     "output_type": "execute_result"
    }
   ],
   "source": [
    "merged.count()"
   ]
  },
  {
   "cell_type": "code",
   "execution_count": 2,
   "id": "6714ec38-130c-4002-b4c1-0a8effff6ff7",
   "metadata": {},
   "outputs": [],
   "source": [
    "idex = {\"idex_aix_marseille\": #https://anr.fr/ProjetIA-11-IDEX-0001\n",
    "        ['I21491767',\"I4210142724\",'I4210087487','I4387155629', # Aix-Marseille Université, Ecole centrale de Marseille, CHRU Marseille, IEP Aix \n",
    "                             # \"I4210166444\", \"I4387153840\",\"I4210128565\"  #IRD Marseille, Inserm Paris, CEA Saclay\n",
    "        ]\n",
    ",\n",
    "        'idex_paris_saclay':#https://anr.fr/ProjetIA-11-IDEX-0003\n",
    "        ['I195731000',\"I22248866\", \"I83860666\", \"I201181511\",\"I11559806\",\"I142476485\",\"I4210091746\",\"I205703379\", # UVSQ, AgroParisTech, HEC,ENSTA, ENS Saclay, X, SupOptique, Télécom,\n",
    "         \"I84009706\", \"I4210088668\", \"I2801658355\" ,\"I2801148539\",\"I4210107720\",\"I88467170\", \"I4210126360\"#ENSAE,INRAE, ONERA, Synchotron Soleil, Centrale Supélec, Univ Evry Val d'Essonne, Inria Saclay\n",
    "         #,\"I4387153840\", \"I4210128565\"# Inserm paris,CEA Saclay\n",
    "        ] \n",
    "         # missing : IHES,Systematic,Institut Villebon Georges Charpak, ADEPRINA\n",
    ",      'idex_bordeaux' : #https://anr.fr/ProjetIA-10-IDEX-0003\n",
    "        ['I3130945570',\"I4210160189\",'I139506611','I4210091158' #Univ Bordeaux Montaigne, Polytechnique Bordeaux, Sciences Po Bordeaux, ENSA Bordeaux\n",
    "         #,\"I4387153840\", \"I4210128565\"# Inserm paris,CEA Saclay\n",
    "        ]\n",
    ",      \"idex_psl\": #https://anr.fr/ProjetIA-10-IDEX-0001\n",
    "        [\"I2746051580\", #PSL\n",
    "            'I187986737',\"I149758196\",\"I29607241\",'I98910050',\"I80043\",'I2800004676' #CdF, Chimie ParisTech, ENS Ulm, ESPCI, Institut Curie, Observatoire de Paris\n",
    "         , 'I56435720',\"I4210166784\",\"I4210107334\",\"I4210118986\",\"I4210126561\" #Dauphine, Ecole Nat Sup Arts Deco, Beaux Arts Paris, conservatoire musique et danse, institut louis bachelier\n",
    "         ,\"I70768539\", \"I159885104\",\"I4210127304\",\"I4387156185\", \"I90669466\",\"I4210092825\",\"I4210100316\" #Mines Paris, EPHE, fondation Rotschild, fémis, EHESS, Ecole Française d'Extrême Orient, Chartes, \n",
    "      #  , \"I4210126360\"#Inria Saclay\n",
    "        ]\n",
    ",      \"idex_paris_cite\": #https://anr.fr/ProjetIA-18-IDEX-0001\n",
    "        ['I204730241',\"I148261361\",\"I4210091279\",\"I205092303\",\"I162346809\",\"I1325388108\",'I182627622',\"I1326498283\" #Paris Cité, institut de physique du globe, Sorbonne Paris-Nord, Sciences Po, INALCO, INED, Sorbonne Nouvelle, INRIA\n",
    "         #,\"I4210166444\",\"I4387153840\",\"I4210128565\" # IRD Marseille, Inserm Paris, CEA Saclay\n",
    "        ]\n",
    ",      \"idex_sorbonne_univ\": #https://anr.fr/ProjetIA-11-IDEX-0004\n",
    "        [\"I39804081\" ,\"I4210123595\",\"I102272798\",\"I102516824\", #Sorbonne Université, Museum d'histoire naturelle, UTC\n",
    "         #,\"I4210166444\",\"I4387153840\",\"I4210128565\" # IRD Marseille, Inserm Paris, CEA Saclay\n",
    "        ]\n",
    ",      \"idex_strasbourg\": #https://anr.fr/ProjetIA-10-IDEX-0002\n",
    "        [\"I68947357\" #Univ_strasbourg\n",
    "                  #,\"I4387153840\" # Inserm paris\n",
    "        ]\n",
    ",      \"idex_2_cote_azur\": #https://anr.fr/ProjetIA-15-IDEX-0001\n",
    "        [ 'I201841394','I4210147253', \"I4210126779\",\"I3018988418\", \"I4210111578\", #UCA, CNRS côte d'azur, observatoire côte d'azur, CHU Nice, INSERM côte d'azur\n",
    "         \"I1902872\",\"I90326151\",\"I181418319\" # Eurecom, EDHEC, SKEMA, \n",
    "         #,\"I70768539\" Mines Paris                            \n",
    "         # \"I4210166444\"  #IRD Marseille # INRAE\n",
    "        ]\n",
    ",     'idex_2_grenoble': #https://anr.fr/ProjetIA-15-IDEX-0002\n",
    "        ['I106785703',\"I4210113225\",\"I3020098449\", \"I4210150872\", #Polytechnique Grenoble, ENSAG, CEA Grenoble, INSERM Alpes\n",
    "         \"I899635006\",\"I2800555055\",\"I4210101348\",\"I4387155711\",\"I4387154183\" #UGA, CHU Grenoble, INRIA Grenoble, Sciences Po Grenoble, IRSTEA\n",
    "\n",
    "         # \"I4210155509\" CNRS Alpes\n",
    "        ]\n",
    "\n",
    ",     'idex_annulee_toulouse': #https://anr.fr/ProjetIA-11-IDEX-0002\n",
    "        [\"I4210126056\",'I17866349','I4210152422','I3131550300', #Centre Champollion, Univ Toulouse, Toulouse Jaurès,Toulouse Capitole,\n",
    "         'I134560555',\"I205747304\",\"I196454796\",\"I193033237\" ,\"I4210147367\" # Toulouse Sabatier, Polytechnique Toulouse, INSA Toulouse, ISEA-SUPAéro, INRAE Occitanie\n",
    "         , \"I4210106734\", \"I4210145734\",\"I4210092408\",\"I176063091\" # CNRS Occitanie, INSERM Occitanie, TSE, Ecole Vétérinaire Toulouse,\n",
    "        ,\"I4210091876\",\"I119865316\",\"I4210112425\",\"I129162050\" #Mines d'Albi, Université de Technologie de Tarbes, Sciences Po Toulouse,Toulouse Business School\n",
    "         ,\"I100296615\",  \"I100296615\" #ENAC, Ecole nationale d'Ingénieurs de Purpan\n",
    "         #,\"I4210166444\" #IRD Marseille\n",
    "        ]\n",
    ",     \"idex_annulee_lyon\":#https://anr.fr/ProjetIA-16-IDEX-0005\n",
    "        [\"I112936343\",\"I203339264\", \"I4210166914\",\"I154490720\",\"I113428412\" #Centrale Lyon, Univ Lyon, ENTPE, ENISE, ENS Lyon\n",
    "         , \"I48430043\" ,\"I4210123735\",'I100532134', \"I188626449\", \"I874609350\",\"I4210104684\" #INSA Lyon, Sciences Po Lyon, Lyon I, Lyon II, Lyon III, VetAgroSup\n",
    "          #\"I4387153840\" \"I4210155509\" # Inserm Paris CNRS Rhône Alpes\n",
    "        ]\n",
    "\n",
    "#,     'isite_lorraine':#https://anr.fr/ProjetIA-15-IDEX-0004\n",
    "#        [\"I90183372\",\"I4210100260\", \"I4210141980\" ,\"I1288283403\", #univ Lorraine, chu nancy, inserm nancy,georgia tech nancy,\n",
    "#         \"I4210098696\" #Institut Régional de médecine physique et de Réadaptation de Nancy\n",
    "#        ]\n",
    "#,     'isite_\n",
    ",     \"multi_idex\": \n",
    "        [\"I1294671590\", \"I4210166444\",\"I4387153840\",\"I4210128565\",'I1326498283',\"I70768539\",'I4210155509', # CNRS, IRD Marseille, Inserm Paris, CEA Saclay, INRIA, Mines Paris, CNRS Rhône-Alpes\n",
    "        ]\n",
    "}\n"
   ]
  },
  {
   "cell_type": "code",
   "execution_count": 4,
   "id": "48617b71-e207-4557-9e9b-b31f8c2d4542",
   "metadata": {},
   "outputs": [
    {
     "data": {
      "text/plain": [
       "dict_items([('idex_aix_marseille', ['I21491767', 'I4210142724', 'I4210087487', 'I4387155629']), ('idex_paris_saclay', ['I195731000', 'I22248866', 'I83860666', 'I201181511', 'I11559806', 'I142476485', 'I4210091746', 'I205703379', 'I84009706', 'I4210088668', 'I2801658355', 'I2801148539', 'I4210107720', 'I88467170', 'I4210126360']), ('idex_bordeaux', ['I3130945570', 'I4210160189', 'I139506611', 'I4210091158']), ('idex_psl', ['I2746051580', 'I187986737', 'I149758196', 'I29607241', 'I98910050', 'I80043', 'I2800004676', 'I56435720', 'I4210166784', 'I4210107334', 'I4210118986', 'I4210126561', 'I70768539', 'I159885104', 'I4210127304', 'I4387156185', 'I90669466', 'I4210092825', 'I4210100316']), ('idex_paris_cite', ['I204730241', 'I148261361', 'I4210091279', 'I205092303', 'I162346809', 'I1325388108', 'I182627622', 'I1326498283']), ('idex_sorbonne_univ', ['I39804081', 'I4210123595', 'I102272798', 'I102516824']), ('idex_strasbourg', ['I68947357']), ('idex_2_cote_azur', ['I201841394', 'I4210147253', 'I4210126779', 'I3018988418', 'I4210111578', 'I1902872', 'I90326151', 'I181418319']), ('idex_2_grenoble', ['I106785703', 'I4210113225', 'I3020098449', 'I4210150872', 'I899635006', 'I2800555055', 'I4210101348', 'I4387155711', 'I4387154183']), ('idex_annulee_toulouse', ['I4210126056', 'I17866349', 'I4210152422', 'I3131550300', 'I134560555', 'I205747304', 'I196454796', 'I193033237', 'I4210147367', 'I4210106734', 'I4210145734', 'I4210092408', 'I176063091', 'I4210091876', 'I119865316', 'I4210112425', 'I129162050', 'I100296615', 'I100296615']), ('idex_annulee_lyon', ['I112936343', 'I203339264', 'I4210166914', 'I154490720', 'I113428412', 'I48430043', 'I4210123735', 'I100532134', 'I188626449', 'I874609350', 'I4210104684']), ('multi_idex', ['I1294671590', 'I4210166444', 'I4387153840', 'I4210128565', 'I1326498283', 'I70768539', 'I4210155509'])])"
      ]
     },
     "execution_count": 4,
     "metadata": {},
     "output_type": "execute_result"
    }
   ],
   "source": []
  },
  {
   "cell_type": "code",
   "execution_count": 8,
   "id": "67acf6d5-a5f8-453d-b1ed-00015e98868e",
   "metadata": {},
   "outputs": [
    {
     "data": {
      "text/plain": [
       "'CASE WHEN inst_id = \"I21491767\" OR inst_id = \"I4210142724\" OR inst_id = \"I4210087487\" OR inst_id = \"I4387155629\" THEN idex = \"idex_aix_marseille\" WHEN inst_id = \"I195731000\" OR inst_id = \"I22248866\" OR inst_id = \"I83860666\" OR inst_id = \"I201181511\" OR inst_id = \"I11559806\" OR inst_id = \"I142476485\" OR inst_id = \"I4210091746\" OR inst_id = \"I205703379\" OR inst_id = \"I84009706\" OR inst_id = \"I4210088668\" OR inst_id = \"I2801658355\" OR inst_id = \"I2801148539\" OR inst_id = \"I4210107720\" OR inst_id = \"I88467170\" OR inst_id = \"I4210126360\" THEN idex = \"idex_paris_saclay\" WHEN inst_id = \"I3130945570\" OR inst_id = \"I4210160189\" OR inst_id = \"I139506611\" OR inst_id = \"I4210091158\" THEN idex = \"idex_bordeaux\" WHEN inst_id = \"I2746051580\" OR inst_id = \"I187986737\" OR inst_id = \"I149758196\" OR inst_id = \"I29607241\" OR inst_id = \"I98910050\" OR inst_id = \"I80043\" OR inst_id = \"I2800004676\" OR inst_id = \"I56435720\" OR inst_id = \"I4210166784\" OR inst_id = \"I4210107334\" OR inst_id = \"I4210118986\" OR inst_id = \"I4210126561\" OR inst_id = \"I70768539\" OR inst_id = \"I159885104\" OR inst_id = \"I4210127304\" OR inst_id = \"I4387156185\" OR inst_id = \"I90669466\" OR inst_id = \"I4210092825\" OR inst_id = \"I4210100316\" THEN idex = \"idex_psl\" WHEN inst_id = \"I204730241\" OR inst_id = \"I148261361\" OR inst_id = \"I4210091279\" OR inst_id = \"I205092303\" OR inst_id = \"I162346809\" OR inst_id = \"I1325388108\" OR inst_id = \"I182627622\" OR inst_id = \"I1326498283\" THEN idex = \"idex_paris_cite\" WHEN inst_id = \"I39804081\" OR inst_id = \"I4210123595\" OR inst_id = \"I102272798\" OR inst_id = \"I102516824\" THEN idex = \"idex_sorbonne_univ\" WHEN inst_id = \"I68947357\" THEN idex = \"idex_strasbourg\" WHEN inst_id = \"I201841394\" OR inst_id = \"I4210147253\" OR inst_id = \"I4210126779\" OR inst_id = \"I3018988418\" OR inst_id = \"I4210111578\" OR inst_id = \"I1902872\" OR inst_id = \"I90326151\" OR inst_id = \"I181418319\" THEN idex = \"idex_2_cote_azur\" WHEN inst_id = \"I106785703\" OR inst_id = \"I4210113225\" OR inst_id = \"I3020098449\" OR inst_id = \"I4210150872\" OR inst_id = \"I899635006\" OR inst_id = \"I2800555055\" OR inst_id = \"I4210101348\" OR inst_id = \"I4387155711\" OR inst_id = \"I4387154183\" THEN idex = \"idex_2_grenoble\" WHEN inst_id = \"I4210126056\" OR inst_id = \"I17866349\" OR inst_id = \"I4210152422\" OR inst_id = \"I3131550300\" OR inst_id = \"I134560555\" OR inst_id = \"I205747304\" OR inst_id = \"I196454796\" OR inst_id = \"I193033237\" OR inst_id = \"I4210147367\" OR inst_id = \"I4210106734\" OR inst_id = \"I4210145734\" OR inst_id = \"I4210092408\" OR inst_id = \"I176063091\" OR inst_id = \"I4210091876\" OR inst_id = \"I119865316\" OR inst_id = \"I4210112425\" OR inst_id = \"I129162050\" OR inst_id = \"I100296615\" OR inst_id = \"I100296615\" THEN idex = \"idex_annulee_toulouse\" WHEN inst_id = \"I112936343\" OR inst_id = \"I203339264\" OR inst_id = \"I4210166914\" OR inst_id = \"I154490720\" OR inst_id = \"I113428412\" OR inst_id = \"I48430043\" OR inst_id = \"I4210123735\" OR inst_id = \"I100532134\" OR inst_id = \"I188626449\" OR inst_id = \"I874609350\" OR inst_id = \"I4210104684\" THEN idex = \"idex_annulee_lyon\" WHEN inst_id = \"I1294671590\" OR inst_id = \"I4210166444\" OR inst_id = \"I4387153840\" OR inst_id = \"I4210128565\" OR inst_id = \"I1326498283\" OR inst_id = \"I70768539\" OR inst_id = \"I4210155509\" THEN idex = \"multi_idex\" ELSE idex = \"no_idex\"'"
      ]
     },
     "execution_count": 8,
     "metadata": {},
     "output_type": "execute_result"
    }
   ],
   "source": [
    "expr_idex = \"CASE WHEN \" + ' WHEN '.join([ 'inst_id = \"' + ('\" OR inst_id = \"').join(item[1])   + '\" THEN idex = \"' + item[0] +'\"' for item in idex.items()]) + ' ELSE idex = \"no_idex\"'\n",
    "expr_idex"
   ]
  }
 ],
 "metadata": {
  "kernelspec": {
   "display_name": "Python 3 (ipykernel)",
   "language": "python",
   "name": "python3"
  },
  "language_info": {
   "codemirror_mode": {
    "name": "ipython",
    "version": 3
   },
   "file_extension": ".py",
   "mimetype": "text/x-python",
   "name": "python",
   "nbconvert_exporter": "python",
   "pygments_lexer": "ipython3",
   "version": "3.11.9"
  }
 },
 "nbformat": 4,
 "nbformat_minor": 5
}
