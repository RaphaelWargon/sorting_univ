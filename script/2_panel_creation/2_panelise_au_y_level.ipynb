{
 "cells": [
  {
   "cell_type": "code",
   "execution_count": 1,
   "id": "1e659200-4cc1-418c-a20a-1f98345f85e1",
   "metadata": {},
   "outputs": [],
   "source": [
    "%run header_data_treatment.ipynb"
   ]
  },
  {
   "cell_type": "code",
   "execution_count": 2,
   "id": "8813f32e-0742-4dc5-908f-17e103fa4a63",
   "metadata": {},
   "outputs": [],
   "source": [
    "au_inst_period = spark.read.format('parquet').load('file:\\\\' + scanR_path.replace(\"scanR\", \"panel_fr_res\") + 'panel_non_sphericised.parquet')"
   ]
  },
  {
   "cell_type": "code",
   "execution_count": 3,
   "id": "5ed8415d-04c8-49d1-9e56-8c0320282d6b",
   "metadata": {},
   "outputs": [
    {
     "data": {
      "text/plain": [
       "DataFrame[author_id: string, year: bigint, country_set: string, inst_id_set: string, inst_type_set: string, display_name_set: string, parent_id_set: string, parent_type_set: string, parent_name_set: string, entry_year: bigint, last_year: bigint, all_y_in_FR: bigint, years_abroad: bigint, n_inst_y: int, main_field: string, publications: double, citations: double, nr_type_article: double, nr_type_book: double, nr_type_book-series: double, nr_language_en: double, nr_language_fr: double, citations_type_article: double, citations_type_book: double, citations_type_book-series: double, citations_language_en: double, citations_language_fr: double]"
      ]
     },
     "execution_count": 3,
     "metadata": {},
     "output_type": "execute_result"
    }
   ],
   "source": [
    "au_y = (au_inst_period\n",
    "        .select('author_id', func.explode(func.sequence(func.col('entry_year'), func.lit(2020))).alias('year'))\n",
    "        .join(au_inst_period\n",
    "        .groupBy('author_id', 'year')\n",
    "        .agg(*[func.concat_ws(\",\",func.array_sort(func.collect_set(col))).alias(col + '_set') for col in \n",
    "             [\"country\",\"inst_id\", \"inst_type\",\"display_name\", \"parent_id\",\"parent_type\", \"parent_name\"]],\n",
    "             *[func.first(col).alias(col) for col in \n",
    "               ['entry_year', 'last_year',\"all_y_in_FR\", \"years_abroad\",'n_inst_y','main_field']],\n",
    "             *[func.sum(col).alias(col) for col in ['publications','citations',\n",
    "                'nr_type_article','nr_type_book','nr_type_book-series',\n",
    "                'nr_language_en','nr_language_fr',\n",
    "                'citations_type_article','citations_type_book','citations_type_book-series',\n",
    "                'citations_language_en','citations_language_fr']]\n",
    "            ), on = ['author_id', 'year'], how = 'left')\n",
    "        .select('author_id', 'year', \n",
    "                *[func.col(col + '_set') for col in [\"country\",\"inst_id\", \"inst_type\",\"display_name\", \"parent_id\",\"parent_type\", \"parent_name\"]],\n",
    "                *[func.first(col, ignorenulls=True).over(Window.partitionBy('author_id')).alias(col)\n",
    "                  for col in ['entry_year', 'last_year',\"all_y_in_FR\", \"years_abroad\",'n_inst_y','fields']],\n",
    "                *[func.when(func.col(col).isNotNull(), func.col(col)).otherwise(0).alias(col)\n",
    "                  for col in ['publications','citations',\n",
    "                'nr_type_article','nr_type_book','nr_type_book-series',\n",
    "                'nr_language_en','nr_language_fr',\n",
    "                'citations_type_article','citations_type_book','citations_type_book-series',\n",
    "                'citations_language_en','citations_language_fr']])\n",
    "       )\n",
    "au_y.cache()"
   ]
  },
  {
   "cell_type": "code",
   "execution_count": 4,
   "id": "7ef9726c-48f9-4eca-a2c1-8db5811ca72f",
   "metadata": {
    "scrolled": true
   },
   "outputs": [
    {
     "name": "stdout",
     "output_type": "stream",
     "text": [
      "+-----------+----+-----------+-----------+-------------+--------------------+-------------+---------------+--------------------+----------+---------+-----------+------------+--------+--------------------+------------+---------+---------------+------------+-------------------+--------------+--------------+----------------------+-------------------+--------------------------+---------------------+---------------------+\n",
      "|  author_id|year|country_set|inst_id_set|inst_type_set|    display_name_set|parent_id_set|parent_type_set|     parent_name_set|entry_year|last_year|all_y_in_FR|years_abroad|n_inst_y|          main_field|publications|citations|nr_type_article|nr_type_book|nr_type_book-series|nr_language_en|nr_language_fr|citations_type_article|citations_type_book|citations_type_book-series|citations_language_en|citations_language_fr|\n",
      "+-----------+----+-----------+-----------+-------------+--------------------+-------------+---------------+--------------------+----------+---------+-----------+------------+--------+--------------------+------------+---------+---------------+------------+-------------------+--------------+--------------+----------------------+-------------------+--------------------------+---------------------+---------------------+\n",
      "|A5000093350|2019|       NULL|       NULL|         NULL|                NULL|         NULL|           NULL|                NULL|      2019|     2020|          1|           0|       1|            Medicine|         0.0|      0.0|            0.0|         0.0|                0.0|           0.0|           0.0|                   0.0|                0.0|                       0.0|                  0.0|                  0.0|\n",
      "|A5000093350|2020|         FR|  I92834545|    education|Rennes School of ...|    I92834545|      education|Rennes School of ...|      2019|     2020|          1|           0|       1|            Medicine|         1.0|      0.0|            1.0|         0.0|                0.0|           1.0|           0.0|                   0.0|                0.0|                       0.0|                  0.0|                  0.0|\n",
      "|A5000139201|1984|       NULL|       NULL|         NULL|                NULL|         NULL|           NULL|                NULL|      1978|     2019|          2|           0|       2|Art,Political sci...|         0.0|      0.0|            0.0|         0.0|                0.0|           0.0|           0.0|                   0.0|                0.0|                       0.0|                  0.0|                  0.0|\n",
      "|A5000139201|1984|       NULL|       NULL|         NULL|                NULL|         NULL|           NULL|                NULL|      1978|     2019|          2|           0|       2|Art,Political sci...|         0.0|      0.0|            0.0|         0.0|                0.0|           0.0|           0.0|                   0.0|                0.0|                       0.0|                  0.0|                  0.0|\n",
      "|A5000139201|1984|       NULL|       NULL|         NULL|                NULL|         NULL|           NULL|                NULL|      1978|     2019|          2|           0|       2|Art,Political sci...|         0.0|      0.0|            0.0|         0.0|                0.0|           0.0|           0.0|                   0.0|                0.0|                       0.0|                  0.0|                  0.0|\n",
      "|A5000139201|1984|       NULL|       NULL|         NULL|                NULL|         NULL|           NULL|                NULL|      1978|     2019|          2|           0|       2|Art,Political sci...|         0.0|      0.0|            0.0|         0.0|                0.0|           0.0|           0.0|                   0.0|                0.0|                       0.0|                  0.0|                  0.0|\n",
      "|A5000139201|2016|       NULL|       NULL|         NULL|                NULL|         NULL|           NULL|                NULL|      1978|     2019|          2|           0|       2|Art,Political sci...|         0.0|      0.0|            0.0|         0.0|                0.0|           0.0|           0.0|                   0.0|                0.0|                       0.0|                  0.0|                  0.0|\n",
      "|A5000139201|2016|       NULL|       NULL|         NULL|                NULL|         NULL|           NULL|                NULL|      1978|     2019|          2|           0|       2|Art,Political sci...|         0.0|      0.0|            0.0|         0.0|                0.0|           0.0|           0.0|                   0.0|                0.0|                       0.0|                  0.0|                  0.0|\n",
      "|A5000139201|2016|       NULL|       NULL|         NULL|                NULL|         NULL|           NULL|                NULL|      1978|     2019|          2|           0|       2|Art,Political sci...|         0.0|      0.0|            0.0|         0.0|                0.0|           0.0|           0.0|                   0.0|                0.0|                       0.0|                  0.0|                  0.0|\n",
      "|A5000139201|2016|       NULL|       NULL|         NULL|                NULL|         NULL|           NULL|                NULL|      1978|     2019|          2|           0|       2|Art,Political sci...|         0.0|      0.0|            0.0|         0.0|                0.0|           0.0|           0.0|                   0.0|                0.0|                       0.0|                  0.0|                  0.0|\n",
      "|A5000139201|2018|       NULL|       NULL|         NULL|                NULL|         NULL|           NULL|                NULL|      1978|     2019|          2|           0|       2|Art,Political sci...|         0.0|      0.0|            0.0|         0.0|                0.0|           0.0|           0.0|                   0.0|                0.0|                       0.0|                  0.0|                  0.0|\n",
      "|A5000139201|2018|       NULL|       NULL|         NULL|                NULL|         NULL|           NULL|                NULL|      1978|     2019|          2|           0|       2|Art,Political sci...|         0.0|      0.0|            0.0|         0.0|                0.0|           0.0|           0.0|                   0.0|                0.0|                       0.0|                  0.0|                  0.0|\n",
      "|A5000139201|2018|       NULL|       NULL|         NULL|                NULL|         NULL|           NULL|                NULL|      1978|     2019|          2|           0|       2|Art,Political sci...|         0.0|      0.0|            0.0|         0.0|                0.0|           0.0|           0.0|                   0.0|                0.0|                       0.0|                  0.0|                  0.0|\n",
      "|A5000139201|2018|       NULL|       NULL|         NULL|                NULL|         NULL|           NULL|                NULL|      1978|     2019|          2|           0|       2|Art,Political sci...|         0.0|      0.0|            0.0|         0.0|                0.0|           0.0|           0.0|                   0.0|                0.0|                       0.0|                  0.0|                  0.0|\n",
      "|A5000139201|1980|       NULL|       NULL|         NULL|                NULL|         NULL|           NULL|                NULL|      1978|     2019|          2|           0|       2|Art,Political sci...|         0.0|      0.0|            0.0|         0.0|                0.0|           0.0|           0.0|                   0.0|                0.0|                       0.0|                  0.0|                  0.0|\n",
      "|A5000139201|1980|       NULL|       NULL|         NULL|                NULL|         NULL|           NULL|                NULL|      1978|     2019|          2|           0|       2|Art,Political sci...|         0.0|      0.0|            0.0|         0.0|                0.0|           0.0|           0.0|                   0.0|                0.0|                       0.0|                  0.0|                  0.0|\n",
      "|A5000139201|1980|       NULL|       NULL|         NULL|                NULL|         NULL|           NULL|                NULL|      1978|     2019|          2|           0|       2|Art,Political sci...|         0.0|      0.0|            0.0|         0.0|                0.0|           0.0|           0.0|                   0.0|                0.0|                       0.0|                  0.0|                  0.0|\n",
      "|A5000139201|1980|       NULL|       NULL|         NULL|                NULL|         NULL|           NULL|                NULL|      1978|     2019|          2|           0|       2|Art,Political sci...|         0.0|      0.0|            0.0|         0.0|                0.0|           0.0|           0.0|                   0.0|                0.0|                       0.0|                  0.0|                  0.0|\n",
      "|A5000139201|1989|       NULL|       NULL|         NULL|                NULL|         NULL|           NULL|                NULL|      1978|     2019|          2|           0|       2|Art,Political sci...|         0.0|      0.0|            0.0|         0.0|                0.0|           0.0|           0.0|                   0.0|                0.0|                       0.0|                  0.0|                  0.0|\n",
      "|A5000139201|1989|       NULL|       NULL|         NULL|                NULL|         NULL|           NULL|                NULL|      1978|     2019|          2|           0|       2|Art,Political sci...|         0.0|      0.0|            0.0|         0.0|                0.0|           0.0|           0.0|                   0.0|                0.0|                       0.0|                  0.0|                  0.0|\n",
      "+-----------+----+-----------+-----------+-------------+--------------------+-------------+---------------+--------------------+----------+---------+-----------+------------+--------+--------------------+------------+---------+---------------+------------+-------------------+--------------+--------------+----------------------+-------------------+--------------------------+---------------------+---------------------+\n",
      "only showing top 20 rows\n",
      "\n"
     ]
    }
   ],
   "source": [
    "au_y.show()"
   ]
  },
  {
   "cell_type": "code",
   "execution_count": 5,
   "id": "f6fc2ef9-cbfe-44b0-babb-e9d5aac0f113",
   "metadata": {},
   "outputs": [
    {
     "name": "stdout",
     "output_type": "stream",
     "text": [
      "+------+-----------+---------+-----+\n",
      "|y_diff|change_inst|    count|pct_y|\n",
      "+------+-----------+---------+-----+\n",
      "|  NULL|       NULL|   842221|100.0|\n",
      "|     0|       NULL|304325374|55.64|\n",
      "|     0|          0|242622312|44.36|\n",
      "|     1|       NULL| 15372860|78.75|\n",
      "|     1|          0|  1133624| 5.81|\n",
      "|     1|          1|  3013575|15.44|\n",
      "+------+-----------+---------+-----+\n",
      "\n"
     ]
    }
   ],
   "source": [
    "(au_y\n",
    " .withColumn('lag_y', func.lag(func.col('year')).over(Window.partitionBy('author_id').orderBy('year')))\n",
    " .withColumn('lag_inst_set', func.lag(func.col('inst_id_set')).over(Window.partitionBy('author_id').orderBy('year')))\n",
    " .groupBy((func.col('year')-func.col('lag_y')).alias(\"y_diff\"),\n",
    "          (func.col('inst_id_set') != func.col('lag_inst_set')).cast('int').alias('change_inst'))\n",
    " .count()\n",
    " .withColumn('pct_y', func.round( func.col('count')/func.sum(func.col('count')).over(Window.partitionBy('y_diff')) *100, 2))\n",
    ".sort('y_diff','change_inst')).show(100)"
   ]
  },
  {
   "cell_type": "code",
   "execution_count": 6,
   "id": "7167a5bb-8970-4122-9712-5e7639ec8097",
   "metadata": {},
   "outputs": [],
   "source": [
    "au_y.write.mode('overwrite').parquet('file:\\\\' + scanR_path.replace(\"scanR\", \"panel_fr_res\") + 'au_y_sphericised.parquet')"
   ]
  },
  {
   "cell_type": "code",
   "execution_count": 19,
   "id": "8572cb2d-7b51-49dd-baab-47a7e3143c9c",
   "metadata": {},
   "outputs": [
    {
     "name": "stdout",
     "output_type": "stream",
     "text": [
      "+-----------+----+-----------+--------------------+--------------------+--------------------+--------------------+--------------------+--------------------+----------+---------+-----------+------------+--------+------------------+---------+------------------+------------+-------------------+------------------+--------------+----------------------+-------------------+--------------------------+---------------------+---------------------+-----+--------------------+\n",
      "|  author_id|year|country_set|         inst_id_set|       inst_type_set|    display_name_set|       parent_id_set|     parent_type_set|     parent_name_set|entry_year|last_year|all_y_in_FR|years_abroad|n_inst_y|      publications|citations|   nr_type_article|nr_type_book|nr_type_book-series|    nr_language_en|nr_language_fr|citations_type_article|citations_type_book|citations_type_book-series|citations_language_en|citations_language_fr|lag_y|        lag_inst_set|\n",
      "+-----------+----+-----------+--------------------+--------------------+--------------------+--------------------+--------------------+--------------------+----------+---------+-----------+------------+--------+------------------+---------+------------------+------------+-------------------+------------------+--------------+----------------------+-------------------+--------------------------+---------------------+---------------------+-----+--------------------+\n",
      "|A5011425121|2020|      BE,FR|I4210123366,I4210...|    healthcare,other|Health Informatio...|I4210123366,I4210...|    healthcare,other|Health Informatio...|      2000|     2023|          3|           2|       2|               2.5|     32.0|               2.5|         0.0|                0.0|               1.0|           1.5|                  32.0|                0.0|                       0.0|                 32.0|                  0.0| 2000|I4210095477,I4210...|\n",
      "|A5050624091|2020|         RE|         I4210135772|            facility|Peuplement Végéta...|          I131077856|            facility|Centre de Coopéra...|      2000|     2023|          2|           2|       1|               1.0|      0.0|               2.0|         0.0|                0.0|               0.0|           2.0|                   0.0|                0.0|                       0.0|                  0.0|                  0.0| 2000|           I17866349|\n",
      "|A5084282709|2020|         FR|I204730241,I40434647|           education|Université Paris ...|I204730241,I40434647|           education|Université Paris ...|      1976|     2020|          6|           0|       2|               1.0|      0.0|               1.0|         0.0|                0.0|               0.0|           1.0|                   0.0|                0.0|                       0.0|                  0.0|                  0.0| 2000|           I40434647|\n",
      "|A5084444169|2020|         FR|         I4210109605|          government|Département Santé...|         I4210088668|          government|National Research...|      2000|     2022|          1|           2|       1|               1.0|      0.0|               1.0|         0.0|                0.0|               1.0|           0.0|                   0.0|                0.0|                       0.0|                  0.0|                  0.0| 2000|          I135117807|\n",
      "|A5084474472|2020|         FR|         I4210115034|          healthcare|        Hôpital Nord|         I4210087487|          healthcare|Marseille Public ...|      1972|     2021|          2|           0|       1|               1.0|      3.0|               1.0|         0.0|                0.0|               1.0|           0.0|                   3.0|                0.0|                       0.0|                  3.0|                  0.0| 2000|         I4210148721|\n",
      "|A5009723386|2020|         FR|I1294671590,I1545...|education,facilit...|Centre Antoine La...|I1294671590,I1545...|education,facilit...|Centre Antoine La...|      1995|     2023|          4|           2|       8|             1.125|   15.875|             1.375|         0.0|                0.0|             1.375|           0.0|                15.875|                0.0|                       0.0|               15.875|                  0.0| 2000|           I39063666|\n",
      "|A5019821999|2020|      PR,US|I200399037,I60388903|           education|University of Pue...|          I200399037|           education|University of Pue...|      1991|     2020|          1|           1|       2|               2.0|     27.0|               2.0|         0.0|                0.0|               2.0|           0.0|                  27.0|                0.0|                       0.0|                 27.0|                  0.0| 2000|         I2279609970|\n",
      "|A5028067968|2020|         FR|I1294671590,I1545...|education,facilit...|Center for Infect...|I1294671590,I1545...|education,facilit...|Centre Hospitalie...|      2000|     2020|          2|           0|       6|0.9999999999999999|      0.0|1.6666666666666667|         0.0|                0.0|1.6666666666666667|           0.0|                   0.0|                0.0|                       0.0|                  0.0|                  0.0| 2000|I154526488,I42100...|\n",
      "|A5030625588|2020|         VN|         I4210116270|          government|Ministry of Scien...|         I4210116270|          government|Ministry of Scien...|      1967|     2020|          1|           1|       1|               1.0|      4.0|               1.0|         0.0|                0.0|               1.0|           0.0|                   4.0|                0.0|                       0.0|                  4.0|                  0.0| 2000|I1294671590,I2047...|\n",
      "|A5042290650|2020|         FR|I1294671590,I1345...|education,facilit...|French National C...|I1294671590,I1786...|education,government|French National C...|      1963|     2022|          1|           4|       5|               1.0|    110.6|               1.4|         0.0|                0.0|               1.4|           0.0|                 110.6|                0.0|                       0.0|                110.6|                  0.0| 2000|         I4210148804|\n",
      "|A5062440059|2020|         FR|         I4210100260|          healthcare|Centre Hospitalie...|         I4210100260|          healthcare|Centre Hospitalie...|      1987|     2022|          1|           1|       1|               1.0|      0.0|               1.0|         0.0|                0.0|               1.0|           0.0|                   0.0|                0.0|                       0.0|                  0.0|                  0.0| 2000|         I4210129357|\n",
      "|A5062536705|2020|         GB|         I4210133614|             company|Systems, Applicat...|         I4210132444|             company|Systems, Applicat...|      1979|     2023|          1|           3|       1|               1.0|      5.0|               1.0|         0.0|                0.0|               1.0|           0.0|                   5.0|                0.0|                       0.0|                  5.0|                  0.0| 2000|          I106785703|\n",
      "|A5062748268|2020|         GR|         I4210133879|             company|   Cosmetic (Greece)|         I4210133879|             company|   Cosmetic (Greece)|      1977|     2020|         10|           1|       1|               1.0|      0.0|               1.0|         0.0|                0.0|               1.0|           0.0|                   0.0|                0.0|                       0.0|                  0.0|                  0.0| 2000|         I4210166589|\n",
      "|A5064854401|2020|         FR|         I3019246885|          healthcare|Centre Hospitalie...|         I3019246885|          healthcare|Centre Hospitalie...|      1992|     2021|          1|           6|       1|               1.0|      2.0|               1.0|         0.0|                0.0|               0.0|           1.0|                   2.0|                0.0|                       0.0|                  0.0|                  2.0| 2000|I121797337,I42101...|\n",
      "|A5085092456|2020|         FR|         I4210104693|             company|STMicroelectronic...|          I131827901|             company|STMicroelectronic...|      2000|     2022|          3|           1|       1|               1.0|      2.0|               1.0|         0.0|                0.0|               1.0|           0.0|                   2.0|                0.0|                       0.0|                  2.0|                  0.0| 2000|I1329325741,I4210...|\n",
      "|A5046841926|2020|         FR|         I4210144164|          healthcare|Clinique Les Font...|         I4210144164|          healthcare|Clinique Les Font...|      1996|     2023|          3|           0|       1|               1.0|      0.0|               1.0|         0.0|                0.0|               0.0|           1.0|                   0.0|                0.0|                       0.0|                  0.0|                  0.0| 2000|         I4210133069|\n",
      "|A5066276387|2020|         FR|         I4210116727|          healthcare|Hôpital Saint Joseph|         I4210116727|          healthcare|Hôpital Saint Joseph|      1994|     2020|          2|           0|       1|               1.0|      0.0|               1.0|         0.0|                0.0|               0.0|           1.0|                   0.0|                0.0|                       0.0|                  0.0|                  0.0| 2000|         I4210156825|\n",
      "|A5070553474|2020|         FR|           I19894307|           education|University of Mon...|         I2802056588|               other|Languedoc-Roussil...|      1995|     2023|          7|           0|       1|               2.0|     26.0|               2.0|         0.0|                0.0|               2.0|           0.0|                  26.0|                0.0|                       0.0|                 26.0|                  0.0| 2000|I1294671590,I1575...|\n",
      "|A5002115584|2020|         FR|         I4210088826|            facility|Centre d'Économie...|         I4210150854|          government|Institut des Scie...|      1995|     2022|          4|           0|       1|               2.0|      0.0|               6.0|         0.0|                0.0|               0.0|           6.0|                   0.0|                0.0|                       0.0|                  0.0|                  0.0| 2000|         I4210146793|\n",
      "|A5006556609|2020|         FR|I4210135308,I4210...|   company,nonprofit|Servier (France),...|I4210135308,I4210...|   company,nonprofit|Servier (France),...|      1994|     2020|          7|           0|       2|               1.0|      2.0|               1.0|         0.0|                0.0|               1.0|           0.0|                   2.0|                0.0|                       0.0|                  2.0|                  0.0| 2000|I154526488,I42100...|\n",
      "+-----------+----+-----------+--------------------+--------------------+--------------------+--------------------+--------------------+--------------------+----------+---------+-----------+------------+--------+------------------+---------+------------------+------------+-------------------+------------------+--------------+----------------------+-------------------+--------------------------+---------------------+---------------------+-----+--------------------+\n",
      "only showing top 20 rows\n",
      "\n"
     ]
    }
   ],
   "source": [
    "(au_y\n",
    " .withColumn('lag_y', func.lag(func.col('year')).over(Window.partitionBy('author_id').orderBy('year')))\n",
    " .withColumn('lag_inst_set', func.lag(func.col('inst_id_set')).over(Window.partitionBy('author_id').orderBy('year')))\n",
    " .filter(func.col('year')-func.col('lag_y')==20)\n",
    ").show()"
   ]
  }
 ],
 "metadata": {
  "kernelspec": {
   "display_name": "Python 3 (ipykernel)",
   "language": "python",
   "name": "python3"
  },
  "language_info": {
   "codemirror_mode": {
    "name": "ipython",
    "version": 3
   },
   "file_extension": ".py",
   "mimetype": "text/x-python",
   "name": "python",
   "nbconvert_exporter": "python",
   "pygments_lexer": "ipython3",
   "version": "3.11.9"
  }
 },
 "nbformat": 4,
 "nbformat_minor": 5
}
