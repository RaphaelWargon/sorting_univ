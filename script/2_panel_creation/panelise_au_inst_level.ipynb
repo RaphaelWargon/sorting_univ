{
 "cells": [
  {
   "cell_type": "code",
   "execution_count": 1,
   "id": "d1087cf4-87a6-42de-98a9-cdd1276aeced",
   "metadata": {},
   "outputs": [
    {
     "name": "stdout",
     "output_type": "stream",
     "text": [
      "C:\\Users\\common\\projet_3_lru\\sorting_univ\\script/headers/\n",
      "initalizing spark session \n"
     ]
    }
   ],
   "source": [
    "import os\n",
    "base_path = os.path.dirname(os.path.abspath(\"\"))\n",
    "base_path = base_path + \"/headers/\"\n",
    "print(base_path)\n",
    "header_path = base_path + 'header_data_treatment.ipynb'\n",
    "%run $header_path"
   ]
  },
  {
   "cell_type": "code",
   "execution_count": 2,
   "id": "d96cef8c-d495-4fe6-9b86-2e477829fe8d",
   "metadata": {},
   "outputs": [
    {
     "data": {
      "text/plain": [
       "'E:\\\\scanR'"
      ]
     },
     "execution_count": 2,
     "metadata": {},
     "output_type": "execute_result"
    }
   ],
   "source": [
    "scanR_path "
   ]
  },
  {
   "cell_type": "code",
   "execution_count": 3,
   "id": "e3b5f207-383f-43a2-9244-6f9300afa33c",
   "metadata": {
    "scrolled": true
   },
   "outputs": [],
   "source": [
    "works_au_af = (spark.read.format('parquet').load('file:\\\\' + main_path_openalex + 'works_au_af.parquet')\n",
    "               .filter( func.col('publication_year').between(1950,2020) )\n",
    "              )"
   ]
  },
  {
   "cell_type": "code",
   "execution_count": 4,
   "id": "ab07751b-acca-49ab-95d2-9ee9c152b688",
   "metadata": {},
   "outputs": [],
   "source": [
    "df_authors = (spark.read.format('parquet').load('file:\\\\' + main_path_openalex + 'authors.parquet')\n",
    "              )"
   ]
  },
  {
   "cell_type": "code",
   "execution_count": 5,
   "id": "f71b748a-4fb8-4da0-a7e6-2427bc226c94",
   "metadata": {},
   "outputs": [
    {
     "data": {
      "text/plain": [
       "DataFrame[affiliations: array<struct<institution:struct<country_code:string,country_id:string,display_name:string,id:string,lineage:array<string>,ror:string,type:string,type_id:string>,years:array<bigint>>>, cited_by_count: bigint, counts_by_year: array<struct<cited_by_count:bigint,oa_works_count:bigint,works_count:bigint,year:bigint>>, created_date: string, display_name: string, display_name_alternatives: array<string>, id: string, ids: struct<openalex:string,orcid:string,scopus:string>, last_known_institutions: array<struct<country_code:string,country_id:string,display_name:string,id:string,lineage:array<string>,ror:string,type:string,type_id:string>>, orcid: string, summary_stats: struct<2yr_cited_by_count:bigint,2yr_h_index:bigint,2yr_i10_index:bigint,2yr_mean_citedness:double,2yr_works_count:bigint,cited_by_count:bigint,h_index:bigint,i10_index:bigint,works_count:bigint>, topic_share: array<struct<display_name:string,domain:struct<display_name:string,id:string>,field:struct<display_name:string,id:string>,id:string,subfield:struct<display_name:string,id:string>,value:double>>, topics: array<struct<count:bigint,display_name:string,domain:struct<display_name:string,id:string>,field:struct<display_name:string,id:string>,id:string,subfield:struct<display_name:string,id:string>>>, updated: string, updated_date: string, works_api_url: string, works_count: bigint, x_concepts: array<struct<display_name:string,id:string,level:bigint,score:double,wikidata:string>>]"
      ]
     },
     "execution_count": 5,
     "metadata": {},
     "output_type": "execute_result"
    }
   ],
   "source": [
    "df_authors"
   ]
  },
  {
   "cell_type": "code",
   "execution_count": null,
   "id": "e93357bb-fc6b-42c6-9a31-8be77b04e1c8",
   "metadata": {},
   "outputs": [],
   "source": [
    "#df_au_scanR = spark.read.format('parquet').load('file:\\\\' + scanR_path + '\\\\authors.parquet')"
   ]
  },
  {
   "cell_type": "markdown",
   "id": "13a00b86-3438-4339-b0e6-0c1a7a1bed8a",
   "metadata": {},
   "source": [
    "# Build set of French authors"
   ]
  },
  {
   "cell_type": "code",
   "execution_count": 3,
   "id": "235a8e16-dd4e-4480-a90b-e30bfc9c1676",
   "metadata": {},
   "outputs": [],
   "source": [
    "\n",
    "recoding= {   'I118618916'  :  \"I899635006\",\n",
    "              \"I36085230\"   :  \"I899635006\",\n",
    "              \"I177483745\"  :  \"I899635006\",\n",
    "              \"I4210103002\" :  \"I198244214\",\n",
    "              \"I4210143836\" :  \"I198244214\",\n",
    "              \"I184646667\"  :  \"I39804081\",\n",
    "              \"I102197404\"  :  \"I277688954\",\n",
    "              'I7171862'    :  \"I2279609970\",\n",
    "              \"I59807433\"   :  \"I2279609970\",\n",
    "              \"I2800379142\" :  \"I4210154111\",\n",
    "              \"I3123023596\" : \"I56067802\",\n",
    "              \"I4210095130\" : \"I208215962\" \n",
    "          #  , \"I4210140029\": \"I197518295\"\n",
    "}\n",
    "recoding = spark.sparkContext.broadcast(recoding)\n",
    "def recoding_univ(x):\n",
    "    if x in list(recoding.keys()):\n",
    "        return(recoding[x])\n",
    "    else:\n",
    "        return x\n",
    "udf_recoding_univ = func.udf(recoding_univ, StringType())\n",
    "list_fused = [\"I21491767\",\"I198244214\",\"I4210142324\",\n",
    "                \"I899635006\",\"I899635006\",\"I39804081\",\n",
    "                \"I201841394\",\"I4210154111\",\"I204730241\",\"I15057530\",\n",
    "                \"I277688954\",\"I68947357\",\"I2279609970\",\"I19894307\"]\n",
    "list_non_fr_non_uni_pub = ['I3131573726','I4210086079',\n",
    "                             \"I24240610\",\"I16465266\",'I35298706',\n",
    "                             \"I4210134562\",\"I185839726\",\"I4210143169\",\n",
    "                             \"I4210127465\",\"I10342815\",\n",
    "                             \"I57206974\",\"I193291145\",\"I4210163862\",\"I124357947\",\n",
    "                             \"I97565354\"]"
   ]
  },
  {
   "cell_type": "code",
   "execution_count": 4,
   "id": "f91af47e-17c8-4bed-8d54-d389c52cbb8a",
   "metadata": {},
   "outputs": [],
   "source": [
    "inst = spark.read.parquet('file:\\\\' + save_path + 'inst_fr.parquet')"
   ]
  },
  {
   "cell_type": "code",
   "execution_count": 8,
   "id": "1e60686a-2ceb-41ce-a1e3-2b3ef700de26",
   "metadata": {},
   "outputs": [],
   "source": [
    "set_french_authors = (works_au_af\n",
    "                      .filter(func.col('publication_year').between(1997,2020))\n",
    "                      .withColumn('inst_id', func.when(func.col('inst_id')=='I118618916',  \"I899635006\")\n",
    "                                                 .when(func.col('inst_id')==\"I36085230\",  \"I899635006\")\n",
    "                                                 .when(func.col('inst_id')==\"I177483745\",  \"I899635006\")\n",
    "                                                 .when(func.col('inst_id')==\"I4210103002\", \"I198244214\")\n",
    "                                                 .when(func.col('inst_id')==\"I4210143836\", \"I198244214\")\n",
    "                                                 .when(func.col('inst_id')==\"I184646667\",  \"I39804081\")\n",
    "                                                 .when(func.col('inst_id')==\"I102197404\",  \"I277688954\")\n",
    "                                                 .when(func.col('inst_id')=='I7171862',  \"I2279609970\")\n",
    "                                                 .when(func.col('inst_id')==\"I59807433\",  \"I2279609970\")\n",
    "                                                 .when(func.col('inst_id')==\"I2800379142\", \"I4210154111\") \n",
    "                                                 .when(func.col('inst_id')==\"I3123023596\",\"I56067802\")\n",
    "                                                 .when(func.col('inst_id')==\"I4210095130\",\"I208215962\")\n",
    "                                                 .otherwise(func.col('inst_id')))\n",
    "                      .join(inst.select('inst_id', func.lit(1).alias('in_inst_dataset')), on =['inst_id'], how = 'left')\n",
    "                      .fillna(0, subset = ['in_inst_dataset'])\n",
    "                      .filter( (func.col('country')=='FR') | (func.col('in_inst_dataset')==1))\n",
    "                      .groupBy('author_id')\n",
    "                      .agg(func.max('publication_year').alias('last_year'),\n",
    "                           func.min('publication_year').alias('entry_year'),\n",
    "                           func.countDistinct('work_id').alias('n_pub_in_FR'),\n",
    "                           func.countDistinct('publication_year').alias('n_y_in_FR')\n",
    "                          )\n",
    "                      .filter( ~(func.col('last_year')==func.col('entry_year'))\n",
    "                               & (func.col('n_y_in_FR')>2)\n",
    "                               & (func.col('n_pub_in_FR')>2)\n",
    "                             )\n",
    "                     )\n",
    "#set_french_authors.cache()\n",
    "#set_french_authors.count()"
   ]
  },
  {
   "cell_type": "code",
   "execution_count": null,
   "id": "49a84384-553d-42f9-a75a-b3d28891b1b6",
   "metadata": {
    "scrolled": true
   },
   "outputs": [],
   "source": [
    "(set_french_authors.filter(func.col('author_id')==\"A5084984675\")\n",
    "                      .join(works_au_af, on = ['author_id'], how = 'left')).show()"
   ]
  },
  {
   "cell_type": "code",
   "execution_count": 9,
   "id": "de0df412-8783-4fda-8eb1-91866b4a1cfb",
   "metadata": {
    "scrolled": true
   },
   "outputs": [
    {
     "name": "stdout",
     "output_type": "stream",
     "text": [
      "+-----------+---------+----------+-----------+---------+\n",
      "|  author_id|last_year|entry_year|n_pub_in_FR|n_y_in_FR|\n",
      "+-----------+---------+----------+-----------+---------+\n",
      "|A5081892619|     2010|      2002|         11|        5|\n",
      "|A5079653947|     2020|      2006|         56|       13|\n",
      "|A5105641933|     2020|      1998|        183|       23|\n",
      "|A5007411109|     2020|      1997|       1138|       24|\n",
      "|A5027058032|     2020|      2003|        146|       16|\n",
      "|A5053414030|     2006|      1997|         10|        7|\n",
      "|A5028937897|     2020|      1998|        273|       22|\n",
      "|A5008496995|     2020|      2003|         40|       13|\n",
      "|A5028912390|     2020|      2001|         66|       18|\n",
      "|A5061749308|     2020|      1997|        133|       23|\n",
      "|A5087508730|     2020|      2002|         26|       13|\n",
      "|A5019424031|     2020|      1999|         76|       17|\n",
      "|A5039654491|     2017|      2011|          3|        3|\n",
      "|A5089185306|     2020|      1999|        112|       21|\n",
      "|A5019988390|     2020|      1997|        188|       23|\n",
      "|A5102854655|     2020|      1998|         50|       17|\n",
      "|A5029275729|     2020|      2005|         42|       15|\n",
      "|A5027800053|     2015|      1997|         25|        9|\n",
      "|A5068176411|     2020|      2004|         21|       10|\n",
      "|A5076187430|     2020|      1997|        107|       20|\n",
      "+-----------+---------+----------+-----------+---------+\n",
      "only showing top 20 rows\n",
      "\n"
     ]
    }
   ],
   "source": [
    "set_french_authors.show()"
   ]
  },
  {
   "cell_type": "code",
   "execution_count": 9,
   "id": "89ffafe4-730c-4b07-9bd9-962f30c07b43",
   "metadata": {},
   "outputs": [],
   "source": [
    "set_french_authors.write.mode('overwrite').parquet('file:\\\\' + save_path + 'set_french_authors.parquet')"
   ]
  },
  {
   "cell_type": "markdown",
   "id": "98d2063a-8135-4055-a8ec-f5a8db68c905",
   "metadata": {},
   "source": [
    "# Load set of French authors"
   ]
  },
  {
   "cell_type": "code",
   "execution_count": 10,
   "id": "98deaa35-5539-45bc-8a0d-b9de59a449c9",
   "metadata": {},
   "outputs": [
    {
     "data": {
      "text/plain": [
       "382548"
      ]
     },
     "execution_count": 10,
     "metadata": {},
     "output_type": "execute_result"
    }
   ],
   "source": [
    "set_french_authors = spark.read.parquet('file:\\\\' + save_path + 'set_french_authors.parquet')\n",
    "set_french_authors.count()"
   ]
  },
  {
   "cell_type": "code",
   "execution_count": 12,
   "id": "aa5e02c9-2b14-4dae-8ffc-174be26b41fd",
   "metadata": {
    "scrolled": true
   },
   "outputs": [
    {
     "name": "stdout",
     "output_type": "stream",
     "text": [
      "+-----------+---------+----------+-----------+---------+-----------+----------------+--------+-----------+--------------------+---------+\n",
      "|  author_id|last_year|entry_year|n_pub_in_FR|n_y_in_FR|    inst_id|publication_year|language|  source_id|       primary_topic|citations|\n",
      "+-----------+---------+----------+-----------+---------+-----------+----------------+--------+-----------+--------------------+---------+\n",
      "|A5000157973|     2020|      2003|         80|       16|I1294671590|            2014|      en|S4306401280|{https://openalex...|        4|\n",
      "|A5000157973|     2020|      2003|         80|       16|       NULL|            2019|      fr|S2738823100|{https://openalex...|        1|\n",
      "|A5000157973|     2020|      2003|         80|       16| I187986737|            2011|      fr|S4306463550|{https://openalex...|        4|\n",
      "|A5000157973|     2020|      2003|         80|       16|I4210149539|            2019|      fr|S4306402512|{https://openalex...|        0|\n",
      "|A5000157973|     2020|      2003|         80|       16|I4210149539|            2020|      fr|       NULL|{https://openalex...|        0|\n",
      "|A5000157973|     2020|      2003|         80|       16|I4210149539|            2016|      en|S4306402512|{https://openalex...|        0|\n",
      "|A5000157973|     2020|      2003|         80|       16|       NULL|            2003|      fr|S4210195010|{https://openalex...|       10|\n",
      "|A5000157973|     2020|      2003|         80|       16|I1294671590|            2011|      fr|S4306463550|{https://openalex...|        4|\n",
      "|A5000157973|     2020|      2003|         80|       16|I4210149539|            2020|      fr|S4306402512|{https://openalex...|        0|\n",
      "|A5000157973|     2020|      2003|         80|       16|I1294671590|            2020|      fr|S4306402512|{https://openalex...|        0|\n",
      "|A5000157973|     2020|      2003|         80|       16|  I90669466|            2013|      fr|S4306462853|{https://openalex...|        2|\n",
      "|A5000157973|     2020|      2003|         80|       16| I187986737|            2017|      fr|S2736580918|{https://openalex...|        1|\n",
      "|A5000157973|     2020|      2003|         80|       16|I4210149539|            2020|      fr|S4306402512|                NULL|        0|\n",
      "|A5000157973|     2020|      2003|         80|       16|I1294671590|            2020|      fr|       NULL|{https://openalex...|        0|\n",
      "|A5000157973|     2020|      2003|         80|       16|I1294671590|            2019|      fr|S4306402512|{https://openalex...|        0|\n",
      "|A5000157973|     2020|      2003|         80|       16|       NULL|            2006|      fr|S4210191585|{https://openalex...|        0|\n",
      "|A5000157973|     2020|      2003|         80|       16|I4210149539|            2020|      en|S4306402512|{https://openalex...|        0|\n",
      "|A5000157973|     2020|      2003|         80|       16|I4210149539|            2020|      fr|S4306402512|{https://openalex...|        0|\n",
      "|A5000157973|     2020|      2003|         80|       16|       NULL|            2010|      fr|       NULL|                NULL|        0|\n",
      "|A5000157973|     2020|      2003|         80|       16|I1294671590|            2016|      en|S4306402512|{https://openalex...|        0|\n",
      "+-----------+---------+----------+-----------+---------+-----------+----------------+--------+-----------+--------------------+---------+\n",
      "only showing top 20 rows\n",
      "\n"
     ]
    }
   ],
   "source": [
    "works_au_af_subset = (set_french_authors\n",
    "                      .join(works_au_af.select('author_id', 'inst_id', 'publication_year', 'language', 'source_id','primary_topic', 'citations'), on = ['author_id'], how = 'left')\n",
    "                     )\n",
    "works_au_af_subset.cache()\n",
    "\n",
    "works_au_af_subset.show()"
   ]
  },
  {
   "cell_type": "markdown",
   "id": "699c788b-eb85-4207-a79c-8bb6aaaf255f",
   "metadata": {},
   "source": [
    "# Build author-level characteristics\n"
   ]
  },
  {
   "cell_type": "code",
   "execution_count": 14,
   "id": "4c03661b-5d99-4261-95de-0b833d0c8443",
   "metadata": {
    "scrolled": true
   },
   "outputs": [],
   "source": [
    "au_level_char = (works_au_af_subset\n",
    "                                       .join(inst.select('inst_id', func.lit(1).alias('in_inst_dataset')), on =['inst_id'], how = 'left')\n",
    "                      .fillna(0, subset = ['in_inst_dataset'])\n",
    "              .groupBy('author_id','publication_year').agg(func.max((func.col('in_inst_dataset')==1).cast('int')).alias('in_FR'),\n",
    "                                                          func.max((func.col('in_inst_dataset')==0).cast('int')).alias('abroad'))\n",
    "              .groupBy('author_id').agg(func.min('publication_year').alias('entry_year'),\n",
    "                                        func.max('publication_year').alias('last_year'),\n",
    "                                        func.sum('in_FR').alias('all_y_in_FR'), \n",
    "                                        func.sum('abroad').alias('years_abroad'))\n",
    "                )\n",
    "#au_level_char.cache()\n",
    "#au_level_char.show()"
   ]
  },
  {
   "cell_type": "code",
   "execution_count": 15,
   "id": "79274711-4aaf-4b4e-af7d-1d10aa08fc61",
   "metadata": {},
   "outputs": [
    {
     "name": "stdout",
     "output_type": "stream",
     "text": [
      "+-----------+----------+---------+-----------+------------+\n",
      "|  author_id|entry_year|last_year|all_y_in_FR|years_abroad|\n",
      "+-----------+----------+---------+-----------+------------+\n",
      "|A5084984675|      1985|     2020|         28|          35|\n",
      "+-----------+----------+---------+-----------+------------+\n",
      "\n"
     ]
    }
   ],
   "source": [
    "au_level_char.filter(func.col('author_id')==\"A5084984675\").show()"
   ]
  },
  {
   "cell_type": "code",
   "execution_count": 16,
   "id": "12f00d9d-b48a-406e-bf7b-db1837c67e47",
   "metadata": {},
   "outputs": [
    {
     "data": {
      "text/plain": [
       "DataFrame[author_id: string, main_field: string, author_name: string]"
      ]
     },
     "execution_count": 16,
     "metadata": {},
     "output_type": "execute_result"
    }
   ],
   "source": [
    "au_fields = (set_french_authors\n",
    "             .join(df_authors\n",
    "                   .select(func.regexp_replace('id', 'https://openalex.org/','').alias('author_id'), func.explode(func.col('topic_share')).alias('topic_share'),\n",
    "                          func.col('display_name').alias('author_name'))\n",
    "                   , on = ['author_id'], how = 'inner')\n",
    "             .withColumn('max_topic_share', func.max(func.col('topic_share.value')).over(Window.partitionBy('author_id')))\n",
    "             .filter(func.col('max_topic_share') <= func.col('topic_share.value'))\n",
    "             .withColumn('field', func.substring(func.lower(func.col('topic_share.field.display_name')), 1, 4))\n",
    "             .withColumn('main_field', func.concat_ws(',', func.array_sort(func.collect_set(func.col('field')).over(Window.partitionBy('author_id')))))\n",
    "             .select('author_id', 'main_field','author_name')\n",
    "             #.groupBy('author_id','main_field','author_name')\n",
    "             #.pivot('field')\n",
    "             #.agg(func.lit(1))\n",
    "             #.fillna(0)\n",
    "            )\n",
    "au_fields"
   ]
  },
  {
   "cell_type": "code",
   "execution_count": 17,
   "id": "db78e0f5-e6e4-4025-a991-1dbf850e89ea",
   "metadata": {
    "scrolled": true
   },
   "outputs": [],
   "source": [
    "#au_level_char.count()"
   ]
  },
  {
   "cell_type": "code",
   "execution_count": 18,
   "id": "ef777538-27bc-457e-bbd9-c1e196408909",
   "metadata": {},
   "outputs": [],
   "source": [
    "au_level_char = (au_level_char\n",
    "                 .filter((func.col('entry_year')<2020) & (func.col('entry_year')>1954))\n",
    "                 .join(au_fields, on = ['author_id'], how = 'left')\n",
    "                 .distinct()\n",
    "                )"
   ]
  },
  {
   "cell_type": "code",
   "execution_count": 19,
   "id": "17786a76-d575-49c2-a25a-643aae0d747f",
   "metadata": {
    "scrolled": true
   },
   "outputs": [],
   "source": [
    "#au_level_char.show()"
   ]
  },
  {
   "cell_type": "code",
   "execution_count": 20,
   "id": "3618898f-efd5-4455-a116-6e12a17e3d4a",
   "metadata": {
    "scrolled": true
   },
   "outputs": [],
   "source": [
    "au_level_char.write.mode('overwrite').parquet('file:\\\\' + save_path + 'au_level_char.parquet')"
   ]
  },
  {
   "cell_type": "code",
   "execution_count": 21,
   "id": "2b8d823f-d68a-46de-b2b3-95193e8af986",
   "metadata": {},
   "outputs": [],
   "source": [
    "#spark.catalog.clearCache()"
   ]
  },
  {
   "cell_type": "markdown",
   "id": "44cd00de-0acd-4d9a-ac43-5f18d8cd198e",
   "metadata": {},
   "source": [
    "# Load author-level characteristics"
   ]
  },
  {
   "cell_type": "code",
   "execution_count": 5,
   "id": "0858569f-730e-403e-aeb0-e708b8f7ab10",
   "metadata": {},
   "outputs": [],
   "source": [
    "au_level_char= spark.read.parquet('file:\\\\' + save_path + 'au_level_char.parquet')"
   ]
  },
  {
   "cell_type": "code",
   "execution_count": 13,
   "id": "716fad01-fa92-4815-8cbb-0c32a16fa7e2",
   "metadata": {},
   "outputs": [],
   "source": [
    "#au_level_char = spark.read.parquet('file:\\\\' + save_path + 'au_level_char.parquet')"
   ]
  },
  {
   "cell_type": "code",
   "execution_count": 16,
   "id": "47f317d1-24b3-42d6-8738-063b421c665a",
   "metadata": {},
   "outputs": [],
   "source": [
    "#au_level_char.filter(func.col('author_id')==\"A5087461705\").show()"
   ]
  },
  {
   "cell_type": "code",
   "execution_count": 17,
   "id": "773c03da-e912-4100-9e54-fafb28edc000",
   "metadata": {},
   "outputs": [],
   "source": [
    "#(au_level_char.groupBy((func.floor(func.col('entry_year')/5)*5)\n",
    "#                       .alias('entry_year'))\n",
    "#.agg(*[func.mean(col).alias(col) for col in ['last_year',\"all_y_in_FR\", \"years_abroad\"]]).sort('entry_year')).show(100)"
   ]
  },
  {
   "cell_type": "code",
   "execution_count": 18,
   "id": "f71aed91-4a8c-4e44-9dcb-bb5198cc28d3",
   "metadata": {
    "scrolled": true
   },
   "outputs": [],
   "source": [
    "#(au_level_char\n",
    "# .groupBy(((func.floor(func.col('all_y_in_FR')/(func.col('last_year')-func.col('entry_year')+1)*50)*2).alias('share_y_in_fr')))\n",
    "# .count()\n",
    "# .sort('share_y_in_fr')).show(100)"
   ]
  },
  {
   "cell_type": "markdown",
   "id": "2f9c08c2-6f43-425f-a1f1-bc3ebdbfc44d",
   "metadata": {},
   "source": [
    "# Build institution-level information"
   ]
  },
  {
   "cell_type": "code",
   "execution_count": 24,
   "id": "b6ecf99e-c78f-44c2-9947-d1400f45a9c1",
   "metadata": {},
   "outputs": [],
   "source": [
    "spark.catalog.clearCache()"
   ]
  },
  {
   "cell_type": "code",
   "execution_count": 38,
   "id": "b967d745-7ef5-4e2c-8f7e-837e68d0e097",
   "metadata": {
    "scrolled": true
   },
   "outputs": [
    {
     "name": "stdout",
     "output_type": "stream",
     "text": [
      "+-----------+---------+----------+-----------+---------+-----------+-----------+----------------+--------+-------+-----------+---------+\n",
      "|  author_id|last_year|entry_year|n_pub_in_FR|n_y_in_FR|    work_id|    inst_id|publication_year|language|country|  source_id|citations|\n",
      "+-----------+---------+----------+-----------+---------+-----------+-----------+----------------+--------+-------+-----------+---------+\n",
      "|A5000157973|     2020|      2003|         80|       16|W3136479125|I4210149539|            2019|      en|     FR|       NULL|        5|\n",
      "|A5000157973|     2020|      2003|         80|       16|W2954243458|       NULL|            2019|      fr|   NULL|S2738823100|        1|\n",
      "|A5000157973|     2020|      2003|         80|       16|W4391290437|I1294671590|            2017|      fr|     FR|       NULL|        0|\n",
      "|A5000157973|     2020|      2003|         80|       16|W3003814814|I4210149539|            2019|      fr|     FR|S4306402512|        0|\n",
      "|A5000157973|     2020|      2003|         80|       16|W4287998370|I4210149539|            2019|      fr|     FR|S4306402512|        0|\n",
      "|A5000157973|     2020|      2003|         80|       16|W4378736409|I4210149539|            2016|      en|     FR|S4306402512|        0|\n",
      "|A5000157973|     2020|      2003|         80|       16|W2048929520|I1294671590|            2011|      fr|     FR|S4210195010|       11|\n",
      "|A5000157973|     2020|      2003|         80|       16|W1925844554|I1294671590|            2011|      fr|     FR|S4306463550|        4|\n",
      "|A5000157973|     2020|      2003|         80|       16|W2561408172|       NULL|            1997|      fr|   NULL|       NULL|        6|\n",
      "|A5000157973|     2020|      2003|         80|       16|W3110988154|I1294671590|            2020|      fr|     FR|S4306402512|        0|\n",
      "|A5000157973|     2020|      2003|         80|       16|W3004101798|I4210149539|            2019|      fr|     FR|S4306402512|        0|\n",
      "|A5000157973|     2020|      2003|         80|       16|W2599059147| I187986737|            2017|      fr|     FR|S2736580918|        1|\n",
      "|A5000157973|     2020|      2003|         80|       16|W4250194911|       NULL|            2018|      en|   NULL|S4306463419|        2|\n",
      "|A5000157973|     2020|      2003|         80|       16|W3113741922|I1294671590|            2020|      fr|     FR|       NULL|        0|\n",
      "|A5000157973|     2020|      2003|         80|       16|W4285658259|       NULL|            2020|      fr|   NULL|S4387287587|        0|\n",
      "|A5000157973|     2020|      2003|         80|       16|W3094519463|       NULL|            2006|      fr|   NULL|S4210191585|        0|\n",
      "|A5000157973|     2020|      2003|         80|       16|W4312201247|I1294671590|            2017|      fr|     FR|S4306402512|        0|\n",
      "|A5000157973|     2020|      2003|         80|       16|W3110988154|I4210149539|            2020|      fr|     FR|S4306402512|        0|\n",
      "|A5000157973|     2020|      2003|         80|       16|W4287998024|I4210149539|            2019|      fr|     FR|S4306402512|        0|\n",
      "|A5000157973|     2020|      2003|         80|       16|W4378736409|I1294671590|            2016|      en|     FR|S4306402512|        0|\n",
      "+-----------+---------+----------+-----------+---------+-----------+-----------+----------------+--------+-------+-----------+---------+\n",
      "only showing top 20 rows\n",
      "\n"
     ]
    }
   ],
   "source": [
    "works_au_af_subset = (set_french_authors\n",
    "                      .join(works_au_af.select('work_id','author_id', 'inst_id', 'publication_year', 'language', 'country', 'source_id','citations'), on = ['author_id'], how = 'left')\n",
    "                     )\n",
    "works_au_af_subset.cache()#\n",
    "works_au_af_subset.show()"
   ]
  },
  {
   "cell_type": "code",
   "execution_count": 39,
   "id": "3378c45c-1ed8-4827-8355-584855b730f9",
   "metadata": {
    "scrolled": true
   },
   "outputs": [
    {
     "name": "stdout",
     "output_type": "stream",
     "text": [
      "+-----------+-----------+---------+----------+-----------+---------+-----------+----------------+--------+-------+-----------+---------+--------------------+----------+-----+--------------------+--------------------+--------------------+--------------------+-----+-------+----+--------+-------------------+-------+\n",
      "|    inst_id|  author_id|last_year|entry_year|n_pub_in_FR|n_y_in_FR|    work_id|publication_year|language|country|  source_id|citations|                name|      type| city|        homepage_url|         topic_share|          main_topic|              parent|fused|uni_pub|cnrs|    idex|            type_fr|secteur|\n",
      "+-----------+-----------+---------+----------+-----------+---------+-----------+----------------+--------+-------+-----------+---------+--------------------+----------+-----+--------------------+--------------------+--------------------+--------------------+-----+-------+----+--------+-------------------+-------+\n",
      "|I4210149539|A5000157973|     2020|      2003|         80|       16|W3136479125|            2019|      en|     FR|       NULL|        5|Laboratoire d'Ant...|  facility|Paris|http://las.ehess....|[{Social Sciences...|     Social Sciences|[{I187986737, Col...|    0|      0|   1|idex_psl|Grand établissement| public|\n",
      "|I1294671590|A5000157973|     2020|      2003|         80|       16|W4391290437|            2017|      fr|     FR|       NULL|        0|Centre National d...|government|Paris| https://www.cnrs.fr|[{Materials Scien...|   Materials Science|[{I1294671590, Ce...|    0|      0|   1| no_idex|          undefined| public|\n",
      "|I4210149539|A5000157973|     2020|      2003|         80|       16|W3003814814|            2019|      fr|     FR|S4306402512|        0|Laboratoire d'Ant...|  facility|Paris|http://las.ehess....|[{Social Sciences...|     Social Sciences|[{I187986737, Col...|    0|      0|   1|idex_psl|Grand établissement| public|\n",
      "|I4210149539|A5000157973|     2020|      2003|         80|       16|W4287998370|            2019|      fr|     FR|S4306402512|        0|Laboratoire d'Ant...|  facility|Paris|http://las.ehess....|[{Social Sciences...|     Social Sciences|[{I187986737, Col...|    0|      0|   1|idex_psl|Grand établissement| public|\n",
      "|I4210149539|A5000157973|     2020|      2003|         80|       16|W4378736409|            2016|      en|     FR|S4306402512|        0|Laboratoire d'Ant...|  facility|Paris|http://las.ehess....|[{Social Sciences...|     Social Sciences|[{I187986737, Col...|    0|      0|   1|idex_psl|Grand établissement| public|\n",
      "|I1294671590|A5000157973|     2020|      2003|         80|       16|W2048929520|            2011|      fr|     FR|S4210195010|       11|Centre National d...|government|Paris| https://www.cnrs.fr|[{Materials Scien...|   Materials Science|[{I1294671590, Ce...|    0|      0|   1| no_idex|          undefined| public|\n",
      "|I1294671590|A5000157973|     2020|      2003|         80|       16|W1925844554|            2011|      fr|     FR|S4306463550|        4|Centre National d...|government|Paris| https://www.cnrs.fr|[{Materials Scien...|   Materials Science|[{I1294671590, Ce...|    0|      0|   1| no_idex|          undefined| public|\n",
      "|I1294671590|A5000157973|     2020|      2003|         80|       16|W3110988154|            2020|      fr|     FR|S4306402512|        0|Centre National d...|government|Paris| https://www.cnrs.fr|[{Materials Scien...|   Materials Science|[{I1294671590, Ce...|    0|      0|   1| no_idex|          undefined| public|\n",
      "|I4210149539|A5000157973|     2020|      2003|         80|       16|W3004101798|            2019|      fr|     FR|S4306402512|        0|Laboratoire d'Ant...|  facility|Paris|http://las.ehess....|[{Social Sciences...|     Social Sciences|[{I187986737, Col...|    0|      0|   1|idex_psl|Grand établissement| public|\n",
      "| I187986737|A5000157973|     2020|      2003|         80|       16|W2599059147|            2017|      fr|     FR|S2736580918|        1|   Collège de France| education|Paris|http://www.colleg...|[{Neuroscience, 0...|Biochemistry, Gen...|[{I187986737, Col...|    0|      0|   0|idex_psl|Grand établissement| public|\n",
      "|I1294671590|A5000157973|     2020|      2003|         80|       16|W3113741922|            2020|      fr|     FR|       NULL|        0|Centre National d...|government|Paris| https://www.cnrs.fr|[{Materials Scien...|   Materials Science|[{I1294671590, Ce...|    0|      0|   1| no_idex|          undefined| public|\n",
      "|I1294671590|A5000157973|     2020|      2003|         80|       16|W4312201247|            2017|      fr|     FR|S4306402512|        0|Centre National d...|government|Paris| https://www.cnrs.fr|[{Materials Scien...|   Materials Science|[{I1294671590, Ce...|    0|      0|   1| no_idex|          undefined| public|\n",
      "|I4210149539|A5000157973|     2020|      2003|         80|       16|W3110988154|            2020|      fr|     FR|S4306402512|        0|Laboratoire d'Ant...|  facility|Paris|http://las.ehess....|[{Social Sciences...|     Social Sciences|[{I187986737, Col...|    0|      0|   1|idex_psl|Grand établissement| public|\n",
      "|I4210149539|A5000157973|     2020|      2003|         80|       16|W4287998024|            2019|      fr|     FR|S4306402512|        0|Laboratoire d'Ant...|  facility|Paris|http://las.ehess....|[{Social Sciences...|     Social Sciences|[{I187986737, Col...|    0|      0|   1|idex_psl|Grand établissement| public|\n",
      "|I1294671590|A5000157973|     2020|      2003|         80|       16|W4378736409|            2016|      en|     FR|S4306402512|        0|Centre National d...|government|Paris| https://www.cnrs.fr|[{Materials Scien...|   Materials Science|[{I1294671590, Ce...|    0|      0|   1| no_idex|          undefined| public|\n",
      "|I4210149539|A5000157973|     2020|      2003|         80|       16|W4391290437|            2017|      fr|     FR|       NULL|        0|Laboratoire d'Ant...|  facility|Paris|http://las.ehess....|[{Social Sciences...|     Social Sciences|[{I187986737, Col...|    0|      0|   1|idex_psl|Grand établissement| public|\n",
      "|I1294671590|A5000157973|     2020|      2003|         80|       16|W4312221268|            2017|      fr|     FR|S4306402512|        0|Centre National d...|government|Paris| https://www.cnrs.fr|[{Materials Scien...|   Materials Science|[{I1294671590, Ce...|    0|      0|   1| no_idex|          undefined| public|\n",
      "|I1294671590|A5000157973|     2020|      2003|         80|       16|W1534913246|            2010|      fr|     FR|S2736580918|        6|Centre National d...|government|Paris| https://www.cnrs.fr|[{Materials Scien...|   Materials Science|[{I1294671590, Ce...|    0|      0|   1| no_idex|          undefined| public|\n",
      "| I187986737|A5000157973|     2020|      2003|         80|       16|W4241009160|            2020|      fr|     FR|       NULL|        4|   Collège de France| education|Paris|http://www.colleg...|[{Neuroscience, 0...|Biochemistry, Gen...|[{I187986737, Col...|    0|      0|   0|idex_psl|Grand établissement| public|\n",
      "|I1294671590|A5000157973|     2020|      2003|         80|       16|W3003814814|            2019|      fr|     FR|S4306402512|        0|Centre National d...|government|Paris| https://www.cnrs.fr|[{Materials Scien...|   Materials Science|[{I1294671590, Ce...|    0|      0|   1| no_idex|          undefined| public|\n",
      "+-----------+-----------+---------+----------+-----------+---------+-----------+----------------+--------+-------+-----------+---------+--------------------+----------+-----+--------------------+--------------------+--------------------+--------------------+-----+-------+----+--------+-------------------+-------+\n",
      "only showing top 20 rows\n",
      "\n"
     ]
    }
   ],
   "source": [
    "works_au_af_subset = (works_au_af_subset\n",
    "                 # .withColumn('inst_id', func.expr(expr_inst_id))\n",
    "                 # .join(inst.drop('country').distinct(), on = ['inst_id'])\n",
    "                  .join(inst.distinct(), on = ['inst_id'])\n",
    "                     )\n",
    "works_au_af_subset.cache()\n",
    "works_au_af_subset.show()"
   ]
  },
  {
   "cell_type": "code",
   "execution_count": 40,
   "id": "8a4453e7-8cba-4681-abab-1639ee1a428f",
   "metadata": {},
   "outputs": [],
   "source": [
    "works_au_af_subset.distinct().write.mode('overwrite').parquet('file:\\\\' + save_path + 'works_au_af_subset.parquet') "
   ]
  },
  {
   "cell_type": "code",
   "execution_count": 6,
   "id": "b54851e7-d9a8-4bb4-8848-3a76b940c252",
   "metadata": {},
   "outputs": [],
   "source": [
    "works_au_af_subset = spark.read.parquet('file:\\\\' + save_path + 'works_au_af_subset.parquet') "
   ]
  },
  {
   "cell_type": "code",
   "execution_count": 7,
   "id": "5bc3d79e-524d-4a87-870c-603dd771c8eb",
   "metadata": {
    "scrolled": true
   },
   "outputs": [
    {
     "name": "stdout",
     "output_type": "stream",
     "text": [
      "+-----------+-----------+---------+----------+-----------+---------+-----------+----------------+--------+-------+-----------+---------+--------------------+----------+--------+--------------------+--------------------+--------------------+--------------------+-----+-------+----+-----------------+-------------------+-------+\n",
      "|    inst_id|  author_id|last_year|entry_year|n_pub_in_FR|n_y_in_FR|    work_id|publication_year|language|country|  source_id|citations|                name|      type|    city|        homepage_url|         topic_share|          main_topic|              parent|fused|uni_pub|cnrs|             idex|            type_fr|secteur|\n",
      "+-----------+-----------+---------+----------+-----------+---------+-----------+----------------+--------+-------+-----------+---------+--------------------+----------+--------+--------------------+--------------------+--------------------+--------------------+-----+-------+----+-----------------+-------------------+-------+\n",
      "|I2802759292|A5000003497|     2019|      2017|          9|        3|W4288481695|            2019|      en|     FR|S4306402512|        0|Franche-Comté Éle...|  facility|Besançon|http://www.femto-...|[{Engineering, 0....|         Engineering|[{I4210095849, CN...|    0|      1|   1|          no_idex|         Université| public|\n",
      "|  I37553959|A5000003497|     2019|      2017|          9|        3|W4206865947|            2019|      en|     FR|S4306402512|        0|Université de tec...| education| Belfort| http://www.utbm.fr/|[{Engineering, 0....|         Engineering|[{I37553959, Univ...|    0|      1|   0|          no_idex|         Université| public|\n",
      "|  I37553959|A5000003497|     2019|      2017|          9|        3|W4298079365|            2017|      en|     FR|S4306402512|        0|Université de tec...| education| Belfort| http://www.utbm.fr/|[{Engineering, 0....|         Engineering|[{I37553959, Univ...|    0|      1|   0|          no_idex|         Université| public|\n",
      "|  I37553959|A5000003497|     2019|      2017|          9|        3|W4297974561|            2018|      en|     FR|S4306402512|        0|Université de tec...| education| Belfort| http://www.utbm.fr/|[{Engineering, 0....|         Engineering|[{I37553959, Univ...|    0|      1|   0|          no_idex|         Université| public|\n",
      "|I2802759292|A5000003497|     2019|      2017|          9|        3|W4300197907|            2017|      en|     FR|S2764893330|        1|Franche-Comté Éle...|  facility|Besançon|http://www.femto-...|[{Engineering, 0....|         Engineering|[{I4210095849, CN...|    0|      1|   1|          no_idex|         Université| public|\n",
      "|I2802759292|A5000003497|     2019|      2017|          9|        3|W4298079365|            2017|      en|     FR|S4306402512|        0|Franche-Comté Éle...|  facility|Besançon|http://www.femto-...|[{Engineering, 0....|         Engineering|[{I4210095849, CN...|    0|      1|   1|          no_idex|         Université| public|\n",
      "|I2802759292|A5000003497|     2019|      2017|          9|        3|W2916579446|            2019|      en|     FR|S4210234597|        0|Franche-Comté Éle...|  facility|Besançon|http://www.femto-...|[{Engineering, 0....|         Engineering|[{I4210095849, CN...|    0|      1|   1|          no_idex|         Université| public|\n",
      "|  I37553959|A5000003497|     2019|      2017|          9|        3|W2916579446|            2019|      en|     FR|S4210234597|        0|Université de tec...| education| Belfort| http://www.utbm.fr/|[{Engineering, 0....|         Engineering|[{I37553959, Univ...|    0|      1|   0|          no_idex|         Université| public|\n",
      "|I2802759292|A5000003497|     2019|      2017|          9|        3|W2932988889|            2019|      en|     FR|       NULL|        0|Franche-Comté Éle...|  facility|Besançon|http://www.femto-...|[{Engineering, 0....|         Engineering|[{I4210095849, CN...|    0|      1|   1|          no_idex|         Université| public|\n",
      "|  I37553959|A5000003497|     2019|      2017|          9|        3|W2945481157|            2017|      en|     FR|S4306402512|        2|Université de tec...| education| Belfort| http://www.utbm.fr/|[{Engineering, 0....|         Engineering|[{I37553959, Univ...|    0|      1|   0|          no_idex|         Université| public|\n",
      "|I2802759292|A5000003497|     2019|      2017|          9|        3|W3202571663|            2017|      en|     FR|S4306402512|        1|Franche-Comté Éle...|  facility|Besançon|http://www.femto-...|[{Engineering, 0....|         Engineering|[{I4210095849, CN...|    0|      1|   1|          no_idex|         Université| public|\n",
      "|  I37553959|A5000003497|     2019|      2017|          9|        3|W4288481695|            2019|      en|     FR|S4306402512|        0|Université de tec...| education| Belfort| http://www.utbm.fr/|[{Engineering, 0....|         Engineering|[{I37553959, Univ...|    0|      1|   0|          no_idex|         Université| public|\n",
      "|I2802759292|A5000003497|     2019|      2017|          9|        3|W4206865947|            2019|      en|     FR|S4306402512|        0|Franche-Comté Éle...|  facility|Besançon|http://www.femto-...|[{Engineering, 0....|         Engineering|[{I4210095849, CN...|    0|      1|   1|          no_idex|         Université| public|\n",
      "|I2802759292|A5000003497|     2019|      2017|          9|        3|W2945481157|            2017|      en|     FR|S4306402512|        2|Franche-Comté Éle...|  facility|Besançon|http://www.femto-...|[{Engineering, 0....|         Engineering|[{I4210095849, CN...|    0|      1|   1|          no_idex|         Université| public|\n",
      "|  I37553959|A5000003497|     2019|      2017|          9|        3|W2932988889|            2019|      en|     FR|       NULL|        0|Université de tec...| education| Belfort| http://www.utbm.fr/|[{Engineering, 0....|         Engineering|[{I37553959, Univ...|    0|      1|   0|          no_idex|         Université| public|\n",
      "|  I37553959|A5000003497|     2019|      2017|          9|        3|W3202571663|            2017|      en|     FR|S4306402512|        1|Université de tec...| education| Belfort| http://www.utbm.fr/|[{Engineering, 0....|         Engineering|[{I37553959, Univ...|    0|      1|   0|          no_idex|         Université| public|\n",
      "|I4210160565|A5000061826|     2020|      2001|         72|       13|W2509716726|            2016|      fr|     FR|S4210171455|        0|Centre d'Études e...|government|    Bron|http://www.cerema...|[{Engineering, 0....|         Engineering|[{I4210092945, Mi...|    0|      0|   0|          no_idex|          undefined| public|\n",
      "|I4210160565|A5000061826|     2020|      2001|         72|       13| W156849206|            2014|      fr|     FR|S2739279844|        4|Centre d'Études e...|government|    Bron|http://www.cerema...|[{Engineering, 0....|         Engineering|[{I4210092945, Mi...|    0|      0|   0|          no_idex|          undefined| public|\n",
      "|  I90183372|A5000061826|     2020|      2001|         72|       13|   W3044026|            2014|      fr|     FR|S2764754001|        4|Université de Lor...| education|   Nancy|https://www.univ-...|[{Health Professi...|         Engineering|[{I90183372, Univ...|    0|      1|   0|          no_idex|Grand établissement| public|\n",
      "|I4210122476|A5000061826|     2020|      2001|         72|       13|W2904501431|            2017|      fr|     FR|S4210171455|        1|     UMR Territoires|  facility| Aubière|https://umr-terri...|[{Earth and Plane...|Agricultural and ...|[{I22248866, Agro...|    1|      1|   0|idex_annulee_lyon|         Université| public|\n",
      "+-----------+-----------+---------+----------+-----------+---------+-----------+----------------+--------+-------+-----------+---------+--------------------+----------+--------+--------------------+--------------------+--------------------+--------------------+-----+-------+----+-----------------+-------------------+-------+\n",
      "only showing top 20 rows\n",
      "\n"
     ]
    }
   ],
   "source": [
    "works_au_af_subset.show()"
   ]
  },
  {
   "cell_type": "code",
   "execution_count": 8,
   "id": "ef75da3c-1215-4438-87b7-9834cabdbcb5",
   "metadata": {},
   "outputs": [],
   "source": [
    "au_inst_period = (works_au_af_subset\n",
    "                    .groupBy('author_id','inst_id',func.col('publication_year').alias('year'))\n",
    "                    .agg(func.countDistinct('work_id').alias('n_works'),\n",
    "                        func.first('parent').alias('parent'), func.first('country').alias('country'),\n",
    "                        func.first('entry_year').alias('entry_year'))\n",
    "                    .withColumn('n_appearances', func.collect_set(func.struct(func.col('year').alias('year'),\n",
    "                                                                            func.col('n_works').alias('n_works'))).over(Window.partitionBy('author_id', 'inst_id')))\n",
    "                    \n",
    "                    .withColumn('n_appearances', func.array_compact(func.transform(func.col('n_appearances'), \n",
    "                                                      lambda x: func.when( (x.year >= func.col('year')-5) & (x.year <= func.col('year')+5), x.n_works.cast('int')))))\n",
    "                    .withColumn('n_appearances', func.aggregate(func.col('n_appearances'), func.lit(0), lambda acc, x: acc + x))\n",
    "                    .withColumn('n_appearances_ctry', func.sum('n_works').over(Window.partitionBy('author_id','country')))\n",
    "                    \n",
    "                    #.withColumn('parent', func.regexp_replace(func.col('parent'), '\\}\\,\\{','\\}\\;\\{'))\n",
    "                    #.withColumn('parent', func.regexp_replace(func.col('parent'), '\\[',''))\n",
    "                    #.withColumn('parent', func.regexp_replace(func.col('parent'), '\\]',''))\n",
    "                    #.withColumn('parent', func.when(func.col('parent').contains(';'), func.split(func.col('parent'), ';'))\n",
    "                    #            .otherwise(func.array(func.col('parent'))))\n",
    "                    #.withColumn('parent', func.transform(func.col('parent'), lambda x: func.from_json(x, func.schema_of_json('{\"parent_id\":\"\",\"parent_name\":\"\",\"parent_type\":\"\"}'))))\n",
    "                    .withColumn('parent', func.array_compact(func.transform(func.col('parent'), lambda x : func.when(x.parent_id != func.col('inst_id'), x))))\n",
    "                    .withColumn('all_parent_ids', func.array_compact(func.transform(func.array_distinct(func.flatten(func.collect_set(func.col('parent.parent_id')).over(Window.partitionBy('year')))), lambda x: func.regexp_replace(x, 'https://openalex.org/', ''))))\n",
    "                    .withColumn('test_drop', (func.array_contains(func.col('all_parent_ids'), func.col('inst_id'))).cast('int'))\n",
    "                    .filter( (func.col('test_drop')==0) | (func.col('test_drop').isNull()))  \n",
    "                    .withColumn('inst_id', func.when(  ((func.col('n_appearances')>1) & (func.col('n_appearances_ctry') >1) )\n",
    "                                                     | (func.col('year') == func.col('entry_year'))\n",
    "                                                       , func.col('inst_id')))\n",
    "                    .withColumn('inst_id', func.when(func.col('inst_id').isNull(), func.last(func.col('inst_id'), ignorenulls = True).over(Window.partitionBy('author_id','year'))).otherwise(func.col('inst_id')))\n",
    "                    .select('author_id','inst_id','year','country')\n",
    "                    )"
   ]
  },
  {
   "cell_type": "code",
   "execution_count": 9,
   "id": "9d6b5c59-a115-4257-9793-a3bf4a7df2a6",
   "metadata": {
    "scrolled": true
   },
   "outputs": [
    {
     "name": "stderr",
     "output_type": "stream",
     "text": [
      "ERROR:root:Exception while sending command.\n",
      "Traceback (most recent call last):\n",
      "  File \"C:\\Users\\rapha\\anaconda3\\Lib\\site-packages\\IPython\\core\\interactiveshell.py\", line 3553, in run_code\n",
      "    exec(code_obj, self.user_global_ns, self.user_ns)\n",
      "  File \"C:\\Users\\rapha\\AppData\\Local\\Temp\\ipykernel_18448\\892771206.py\", line 2, in <module>\n",
      "    au_inst_period.show()\n",
      "  File \"C:\\Users\\rapha\\anaconda3\\Lib\\site-packages\\pyspark\\sql\\dataframe.py\", line 945, in show\n",
      "    print(self._show_string(n, truncate, vertical))\n",
      "          ^^^^^^^^^^^^^^^^^^^^^^^^^^^^^^^^^^^^^^^^\n",
      "  File \"C:\\Users\\rapha\\anaconda3\\Lib\\site-packages\\pyspark\\sql\\dataframe.py\", line 963, in _show_string\n",
      "    return self._jdf.showString(n, 20, vertical)\n",
      "           ^^^^^^^^^^^^^^^^^^^^^^^^^^^^^^^^^^^^^\n",
      "  File \"C:\\Users\\rapha\\anaconda3\\Lib\\site-packages\\py4j\\java_gateway.py\", line 1322, in __call__\n",
      "    return_value = get_return_value(\n",
      "                   ^^^^^^^^^^^^^^^^^\n",
      "  File \"C:\\Users\\rapha\\anaconda3\\Lib\\site-packages\\pyspark\\errors\\exceptions\\captured.py\", line 179, in deco\n",
      "    return f(*a, **kw)\n",
      "           ^^^^^^^^^^^\n",
      "  File \"C:\\Users\\rapha\\anaconda3\\Lib\\site-packages\\py4j\\protocol.py\", line 326, in get_return_value\n",
      "    raise Py4JJavaError(\n",
      "py4j.protocol.Py4JJavaError: <exception str() failed>\n",
      "\n",
      "During handling of the above exception, another exception occurred:\n",
      "\n",
      "Traceback (most recent call last):\n",
      "  File \"C:\\Users\\rapha\\anaconda3\\Lib\\site-packages\\py4j\\clientserver.py\", line 511, in send_command\n",
      "    answer = smart_decode(self.stream.readline()[:-1])\n",
      "                          ^^^^^^^^^^^^^^^^^^^^^^\n",
      "  File \"C:\\Users\\rapha\\anaconda3\\Lib\\socket.py\", line 706, in readinto\n",
      "    return self._sock.recv_into(b)\n",
      "           ^^^^^^^^^^^^^^^^^^^^^^^\n",
      "ConnectionResetError: [WinError 10054] Une connexion existante a dû être fermée par l’hôte distant\n",
      "\n",
      "During handling of the above exception, another exception occurred:\n",
      "\n",
      "Traceback (most recent call last):\n",
      "  File \"C:\\Users\\rapha\\anaconda3\\Lib\\site-packages\\py4j\\java_gateway.py\", line 1038, in send_command\n",
      "    response = connection.send_command(command)\n",
      "               ^^^^^^^^^^^^^^^^^^^^^^^^^^^^^^^^\n",
      "  File \"C:\\Users\\rapha\\anaconda3\\Lib\\site-packages\\py4j\\clientserver.py\", line 539, in send_command\n",
      "    raise Py4JNetworkError(\n",
      "py4j.protocol.Py4JNetworkError: Error while sending or receiving\n"
     ]
    },
    {
     "ename": "ConnectionRefusedError",
     "evalue": "[WinError 10061] Aucune connexion n’a pu être établie car l’ordinateur cible l’a expressément refusée",
     "output_type": "error",
     "traceback": [
      "\u001b[1;31m---------------------------------------------------------------------------\u001b[0m",
      "\u001b[1;31mPy4JJavaError\u001b[0m                             Traceback (most recent call last)",
      "    \u001b[1;31m[... skipping hidden 1 frame]\u001b[0m\n",
      "Cell \u001b[1;32mIn[9], line 2\u001b[0m\n\u001b[0;32m      1\u001b[0m au_inst_period\u001b[38;5;241m.\u001b[39mcache()\n\u001b[1;32m----> 2\u001b[0m au_inst_period\u001b[38;5;241m.\u001b[39mshow()\n",
      "File \u001b[1;32m~\\anaconda3\\Lib\\site-packages\\pyspark\\sql\\dataframe.py:945\u001b[0m, in \u001b[0;36mDataFrame.show\u001b[1;34m(self, n, truncate, vertical)\u001b[0m\n\u001b[0;32m    886\u001b[0m \u001b[38;5;250m\u001b[39m\u001b[38;5;124;03m\"\"\"Prints the first ``n`` rows to the console.\u001b[39;00m\n\u001b[0;32m    887\u001b[0m \n\u001b[0;32m    888\u001b[0m \u001b[38;5;124;03m.. versionadded:: 1.3.0\u001b[39;00m\n\u001b[1;32m   (...)\u001b[0m\n\u001b[0;32m    943\u001b[0m \u001b[38;5;124;03mname | Bob\u001b[39;00m\n\u001b[0;32m    944\u001b[0m \u001b[38;5;124;03m\"\"\"\u001b[39;00m\n\u001b[1;32m--> 945\u001b[0m \u001b[38;5;28mprint\u001b[39m(\u001b[38;5;28mself\u001b[39m\u001b[38;5;241m.\u001b[39m_show_string(n, truncate, vertical))\n",
      "File \u001b[1;32m~\\anaconda3\\Lib\\site-packages\\pyspark\\sql\\dataframe.py:963\u001b[0m, in \u001b[0;36mDataFrame._show_string\u001b[1;34m(self, n, truncate, vertical)\u001b[0m\n\u001b[0;32m    962\u001b[0m \u001b[38;5;28;01mif\u001b[39;00m \u001b[38;5;28misinstance\u001b[39m(truncate, \u001b[38;5;28mbool\u001b[39m) \u001b[38;5;129;01mand\u001b[39;00m truncate:\n\u001b[1;32m--> 963\u001b[0m     \u001b[38;5;28;01mreturn\u001b[39;00m \u001b[38;5;28mself\u001b[39m\u001b[38;5;241m.\u001b[39m_jdf\u001b[38;5;241m.\u001b[39mshowString(n, \u001b[38;5;241m20\u001b[39m, vertical)\n\u001b[0;32m    964\u001b[0m \u001b[38;5;28;01melse\u001b[39;00m:\n",
      "File \u001b[1;32m~\\anaconda3\\Lib\\site-packages\\py4j\\java_gateway.py:1322\u001b[0m, in \u001b[0;36mJavaMember.__call__\u001b[1;34m(self, *args)\u001b[0m\n\u001b[0;32m   1321\u001b[0m answer \u001b[38;5;241m=\u001b[39m \u001b[38;5;28mself\u001b[39m\u001b[38;5;241m.\u001b[39mgateway_client\u001b[38;5;241m.\u001b[39msend_command(command)\n\u001b[1;32m-> 1322\u001b[0m return_value \u001b[38;5;241m=\u001b[39m get_return_value(\n\u001b[0;32m   1323\u001b[0m     answer, \u001b[38;5;28mself\u001b[39m\u001b[38;5;241m.\u001b[39mgateway_client, \u001b[38;5;28mself\u001b[39m\u001b[38;5;241m.\u001b[39mtarget_id, \u001b[38;5;28mself\u001b[39m\u001b[38;5;241m.\u001b[39mname)\n\u001b[0;32m   1325\u001b[0m \u001b[38;5;28;01mfor\u001b[39;00m temp_arg \u001b[38;5;129;01min\u001b[39;00m temp_args:\n",
      "File \u001b[1;32m~\\anaconda3\\Lib\\site-packages\\pyspark\\errors\\exceptions\\captured.py:179\u001b[0m, in \u001b[0;36mcapture_sql_exception.<locals>.deco\u001b[1;34m(*a, **kw)\u001b[0m\n\u001b[0;32m    178\u001b[0m \u001b[38;5;28;01mtry\u001b[39;00m:\n\u001b[1;32m--> 179\u001b[0m     \u001b[38;5;28;01mreturn\u001b[39;00m f(\u001b[38;5;241m*\u001b[39ma, \u001b[38;5;241m*\u001b[39m\u001b[38;5;241m*\u001b[39mkw)\n\u001b[0;32m    180\u001b[0m \u001b[38;5;28;01mexcept\u001b[39;00m Py4JJavaError \u001b[38;5;28;01mas\u001b[39;00m e:\n",
      "File \u001b[1;32m~\\anaconda3\\Lib\\site-packages\\py4j\\protocol.py:326\u001b[0m, in \u001b[0;36mget_return_value\u001b[1;34m(answer, gateway_client, target_id, name)\u001b[0m\n\u001b[0;32m    325\u001b[0m \u001b[38;5;28;01mif\u001b[39;00m answer[\u001b[38;5;241m1\u001b[39m] \u001b[38;5;241m==\u001b[39m REFERENCE_TYPE:\n\u001b[1;32m--> 326\u001b[0m     \u001b[38;5;28;01mraise\u001b[39;00m Py4JJavaError(\n\u001b[0;32m    327\u001b[0m         \u001b[38;5;124m\"\u001b[39m\u001b[38;5;124mAn error occurred while calling \u001b[39m\u001b[38;5;132;01m{0}\u001b[39;00m\u001b[38;5;132;01m{1}\u001b[39;00m\u001b[38;5;132;01m{2}\u001b[39;00m\u001b[38;5;124m.\u001b[39m\u001b[38;5;130;01m\\n\u001b[39;00m\u001b[38;5;124m\"\u001b[39m\u001b[38;5;241m.\u001b[39m\n\u001b[0;32m    328\u001b[0m         \u001b[38;5;28mformat\u001b[39m(target_id, \u001b[38;5;124m\"\u001b[39m\u001b[38;5;124m.\u001b[39m\u001b[38;5;124m\"\u001b[39m, name), value)\n\u001b[0;32m    329\u001b[0m \u001b[38;5;28;01melse\u001b[39;00m:\n",
      "\u001b[1;31m<class 'str'>\u001b[0m: (<class 'ConnectionRefusedError'>, ConnectionRefusedError(10061, 'Aucune connexion n’a pu être établie car l’ordinateur cible l’a expressément refusée', None, 10061, None))",
      "\nDuring handling of the above exception, another exception occurred:\n",
      "\u001b[1;31mConnectionRefusedError\u001b[0m                    Traceback (most recent call last)",
      "    \u001b[1;31m[... skipping hidden 1 frame]\u001b[0m\n",
      "File \u001b[1;32m~\\anaconda3\\Lib\\site-packages\\IPython\\core\\interactiveshell.py:2155\u001b[0m, in \u001b[0;36mInteractiveShell.showtraceback\u001b[1;34m(self, exc_tuple, filename, tb_offset, exception_only, running_compiled_code)\u001b[0m\n\u001b[0;32m   2152\u001b[0m         traceback\u001b[38;5;241m.\u001b[39mprint_exc()\n\u001b[0;32m   2153\u001b[0m         \u001b[38;5;28;01mreturn\u001b[39;00m \u001b[38;5;28;01mNone\u001b[39;00m\n\u001b[1;32m-> 2155\u001b[0m     \u001b[38;5;28mself\u001b[39m\u001b[38;5;241m.\u001b[39m_showtraceback(etype, value, stb)\n\u001b[0;32m   2156\u001b[0m \u001b[38;5;28;01mif\u001b[39;00m \u001b[38;5;28mself\u001b[39m\u001b[38;5;241m.\u001b[39mcall_pdb:\n\u001b[0;32m   2157\u001b[0m     \u001b[38;5;66;03m# drop into debugger\u001b[39;00m\n\u001b[0;32m   2158\u001b[0m     \u001b[38;5;28mself\u001b[39m\u001b[38;5;241m.\u001b[39mdebugger(force\u001b[38;5;241m=\u001b[39m\u001b[38;5;28;01mTrue\u001b[39;00m)\n",
      "File \u001b[1;32m~\\anaconda3\\Lib\\site-packages\\ipykernel\\zmqshell.py:559\u001b[0m, in \u001b[0;36mZMQInteractiveShell._showtraceback\u001b[1;34m(self, etype, evalue, stb)\u001b[0m\n\u001b[0;32m    553\u001b[0m sys\u001b[38;5;241m.\u001b[39mstdout\u001b[38;5;241m.\u001b[39mflush()\n\u001b[0;32m    554\u001b[0m sys\u001b[38;5;241m.\u001b[39mstderr\u001b[38;5;241m.\u001b[39mflush()\n\u001b[0;32m    556\u001b[0m exc_content \u001b[38;5;241m=\u001b[39m {\n\u001b[0;32m    557\u001b[0m     \u001b[38;5;124m\"\u001b[39m\u001b[38;5;124mtraceback\u001b[39m\u001b[38;5;124m\"\u001b[39m: stb,\n\u001b[0;32m    558\u001b[0m     \u001b[38;5;124m\"\u001b[39m\u001b[38;5;124mename\u001b[39m\u001b[38;5;124m\"\u001b[39m: \u001b[38;5;28mstr\u001b[39m(etype\u001b[38;5;241m.\u001b[39m\u001b[38;5;18m__name__\u001b[39m),\n\u001b[1;32m--> 559\u001b[0m     \u001b[38;5;124m\"\u001b[39m\u001b[38;5;124mevalue\u001b[39m\u001b[38;5;124m\"\u001b[39m: \u001b[38;5;28mstr\u001b[39m(evalue),\n\u001b[0;32m    560\u001b[0m }\n\u001b[0;32m    562\u001b[0m dh \u001b[38;5;241m=\u001b[39m \u001b[38;5;28mself\u001b[39m\u001b[38;5;241m.\u001b[39mdisplayhook\n\u001b[0;32m    563\u001b[0m \u001b[38;5;66;03m# Send exception info over pub socket for other clients than the caller\u001b[39;00m\n\u001b[0;32m    564\u001b[0m \u001b[38;5;66;03m# to pick up\u001b[39;00m\n",
      "File \u001b[1;32m~\\anaconda3\\Lib\\site-packages\\py4j\\protocol.py:471\u001b[0m, in \u001b[0;36mPy4JJavaError.__str__\u001b[1;34m(self)\u001b[0m\n\u001b[0;32m    469\u001b[0m \u001b[38;5;28;01mdef\u001b[39;00m \u001b[38;5;21m__str__\u001b[39m(\u001b[38;5;28mself\u001b[39m):\n\u001b[0;32m    470\u001b[0m     gateway_client \u001b[38;5;241m=\u001b[39m \u001b[38;5;28mself\u001b[39m\u001b[38;5;241m.\u001b[39mjava_exception\u001b[38;5;241m.\u001b[39m_gateway_client\n\u001b[1;32m--> 471\u001b[0m     answer \u001b[38;5;241m=\u001b[39m gateway_client\u001b[38;5;241m.\u001b[39msend_command(\u001b[38;5;28mself\u001b[39m\u001b[38;5;241m.\u001b[39mexception_cmd)\n\u001b[0;32m    472\u001b[0m     return_value \u001b[38;5;241m=\u001b[39m get_return_value(answer, gateway_client, \u001b[38;5;28;01mNone\u001b[39;00m, \u001b[38;5;28;01mNone\u001b[39;00m)\n\u001b[0;32m    473\u001b[0m     \u001b[38;5;66;03m# Note: technically this should return a bytestring 'str' rather than\u001b[39;00m\n\u001b[0;32m    474\u001b[0m     \u001b[38;5;66;03m# unicodes in Python 2; however, it can return unicodes for now.\u001b[39;00m\n\u001b[0;32m    475\u001b[0m     \u001b[38;5;66;03m# See https://github.com/bartdag/py4j/issues/306 for more details.\u001b[39;00m\n",
      "File \u001b[1;32m~\\anaconda3\\Lib\\site-packages\\py4j\\java_gateway.py:1036\u001b[0m, in \u001b[0;36mGatewayClient.send_command\u001b[1;34m(self, command, retry, binary)\u001b[0m\n\u001b[0;32m   1015\u001b[0m \u001b[38;5;28;01mdef\u001b[39;00m \u001b[38;5;21msend_command\u001b[39m(\u001b[38;5;28mself\u001b[39m, command, retry\u001b[38;5;241m=\u001b[39m\u001b[38;5;28;01mTrue\u001b[39;00m, binary\u001b[38;5;241m=\u001b[39m\u001b[38;5;28;01mFalse\u001b[39;00m):\n\u001b[0;32m   1016\u001b[0m \u001b[38;5;250m    \u001b[39m\u001b[38;5;124;03m\"\"\"Sends a command to the JVM. This method is not intended to be\u001b[39;00m\n\u001b[0;32m   1017\u001b[0m \u001b[38;5;124;03m       called directly by Py4J users. It is usually called by\u001b[39;00m\n\u001b[0;32m   1018\u001b[0m \u001b[38;5;124;03m       :class:`JavaMember` instances.\u001b[39;00m\n\u001b[1;32m   (...)\u001b[0m\n\u001b[0;32m   1034\u001b[0m \u001b[38;5;124;03m     if `binary` is `True`.\u001b[39;00m\n\u001b[0;32m   1035\u001b[0m \u001b[38;5;124;03m    \"\"\"\u001b[39;00m\n\u001b[1;32m-> 1036\u001b[0m     connection \u001b[38;5;241m=\u001b[39m \u001b[38;5;28mself\u001b[39m\u001b[38;5;241m.\u001b[39m_get_connection()\n\u001b[0;32m   1037\u001b[0m     \u001b[38;5;28;01mtry\u001b[39;00m:\n\u001b[0;32m   1038\u001b[0m         response \u001b[38;5;241m=\u001b[39m connection\u001b[38;5;241m.\u001b[39msend_command(command)\n",
      "File \u001b[1;32m~\\anaconda3\\Lib\\site-packages\\py4j\\clientserver.py:284\u001b[0m, in \u001b[0;36mJavaClient._get_connection\u001b[1;34m(self)\u001b[0m\n\u001b[0;32m    281\u001b[0m     \u001b[38;5;28;01mpass\u001b[39;00m\n\u001b[0;32m    283\u001b[0m \u001b[38;5;28;01mif\u001b[39;00m connection \u001b[38;5;129;01mis\u001b[39;00m \u001b[38;5;28;01mNone\u001b[39;00m \u001b[38;5;129;01mor\u001b[39;00m connection\u001b[38;5;241m.\u001b[39msocket \u001b[38;5;129;01mis\u001b[39;00m \u001b[38;5;28;01mNone\u001b[39;00m:\n\u001b[1;32m--> 284\u001b[0m     connection \u001b[38;5;241m=\u001b[39m \u001b[38;5;28mself\u001b[39m\u001b[38;5;241m.\u001b[39m_create_new_connection()\n\u001b[0;32m    285\u001b[0m \u001b[38;5;28;01mreturn\u001b[39;00m connection\n",
      "File \u001b[1;32m~\\anaconda3\\Lib\\site-packages\\py4j\\clientserver.py:291\u001b[0m, in \u001b[0;36mJavaClient._create_new_connection\u001b[1;34m(self)\u001b[0m\n\u001b[0;32m    287\u001b[0m \u001b[38;5;28;01mdef\u001b[39;00m \u001b[38;5;21m_create_new_connection\u001b[39m(\u001b[38;5;28mself\u001b[39m):\n\u001b[0;32m    288\u001b[0m     connection \u001b[38;5;241m=\u001b[39m ClientServerConnection(\n\u001b[0;32m    289\u001b[0m         \u001b[38;5;28mself\u001b[39m\u001b[38;5;241m.\u001b[39mjava_parameters, \u001b[38;5;28mself\u001b[39m\u001b[38;5;241m.\u001b[39mpython_parameters,\n\u001b[0;32m    290\u001b[0m         \u001b[38;5;28mself\u001b[39m\u001b[38;5;241m.\u001b[39mgateway_property, \u001b[38;5;28mself\u001b[39m)\n\u001b[1;32m--> 291\u001b[0m     connection\u001b[38;5;241m.\u001b[39mconnect_to_java_server()\n\u001b[0;32m    292\u001b[0m     \u001b[38;5;28mself\u001b[39m\u001b[38;5;241m.\u001b[39mset_thread_connection(connection)\n\u001b[0;32m    293\u001b[0m     \u001b[38;5;28;01mreturn\u001b[39;00m connection\n",
      "File \u001b[1;32m~\\anaconda3\\Lib\\site-packages\\py4j\\clientserver.py:438\u001b[0m, in \u001b[0;36mClientServerConnection.connect_to_java_server\u001b[1;34m(self)\u001b[0m\n\u001b[0;32m    435\u001b[0m \u001b[38;5;28;01mif\u001b[39;00m \u001b[38;5;28mself\u001b[39m\u001b[38;5;241m.\u001b[39mssl_context:\n\u001b[0;32m    436\u001b[0m     \u001b[38;5;28mself\u001b[39m\u001b[38;5;241m.\u001b[39msocket \u001b[38;5;241m=\u001b[39m \u001b[38;5;28mself\u001b[39m\u001b[38;5;241m.\u001b[39mssl_context\u001b[38;5;241m.\u001b[39mwrap_socket(\n\u001b[0;32m    437\u001b[0m         \u001b[38;5;28mself\u001b[39m\u001b[38;5;241m.\u001b[39msocket, server_hostname\u001b[38;5;241m=\u001b[39m\u001b[38;5;28mself\u001b[39m\u001b[38;5;241m.\u001b[39mjava_address)\n\u001b[1;32m--> 438\u001b[0m \u001b[38;5;28mself\u001b[39m\u001b[38;5;241m.\u001b[39msocket\u001b[38;5;241m.\u001b[39mconnect((\u001b[38;5;28mself\u001b[39m\u001b[38;5;241m.\u001b[39mjava_address, \u001b[38;5;28mself\u001b[39m\u001b[38;5;241m.\u001b[39mjava_port))\n\u001b[0;32m    439\u001b[0m \u001b[38;5;28mself\u001b[39m\u001b[38;5;241m.\u001b[39mstream \u001b[38;5;241m=\u001b[39m \u001b[38;5;28mself\u001b[39m\u001b[38;5;241m.\u001b[39msocket\u001b[38;5;241m.\u001b[39mmakefile(\u001b[38;5;124m\"\u001b[39m\u001b[38;5;124mrb\u001b[39m\u001b[38;5;124m\"\u001b[39m)\n\u001b[0;32m    440\u001b[0m \u001b[38;5;28mself\u001b[39m\u001b[38;5;241m.\u001b[39mis_connected \u001b[38;5;241m=\u001b[39m \u001b[38;5;28;01mTrue\u001b[39;00m\n",
      "\u001b[1;31mConnectionRefusedError\u001b[0m: [WinError 10061] Aucune connexion n’a pu être établie car l’ordinateur cible l’a expressément refusée"
     ]
    }
   ],
   "source": [
    "au_inst_period.cache()\n",
    "au_inst_period.show()"
   ]
  },
  {
   "cell_type": "code",
   "execution_count": null,
   "id": "86c053b7-02dc-4405-9c43-029d87c75825",
   "metadata": {},
   "outputs": [],
   "source": [
    "au_inst_period.count()"
   ]
  },
  {
   "cell_type": "code",
   "execution_count": 44,
   "id": "b7896bcf-0fbf-44df-9cdd-86da21592085",
   "metadata": {},
   "outputs": [],
   "source": [
    "au_inst_period = (au_inst_period\n",
    "                 .withColumn('new_inst_period', func.when((func.lag('year').over(Window.partitionBy('author_id','inst_id').orderBy('year')).isNull())\n",
    "                                                            | (func.lag('year').over(Window.partitionBy('author_id','inst_id').orderBy('year')) == func.col('year')-1\n",
    "                                                               ), 0)\n",
    "                                                      .otherwise(1))\n",
    "                  .withColumn('period_inst',1+ func.sum(func.col('new_inst_period')).over(Window.partitionBy(\"author_id\", \"inst_id\").orderBy('year')))    \n",
    "                 )\n",
    "#au_inst_period.cache()\n",
    "#au_inst_period.show()"
   ]
  },
  {
   "cell_type": "code",
   "execution_count": 45,
   "id": "494fa040-c61c-44e3-8906-11b0905a8fea",
   "metadata": {},
   "outputs": [],
   "source": [
    "au_inst_period = (au_inst_period\n",
    "                  .select(*au_inst_period.columns,\n",
    "                          (func.max(func.col('year')).over(Window.partitionBy('period_inst','inst_id','author_id'))).alias('last_y_inst_period'),\n",
    "                          (func.min(func.col('year')).over(Window.partitionBy('period_inst','inst_id','author_id'))).alias('first_y_inst_period'),\n",
    "                          func.size(func.collect_set('inst_id').over(Window.partitionBy('year','author_id'))).alias('n_inst_y')\n",
    "                         )\n",
    "                 )\n",
    "#au_inst_period.cache()\n",
    "#au_inst_period.show()"
   ]
  },
  {
   "cell_type": "code",
   "execution_count": 46,
   "id": "5ea829dc-1ff3-4f56-b904-e474f94c083c",
   "metadata": {},
   "outputs": [
    {
     "name": "stdout",
     "output_type": "stream",
     "text": [
      "+-----------+----+-----------+--------------------+------------------+\n",
      "|  source_id|year|source_type|     rank_source_pct|   abs_rank_source|\n",
      "+-----------+----+-----------+--------------------+------------------+\n",
      "| S100014387|2014|    journal|  0.9673077009503904| 407.3062015503876|\n",
      "| S100016587|1997|    journal|  0.6246648793565683|            1379.0|\n",
      "|S1000263748|2012|    journal|  0.8371196475285695|            2343.0|\n",
      "| S100028386|1995|    journal|  0.7268862911795961|             256.0|\n",
      "| S100045985|1972|    journal|  0.8776194467728415|             146.0|\n",
      "| S100062655|2021|    journal|                 0.0|               1.0|\n",
      "|S1000839972|2015|    journal|  0.8853067047075607|             401.0|\n",
      "|S1000944648|2012|    journal|  0.4543330087633885|            2603.0|\n",
      "| S100105777|1991|    journal|  0.5352664576802508|             549.0|\n",
      "| S100105777|2010|    journal| 0.48626549156502025| 4091.909090909091|\n",
      "|S1001192252|2011|    journal|0.030941856511390683|            5374.0|\n",
      "|  S10012645|2018|    journal|  0.9472974996256924|             704.0|\n",
      "| S100126920|2016|    journal|  0.7600129407958589|            3701.0|\n",
      "| S100134864|1985|    journal|  0.2925413130861992|            1491.0|\n",
      "| S100134864|2008|    journal|  0.9796550440238073|134.44897959183672|\n",
      "| S100140721|2013|    journal|  0.7984624090435979|1164.3703703703702|\n",
      "| S100141054|2006|    journal| 0.25001966753845034| 4443.333333333333|\n",
      "| S100141487|1973|    journal| 0.29298321839505487|             512.5|\n",
      "| S100141487|1983|    journal|  0.5727411944869831|             269.0|\n",
      "| S100141487|2003|    journal|  0.8322158177404422| 797.7058823529412|\n",
      "+-----------+----+-----------+--------------------+------------------+\n",
      "only showing top 20 rows\n",
      "\n"
     ]
    }
   ],
   "source": [
    "journals_ranking = (spark.read.format('parquet').load('file:\\\\' + main_path_openalex + 'journals_ranking_year.parquet')\n",
    "                    .withColumn('source_id', func.regexp_replace(func.col('source_id'), 'https://openalex.org/', ''))\n",
    "                   )\n",
    "journals_ranking.show()"
   ]
  },
  {
   "cell_type": "code",
   "execution_count": 47,
   "id": "b6d671b7-e5af-44d5-85cf-517962515b0c",
   "metadata": {},
   "outputs": [],
   "source": [
    "au_pub_y = (works_au_af_subset\n",
    "            .withColumnRenamed('publication_year','year')\n",
    "            .join(journals_ranking, on = ['source_id','year'], how = 'left')\n",
    "            .select('author_id','work_id', 'year','citations','rank_source_pct')\n",
    "            .distinct()\n",
    "            .groupBy('author_id','year')\n",
    "            .agg(func.countDistinct('work_id').alias('publications_raw'),\n",
    "                 func.sum(func.col('citations')).alias('citations_raw'),\n",
    "\n",
    "                 func.mean('rank_source_pct').alias('avg_rank_source_raw'),\n",
    "                 func.sum((func.col('rank_source_pct')<= 0.5).cast('int')).alias('nr_source_btm_50pct_raw'),\n",
    "                 func.sum((func.col('rank_source_pct').between(0.5,0.9)).cast('int')).alias('nr_source_mid_40pct_raw'),\n",
    "                 func.sum((func.col('rank_source_pct')>= 0.8).cast('int')).alias('nr_source_top_20pct_raw'),\n",
    "                 func.sum((func.col('rank_source_pct')>= 0.9).cast('int')).alias('nr_source_top_10pct_raw'),\n",
    "                 func.sum((func.col('rank_source_pct')>= 0.95).cast('int')).alias('nr_source_top_5pct_raw'),\n",
    "\n",
    "                \n",
    "                )\n",
    "           )"
   ]
  },
  {
   "cell_type": "code",
   "execution_count": 50,
   "id": "8e8729ca-b589-4e32-8eaa-dba48a04cc07",
   "metadata": {
    "scrolled": true
   },
   "outputs": [
    {
     "name": "stdout",
     "output_type": "stream",
     "text": [
      "root\n",
      " |-- author_id: string (nullable = true)\n",
      " |-- inst_id: string (nullable = true)\n",
      " |-- year: integer (nullable = true)\n",
      " |-- new_inst_period: integer (nullable = false)\n",
      " |-- period_inst: long (nullable = true)\n",
      " |-- last_y_inst_period: integer (nullable = true)\n",
      " |-- first_y_inst_period: integer (nullable = true)\n",
      " |-- n_inst_y: integer (nullable = false)\n",
      " |-- publications_raw: long (nullable = true)\n",
      " |-- citations_raw: long (nullable = true)\n",
      " |-- avg_rank_source_raw: double (nullable = true)\n",
      " |-- nr_source_btm_50pct_raw: long (nullable = true)\n",
      " |-- nr_source_mid_40pct_raw: long (nullable = true)\n",
      " |-- nr_source_top_20pct_raw: long (nullable = true)\n",
      " |-- nr_source_top_10pct_raw: long (nullable = true)\n",
      " |-- nr_source_top_5pct_raw: long (nullable = true)\n",
      " |-- publications: double (nullable = true)\n",
      " |-- citations: double (nullable = true)\n",
      " |-- name: string (nullable = true)\n",
      " |-- type: string (nullable = true)\n",
      " |-- city: string (nullable = true)\n",
      " |-- homepage_url: string (nullable = true)\n",
      " |-- topic_share: array (nullable = true)\n",
      " |    |-- element: struct (containsNull = true)\n",
      " |    |    |-- field: string (nullable = true)\n",
      " |    |    |-- share: double (nullable = true)\n",
      " |-- main_topic: string (nullable = true)\n",
      " |-- parent: array (nullable = true)\n",
      " |    |-- element: struct (containsNull = true)\n",
      " |    |    |-- parent_id: string (nullable = true)\n",
      " |    |    |-- parent_name: string (nullable = true)\n",
      " |    |    |-- parent_type: string (nullable = true)\n",
      " |-- fused: integer (nullable = true)\n",
      " |-- uni_pub: integer (nullable = true)\n",
      " |-- cnrs: integer (nullable = true)\n",
      " |-- idex: string (nullable = true)\n",
      " |-- type_fr: string (nullable = true)\n",
      " |-- secteur: string (nullable = true)\n",
      " |-- universite: integer (nullable = true)\n",
      " |-- ecole: integer (nullable = true)\n",
      " |-- public: integer (nullable = true)\n",
      " |-- prive: integer (nullable = true)\n",
      " |-- entry_year: integer (nullable = true)\n",
      " |-- last_year: integer (nullable = true)\n",
      " |-- all_y_in_FR: long (nullable = true)\n",
      " |-- years_abroad: long (nullable = true)\n",
      " |-- main_field: string (nullable = true)\n",
      " |-- author_name: string (nullable = true)\n",
      " |-- entry_cohort: double (nullable = true)\n",
      "\n"
     ]
    }
   ],
   "source": [
    "au_inst_period = (au_inst_period\n",
    "                  .join(au_pub_y, on = ['author_id','year'], how = 'left')\n",
    "                  .withColumn('publications', func.col('publications_raw')/func.col('n_inst_y'))\n",
    "                  .withColumn('citations', func.col('citations_raw')/func.col('n_inst_y'))\n",
    "                  .join(inst.distinct()\n",
    "                        .select(*inst.columns,\n",
    "                            *[( (func.col('type_fr') == type_).cast('int')).alias(type_.lower().replace('é', 'e'))\n",
    "                             for type_ in ['Université', 'École']],\n",
    "                            *[( (func.col('secteur') == type_).cast('int')).alias(type_.lower().replace('é', 'e'))\n",
    "                             for type_ in ['public', 'privé']],\n",
    "                                \n",
    "                               ), on = ['inst_id'])\n",
    "                  .join(au_level_char, on = ['author_id'])\n",
    "                  .withColumn('entry_cohort', func.when(func.col('entry_year')>=2000, func.col('entry_year'))\n",
    "                              .otherwise(func.round(func.col('entry_year')/5)*5))\n",
    "                  #.withColumn('n_inst_id_sample', func.size(func.collect_set('inst_id').over(Window.partitionBy('author_id'))))\n",
    "                  #.withColumn('n_au_several_inst', func.size(func.collect_set(func.when(func.col('n_inst_id_sample')>1, func.col('author_id')))\n",
    "                  #                                           .over(Window.partitionBy('inst_id','main_field'))))\n",
    "                  #.withColumn('n_au_by_inst_field', func.size(func.collect_set(func.col('author_id'))\n",
    "                  #                                           .over(Window.partitionBy('inst_id','main_field'))))\n",
    "                  #.withColumn('n_by_field', func.size(func.collect_set('author_id').over(Window.partitionBy('main_field'))))\n",
    "                  #.withColumn('n_y_in_sample', func.size(func.collect_set('year').over(Window.partitionBy('author_id'))))\n",
    "                  ##.filter(func.col('year').between(2000,2020))\n",
    "                 )\n",
    "au_inst_period.printSchema()"
   ]
  },
  {
   "cell_type": "code",
   "execution_count": 51,
   "id": "4106610f-0a19-4d56-a7dd-3d53f25ab28f",
   "metadata": {
    "scrolled": true
   },
   "outputs": [],
   "source": [
    "#au_inst_period.show()"
   ]
  },
  {
   "cell_type": "code",
   "execution_count": 52,
   "id": "44abf0c9-dcc3-4fe2-80cd-a517c38ff82a",
   "metadata": {
    "scrolled": true
   },
   "outputs": [],
   "source": [
    "au_inst_period.write.mode('overwrite').parquet('file:\\\\' + save_path + 'panel_non_sphericised.parquet')"
   ]
  },
  {
   "cell_type": "code",
   "execution_count": null,
   "id": "27574471-dfb8-4e96-a25f-c722dc25e286",
   "metadata": {},
   "outputs": [],
   "source": []
  },
  {
   "cell_type": "code",
   "execution_count": 69,
   "id": "d7b87855-b6b4-49a3-830b-c491f88f1fa4",
   "metadata": {},
   "outputs": [],
   "source": [
    "spark.catalog.clearCache()"
   ]
  },
  {
   "cell_type": "code",
   "execution_count": 54,
   "id": "5d69fbdf-d11c-40d2-ba80-ef60823b36d3",
   "metadata": {},
   "outputs": [],
   "source": [
    "au_inst_period = spark.read.format('parquet').load('file:\\\\' + save_path + 'panel_non_sphericised.parquet')"
   ]
  },
  {
   "cell_type": "code",
   "execution_count": 56,
   "id": "a8c52b9c-6b7b-443e-8903-67d5ca269a9d",
   "metadata": {},
   "outputs": [
    {
     "data": {
      "text/plain": [
       "319800"
      ]
     },
     "execution_count": 56,
     "metadata": {},
     "output_type": "execute_result"
    }
   ],
   "source": [
    "au_inst_period.select('author_id').distinct().count()"
   ]
  },
  {
   "cell_type": "code",
   "execution_count": 57,
   "id": "967c3ada-9981-4947-93d7-e951c7ca2f11",
   "metadata": {
    "scrolled": true
   },
   "outputs": [
    {
     "name": "stdout",
     "output_type": "stream",
     "text": [
      "+-----------+-----------+----+---------------+-----------+------------------+-------------------+--------+----------------+-------------+-------------------+-----------------------+-----------------------+-----------------------+-----------------------+----------------------+------------+---------+--------------------+--------+-----------+--------------------+--------------------+--------------------+--------------------+-----+-------+----+-----------------+---------+---------+----------+-----+------+-----+----------+---------+-----------+------------+----------+-----------------+------------+\n",
      "|  author_id|    inst_id|year|new_inst_period|period_inst|last_y_inst_period|first_y_inst_period|n_inst_y|publications_raw|citations_raw|avg_rank_source_raw|nr_source_btm_50pct_raw|nr_source_mid_40pct_raw|nr_source_top_20pct_raw|nr_source_top_10pct_raw|nr_source_top_5pct_raw|publications|citations|                name|    type|       city|        homepage_url|         topic_share|          main_topic|              parent|fused|uni_pub|cnrs|             idex|  type_fr|  secteur|universite|ecole|public|prive|entry_year|last_year|all_y_in_FR|years_abroad|main_field|      author_name|entry_cohort|\n",
      "+-----------+-----------+----+---------------+-----------+------------------+-------------------+--------+----------------+-------------+-------------------+-----------------------+-----------------------+-----------------------+-----------------------+----------------------+------------+---------+--------------------+--------+-----------+--------------------+--------------------+--------------------+--------------------+-----+-------+----+-----------------+---------+---------+----------+-----+------+-----+----------+---------+-----------+------------+----------+-----------------+------------+\n",
      "|A5036205978|I4210149295|2006|              0|          1|              2006|               2006|       1|               1|          253| 0.7625848747365956|                      0|                      1|                      0|                      0|                     0|         1.0|    253.0|Institut Pasteur ...|facility| Les Abymes|http://www.pasteu...|[{Medicine, 0.003...|            Medicine|[{I4210149295, In...|    0|      0|   0|          no_idex|undefined|undefined|         0|    0|     0|    0|      1992|     2020|         15|          29|      agri|Fabrice Le Bellec|      1990.0|\n",
      "|A5036205978|I4210149295|2010|              1|          2|              2011|               2010|       1|               3|           58| 0.9513724161301254|                      0|                      0|                      1|                      1|                     1|         3.0|     58.0|Institut Pasteur ...|facility| Les Abymes|http://www.pasteu...|[{Medicine, 0.003...|            Medicine|[{I4210149295, In...|    0|      0|   0|          no_idex|undefined|undefined|         0|    0|     0|    0|      1992|     2020|         15|          29|      agri|Fabrice Le Bellec|      1990.0|\n",
      "|A5036205978|I4210123768|2011|              0|          1|              2011|               2011|       2|               4|          112| 0.8986527149835796|                      0|                      2|                      3|                      1|                     1|         2.0|     56.0|Fonctionnement et...|facility|Montpellier|https://umr-syste...|[{Agricultural an...|Agricultural and ...|[{I131077856, Cen...|    0|      0|   0|idex_paris_saclay|undefined|   public|         0|    0|     1|    0|      1992|     2020|         15|          29|      agri|Fabrice Le Bellec|      1990.0|\n",
      "|A5036205978|I4210149295|2011|              0|          2|              2011|               2010|       2|               4|          112| 0.8986527149835796|                      0|                      2|                      3|                      1|                     1|         2.0|     56.0|Institut Pasteur ...|facility| Les Abymes|http://www.pasteu...|[{Medicine, 0.003...|            Medicine|[{I4210149295, In...|    0|      0|   0|          no_idex|undefined|undefined|         0|    0|     0|    0|      1992|     2020|         15|          29|      agri|Fabrice Le Bellec|      1990.0|\n",
      "|A5036205978|I4210123768|2013|              1|          3|              2013|               2013|       1|               3|           69| 0.9303028813214622|                      0|                      1|                      2|                      1|                     1|         3.0|     69.0|Fonctionnement et...|facility|Montpellier|https://umr-syste...|[{Agricultural an...|Agricultural and ...|[{I131077856, Cen...|    0|      0|   0|idex_paris_saclay|undefined|   public|         0|    0|     1|    0|      1992|     2020|         15|          29|      agri|Fabrice Le Bellec|      1990.0|\n",
      "|A5036205978|I4210123768|2013|              1|          3|              2013|               2013|       1|               3|           69| 0.9303028813214622|                      0|                      1|                      2|                      1|                     1|         3.0|     69.0|Fonctionnement et...|facility|Montpellier|https://umr-syste...|[{Agricultural an...|Agricultural and ...|[{I131077856, Cen...|    0|      0|   0|idex_paris_saclay|undefined|   public|         0|    0|     1|    0|      1992|     2020|         15|          29|      agri|Fabrice Le Bellec|      1990.0|\n",
      "|A5036205978|I4210123768|2017|              1|          4|              2017|               2017|       1|               2|            9| 0.8621927954213893|                      0|                      1|                      1|                      0|                     0|         2.0|      9.0|Fonctionnement et...|facility|Montpellier|https://umr-syste...|[{Agricultural an...|Agricultural and ...|[{I131077856, Cen...|    0|      0|   0|idex_paris_saclay|undefined|   public|         0|    0|     1|    0|      1992|     2020|         15|          29|      agri|Fabrice Le Bellec|      1990.0|\n",
      "|A5036205978|I4210123768|2019|              1|          5|              2020|               2019|       1|               1|            5|   0.84618993993994|                      0|                      1|                      1|                      0|                     0|         1.0|      5.0|Fonctionnement et...|facility|Montpellier|https://umr-syste...|[{Agricultural an...|Agricultural and ...|[{I131077856, Cen...|    0|      0|   0|idex_paris_saclay|undefined|   public|         0|    0|     1|    0|      1992|     2020|         15|          29|      agri|Fabrice Le Bellec|      1990.0|\n",
      "|A5036205978|I4210123768|2020|              0|          5|              2020|               2019|       1|               1|           18| 0.9133982846198684|                      0|                      0|                      1|                      1|                     0|         1.0|     18.0|Fonctionnement et...|facility|Montpellier|https://umr-syste...|[{Agricultural an...|Agricultural and ...|[{I131077856, Cen...|    0|      0|   0|idex_paris_saclay|undefined|   public|         0|    0|     1|    0|      1992|     2020|         15|          29|      agri|Fabrice Le Bellec|      1990.0|\n",
      "+-----------+-----------+----+---------------+-----------+------------------+-------------------+--------+----------------+-------------+-------------------+-----------------------+-----------------------+-----------------------+-----------------------+----------------------+------------+---------+--------------------+--------+-----------+--------------------+--------------------+--------------------+--------------------+-----+-------+----+-----------------+---------+---------+----------+-----+------+-----+----------+---------+-----------+------------+----------+-----------------+------------+\n",
      "\n"
     ]
    }
   ],
   "source": [
    "au_inst_period.filter(func.col('author_id') =='A5036205978').sort('year').show()"
   ]
  },
  {
   "cell_type": "code",
   "execution_count": 58,
   "id": "c069ccd5-0fc2-4fa0-b207-28f54d98f81b",
   "metadata": {},
   "outputs": [
    {
     "name": "stdout",
     "output_type": "stream",
     "text": [
      "+-----------+----+\n",
      "|  author_id|year|\n",
      "+-----------+----+\n",
      "|A5036205978|2006|\n",
      "|A5036205978|2007|\n",
      "|A5036205978|2008|\n",
      "|A5036205978|2009|\n",
      "|A5036205978|2010|\n",
      "|A5036205978|2011|\n",
      "|A5036205978|2012|\n",
      "|A5036205978|2013|\n",
      "|A5036205978|2014|\n",
      "|A5036205978|2015|\n",
      "|A5036205978|2016|\n",
      "|A5036205978|2017|\n",
      "|A5036205978|2018|\n",
      "|A5036205978|2019|\n",
      "|A5036205978|2020|\n",
      "+-----------+----+\n",
      "\n"
     ]
    }
   ],
   "source": [
    "au_all_years = (au_inst_period\n",
    "                .groupBy('author_id')\n",
    "                .agg(func.min('year').alias('entry_year'), func.max('year').alias('last_year'))\n",
    "                .select('author_id',\n",
    "                        func.explode(func.sequence(func.col('entry_year'), func.col('last_year'))).alias('year')\n",
    "                       )\n",
    "               )\n",
    "au_all_years.filter(func.col('author_id') =='A5036205978').show()\n"
   ]
  },
  {
   "cell_type": "code",
   "execution_count": 59,
   "id": "db5b6006-279b-4934-b4a5-c8f0f537cb3a",
   "metadata": {
    "scrolled": true
   },
   "outputs": [],
   "source": [
    "au_period = (au_inst_period\n",
    "             .groupBy('author_id', 'year')\n",
    "             .agg(func.array_sort(  func.collect_set('inst_id')).alias('inst_set_this_year'))\n",
    "                      .withColumn('lag_inst_set_this_year', func.lag('inst_set_this_year').over(Window.partitionBy('author_id').orderBy('year')))\n",
    "                      .withColumn('new_period', (\n",
    "                          ( (func.col('lag_inst_set_this_year')!=func.col('inst_set_this_year')) | (func.col('lag_inst_set_this_year').isNull()) )\n",
    "                            ).cast('int') )\n",
    "                      .withColumn('period_total', func.sum('new_period').over(Window.partitionBy('author_id').orderBy('year')))\n",
    "                     )"
   ]
  },
  {
   "cell_type": "code",
   "execution_count": 60,
   "id": "9ea5bc1e-a041-4272-89e0-da1ceccf1c5a",
   "metadata": {
    "scrolled": true
   },
   "outputs": [
    {
     "data": {
      "text/plain": [
       "[Row(year=2006, inst_set_this_year=['I4210149295'], lag_inst_set_this_year=None, new_period=1, period_total=1),\n",
       " Row(year=2010, inst_set_this_year=['I4210149295'], lag_inst_set_this_year=['I4210149295'], new_period=0, period_total=1),\n",
       " Row(year=2011, inst_set_this_year=['I4210123768', 'I4210149295'], lag_inst_set_this_year=['I4210149295'], new_period=1, period_total=2),\n",
       " Row(year=2013, inst_set_this_year=['I4210123768'], lag_inst_set_this_year=['I4210123768', 'I4210149295'], new_period=1, period_total=3),\n",
       " Row(year=2017, inst_set_this_year=['I4210123768'], lag_inst_set_this_year=['I4210123768'], new_period=0, period_total=3),\n",
       " Row(year=2019, inst_set_this_year=['I4210123768'], lag_inst_set_this_year=['I4210123768'], new_period=0, period_total=3),\n",
       " Row(year=2020, inst_set_this_year=['I4210123768'], lag_inst_set_this_year=['I4210123768'], new_period=0, period_total=3)]"
      ]
     },
     "execution_count": 60,
     "metadata": {},
     "output_type": "execute_result"
    }
   ],
   "source": [
    "(au_period.filter(func.col('author_id') =='A5036205978')\n",
    " .select('year','inst_set_this_year','lag_inst_set_this_year', 'new_period', 'period_total')\n",
    " .sort('year','period_total')).collect()"
   ]
  },
  {
   "cell_type": "code",
   "execution_count": 61,
   "id": "fd2f4315-9989-4afd-8754-296f23953abd",
   "metadata": {},
   "outputs": [
    {
     "data": {
      "text/plain": [
       "[Row(author_id='A5036205978', year=2006, inst_set_this_year=['I4210149295'], lag_inst_set_this_year=None, new_period=1, period_total=1),\n",
       " Row(author_id='A5036205978', year=2010, inst_set_this_year=['I4210149295'], lag_inst_set_this_year=['I4210149295'], new_period=0, period_total=1),\n",
       " Row(author_id='A5036205978', year=2011, inst_set_this_year=['I4210123768', 'I4210149295'], lag_inst_set_this_year=['I4210149295'], new_period=1, period_total=2),\n",
       " Row(author_id='A5036205978', year=2013, inst_set_this_year=['I4210123768'], lag_inst_set_this_year=['I4210123768', 'I4210149295'], new_period=1, period_total=3),\n",
       " Row(author_id='A5036205978', year=2017, inst_set_this_year=['I4210123768'], lag_inst_set_this_year=['I4210123768'], new_period=0, period_total=3),\n",
       " Row(author_id='A5036205978', year=2019, inst_set_this_year=['I4210123768'], lag_inst_set_this_year=['I4210123768'], new_period=0, period_total=3),\n",
       " Row(author_id='A5036205978', year=2020, inst_set_this_year=['I4210123768'], lag_inst_set_this_year=['I4210123768'], new_period=0, period_total=3)]"
      ]
     },
     "execution_count": 61,
     "metadata": {},
     "output_type": "execute_result"
    }
   ],
   "source": [
    "au_period.filter(func.col('author_id')==\"A5036205978\").sort('year').collect()"
   ]
  },
  {
   "cell_type": "code",
   "execution_count": 62,
   "id": "2bc483d7-cc13-4384-8605-56ae7700f6a0",
   "metadata": {
    "scrolled": true
   },
   "outputs": [
    {
     "data": {
      "text/plain": [
       "[Row(author_id='A5036205978', year=2006, inst_set_this_year=['I4210149295'], period_total=1),\n",
       " Row(author_id='A5036205978', year=2007, inst_set_this_year=['I4210149295'], period_total=1),\n",
       " Row(author_id='A5036205978', year=2008, inst_set_this_year=['I4210149295'], period_total=1),\n",
       " Row(author_id='A5036205978', year=2009, inst_set_this_year=['I4210149295'], period_total=1),\n",
       " Row(author_id='A5036205978', year=2010, inst_set_this_year=['I4210149295'], period_total=1),\n",
       " Row(author_id='A5036205978', year=2011, inst_set_this_year=['I4210123768', 'I4210149295'], period_total=2),\n",
       " Row(author_id='A5036205978', year=2013, inst_set_this_year=['I4210123768'], period_total=3),\n",
       " Row(author_id='A5036205978', year=2014, inst_set_this_year=['I4210123768'], period_total=3),\n",
       " Row(author_id='A5036205978', year=2015, inst_set_this_year=['I4210123768'], period_total=3),\n",
       " Row(author_id='A5036205978', year=2016, inst_set_this_year=['I4210123768'], period_total=3),\n",
       " Row(author_id='A5036205978', year=2017, inst_set_this_year=['I4210123768'], period_total=3),\n",
       " Row(author_id='A5036205978', year=2018, inst_set_this_year=['I4210123768'], period_total=3),\n",
       " Row(author_id='A5036205978', year=2019, inst_set_this_year=['I4210123768'], period_total=3),\n",
       " Row(author_id='A5036205978', year=2020, inst_set_this_year=['I4210123768'], period_total=3)]"
      ]
     },
     "execution_count": 62,
     "metadata": {},
     "output_type": "execute_result"
    }
   ],
   "source": [
    "au_period = (au_period\n",
    "             .withColumn('duration_period', func.sequence(func.min('year').over(Window.partitionBy('author_id', 'period_total')),\n",
    "                                                          func.max('year').over(Window.partitionBy('author_id', 'period_total'))\n",
    "                                                        )\n",
    "                        )\n",
    "             .withColumn('year', func.explode(func.col('duration_period')))\n",
    "             .select('author_id', 'year', 'inst_set_this_year','period_total')\n",
    "             .distinct()\n",
    "            )\n",
    "au_period.filter(func.col('author_id')==\"A5036205978\").sort('year').collect()"
   ]
  },
  {
   "cell_type": "code",
   "execution_count": 63,
   "id": "6bedb718-1e73-4912-bdf1-53dc1b038bc0",
   "metadata": {},
   "outputs": [
    {
     "data": {
      "text/plain": [
       "[Row(author_id='A5036205978', year=2006, inst_set_this_year=['I4210149295'], period_total=1, n_inst=1),\n",
       " Row(author_id='A5036205978', year=2007, inst_set_this_year=['I4210149295'], period_total=1, n_inst=1),\n",
       " Row(author_id='A5036205978', year=2008, inst_set_this_year=['I4210149295'], period_total=1, n_inst=1),\n",
       " Row(author_id='A5036205978', year=2009, inst_set_this_year=['I4210149295'], period_total=1, n_inst=1),\n",
       " Row(author_id='A5036205978', year=2010, inst_set_this_year=['I4210149295'], period_total=1, n_inst=1),\n",
       " Row(author_id='A5036205978', year=2011, inst_set_this_year=['I4210123768', 'I4210149295'], period_total=2, n_inst=2),\n",
       " Row(author_id='A5036205978', year=2012, inst_set_this_year=['I4210123768', 'I4210149295'], period_total=2, n_inst=2),\n",
       " Row(author_id='A5036205978', year=2013, inst_set_this_year=['I4210123768'], period_total=3, n_inst=1),\n",
       " Row(author_id='A5036205978', year=2014, inst_set_this_year=['I4210123768'], period_total=3, n_inst=1),\n",
       " Row(author_id='A5036205978', year=2015, inst_set_this_year=['I4210123768'], period_total=3, n_inst=1),\n",
       " Row(author_id='A5036205978', year=2016, inst_set_this_year=['I4210123768'], period_total=3, n_inst=1),\n",
       " Row(author_id='A5036205978', year=2017, inst_set_this_year=['I4210123768'], period_total=3, n_inst=1),\n",
       " Row(author_id='A5036205978', year=2018, inst_set_this_year=['I4210123768'], period_total=3, n_inst=1),\n",
       " Row(author_id='A5036205978', year=2019, inst_set_this_year=['I4210123768'], period_total=3, n_inst=1),\n",
       " Row(author_id='A5036205978', year=2020, inst_set_this_year=['I4210123768'], period_total=3, n_inst=1)]"
      ]
     },
     "execution_count": 63,
     "metadata": {},
     "output_type": "execute_result"
    }
   ],
   "source": [
    "au_period = (au_all_years\n",
    "             .join(au_period, how = 'left', on = ['author_id','year'])\n",
    "             .withColumn('inst_set_this_year', \n",
    "                         func.when(func.col('inst_set_this_year').isNull(),\n",
    "                                   func.last(func.col('inst_set_this_year'), ignorenulls = True)\n",
    "                                   .over(Window.partitionBy('author_id').orderBy('year')))\n",
    "                         .otherwise(func.col('inst_set_this_year'))\n",
    "                        )\n",
    "             .withColumn('period_total', \n",
    "                         func.when(func.col('period_total').isNull(),\n",
    "                                   func.last(func.col('period_total'), ignorenulls = True)\n",
    "                                   .over(Window.partitionBy('author_id').orderBy('year')))\n",
    "                         .otherwise(func.col('period_total'))\n",
    "                        )\n",
    "             .withColumn('n_inst', func.size(func.col('inst_set_this_year')))\n",
    "            )\n",
    "au_period.filter(func.col('author_id')==\"A5036205978\").sort('year').collect()"
   ]
  },
  {
   "cell_type": "code",
   "execution_count": 64,
   "id": "4bdca70e-b133-4a62-af17-cd4e82db042e",
   "metadata": {
    "scrolled": true
   },
   "outputs": [
    {
     "data": {
      "text/plain": [
       "['author_id',\n",
       " 'inst_id',\n",
       " 'year',\n",
       " 'new_inst_period',\n",
       " 'period_inst',\n",
       " 'last_y_inst_period',\n",
       " 'first_y_inst_period',\n",
       " 'n_inst_y',\n",
       " 'publications_raw',\n",
       " 'citations_raw',\n",
       " 'avg_rank_source_raw',\n",
       " 'nr_source_btm_50pct_raw',\n",
       " 'nr_source_mid_40pct_raw',\n",
       " 'nr_source_top_20pct_raw',\n",
       " 'nr_source_top_10pct_raw',\n",
       " 'nr_source_top_5pct_raw',\n",
       " 'name',\n",
       " 'type',\n",
       " 'city',\n",
       " 'homepage_url',\n",
       " 'topic_share',\n",
       " 'main_topic',\n",
       " 'parent',\n",
       " 'fused',\n",
       " 'uni_pub',\n",
       " 'cnrs',\n",
       " 'idex',\n",
       " 'type_fr',\n",
       " 'secteur',\n",
       " 'universite',\n",
       " 'ecole',\n",
       " 'public',\n",
       " 'prive',\n",
       " 'entry_year',\n",
       " 'last_year',\n",
       " 'all_y_in_FR',\n",
       " 'years_abroad',\n",
       " 'main_field',\n",
       " 'author_name',\n",
       " 'entry_cohort',\n",
       " 'publications',\n",
       " 'citations',\n",
       " 'avg_rank_source',\n",
       " 'nr_source_btm_50pct',\n",
       " 'nr_source_mid_40pct',\n",
       " 'nr_source_top_20pct',\n",
       " 'nr_source_top_10pct',\n",
       " 'nr_source_top_5pct']"
      ]
     },
     "execution_count": 64,
     "metadata": {},
     "output_type": "execute_result"
    }
   ],
   "source": [
    "au_inst_period_smoothed = (au_inst_period.drop('period_total','inst_set_this_year')\n",
    "                          .join(au_period, on = ['author_id', 'year'], how = 'inner')\n",
    "                          .select(*[ col for col in au_inst_period.columns if col not in ['publications','citations'\n",
    "                                                                                         # ,\"avg_rank_source_raw\",\"nr_source_btm_50pct_raw\",\n",
    "                                                                                         # \"nr_source_mid_40pct_raw\",\"nr_source_top_20pct_raw\",\"nr_source_top_10pct_raw\",\"nr_source_top_5pct_raw\"\n",
    "                                                                                         # ,'nr_type_article','nr_type_book',\n",
    "                                                                                         #'nr_type_book-series','nr_language_en','nr_language_fr','citations_type_article'\n",
    "                                                                                         #,'citations_type_book','citations_type_book-series','citations_language_en','citations_language_fr'\n",
    "                                                                                         ]],\n",
    "                                  *[func.mean(func.col(col)/func.col('n_inst')).over(Window.partitionBy('author_id','period_total')).alias(col.replace('_raw', ''))\n",
    "                                   for col in au_inst_period.columns if col in ['publications_raw','citations_raw'\n",
    "                                                                                          ,\"avg_rank_source_raw\",\"nr_source_btm_50pct_raw\",\n",
    "                                                                                          \"nr_source_mid_40pct_raw\",\"nr_source_top_20pct_raw\",\"nr_source_top_10pct_raw\",\"nr_source_top_5pct_raw\"\n",
    "                                                                                #,'nr_type_article','nr_type_book',\n",
    "                                                                                #         'nr_type_book-series','nr_language_en','nr_language_fr','citations_type_article'\n",
    "                                                                                #         ,'citations_type_book','citations_type_book-series','citations_language_en','citations_language_fr'\n",
    "                                                                               ]]\n",
    "                                 )\n",
    "                          )\n",
    "au_inst_period_smoothed.columns"
   ]
  },
  {
   "cell_type": "code",
   "execution_count": 65,
   "id": "812ddf77-afa2-4c9f-9899-124bb0a82fb6",
   "metadata": {},
   "outputs": [],
   "source": [
    "au_inst_period_smoothed.write.mode('overwrite').parquet('file:\\\\' + save_path + 'panel_smoothed.parquet')"
   ]
  },
  {
   "cell_type": "code",
   "execution_count": 66,
   "id": "a2c34c98-4c87-4445-bd67-b29c060fa1b8",
   "metadata": {},
   "outputs": [
    {
     "data": {
      "text/plain": [
       "'E:\\\\panel_fr_res\\\\'"
      ]
     },
     "execution_count": 66,
     "metadata": {},
     "output_type": "execute_result"
    }
   ],
   "source": [
    "save_path"
   ]
  },
  {
   "cell_type": "code",
   "execution_count": 67,
   "id": "326ff877-162b-4cbc-9a87-b1861187ff02",
   "metadata": {},
   "outputs": [],
   "source": [
    "au_inst_period_smoothed = spark.read.parquet('file:\\\\' + save_path + 'panel_smoothed.parquet')"
   ]
  },
  {
   "cell_type": "code",
   "execution_count": 68,
   "id": "e70942c1-f015-495f-b205-d395afd979b5",
   "metadata": {},
   "outputs": [
    {
     "ename": "AnalysisException",
     "evalue": "[DATATYPE_MISMATCH.UNEXPECTED_INPUT_TYPE] Cannot resolve \"regexp_replace(parent, \\}\\,\\{, \\}\\;\\{, 1)\" due to data type mismatch: Parameter 1 requires the \"STRING\" type, however \"parent\" has the type \"ARRAY<STRUCT<parent_id: STRING, parent_name: STRING, parent_type: STRING>>\".;\n'Project [author_id#10997, inst_id#10998, year#10999, new_inst_period#11000, period_inst#11001L, last_y_inst_period#11002, first_y_inst_period#11003, n_inst_y#11004, publications_raw#11005L, citations_raw#11006L, avg_rank_source_raw#11007, nr_source_btm_50pct_raw#11008L, nr_source_mid_40pct_raw#11009L, nr_source_top_20pct_raw#11010L, nr_source_top_10pct_raw#11011L, nr_source_top_5pct_raw#11012L, name#11013, type#11014, city#11015, homepage_url#11016, topic_share#11017, main_topic#11018, regexp_replace(parent#11019, \\}\\,\\{, \\}\\;\\{, 1) AS parent#11146, fused#11020, ... 25 more fields]\n+- Project [author_id#10997, inst_id#10998, year#10999, new_inst_period#11000, period_inst#11001L, last_y_inst_period#11002, first_y_inst_period#11003, n_inst_y#11004, publications_raw#11005L, citations_raw#11006L, avg_rank_source_raw#11007, nr_source_btm_50pct_raw#11008L, nr_source_mid_40pct_raw#11009L, nr_source_top_20pct_raw#11010L, nr_source_top_10pct_raw#11011L, nr_source_top_5pct_raw#11012L, name#11013, type#11014, city#11015, homepage_url#11016, topic_share#11017, main_topic#11018, parent#11019, fused#11020, ... 25 more fields]\n   +- Project [author_id#10997, inst_id#10998, year#10999, new_inst_period#11000, period_inst#11001L, last_y_inst_period#11002, first_y_inst_period#11003, n_inst_y#11004, publications_raw#11005L, citations_raw#11006L, avg_rank_source_raw#11007, nr_source_btm_50pct_raw#11008L, nr_source_mid_40pct_raw#11009L, nr_source_top_20pct_raw#11010L, nr_source_top_10pct_raw#11011L, nr_source_top_5pct_raw#11012L, name#11013, type#11014, city#11015, homepage_url#11016, topic_share#11017, main_topic#11018, parent#11019, fused#11020, ... 26 more fields]\n      +- Window [collect_set(inst_id#10998, 0, 0) windowspecdefinition(author_id#10997, year#10999 ASC NULLS FIRST, specifiedwindowframe(RangeFrame, unboundedpreceding$(), currentrow$())) AS _we0#11095], [author_id#10997], [year#10999 ASC NULLS FIRST]\n         +- Project [author_id#10997, inst_id#10998, year#10999, new_inst_period#11000, period_inst#11001L, last_y_inst_period#11002, first_y_inst_period#11003, n_inst_y#11004, publications_raw#11005L, citations_raw#11006L, avg_rank_source_raw#11007, nr_source_btm_50pct_raw#11008L, nr_source_mid_40pct_raw#11009L, nr_source_top_20pct_raw#11010L, nr_source_top_10pct_raw#11011L, nr_source_top_5pct_raw#11012L, name#11013, type#11014, city#11015, homepage_url#11016, topic_share#11017, main_topic#11018, parent#11019, fused#11020, ... 24 more fields]\n            +- Relation [author_id#10997,inst_id#10998,year#10999,new_inst_period#11000,period_inst#11001L,last_y_inst_period#11002,first_y_inst_period#11003,n_inst_y#11004,publications_raw#11005L,citations_raw#11006L,avg_rank_source_raw#11007,nr_source_btm_50pct_raw#11008L,nr_source_mid_40pct_raw#11009L,nr_source_top_20pct_raw#11010L,nr_source_top_10pct_raw#11011L,nr_source_top_5pct_raw#11012L,name#11013,type#11014,city#11015,homepage_url#11016,topic_share#11017,main_topic#11018,parent#11019,fused#11020,... 24 more fields] parquet\n",
     "output_type": "error",
     "traceback": [
      "\u001b[1;31m---------------------------------------------------------------------------\u001b[0m",
      "\u001b[1;31mAnalysisException\u001b[0m                         Traceback (most recent call last)",
      "Cell \u001b[1;32mIn[68], line 1\u001b[0m\n\u001b[1;32m----> 1\u001b[0m panel_smoothed_w_past_inst \u001b[38;5;241m=\u001b[39m (\u001b[43mau_inst_period_smoothed\u001b[49m\n\u001b[0;32m      2\u001b[0m \u001b[43m                                  \u001b[49m\u001b[38;5;241;43m.\u001b[39;49m\u001b[43mwithColumn\u001b[49m\u001b[43m(\u001b[49m\u001b[38;5;124;43m'\u001b[39;49m\u001b[38;5;124;43mall_past_af\u001b[39;49m\u001b[38;5;124;43m'\u001b[39;49m\u001b[43m,\u001b[49m\u001b[43m \u001b[49m\u001b[43mfunc\u001b[49m\u001b[38;5;241;43m.\u001b[39;49m\u001b[43marray_distinct\u001b[49m\u001b[43m(\u001b[49m\u001b[43m(\u001b[49m\u001b[43mfunc\u001b[49m\u001b[38;5;241;43m.\u001b[39;49m\u001b[43mcollect_set\u001b[49m\u001b[43m(\u001b[49m\u001b[43mfunc\u001b[49m\u001b[38;5;241;43m.\u001b[39;49m\u001b[43mcol\u001b[49m\u001b[43m(\u001b[49m\u001b[38;5;124;43m'\u001b[39;49m\u001b[38;5;124;43minst_id\u001b[39;49m\u001b[38;5;124;43m'\u001b[39;49m\u001b[43m)\u001b[49m\u001b[43m)\u001b[49m\u001b[38;5;241;43m.\u001b[39;49m\u001b[43mover\u001b[49m\u001b[43m(\u001b[49m\u001b[43mWindow\u001b[49m\u001b[38;5;241;43m.\u001b[39;49m\u001b[43mpartitionBy\u001b[49m\u001b[43m(\u001b[49m\u001b[38;5;124;43m'\u001b[39;49m\u001b[38;5;124;43mauthor_id\u001b[39;49m\u001b[38;5;124;43m'\u001b[39;49m\u001b[43m)\u001b[49m\u001b[38;5;241;43m.\u001b[39;49m\u001b[43morderBy\u001b[49m\u001b[43m(\u001b[49m\u001b[38;5;124;43m'\u001b[39;49m\u001b[38;5;124;43myear\u001b[39;49m\u001b[38;5;124;43m'\u001b[39;49m\u001b[43m)\u001b[49m\u001b[43m)\u001b[49m\u001b[43m)\u001b[49m\u001b[43m)\u001b[49m\u001b[43m)\u001b[49m\n\u001b[0;32m      3\u001b[0m \u001b[43m                                  \u001b[49m\u001b[38;5;241;43m.\u001b[39;49m\u001b[43mwithColumn\u001b[49m\u001b[43m(\u001b[49m\u001b[38;5;124;43m'\u001b[39;49m\u001b[38;5;124;43mparent\u001b[39;49m\u001b[38;5;124;43m'\u001b[39;49m\u001b[43m,\u001b[49m\u001b[43m \u001b[49m\u001b[43mfunc\u001b[49m\u001b[38;5;241;43m.\u001b[39;49m\u001b[43mregexp_replace\u001b[49m\u001b[43m(\u001b[49m\u001b[43mfunc\u001b[49m\u001b[38;5;241;43m.\u001b[39;49m\u001b[43mcol\u001b[49m\u001b[43m(\u001b[49m\u001b[38;5;124;43m'\u001b[39;49m\u001b[38;5;124;43mparent\u001b[39;49m\u001b[38;5;124;43m'\u001b[39;49m\u001b[43m)\u001b[49m\u001b[43m,\u001b[49m\u001b[43m \u001b[49m\u001b[38;5;124;43m'\u001b[39;49m\u001b[38;5;124;43m\\\u001b[39;49m\u001b[38;5;124;43m}\u001b[39;49m\u001b[38;5;124;43m\\\u001b[39;49m\u001b[38;5;124;43m,\u001b[39;49m\u001b[38;5;124;43m\\\u001b[39;49m\u001b[38;5;124;43m{\u001b[39;49m\u001b[38;5;124;43m'\u001b[39;49m\u001b[43m,\u001b[49m\u001b[38;5;124;43m'\u001b[39;49m\u001b[38;5;124;43m\\\u001b[39;49m\u001b[38;5;124;43m}\u001b[39;49m\u001b[38;5;124;43m\\\u001b[39;49m\u001b[38;5;124;43m;\u001b[39;49m\u001b[38;5;124;43m\\\u001b[39;49m\u001b[38;5;124;43m{\u001b[39;49m\u001b[38;5;124;43m'\u001b[39;49m\u001b[43m)\u001b[49m\u001b[43m)\u001b[49m\n\u001b[0;32m      4\u001b[0m                                   \u001b[38;5;241m.\u001b[39mwithColumn(\u001b[38;5;124m'\u001b[39m\u001b[38;5;124mparent\u001b[39m\u001b[38;5;124m'\u001b[39m, func\u001b[38;5;241m.\u001b[39mregexp_replace(func\u001b[38;5;241m.\u001b[39mcol(\u001b[38;5;124m'\u001b[39m\u001b[38;5;124mparent\u001b[39m\u001b[38;5;124m'\u001b[39m), \u001b[38;5;124m'\u001b[39m\u001b[38;5;124m\\\u001b[39m\u001b[38;5;124m[\u001b[39m\u001b[38;5;124m'\u001b[39m,\u001b[38;5;124m'\u001b[39m\u001b[38;5;124m'\u001b[39m))\n\u001b[0;32m      5\u001b[0m                                   \u001b[38;5;241m.\u001b[39mwithColumn(\u001b[38;5;124m'\u001b[39m\u001b[38;5;124mparent\u001b[39m\u001b[38;5;124m'\u001b[39m, func\u001b[38;5;241m.\u001b[39mregexp_replace(func\u001b[38;5;241m.\u001b[39mcol(\u001b[38;5;124m'\u001b[39m\u001b[38;5;124mparent\u001b[39m\u001b[38;5;124m'\u001b[39m), \u001b[38;5;124m'\u001b[39m\u001b[38;5;124m\\\u001b[39m\u001b[38;5;124m]\u001b[39m\u001b[38;5;124m'\u001b[39m,\u001b[38;5;124m'\u001b[39m\u001b[38;5;124m'\u001b[39m))\n\u001b[0;32m      6\u001b[0m                                   \u001b[38;5;241m.\u001b[39mwithColumn(\u001b[38;5;124m'\u001b[39m\u001b[38;5;124mparent\u001b[39m\u001b[38;5;124m'\u001b[39m, func\u001b[38;5;241m.\u001b[39mwhen(func\u001b[38;5;241m.\u001b[39mcol(\u001b[38;5;124m'\u001b[39m\u001b[38;5;124mparent\u001b[39m\u001b[38;5;124m'\u001b[39m)\u001b[38;5;241m.\u001b[39mcontains(\u001b[38;5;124m'\u001b[39m\u001b[38;5;124m;\u001b[39m\u001b[38;5;124m'\u001b[39m), func\u001b[38;5;241m.\u001b[39msplit(func\u001b[38;5;241m.\u001b[39mcol(\u001b[38;5;124m'\u001b[39m\u001b[38;5;124mparent\u001b[39m\u001b[38;5;124m'\u001b[39m), \u001b[38;5;124m'\u001b[39m\u001b[38;5;124m;\u001b[39m\u001b[38;5;124m'\u001b[39m))\n\u001b[0;32m      7\u001b[0m                                               \u001b[38;5;241m.\u001b[39motherwise(func\u001b[38;5;241m.\u001b[39marray(func\u001b[38;5;241m.\u001b[39mcol(\u001b[38;5;124m'\u001b[39m\u001b[38;5;124mparent\u001b[39m\u001b[38;5;124m'\u001b[39m))))\n\u001b[0;32m      8\u001b[0m                                   \u001b[38;5;241m.\u001b[39mwithColumn(\u001b[38;5;124m'\u001b[39m\u001b[38;5;124mparent\u001b[39m\u001b[38;5;124m'\u001b[39m, func\u001b[38;5;241m.\u001b[39mtransform(func\u001b[38;5;241m.\u001b[39mcol(\u001b[38;5;124m'\u001b[39m\u001b[38;5;124mparent\u001b[39m\u001b[38;5;124m'\u001b[39m), \u001b[38;5;28;01mlambda\u001b[39;00m x: func\u001b[38;5;241m.\u001b[39mfrom_json(x, func\u001b[38;5;241m.\u001b[39mschema_of_json(\u001b[38;5;124m'\u001b[39m\u001b[38;5;124m{\u001b[39m\u001b[38;5;124m\"\u001b[39m\u001b[38;5;124mparent_id\u001b[39m\u001b[38;5;124m\"\u001b[39m\u001b[38;5;124m:\u001b[39m\u001b[38;5;124m\"\u001b[39m\u001b[38;5;124m\"\u001b[39m\u001b[38;5;124m,\u001b[39m\u001b[38;5;124m\"\u001b[39m\u001b[38;5;124mparent_name\u001b[39m\u001b[38;5;124m\"\u001b[39m\u001b[38;5;124m:\u001b[39m\u001b[38;5;124m\"\u001b[39m\u001b[38;5;124m\"\u001b[39m\u001b[38;5;124m,\u001b[39m\u001b[38;5;124m\"\u001b[39m\u001b[38;5;124mparent_type\u001b[39m\u001b[38;5;124m\"\u001b[39m\u001b[38;5;124m:\u001b[39m\u001b[38;5;124m\"\u001b[39m\u001b[38;5;124m\"\u001b[39m\u001b[38;5;124m}\u001b[39m\u001b[38;5;124m'\u001b[39m))))\n\u001b[0;32m      9\u001b[0m                                   \u001b[38;5;241m.\u001b[39mwithColumn(\u001b[38;5;124m'\u001b[39m\u001b[38;5;124mparent\u001b[39m\u001b[38;5;124m'\u001b[39m, func\u001b[38;5;241m.\u001b[39marray_compact(func\u001b[38;5;241m.\u001b[39mtransform(func\u001b[38;5;241m.\u001b[39mcol(\u001b[38;5;124m'\u001b[39m\u001b[38;5;124mparent\u001b[39m\u001b[38;5;124m'\u001b[39m), \u001b[38;5;28;01mlambda\u001b[39;00m x : func\u001b[38;5;241m.\u001b[39mwhen(x\u001b[38;5;241m.\u001b[39mparent_id \u001b[38;5;241m!=\u001b[39m func\u001b[38;5;241m.\u001b[39mcol(\u001b[38;5;124m'\u001b[39m\u001b[38;5;124minst_id\u001b[39m\u001b[38;5;124m'\u001b[39m), x))))\n\u001b[0;32m     10\u001b[0m                                   \u001b[38;5;241m.\u001b[39mwithColumn(\u001b[38;5;124m'\u001b[39m\u001b[38;5;124mall_parent_ids\u001b[39m\u001b[38;5;124m'\u001b[39m, func\u001b[38;5;241m.\u001b[39marray_compact(func\u001b[38;5;241m.\u001b[39mtransform(func\u001b[38;5;241m.\u001b[39marray_distinct(func\u001b[38;5;241m.\u001b[39mflatten(func\u001b[38;5;241m.\u001b[39mcollect_set(func\u001b[38;5;241m.\u001b[39mcol(\u001b[38;5;124m'\u001b[39m\u001b[38;5;124mparent.parent_id\u001b[39m\u001b[38;5;124m'\u001b[39m))\u001b[38;5;241m.\u001b[39mover(Window\u001b[38;5;241m.\u001b[39mpartitionBy(\u001b[38;5;124m'\u001b[39m\u001b[38;5;124myear\u001b[39m\u001b[38;5;124m'\u001b[39m)))), \u001b[38;5;28;01mlambda\u001b[39;00m x: func\u001b[38;5;241m.\u001b[39mregexp_replace(x, \u001b[38;5;124m'\u001b[39m\u001b[38;5;124mhttps://openalex.org/\u001b[39m\u001b[38;5;124m'\u001b[39m, \u001b[38;5;124m'\u001b[39m\u001b[38;5;124m'\u001b[39m))))\n\u001b[0;32m     11\u001b[0m    \n\u001b[0;32m     12\u001b[0m                                   \u001b[38;5;241m.\u001b[39mwithColumn(\u001b[38;5;124m'\u001b[39m\u001b[38;5;124mall_past_parents\u001b[39m\u001b[38;5;124m'\u001b[39m, func\u001b[38;5;241m.\u001b[39marray_distinct(func\u001b[38;5;241m.\u001b[39mflatten(func\u001b[38;5;241m.\u001b[39mcollect_set(func\u001b[38;5;241m.\u001b[39mcol(\u001b[38;5;124m'\u001b[39m\u001b[38;5;124mall_parent_ids\u001b[39m\u001b[38;5;124m'\u001b[39m))\u001b[38;5;241m.\u001b[39mover(Window\u001b[38;5;241m.\u001b[39mpartitionBy(\u001b[38;5;124m'\u001b[39m\u001b[38;5;124mauthor_id\u001b[39m\u001b[38;5;124m'\u001b[39m)\u001b[38;5;241m.\u001b[39morderBy(\u001b[38;5;124m'\u001b[39m\u001b[38;5;124myear\u001b[39m\u001b[38;5;124m'\u001b[39m)))))\n\u001b[0;32m     13\u001b[0m    \n\u001b[0;32m     14\u001b[0m                             \u001b[38;5;66;03m#      .withColumn('past_af_parent', ( (func.array_contains(func.col('all_past_parents'), func.col('inst_id')))\u001b[39;00m\n\u001b[0;32m     15\u001b[0m                             \u001b[38;5;66;03m#                                     | (func.arrays_overlap(func.col('all_past_parents'), func.col('all_parent_ids'))) ).cast('int'))\u001b[39;00m\n\u001b[0;32m     16\u001b[0m                             \u001b[38;5;66;03m#      .withColumn('past_af', ( (func.array_contains(func.col('all_past_af'), func.col('inst_id')))\u001b[39;00m\n\u001b[0;32m     17\u001b[0m                             \u001b[38;5;66;03m#                                     | (func.arrays_overlap(func.col('all_past_af'), func.col('all_parent_ids'))) ).cast('int'))\u001b[39;00m\n\u001b[0;32m     18\u001b[0m                             \u001b[38;5;66;03m#  .withColumn('lag_inst_set', func.lag(func.col('inst_set_this_year')).over(Window.partitionBy('author_id').orderBy('year')))\u001b[39;00m\n\u001b[0;32m     19\u001b[0m                             \u001b[38;5;66;03m#  .withColumn('entrant', func.array_contains(func.col('lag_inst_set'), func.col('inst_id')))\u001b[39;00m\n\u001b[0;32m     20\u001b[0m                             \u001b[38;5;66;03m#  .select(*au_inst_period_smoothed.columns, \"past_af_parent\",\"past_af\",'entrant')\u001b[39;00m\n\u001b[0;32m     21\u001b[0m                                  )\n",
      "File \u001b[1;32m~\\.conda\\envs\\pyspark_env\\lib\\site-packages\\pyspark\\sql\\dataframe.py:5176\u001b[0m, in \u001b[0;36mDataFrame.withColumn\u001b[1;34m(self, colName, col)\u001b[0m\n\u001b[0;32m   5171\u001b[0m \u001b[38;5;28;01mif\u001b[39;00m \u001b[38;5;129;01mnot\u001b[39;00m \u001b[38;5;28misinstance\u001b[39m(col, Column):\n\u001b[0;32m   5172\u001b[0m     \u001b[38;5;28;01mraise\u001b[39;00m PySparkTypeError(\n\u001b[0;32m   5173\u001b[0m         error_class\u001b[38;5;241m=\u001b[39m\u001b[38;5;124m\"\u001b[39m\u001b[38;5;124mNOT_COLUMN\u001b[39m\u001b[38;5;124m\"\u001b[39m,\n\u001b[0;32m   5174\u001b[0m         message_parameters\u001b[38;5;241m=\u001b[39m{\u001b[38;5;124m\"\u001b[39m\u001b[38;5;124marg_name\u001b[39m\u001b[38;5;124m\"\u001b[39m: \u001b[38;5;124m\"\u001b[39m\u001b[38;5;124mcol\u001b[39m\u001b[38;5;124m\"\u001b[39m, \u001b[38;5;124m\"\u001b[39m\u001b[38;5;124marg_type\u001b[39m\u001b[38;5;124m\"\u001b[39m: \u001b[38;5;28mtype\u001b[39m(col)\u001b[38;5;241m.\u001b[39m\u001b[38;5;18m__name__\u001b[39m},\n\u001b[0;32m   5175\u001b[0m     )\n\u001b[1;32m-> 5176\u001b[0m \u001b[38;5;28;01mreturn\u001b[39;00m DataFrame(\u001b[38;5;28;43mself\u001b[39;49m\u001b[38;5;241;43m.\u001b[39;49m\u001b[43m_jdf\u001b[49m\u001b[38;5;241;43m.\u001b[39;49m\u001b[43mwithColumn\u001b[49m\u001b[43m(\u001b[49m\u001b[43mcolName\u001b[49m\u001b[43m,\u001b[49m\u001b[43m \u001b[49m\u001b[43mcol\u001b[49m\u001b[38;5;241;43m.\u001b[39;49m\u001b[43m_jc\u001b[49m\u001b[43m)\u001b[49m, \u001b[38;5;28mself\u001b[39m\u001b[38;5;241m.\u001b[39msparkSession)\n",
      "File \u001b[1;32m~\\.conda\\envs\\pyspark_env\\lib\\site-packages\\py4j\\java_gateway.py:1322\u001b[0m, in \u001b[0;36mJavaMember.__call__\u001b[1;34m(self, *args)\u001b[0m\n\u001b[0;32m   1316\u001b[0m command \u001b[38;5;241m=\u001b[39m proto\u001b[38;5;241m.\u001b[39mCALL_COMMAND_NAME \u001b[38;5;241m+\u001b[39m\\\n\u001b[0;32m   1317\u001b[0m     \u001b[38;5;28mself\u001b[39m\u001b[38;5;241m.\u001b[39mcommand_header \u001b[38;5;241m+\u001b[39m\\\n\u001b[0;32m   1318\u001b[0m     args_command \u001b[38;5;241m+\u001b[39m\\\n\u001b[0;32m   1319\u001b[0m     proto\u001b[38;5;241m.\u001b[39mEND_COMMAND_PART\n\u001b[0;32m   1321\u001b[0m answer \u001b[38;5;241m=\u001b[39m \u001b[38;5;28mself\u001b[39m\u001b[38;5;241m.\u001b[39mgateway_client\u001b[38;5;241m.\u001b[39msend_command(command)\n\u001b[1;32m-> 1322\u001b[0m return_value \u001b[38;5;241m=\u001b[39m \u001b[43mget_return_value\u001b[49m\u001b[43m(\u001b[49m\n\u001b[0;32m   1323\u001b[0m \u001b[43m    \u001b[49m\u001b[43manswer\u001b[49m\u001b[43m,\u001b[49m\u001b[43m \u001b[49m\u001b[38;5;28;43mself\u001b[39;49m\u001b[38;5;241;43m.\u001b[39;49m\u001b[43mgateway_client\u001b[49m\u001b[43m,\u001b[49m\u001b[43m \u001b[49m\u001b[38;5;28;43mself\u001b[39;49m\u001b[38;5;241;43m.\u001b[39;49m\u001b[43mtarget_id\u001b[49m\u001b[43m,\u001b[49m\u001b[43m \u001b[49m\u001b[38;5;28;43mself\u001b[39;49m\u001b[38;5;241;43m.\u001b[39;49m\u001b[43mname\u001b[49m\u001b[43m)\u001b[49m\n\u001b[0;32m   1325\u001b[0m \u001b[38;5;28;01mfor\u001b[39;00m temp_arg \u001b[38;5;129;01min\u001b[39;00m temp_args:\n\u001b[0;32m   1326\u001b[0m     \u001b[38;5;28;01mif\u001b[39;00m \u001b[38;5;28mhasattr\u001b[39m(temp_arg, \u001b[38;5;124m\"\u001b[39m\u001b[38;5;124m_detach\u001b[39m\u001b[38;5;124m\"\u001b[39m):\n",
      "File \u001b[1;32m~\\.conda\\envs\\pyspark_env\\lib\\site-packages\\pyspark\\errors\\exceptions\\captured.py:185\u001b[0m, in \u001b[0;36mcapture_sql_exception.<locals>.deco\u001b[1;34m(*a, **kw)\u001b[0m\n\u001b[0;32m    181\u001b[0m converted \u001b[38;5;241m=\u001b[39m convert_exception(e\u001b[38;5;241m.\u001b[39mjava_exception)\n\u001b[0;32m    182\u001b[0m \u001b[38;5;28;01mif\u001b[39;00m \u001b[38;5;129;01mnot\u001b[39;00m \u001b[38;5;28misinstance\u001b[39m(converted, UnknownException):\n\u001b[0;32m    183\u001b[0m     \u001b[38;5;66;03m# Hide where the exception came from that shows a non-Pythonic\u001b[39;00m\n\u001b[0;32m    184\u001b[0m     \u001b[38;5;66;03m# JVM exception message.\u001b[39;00m\n\u001b[1;32m--> 185\u001b[0m     \u001b[38;5;28;01mraise\u001b[39;00m converted \u001b[38;5;28;01mfrom\u001b[39;00m \u001b[38;5;28;01mNone\u001b[39;00m\n\u001b[0;32m    186\u001b[0m \u001b[38;5;28;01melse\u001b[39;00m:\n\u001b[0;32m    187\u001b[0m     \u001b[38;5;28;01mraise\u001b[39;00m\n",
      "\u001b[1;31mAnalysisException\u001b[0m: [DATATYPE_MISMATCH.UNEXPECTED_INPUT_TYPE] Cannot resolve \"regexp_replace(parent, \\}\\,\\{, \\}\\;\\{, 1)\" due to data type mismatch: Parameter 1 requires the \"STRING\" type, however \"parent\" has the type \"ARRAY<STRUCT<parent_id: STRING, parent_name: STRING, parent_type: STRING>>\".;\n'Project [author_id#10997, inst_id#10998, year#10999, new_inst_period#11000, period_inst#11001L, last_y_inst_period#11002, first_y_inst_period#11003, n_inst_y#11004, publications_raw#11005L, citations_raw#11006L, avg_rank_source_raw#11007, nr_source_btm_50pct_raw#11008L, nr_source_mid_40pct_raw#11009L, nr_source_top_20pct_raw#11010L, nr_source_top_10pct_raw#11011L, nr_source_top_5pct_raw#11012L, name#11013, type#11014, city#11015, homepage_url#11016, topic_share#11017, main_topic#11018, regexp_replace(parent#11019, \\}\\,\\{, \\}\\;\\{, 1) AS parent#11146, fused#11020, ... 25 more fields]\n+- Project [author_id#10997, inst_id#10998, year#10999, new_inst_period#11000, period_inst#11001L, last_y_inst_period#11002, first_y_inst_period#11003, n_inst_y#11004, publications_raw#11005L, citations_raw#11006L, avg_rank_source_raw#11007, nr_source_btm_50pct_raw#11008L, nr_source_mid_40pct_raw#11009L, nr_source_top_20pct_raw#11010L, nr_source_top_10pct_raw#11011L, nr_source_top_5pct_raw#11012L, name#11013, type#11014, city#11015, homepage_url#11016, topic_share#11017, main_topic#11018, parent#11019, fused#11020, ... 25 more fields]\n   +- Project [author_id#10997, inst_id#10998, year#10999, new_inst_period#11000, period_inst#11001L, last_y_inst_period#11002, first_y_inst_period#11003, n_inst_y#11004, publications_raw#11005L, citations_raw#11006L, avg_rank_source_raw#11007, nr_source_btm_50pct_raw#11008L, nr_source_mid_40pct_raw#11009L, nr_source_top_20pct_raw#11010L, nr_source_top_10pct_raw#11011L, nr_source_top_5pct_raw#11012L, name#11013, type#11014, city#11015, homepage_url#11016, topic_share#11017, main_topic#11018, parent#11019, fused#11020, ... 26 more fields]\n      +- Window [collect_set(inst_id#10998, 0, 0) windowspecdefinition(author_id#10997, year#10999 ASC NULLS FIRST, specifiedwindowframe(RangeFrame, unboundedpreceding$(), currentrow$())) AS _we0#11095], [author_id#10997], [year#10999 ASC NULLS FIRST]\n         +- Project [author_id#10997, inst_id#10998, year#10999, new_inst_period#11000, period_inst#11001L, last_y_inst_period#11002, first_y_inst_period#11003, n_inst_y#11004, publications_raw#11005L, citations_raw#11006L, avg_rank_source_raw#11007, nr_source_btm_50pct_raw#11008L, nr_source_mid_40pct_raw#11009L, nr_source_top_20pct_raw#11010L, nr_source_top_10pct_raw#11011L, nr_source_top_5pct_raw#11012L, name#11013, type#11014, city#11015, homepage_url#11016, topic_share#11017, main_topic#11018, parent#11019, fused#11020, ... 24 more fields]\n            +- Relation [author_id#10997,inst_id#10998,year#10999,new_inst_period#11000,period_inst#11001L,last_y_inst_period#11002,first_y_inst_period#11003,n_inst_y#11004,publications_raw#11005L,citations_raw#11006L,avg_rank_source_raw#11007,nr_source_btm_50pct_raw#11008L,nr_source_mid_40pct_raw#11009L,nr_source_top_20pct_raw#11010L,nr_source_top_10pct_raw#11011L,nr_source_top_5pct_raw#11012L,name#11013,type#11014,city#11015,homepage_url#11016,topic_share#11017,main_topic#11018,parent#11019,fused#11020,... 24 more fields] parquet\n"
     ]
    }
   ],
   "source": [
    "panel_smoothed_w_past_inst = (au_inst_period_smoothed\n",
    "                                  .withColumn('all_past_af', func.array_distinct((func.collect_set(func.col('inst_id')).over(Window.partitionBy('author_id').orderBy('year')))))\n",
    "                                  .withColumn('parent', func.regexp_replace(func.col('parent'), '\\}\\,\\{','\\}\\;\\{'))\n",
    "                                  .withColumn('parent', func.regexp_replace(func.col('parent'), '\\[',''))\n",
    "                                  .withColumn('parent', func.regexp_replace(func.col('parent'), '\\]',''))\n",
    "                                  .withColumn('parent', func.when(func.col('parent').contains(';'), func.split(func.col('parent'), ';'))\n",
    "                                              .otherwise(func.array(func.col('parent'))))\n",
    "                                  .withColumn('parent', func.transform(func.col('parent'), lambda x: func.from_json(x, func.schema_of_json('{\"parent_id\":\"\",\"parent_name\":\"\",\"parent_type\":\"\"}'))))\n",
    "                                  .withColumn('parent', func.array_compact(func.transform(func.col('parent'), lambda x : func.when(x.parent_id != func.col('inst_id'), x))))\n",
    "                                  .withColumn('all_parent_ids', func.array_compact(func.transform(func.array_distinct(func.flatten(func.collect_set(func.col('parent.parent_id')).over(Window.partitionBy('year')))), lambda x: func.regexp_replace(x, 'https://openalex.org/', ''))))\n",
    "   \n",
    "                                  .withColumn('all_past_parents', func.array_distinct(func.flatten(func.collect_set(func.col('all_parent_ids')).over(Window.partitionBy('author_id').orderBy('year')))))\n",
    "   \n",
    "                            #      .withColumn('past_af_parent', ( (func.array_contains(func.col('all_past_parents'), func.col('inst_id')))\n",
    "                            #                                     | (func.arrays_overlap(func.col('all_past_parents'), func.col('all_parent_ids'))) ).cast('int'))\n",
    "                            #      .withColumn('past_af', ( (func.array_contains(func.col('all_past_af'), func.col('inst_id')))\n",
    "                            #                                     | (func.arrays_overlap(func.col('all_past_af'), func.col('all_parent_ids'))) ).cast('int'))\n",
    "                            #  .withColumn('lag_inst_set', func.lag(func.col('inst_set_this_year')).over(Window.partitionBy('author_id').orderBy('year')))\n",
    "                            #  .withColumn('entrant', func.array_contains(func.col('lag_inst_set'), func.col('inst_id')))\n",
    "                            #  .select(*au_inst_period_smoothed.columns, \"past_af_parent\",\"past_af\",'entrant')\n",
    "                                 )"
   ]
  },
  {
   "cell_type": "code",
   "execution_count": null,
   "id": "3cd45114-8661-446a-965c-888d53fb7612",
   "metadata": {},
   "outputs": [],
   "source": [
    "panel_smoothed_w_past_inst.show()"
   ]
  },
  {
   "cell_type": "code",
   "execution_count": null,
   "id": "3818ccd6-680d-4619-bff5-22a904703591",
   "metadata": {},
   "outputs": [],
   "source": []
  },
  {
   "cell_type": "code",
   "execution_count": null,
   "id": "4522cddb-2cef-487a-9d3f-7d1d388972c7",
   "metadata": {},
   "outputs": [],
   "source": [
    "panel_smoothed_w_past_inst.write.mode('overwrite').parquet('file:\\\\' + save_path + 'panel_smoothed_w_past_inst.parquet')"
   ]
  },
  {
   "cell_type": "code",
   "execution_count": 70,
   "id": "38519341-fcc8-482d-b48c-4183c6760852",
   "metadata": {},
   "outputs": [],
   "source": [
    "spark.stop()"
   ]
  }
 ],
 "metadata": {
  "kernelspec": {
   "display_name": "Python 3 (ipykernel)",
   "language": "python",
   "name": "python3"
  },
  "language_info": {
   "codemirror_mode": {
    "name": "ipython",
    "version": 3
   },
   "file_extension": ".py",
   "mimetype": "text/x-python",
   "name": "python",
   "nbconvert_exporter": "python",
   "pygments_lexer": "ipython3",
   "version": "3.9.21"
  }
 },
 "nbformat": 4,
 "nbformat_minor": 5
}
