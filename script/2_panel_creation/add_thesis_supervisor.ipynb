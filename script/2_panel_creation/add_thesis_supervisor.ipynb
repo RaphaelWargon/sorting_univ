{
 "cells": [
  {
   "cell_type": "code",
   "execution_count": 1,
   "id": "5b031f1b-a4e2-4db2-aee7-cbde11855563",
   "metadata": {},
   "outputs": [
    {
     "name": "stdout",
     "output_type": "stream",
     "text": [
      "C:\\Users\\common\\projet_3_lru\\sorting_univ\\script/headers/\n",
      "add_thesis\n"
     ]
    }
   ],
   "source": [
    "import os\n",
    "base_path = os.path.dirname(os.path.abspath(\"\"))\n",
    "base_path = base_path + \"/headers/\"\n",
    "print(base_path)\n",
    "header_path = base_path + 'header_data_treatment.ipynb'\n",
    "app_name = \"add_thesis\"\n",
    "%run $header_path $app_name=app_name"
   ]
  },
  {
   "cell_type": "code",
   "execution_count": 2,
   "id": "04d0274e-ee06-4fe5-88a8-4d25ce8d0aac",
   "metadata": {},
   "outputs": [],
   "source": [
    "df_scanR = spark.read.format('parquet').load('file:\\\\' + scanR_path + '\\\\publications.parquet')\n",
    "set_french_authors = spark.read.parquet('file:\\\\' + save_path + 'set_french_authors.parquet')\n",
    "\n",
    "merge_path = databases_path + '\\\\merge\\\\'\n",
    "\n",
    "merge_authors = spark.read.format('parquet').load('file:\\\\' + merge_path + 'matched_authors_2steps.parquet').withColumnRenamed('id','idref')"
   ]
  },
  {
   "cell_type": "code",
   "execution_count": 4,
   "id": "b20dcf40-e560-4401-90ac-f4b73fd210ac",
   "metadata": {},
   "outputs": [
    {
     "data": {
      "text/plain": [
       "90189"
      ]
     },
     "execution_count": 4,
     "metadata": {},
     "output_type": "execute_result"
    }
   ],
   "source": [
    "set_french_authors.join(merge_authors.groupBy(\"author_id\").agg(func.concat_ws(',', func.collect_set('idref')).alias('idref')), on ='author_id', how = 'inner').count()"
   ]
  },
  {
   "cell_type": "code",
   "execution_count": 5,
   "id": "3e136511-9b83-4c8a-9d64-0c110300c77d",
   "metadata": {},
   "outputs": [
    {
     "name": "stdout",
     "output_type": "stream",
     "text": [
      "+-----+---------+\n",
      "|idref|author_id|\n",
      "+-----+---------+\n",
      "+-----+---------+\n",
      "\n"
     ]
    }
   ],
   "source": [
    "merge_authors.filter(func.col('author_id')==\"A5084984675\").show()"
   ]
  },
  {
   "cell_type": "code",
   "execution_count": 4,
   "id": "61d6c7a4-e591-4176-bb24-679ebb046c37",
   "metadata": {},
   "outputs": [],
   "source": [
    "df_au_scanR = spark.read.format('parquet').load('file:\\\\' + scanR_path + '/authors.parquet')\n"
   ]
  },
  {
   "cell_type": "code",
   "execution_count": 5,
   "id": "c5d5b487-eff1-4c0d-a97c-d387be7a2156",
   "metadata": {},
   "outputs": [
    {
     "name": "stdout",
     "output_type": "stream",
     "text": [
      "+--------------------+--------------------+--------------------+------+--------------------+--------------------+--------------------+---------+-----------------+------+--------------+------+---------+---------+-------------------+--------------------+-----------------+--------------------+--------------------+\n",
      "|        affiliations|       autocompleted|   autocompletedText|awards|      coContributors|             domains|         externalIds|firstName|         fullName|gender|            id|id_hal|    idref| lastName|              orcid|        publications|publicationsCount|  recentAffiliations|          topDomains|\n",
      "+--------------------+--------------------+--------------------+------+--------------------+--------------------+--------------------+---------+-----------------+------+--------------+------+---------+---------+-------------------+--------------------+-----------------+--------------------+--------------------+\n",
      "|[{2018-12-31T00:0...|[Le Bellec, 07803...|[Le Bellec, 07803...|  NULL|[{Julie Mailloux,...|[{Q136828, 9, {Ph...|[{078039886, idre...|  Fabrice|Fabrice Le Bellec|     M|idref078039886|  NULL|078039886|Le Bellec|0000-0001-8145-7560|[{doi10.1007/s104...|               27|[{2022-12-31T00:0...|[{Q136828, 9, {Ph...|\n",
      "+--------------------+--------------------+--------------------+------+--------------------+--------------------+--------------------+---------+-----------------+------+--------------+------+---------+---------+-------------------+--------------------+-----------------+--------------------+--------------------+\n",
      "\n"
     ]
    }
   ],
   "source": [
    "df_au_scanR.filter(func.col('id')==\"idref078039886\").show()"
   ]
  },
  {
   "cell_type": "code",
   "execution_count": 7,
   "id": "687f0575-183d-471f-9fe9-50ef6f95107b",
   "metadata": {},
   "outputs": [
    {
     "name": "stdout",
     "output_type": "stream",
     "text": [
      "+---+---------+\n",
      "| id|author_id|\n",
      "+---+---------+\n",
      "+---+---------+\n",
      "\n"
     ]
    }
   ],
   "source": [
    "merged_authors = spark.read.parquet('file:\\\\' + merge_path + 'merge_oa_scanr_authors.parquet')"
   ]
  },
  {
   "cell_type": "code",
   "execution_count": 8,
   "id": "3284f980-9541-461f-b77a-33fb0d2d4e51",
   "metadata": {},
   "outputs": [],
   "source": [
    "spark.stop()"
   ]
  },
  {
   "cell_type": "code",
   "execution_count": 3,
   "id": "1d330758-32ca-4560-8605-dac9b8a61ccd",
   "metadata": {},
   "outputs": [],
   "source": [
    "merge_authors = merge_authors.withColumn('idref', func.regexp_replace(func.col('idref'), 'idref', ''))"
   ]
  },
  {
   "cell_type": "code",
   "execution_count": 13,
   "id": "3d3276c2-6004-4e45-bfb9-994cb992afd1",
   "metadata": {},
   "outputs": [
    {
     "data": {
      "text/plain": [
       "DataFrame[idref: string, role: string, id: string, affiliations: array<struct<BNF:string,ISNI:string,acronym:array<string>,address:string,address-line:string,addresses:array<string>,alias_idref:array<string>,aliases:array<string>,city:string,comments:array<string>,country:string,datasource:string,department:array<string>,detected_countries:array<string>,docid:string,external_ids:array<struct<id_type:string,id_value:string>>,grid:array<string>,hal_docid:string,id:array<struct<asserted-by:string,id:string,id-type:string>>,idref:string,ids:array<struct<id:string,type:string>>,name:string,orgs:array<struct<name:string>>,place:array<string>,postal-code:string,rnsr:string,ror:string,structId:string,viaf:string,websites:array<string>,zipcode:string>>, firstName: string, lastName: string, fullName: string, author_id: string]"
      ]
     },
     "execution_count": 13,
     "metadata": {},
     "output_type": "execute_result"
    }
   ],
   "source": [
    "theses_oa = (df_scanR\n",
    "          .filter(func.col('type')=='thesis')\n",
    "          .withColumn('authors', func.explode(func.col('authors')))\n",
    "          .withColumn('idref', func.col('authors.person'))\n",
    "          .withColumn('idref', func.regexp_replace(func.col('idref'), 'idref', ''))\n",
    "         .select('idref','authors.role','id','authors.affiliations', 'authors.firstName', 'authors.lastName', 'authors.fullName')\n",
    "         .join(merge_authors, on = 'idref', how= 'inner')\n",
    "         )\n",
    "theses_oa.cache()"
   ]
  },
  {
   "cell_type": "code",
   "execution_count": null,
   "id": "174627e5-71f1-42ed-b057-ff7b47719999",
   "metadata": {},
   "outputs": [],
   "source": [
    "theses_oa.show()"
   ]
  },
  {
   "cell_type": "code",
   "execution_count": 5,
   "id": "18cd74b6-3d5f-488c-9ff9-8f3232d15813",
   "metadata": {},
   "outputs": [
    {
     "name": "stdout",
     "output_type": "stream",
     "text": [
      "+--------------+-------+--------+------+\n",
      "|has_supervisor|has_ref|has_jury| count|\n",
      "+--------------+-------+--------+------+\n",
      "|             0|      1|       1| 14098|\n",
      "|             0|      0|       0| 47368|\n",
      "|             1|      0|       1| 24020|\n",
      "|             1|      1|       1| 91284|\n",
      "|             1|      0|       0|192103|\n",
      "|             1|      1|       0| 10280|\n",
      "|             0|      1|       0|  2756|\n",
      "|             0|      0|       1|  6245|\n",
      "+--------------+-------+--------+------+\n",
      "\n"
     ]
    }
   ],
   "source": [
    "#(theses_oa.groupBy('id')\n",
    "# .agg(func.max( (func.col('role')==\"directeurthese\").cast('int')).alias('has_supervisor'),\n",
    "#      func.max( (func.col('role')==\"rapporteur\").cast('int')).alias('has_ref'),\n",
    "#      func.max( (func.col('role')==\"membrejury\").cast('int')).alias('has_jury'))\n",
    "#.groupBy('has_supervisor','has_ref','has_jury').count()).show()"
   ]
  },
  {
   "cell_type": "code",
   "execution_count": 8,
   "id": "98d13548-fafe-4b17-877d-d7014a3863cb",
   "metadata": {},
   "outputs": [
    {
     "name": "stdout",
     "output_type": "stream",
     "text": [
      "+--------------+-------+\n",
      "|has_link_these|  count|\n",
      "+--------------+-------+\n",
      "|             1|1030483|\n",
      "|             0| 220060|\n",
      "+--------------+-------+\n",
      "\n"
     ]
    }
   ],
   "source": [
    "merged = (set_french_authors.join(theses_oa, how= 'left', on =['author_id']))\n",
    "merged.cache()\n",
    "merged.groupBy(func.col('id').isNotNull().cast('int').alias('has_link_these')).count().show()"
   ]
  },
  {
   "cell_type": "code",
   "execution_count": 11,
   "id": "c5d0f14b-0f4d-4d25-ba73-c91ddae144a9",
   "metadata": {},
   "outputs": [
    {
     "data": {
      "text/plain": [
       "160286"
      ]
     },
     "execution_count": 11,
     "metadata": {},
     "output_type": "execute_result"
    }
   ],
   "source": [
    "merged.filter(func.col('idref').isNotNull()).select('author_id').distinct().count()"
   ]
  },
  {
   "cell_type": "code",
   "execution_count": 6,
   "id": "fc233d08-9c14-4d97-89d9-614a38ad4035",
   "metadata": {},
   "outputs": [
    {
     "name": "stdout",
     "output_type": "stream",
     "text": [
      "+---------+------+\n",
      "|has_these| count|\n",
      "+---------+------+\n",
      "|        1|138202|\n",
      "|        0|249054|\n",
      "+---------+------+\n",
      "\n"
     ]
    }
   ],
   "source": [
    "(set_french_authors.join(theses_oa.filter(func.col('role')=='author'), how= 'left', on =['author_id']).groupBy(func.col('id').isNotNull().cast('int').alias('has_these')).count()).show()"
   ]
  },
  {
   "cell_type": "code",
   "execution_count": 8,
   "id": "7f5fff84-bbe5-43b9-825d-98e287e16a81",
   "metadata": {},
   "outputs": [
    {
     "name": "stdout",
     "output_type": "stream",
     "text": [
      "+--------------+------+\n",
      "|has_supervised| count|\n",
      "+--------------+------+\n",
      "|             1| 58018|\n",
      "|             0|322328|\n",
      "+--------------+------+\n",
      "\n"
     ]
    }
   ],
   "source": [
    "(set_french_authors.join(theses_oa.filter(func.col('role')=='directeurthese'), how= 'left', on =['author_id']).groupBy(\n",
    "    'author_id'\n",
    ").agg(func.max(func.col('id').isNotNull().cast('int')).alias('has_supervised')).groupBy('has_supervised').count()).show()"
   ]
  },
  {
   "cell_type": "code",
   "execution_count": null,
   "id": "a9be8e7f-0260-4559-a56c-25c90498f2c4",
   "metadata": {},
   "outputs": [],
   "source": []
  }
 ],
 "metadata": {
  "kernelspec": {
   "display_name": "Python 3 (ipykernel)",
   "language": "python",
   "name": "python3"
  },
  "language_info": {
   "codemirror_mode": {
    "name": "ipython",
    "version": 3
   },
   "file_extension": ".py",
   "mimetype": "text/x-python",
   "name": "python",
   "nbconvert_exporter": "python",
   "pygments_lexer": "ipython3",
   "version": "3.11.9"
  }
 },
 "nbformat": 4,
 "nbformat_minor": 5
}
