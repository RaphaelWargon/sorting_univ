{
 "cells": [
  {
   "cell_type": "code",
   "execution_count": 10,
   "id": "d77edf74-c860-42ba-948b-655727581fbc",
   "metadata": {},
   "outputs": [],
   "source": [
    "%run header_data_treatment.ipynb"
   ]
  },
  {
   "cell_type": "code",
   "execution_count": 11,
   "id": "594ca2da-a40c-404b-880b-d9ab00273040",
   "metadata": {},
   "outputs": [],
   "source": [
    "works_au_af = spark.read.format('parquet').load('file:\\\\' + openalex_path + 'works_au_af.parquet')\n",
    "df_scanR = spark.read.format('parquet').load('file:\\\\' + scanR_path + 'publications.parquet')"
   ]
  },
  {
   "cell_type": "code",
   "execution_count": 24,
   "id": "48baf426-9387-46a3-ae72-af4256588a88",
   "metadata": {},
   "outputs": [],
   "source": [
    "df_authors = spark.read.format('parquet').load('file:\\\\' + openalex_path + 'authors.parquet')\n"
   ]
  },
  {
   "cell_type": "code",
   "execution_count": 13,
   "id": "a3628ead-ec27-4d1a-b1f8-9554bb369b0c",
   "metadata": {},
   "outputs": [
    {
     "name": "stdout",
     "output_type": "stream",
     "text": [
      "+-----------+--------------------+--------------------+--------------------+\n",
      "|  author_id|              titles|        institutions|              fields|\n",
      "+-----------+--------------------+--------------------+--------------------+\n",
      "|A5000016899|[MEASUREMENT OF T...|[I4210152651, I30...|[Engineering, Phy...|\n",
      "|A5000023309|[«Host-Guests Rel...|       [I4210128200]|[Biology, Physics...|\n",
      "|A5000083574|[Computational de...|[I1294671590, I37...|[Computer science...|\n",
      "|A5000087584|[Optimization of ...|[I48430043, I1294...|[Computer science...|\n",
      "|A5000093350|[Dentists’ perspe...|         [I92834545]|[Medicine, Psycho...|\n",
      "|A5000139201|[Rapport de missi...|[I251321805, I131...|[Chemistry, Compu...|\n",
      "|A5000156980|[Clinafloxacin mo...|[I2799288026, I42...|[Mathematics, Med...|\n",
      "|A5000157973|[Religious and no...|[I90669466, I2746...|[Art, History, Ph...|\n",
      "|A5000204781|[Effect of strong...|[I66946132, I4210...|[Engineering, Env...|\n",
      "|A5000209351|[Determination of...|[I4210134555, I30...|[Chemistry, Geolo...|\n",
      "|A5000211877|[Auditory Stimuli...|[I4210163467, I42...|[Medicine, Physic...|\n",
      "|A5000238209|[New developments...|       [I4210113334]|[Engineering, Med...|\n",
      "|A5000244939|[The convex wrapp...|       [I4210104139]|[Computer science...|\n",
      "|A5000248150|[Extra-terrestria...|       [I2738703131]|[Geology, Materia...|\n",
      "|A5000250788|[Determinants of ...|[I180670191, I129...|[Biology, Medicin...|\n",
      "|A5000295324|[Contributors, UV...|[I1294671590, I42...|[Psychology, Biol...|\n",
      "|A5000307258|[La Population de...|[I4210141690, I70...|[Biology, Geograp...|\n",
      "|A5000319728|[Manufacturing an...|[I4210135895, I27...|[Engineering, Mat...|\n",
      "|A5000320773|[Formal methods f...|[I899635006, I421...|[Computer science...|\n",
      "|A5000332038|[Long-term result...|[I3019246885, I42...|[Biology, Medicin...|\n",
      "+-----------+--------------------+--------------------+--------------------+\n",
      "only showing top 20 rows\n",
      "\n"
     ]
    }
   ],
   "source": [
    "works_au_af_subset = (works_au_af\n",
    "                      .join(works_au_af.filter(func.col('country')=='FR').select('author_id').distinct(),\n",
    "                            on = ['author_id'], how = 'inner')\n",
    "                      .groupBy('author_id')\n",
    "                      .agg( func.collect_set('title').alias('titles'),\n",
    "                               func.collect_set('inst_id').alias('institutions'),\n",
    "                              func.array_distinct(func.flatten(func.collect_set(func.col('fields')))).alias('fields')\n",
    "                             )\n",
    "                     )\n",
    "\n",
    "works_au_af_subset.cache()\n",
    "works_au_af_subset.show()"
   ]
  },
  {
   "cell_type": "code",
   "execution_count": null,
   "id": "f2485a5f-f925-4c26-8927-d85479eed900",
   "metadata": {},
   "outputs": [],
   "source": [
    "authors_scanR = (df_scanR\n",
    "                 .withColumn('authors', func.explode(func.col('authors')))\n",
    "                 .withColumn('af', func.explode(func.col('authors.affiliations')))\n",
    "                 .withColumn('idref', func.regexp_replace(func.lower(func.col(\"authors.person\")), 'idref',''))\n",
    "                 .withColumn('idref', func.when(func.col('idref').isNull(), func.col('authors.fullName')).otherwise(func.col('idref')))\n",
    "                 .groupBy('idref')\n",
    "                 .agg( *[func.first(col).alias(col.replace('authors.', '')) for col in ['authors.firstName', 'authors.fullName', 'authors.lastName']],\n",
    "                         func.collect_set('title.default').alias('titles'),\n",
    "                         func.collect_set('af').alias('institutions'),\n",
    "                         func.array_distinct(func.flatten(func.collect_set(func.col('domains')))).alias('fields')\n",
    "                     )\n",
    "                )\n",
    "authors_scanR.cache()\n",
    "authors_scanR.show()"
   ]
  },
  {
   "cell_type": "code",
   "execution_count": 22,
   "id": "9a2dc501-2102-4ab9-a3e5-364bf0378a8e",
   "metadata": {},
   "outputs": [],
   "source": [
    "authors_scanR = authors_scanR.toDF('idref', 'firstName', 'fullName', 'lastName', 'titles_scanR', 'institutions_scanR', 'fields_scanR')"
   ]
  },
  {
   "cell_type": "code",
   "execution_count": 23,
   "id": "ca362c39-86d1-4437-aa94-76861604ceab",
   "metadata": {},
   "outputs": [
    {
     "name": "stdout",
     "output_type": "stream",
     "text": [
      "+-------------+--------------+--------------------+---------------+--------------------+--------------------+--------------------+\n",
      "|        idref|     firstName|            fullName|       lastName|        titles_scanR|  institutions_scanR|        fields_scanR|\n",
      "+-------------+--------------+--------------------+---------------+--------------------+--------------------+--------------------+\n",
      "|- Auclair, D.|             -|       - Auclair, D.|    Auclair, D.|[Gestion des pays...|             [inrae]|[{NULL, {FORESTER...|\n",
      "|   - Roman D.|             -|          - Roman D.|       Roman D.|[Génie végétal en...|     [grid.464018.f]|[{Q1369325, {Géni...|\n",
      "|    026733412|François-Marie|François-Marie Bl...|        Blondel|[Diagnostic et ai...|[grid.29172.3f, t...|[{Q17006654, {ano...|\n",
      "|    026760312|          Yves|       Yves Bussiere|       Bussiere|[Vulnérabilité au...|[grid.418084.1, h...|[{Q142, {français...|\n",
      "|    026814986|     Jean-Marc|Jean-Marc de Leer...|  de Leersnyder|[Les câbles sous-...|[108894, hec, 817...|[{Q190444, {Terre...|\n",
      "|    026878143|           Guy|          Guy Gagnon|         Gagnon|[La notion d'hist...|     [grid.508487.6]|[{200494112, {Liu...|\n",
      "|    026898934|          Jean|        Jean Gouriou|        Gouriou|[Feasibility of u...|[201722498K, grid...|[{Q186161, {Ioniz...|\n",
      "|    026926113|       Waleria|  Waleria Hryniewicz|     Hryniewicz|[Interventions to...|     [grid.419694.7]|[{Q6934595, {Mult...|\n",
      "|    026936135|  Jean-Charles|Jean-Charles Jauf...|       Jauffret|[Parlement, gouve...|[197517170, 19751...|[{095938524, {Déf...|\n",
      "|    026980827|            F.|           F. Leiber|         Leiber|[Implementation o...|[grid.424520.5, g...|[{Q61476, {fatty ...|\n",
      "|    027019233|      Frédéric|      Frédéric Maury|          Maury|[Etude de l'activ...|[13002358300011, ...|[{Q575064, {synov...|\n",
      "|    027042901|          Numa|         Numa Murard|         Murard|[Présentation, L’...|[grid.7452.4, 197...|[{Q271108, {popul...|\n",
      "|    027066967|        Pierre|       Pierre Perrin|         Perrin|[Félicité, Jean-M...|[192903466, grid....|[{027264998, {Ens...|\n",
      "|    027074773|         Alain|          Alain Piot|           Piot|[Pouvoir des cons...|[grid.462844.8, 1...|[{NULL, {conferen...|\n",
      "|    027098095|         Alain|        Alain Ricard|         Ricard|[Pour une géograp...|[grid.435453.0, a...|[{Q11409, {aparth...|\n",
      "|    027129861|       Georges|      Georges Sebbag|         Sebbag|[Les durées autom...|[197517170, 19751...|[{027313247, {Per...|\n",
      "|    027144585|        Marcel|       Marcel Soulas|         Soulas|[Contribution à l...|[19490970100303, ...|[{027816893, {Tra...|\n",
      "|    02714979x|          A.L.|          A.L. Stork|          Stork|[Uppermost mantle...|       [grid.5337.2]|[{Q101949, {Upper...|\n",
      "|    027155943|      Huguette|Huguette Taviani-...|Taviani-Carozzi|[Eginhard, Vie de...|[grid.462844.8, g...|[{027261794, {His...|\n",
      "|    027174581|        Michel|      Michel Valière|        Valière|[Le Dû, Jean et G...|[198608564, grid....|[{Q93259, {Petite...|\n",
      "+-------------+--------------+--------------------+---------------+--------------------+--------------------+--------------------+\n",
      "only showing top 20 rows\n",
      "\n"
     ]
    }
   ],
   "source": [
    "authors_scanR.show()"
   ]
  },
  {
   "cell_type": "code",
   "execution_count": 26,
   "id": "370c8111-405c-432f-be38-c2894025cddc",
   "metadata": {},
   "outputs": [
    {
     "name": "stdout",
     "output_type": "stream",
     "text": [
      "+-----+--------+-------+\n",
      "|in_oa|in_scanR|  count|\n",
      "+-----+--------+-------+\n",
      "| NULL|       1|1448801|\n",
      "|    1|    NULL| 771446|\n",
      "|    1|       1| 799712|\n",
      "+-----+--------+-------+\n",
      "\n"
     ]
    }
   ],
   "source": [
    "test_merge = (works_au_af_subset\n",
    "              .join(df_authors.select(func.regexp_replace(func.col('id'), 'https://openalex.org/','').alias('author_id'),\n",
    "                                      func.col('display_name').alias('fullName')), on ='author_id', how ='inner')\n",
    "              .withColumn('in_oa', func.lit(1))\n",
    "              .join(authors_scanR\n",
    "                    .withColumn('in_scanR', func.lit(1)), on = 'fullName', how = 'full')\n",
    "             )\n",
    "test_merge.groupBy('in_oa','in_scanR').count().show()"
   ]
  },
  {
   "cell_type": "code",
   "execution_count": 27,
   "id": "2770e98b-b480-4119-8bdf-4b4088611c91",
   "metadata": {},
   "outputs": [
    {
     "name": "stdout",
     "output_type": "stream",
     "text": [
      "+------------------+---------+------+------------+------+-----+------------------+---------+----------------+--------------------+--------------------+--------------------+--------+\n",
      "|          fullName|author_id|titles|institutions|fields|in_oa|             idref|firstName|        lastName|        titles_scanR|  institutions_scanR|        fields_scanR|in_scanR|\n",
      "+------------------+---------+------+------------+------+-----+------------------+---------+----------------+--------------------+--------------------+--------------------+--------+\n",
      "|     - Auclair, D.|     NULL|  NULL|        NULL|  NULL| NULL|     - Auclair, D.|        -|     Auclair, D.|[Gestion des pays...|             [inrae]|[{NULL, {FORESTER...|       1|\n",
      "|        - Roman D.|     NULL|  NULL|        NULL|  NULL| NULL|        - Roman D.|        -|        Roman D.|[Génie végétal en...|     [grid.464018.f]|[{Q1369325, {Géni...|       1|\n",
      "|        42 Factory|     NULL|  NULL|        NULL|  NULL| NULL|        42 Factory|     NULL|            NULL|                  []|         [810418798]|[{G01K13/02, {The...|       1|\n",
      "|            ; Beck|     NULL|  NULL|        NULL|  NULL| NULL|            ; Beck|        ;|            Beck|          [Abstract]|       [grid.6936.a]|                  []|       1|\n",
      "|       A Baldeschi|     NULL|  NULL|        NULL|  NULL| NULL|         09765101x|        A|       Baldeschi|[The Hi-GAL catal...|     [grid.466835.a]|[{Q3239165, {Gala...|       1|\n",
      "|        A Bertaina|     NULL|  NULL|        NULL|  NULL| NULL|        A Bertaina|        A|        Bertaina|[NG2 antigen is i...|       [grid.8982.b]|[{Q17910930, {NG2...|       1|\n",
      "|          A Biella|     NULL|  NULL|        NULL|  NULL| NULL|         128789646|        A|          Biella|[Dynamical proper...|[grid.469994.f, 2...|[{Q3261000, {Dyna...|       1|\n",
      "|      A Bousseksou|     NULL|  NULL|        NULL|  NULL| NULL|      A Bousseksou|        A|      Bousseksou|[Quantum-cascade ...|[19911101400015, ...|[{Q7894528, {7-8}...|       1|\n",
      "|          A Budukh|     NULL|  NULL|        NULL|  NULL| NULL|          A Budukh|        A|          Budukh|[Place of birth a...|     [grid.410871.b]|[{Q1322263, {Plac...|       1|\n",
      "|        A C Fabian|     NULL|  NULL|        NULL|  NULL| NULL|        A C Fabian|      A C|          Fabian|[Deep and narrow ...|[grid.5335.0, htt...|[{Q631379, {halo}...|       1|\n",
      "|A Córdova-Palomera|     NULL|  NULL|        NULL|  NULL| NULL|A Córdova-Palomera|        A|Córdova-Palomera|[Genome-wide meth...|       [grid.5841.8]|                  []|       1|\n",
      "|        A Dubietis|     NULL|  NULL|        NULL|  NULL| NULL|        A Dubietis|  Audrius|      A Dubietis|[Filamentation an...|[grid.6441.7, htt...|[{Q5448273, {Fila...|       1|\n",
      "|        A Efthyani|     NULL|  NULL|        NULL|  NULL| NULL|        A Efthyani|        A|        Efthyani|[Study of respons...|     [grid.434933.a]|[{Q2751034, {mice...|       1|\n",
      "|         A Etemadi|     NULL|  NULL|        NULL|  NULL| NULL|         27143838x|        A|         Etemadi|[The gastro-esoph...|[grid.411705.6, g...|[{Q41861, {Hypert...|       1|\n",
      "|            A Giba|     NULL|  NULL|        NULL|  NULL| NULL|         230166652|        A|            Giba|[Heavily Doped Si...|[ijl-ul, https://...|[{05973129x, {Nit...|       1|\n",
      "|            A Hart|     NULL|  NULL|        NULL|  NULL| NULL|            A Hart|        A|            Hart|[Inflammatory Bow...|[grid.416510.7, g...|[{Q917447, {Infla...|       1|\n",
      "|      A Kiialainen|     NULL|  NULL|        NULL|  NULL| NULL|      A Kiialainen|        A|      Kiialainen|[Emicizumab proph...|     [grid.417570.0]|[{Q27155409, {Emi...|       1|\n",
      "|            A King|     NULL|  NULL|        NULL|  NULL| NULL|            A King|        A|            King|[Current Status o...|[https://ror.org/...|[{Q3042540, {Micr...|       1|\n",
      "|        A Morselli|     NULL|  NULL|        NULL|  NULL| NULL|        A Morselli|        A|        Morselli|[COMCUBE: A CONST...|       [grid.6045.7]|[{Q8928, {CONSTEL...|       1|\n",
      "|  A P Schaffarczyk|     NULL|  NULL|        NULL|  NULL| NULL|  A P Schaffarczyk|      A P|    Schaffarczyk|[Comparison of 3D...|     [grid.440947.a]|[{Q189177, {3D}, ...|       1|\n",
      "+------------------+---------+------+------------+------+-----+------------------+---------+----------------+--------------------+--------------------+--------------------+--------+\n",
      "only showing top 20 rows\n",
      "\n"
     ]
    }
   ],
   "source": [
    "test_merge.filter(func.col('in_oa').isNull()).show()"
   ]
  },
  {
   "cell_type": "code",
   "execution_count": 28,
   "id": "29481d8b-0edf-4637-a715-72d28b9ff635",
   "metadata": {},
   "outputs": [
    {
     "name": "stdout",
     "output_type": "stream",
     "text": [
      "+--------------+-----------+--------------------+--------------------+--------------------+-----+---------+---------+--------+--------------------+--------------------+--------------------+--------+\n",
      "|      fullName|  author_id|              titles|        institutions|              fields|in_oa|    idref|firstName|lastName|        titles_scanR|  institutions_scanR|        fields_scanR|in_scanR|\n",
      "+--------------+-----------+--------------------+--------------------+--------------------+-----+---------+---------+--------+--------------------+--------------------+--------------------+--------+\n",
      "|Mathias Wargon|A5054102803|[Caractéristiques...|[I4210129146, I42...|[Art, Political s...|    1|109258312|  Mathias|  Wargon|[The analysis of ...|[180036048, 19751...|[{Q220570, {Pulmo...|       1|\n",
      "+--------------+-----------+--------------------+--------------------+--------------------+-----+---------+---------+--------+--------------------+--------------------+--------------------+--------+\n",
      "\n"
     ]
    }
   ],
   "source": [
    "test_merge.filter(func.col('fullName')=='Mathias Wargon').show()"
   ]
  },
  {
   "cell_type": "code",
   "execution_count": null,
   "id": "dfab52c7-f9d4-4097-a8cc-a14e0902f996",
   "metadata": {},
   "outputs": [],
   "source": [
    "test_merge.cache()\n",
    "test_merge.filter(func.col('fullName')=='Odile Moreau').show()"
   ]
  }
 ],
 "metadata": {
  "kernelspec": {
   "display_name": "Python 3 (ipykernel)",
   "language": "python",
   "name": "python3"
  },
  "language_info": {
   "codemirror_mode": {
    "name": "ipython",
    "version": 3
   },
   "file_extension": ".py",
   "mimetype": "text/x-python",
   "name": "python",
   "nbconvert_exporter": "python",
   "pygments_lexer": "ipython3",
   "version": "3.11.9"
  }
 },
 "nbformat": 4,
 "nbformat_minor": 5
}
