{
 "cells": [
  {
   "cell_type": "code",
   "execution_count": 1,
   "id": "95803778-dcdd-4115-950e-94294e5aef80",
   "metadata": {},
   "outputs": [],
   "source": [
    "import re\n",
    "import os\n",
    "import gzip\n",
    "import shutil\n",
    "import pandas as pd\n",
    "import time\n",
    "from itertools import cycle, islice\n",
    "from transformers import pipeline, AutoModel, AutoModelForSequenceClassification,AutoTokenizer\n",
    "import findspark\n",
    "findspark.init(\"C:\\\\Spark\\\\spark-3.5.0-bin-hadoop3\")\n",
    "\n",
    "from pyspark.sql import SparkSession\n",
    "import pyspark.sql.functions as func\n",
    "from pyspark.sql.window import Window\n",
    "from pyspark.sql.types import StructType,StructField, StringType, IntegerType,ArrayType,BooleanType,NoneType\n",
    "spark = SparkSession.builder \\\n",
    "                    .config(\"spark.sql.debug.maxToStringFields\", 1000)\\\n",
    "                    .config(\"spark.sql.files.maxPartitionBytes\", str(160 * 1024 * 1024)+\"b\")\\\n",
    "                    .config(\"spark.executor.memory\", \"20g\")\\\n",
    "                    .config(\"spark.driver.memory\", \"20g\")\\\n",
    "                    .config('spark.executor.cores',4) \\\n",
    "                    .master(\"local[4]\") \\\n",
    "                    .appName('open_works') \\\n",
    "                    .getOrCreate()\n",
    "                    #.enableHiveSupport()\\\n",
    "    \n",
    "main_path = 'C:\\\\Users\\\\common\\\\projet_3_lru\\\\'\n",
    "scanR_path = 'D:\\\\scanR\\\\'\n",
    "openalex_path = 'D:\\\\openalex-snapshot\\\\data_extracted\\\\'\n"
   ]
  },
  {
   "cell_type": "code",
   "execution_count": 2,
   "id": "bec93bb7-0e8a-478a-bb9e-ea2ad962aab3",
   "metadata": {},
   "outputs": [],
   "source": [
    "df_scanR = spark.read.format('parquet').load('file:\\\\' + scanR_path + 'publications.parquet')"
   ]
  },
  {
   "cell_type": "code",
   "execution_count": 32,
   "id": "99a00cc6-0cdd-4fb8-84fb-19fdf5017398",
   "metadata": {},
   "outputs": [
    {
     "data": {
      "text/plain": [
       "['affiliations',\n",
       " 'authors',\n",
       " 'authorsCount',\n",
       " 'doiUrl',\n",
       " 'domains',\n",
       " 'externalIds',\n",
       " 'grantedDate',\n",
       " 'id',\n",
       " 'inpadocFamily',\n",
       " 'inventionKind',\n",
       " 'isInternational',\n",
       " 'isOa',\n",
       " 'isOeb',\n",
       " 'keywords',\n",
       " 'oaEvidence',\n",
       " 'patents',\n",
       " 'productionType',\n",
       " 'projects',\n",
       " 'publicationDate',\n",
       " 'source',\n",
       " 'submissionDate',\n",
       " 'summary',\n",
       " 'title',\n",
       " 'type',\n",
       " 'year']"
      ]
     },
     "execution_count": 32,
     "metadata": {},
     "output_type": "execute_result"
    }
   ],
   "source": [
    "df_scanR.columns"
   ]
  },
  {
   "cell_type": "code",
   "execution_count": 22,
   "id": "fb45e6f6-87c8-42a3-8bc1-6ed379f02751",
   "metadata": {},
   "outputs": [],
   "source": [
    "import unidecode\n",
    "def unidecode_debug(x):\n",
    "    try:\n",
    "        y = unidecode.unidecode(x)\n",
    "        return(y)\n",
    "    except:\n",
    "        return(x)\n",
    "\n",
    "udf_unidecode = func.udf(unidecode_debug, StringType())"
   ]
  },
  {
   "cell_type": "code",
   "execution_count": 45,
   "id": "60819414-519c-4ee1-a780-1bf5aa475222",
   "metadata": {},
   "outputs": [],
   "source": [
    "openalex_path = 'D:\\\\openalex-snapshot\\\\data_extracted\\\\'\n",
    "\n",
    "works_au_af_subset = (spark.read.format('parquet').load('file:\\\\' + openalex_path + 'works_au_af.parquet').filter(func.col('country')=='FR')\n",
    "               .select('work_id','title', 'citations',func.col('publication_year').alias('year'),'language').distinct())"
   ]
  },
  {
   "cell_type": "code",
   "execution_count": 52,
   "id": "5e20b6a2-84cb-4329-a318-def4c4464f01",
   "metadata": {},
   "outputs": [
    {
     "name": "stdout",
     "output_type": "stream",
     "text": [
      "+-----+--------+------+\n",
      "|in_oa|in_scanr| count|\n",
      "+-----+--------+------+\n",
      "|    1|    NULL| 41924|\n",
      "| NULL|       1|128721|\n",
      "|    1|       1|241960|\n",
      "+-----+--------+------+\n",
      "\n"
     ]
    }
   ],
   "source": [
    "test_merge = (df_scanR.filter(func.col('year')==2019)\n",
    "              .filter(func.col('productionType') == 'publication')\n",
    "              .select(func.col('title.default').alias('title'),'id', func.lit(1).alias('in_scanr'))\n",
    "              #.withColumn('title', udf_unidecode(func.col('title')))\n",
    "              .withColumn('title', func.lower(func.col('title')))\n",
    "              .join(works_au_af_subset.filter(func.col('year')==2019)\n",
    "                    .drop('year')\n",
    "                    #.withColumn('title', udf_unidecode(func.col('title')))\n",
    "                    .withColumn('title', func.lower(func.col('title')))\n",
    "                    .withColumn('in_oa', func.lit(1))\n",
    "                    , on = ['title'], how = 'full')\n",
    "             )\n",
    "test_merge.cache()\n",
    "test_merge.groupBy('in_oa','in_scanr').count().show()\n"
   ]
  },
  {
   "cell_type": "code",
   "execution_count": 63,
   "id": "d0e02c51-5d22-4eda-9633-815653d08f3d",
   "metadata": {},
   "outputs": [
    {
     "name": "stdout",
     "output_type": "stream",
     "text": [
      "+-----+--------+--------+------+---------+-------------------+-------+-------+----+\n",
      "|in_oa|in_scanr|language| count|citations|            avg_cit|med_cit|3_quart| max|\n",
      "+-----+--------+--------+------+---------+-------------------+-------+-------+----+\n",
      "|    1|    NULL|   other|  2195|      516|0.23507972665148064|      0|      0|  24|\n",
      "| NULL|       1|   other|     0|     NULL|               NULL|   NULL|   NULL|NULL|\n",
      "|    1|       1|      en|149478|  1913256|  12.79958254726448|      2|     30|9119|\n",
      "|    1|    NULL|      en| 25873|    71554|  2.765585745758126|      0|      5|1846|\n",
      "|    1|    NULL|      fr| 13856|      792|0.05715935334872979|      0|      0|  63|\n",
      "|    1|       1|      fr| 55472|    22914| 0.4130732621863282|      0|      0| 230|\n",
      "|    1|       1|   other| 37010|    11951|0.32291272629019185|      0|      1| 269|\n",
      "+-----+--------+--------+------+---------+-------------------+-------+-------+----+\n",
      "\n"
     ]
    }
   ],
   "source": [
    "test_merge.groupBy('in_oa','in_scanr',\n",
    "                   (func.when(func.col('language')== 'en', 'en')\n",
    "                   .when(func.col('language')== 'fr', 'fr')\n",
    "                    .otherwise('other'))\n",
    "                   .alias('language')).agg(\n",
    "    func.count('work_id').alias('count'), func.sum('citations').alias('citations'), \n",
    "    func.mean('citations').alias('avg_cit'), func.percentile_approx('citations', 0.5).alias('med_cit'),\n",
    "    func.percentile_approx('citations', 0.75).alias('3_quart'), func.max('citations').alias('max')\n",
    "                   ).show()\n"
   ]
  },
  {
   "cell_type": "code",
   "execution_count": 56,
   "id": "e137de05-c5c8-44d5-be14-c52cef45bae3",
   "metadata": {},
   "outputs": [
    {
     "name": "stdout",
     "output_type": "stream",
     "text": [
      "+--------------------+----+--------+-----------+---------+--------+-----+\n",
      "|               title|  id|in_scanr|    work_id|citations|language|in_oa|\n",
      "+--------------------+----+--------+-----------+---------+--------+-----+\n",
      "|                NULL|NULL|    NULL|W3153289204|        0|      fr|    1|\n",
      "|                NULL|NULL|    NULL|W2945098689|        0|      fr|    1|\n",
      "|                NULL|NULL|    NULL|W3046631608|        0|      fr|    1|\n",
      "|                NULL|NULL|    NULL|W3213035235|        0|      fr|    1|\n",
      "|                NULL|NULL|    NULL|W3045959133|        1|      fr|    1|\n",
      "|                NULL|NULL|    NULL|W4251115215|        0|      fr|    1|\n",
      "|                NULL|NULL|    NULL|W3106607111|        0|      fr|    1|\n",
      "|\" erreurs et inve...|NULL|    NULL|W4313730129|        0|      fr|    1|\n",
      "|\" on a ri comme a...|NULL|    NULL|W4288573239|        0|      fr|    1|\n",
      "|\" on a ri comme a...|NULL|    NULL|W4288573310|        0|      fr|    1|\n",
      "|\" un retour aux s...|NULL|    NULL|W4285081589|        0|      fr|    1|\n",
      "|\" un retour aux s...|NULL|    NULL|W4206891064|        0|      fr|    1|\n",
      "|\"\"nu comme eve à ...|NULL|    NULL|W4288159834|        0|      fr|    1|\n",
      "|\"\"nu comme eve à ...|NULL|    NULL|W3005598049|        0|      fr|    1|\n",
      "|\"-neun daero\" en ...|NULL|    NULL|W4288301166|        0|      fr|    1|\n",
      "|\"... et que la lu...|NULL|    NULL|W4288401808|        0|      fr|    1|\n",
      "|\"... et que la lu...|NULL|    NULL|W2989741941|        0|      fr|    1|\n",
      "|\"... et que la lu...|NULL|    NULL|W4286814755|        0|      fr|    1|\n",
      "|\"1. le gisant du ...|NULL|    NULL|W4289021583|        0|      fr|    1|\n",
      "|\"action humanitai...|NULL|    NULL|W2999669290|        0|      fr|    1|\n",
      "+--------------------+----+--------+-----------+---------+--------+-----+\n",
      "only showing top 20 rows\n",
      "\n"
     ]
    }
   ],
   "source": [
    "test_merge.filter((func.col('language')=='fr')&(func.col('in_scanr').isNull())).show()"
   ]
  },
  {
   "cell_type": "code",
   "execution_count": 36,
   "id": "79588c62-c87b-44c9-9587-95b646385be7",
   "metadata": {},
   "outputs": [
    {
     "name": "stdout",
     "output_type": "stream",
     "text": [
      "+-----+--------+------+\n",
      "|in_oa|in_scanr| count|\n",
      "+-----+--------+------+\n",
      "|    1|    NULL| 41924|\n",
      "| NULL|       1|128721|\n",
      "|    1|       1|241960|\n",
      "+-----+--------+------+\n",
      "\n"
     ]
    }
   ],
   "source": [
    "test_merge = (df_scanR.filter(func.col('year')==2019)\n",
    "              .filter(func.col('productionType') == 'publication')\n",
    "              .select(func.col('title.default').alias('title'),'id', func.lit(1).alias('in_scanr'))\n",
    "              #.withColumn('title', udf_unidecode(func.col('title')))\n",
    "              .withColumn('title', func.lower(func.col('title')))\n",
    "              .join(works_au_af_subset.filter(func.col('year')==2019)\n",
    "                    .drop('year')\n",
    "                    #.withColumn('title', udf_unidecode(func.col('title')))\n",
    "                    .withColumn('title', func.lower(func.col('title')))\n",
    "                    .withColumn('in_oa', func.lit(1))\n",
    "                    , on = ['title'], how = 'full')\n",
    "             )\n",
    "\n",
    "test_merge.groupBy('in_oa','in_scanr').count().show()\n"
   ]
  },
  {
   "cell_type": "code",
   "execution_count": 38,
   "id": "83d48f0a-9856-4beb-b4c0-635ee8fb6948",
   "metadata": {},
   "outputs": [
    {
     "name": "stdout",
     "output_type": "stream",
     "text": [
      "+-----+----+--------+-----------+---------+-----+\n",
      "|title|  id|in_scanr|    work_id|citations|in_oa|\n",
      "+-----+----+--------+-----------+---------+-----+\n",
      "| NULL|NULL|    NULL|W3118980988|        0|    1|\n",
      "| NULL|NULL|    NULL|W2588093740|        9|    1|\n",
      "| NULL|NULL|    NULL|W4232756027|        0|    1|\n",
      "| NULL|NULL|    NULL|W4245439636|        0|    1|\n",
      "| NULL|NULL|    NULL|W4241699515|        0|    1|\n",
      "| NULL|NULL|    NULL|W3122775396|        3|    1|\n",
      "| NULL|NULL|    NULL|W4248855243|        0|    1|\n",
      "| NULL|NULL|    NULL|W4256290495|        0|    1|\n",
      "| NULL|NULL|    NULL|W3083674946|        0|    1|\n",
      "| NULL|NULL|    NULL|W4235757433|        1|    1|\n",
      "| NULL|NULL|    NULL|W4230365602|        0|    1|\n",
      "| NULL|NULL|    NULL|W4229643486|        0|    1|\n",
      "| NULL|NULL|    NULL|W4230599589|        0|    1|\n",
      "| NULL|NULL|    NULL|W4243087944|        0|    1|\n",
      "| NULL|NULL|    NULL|W4293191137|        0|    1|\n",
      "| NULL|NULL|    NULL|W3035799676|        0|    1|\n",
      "| NULL|NULL|    NULL|W2992696898|        0|    1|\n",
      "| NULL|NULL|    NULL|W3046631608|        0|    1|\n",
      "| NULL|NULL|    NULL|W4237409128|        0|    1|\n",
      "| NULL|NULL|    NULL|W4249484378|        0|    1|\n",
      "+-----+----+--------+-----------+---------+-----+\n",
      "only showing top 20 rows\n",
      "\n"
     ]
    }
   ],
   "source": [
    "test_merge.filter(func.col('in_scanr').isNull()).show()"
   ]
  },
  {
   "cell_type": "code",
   "execution_count": 41,
   "id": "cd0d6496-8785-47fc-9f85-005682f84968",
   "metadata": {},
   "outputs": [
    {
     "name": "stdout",
     "output_type": "stream",
     "text": [
      "+---------------+-----+\n",
      "|(title IS NULL)|count|\n",
      "+---------------+-----+\n",
      "|           true|   66|\n",
      "|          false|41858|\n",
      "+---------------+-----+\n",
      "\n"
     ]
    }
   ],
   "source": [
    "test_merge.filter(func.col('in_scanr').isNull()).groupBy(func.col('title').isNull()).count().show()"
   ]
  },
  {
   "cell_type": "code",
   "execution_count": 44,
   "id": "905e8367-4f0f-4d89-b4c2-676c6f88e50a",
   "metadata": {},
   "outputs": [
    {
     "data": {
      "text/plain": [
       "[Row(title='\"accounting treatment of transactions with partners with invalid vat code\"', id='doi10.31926/but.es.2019.12.61.1.17', in_scanr=1, work_id=None, citations=None, in_oa=None),\n",
       " Row(title='\"aquí y ahora\": la noción de contrato social en el lesbianismo materialista de monique wittig', id='doi10.5209/infe.60722', in_scanr=1, work_id=None, citations=None, in_oa=None),\n",
       " Row(title='\"blockchain research in information systems: current trends and an inclusive future research agenda\"', id='doi10.17705/1jais.00571', in_scanr=1, work_id=None, citations=None, in_oa=None),\n",
       " Row(title='\"chantons noël\"(à propos de la ballade xi de l’adolescence clémentine)', id='doi10.4000/babel.5669', in_scanr=1, work_id=None, citations=None, in_oa=None),\n",
       " Row(title='\"cosa guardiamo quando guardiamo un evento sportivo\"? il ruolo dell’ultimo uomo nel recente panorama del giornalismo sportivo in italia', id='doi10.4000/italies.7739', in_scanr=1, work_id=None, citations=None, in_oa=None),\n",
       " Row(title='\"distribution 4.0\" : une nouvelle révolution commerciale ?', id='doi10.3917/leco.081.0008', in_scanr=1, work_id=None, citations=None, in_oa=None),\n",
       " Row(title='\"kerkeb, danseuse berbère\" de marcel samuel-rousseau (1951), derniers feux de l\\'orientalisme à l\\'opéra de paris ?', id='halhalshs-02299886', in_scanr=1, work_id=None, citations=None, in_oa=None),\n",
       " Row(title='\"machine llrning\": learning to softly demodulate', id='doi10.1109/gcwkshps45667.2019.9024433', in_scanr=1, work_id=None, citations=None, in_oa=None),\n",
       " Row(title='\"moving fourth\": a vision toward achieving healthy living with hiv beyond viral suppression', id='doi10.24875/aidsrev.19000088', in_scanr=1, work_id=None, citations=None, in_oa=None),\n",
       " Row(title='\"reálný socialismus\"', id='doi10.46957/con.2019.1.11', in_scanr=1, work_id=None, citations=None, in_oa=None),\n",
       " Row(title='\"saint françois d\\'assise\" d\\'olivier messiaen pour l\\'opéra de paris », \"l\\'encyclopédie de l\\'opéra de paris\", henri loyrette et sarah barbedette, (dir.), paris, réunion des musées nationaux', id='halhal-03901508', in_scanr=1, work_id=None, citations=None, in_oa=None),\n",
       " Row(title='\"فاعلية برنامج إرشادي قائم علي إستراتيجية الخرائط الذهنية لتنمية وعي الأطفال بإدارة وقت الفراغ لمواجهة إدمان الألعاب الإلكترونية \"', id='doi10.21608/balexu.2019.199499', in_scanr=1, work_id=None, citations=None, in_oa=None),\n",
       " Row(title='#balancetonport', id='halhal-02378177', in_scanr=1, work_id=None, citations=None, in_oa=None),\n",
       " Row(title='#guanxi @chineafrique\\u202f: la mobilisation des relations interpersonnelles dans la diplomatie publique chinoise à l’heure de numérique', id='halhal-02418990', in_scanr=1, work_id=None, citations=None, in_oa=None),\n",
       " Row(title='#parisienne', id='doi10.5040/9781350102972.ch-007', in_scanr=1, work_id=None, citations=None, in_oa=None),\n",
       " Row(title='#turāṯ', id='doi10.4000/anisl.5432', in_scanr=1, work_id=None, citations=None, in_oa=None),\n",
       " Row(title='$$\\\\delta $$ -subgaussian random variables in cryptography', id='doi10.1007/978-3-030-21548-4_14', in_scanr=1, work_id=None, citations=None, in_oa=None),\n",
       " Row(title='$$\\\\mathcal {s}$$s-procedure for positive switched linear systems and its equivalence to lyapunov–metzler inequalities', id='doi10.1007/978-3-030-04327-8_6', in_scanr=1, work_id=None, citations=None, in_oa=None),\n",
       " Row(title='$$t^{[p]}$$-formalism in besov spaces', id='doi10.1007/s00025-019-1111-y', in_scanr=1, work_id=None, citations=None, in_oa=None),\n",
       " Row(title='$\\\\alpha_s$(2019) discussions summary', id='doi10.22323/1.365.0026', in_scanr=1, work_id=None, citations=None, in_oa=None)]"
      ]
     },
     "execution_count": 44,
     "metadata": {},
     "output_type": "execute_result"
    }
   ],
   "source": [
    "test_merge.filter(func.col('in_oa').isNull()).limit(20).collect()"
   ]
  },
  {
   "cell_type": "code",
   "execution_count": 48,
   "id": "40f244cf-af03-439e-b0d6-3c975e0fe74f",
   "metadata": {},
   "outputs": [
    {
     "name": "stdout",
     "output_type": "stream",
     "text": [
      "+-----+-------+\n",
      "| type|  count|\n",
      "+-----+-------+\n",
      "|  doi|2322332|\n",
      "|  hal|2479391|\n",
      "|  nnt| 444248|\n",
      "|scanr|2322332|\n",
      "| pmid| 551349|\n",
      "+-----+-------+\n",
      "\n"
     ]
    }
   ],
   "source": [
    "df_scanR.select(func.explode(func.col('externalIds')).alias('externalIds'),'id').groupBy('externalIds.type').count().show()"
   ]
  }
 ],
 "metadata": {
  "kernelspec": {
   "display_name": "Python 3 (ipykernel)",
   "language": "python",
   "name": "python3"
  },
  "language_info": {
   "codemirror_mode": {
    "name": "ipython",
    "version": 3
   },
   "file_extension": ".py",
   "mimetype": "text/x-python",
   "name": "python",
   "nbconvert_exporter": "python",
   "pygments_lexer": "ipython3",
   "version": "3.11.9"
  }
 },
 "nbformat": 4,
 "nbformat_minor": 5
}
