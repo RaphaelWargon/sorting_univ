{
 "cells": [
  {
   "cell_type": "code",
   "execution_count": 1,
   "id": "9fc67bc7-ec2b-4280-a99a-40dbcf7b65e0",
   "metadata": {},
   "outputs": [],
   "source": [
    "%run header_data_treatment.ipynb"
   ]
  },
  {
   "cell_type": "code",
   "execution_count": 99,
   "id": "21e2bae0-0f9d-4efb-a848-902fc0918f96",
   "metadata": {},
   "outputs": [],
   "source": [
    "works_au_af = spark.read.format('parquet').load('file:\\\\' + openalex_path + 'works_au_af.parquet')\n"
   ]
  },
  {
   "cell_type": "code",
   "execution_count": 103,
   "id": "ea81f590-ac60-41ae-b937-512179cc39ae",
   "metadata": {
    "scrolled": true
   },
   "outputs": [
    {
     "data": {
      "text/plain": [
       "[Row(year=1991, inst_id=None, inst_type=None, title='Photographic astronomy with MAMA.'),\n",
       " Row(year=1997, inst_id=None, inst_type=None, title=\"Entre innovation et tradition, une lecture du réformisme ottoman à travers l'outil militaire, du Congrès de Berlin à la Première Guerre mondiale, 1878-1914\"),\n",
       " Row(year=1997, inst_id=None, inst_type=None, title='La création de deux régiments de cavalerie timariote bosniaques en 1874'),\n",
       " Row(year=1999, inst_id=None, inst_type=None, title='Bosnian Resistance to Conscription in the Nineteenth Century'),\n",
       " Row(year=2003, inst_id='I4210102810', inst_type='facility', title='Echoes of national liberation: Turkey viewed from the Maghrib in the 1920s'),\n",
       " Row(year=2003, inst_id='I162346809', inst_type='education', title='Echoes of national liberation: Turkey viewed from the Maghrib in the 1920s'),\n",
       " Row(year=2003, inst_id=None, inst_type=None, title=\"Les ressources scientifiques de l'Occident au service de la modernisation de l'armée ottomane (fin XIXe -début XXe siècle)\"),\n",
       " Row(year=2004, inst_id=None, inst_type=None, title=\"La réforme par le haut : Expérimentation de la réforme de l'armée dans le monde musulman méditerranéen\"),\n",
       " Row(year=2004, inst_id=None, inst_type=None, title='La réforme par le haut'),\n",
       " Row(year=2005, inst_id=None, inst_type=None, title=\"Une 'Mission Militaire' Ottomane au Maroc au Début du 2' Siècle\"),\n",
       " Row(year=2007, inst_id=None, inst_type=None, title='Avant-propos'),\n",
       " Row(year=2007, inst_id=None, inst_type=None, title='Introduction'),\n",
       " Row(year=2007, inst_id=None, inst_type=None, title='Préface'),\n",
       " Row(year=2007, inst_id=None, inst_type=None, title='L’Empire ottoman à l’âge des réformes'),\n",
       " Row(year=2007, inst_id=None, inst_type=None, title='Note sur la transcription suivie'),\n",
       " Row(year=2007, inst_id=None, inst_type=None, title='Chapitre 7 : L’aile militaire jeune-turque au pouvoir (1913-1914)'),\n",
       " Row(year=2007, inst_id=None, inst_type=None, title='Index'),\n",
       " Row(year=2007, inst_id=None, inst_type=None, title='Chapitre 4 : Gâzî versus individu : Trois généraux ottomans face au pouvoir hamidien : Ahmed Muhtar, Süleyman et Osman'),\n",
       " Row(year=2007, inst_id=None, inst_type=None, title='Prologue'),\n",
       " Row(year=2007, inst_id=None, inst_type=None, title='Chapitre 6 : L’aile civile du Comité Union et progrès au pouvoir (1908-1913)'),\n",
       " Row(year=2007, inst_id=None, inst_type=None, title=\"L'empire Ottoman à l'âge des réformes : les hommes et les idées du >militaire 1826-1914\"),\n",
       " Row(year=2007, inst_id=None, inst_type=None, title='Glossaire'),\n",
       " Row(year=2007, inst_id=None, inst_type=None, title='Chapitre 3 : Les espaces du militaire : vers l’incorporation de la périphérie'),\n",
       " Row(year=2007, inst_id=None, inst_type=None, title='Abréviations'),\n",
       " Row(year=2007, inst_id=None, inst_type=None, title='Chapitre 5 : La contestation dans l’armée ottomane à la fin de l’Empire ottoman'),\n",
       " Row(year=2007, inst_id=None, inst_type=None, title='Chapitre 2 : La culture, les diplômes'),\n",
       " Row(year=2007, inst_id=None, inst_type=None, title='Bibliographie'),\n",
       " Row(year=2007, inst_id=None, inst_type=None, title='Chapitre 1 : Être militaire dans l’Empire ottoman'),\n",
       " Row(year=2007, inst_id=None, inst_type=None, title='Conclusion'),\n",
       " Row(year=2009, inst_id=None, inst_type=None, title=\"Réforme de l'État et réformismes au Maghreb : XIXe-XXe siècles\"),\n",
       " Row(year=2010, inst_id=None, inst_type=None, title='Entre restauration et (ré-) ordonnance. L’appropriation savante de la réforme chez Ahmed b. Khaled an-Nasiri (1835-1897)'),\n",
       " Row(year=2010, inst_id=None, inst_type=None, title='İki Dünya Arasında: Osmanlı Subayları, Kültürel Aktarım ve Siyasal Etkileşim'),\n",
       " Row(year=2012, inst_id=None, inst_type=None, title=\"Les Archives ottomanes du centre de l'Empire ottoman\"),\n",
       " Row(year=2013, inst_id=None, inst_type=None, title='Notion et nature de l’État, de l’héritage ottoman aux réformes constitutionnelles modernes'),\n",
       " Row(year=2014, inst_id='I3018756631', inst_type='facility', title='Primtemps Arabe, héritage historique, Turquie et transition démocratique en Tunisie'),\n",
       " Row(year=2014, inst_id='I3018756631', inst_type='facility', title='La Libye d’un siècle à l’autre. De la guerre de Tripolitaine à la révolution libyenne'),\n",
       " Row(year=2014, inst_id='I3018756631', inst_type='facility', title='Histoire de la réforme militaire dans le monde ottoman au XIXe siècle'),\n",
       " Row(year=2014, inst_id='I3018756631', inst_type='facility', title='La Première Guerre balkanique vue par le journaliste français Stéphane Lauzanne'),\n",
       " Row(year=2014, inst_id='I3018756631', inst_type='facility', title=\"Al Harakat al-Islahiyya wa Islah Nizam ad-Dawla fi Bouldan al-Magharib Khilila al-Quarnaini at-Tassi Achar wa al-achrine Réforme de l'État et réformismes au Maghreb (19e -20e siècles)\"),\n",
       " Row(year=2014, inst_id=None, inst_type=None, title='Printemps Arabe, Heritage Historique, Turquie et Transition Democratique en Tunisie'),\n",
       " Row(year=2015, inst_id='I3018756631', inst_type='facility', title='Monde ottoman méditerranéen et territoires arabes 19e-20e siècles'),\n",
       " Row(year=2015, inst_id='I3018756631', inst_type='facility', title='Transferts d’idées subversives après la révolution jeune turque de 1908'),\n",
       " Row(year=2015, inst_id='I3018756631', inst_type='facility', title='Réformes militaires ottomanes 19e -20e siècles : nouvelles approches'),\n",
       " Row(year=2015, inst_id=None, inst_type=None, title='Les caractéristiques des militaires ottomans à partir des réformes du xixe siècle'),\n",
       " Row(year=2016, inst_id='I3018756631', inst_type='facility', title='Les armées au Moyen-Orient'),\n",
       " Row(year=2016, inst_id='I3018756631', inst_type='facility', title='Les objectifs du livre La Turquie dans la Grande Guerre'),\n",
       " Row(year=2016, inst_id='I3018756631', inst_type='facility', title='compte-rendu de Histoire du Maroc. Réactualisation et synthèse'),\n",
       " Row(year=2016, inst_id='I3018756631', inst_type='facility', title='Fransiz sömürgesi Fas’ta Teskilat-i Mahsusa Destekli Guerilla Direnisi [L’occupation française au Maroc et la guerre de résistance soutenue par Teskilat-i Mahsusa]'),\n",
       " Row(year=2016, inst_id='I3018756631', inst_type='facility', title='La Turquie dans la Grande Guerre. De l’Empire ottoman à la république de Turquie, 1914-1923'),\n",
       " Row(year=2016, inst_id='I3018756631', inst_type='facility', title='Arif Taher Bey : An Ottoman Military Instructor Bridging the Maghreb and the Ottoman Mediterranean'),\n",
       " Row(year=2016, inst_id='I3018756631', inst_type='facility', title='Introduction: Trajectories of Subversives and Mavericks in the Muslim Mediterranean'),\n",
       " Row(year=2016, inst_id='I3018756631', inst_type='facility', title='Subversives and Mavericks in the Muslim Mediterranean: A Subaltern History'),\n",
       " Row(year=2016, inst_id=None, inst_type=None, title='2. Aref Taher Bey: An Ottoman Military Instructor Bridging the Maghreb and the Ottoman Mediterranean'),\n",
       " Row(year=2016, inst_id=None, inst_type=None, title='Débat : La Turquie dans la Grande Guerre. De l’Empire ottoman à la République de Turquie d’Odile Moreau, Paris, Éditions SOTECA, 2016'),\n",
       " Row(year=2017, inst_id='I3018756631', inst_type='facility', title=\"Contribution à l'ouvrage Le Moyen Orient 1876-1980\"),\n",
       " Row(year=2017, inst_id='I3018756631', inst_type='facility', title='‘La guerre de dix ans’. L’Empire ottoman dans la Première Guerre mondiale'),\n",
       " Row(year=2017, inst_id=None, inst_type=None, title='Echoes of National Liberation : Turkey Viewed from the Maghrib in the 1920s'),\n",
       " Row(year=2017, inst_id=None, inst_type=None, title='5 Press Propaganda and Subaltern Agents of Pan-Islamic Networks in the Muslim Mediterranean World prior to World War I'),\n",
       " Row(year=2017, inst_id=None, inst_type=None, title='Une approche comparative de la réforme de l’armée entre le centre et la périphérie de l’Empire ottoman au XIXe siècle'),\n",
       " Row(year=2018, inst_id='I4210129878', inst_type='facility', title='El movimiento de resistencia del Emir Abdelmalek en Taza durante la Primera Guerra Mundial'),\n",
       " Row(year=2018, inst_id='I3018756631', inst_type='facility', title='Politique et confréries au Maghreb et en Afrique de l’Ouest, VII Paris, Claire Maisonneuve'),\n",
       " Row(year=2018, inst_id='I19894307', inst_type='education', title='Politique et confréries au Maghreb et en Afrique de l’Ouest, VII Paris, Claire Maisonneuve'),\n",
       " Row(year=2018, inst_id='I4210129878', inst_type='facility', title='Le Maghreb : un front oublié de la Première Guerre mondiale ?'),\n",
       " Row(year=2018, inst_id=None, inst_type=None, title='Press Propaganda and Subaltern Agents of Pan-Islamic Networks in the Muslim Mediterranean World prior to World War I'),\n",
       " Row(year=2020, inst_id=None, inst_type=None, title='Du traité de Küçük Kaynardja au traité de Berlin: la Russie et la Mediterranée (1774-1878)'),\n",
       " Row(year=2022, inst_id=None, inst_type=None, title='Communautés et mobilités en Méditerranée, fin XVe-milieu XVIIIe siècle')]"
      ]
     },
     "execution_count": 103,
     "metadata": {},
     "output_type": "execute_result"
    }
   ],
   "source": [
    "works_au_af.filter(func.col('author_id')=='A5042648229').select(func.col('publication_year').alias('year'), 'inst_id','inst_type','title').distinct().sort('year').collect()"
   ]
  },
  {
   "cell_type": "code",
   "execution_count": 104,
   "id": "a468ce23-186a-4178-a505-6ef1168a3002",
   "metadata": {
    "scrolled": true
   },
   "outputs": [],
   "source": [
    "#works_au_af.filter(func.col('author_id')=='A5084984675').select(func.col('publication_year').alias('year'), 'inst_id','inst_type').distinct().sort('year').collect()"
   ]
  },
  {
   "cell_type": "code",
   "execution_count": 2,
   "id": "88b2fdc7-2798-45f4-b585-f05375af42f7",
   "metadata": {},
   "outputs": [],
   "source": [
    "df_scanR = spark.read.format('parquet').load('file:\\\\' + scanR_path + 'publications.parquet')"
   ]
  },
  {
   "cell_type": "code",
   "execution_count": 22,
   "id": "9aa1331d-e532-4932-86df-8ba3e5f59830",
   "metadata": {
    "scrolled": true
   },
   "outputs": [
    {
     "name": "stdout",
     "output_type": "stream",
     "text": [
      "root\n",
      " |-- affiliations: array (nullable = true)\n",
      " |    |-- element: string (containsNull = true)\n",
      " |-- authors: array (nullable = true)\n",
      " |    |-- element: struct (containsNull = true)\n",
      " |    |    |-- affiliations: array (nullable = true)\n",
      " |    |    |    |-- element: string (containsNull = true)\n",
      " |    |    |-- country: string (nullable = true)\n",
      " |    |    |-- firstName: string (nullable = true)\n",
      " |    |    |-- fullName: string (nullable = true)\n",
      " |    |    |-- lastName: string (nullable = true)\n",
      " |    |    |-- person: string (nullable = true)\n",
      " |    |    |-- role: string (nullable = true)\n",
      " |    |    |-- rolePatent: array (nullable = true)\n",
      " |    |    |    |-- element: struct (containsNull = true)\n",
      " |    |    |    |    |-- description: string (nullable = true)\n",
      " |    |    |    |    |-- role: string (nullable = true)\n",
      " |    |    |-- typeParticipant: string (nullable = true)\n",
      " |-- authorsCount: long (nullable = true)\n",
      " |-- doiUrl: string (nullable = true)\n",
      " |-- domains: array (nullable = true)\n",
      " |    |-- element: struct (containsNull = true)\n",
      " |    |    |-- code: string (nullable = true)\n",
      " |    |    |-- label: struct (nullable = true)\n",
      " |    |    |    |-- default: string (nullable = true)\n",
      " |    |    |-- level: string (nullable = true)\n",
      " |    |    |-- type: string (nullable = true)\n",
      " |-- externalIds: array (nullable = true)\n",
      " |    |-- element: struct (containsNull = true)\n",
      " |    |    |-- id: string (nullable = true)\n",
      " |    |    |-- type: string (nullable = true)\n",
      " |-- grantedDate: string (nullable = true)\n",
      " |-- id: string (nullable = true)\n",
      " |-- inpadocFamily: long (nullable = true)\n",
      " |-- inventionKind: string (nullable = true)\n",
      " |-- isInternational: boolean (nullable = true)\n",
      " |-- isOa: boolean (nullable = true)\n",
      " |-- isOeb: boolean (nullable = true)\n",
      " |-- keywords: struct (nullable = true)\n",
      " |    |-- default: array (nullable = true)\n",
      " |    |    |-- element: string (containsNull = true)\n",
      " |-- oaEvidence: struct (nullable = true)\n",
      " |    |-- hostType: string (nullable = true)\n",
      " |    |-- landingPageUrl: string (nullable = true)\n",
      " |    |-- license: string (nullable = true)\n",
      " |    |-- pdfUrl: string (nullable = true)\n",
      " |    |-- url: string (nullable = true)\n",
      " |    |-- version: string (nullable = true)\n",
      " |-- patents: array (nullable = true)\n",
      " |    |-- element: struct (containsNull = true)\n",
      " |    |    |-- applicationDate: string (nullable = true)\n",
      " |    |    |-- applicationNumber: string (nullable = true)\n",
      " |    |    |-- grantedDate: string (nullable = true)\n",
      " |    |    |-- id: string (nullable = true)\n",
      " |    |    |-- internatApplicationNumber: string (nullable = true)\n",
      " |    |    |-- ipType: string (nullable = true)\n",
      " |    |    |-- isPriority: boolean (nullable = true)\n",
      " |    |    |-- links: array (nullable = true)\n",
      " |    |    |    |-- element: struct (containsNull = true)\n",
      " |    |    |    |    |-- label: string (nullable = true)\n",
      " |    |    |    |    |-- type: string (nullable = true)\n",
      " |    |    |    |    |-- url: string (nullable = true)\n",
      " |    |    |-- office: string (nullable = true)\n",
      " |    |    |-- publicationDate: string (nullable = true)\n",
      " |    |    |-- publicationNumber: string (nullable = true)\n",
      " |-- productionType: string (nullable = true)\n",
      " |-- projects: array (nullable = true)\n",
      " |    |-- element: string (containsNull = true)\n",
      " |-- publicationDate: string (nullable = true)\n",
      " |-- source: struct (nullable = true)\n",
      " |    |-- isInDoaj: boolean (nullable = true)\n",
      " |    |-- isOa: boolean (nullable = true)\n",
      " |    |-- journalIssns: array (nullable = true)\n",
      " |    |    |-- element: string (containsNull = true)\n",
      " |    |-- publisher: string (nullable = true)\n",
      " |    |-- title: string (nullable = true)\n",
      " |-- submissionDate: string (nullable = true)\n",
      " |-- summary: struct (nullable = true)\n",
      " |    |-- default: string (nullable = true)\n",
      " |    |-- en: string (nullable = true)\n",
      " |    |-- fr: string (nullable = true)\n",
      " |-- title: struct (nullable = true)\n",
      " |    |-- af: string (nullable = true)\n",
      " |    |-- an: string (nullable = true)\n",
      " |    |-- ar: string (nullable = true)\n",
      " |    |-- az: string (nullable = true)\n",
      " |    |-- be: string (nullable = true)\n",
      " |    |-- bg: string (nullable = true)\n",
      " |    |-- bn: string (nullable = true)\n",
      " |    |-- bo: string (nullable = true)\n",
      " |    |-- br: string (nullable = true)\n",
      " |    |-- bs: string (nullable = true)\n",
      " |    |-- ca: string (nullable = true)\n",
      " |    |-- co: string (nullable = true)\n",
      " |    |-- cs: string (nullable = true)\n",
      " |    |-- cy: string (nullable = true)\n",
      " |    |-- da: string (nullable = true)\n",
      " |    |-- de: string (nullable = true)\n",
      " |    |-- default: string (nullable = true)\n",
      " |    |-- el: string (nullable = true)\n",
      " |    |-- en: string (nullable = true)\n",
      " |    |-- eo: string (nullable = true)\n",
      " |    |-- es: string (nullable = true)\n",
      " |    |-- et: string (nullable = true)\n",
      " |    |-- eu: string (nullable = true)\n",
      " |    |-- fa: string (nullable = true)\n",
      " |    |-- fi: string (nullable = true)\n",
      " |    |-- fr: string (nullable = true)\n",
      " |    |-- fy: string (nullable = true)\n",
      " |    |-- ga: string (nullable = true)\n",
      " |    |-- gb: string (nullable = true)\n",
      " |    |-- gd: string (nullable = true)\n",
      " |    |-- gl: string (nullable = true)\n",
      " |    |-- gu: string (nullable = true)\n",
      " |    |-- he: string (nullable = true)\n",
      " |    |-- hi: string (nullable = true)\n",
      " |    |-- hr: string (nullable = true)\n",
      " |    |-- ht: string (nullable = true)\n",
      " |    |-- hu: string (nullable = true)\n",
      " |    |-- hy: string (nullable = true)\n",
      " |    |-- ia: string (nullable = true)\n",
      " |    |-- id: string (nullable = true)\n",
      " |    |-- ie: string (nullable = true)\n",
      " |    |-- in: string (nullable = true)\n",
      " |    |-- io: string (nullable = true)\n",
      " |    |-- is: string (nullable = true)\n",
      " |    |-- it: string (nullable = true)\n",
      " |    |-- ja: string (nullable = true)\n",
      " |    |-- jv: string (nullable = true)\n",
      " |    |-- kk: string (nullable = true)\n",
      " |    |-- km: string (nullable = true)\n",
      " |    |-- kn: string (nullable = true)\n",
      " |    |-- ko: string (nullable = true)\n",
      " |    |-- ku: string (nullable = true)\n",
      " |    |-- kw: string (nullable = true)\n",
      " |    |-- la: string (nullable = true)\n",
      " |    |-- lb: string (nullable = true)\n",
      " |    |-- lt: string (nullable = true)\n",
      " |    |-- lv: string (nullable = true)\n",
      " |    |-- mg: string (nullable = true)\n",
      " |    |-- mk: string (nullable = true)\n",
      " |    |-- ml: string (nullable = true)\n",
      " |    |-- mn: string (nullable = true)\n",
      " |    |-- mr: string (nullable = true)\n",
      " |    |-- ms: string (nullable = true)\n",
      " |    |-- my: string (nullable = true)\n",
      " |    |-- nb: string (nullable = true)\n",
      " |    |-- ne: string (nullable = true)\n",
      " |    |-- nl: string (nullable = true)\n",
      " |    |-- nn: string (nullable = true)\n",
      " |    |-- no: string (nullable = true)\n",
      " |    |-- oc: string (nullable = true)\n",
      " |    |-- pl: string (nullable = true)\n",
      " |    |-- po: string (nullable = true)\n",
      " |    |-- ps: string (nullable = true)\n",
      " |    |-- pt: string (nullable = true)\n",
      " |    |-- qu: string (nullable = true)\n",
      " |    |-- rm: string (nullable = true)\n",
      " |    |-- ro: string (nullable = true)\n",
      " |    |-- ru: string (nullable = true)\n",
      " |    |-- sa: string (nullable = true)\n",
      " |    |-- sh: string (nullable = true)\n",
      " |    |-- si: string (nullable = true)\n",
      " |    |-- sk: string (nullable = true)\n",
      " |    |-- sl: string (nullable = true)\n",
      " |    |-- sq: string (nullable = true)\n",
      " |    |-- sr: string (nullable = true)\n",
      " |    |-- su: string (nullable = true)\n",
      " |    |-- sv: string (nullable = true)\n",
      " |    |-- sw: string (nullable = true)\n",
      " |    |-- ta: string (nullable = true)\n",
      " |    |-- te: string (nullable = true)\n",
      " |    |-- th: string (nullable = true)\n",
      " |    |-- tl: string (nullable = true)\n",
      " |    |-- tr: string (nullable = true)\n",
      " |    |-- tt: string (nullable = true)\n",
      " |    |-- uk: string (nullable = true)\n",
      " |    |-- ur: string (nullable = true)\n",
      " |    |-- uz: string (nullable = true)\n",
      " |    |-- vi: string (nullable = true)\n",
      " |    |-- vo: string (nullable = true)\n",
      " |    |-- wa: string (nullable = true)\n",
      " |    |-- zh: string (nullable = true)\n",
      " |-- type: string (nullable = true)\n",
      " |-- year: long (nullable = true)\n",
      "\n"
     ]
    }
   ],
   "source": [
    "df_scanR.printSchema()"
   ]
  },
  {
   "cell_type": "code",
   "execution_count": 3,
   "id": "114faa3b-eda4-464b-ac69-1ccbfda04afc",
   "metadata": {},
   "outputs": [],
   "source": [
    "df_inst_scanR = spark.read.option(\"multiline\",\"true\").json('file:\\\\' + scanR_path + 'organizations.json')"
   ]
  },
  {
   "cell_type": "code",
   "execution_count": 45,
   "id": "9003bed2-7946-416b-8647-bf62a7491548",
   "metadata": {
    "scrolled": true
   },
   "outputs": [
    {
     "name": "stdout",
     "output_type": "stream",
     "text": [
      "root\n",
      " |-- adresse: string (nullable = true)\n",
      " |-- annee_d_effet_historique: string (nullable = true)\n",
      " |-- annee_de_creation: string (nullable = true)\n",
      " |-- code_de_nature_de_tutelle: array (nullable = true)\n",
      " |    |-- element: string (containsNull = true)\n",
      " |-- code_de_niveau_de_structure: string (nullable = true)\n",
      " |-- code_de_type_de_structure: string (nullable = true)\n",
      " |-- code_de_type_de_succession: string (nullable = true)\n",
      " |-- code_de_type_de_tutelle: array (nullable = true)\n",
      " |    |-- element: string (containsNull = true)\n",
      " |-- code_domaine_scientifique: array (nullable = true)\n",
      " |    |-- element: string (containsNull = true)\n",
      " |-- code_panel_erc: string (nullable = true)\n",
      " |-- code_postal: string (nullable = true)\n",
      " |-- commune: string (nullable = true)\n",
      " |-- domaine_scientifique: array (nullable = true)\n",
      " |    |-- element: string (containsNull = true)\n",
      " |-- fiche_rnsr: string (nullable = true)\n",
      " |-- label_numero: array (nullable = true)\n",
      " |    |-- element: string (containsNull = true)\n",
      " |-- libelle: string (nullable = true)\n",
      " |-- nature_de_tutelle: array (nullable = true)\n",
      " |    |-- element: string (containsNull = true)\n",
      " |-- nom_du_responsable: array (nullable = true)\n",
      " |    |-- element: string (containsNull = true)\n",
      " |-- numero_de_structure_enfant: array (nullable = true)\n",
      " |    |-- element: string (containsNull = true)\n",
      " |-- numero_de_structure_historique: array (nullable = true)\n",
      " |    |-- element: string (containsNull = true)\n",
      " |-- numero_de_structure_parent: array (nullable = true)\n",
      " |    |-- element: string (containsNull = true)\n",
      " |-- numero_national_de_structure: string (nullable = true)\n",
      " |-- panel_erc: array (nullable = true)\n",
      " |    |-- element: string (containsNull = true)\n",
      " |-- prenom_du_responsable: array (nullable = true)\n",
      " |    |-- element: string (containsNull = true)\n",
      " |-- sigle: string (nullable = true)\n",
      " |-- sigles_des_tutelles: array (nullable = true)\n",
      " |    |-- element: string (containsNull = true)\n",
      " |-- siret_des_tutelles: array (nullable = true)\n",
      " |    |-- element: string (containsNull = true)\n",
      " |-- site_web: string (nullable = true)\n",
      " |-- titre_du_responsable: array (nullable = true)\n",
      " |    |-- element: string (containsNull = true)\n",
      " |-- tutelles: array (nullable = true)\n",
      " |    |-- element: string (containsNull = true)\n",
      " |-- type_de_structure: string (nullable = true)\n",
      " |-- type_de_succession: string (nullable = true)\n",
      " |-- type_de_tutelle: array (nullable = true)\n",
      " |    |-- element: string (containsNull = true)\n",
      " |-- uai_des_tutelles: array (nullable = true)\n",
      " |    |-- element: string (containsNull = true)\n",
      "\n"
     ]
    }
   ],
   "source": [
    "public_labs = spark.read.option(\"multiline\",\"true\").json('file:\\\\' + scanR_path + 'fr-esr-structures-recherche-publiques-actives.json')\n",
    "public_labs.printSchema()"
   ]
  },
  {
   "cell_type": "code",
   "execution_count": 58,
   "id": "b493f793-d3f5-4b32-9fc5-e30154f4b144",
   "metadata": {},
   "outputs": [
    {
     "data": {
      "text/plain": [
       "[Row(nature_de_tutelle='Université'),\n",
       " Row(nature_de_tutelle='Fondation et institut particulier (Institut pasteur, Institut Curie, etc.)'),\n",
       " Row(nature_de_tutelle='Etablissement public à caractère administratif'),\n",
       " Row(nature_de_tutelle='Organismes de type EPST'),\n",
       " Row(nature_de_tutelle='Société de droit privé étrangère'),\n",
       " Row(nature_de_tutelle='Etablissements de santé'),\n",
       " Row(nature_de_tutelle='Université étrangère'),\n",
       " Row(nature_de_tutelle='Opérateur public étranger'),\n",
       " Row(nature_de_tutelle='Organismes de type EPIC'),\n",
       " Row(nature_de_tutelle='Autres établissements ESR'),\n",
       " Row(nature_de_tutelle='Société de droit privé française'),\n",
       " Row(nature_de_tutelle='Autre opérateur de droit étranger'),\n",
       " Row(nature_de_tutelle='Site'),\n",
       " Row(nature_de_tutelle='Autre opérateur de droit français')]"
      ]
     },
     "execution_count": 58,
     "metadata": {},
     "output_type": "execute_result"
    }
   ],
   "source": [
    "public_labs.select(func.explode(func.col('nature_de_tutelle')).alias('nature_de_tutelle')).distinct().collect()"
   ]
  },
  {
   "cell_type": "code",
   "execution_count": 46,
   "id": "2c9ca340-733b-4dae-ba45-2894662985a8",
   "metadata": {
    "scrolled": true
   },
   "outputs": [
    {
     "name": "stdout",
     "output_type": "stream",
     "text": [
      "root\n",
      " |-- annee_de_creation: string (nullable = true)\n",
      " |-- annee_de_fermeture: string (nullable = true)\n",
      " |-- annee_de_succession: string (nullable = true)\n",
      " |-- code_de_niveau_de_structure: string (nullable = true)\n",
      " |-- code_de_type_de_structure: string (nullable = true)\n",
      " |-- code_de_type_de_succession: string (nullable = true)\n",
      " |-- etat: string (nullable = true)\n",
      " |-- libelle: string (nullable = true)\n",
      " |-- numero_de_structure_successeur: string (nullable = true)\n",
      " |-- numero_national_de_structure: string (nullable = true)\n",
      " |-- sigle: string (nullable = true)\n",
      " |-- type_de_structure: string (nullable = true)\n",
      " |-- type_de_succession: string (nullable = true)\n",
      "\n"
     ]
    }
   ],
   "source": [
    "all_labs = spark.read.option(\"multiline\",\"true\").json('file:\\\\' + scanR_path + 'fr-esr-repertoire-national-structures-recherche.json')\n",
    "all_labs.printSchema()"
   ]
  },
  {
   "cell_type": "code",
   "execution_count": 49,
   "id": "cecb7ad6-6f0f-4d86-8a87-c58d7a44ca10",
   "metadata": {
    "scrolled": true
   },
   "outputs": [
    {
     "data": {
      "text/plain": [
       "[Row(libelle='VOIR ET ENTENDRE FONDATION'),\n",
       " Row(libelle='GEM Recherche'),\n",
       " Row(libelle=\"Ecole française d'Extrême-Orient\"),\n",
       " Row(libelle='Institut Max Von Laue - Paul Langevin'),\n",
       " Row(libelle='Hôpital de Hautepierre'),\n",
       " Row(libelle='European Molecular Biology Laboratory'),\n",
       " Row(libelle=\"Institut français d'archéologie orientale du Caire\"),\n",
       " Row(libelle='Sciences Analytiques pour le Patrimoine'),\n",
       " Row(libelle=\"Ecole d'économie de Paris\"),\n",
       " Row(libelle=\"AGENCE DE L'ENVIRONNEMENT ET DE LA MAITRISE DE L'ENERGIE\"),\n",
       " Row(libelle=\"Gestion de l'Institut Carnot ICEEL de Nancy\"),\n",
       " Row(libelle='Compréhension mathématique multi-échelles d’écosystèmes vivants complexes avec structures émergentes'),\n",
       " Row(libelle=\"Concevoir des technologies d'amélioration de la vie privée explicables et efficaces\"),\n",
       " Row(libelle='ARVALIS - Institut du végétal'),\n",
       " Row(libelle='Acta-les instituts techniques agricoles'),\n",
       " Row(libelle='Hôpitaux de Saint-Maurice'),\n",
       " Row(libelle='DRCI du CHU de Reims'),\n",
       " Row(libelle='Systèmes de cellules avec interactions multi-échelles'),\n",
       " Row(libelle='Archaeozoological Center for the Study of Central Asia'),\n",
       " Row(libelle='Plateforme Auvergne Bioinformatique'),\n",
       " Row(libelle='Groupe à 5 ans Interactions Microbiote-Hôte'),\n",
       " Row(libelle='Institut Paoli Calmettes'),\n",
       " Row(libelle='KEDGE  BUSINESS SCHOOL'),\n",
       " Row(libelle='CHU AMIENS-PICARDIE'),\n",
       " Row(libelle=\"CENTRE DES SCIENCES DU GOUT ET DE L'ALIMENTATION - UMR 6265 - UMR A1324 - uB 80\"),\n",
       " Row(libelle='sinergies'),\n",
       " Row(libelle='Compréhension mathématique multi-échelles d’écosystèmes vivants complexes avec structures émergentes'),\n",
       " Row(libelle='Laboratoire Rate, Infections & Parasites'),\n",
       " Row(libelle=\"Centre d'études et de recherches sur les qualifications\"),\n",
       " Row(libelle='Cerema Siège'),\n",
       " Row(libelle=\"Laboratoire national de métrologie et d'essais\"),\n",
       " Row(libelle='IFP Energies nouvelles'),\n",
       " Row(libelle='Institut de RadioAstronomie Millimétrique'),\n",
       " Row(libelle='Centre hospitalier Valence'),\n",
       " Row(libelle='Centre Hospitalier Universitaire de Lille'),\n",
       " Row(libelle='Dynamiques du Cancer, adaptation et modélisation'),\n",
       " Row(libelle='KaruSphère'),\n",
       " Row(libelle='Unité Meta-organisme')]"
      ]
     },
     "execution_count": 49,
     "metadata": {},
     "output_type": "execute_result"
    }
   ],
   "source": [
    "all_labs.withColumnRenamed('numero_national_de_structure', 'id').join(df_inst_scanR\n",
    "          .select('id', func.lit(1).alias('in_scanR'))\n",
    "          , on = ['id'], how = 'anti')x.select('libelle').collect()"
   ]
  },
  {
   "cell_type": "code",
   "execution_count": 110,
   "id": "0a65d7ad-6b34-4f4f-b3e6-c609020e789c",
   "metadata": {},
   "outputs": [
    {
     "name": "stdout",
     "output_type": "stream",
     "text": [
      "root\n",
      " |-- annee_de_creation: string (nullable = true)\n",
      " |-- annee_de_fermeture: string (nullable = true)\n",
      " |-- annee_de_succession: string (nullable = true)\n",
      " |-- code_de_niveau_de_structure: string (nullable = true)\n",
      " |-- code_de_type_de_structure: string (nullable = true)\n",
      " |-- code_de_type_de_succession: string (nullable = true)\n",
      " |-- etat: string (nullable = true)\n",
      " |-- libelle: string (nullable = true)\n",
      " |-- numero_de_structure_successeur: string (nullable = true)\n",
      " |-- numero_national_de_structure: string (nullable = true)\n",
      " |-- sigle: string (nullable = true)\n",
      " |-- type_de_structure: string (nullable = true)\n",
      " |-- type_de_succession: string (nullable = true)\n",
      "\n"
     ]
    }
   ],
   "source": [
    "all_labs.printSchema()"
   ]
  },
  {
   "cell_type": "code",
   "execution_count": 114,
   "id": "f862ac6e-f4e2-4197-a790-03180ffb0bf4",
   "metadata": {},
   "outputs": [
    {
     "name": "stdout",
     "output_type": "stream",
     "text": [
      "+------+-----------+--------------+-----+\n",
      "|active|in_all_labs|in_public_labs|count|\n",
      "+------+-----------+--------------+-----+\n",
      "| false|          1|             1|  230|\n",
      "|  true|          1|          NULL|    2|\n",
      "|  true|          1|             1| 4395|\n",
      "| false|          1|          NULL| 7193|\n",
      "+------+-----------+--------------+-----+\n",
      "\n"
     ]
    }
   ],
   "source": [
    "(all_labs\n",
    " .select('numero_national_de_structure', func.lit(1).alias('in_all_labs'), \"annee_de_fermeture\").join(\n",
    "    public_labs.select('numero_national_de_structure',func.lit(1).alias('in_public_labs')), on =['numero_national_de_structure'], how ='full')\n",
    " .groupBy(func.col('annee_de_fermeture').isNull().alias('active'), 'in_all_labs', 'in_public_labs').count()).show()"
   ]
  },
  {
   "cell_type": "code",
   "execution_count": 119,
   "id": "c07b411f-e356-4dbb-b53d-51a86893250c",
   "metadata": {},
   "outputs": [
    {
     "data": {
      "text/plain": [
       "[Row(numero_national_de_structure='202224138W', in_all_labs=1, annee_de_fermeture=None, libelle=';', in_public_labs=None),\n",
       " Row(numero_national_de_structure='202224139X', in_all_labs=1, annee_de_fermeture=None, libelle='.', in_public_labs=None)]"
      ]
     },
     "execution_count": 119,
     "metadata": {},
     "output_type": "execute_result"
    }
   ],
   "source": [
    "(all_labs\n",
    " .select('numero_national_de_structure', func.lit(1).alias('in_all_labs'), \"annee_de_fermeture\",'libelle').join(\n",
    "    public_labs.select('numero_national_de_structure',func.lit(1).alias('in_public_labs')), on =['numero_national_de_structure'], how ='full')\n",
    " .filter((func.col('annee_de_fermeture').isNull()) & (func.col('in_public_labs').isNull()) )).collect()"
   ]
  },
  {
   "cell_type": "code",
   "execution_count": 130,
   "id": "63c52534-fa5a-4a84-8e8b-dbf4fab0c083",
   "metadata": {},
   "outputs": [
    {
     "data": {
      "text/plain": [
       "['these',\n",
       " 'proceedings',\n",
       " 'other',\n",
       " 'preprint',\n",
       " 'thesis',\n",
       " 'book-chapter',\n",
       " 'book',\n",
       " 'journal-article',\n",
       " None]"
      ]
     },
     "execution_count": 130,
     "metadata": {},
     "output_type": "execute_result"
    }
   ],
   "source": [
    "[row[0] for row in df_scanR.select('type').distinct().collect()]"
   ]
  },
  {
   "cell_type": "markdown",
   "id": "970f4be9-1ae6-4a06-ade2-a4665d69128d",
   "metadata": {},
   "source": [
    "# test stats desc type UR"
   ]
  },
  {
   "cell_type": "code",
   "execution_count": 131,
   "id": "b3ace22e-5d2d-4ea8-8061-2a1d4a80d1a8",
   "metadata": {},
   "outputs": [
    {
     "name": "stdout",
     "output_type": "stream",
     "text": [
      "+----------+----+--------------------+--------+--------------+--------+-----------+---------+---------------+-------+------------------+----------+\n",
      "|        af|year|   type_de_structure|nr_these|nr_proceedings|nr_other|nr_preprint|nr_thesis|nr_book-chapter|nr_book|nr_journal-article|nr_authors|\n",
      "+----------+----+--------------------+--------+--------------+--------+-----------+---------+---------------+-------+------------------+----------+\n",
      "|200120109H|2019|         Unité mixte|       0|             0|      22|          0|        0|              0|      0|               168|        80|\n",
      "|201923268N|2012|        Unité propre|       5|             1|       0|          0|        0|              0|      0|                72|        60|\n",
      "|200818245B|2022|Structures Fédéra...|      35|           286|     227|          0|        0|             20|      7|               265|       264|\n",
      "|198319352N|2012|         Unité mixte|       0|           205|      24|          0|        0|             30|     13|                82|       166|\n",
      "|200711911W|2013|         Unité mixte|      14|             4|      17|          0|        0|              7|      0|               260|       142|\n",
      "|200812291E|2022|         Unité mixte|       4|             8|      77|          0|        0|             78|     19|               108|        78|\n",
      "|199117802U|2014|         Unité mixte|       9|            24|     487|          0|        0|              3|      0|               270|       218|\n",
      "|199612396W|2017|         Unité mixte|      19|            22|      87|          0|        0|             14|      6|               249|       186|\n",
      "|201119585V|2023|Structures Fédéra...|       2|            10|      15|          0|        0|              1|      0|               121|        71|\n",
      "|201722594P|2019|        Unité propre|       5|             4|     203|          0|        0|              0|      0|               182|       141|\n",
      "|201019039F|2023|        Unité propre|       3|            11|      27|          0|        0|              0|      0|               104|        48|\n",
      "|199911751G|2017|         Unité mixte|       2|            14|     305|          0|        0|             37|      4|               190|       110|\n",
      "|199812879M|2013|         Unité mixte|       5|           127|     123|          0|        0|              0|      0|               132|        97|\n",
      "|200012210B|2013|         Unité mixte|       7|            36|      24|          0|        0|              6|      1|               102|        81|\n",
      "|200510840R|2015|Structures Fédéra...|       8|            10|      78|          0|        0|             10|      0|               216|       143|\n",
      "|201420918F|2023|         Unité mixte|       0|             0|       0|          0|        0|              0|      0|               125|        52|\n",
      "|201220328Y|2015|         Unité mixte|       3|             0|      31|          0|        0|              0|      2|               130|        66|\n",
      "|201220311E|2019|         Unité mixte|      10|             4|      63|          0|        0|            120|     28|               113|       132|\n",
      "|199812888X|2022|         Unité mixte|       1|             1|      38|          0|        0|             64|     21|                76|        69|\n",
      "|200717989C|2014|         Unité mixte|       2|            29|     113|          0|        0|              6|      0|                92|        72|\n",
      "+----------+----+--------------------+--------+--------------+--------+-----------+---------+---------------+-------+------------------+----------+\n",
      "only showing top 20 rows\n",
      "\n",
      "8557\n"
     ]
    }
   ],
   "source": [
    "test_desc = (df_scanR\n",
    "             .withColumn('authors', func.explode(func.col('authors')))\n",
    "             .withColumn('af', func.explode(func.col('authors.affiliations')))\n",
    "             .withColumn('idref', func.regexp_replace(func.lower(func.col(\"authors.person\")), 'idref',''))\n",
    "             .withColumn('idref', func.when(func.col('idref').isNull(), func.col('authors.fullName')).otherwise(func.col('idref')))\n",
    "             .select('id','idref','af', 'type','year').distinct()\n",
    "             .join(all_labs.select(func.col('numero_national_de_structure').alias('af'), 'type_de_structure'), on =['af'], how = 'inner')\n",
    "             .groupBy('af', 'year','type_de_structure')\n",
    "             .agg( *[func.sum( (func.col('type')==type).cast('int')).alias('nr_' + type) for type in ['these', 'proceedings', 'other', 'preprint', 'thesis',\n",
    "                                                                                                       'book-chapter', 'book', 'journal-article']],\n",
    "                 func.countDistinct('idref').alias('nr_authors')\n",
    "                 )\n",
    "            ) \n",
    "\n",
    "test_desc.show()\n",
    "print(test_desc.select('af').distinct().count())"
   ]
  },
  {
   "cell_type": "code",
   "execution_count": 163,
   "id": "d442a33c-5a14-46d4-ab5d-d7cc0b6f2a75",
   "metadata": {},
   "outputs": [
    {
     "name": "stderr",
     "output_type": "stream",
     "text": [
      "ERROR:root:Exception while sending command.\n",
      "Traceback (most recent call last):\n",
      "  File \"C:\\Users\\rapha\\anaconda3\\Lib\\site-packages\\py4j\\clientserver.py\", line 511, in send_command\n",
      "    answer = smart_decode(self.stream.readline()[:-1])\n",
      "                          ^^^^^^^^^^^^^^^^^^^^^^\n",
      "  File \"C:\\Users\\rapha\\anaconda3\\Lib\\socket.py\", line 706, in readinto\n",
      "    return self._sock.recv_into(b)\n",
      "           ^^^^^^^^^^^^^^^^^^^^^^^\n",
      "ConnectionResetError: [WinError 10054] Une connexion existante a dû être fermée par l’hôte distant\n",
      "\n",
      "During handling of the above exception, another exception occurred:\n",
      "\n",
      "Traceback (most recent call last):\n",
      "  File \"C:\\Users\\rapha\\anaconda3\\Lib\\site-packages\\py4j\\java_gateway.py\", line 1038, in send_command\n",
      "    response = connection.send_command(command)\n",
      "               ^^^^^^^^^^^^^^^^^^^^^^^^^^^^^^^^\n",
      "  File \"C:\\Users\\rapha\\anaconda3\\Lib\\site-packages\\py4j\\clientserver.py\", line 539, in send_command\n",
      "    raise Py4JNetworkError(\n",
      "py4j.protocol.Py4JNetworkError: Error while sending or receiving\n"
     ]
    },
    {
     "ename": "ConnectionRefusedError",
     "evalue": "[WinError 10061] Aucune connexion n’a pu être établie car l’ordinateur cible l’a expressément refusée",
     "output_type": "error",
     "traceback": [
      "\u001b[1;31m---------------------------------------------------------------------------\u001b[0m",
      "\u001b[1;31mPy4JError\u001b[0m                                 Traceback (most recent call last)",
      "File \u001b[1;32m~\\anaconda3\\Lib\\site-packages\\pyspark\\sql\\dataframe.py:817\u001b[0m, in \u001b[0;36mDataFrame.collect\u001b[1;34m(self)\u001b[0m\n\u001b[0;32m    816\u001b[0m \u001b[38;5;28;01mwith\u001b[39;00m SCCallSiteSync(\u001b[38;5;28mself\u001b[39m\u001b[38;5;241m.\u001b[39m_sc):\n\u001b[1;32m--> 817\u001b[0m     sock_info \u001b[38;5;241m=\u001b[39m \u001b[38;5;28mself\u001b[39m\u001b[38;5;241m.\u001b[39m_jdf\u001b[38;5;241m.\u001b[39mcollectToPython()\n\u001b[0;32m    818\u001b[0m \u001b[38;5;28;01mreturn\u001b[39;00m \u001b[38;5;28mlist\u001b[39m(_load_from_socket(sock_info, BatchedSerializer(CPickleSerializer())))\n",
      "File \u001b[1;32m~\\anaconda3\\Lib\\site-packages\\py4j\\java_gateway.py:1321\u001b[0m, in \u001b[0;36mJavaMember.__call__\u001b[1;34m(self, *args)\u001b[0m\n\u001b[0;32m   1320\u001b[0m answer \u001b[38;5;241m=\u001b[39m \u001b[38;5;28mself\u001b[39m\u001b[38;5;241m.\u001b[39mgateway_client\u001b[38;5;241m.\u001b[39msend_command(command)\n\u001b[1;32m-> 1321\u001b[0m return_value \u001b[38;5;241m=\u001b[39m get_return_value(\n\u001b[0;32m   1322\u001b[0m     answer, \u001b[38;5;28mself\u001b[39m\u001b[38;5;241m.\u001b[39mgateway_client, \u001b[38;5;28mself\u001b[39m\u001b[38;5;241m.\u001b[39mtarget_id, \u001b[38;5;28mself\u001b[39m\u001b[38;5;241m.\u001b[39mname)\n\u001b[0;32m   1324\u001b[0m \u001b[38;5;28;01mfor\u001b[39;00m temp_arg \u001b[38;5;129;01min\u001b[39;00m temp_args:\n",
      "File \u001b[1;32m~\\anaconda3\\Lib\\site-packages\\pyspark\\sql\\utils.py:190\u001b[0m, in \u001b[0;36mcapture_sql_exception.<locals>.deco\u001b[1;34m(*a, **kw)\u001b[0m\n\u001b[0;32m    189\u001b[0m \u001b[38;5;28;01mtry\u001b[39;00m:\n\u001b[1;32m--> 190\u001b[0m     \u001b[38;5;28;01mreturn\u001b[39;00m f(\u001b[38;5;241m*\u001b[39ma, \u001b[38;5;241m*\u001b[39m\u001b[38;5;241m*\u001b[39mkw)\n\u001b[0;32m    191\u001b[0m \u001b[38;5;28;01mexcept\u001b[39;00m Py4JJavaError \u001b[38;5;28;01mas\u001b[39;00m e:\n",
      "File \u001b[1;32m~\\anaconda3\\Lib\\site-packages\\py4j\\protocol.py:334\u001b[0m, in \u001b[0;36mget_return_value\u001b[1;34m(answer, gateway_client, target_id, name)\u001b[0m\n\u001b[0;32m    333\u001b[0m     \u001b[38;5;28;01melse\u001b[39;00m:\n\u001b[1;32m--> 334\u001b[0m         \u001b[38;5;28;01mraise\u001b[39;00m Py4JError(\n\u001b[0;32m    335\u001b[0m             \u001b[38;5;124m\"\u001b[39m\u001b[38;5;124mAn error occurred while calling \u001b[39m\u001b[38;5;132;01m{0}\u001b[39;00m\u001b[38;5;132;01m{1}\u001b[39;00m\u001b[38;5;132;01m{2}\u001b[39;00m\u001b[38;5;124m\"\u001b[39m\u001b[38;5;241m.\u001b[39m\n\u001b[0;32m    336\u001b[0m             \u001b[38;5;28mformat\u001b[39m(target_id, \u001b[38;5;124m\"\u001b[39m\u001b[38;5;124m.\u001b[39m\u001b[38;5;124m\"\u001b[39m, name))\n\u001b[0;32m    337\u001b[0m \u001b[38;5;28;01melse\u001b[39;00m:\n",
      "\u001b[1;31mPy4JError\u001b[0m: An error occurred while calling o7049.collectToPython",
      "\nDuring handling of the above exception, another exception occurred:\n",
      "\u001b[1;31mConnectionRefusedError\u001b[0m                    Traceback (most recent call last)",
      "Cell \u001b[1;32mIn[163], line 7\u001b[0m\n\u001b[0;32m      1\u001b[0m test_desc_pd \u001b[38;5;241m=\u001b[39m (test_desc\n\u001b[0;32m      2\u001b[0m                 \u001b[38;5;241m.\u001b[39mgroupBy(\u001b[38;5;124m'\u001b[39m\u001b[38;5;124mtype_de_structure\u001b[39m\u001b[38;5;124m'\u001b[39m,\u001b[38;5;124m'\u001b[39m\u001b[38;5;124myear\u001b[39m\u001b[38;5;124m'\u001b[39m)\n\u001b[0;32m      3\u001b[0m                 \u001b[38;5;241m.\u001b[39magg( \u001b[38;5;241m*\u001b[39m[func\u001b[38;5;241m.\u001b[39mmean(col)\u001b[38;5;241m.\u001b[39malias(col\u001b[38;5;241m.\u001b[39mreplace(\u001b[38;5;124m'\u001b[39m\u001b[38;5;124mnr_\u001b[39m\u001b[38;5;124m'\u001b[39m,\u001b[38;5;124m'\u001b[39m\u001b[38;5;124m'\u001b[39m)) \u001b[38;5;28;01mfor\u001b[39;00m col \u001b[38;5;129;01min\u001b[39;00m test_desc\u001b[38;5;241m.\u001b[39mcolumns \u001b[38;5;28;01mif\u001b[39;00m \u001b[38;5;124m'\u001b[39m\u001b[38;5;124mnr_\u001b[39m\u001b[38;5;124m'\u001b[39m \u001b[38;5;129;01min\u001b[39;00m col],\n\u001b[0;32m      4\u001b[0m                      \u001b[38;5;241m*\u001b[39m[func\u001b[38;5;241m.\u001b[39msum(col)\u001b[38;5;241m.\u001b[39malias(\u001b[38;5;124m'\u001b[39m\u001b[38;5;124mtotal_\u001b[39m\u001b[38;5;124m'\u001b[39m \u001b[38;5;241m+\u001b[39m col\u001b[38;5;241m.\u001b[39mreplace(\u001b[38;5;124m'\u001b[39m\u001b[38;5;124mnr_\u001b[39m\u001b[38;5;124m'\u001b[39m,\u001b[38;5;124m'\u001b[39m\u001b[38;5;124m'\u001b[39m)) \u001b[38;5;28;01mfor\u001b[39;00m col \u001b[38;5;129;01min\u001b[39;00m test_desc\u001b[38;5;241m.\u001b[39mcolumns \u001b[38;5;28;01mif\u001b[39;00m \u001b[38;5;124m'\u001b[39m\u001b[38;5;124mnr_\u001b[39m\u001b[38;5;124m'\u001b[39m \u001b[38;5;129;01min\u001b[39;00m col],\n\u001b[0;32m      5\u001b[0m                      \u001b[38;5;241m*\u001b[39m[func\u001b[38;5;241m.\u001b[39mpercentile_approx(col, \u001b[38;5;241m0.5\u001b[39m)\u001b[38;5;241m.\u001b[39malias(\u001b[38;5;124m'\u001b[39m\u001b[38;5;124mmed_\u001b[39m\u001b[38;5;124m'\u001b[39m \u001b[38;5;241m+\u001b[39m col\u001b[38;5;241m.\u001b[39mreplace(\u001b[38;5;124m'\u001b[39m\u001b[38;5;124mnr_\u001b[39m\u001b[38;5;124m'\u001b[39m,\u001b[38;5;124m'\u001b[39m\u001b[38;5;124m'\u001b[39m)) \u001b[38;5;28;01mfor\u001b[39;00m col \u001b[38;5;129;01min\u001b[39;00m test_desc\u001b[38;5;241m.\u001b[39mcolumns \u001b[38;5;28;01mif\u001b[39;00m \u001b[38;5;124m'\u001b[39m\u001b[38;5;124mnr_\u001b[39m\u001b[38;5;124m'\u001b[39m \u001b[38;5;129;01min\u001b[39;00m col]\n\u001b[0;32m      6\u001b[0m                     )\n\u001b[1;32m----> 7\u001b[0m                )\u001b[38;5;241m.\u001b[39mtoPandas()\n",
      "File \u001b[1;32m~\\anaconda3\\Lib\\site-packages\\pyspark\\sql\\pandas\\conversion.py:205\u001b[0m, in \u001b[0;36mPandasConversionMixin.toPandas\u001b[1;34m(self)\u001b[0m\n\u001b[0;32m    202\u001b[0m             \u001b[38;5;28;01mraise\u001b[39;00m\n\u001b[0;32m    204\u001b[0m \u001b[38;5;66;03m# Below is toPandas without Arrow optimization.\u001b[39;00m\n\u001b[1;32m--> 205\u001b[0m pdf \u001b[38;5;241m=\u001b[39m pd\u001b[38;5;241m.\u001b[39mDataFrame\u001b[38;5;241m.\u001b[39mfrom_records(\u001b[38;5;28mself\u001b[39m\u001b[38;5;241m.\u001b[39mcollect(), columns\u001b[38;5;241m=\u001b[39m\u001b[38;5;28mself\u001b[39m\u001b[38;5;241m.\u001b[39mcolumns)\n\u001b[0;32m    206\u001b[0m column_counter \u001b[38;5;241m=\u001b[39m Counter(\u001b[38;5;28mself\u001b[39m\u001b[38;5;241m.\u001b[39mcolumns)\n\u001b[0;32m    208\u001b[0m corrected_dtypes: List[Optional[Type]] \u001b[38;5;241m=\u001b[39m [\u001b[38;5;28;01mNone\u001b[39;00m] \u001b[38;5;241m*\u001b[39m \u001b[38;5;28mlen\u001b[39m(\u001b[38;5;28mself\u001b[39m\u001b[38;5;241m.\u001b[39mschema)\n",
      "File \u001b[1;32m~\\anaconda3\\Lib\\site-packages\\pyspark\\sql\\dataframe.py:816\u001b[0m, in \u001b[0;36mDataFrame.collect\u001b[1;34m(self)\u001b[0m\n\u001b[0;32m    806\u001b[0m \u001b[38;5;28;01mdef\u001b[39;00m \u001b[38;5;21mcollect\u001b[39m(\u001b[38;5;28mself\u001b[39m) \u001b[38;5;241m-\u001b[39m\u001b[38;5;241m>\u001b[39m List[Row]:\n\u001b[0;32m    807\u001b[0m \u001b[38;5;250m    \u001b[39m\u001b[38;5;124;03m\"\"\"Returns all the records as a list of :class:`Row`.\u001b[39;00m\n\u001b[0;32m    808\u001b[0m \n\u001b[0;32m    809\u001b[0m \u001b[38;5;124;03m    .. versionadded:: 1.3.0\u001b[39;00m\n\u001b[1;32m   (...)\u001b[0m\n\u001b[0;32m    814\u001b[0m \u001b[38;5;124;03m    [Row(age=2, name='Alice'), Row(age=5, name='Bob')]\u001b[39;00m\n\u001b[0;32m    815\u001b[0m \u001b[38;5;124;03m    \"\"\"\u001b[39;00m\n\u001b[1;32m--> 816\u001b[0m     \u001b[38;5;28;01mwith\u001b[39;00m SCCallSiteSync(\u001b[38;5;28mself\u001b[39m\u001b[38;5;241m.\u001b[39m_sc):\n\u001b[0;32m    817\u001b[0m         sock_info \u001b[38;5;241m=\u001b[39m \u001b[38;5;28mself\u001b[39m\u001b[38;5;241m.\u001b[39m_jdf\u001b[38;5;241m.\u001b[39mcollectToPython()\n\u001b[0;32m    818\u001b[0m     \u001b[38;5;28;01mreturn\u001b[39;00m \u001b[38;5;28mlist\u001b[39m(_load_from_socket(sock_info, BatchedSerializer(CPickleSerializer())))\n",
      "File \u001b[1;32m~\\anaconda3\\Lib\\site-packages\\pyspark\\traceback_utils.py:81\u001b[0m, in \u001b[0;36mSCCallSiteSync.__exit__\u001b[1;34m(self, type, value, tb)\u001b[0m\n\u001b[0;32m     79\u001b[0m SCCallSiteSync\u001b[38;5;241m.\u001b[39m_spark_stack_depth \u001b[38;5;241m-\u001b[39m\u001b[38;5;241m=\u001b[39m \u001b[38;5;241m1\u001b[39m\n\u001b[0;32m     80\u001b[0m \u001b[38;5;28;01mif\u001b[39;00m SCCallSiteSync\u001b[38;5;241m.\u001b[39m_spark_stack_depth \u001b[38;5;241m==\u001b[39m \u001b[38;5;241m0\u001b[39m:\n\u001b[1;32m---> 81\u001b[0m     \u001b[38;5;28mself\u001b[39m\u001b[38;5;241m.\u001b[39m_context\u001b[38;5;241m.\u001b[39m_jsc\u001b[38;5;241m.\u001b[39msetCallSite(\u001b[38;5;28;01mNone\u001b[39;00m)\n",
      "File \u001b[1;32m~\\anaconda3\\Lib\\site-packages\\py4j\\java_gateway.py:1320\u001b[0m, in \u001b[0;36mJavaMember.__call__\u001b[1;34m(self, *args)\u001b[0m\n\u001b[0;32m   1313\u001b[0m args_command, temp_args \u001b[38;5;241m=\u001b[39m \u001b[38;5;28mself\u001b[39m\u001b[38;5;241m.\u001b[39m_build_args(\u001b[38;5;241m*\u001b[39margs)\n\u001b[0;32m   1315\u001b[0m command \u001b[38;5;241m=\u001b[39m proto\u001b[38;5;241m.\u001b[39mCALL_COMMAND_NAME \u001b[38;5;241m+\u001b[39m\\\n\u001b[0;32m   1316\u001b[0m     \u001b[38;5;28mself\u001b[39m\u001b[38;5;241m.\u001b[39mcommand_header \u001b[38;5;241m+\u001b[39m\\\n\u001b[0;32m   1317\u001b[0m     args_command \u001b[38;5;241m+\u001b[39m\\\n\u001b[0;32m   1318\u001b[0m     proto\u001b[38;5;241m.\u001b[39mEND_COMMAND_PART\n\u001b[1;32m-> 1320\u001b[0m answer \u001b[38;5;241m=\u001b[39m \u001b[38;5;28mself\u001b[39m\u001b[38;5;241m.\u001b[39mgateway_client\u001b[38;5;241m.\u001b[39msend_command(command)\n\u001b[0;32m   1321\u001b[0m return_value \u001b[38;5;241m=\u001b[39m get_return_value(\n\u001b[0;32m   1322\u001b[0m     answer, \u001b[38;5;28mself\u001b[39m\u001b[38;5;241m.\u001b[39mgateway_client, \u001b[38;5;28mself\u001b[39m\u001b[38;5;241m.\u001b[39mtarget_id, \u001b[38;5;28mself\u001b[39m\u001b[38;5;241m.\u001b[39mname)\n\u001b[0;32m   1324\u001b[0m \u001b[38;5;28;01mfor\u001b[39;00m temp_arg \u001b[38;5;129;01min\u001b[39;00m temp_args:\n",
      "File \u001b[1;32m~\\anaconda3\\Lib\\site-packages\\py4j\\java_gateway.py:1036\u001b[0m, in \u001b[0;36mGatewayClient.send_command\u001b[1;34m(self, command, retry, binary)\u001b[0m\n\u001b[0;32m   1015\u001b[0m \u001b[38;5;28;01mdef\u001b[39;00m \u001b[38;5;21msend_command\u001b[39m(\u001b[38;5;28mself\u001b[39m, command, retry\u001b[38;5;241m=\u001b[39m\u001b[38;5;28;01mTrue\u001b[39;00m, binary\u001b[38;5;241m=\u001b[39m\u001b[38;5;28;01mFalse\u001b[39;00m):\n\u001b[0;32m   1016\u001b[0m \u001b[38;5;250m    \u001b[39m\u001b[38;5;124;03m\"\"\"Sends a command to the JVM. This method is not intended to be\u001b[39;00m\n\u001b[0;32m   1017\u001b[0m \u001b[38;5;124;03m       called directly by Py4J users. It is usually called by\u001b[39;00m\n\u001b[0;32m   1018\u001b[0m \u001b[38;5;124;03m       :class:`JavaMember` instances.\u001b[39;00m\n\u001b[1;32m   (...)\u001b[0m\n\u001b[0;32m   1034\u001b[0m \u001b[38;5;124;03m     if `binary` is `True`.\u001b[39;00m\n\u001b[0;32m   1035\u001b[0m \u001b[38;5;124;03m    \"\"\"\u001b[39;00m\n\u001b[1;32m-> 1036\u001b[0m     connection \u001b[38;5;241m=\u001b[39m \u001b[38;5;28mself\u001b[39m\u001b[38;5;241m.\u001b[39m_get_connection()\n\u001b[0;32m   1037\u001b[0m     \u001b[38;5;28;01mtry\u001b[39;00m:\n\u001b[0;32m   1038\u001b[0m         response \u001b[38;5;241m=\u001b[39m connection\u001b[38;5;241m.\u001b[39msend_command(command)\n",
      "File \u001b[1;32m~\\anaconda3\\Lib\\site-packages\\py4j\\clientserver.py:284\u001b[0m, in \u001b[0;36mJavaClient._get_connection\u001b[1;34m(self)\u001b[0m\n\u001b[0;32m    281\u001b[0m     \u001b[38;5;28;01mpass\u001b[39;00m\n\u001b[0;32m    283\u001b[0m \u001b[38;5;28;01mif\u001b[39;00m connection \u001b[38;5;129;01mis\u001b[39;00m \u001b[38;5;28;01mNone\u001b[39;00m \u001b[38;5;129;01mor\u001b[39;00m connection\u001b[38;5;241m.\u001b[39msocket \u001b[38;5;129;01mis\u001b[39;00m \u001b[38;5;28;01mNone\u001b[39;00m:\n\u001b[1;32m--> 284\u001b[0m     connection \u001b[38;5;241m=\u001b[39m \u001b[38;5;28mself\u001b[39m\u001b[38;5;241m.\u001b[39m_create_new_connection()\n\u001b[0;32m    285\u001b[0m \u001b[38;5;28;01mreturn\u001b[39;00m connection\n",
      "File \u001b[1;32m~\\anaconda3\\Lib\\site-packages\\py4j\\clientserver.py:291\u001b[0m, in \u001b[0;36mJavaClient._create_new_connection\u001b[1;34m(self)\u001b[0m\n\u001b[0;32m    287\u001b[0m \u001b[38;5;28;01mdef\u001b[39;00m \u001b[38;5;21m_create_new_connection\u001b[39m(\u001b[38;5;28mself\u001b[39m):\n\u001b[0;32m    288\u001b[0m     connection \u001b[38;5;241m=\u001b[39m ClientServerConnection(\n\u001b[0;32m    289\u001b[0m         \u001b[38;5;28mself\u001b[39m\u001b[38;5;241m.\u001b[39mjava_parameters, \u001b[38;5;28mself\u001b[39m\u001b[38;5;241m.\u001b[39mpython_parameters,\n\u001b[0;32m    290\u001b[0m         \u001b[38;5;28mself\u001b[39m\u001b[38;5;241m.\u001b[39mgateway_property, \u001b[38;5;28mself\u001b[39m)\n\u001b[1;32m--> 291\u001b[0m     connection\u001b[38;5;241m.\u001b[39mconnect_to_java_server()\n\u001b[0;32m    292\u001b[0m     \u001b[38;5;28mself\u001b[39m\u001b[38;5;241m.\u001b[39mset_thread_connection(connection)\n\u001b[0;32m    293\u001b[0m     \u001b[38;5;28;01mreturn\u001b[39;00m connection\n",
      "File \u001b[1;32m~\\anaconda3\\Lib\\site-packages\\py4j\\clientserver.py:438\u001b[0m, in \u001b[0;36mClientServerConnection.connect_to_java_server\u001b[1;34m(self)\u001b[0m\n\u001b[0;32m    435\u001b[0m \u001b[38;5;28;01mif\u001b[39;00m \u001b[38;5;28mself\u001b[39m\u001b[38;5;241m.\u001b[39mssl_context:\n\u001b[0;32m    436\u001b[0m     \u001b[38;5;28mself\u001b[39m\u001b[38;5;241m.\u001b[39msocket \u001b[38;5;241m=\u001b[39m \u001b[38;5;28mself\u001b[39m\u001b[38;5;241m.\u001b[39mssl_context\u001b[38;5;241m.\u001b[39mwrap_socket(\n\u001b[0;32m    437\u001b[0m         \u001b[38;5;28mself\u001b[39m\u001b[38;5;241m.\u001b[39msocket, server_hostname\u001b[38;5;241m=\u001b[39m\u001b[38;5;28mself\u001b[39m\u001b[38;5;241m.\u001b[39mjava_address)\n\u001b[1;32m--> 438\u001b[0m \u001b[38;5;28mself\u001b[39m\u001b[38;5;241m.\u001b[39msocket\u001b[38;5;241m.\u001b[39mconnect((\u001b[38;5;28mself\u001b[39m\u001b[38;5;241m.\u001b[39mjava_address, \u001b[38;5;28mself\u001b[39m\u001b[38;5;241m.\u001b[39mjava_port))\n\u001b[0;32m    439\u001b[0m \u001b[38;5;28mself\u001b[39m\u001b[38;5;241m.\u001b[39mstream \u001b[38;5;241m=\u001b[39m \u001b[38;5;28mself\u001b[39m\u001b[38;5;241m.\u001b[39msocket\u001b[38;5;241m.\u001b[39mmakefile(\u001b[38;5;124m\"\u001b[39m\u001b[38;5;124mrb\u001b[39m\u001b[38;5;124m\"\u001b[39m)\n\u001b[0;32m    440\u001b[0m \u001b[38;5;28mself\u001b[39m\u001b[38;5;241m.\u001b[39mis_connected \u001b[38;5;241m=\u001b[39m \u001b[38;5;28;01mTrue\u001b[39;00m\n",
      "\u001b[1;31mConnectionRefusedError\u001b[0m: [WinError 10061] Aucune connexion n’a pu être établie car l’ordinateur cible l’a expressément refusée"
     ]
    }
   ],
   "source": [
    "test_desc_pd = (test_desc\n",
    "                .groupBy('type_de_structure','year')\n",
    "                .agg( *[func.mean(col).alias(col.replace('nr_','')) for col in test_desc.columns if 'nr_' in col],\n",
    "                     *[func.sum(col).alias('total_' + col.replace('nr_','')) for col in test_desc.columns if 'nr_' in col],\n",
    "                     *[func.percentile_approx(col, 0.5).alias('med_' + col.replace('nr_','')) for col in test_desc.columns if 'nr_' in col]\n",
    "                    )\n",
    "               ).toPandas()"
   ]
  },
  {
   "cell_type": "code",
   "execution_count": null,
   "id": "9c28f917-1471-4a0f-baf6-1f973c186aec",
   "metadata": {},
   "outputs": [],
   "source": [
    "type_structure = sorted(list(set(test_desc_pd['type_de_structure'])))\n",
    "test_desc_pd['test_desc_pd']= pd.Categorical(test_desc_pd['type_de_structure'], type_structure)"
   ]
  },
  {
   "cell_type": "code",
   "execution_count": 138,
   "id": "23503ce9-3198-43d8-ad86-abce7bbbdd6b",
   "metadata": {},
   "outputs": [],
   "source": [
    "\n",
    "import seaborn as sns \n",
    "import matplotlib as mlt\n",
    "import matplotlib.pyplot as plt\n",
    "from itertools import cycle, islice\n",
    "\n",
    "SINGLE_PLOT_SIZE=(10,8)\n",
    "\n",
    "def graph_2(df, x, y):\n",
    "    sns.set_theme(style='white')\n",
    "    fig,ax=plt.subplots(1,figsize=SINGLE_PLOT_SIZE)\n",
    "    sns.lineplot(\n",
    "        data=df,\n",
    "        x=x, y=y, \n",
    "        legend = False,\n",
    "        estimator = None\n",
    "    )\n",
    "    #plt.axvline(2018, color=\"firebrick\", linestyle='--',linewidth = 0.75)\n",
    "    #plt.axvline(2015, color=\"darkseagreen\", linestyle='--',linewidth = 0.75)\n",
    "      # Background color\n",
    "    fig.set_facecolor(\"white\")\n",
    "      # Y-axis\n",
    "    current_values = plt.gca().get_yticks()\n",
    "    plt.gca().set_yticklabels([round(x, 4) for x in current_values])\n",
    "    plt.ylabel('', fontsize=14,loc='center',labelpad=10)\n",
    "\n",
    "    # X-axis\n",
    "    plt.xlabel('Year', fontsize=14,loc='center',labelpad=10)\n",
    "\n",
    "    # Title\n",
    "    #fig.suptitle(col_dict_titles[y], fontsize=14)\n",
    "     \n",
    "    fig.suptitle(y, fontsize=14)\n",
    "\n",
    "    for year in year_of_change:\n",
    "        plt.axvline(year, color=\"firebrick\", linestyle='--', linewidth=0.75)\n",
    "    # Box\n",
    "    ax.spines['top'].set_visible(False)\n",
    "    ax.spines['right'].set_visible(False)\n",
    "\n",
    "      # Legend\n",
    "    plt.legend(\n",
    "        loc='lower center', \n",
    "        bbox_to_anchor=(0.5,-0.43),\n",
    "    )\n",
    "    fig.tight_layout()\n",
    "    \n",
    "\n",
    "def graph_3(df, x, y, categorical, values_cat):\n",
    "    sns.set_theme(style='white')\n",
    "    custom_colors = ['seagreen', 'steelblue', \"darkseagreen\", 'lightsteelblue','midnightblue','grey','goldenrod','burlywood','peru']\n",
    "    fig,ax=plt.subplots(1,figsize=SINGLE_PLOT_SIZE)\n",
    "    sns.lineplot(\n",
    "        data=df,\n",
    "        x=x, y=y, hue = categorical,\n",
    "        palette = ['firebrick'] +list(islice(cycle(custom_colors), None, len(values_cat)-1)),\n",
    "        legend = False,\n",
    "        estimator = None\n",
    "    )\n",
    "    #plt.axvline(2018, color=\"firebrick\", linestyle='--',linewidth = 0.75)\n",
    "    #plt.axvline(2015, color=\"darkseagreen\", linestyle='--',linewidth = 0.75)\n",
    "      # Background color\n",
    "    fig.set_facecolor(\"white\")\n",
    "      # Y-axis\n",
    "    current_values = plt.gca().get_yticks()\n",
    "    plt.gca().set_yticklabels([round(x, 4) for x in current_values])\n",
    "    plt.ylabel('', fontsize=14,loc='center',labelpad=10)\n",
    "\n",
    "    # X-axis\n",
    "    plt.xlabel('Year', fontsize=14,loc='center',labelpad=10)\n",
    "\n",
    "    # Title\n",
    "    #fig.suptitle(col_dict_titles[y], fontsize=14)\n",
    "     \n",
    "    fig.suptitle(y, fontsize=14)\n",
    "\n",
    "    for year in year_of_change:\n",
    "        plt.axvline(year, color=\"firebrick\", linestyle='--', linewidth=0.75)\n",
    "    # Box\n",
    "    ax.spines['top'].set_visible(False)\n",
    "    ax.spines['right'].set_visible(False)\n",
    "\n",
    "      # Legend\n",
    "    plt.legend(\n",
    "        loc='lower center', \n",
    "        bbox_to_anchor=(0.5,-0.43),\n",
    "        ncol=3,\n",
    "        labels = values_cat\n",
    "    )\n",
    "    fig.tight_layout()\n",
    "    \n"
   ]
  },
  {
   "cell_type": "code",
   "execution_count": null,
   "id": "23a90a22-76fc-4c89-9847-593bd07270cb",
   "metadata": {},
   "outputs": [],
   "source": [
    "test_desc_pd = test_desc_pd[test_desc_pd['year'].isin(range(1980,2023))]"
   ]
  },
  {
   "cell_type": "code",
   "execution_count": null,
   "id": "a5996f39-fc01-4d9c-9519-5d7d202ddf0e",
   "metadata": {},
   "outputs": [],
   "source": [
    "year_of_change =[2007 ]\n",
    "graph_3(test_desc_pd, 'year', 'authors', 'type_de_structure', type_structure)"
   ]
  },
  {
   "cell_type": "code",
   "execution_count": 161,
   "id": "05c4e10a-da0a-49fd-9ef6-a6a89ec97f11",
   "metadata": {},
   "outputs": [],
   "source": [
    "agg_desc_stats = (df_scanR\n",
    "                  .filter(func.col('year').between(1990,2023))\n",
    "                  .withColumn('type', func.when(func.col('type').isNull(), 'null').otherwise(func.col('type')))\n",
    "                  .withColumn('type', func.concat_ws(',', func.col('productionType'), func.col('type')))\n",
    "             .groupBy('year','type')\n",
    "             .agg(\n",
    "                  func.countDistinct('id').alias('nr_doc')\n",
    "                 )\n",
    "            ).toPandas()\n",
    "types = sorted(list(set(agg_desc_stats['type'] )))\n",
    "agg_desc_stats['type'] = pd.Categorical(agg_desc_stats['type'], types)"
   ]
  },
  {
   "cell_type": "code",
   "execution_count": 162,
   "id": "9c6f8b75-060b-4746-9a6b-a93f46df2ffb",
   "metadata": {},
   "outputs": [
    {
     "name": "stderr",
     "output_type": "stream",
     "text": [
      "C:\\Users\\rapha\\anaconda3\\Lib\\site-packages\\seaborn\\_oldcore.py:1119: FutureWarning: use_inf_as_na option is deprecated and will be removed in a future version. Convert inf values to NaN before operating instead.\n",
      "  with pd.option_context('mode.use_inf_as_na', True):\n",
      "C:\\Users\\rapha\\anaconda3\\Lib\\site-packages\\seaborn\\_oldcore.py:1119: FutureWarning: use_inf_as_na option is deprecated and will be removed in a future version. Convert inf values to NaN before operating instead.\n",
      "  with pd.option_context('mode.use_inf_as_na', True):\n",
      "C:\\Users\\rapha\\anaconda3\\Lib\\site-packages\\seaborn\\_oldcore.py:1057: FutureWarning: The default of observed=False is deprecated and will be changed to True in a future version of pandas. Pass observed=False to retain current behavior or observed=True to adopt the future default and silence this warning.\n",
      "  grouped_data = data.groupby(\n",
      "C:\\Users\\rapha\\AppData\\Local\\Temp\\ipykernel_20364\\1568416090.py:65: UserWarning: set_ticklabels() should only be used with a fixed number of ticks, i.e. after set_ticks() or using a FixedLocator.\n",
      "  plt.gca().set_yticklabels([round(x, 4) for x in current_values])\n"
     ]
    },
    {
     "data": {
      "image/png": "[encoded data removed]",
      "text/plain": [
       "<Figure size 1000x800 with 1 Axes>"
      ]
     },
     "metadata": {},
     "output_type": "display_data"
    }
   ],
   "source": [
    "graph_3(agg_desc_stats, 'year', 'nr_doc','type', types)"
   ]
  }
 ],
 "metadata": {
  "kernelspec": {
   "display_name": "Python 3 (ipykernel)",
   "language": "python",
   "name": "python3"
  },
  "language_info": {
   "codemirror_mode": {
    "name": "ipython",
    "version": 3
   },
   "file_extension": ".py",
   "mimetype": "text/x-python",
   "name": "python",
   "nbconvert_exporter": "python",
   "pygments_lexer": "ipython3",
   "version": "3.11.9"
  }
 },
 "nbformat": 4,
 "nbformat_minor": 5
}
