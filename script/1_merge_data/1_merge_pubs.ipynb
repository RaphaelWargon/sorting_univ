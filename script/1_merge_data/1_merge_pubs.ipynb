{
 "cells": [
  {
   "cell_type": "code",
   "execution_count": 1,
   "id": "95803778-dcdd-4115-950e-94294e5aef80",
   "metadata": {},
   "outputs": [],
   "source": [
    "import re\n",
    "import os\n",
    "import gzip\n",
    "import shutil\n",
    "import pandas as pd\n",
    "import time\n",
    "from itertools import cycle, islice\n",
    "from transformers import pipeline, AutoModel, AutoModelForSequenceClassification,AutoTokenizer\n",
    "import findspark\n",
    "findspark.init(\"C:\\\\Spark\\\\spark-3.5.0-bin-hadoop3\")\n",
    "\n",
    "from pyspark.sql import SparkSession\n",
    "import pyspark.sql.functions as func\n",
    "from pyspark.sql.window import Window\n",
    "from pyspark.sql.types import StructType,StructField, StringType, IntegerType,ArrayType,BooleanType\n",
    "spark = SparkSession.builder \\\n",
    "                    .config(\"spark.sql.debug.maxToStringFields\", 1000)\\\n",
    "                    .config(\"spark.sql.files.maxPartitionBytes\", str(160 * 1024 * 1024)+\"b\")\\\n",
    "                    .config(\"spark.executor.memory\", \"20g\")\\\n",
    "                    .config(\"spark.driver.memory\", \"20g\")\\\n",
    "                    .config('spark.executor.cores',4) \\\n",
    "                    .master(\"local[4]\") \\\n",
    "                    .appName('open_works') \\\n",
    "                    .getOrCreate()\n",
    "                    #.enableHiveSupport()\\\n",
    "    \n",
    "main_path = 'C:\\\\Users\\\\common\\\\projet_3_lru\\\\'\n",
    "scanR_path = 'D:\\\\scanR\\\\'\n",
    "openalex_path = 'D:\\\\openalex-snapshot\\\\data_extracted\\\\'\n"
   ]
  },
  {
   "cell_type": "code",
   "execution_count": 2,
   "id": "bec93bb7-0e8a-478a-bb9e-ea2ad962aab3",
   "metadata": {},
   "outputs": [],
   "source": [
    "df_scanR = spark.read.format('parquet').load('file:\\\\' + scanR_path + 'publications.parquet')"
   ]
  },
  {
   "cell_type": "code",
   "execution_count": 3,
   "id": "99a00cc6-0cdd-4fb8-84fb-19fdf5017398",
   "metadata": {
    "scrolled": true
   },
   "outputs": [
    {
     "name": "stdout",
     "output_type": "stream",
     "text": [
      "root\n",
      " |-- affiliations: array (nullable = true)\n",
      " |    |-- element: string (containsNull = true)\n",
      " |-- authors: array (nullable = true)\n",
      " |    |-- element: struct (containsNull = true)\n",
      " |    |    |-- affiliations: array (nullable = true)\n",
      " |    |    |    |-- element: string (containsNull = true)\n",
      " |    |    |-- country: string (nullable = true)\n",
      " |    |    |-- firstName: string (nullable = true)\n",
      " |    |    |-- fullName: string (nullable = true)\n",
      " |    |    |-- lastName: string (nullable = true)\n",
      " |    |    |-- person: string (nullable = true)\n",
      " |    |    |-- role: string (nullable = true)\n",
      " |    |    |-- rolePatent: array (nullable = true)\n",
      " |    |    |    |-- element: struct (containsNull = true)\n",
      " |    |    |    |    |-- description: string (nullable = true)\n",
      " |    |    |    |    |-- role: string (nullable = true)\n",
      " |    |    |-- typeParticipant: string (nullable = true)\n",
      " |-- authorsCount: long (nullable = true)\n",
      " |-- doiUrl: string (nullable = true)\n",
      " |-- domains: array (nullable = true)\n",
      " |    |-- element: struct (containsNull = true)\n",
      " |    |    |-- code: string (nullable = true)\n",
      " |    |    |-- label: struct (nullable = true)\n",
      " |    |    |    |-- default: string (nullable = true)\n",
      " |    |    |-- level: string (nullable = true)\n",
      " |    |    |-- type: string (nullable = true)\n",
      " |-- externalIds: array (nullable = true)\n",
      " |    |-- element: struct (containsNull = true)\n",
      " |    |    |-- id: string (nullable = true)\n",
      " |    |    |-- type: string (nullable = true)\n",
      " |-- grantedDate: string (nullable = true)\n",
      " |-- id: string (nullable = true)\n",
      " |-- inpadocFamily: long (nullable = true)\n",
      " |-- inventionKind: string (nullable = true)\n",
      " |-- isInternational: boolean (nullable = true)\n",
      " |-- isOa: boolean (nullable = true)\n",
      " |-- isOeb: boolean (nullable = true)\n",
      " |-- keywords: struct (nullable = true)\n",
      " |    |-- default: array (nullable = true)\n",
      " |    |    |-- element: string (containsNull = true)\n",
      " |-- oaEvidence: struct (nullable = true)\n",
      " |    |-- hostType: string (nullable = true)\n",
      " |    |-- landingPageUrl: string (nullable = true)\n",
      " |    |-- license: string (nullable = true)\n",
      " |    |-- pdfUrl: string (nullable = true)\n",
      " |    |-- url: string (nullable = true)\n",
      " |    |-- version: string (nullable = true)\n",
      " |-- patents: array (nullable = true)\n",
      " |    |-- element: struct (containsNull = true)\n",
      " |    |    |-- applicationDate: string (nullable = true)\n",
      " |    |    |-- applicationNumber: string (nullable = true)\n",
      " |    |    |-- grantedDate: string (nullable = true)\n",
      " |    |    |-- id: string (nullable = true)\n",
      " |    |    |-- internatApplicationNumber: string (nullable = true)\n",
      " |    |    |-- ipType: string (nullable = true)\n",
      " |    |    |-- isPriority: boolean (nullable = true)\n",
      " |    |    |-- links: array (nullable = true)\n",
      " |    |    |    |-- element: struct (containsNull = true)\n",
      " |    |    |    |    |-- label: string (nullable = true)\n",
      " |    |    |    |    |-- type: string (nullable = true)\n",
      " |    |    |    |    |-- url: string (nullable = true)\n",
      " |    |    |-- office: string (nullable = true)\n",
      " |    |    |-- publicationDate: string (nullable = true)\n",
      " |    |    |-- publicationNumber: string (nullable = true)\n",
      " |-- productionType: string (nullable = true)\n",
      " |-- projects: array (nullable = true)\n",
      " |    |-- element: string (containsNull = true)\n",
      " |-- publicationDate: string (nullable = true)\n",
      " |-- source: struct (nullable = true)\n",
      " |    |-- isInDoaj: boolean (nullable = true)\n",
      " |    |-- isOa: boolean (nullable = true)\n",
      " |    |-- journalIssns: array (nullable = true)\n",
      " |    |    |-- element: string (containsNull = true)\n",
      " |    |-- publisher: string (nullable = true)\n",
      " |    |-- title: string (nullable = true)\n",
      " |-- submissionDate: string (nullable = true)\n",
      " |-- summary: struct (nullable = true)\n",
      " |    |-- default: string (nullable = true)\n",
      " |    |-- en: string (nullable = true)\n",
      " |    |-- fr: string (nullable = true)\n",
      " |-- title: struct (nullable = true)\n",
      " |    |-- af: string (nullable = true)\n",
      " |    |-- an: string (nullable = true)\n",
      " |    |-- ar: string (nullable = true)\n",
      " |    |-- az: string (nullable = true)\n",
      " |    |-- be: string (nullable = true)\n",
      " |    |-- bg: string (nullable = true)\n",
      " |    |-- bn: string (nullable = true)\n",
      " |    |-- bo: string (nullable = true)\n",
      " |    |-- br: string (nullable = true)\n",
      " |    |-- bs: string (nullable = true)\n",
      " |    |-- ca: string (nullable = true)\n",
      " |    |-- co: string (nullable = true)\n",
      " |    |-- cs: string (nullable = true)\n",
      " |    |-- cy: string (nullable = true)\n",
      " |    |-- da: string (nullable = true)\n",
      " |    |-- de: string (nullable = true)\n",
      " |    |-- default: string (nullable = true)\n",
      " |    |-- el: string (nullable = true)\n",
      " |    |-- en: string (nullable = true)\n",
      " |    |-- eo: string (nullable = true)\n",
      " |    |-- es: string (nullable = true)\n",
      " |    |-- et: string (nullable = true)\n",
      " |    |-- eu: string (nullable = true)\n",
      " |    |-- fa: string (nullable = true)\n",
      " |    |-- fi: string (nullable = true)\n",
      " |    |-- fr: string (nullable = true)\n",
      " |    |-- fy: string (nullable = true)\n",
      " |    |-- ga: string (nullable = true)\n",
      " |    |-- gb: string (nullable = true)\n",
      " |    |-- gd: string (nullable = true)\n",
      " |    |-- gl: string (nullable = true)\n",
      " |    |-- gu: string (nullable = true)\n",
      " |    |-- he: string (nullable = true)\n",
      " |    |-- hi: string (nullable = true)\n",
      " |    |-- hr: string (nullable = true)\n",
      " |    |-- ht: string (nullable = true)\n",
      " |    |-- hu: string (nullable = true)\n",
      " |    |-- hy: string (nullable = true)\n",
      " |    |-- ia: string (nullable = true)\n",
      " |    |-- id: string (nullable = true)\n",
      " |    |-- ie: string (nullable = true)\n",
      " |    |-- in: string (nullable = true)\n",
      " |    |-- io: string (nullable = true)\n",
      " |    |-- is: string (nullable = true)\n",
      " |    |-- it: string (nullable = true)\n",
      " |    |-- ja: string (nullable = true)\n",
      " |    |-- jv: string (nullable = true)\n",
      " |    |-- kk: string (nullable = true)\n",
      " |    |-- km: string (nullable = true)\n",
      " |    |-- kn: string (nullable = true)\n",
      " |    |-- ko: string (nullable = true)\n",
      " |    |-- ku: string (nullable = true)\n",
      " |    |-- kw: string (nullable = true)\n",
      " |    |-- la: string (nullable = true)\n",
      " |    |-- lb: string (nullable = true)\n",
      " |    |-- lt: string (nullable = true)\n",
      " |    |-- lv: string (nullable = true)\n",
      " |    |-- mg: string (nullable = true)\n",
      " |    |-- mk: string (nullable = true)\n",
      " |    |-- ml: string (nullable = true)\n",
      " |    |-- mn: string (nullable = true)\n",
      " |    |-- mr: string (nullable = true)\n",
      " |    |-- ms: string (nullable = true)\n",
      " |    |-- my: string (nullable = true)\n",
      " |    |-- nb: string (nullable = true)\n",
      " |    |-- ne: string (nullable = true)\n",
      " |    |-- nl: string (nullable = true)\n",
      " |    |-- nn: string (nullable = true)\n",
      " |    |-- no: string (nullable = true)\n",
      " |    |-- oc: string (nullable = true)\n",
      " |    |-- pl: string (nullable = true)\n",
      " |    |-- po: string (nullable = true)\n",
      " |    |-- ps: string (nullable = true)\n",
      " |    |-- pt: string (nullable = true)\n",
      " |    |-- qu: string (nullable = true)\n",
      " |    |-- rm: string (nullable = true)\n",
      " |    |-- ro: string (nullable = true)\n",
      " |    |-- ru: string (nullable = true)\n",
      " |    |-- sa: string (nullable = true)\n",
      " |    |-- sh: string (nullable = true)\n",
      " |    |-- si: string (nullable = true)\n",
      " |    |-- sk: string (nullable = true)\n",
      " |    |-- sl: string (nullable = true)\n",
      " |    |-- sq: string (nullable = true)\n",
      " |    |-- sr: string (nullable = true)\n",
      " |    |-- su: string (nullable = true)\n",
      " |    |-- sv: string (nullable = true)\n",
      " |    |-- sw: string (nullable = true)\n",
      " |    |-- ta: string (nullable = true)\n",
      " |    |-- te: string (nullable = true)\n",
      " |    |-- th: string (nullable = true)\n",
      " |    |-- tl: string (nullable = true)\n",
      " |    |-- tr: string (nullable = true)\n",
      " |    |-- tt: string (nullable = true)\n",
      " |    |-- uk: string (nullable = true)\n",
      " |    |-- ur: string (nullable = true)\n",
      " |    |-- uz: string (nullable = true)\n",
      " |    |-- vi: string (nullable = true)\n",
      " |    |-- vo: string (nullable = true)\n",
      " |    |-- wa: string (nullable = true)\n",
      " |    |-- zh: string (nullable = true)\n",
      " |-- type: string (nullable = true)\n",
      " |-- year: long (nullable = true)\n",
      "\n"
     ]
    }
   ],
   "source": [
    "df_scanR.printSchema()"
   ]
  },
  {
   "cell_type": "code",
   "execution_count": 4,
   "id": "fb45e6f6-87c8-42a3-8bc1-6ed379f02751",
   "metadata": {},
   "outputs": [],
   "source": [
    "import unidecode\n",
    "def unidecode_debug(x):\n",
    "    try:\n",
    "        y = unidecode.unidecode(x)\n",
    "        return(y)\n",
    "    except:\n",
    "        return(x)\n",
    "\n",
    "udf_unidecode = func.udf(unidecode_debug, StringType())"
   ]
  },
  {
   "cell_type": "code",
   "execution_count": 3,
   "id": "67939427-a46e-40b3-8926-963f63c90bdf",
   "metadata": {},
   "outputs": [
    {
     "name": "stdout",
     "output_type": "stream",
     "text": [
      "['arabic', 'azerbaijani', 'basque', 'bengali', 'catalan', 'chinese', 'danish', 'dutch', 'english', 'finnish', 'french', 'german', 'greek', 'hebrew', 'hinglish', 'hungarian', 'indonesian', 'italian', 'kazakh', 'nepali', 'norwegian', 'portuguese', 'romanian', 'russian', 'slovene', 'spanish', 'swedish', 'tajik', 'turkish']\n"
     ]
    }
   ],
   "source": [
    "import nltk\n",
    "from nltk.corpus import stopwords\n",
    "print(stopwords.fileids())\n",
    "stopwords_dict = {}\n",
    "for language in stopwords.fileids():\n",
    "    stopwords_dict[language.capitalize()] = stopwords.words(language)"
   ]
  },
  {
   "cell_type": "code",
   "execution_count": 4,
   "id": "29bd09fe-b429-46a0-8cf2-b77f2ab89c1d",
   "metadata": {},
   "outputs": [
    {
     "ename": "NameError",
     "evalue": "name 'spark' is not defined",
     "output_type": "error",
     "traceback": [
      "\u001b[1;31m---------------------------------------------------------------------------\u001b[0m",
      "\u001b[1;31mNameError\u001b[0m                                 Traceback (most recent call last)",
      "Cell \u001b[1;32mIn[4], line 3\u001b[0m\n\u001b[0;32m      1\u001b[0m values \u001b[38;5;241m=\u001b[39m [(k, stopwords_dict[k]) \u001b[38;5;28;01mfor\u001b[39;00m k \u001b[38;5;129;01min\u001b[39;00m \u001b[38;5;28mlist\u001b[39m(stopwords_dict\u001b[38;5;241m.\u001b[39mkeys())]\n\u001b[0;32m      2\u001b[0m columns \u001b[38;5;241m=\u001b[39m [\u001b[38;5;124m'\u001b[39m\u001b[38;5;124mlanguage\u001b[39m\u001b[38;5;124m'\u001b[39m, \u001b[38;5;124m'\u001b[39m\u001b[38;5;124mstopwords\u001b[39m\u001b[38;5;124m'\u001b[39m]\n\u001b[1;32m----> 3\u001b[0m stopwords_df \u001b[38;5;241m=\u001b[39m spark\u001b[38;5;241m.\u001b[39mcreateDataFrame(values, columns)\n\u001b[0;32m      4\u001b[0m iso_639_choices \u001b[38;5;241m=\u001b[39m{\n\u001b[0;32m      5\u001b[0m \u001b[38;5;124m'\u001b[39m\u001b[38;5;124mab\u001b[39m\u001b[38;5;124m'\u001b[39m: \u001b[38;5;124m'\u001b[39m\u001b[38;5;124mAbkhaz\u001b[39m\u001b[38;5;124m'\u001b[39m, \u001b[38;5;124m'\u001b[39m\u001b[38;5;124maa\u001b[39m\u001b[38;5;124m'\u001b[39m: \u001b[38;5;124m'\u001b[39m\u001b[38;5;124mAfar\u001b[39m\u001b[38;5;124m'\u001b[39m, \u001b[38;5;124m'\u001b[39m\u001b[38;5;124maf\u001b[39m\u001b[38;5;124m'\u001b[39m: \u001b[38;5;124m'\u001b[39m\u001b[38;5;124mAfrikaans\u001b[39m\u001b[38;5;124m'\u001b[39m, \u001b[38;5;124m'\u001b[39m\u001b[38;5;124mak\u001b[39m\u001b[38;5;124m'\u001b[39m: \u001b[38;5;124m'\u001b[39m\u001b[38;5;124mAkan\u001b[39m\u001b[38;5;124m'\u001b[39m, \u001b[38;5;124m'\u001b[39m\u001b[38;5;124msq\u001b[39m\u001b[38;5;124m'\u001b[39m: \u001b[38;5;124m'\u001b[39m\u001b[38;5;124mAlbanian\u001b[39m\u001b[38;5;124m'\u001b[39m, \u001b[38;5;124m'\u001b[39m\u001b[38;5;124mam\u001b[39m\u001b[38;5;124m'\u001b[39m: \u001b[38;5;124m'\u001b[39m\u001b[38;5;124mAmharic\u001b[39m\u001b[38;5;124m'\u001b[39m, \u001b[38;5;124m'\u001b[39m\u001b[38;5;124mar\u001b[39m\u001b[38;5;124m'\u001b[39m: \u001b[38;5;124m'\u001b[39m\u001b[38;5;124mArabic\u001b[39m\u001b[38;5;124m'\u001b[39m,\n\u001b[0;32m      6\u001b[0m \u001b[38;5;124m'\u001b[39m\u001b[38;5;124man\u001b[39m\u001b[38;5;124m'\u001b[39m: \u001b[38;5;124m'\u001b[39m\u001b[38;5;124mAragonese\u001b[39m\u001b[38;5;124m'\u001b[39m, \u001b[38;5;124m'\u001b[39m\u001b[38;5;124mhy\u001b[39m\u001b[38;5;124m'\u001b[39m: \u001b[38;5;124m'\u001b[39m\u001b[38;5;124mArmenian\u001b[39m\u001b[38;5;124m'\u001b[39m, \u001b[38;5;124m'\u001b[39m\u001b[38;5;124mas\u001b[39m\u001b[38;5;124m'\u001b[39m: \u001b[38;5;124m'\u001b[39m\u001b[38;5;124mAssamese\u001b[39m\u001b[38;5;124m'\u001b[39m, \u001b[38;5;124m'\u001b[39m\u001b[38;5;124mav\u001b[39m\u001b[38;5;124m'\u001b[39m: \u001b[38;5;124m'\u001b[39m\u001b[38;5;124mAvaric\u001b[39m\u001b[38;5;124m'\u001b[39m, \u001b[38;5;124m'\u001b[39m\u001b[38;5;124mae\u001b[39m\u001b[38;5;124m'\u001b[39m: \u001b[38;5;124m'\u001b[39m\u001b[38;5;124mAvestan\u001b[39m\u001b[38;5;124m'\u001b[39m, \u001b[38;5;124m'\u001b[39m\u001b[38;5;124may\u001b[39m\u001b[38;5;124m'\u001b[39m: \u001b[38;5;124m'\u001b[39m\u001b[38;5;124mAymara\u001b[39m\u001b[38;5;124m'\u001b[39m, \u001b[38;5;124m'\u001b[39m\u001b[38;5;124maz\u001b[39m\u001b[38;5;124m'\u001b[39m: \u001b[38;5;124m'\u001b[39m\u001b[38;5;124mAzerbaijani\u001b[39m\u001b[38;5;124m'\u001b[39m,\n\u001b[1;32m   (...)\u001b[0m\n\u001b[0;32m     29\u001b[0m \u001b[38;5;124m'\u001b[39m\u001b[38;5;124mzu\u001b[39m\u001b[38;5;124m'\u001b[39m: \u001b[38;5;124m'\u001b[39m\u001b[38;5;124mZulu\u001b[39m\u001b[38;5;124m'\u001b[39m, \u001b[38;5;124m\"\u001b[39m\u001b[38;5;124mzh-cn\u001b[39m\u001b[38;5;124m\"\u001b[39m : \u001b[38;5;124m\"\u001b[39m\u001b[38;5;124mChinese\u001b[39m\u001b[38;5;124m\"\u001b[39m\n\u001b[0;32m     30\u001b[0m }\n\u001b[0;32m     33\u001b[0m values \u001b[38;5;241m=\u001b[39m [(k, iso_639_choices[k]) \u001b[38;5;28;01mfor\u001b[39;00m k \u001b[38;5;129;01min\u001b[39;00m \u001b[38;5;28mlist\u001b[39m(iso_639_choices\u001b[38;5;241m.\u001b[39mkeys())]\n",
      "\u001b[1;31mNameError\u001b[0m: name 'spark' is not defined"
     ]
    }
   ],
   "source": [
    "values = [(k, stopwords_dict[k]) for k in list(stopwords_dict.keys())]\n",
    "columns = ['language', 'stopwords']\n",
    "stopwords_df = spark.createDataFrame(values, columns)\n",
    "values = [(k, stopwords_dict[k]) for k in list(stopwords_dict.keys())]\n",
    "columns = ['language', 'stopwords']\n",
    "stopwords_df = spark.createDataFrame(values, columns)\n",
    "\n",
    "values = [(k, stopwords_dict[k]) for k in list(stopwords_dict.keys())]\n",
    "columns = ['language', 'stopwords']\n",
    "stopwords_df = spark.createDataFrame(values, columns)\n",
    "iso_639_choices ={\n",
    "'ab': 'Abkhaz', 'aa': 'Afar', 'af': 'Afrikaans', 'ak': 'Akan', 'sq': 'Albanian', 'am': 'Amharic', 'ar': 'Arabic',\n",
    "'an': 'Aragonese', 'hy': 'Armenian', 'as': 'Assamese', 'av': 'Avaric', 'ae': 'Avestan', 'ay': 'Aymara', 'az': 'Azerbaijani',\n",
    "'bm': 'Bambara', 'ba': 'Bashkir', 'eu': 'Basque', 'be': 'Belarusian', 'bn': 'Bengali', 'bh': 'Bihari', 'bi': 'Bislama',\n",
    "'bs': 'Bosnian', 'br': 'Breton', 'bg': 'Bulgarian', 'my': 'Burmese', 'ca': 'Catalan; Valencian', 'ch': 'Chamorro', 'ce': 'Chechen',\n",
    "'ny': 'Chichewa; Chewa; Nyanja', 'zh': 'Chinese', 'cv': 'Chuvash', 'kw': 'Cornish', 'co': 'Corsican', 'cr': 'Cree', 'hr': 'Croatian',\n",
    "'cs': 'Czech', 'da': 'Danish', 'dv': 'Divehi; Maldivian;', 'nl': 'Dutch', 'dz': 'Dzongkha', 'en': 'English', 'eo': 'Esperanto',\n",
    "'et': 'Estonian', 'ee': 'Ewe', 'fo': 'Faroese', 'fj': 'Fijian', 'fi': 'Finnish', 'fr': 'French', 'ff': 'Fula', 'gl': 'Galician',\n",
    "'ka': 'Georgian', 'de': 'German', 'el': 'Greek, Modern', 'gn': 'Guaraní', 'gu': 'Gujarati', 'ht': 'Haitian','ha': 'Hausa',\n",
    "'he': 'Hebrew','hz': 'Herero','hi': 'Hindi','ho': 'Hiri Motu','hu': 'Hungarian','ia': 'Interlingua','id': 'Indonesian',\n",
    "'ie': 'Interlingue','ga': 'Irish','ig': 'Igbo','ik': 'Inupiaq','io': 'Ido','is': 'Icelandic','it': 'Italian','iu': 'Inuktitut',\n",
    "'ja': 'Japanese','jv': 'Javanese', 'kl': 'Kalaallisut', 'kn': 'Kannada', 'kr': 'Kanuri', 'ks': 'Kashmiri', \n",
    "'kk': 'Kazakh', 'km': 'Khmer', 'ki': 'Kikuyu, Gikuyu', 'rw': 'Kinyarwanda', 'ky': 'Kirghiz, Kyrgyz', 'kv': 'Komi', \n",
    "'kg': 'Kongo', 'ko': 'Korean', 'ku': 'Kurdish', 'kj': 'Kwanyama, Kuanyama', 'la': 'Latin', 'lb': 'Luxembourgish', \n",
    "'lg': 'Luganda', 'li': 'Limburgish', 'ln': 'Lingala', 'lo': 'Lao', 'lt': 'Lithuanian', 'lu': 'Luba-Katanga', 'lv': 'Latvian',\n",
    "'gv': 'Manx', 'mk': 'Macedonian', 'mg': 'Malagasy', 'ms': 'Malay', 'ml': 'Malayalam', 'mt': 'Maltese', 'mi': 'Māori', \n",
    "'mr': 'Marathi','mh': 'Marshallese','mn': 'Mongolian','na': 'Nauru','nv': 'Navajo','nb': 'Norwegian Bokmål',\n",
    "'nd': 'North Ndebele','ne': 'Nepali','ng': 'Ndonga','nn': 'Norwegian Nynorsk','no': 'Norwegian','ii': 'Nuosu',\n",
    "'nr': 'South Ndebele','oc': 'Occitan','oj': 'Ojibwe, Ojibwa','cu': 'Old Church Slavonic','om': 'Oromo','or': 'Oriya',\n",
    "'os': 'Ossetian, Ossetic','pa': 'Panjabi, Punjabi','pi': 'Pāli','fa': 'Persian','pl': 'Polish','ps': 'Pashto, Pushto',\n",
    "'pt': 'Portuguese','qu': 'Quechua','rm': 'Romansh','rn': 'Kirundi', 'ro': 'Romanian, Moldavan', 'ru': 'Russian', \n",
    "'sa': 'Sanskrit (Saṁskṛta)', 'sc': 'Sardinian', 'sd': 'Sindhi', 'se': 'Northern Sami', 'sm': 'Samoan', 'sg': 'Sango',\n",
    "'sr': 'Serbian', 'gd': 'Scottish Gaelic', 'sn': 'Shona', 'si': 'Sinhala, Sinhalese', 'sk': 'Slovak', 'sl': 'Slovene',\n",
    "'so': 'Somali', 'st': 'Southern Sotho', 'es': 'Spanish', 'su': 'Sundanese', 'sw': 'Swahili', 'ss': 'Swati', 'sv': 'Swedish', \n",
    "'ta': 'Tamil', 'te': 'Telugu', 'tg': 'Tajik', 'th': 'Thai', 'ti': 'Tigrinya','bo': 'Tibetan','tk': 'Turkmen','tl': 'Tagalog','tn': 'Tswana','to': 'Tonga','tr': 'Turkish','ts': 'Tsonga','tt': 'Tatar','tw': 'Twi','ty': 'Tahitian','ug': 'Uighur, Uyghur','uk': 'Ukrainian','ur': 'Urdu','uz': 'Uzbek','ve': 'Venda','vi': 'Vietnamese','vo': 'Volapük','wa': 'Walloon','cy': 'Welsh','wo': 'Wolof','fy': 'Western Frisian','xh': 'Xhosa','yi': 'Yiddish','yo': 'Yoruba','za': 'Zhuang, Chuang',\n",
    "'zu': 'Zulu', \"zh-cn\" : \"Chinese\"\n",
    "}\n",
    "        \n",
    "\n",
    "values = [(k, iso_639_choices[k]) for k in list(iso_639_choices.keys())]\n",
    "columns = [\"language_iso2\",'language']\n",
    "iso_df = spark.createDataFrame(values, columns)\n",
    "iso_df.show()\n",
    "\n",
    "stopwords_df = (stopwords_df.join(iso_df, on = 'language', how = 'left')\n",
    "                .select('stopwords', func.col('language_iso2').alias('language'))\n",
    "def rm_stopwords(x,y):\n",
    "    if x is None:\n",
    "        return(x)\n",
    "    if y is None:\n",
    "        return(y)\n",
    "    else:\n",
    "        try:\n",
    "            list_x = x.split(' ')\n",
    "            list_y = y\n",
    "            return(' '.join([word for word in list_x if word not in list_y]))\n",
    "        except:\n",
    "            return(x)\n",
    "udf_rm_stopwords = func.udf(rm_stopwords)\n",
    "\n",
    "def rm_stopwords(x,y):\n",
    "    if x is None:\n",
    "        return(x)\n",
    "    if y is None:\n",
    "        return(y)\n",
    "    else:\n",
    "        try:\n",
    "            list_x = x.split(' ')\n",
    "            list_y = y\n",
    "            return(' '.join([word for word in list_x if word not in list_y]))\n",
    "        except:\n",
    "            return(x)\n",
    "udf_rm_stopwords = func.udf(rm_stopwords)"
   ]
  },
  {
   "cell_type": "code",
   "execution_count": null,
   "id": "e83903d5-95cc-4d88-8a6c-a1621a3a0f4d",
   "metadata": {},
   "outputs": [],
   "source": []
  },
  {
   "cell_type": "code",
   "execution_count": 7,
   "id": "60819414-519c-4ee1-a780-1bf5aa475222",
   "metadata": {},
   "outputs": [],
   "source": [
    "openalex_path = 'D:\\\\openalex-snapshot\\\\data_extracted\\\\'\n",
    "\n",
    "works_au_af_subset = (spark.read.format('parquet').load('file:\\\\' + openalex_path + 'works_au_af.parquet').filter(func.col('country')=='FR')\n",
    "               .select('work_id','title', 'citations',func.col('publication_year').alias('year'),'language').distinct())"
   ]
  },
  {
   "cell_type": "code",
   "execution_count": 8,
   "id": "f03ead3e-753d-41e9-a37d-fca26f0b1763",
   "metadata": {},
   "outputs": [
    {
     "name": "stdout",
     "output_type": "stream",
     "text": [
      "+-----------------------+------------------+------------------+-------+\n",
      "|(title.default IS NULL)|(title.fr IS NULL)|(title.en IS NULL)|  count|\n",
      "+-----------------------+------------------+------------------+-------+\n",
      "|                  false|              true|              true| 108322|\n",
      "|                  false|              true|             false|2321193|\n",
      "|                  false|             false|              true|1523743|\n",
      "|                  false|             false|             false| 206728|\n",
      "+-----------------------+------------------+------------------+-------+\n",
      "\n"
     ]
    }
   ],
   "source": [
    "df_scanR.groupBy(func.col('title.default').isNull(), func.col('title.fr').isNull(), func.col('title.en').isNull()).count().show()"
   ]
  },
  {
   "cell_type": "code",
   "execution_count": 9,
   "id": "5e20b6a2-84cb-4329-a318-def4c4464f01",
   "metadata": {},
   "outputs": [
    {
     "name": "stdout",
     "output_type": "stream",
     "text": [
      "+--------------------+--------------------+--------+\n",
      "|                  id|         identifiers|in_scanR|\n",
      "+--------------------+--------------------+--------+\n",
      "|     halhal-04024361|        hal-04024361|       1|\n",
      "|     halhal-04024361|     halhal-04024361|       1|\n",
      "|     halhal-04024361|study authorial i...|       1|\n",
      "|doi10.1093/oso/97...|10.1093/oso/97801...|       1|\n",
      "|doi10.1093/oso/97...|10.1093/oso/97801...|       1|\n",
      "|doi10.1093/oso/97...|doi10.1093/oso/97...|       1|\n",
      "|doi10.1093/oso/97...|oxford studies ag...|       1|\n",
      "|     halhal-04020278|        hal-04020278|       1|\n",
      "|     halhal-04020278|     halhal-04020278|       1|\n",
      "|     halhal-04020278|paris savant capi...|       1|\n",
      "|doi10.1007/978-3-...|10.1007/978-3-030...|       1|\n",
      "|doi10.1007/978-3-...|10.1007/978-3-030...|       1|\n",
      "|doi10.1007/978-3-...|doi10.1007/978-3-...|       1|\n",
      "|doi10.1007/978-3-...|textbook oncofert...|       1|\n",
      "|doi10.1515/978303...|10.1515/978303561...|       1|\n",
      "|doi10.1515/978303...|10.1515/978303561...|       1|\n",
      "|doi10.1515/978303...|doi10.1515/978303...|       1|\n",
      "|doi10.1515/978303...|   city architecture|       1|\n",
      "|doi10.1088/2053-2...|10.1088/2053-2563...|       1|\n",
      "|doi10.1088/2053-2...|10.1088/2053-2563...|       1|\n",
      "+--------------------+--------------------+--------+\n",
      "only showing top 20 rows\n",
      "\n"
     ]
    }
   ],
   "source": [
    "barebones_scanR = (df_scanR.filter(func.col('year')==2019)\n",
    "                  .filter(func.col('productionType') == 'publication')\n",
    "                  .select(func.col('title.default').alias('title'), 'id', 'externalIds',\n",
    "                          func.when(func.col('title.default')==func.col('title.en'), 'English')\n",
    "                          .otherwise('French').alias('language'))\n",
    "                   .withColumn('language', func.when(func.col('language').isNull(), 'French').otherwise(func.col('language')))\n",
    "                   .join(stopwords_df, on = ['language'], how = 'left')\n",
    "                   .withColumn('cleaned_title', udf_rm_stopwords(func.lower(func.col('title')), func.col('stopwords')))\n",
    "                   .withColumn('cleaned_title', udf_unidecode(func.col('cleaned_title')))\n",
    "                   .withColumn('cleaned_title', func.regexp_replace(func.col('cleaned_title'), r'[[^A-Za-z0-9 -]]+', ''))  # Remove special characters\n",
    "                   .withColumn('cleaned_title', func.regexp_replace(func.col('cleaned_title'), '  ', ''))  # Remove special characters\n",
    "                   .withColumn('cleaned_title', func.regexp_replace(func.col('cleaned_title'), '  ', ''))  # Remove special characters\n",
    "                   .drop('languages')\n",
    "                               \n",
    "                            \n",
    "                  .withColumn('identifiers', func.when(func.col('externalIds.id').isNotNull(),\n",
    "                                                 func.array_compact(func.flatten(func.array(func.col('externalIds.id'), \n",
    "                                                                                            func.array([func.col('id'), func.col('cleaned_title')])))))\n",
    "                                                 .otherwise(func.array([func.col('id'), func.col('cleaned_title')])))\n",
    "                   .select('id', func.explode(func.col('identifiers')).alias('identifiers'), func.lit(1).alias('in_scanR'))\n",
    "\n",
    "                  )\n",
    "barebones_scanR.show()\n"
   ]
  },
  {
   "cell_type": "code",
   "execution_count": 10,
   "id": "c683aff7-c89c-46cf-b98a-fde42e5a55f1",
   "metadata": {},
   "outputs": [],
   "source": [
    "merge_path = 'D:\\\\openalex-snapshot\\\\merge\\\\'\n",
    "\n",
    "works_minimal_clean = spark.read.format('parquet').load('file:\\\\' + merge_path + 'oa_identifiers.parquet')\n"
   ]
  },
  {
   "cell_type": "code",
   "execution_count": 11,
   "id": "2adbd4a6-4058-4318-9335-5f0f9bdb429f",
   "metadata": {},
   "outputs": [
    {
     "name": "stdout",
     "output_type": "stream",
     "text": [
      "+-----------+--------------------+---------+\n",
      "|    work_id|         identifiers|countries|\n",
      "+-----------+--------------------+---------+\n",
      "|W1000001460|http://www.cqvip....|         |\n",
      "|W1000001460|Yan Zi Chun QiuZh...|         |\n",
      "|W1000004386|http://www.cqvip....|         |\n",
      "|W1000004386|Sha Jing Di Ji Ch...|         |\n",
      "|W1000012492|https://www.cabdi...|         |\n",
      "|W1000012492|leaf diseases hea...|         |\n",
      "| W100001460|https://doi.org/1...|       US|\n",
      "| W100001460|https://doi.org/1...|       US|\n",
      "| W100001460|age-related micro...|       US|\n",
      "|W1000015727|http://www.cqvip....|         |\n",
      "|W1000015727|Min Guo Shi Qi Fe...|         |\n",
      "|W1000017715|http://www.cqvip....|         |\n",
      "|W1000017715|Yuan Qu Shu Fa Re...|         |\n",
      "|W1000022074|http://www.cqvip....|         |\n",
      "|W1000022074|San Tai He Yi Zhe...|         |\n",
      "|W1000036519|http://www.cqvip....|         |\n",
      "|W1000036519|Zhua Hao Fu Pin G...|         |\n",
      "|W1000047560|https://libguides...|         |\n",
      "|W1000047560|research guides e...|         |\n",
      "|W1000050703|http://www.cqvip....|         |\n",
      "+-----------+--------------------+---------+\n",
      "only showing top 20 rows\n",
      "\n"
     ]
    }
   ],
   "source": [
    "works_minimal_clean.show()"
   ]
  },
  {
   "cell_type": "code",
   "execution_count": 12,
   "id": "49d3cc0e-3f5c-413b-9c90-7285c3e4bbaa",
   "metadata": {},
   "outputs": [],
   "source": [
    "merge = (works_minimal_clean.withColumn('in_oa', func.lit(1))\n",
    "         .join(barebones_scanR, on = ['identifiers'], how = 'full')\n",
    "         .select('id', 'work_id', 'in_scanR', 'in_oa')\n",
    "         .distinct()\n",
    "        )"
   ]
  },
  {
   "cell_type": "code",
   "execution_count": 18,
   "id": "e63e4416-7344-43c3-980c-c8e894d1dda2",
   "metadata": {},
   "outputs": [],
   "source": [
    "unambiguous_merge.write.mode('overwrite').parquet('file:\\\\' + merge_path + 'merge_oa_scanr.parquet')"
   ]
  },
  {
   "cell_type": "code",
   "execution_count": 6,
   "id": "d93e551f-3a38-4d89-a0b3-81ddf050be5c",
   "metadata": {},
   "outputs": [
    {
     "name": "stdout",
     "output_type": "stream",
     "text": [
      "+--------------------+-----------+--------+-----+\n",
      "|                  id|    work_id|in_scanR|in_oa|\n",
      "+--------------------+-----------+--------+-----+\n",
      "|     halhal-03754658|W4292443170|       1|    1|\n",
      "|doi10.3917/rfp.83...|W2969964743|       1|    1|\n",
      "|doi10.1016/j.kine...|W4211255436|       1|    1|\n",
      "|doi10.1016/j.kine...|W4232209428|       1|    1|\n",
      "|doi10.1016/j.kine...|W4250988968|       1|    1|\n",
      "|doi10.3389/fmicb....|W2952999755|       1|    1|\n",
      "|doi10.1007/978-1-...|W4240127323|       1|    1|\n",
      "|doi10.1007/978-1-...|W4245348838|       1|    1|\n",
      "|doi10.1097/qai.00...|W2969281750|       1|    1|\n",
      "|doi10.1177/245574...|W4211015669|       1|    1|\n",
      "|doi10.1177/245574...|W4229582053|       1|    1|\n",
      "|doi10.1177/245574...|W4243003195|       1|    1|\n",
      "|doi10.1177/245574...|W4243283818|       1|    1|\n",
      "|doi10.1093/bioinf...|W2898371836|       1|    1|\n",
      "|doi10.1007/978-3-...|W2944054768|       1|    1|\n",
      "|     halhal-03403170|W4296568381|       1|    1|\n",
      "|doi10.5040/978147...|W4237660652|       1|    1|\n",
      "|doi10.3201/eid250...|W2902775473|       1|    1|\n",
      "|     halhal-02388241|W2991427547|       1|    1|\n",
      "|doi10.2174/240552...|W4240888638|       1|    1|\n",
      "+--------------------+-----------+--------+-----+\n",
      "only showing top 20 rows\n",
      "\n"
     ]
    }
   ],
   "source": [
    "merge_path = 'D:\\\\openalex-snapshot\\\\merge\\\\'\n",
    "\n",
    "merge = spark.read.format('parquet').load('file:\\\\' + merge_path + 'merge_oa_scanr.parquet')\n",
    "merge.show()"
   ]
  },
  {
   "cell_type": "code",
   "execution_count": 13,
   "id": "6828514e-d772-4d99-9d05-c7bcfd05f32e",
   "metadata": {},
   "outputs": [
    {
     "data": {
      "text/plain": [
       "201792"
      ]
     },
     "execution_count": 13,
     "metadata": {},
     "output_type": "execute_result"
    }
   ],
   "source": [
    "unambiguous_merge = (merge\n",
    "                     .filter(func.col('in_scanR')+func.col('in_oa') ==2)\n",
    "                     .withColumn('n_id', func.size(func.collect_set(func.col('id')).over(Window.partitionBy('work_id'))))\n",
    "                     .withColumn('n_w_id', func.size(func.collect_set(func.col('work_id')).over(Window.partitionBy('id'))))\n",
    "                     .filter((func.col('n_id')==1) & (func.col('n_w_id')==1))\n",
    "                    )\n",
    "unambiguous_merge.count()"
   ]
  },
  {
   "cell_type": "code",
   "execution_count": 14,
   "id": "1ec2e9fd-b012-44e5-a88e-3cb6f007b448",
   "metadata": {},
   "outputs": [
    {
     "name": "stdout",
     "output_type": "stream",
     "text": [
      "+--------------------+-----------+--------+-----+----+------+\n",
      "|                  id|    work_id|in_scanR|in_oa|n_id|n_w_id|\n",
      "+--------------------+-----------+--------+-----+----+------+\n",
      "|doi10.1001/jama.2...|W2912774204|       1|    1|   1|     1|\n",
      "|doi10.1001/jama.2...|W2967318538|       1|    1|   1|     1|\n",
      "|doi10.1001/jama.2...|W2916224422|       1|    1|   1|     1|\n",
      "|doi10.1001/jama.2...|W2977332845|       1|    1|   1|     1|\n",
      "|doi10.1001/jama.2...|W2982116083|       1|    1|   1|     1|\n",
      "|doi10.1001/jama.2...|W2944362313|       1|    1|   1|     1|\n",
      "|doi10.1001/jama.2...|W2978029701|       1|    1|   1|     1|\n",
      "|doi10.1001/jama.2...|W2945351692|       1|    1|   1|     1|\n",
      "|doi10.1001/jama.2...|W2945034488|       1|    1|   1|     1|\n",
      "|doi10.1001/jama.2...|W2922550132|       1|    1|   1|     1|\n",
      "|doi10.1001/jama.2...|W2948500349|       1|    1|   1|     1|\n",
      "|doi10.1001/jama.2...|W2956119632|       1|    1|   1|     1|\n",
      "|doi10.1001/jamaca...|W2904950765|       1|    1|   1|     1|\n",
      "|doi10.1001/jamaca...|W2913258494|       1|    1|   1|     1|\n",
      "|doi10.1001/jamaca...|W2916717962|       1|    1|   1|     1|\n",
      "|doi10.1001/jamaca...|W2940672413|       1|    1|   1|     1|\n",
      "|doi10.1001/jamaca...|W2947771243|       1|    1|   1|     1|\n",
      "|doi10.1001/jamaca...|W2975423547|       1|    1|   1|     1|\n",
      "|doi10.1001/jamaca...|W2976391846|       1|    1|   1|     1|\n",
      "|doi10.1001/jamade...|W2921506277|       1|    1|   1|     1|\n",
      "+--------------------+-----------+--------+-----+----+------+\n",
      "only showing top 20 rows\n",
      "\n"
     ]
    }
   ],
   "source": [
    "unambiguous_merge.cache()\n",
    "unambiguous_merge.show()"
   ]
  },
  {
   "cell_type": "code",
   "execution_count": 16,
   "id": "6a59286e-9c63-416b-a028-ebd4bf3bb922",
   "metadata": {},
   "outputs": [
    {
     "data": {
      "text/plain": [
       "[Row(id='doi10.1001/jama.2019.0071', work_id='W2912774204', in_scanR=1, in_oa=1, n_id=1, n_w_id=1),\n",
       " Row(id='doi10.1001/jama.2019.10551', work_id='W2967318538', in_scanR=1, in_oa=1, n_id=1, n_w_id=1),\n",
       " Row(id='doi10.1001/jama.2019.1113', work_id='W2916224422', in_scanR=1, in_oa=1, n_id=1, n_w_id=1),\n",
       " Row(id='doi10.1001/jama.2019.14608', work_id='W2977332845', in_scanR=1, in_oa=1, n_id=1, n_w_id=1),\n",
       " Row(id='doi10.1001/jama.2019.14969', work_id='W2982116083', in_scanR=1, in_oa=1, n_id=1, n_w_id=1),\n",
       " Row(id='doi10.1001/jama.2019.1534', work_id='W2944362313', in_scanR=1, in_oa=1, n_id=1, n_w_id=1),\n",
       " Row(id='doi10.1001/jama.2019.16181', work_id='W2978029701', in_scanR=1, in_oa=1, n_id=1, n_w_id=1),\n",
       " Row(id='doi10.1001/jama.2019.2064', work_id='W2945351692', in_scanR=1, in_oa=1, n_id=1, n_w_id=1),\n",
       " Row(id='doi10.1001/jama.2019.2072', work_id='W2945034488', in_scanR=1, in_oa=1, n_id=1, n_w_id=1),\n",
       " Row(id='doi10.1001/jama.2019.2942', work_id='W2922550132', in_scanR=1, in_oa=1, n_id=1, n_w_id=1),\n",
       " Row(id='doi10.1001/jama.2019.6854', work_id='W2948500349', in_scanR=1, in_oa=1, n_id=1, n_w_id=1),\n",
       " Row(id='doi10.1001/jama.2019.7769', work_id='W2956119632', in_scanR=1, in_oa=1, n_id=1, n_w_id=1),\n",
       " Row(id='doi10.1001/jamacardio.2018.4320', work_id='W2904950765', in_scanR=1, in_oa=1, n_id=1, n_w_id=1),\n",
       " Row(id='doi10.1001/jamacardio.2018.4615', work_id='W2913258494', in_scanR=1, in_oa=1, n_id=1, n_w_id=1),\n",
       " Row(id='doi10.1001/jamacardio.2019.0014', work_id='W2916717962', in_scanR=1, in_oa=1, n_id=1, n_w_id=1),\n",
       " Row(id='doi10.1001/jamacardio.2019.1049', work_id='W2940672413', in_scanR=1, in_oa=1, n_id=1, n_w_id=1),\n",
       " Row(id='doi10.1001/jamacardio.2019.1581', work_id='W2947771243', in_scanR=1, in_oa=1, n_id=1, n_w_id=1),\n",
       " Row(id='doi10.1001/jamacardio.2019.3355', work_id='W2975423547', in_scanR=1, in_oa=1, n_id=1, n_w_id=1),\n",
       " Row(id='doi10.1001/jamacardio.2019.4101', work_id='W2976391846', in_scanR=1, in_oa=1, n_id=1, n_w_id=1),\n",
       " Row(id='doi10.1001/jamadermatol.2018.5528', work_id='W2921506277', in_scanR=1, in_oa=1, n_id=1, n_w_id=1)]"
      ]
     },
     "execution_count": 16,
     "metadata": {},
     "output_type": "execute_result"
    }
   ],
   "source": [
    "unambiguous_merge.limit(20).collect()"
   ]
  },
  {
   "cell_type": "code",
   "execution_count": 20,
   "id": "edb408b8-f93c-409b-98f5-f6d17577deb6",
   "metadata": {},
   "outputs": [
    {
     "data": {
      "text/plain": [
       "[Row(default='Baseline Characteristics and Risk Profiles of Participants in the ISCHEMIA Randomized Clinical Trial')]"
      ]
     },
     "execution_count": 20,
     "metadata": {},
     "output_type": "execute_result"
    }
   ],
   "source": [
    "df_scanR.filter(func.col('id').isin(['doi10.1001/jamacardio.2019.0014'])).select('title.default').collect()"
   ]
  }
 ],
 "metadata": {
  "kernelspec": {
   "display_name": "Pyspark_Python_R",
   "language": "python",
   "name": "pyspark_python_r"
  },
  "language_info": {
   "codemirror_mode": {
    "name": "ipython",
    "version": 3
   },
   "file_extension": ".py",
   "mimetype": "text/x-python",
   "name": "python",
   "nbconvert_exporter": "python",
   "pygments_lexer": "ipython3",
   "version": "3.9.21"
  }
 },
 "nbformat": 4,
 "nbformat_minor": 5
}
