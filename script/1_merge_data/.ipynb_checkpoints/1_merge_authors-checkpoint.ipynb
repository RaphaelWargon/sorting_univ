{
 "cells": [
  {
   "cell_type": "code",
   "execution_count": 1,
   "id": "d77edf74-c860-42ba-948b-655727581fbc",
   "metadata": {},
   "outputs": [],
   "source": [
    "%run header_data_treatment.ipynb"
   ]
  },
  {
   "cell_type": "code",
   "execution_count": 2,
   "id": "594ca2da-a40c-404b-880b-d9ab00273040",
   "metadata": {},
   "outputs": [],
   "source": [
    "works_au_af = spark.read.format('parquet').load('file:\\\\' + openalex_path + 'works_au_af.parquet')\n",
    "df_scanR = spark.read.format('parquet').load('file:\\\\' + scanR_path + 'publications.parquet')\n",
    "merge_path = 'D:\\\\openalex-snapshot\\\\merge\\\\'\n",
    "\n",
    "merge = spark.read.format('parquet').load('file:\\\\' + merge_path + 'merge_oa_scanr.parquet')\n"
   ]
  },
  {
   "cell_type": "code",
   "execution_count": 28,
   "id": "be33c78e-a712-4178-ac65-0a1bb549a190",
   "metadata": {},
   "outputs": [
    {
     "data": {
      "text/plain": [
       "201792"
      ]
     },
     "execution_count": 28,
     "metadata": {},
     "output_type": "execute_result"
    }
   ],
   "source": [
    "merge.count()"
   ]
  },
  {
   "cell_type": "code",
   "execution_count": 3,
   "id": "48baf426-9387-46a3-ae72-af4256588a88",
   "metadata": {},
   "outputs": [],
   "source": [
    "df_authors = (spark.read.format('parquet').load('file:\\\\' + openalex_path + 'authors.parquet')\n",
    "              .withColumn('split_name', func.split(func.col('display_name'), ' '))\n",
    "             .withColumn('first_name', func.element_at(func.col('split_name'), 1))\n",
    "              .withColumn('last_name', func.concat_ws(' ', func.array_except(func.col('split_name'), func.array(func.col('first_name')))))\n",
    "             )\n"
   ]
  },
  {
   "cell_type": "code",
   "execution_count": 16,
   "id": "a3628ead-ec27-4d1a-b1f8-9554bb369b0c",
   "metadata": {},
   "outputs": [
    {
     "name": "stdout",
     "output_type": "stream",
     "text": [
      "+-----------+--------------------+-----------+-------+--------+-----+\n",
      "|  author_id|                  id|    work_id|initial|lastName|in_oa|\n",
      "+-----------+--------------------+-----------+-------+--------+-----+\n",
      "|A5000012049|doi10.3389/fimmu....|W2953229326|      C|   Colas|    1|\n",
      "|A5000042090|doi10.1016/j.rcot...|W2971344161|      L|   Gayet|    1|\n",
      "|A5000042090|doi10.1136/bmjope...|W2972077282|      L|   Gayet|    1|\n",
      "|A5000042090|doi10.1080/102558...|W3028392656|      L|   Gayet|    1|\n",
      "|A5000122934|doi10.1136/annrhe...|W2920682973|      J|Davignon|    1|\n",
      "|A5000123742|doi10.1109/cleoe-...|W2980352577|      M|  Carras|    1|\n",
      "|A5000134304|doi10.2138/am-201...|W2988227999|      I|  Daniel|    1|\n",
      "|A5000134304|doi10.1021/acsear...|W2957282967|      I|  Daniel|    1|\n",
      "|A5000134304|doi10.1017/978110...|W4206675285|      I|  Daniel|    1|\n",
      "|A5000134304|doi10.1007/s42452...|W2946556831|      I|  Daniel|    1|\n",
      "|A5000134304|     halhal-03634562|W3160449359|      I|  Daniel|    1|\n",
      "|A5000137110|doi10.1007/s10040...|W2949701351|      S|   Nofal|    1|\n",
      "|A5000157973|     halhal-02458640|W4288375604|      C| Fortier|    1|\n",
      "|A5000157973|     halhal-02458656|W3004101798|      C| Fortier|    1|\n",
      "|A5000157973|     halhal-02458661|W3003814814|      C| Fortier|    1|\n",
      "|A5000202064|     halhal-03906493|W4311948204|      V|  Zarini|    1|\n",
      "|A5000202064|     halhal-03906510|W4311948015|      V|  Zarini|    1|\n",
      "|A5000241119|doi10.1021/acsami...|W2908875504|      O|  Boyron|    1|\n",
      "|A5000241119|doi10.1002/macp.2...|W2990088018|      O|  Boyron|    1|\n",
      "|A5000241119|doi10.1021/acs.ma...|W2980602367|      O|  Boyron|    1|\n",
      "+-----------+--------------------+-----------+-------+--------+-----+\n",
      "only showing top 20 rows\n",
      "\n"
     ]
    }
   ],
   "source": [
    "works_au_af_subset = (merge\n",
    "                      .join(works_au_af.filter(func.col('country')=='FR').distinct(),\n",
    "                            on = ['work_id'], how = 'inner')\n",
    "                      .filter(func.col('type').isin('article', 'book-chapter', 'book', 'book-series', 'report'))\n",
    "                      .select('id', 'work_id','author_id')\n",
    "                      .join(df_authors\n",
    "                    .select(func.regexp_replace(func.col('id'), 'https://openalex.org/','').alias('author_id'), \n",
    "                            func.substring(func.col('display_name'),1,1).alias('initial'),\n",
    "                                      func.element_at(func.split(func.col('display_name'), ' ', limit = 2), 2).alias('lastName'))\n",
    "                    .withColumn('lastName', func.array_distinct(func.concat(func.array([func.col('lastName')]),\n",
    "                                                          func.split(func.col('lastName'), ' '))))\n",
    "             .withColumn('lastName', func.explode(func.col('lastName')))\n",
    "                    , on ='author_id', how ='inner')\n",
    "              .withColumn('in_oa', func.lit(1))\n",
    "                      .distinct()\n",
    "                     )\n",
    "\n",
    "works_au_af_subset.cache()\n",
    "works_au_af_subset.show()"
   ]
  },
  {
   "cell_type": "code",
   "execution_count": 17,
   "id": "929b6080-a71e-40dd-bcbf-b9d6167b12cc",
   "metadata": {},
   "outputs": [
    {
     "name": "stdout",
     "output_type": "stream",
     "text": [
      "+-----------+--------------------+-----------+-------+--------+-----+\n",
      "|  author_id|                  id|    work_id|initial|lastName|in_oa|\n",
      "+-----------+--------------------+-----------+-------+--------+-----+\n",
      "|A5000012049|doi10.3389/fimmu....|W2953229326|      C|   Colas|    1|\n",
      "|A5000042090|doi10.1016/j.rcot...|W2971344161|      L|   Gayet|    1|\n",
      "|A5000042090|doi10.1136/bmjope...|W2972077282|      L|   Gayet|    1|\n",
      "|A5000042090|doi10.1080/102558...|W3028392656|      L|   Gayet|    1|\n",
      "|A5000122934|doi10.1136/annrhe...|W2920682973|      J|Davignon|    1|\n",
      "|A5000123742|doi10.1109/cleoe-...|W2980352577|      M|  Carras|    1|\n",
      "|A5000134304|doi10.2138/am-201...|W2988227999|      I|  Daniel|    1|\n",
      "|A5000134304|doi10.1021/acsear...|W2957282967|      I|  Daniel|    1|\n",
      "|A5000134304|doi10.1017/978110...|W4206675285|      I|  Daniel|    1|\n",
      "|A5000134304|doi10.1007/s42452...|W2946556831|      I|  Daniel|    1|\n",
      "|A5000134304|     halhal-03634562|W3160449359|      I|  Daniel|    1|\n",
      "|A5000137110|doi10.1007/s10040...|W2949701351|      S|   Nofal|    1|\n",
      "|A5000157973|     halhal-02458640|W4288375604|      C| Fortier|    1|\n",
      "|A5000157973|     halhal-02458656|W3004101798|      C| Fortier|    1|\n",
      "|A5000157973|     halhal-02458661|W3003814814|      C| Fortier|    1|\n",
      "|A5000202064|     halhal-03906493|W4311948204|      V|  Zarini|    1|\n",
      "|A5000202064|     halhal-03906510|W4311948015|      V|  Zarini|    1|\n",
      "|A5000241119|doi10.1021/acsami...|W2908875504|      O|  Boyron|    1|\n",
      "|A5000241119|doi10.1002/macp.2...|W2990088018|      O|  Boyron|    1|\n",
      "|A5000241119|doi10.1021/acs.ma...|W2980602367|      O|  Boyron|    1|\n",
      "+-----------+--------------------+-----------+-------+--------+-----+\n",
      "only showing top 20 rows\n",
      "\n"
     ]
    }
   ],
   "source": [
    "works_au_af_subset = works_au_af_subset.distinct()\n",
    "\n",
    "works_au_af_subset.cache()\n",
    "\n",
    "works_au_af_subset.show()"
   ]
  },
  {
   "cell_type": "code",
   "execution_count": 23,
   "id": "f2485a5f-f925-4c26-8927-d85479eed900",
   "metadata": {},
   "outputs": [
    {
     "name": "stdout",
     "output_type": "stream",
     "text": [
      "+---------+--------------------+-----------+-----------+--------------------+------------------+--------------------+--------------------+--------------------+--------+-------+\n",
      "|    idref|                  id|    work_id|  firstName|            fullName|          lastName|        titles_scanR|   institution_scanR|        fields_scanR|in_scanR|initial|\n",
      "+---------+--------------------+-----------+-----------+--------------------+------------------+--------------------+--------------------+--------------------+--------+-------+\n",
      "|026656590|doi10.1016/j.jaa....|W2975604414|Josep Maria| Josep Maria Fullola|           Fullola|[Crossing the Pyr...|       [grid.5841.8]|[{Q12431, {Pyrene...|       1|      J|\n",
      "|026681587|doi10.1007/s11605...|W2954771069|      Sorin|  Sorin Alexandrescu|      Alexandrescu|[Effect of Surgic...|     [grid.415180.9]|[{Q7646216, {Surg...|       1|      S|\n",
      "|026682214|doi10.4000/econom...|W2955566565|     Gilles|      Gilles Allaire|           Allaire|[Hommage - L’écon...|[180070039, 20092...|[{Q23687288, {éco...|       1|      G|\n",
      "|02668649x|doi10.1007/978-3-...|W2978568179|   Wladimir|    Wladimir Andreff|           Andreff|[Global Criminal ...|[200612823S, grid...|[{Q3550859, {Onli...|       1|      W|\n",
      "|02668649x|doi10.1007/978-3-...|W2978957373|   Wladimir|    Wladimir Andreff|           Andreff|[Challenging Stan...|[200612823S, grid...|[{Q1506462, {Onli...|       1|      W|\n",
      "|026687372|     halhal-03578601|W3206492515|      André|        André d'Anna|            d'Anna|[Les apports du s...|[https://ror.org/...|[{Q36422, {Néolit...|       1|      A|\n",
      "|02670028x|     halhal-03393684|W2972371684|   Bertrand|      Bertrand Badie|             Badie|[Introduction. Co...|[grid.451239.8, a...|[{Q605269, {hégém...|       1|      B|\n",
      "|026703963|     halhal-03768494|W4294567533|   François|    François Baratte|           Baratte|[Les trois statue...|[130026149, https...|[{Q30082153, {Lal...|       1|      F|\n",
      "|026703963|  halhalshs-02065137|W3083699672|   François|    François Baratte|           Baratte|[L'édifice appelé...|[130026149, https...|[{Q645312, {Bacch...|       1|      F|\n",
      "|026705931|doi10.1161/stroke...|W2912346008|Jean-Claude|   Jean-Claude Baron|             Baron|[Thrombus Length ...|[https://ror.org/...|[{Q1588755, {Thro...|       1|      J|\n",
      "|026708272|     halhal-02571829|W4231515074|   Brigitte|Brigitte Basdevan...|Basdevant-Gaudemet|     [Paul Fournier]|[199213526S, http...|[{Q5043, {Christi...|       1|      B|\n",
      "|026719835|doi10.1016/j.yjmc...|W2943528275|      Alain|      Alain Berdeaux|          Berdeaux|[Concomitant syst...|[grid.462410.5, 1...|[{Q496359, {systo...|       1|      A|\n",
      "|026721244|  halhalshs-02375137|W2981389576|    Jacques|     Jacques Berlioz|           Berlioz|[La transmission ...|[https://ror.org/...|[{Q1993117, {exem...|       1|      J|\n",
      "|026725819|doi10.1007/978-3-...|W2997977982|   Philippe|      Philippe Besse|             Besse|[Conditional Anom...|[grid.22147.32, g...|[{Q3560506, {Anom...|       1|      P|\n",
      "|026727412|  halhalshs-02444378|W3003101945|       Joël|          Joël Biard|             Biard|[Buridan. Questio...|[193708005, ao-ph...|[{Q868, {Aristote...|       1|      J|\n",
      "|026729865|doi10.1097/sla.00...|W2748112389|      Henri|       Henri Bismuth|           Bismuth|[Impact of Surgic...|[267500452, grid....|[{Q40821, {Surgic...|       1|      H|\n",
      "|026739925|  halhalshs-02449978|W3074402275|     Michel|     Michel Borgetto|          Borgetto|[Marché et couver...|[44614, pantheon-...|[{Q2464434, {Sécu...|       1|      M|\n",
      "|026739925|  halhalshs-02449988|W3080199086|     Michel|     Michel Borgetto|          Borgetto|[Le droit de la s...|[44614, pantheon-...|[{Q2483208, {sécu...|       1|      M|\n",
      "|026745690|     halhal-03978884|W4324001582|    Pascale|    Pascale Bourgain|          Bourgain|[La courtoisie, l...|[200214898P, 2419...|[{Q12554, {Moyen ...|       1|      P|\n",
      "|026745690|     halhal-03978969|W4327844379|    Pascale|    Pascale Bourgain|          Bourgain|[Le lexique du pr...|[200214898P, 2419...|[{Q12554, {Moyen ...|       1|      P|\n",
      "+---------+--------------------+-----------+-----------+--------------------+------------------+--------------------+--------------------+--------------------+--------+-------+\n",
      "only showing top 20 rows\n",
      "\n"
     ]
    }
   ],
   "source": [
    "authors_scanR = (merge.select('id','work_id')\n",
    "                 .join(df_scanR.distinct(),\n",
    "                            on = ['id'], how = 'inner')\n",
    "                 \n",
    "                 .filter(func.col('type').isin('proceedings', 'book-chapter','book','journal-article'))\n",
    "                 .withColumn('authors', func.explode(func.col('authors')))\n",
    "                 .withColumn('af', func.explode(func.col('authors.affiliations')))\n",
    "                 .withColumn('idref', func.regexp_replace(func.lower(func.col(\"authors.person\")), 'idref',''))\n",
    "                 .withColumn('idref', func.when(func.col('idref').isNull(), func.col('authors.fullName')).otherwise(func.col('idref')))\n",
    "                 .groupBy('idref',\"id\",'work_id')\n",
    "                 .agg( *[func.first(col).alias(col.replace('authors.', '')) for col in ['authors.firstName', 'authors.fullName', 'authors.lastName']],\n",
    "                         func.collect_set('title.default').alias('titles_scanR'),\n",
    "                         func.collect_set('af').alias('institution_scanR'),\n",
    "                         func.array_distinct(func.flatten(func.collect_set(func.col('domains')))).alias('fields_scanR')\n",
    "                     )\n",
    "                    .withColumn('in_scanR', func.lit(1))\n",
    "                    .withColumn('lastName', func.array_distinct(func.concat(func.array([func.col('lastName')]),\n",
    "                                                          func.split(func.col('lastName'), ' '))))\n",
    "                    .withColumn('lastName', func.explode(func.col('lastName')))\n",
    "                    .withColumn('initial', func.substring(func.col('firstName'),1,1))\n",
    "                )\n",
    "authors_scanR.cache()\n",
    "authors_scanR.show()"
   ]
  },
  {
   "cell_type": "code",
   "execution_count": 7,
   "id": "9a2dc501-2102-4ab9-a3e5-364bf0378a8e",
   "metadata": {},
   "outputs": [],
   "source": []
  },
  {
   "cell_type": "code",
   "execution_count": 8,
   "id": "ca362c39-86d1-4437-aa94-76861604ceab",
   "metadata": {},
   "outputs": [
    {
     "data": {
      "text/plain": [
       "343712"
      ]
     },
     "execution_count": 8,
     "metadata": {},
     "output_type": "execute_result"
    }
   ],
   "source": [
    "authors_scanR.distinct().count()"
   ]
  },
  {
   "cell_type": "code",
   "execution_count": 24,
   "id": "370c8111-405c-432f-be38-c2894025cddc",
   "metadata": {},
   "outputs": [
    {
     "name": "stdout",
     "output_type": "stream",
     "text": [
      "+---------+-------+-----------+-----+-------------------+------------+-------------------+--------------------+--------------------+--------------------+--------+\n",
      "| lastName|initial|  author_id|in_oa|              idref|   firstName|           fullName|        titles_scanR|   institution_scanR|        fields_scanR|in_scanR|\n",
      "+---------+-------+-----------+-----+-------------------+------------+-------------------+--------------------+--------------------+--------------------+--------+\n",
      "| Papazian|      L|A5085477470|    1|          060831650|     Laurent|   Laurent Papazian|[Multifaceted Pro...|[26130008100096, ...|[{Q24965401, {Job...|       1|\n",
      "|   Bailly|      S|A5011860927|    1|          189027290|   Sébastien|   Sébastien Bailly|[Use of an ICU Di...|[200315014L, 2011...|[{Q679690, {ICU},...|       1|\n",
      "|  Coudroy|      R|A5038865044|    1|          167464132|        Rémi|       Rémi Coudroy|[High-Flow Oxygen...|     [grid.411162.1]|[{Q1988216, {Oxyg...|       1|\n",
      "|  Chevret|      S|A5052673276|    1|          070746214|      Sylvie|     Sylvie Chevret|[High-Flow Oxygen...|[201420738K, 2022...|[{Q1988216, {Oxyg...|       1|\n",
      "|    Adams|      D|A5000010047|    1|        David Adams|       David|        David Adams|[Association of P...|[201722498K, 1800...|[{Q40441442, {Pat...|       1|\n",
      "|   Schott|      J|A5031579548|    1|Jean-Jacques Schott|Jean-Jacques|Jean-Jacques Schott|[Genetic Variatio...|[grid.462318.a, 1...|[{Q349856, {Genet...|       1|\n",
      "| Maillard|      H|A5020928034|    1|     Hervé Maillard|       Hervé|     Hervé Maillard|[Localization, Mo...|[26720016000013, ...|[{Q1026326, {Calc...|       1|\n",
      "| Moguelet|      P|A5080760345|    1|          067636535|    Philippe|  Philippe Moguelet|[Localization, Mo...|[https://ror.org/...|[{Q1026326, {Calc...|       1|\n",
      "|  Monfort|      J|A5012199757|    1|          148033415| Jean-Benoit|Jean-Benoit Monfort|[Localization, Mo...|[https://ror.org/...|[{Q1026326, {Calc...|       1|\n",
      "| Godefroy|      R|A5028047505|    1|   Raphael Godefroy|     Raphael|   Raphael Godefroy|[Comparison of Sc...|     [grid.411535.7]|[{Q202301, {Dialy...|       1|\n",
      "|   Jouven|      X|A5013213106|    1|          068996640|      Xavier|      Xavier Jouven|[Disparities in A...|[180036048, https...|[{Q3424264, {Unit...|       1|\n",
      "|   Quinot|      C|A5072284488|    1|          23396519x|   Catherine|   Catherine Quinot|[Association of O...|[18003604800015, ...|[{Q17072363, {Occ...|       1|\n",
      "| Chevreul|      K|A5010645412|    1|          11120481x|      Karine|    Karine Chevreul|[Association of P...|[180036048, 26750...|[{Q123028, {Pedia...|       1|\n",
      "|     Paul|      F|A5054073932|    1|          171316967|   Franciane|     Franciane Paul|[Association of O...|[https://ror.org/...|[{Q839525, {Pesti...|       1|\n",
      "|Boulanger|      M|A5030177832|    1|   Marion Boulanger|      Marion|   Marion Boulanger|[Fibromuscular Dy...|[grid.5583.b, 180...|[{Q688949, {Fibro...|       1|\n",
      "|       Le|      C|A5006201620|    1|          100979882|      Claire|    Claire Le Hello|[Fibromuscular Dy...|[26420030400063, ...|[{Q688949, {Fibro...|       1|\n",
      "|      Roy|      P|A5054799901|    1|         Pascal Roy|      Pascal|         Pascal Roy|[Functional Outco...|[grid.413852.9, 2...|[{Q1931577, {Intr...|       1|\n",
      "| Hoffmann|      D|A5066011087|    1| Dominique Hoffmann|   Dominique| Dominique Hoffmann|[Association of C...|[130026081, 13002...|[{Q6279182, {Seiz...|       1|\n",
      "|  Minotti|      L|A5005074711|    1|          145562387|     Lorella|    Lorella Minotti|[Association of C...|[130026081, 13002...|[{Q6279182, {Seiz...|       1|\n",
      "|   Adenis|      A|A5026512478|    1|          071284516|     Antoine|     Antoine Adenis|[Continuation of ...|[13002358300011, ...|[{Q413299, {Bevac...|       1|\n",
      "+---------+-------+-----------+-----+-------------------+------------+-------------------+--------------------+--------------------+--------------------+--------+\n",
      "only showing top 20 rows\n",
      "\n"
     ]
    }
   ],
   "source": [
    "test_merge = (works_au_af_subset\n",
    "              .join(authors_scanR\n",
    "                    , on = ['id','work_id','lastName','initial'], how = 'inner')\n",
    "              .drop('id','work_id')\n",
    "             )\n",
    "works_au_af_subset.unpersist()\n",
    "authors_scanR.unpersist()\n",
    "test_merge.cache()\n",
    "test_merge.show()"
   ]
  },
  {
   "cell_type": "code",
   "execution_count": 26,
   "id": "e6ccf4b7-bdf6-42b9-9d79-322f0a2eb0e0",
   "metadata": {},
   "outputs": [
    {
     "data": {
      "text/plain": [
       "276941"
      ]
     },
     "execution_count": 26,
     "metadata": {},
     "output_type": "execute_result"
    }
   ],
   "source": [
    "test_merge.distinct().count()"
   ]
  },
  {
   "cell_type": "code",
   "execution_count": 27,
   "id": "8d94c2c1-b161-40c4-873f-ec102797f77f",
   "metadata": {},
   "outputs": [
    {
     "name": "stdout",
     "output_type": "stream",
     "text": [
      "+--------+-------+-----------+-----+---------+---------+---------------+--------------------+--------------------+--------------------+--------+\n",
      "|lastName|initial|  author_id|in_oa|    idref|firstName|       fullName|        titles_scanR|   institution_scanR|        fields_scanR|in_scanR|\n",
      "+--------+-------+-----------+-----+---------+---------+---------------+--------------------+--------------------+--------------------+--------+\n",
      "|  Aghion|      P|A5084984675|    1|031279988| Philippe|Philippe Aghion|[Growth and Devel...|[19753742600011, ...|[{Q1127188, {Grow...|       1|\n",
      "+--------+-------+-----------+-----+---------+---------+---------------+--------------------+--------------------+--------------------+--------+\n",
      "\n"
     ]
    }
   ],
   "source": [
    "test_merge.filter(func.col('lastName')=='Aghion').show()"
   ]
  },
  {
   "cell_type": "code",
   "execution_count": 35,
   "id": "4f859e36-42c3-4b26-a073-adf3ddf76d1a",
   "metadata": {},
   "outputs": [],
   "source": [
    "merge_pubs_oa_2 = (works_au_af\n",
    "                   .join(merge, on = 'work_id', how = \"left_anti\")\n",
    " .select('work_id','author_id', 'title')\n",
    " .distinct()\n",
    " .join(test_merge.select('author_id', 'idref', func.lit(1).alias('merged')), on = ['author_id'], how = 'inner')\n",
    "                  )"
   ]
  },
  {
   "cell_type": "code",
   "execution_count": 34,
   "id": "4b1b9977-5d48-418f-a50d-cffbf3f81e82",
   "metadata": {},
   "outputs": [],
   "source": [
    "merge_pubs_scanR_2 = (df_scanR\n",
    "                   .join(merge, on = 'id', how = \"left_anti\")\n",
    "                 .withColumn('authors', func.explode(func.col('authors')))\n",
    "                 .withColumn('af', func.explode(func.col('authors.affiliations')))\n",
    "                 .withColumn('idref', func.regexp_replace(func.lower(func.col(\"authors.person\")), 'idref',''))\n",
    "                 .withColumn('idref', func.when(func.col('idref').isNull(), func.col('authors.fullName')).otherwise(func.col('idref')))\n",
    "             .select('id','idref',func.col('title').alias('title_scanR'))\n",
    "             .distinct()\n",
    "             .join(test_merge.select('idref', \"author_id\", func.lit(1).alias('merged')), on = ['idref'], how = 'inner')\n",
    "            )"
   ]
  },
  {
   "cell_type": "code",
   "execution_count": null,
   "id": "9399026e-f75e-4191-9d96-27a20380706b",
   "metadata": {},
   "outputs": [],
   "source": [
    "merge_pub_2 = (merge_pubs_oa_2\n",
    "               .join(merge_pubs_scanR_2, on = ['author_id'], how = 'inner')\n",
    "              )\n",
    "merge_pub_2.count()"
   ]
  },
  {
   "cell_type": "code",
   "execution_count": null,
   "id": "d7024b8f-e158-4b53-9b41-19f1eab58890",
   "metadata": {},
   "outputs": [],
   "source": []
  }
 ],
 "metadata": {
  "kernelspec": {
   "display_name": "Python 3 (ipykernel)",
   "language": "python",
   "name": "python3"
  },
  "language_info": {
   "codemirror_mode": {
    "name": "ipython",
    "version": 3
   },
   "file_extension": ".py",
   "mimetype": "text/x-python",
   "name": "python",
   "nbconvert_exporter": "python",
   "pygments_lexer": "ipython3",
   "version": "3.11.9"
  }
 },
 "nbformat": 4,
 "nbformat_minor": 5
}
