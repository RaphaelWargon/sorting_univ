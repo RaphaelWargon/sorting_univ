{
 "cells": [
  {
   "cell_type": "code",
   "execution_count": 1,
   "id": "95803778-dcdd-4115-950e-94294e5aef80",
   "metadata": {},
   "outputs": [],
   "source": [
    "import re\n",
    "import os\n",
    "import gzip\n",
    "import shutil\n",
    "import pandas as pd\n",
    "import time\n",
    "from itertools import cycle, islice\n",
    "from transformers import pipeline, AutoModel, AutoModelForSequenceClassification,AutoTokenizer\n",
    "import findspark\n",
    "findspark.init(\"C:\\\\Spark\\\\spark-3.5.0-bin-hadoop3\")\n",
    "\n",
    "from pyspark.sql import SparkSession\n",
    "import pyspark.sql.functions as func\n",
    "from pyspark.sql.window import Window\n",
    "from pyspark.sql.types import StructType,StructField, StringType, IntegerType,ArrayType,BooleanType\n",
    "spark = SparkSession.builder \\\n",
    "                    .config(\"spark.sql.debug.maxToStringFields\", 1000)\\\n",
    "                    .config(\"spark.sql.files.maxPartitionBytes\", str(160 * 1024 * 1024)+\"b\")\\\n",
    "                    .config(\"spark.executor.memory\", \"20g\")\\\n",
    "                    .config(\"spark.driver.memory\", \"20g\")\\\n",
    "                    .config('spark.executor.cores',4) \\\n",
    "                    .master(\"local[4]\") \\\n",
    "                    .appName('open_works') \\\n",
    "                    .getOrCreate()\n",
    "                    #.enableHiveSupport()\\\n",
    "    \n",
    "main_path = 'C:\\\\Users\\\\common\\\\projet_3_lru\\\\'\n",
    "scanR_path = 'D:\\\\scanR\\\\'\n",
    "openalex_path = 'D:\\\\openalex-snapshot\\\\data_extracted\\\\'\n"
   ]
  },
  {
   "cell_type": "code",
   "execution_count": 2,
   "id": "bec93bb7-0e8a-478a-bb9e-ea2ad962aab3",
   "metadata": {},
   "outputs": [],
   "source": [
    "df_scanR = spark.read.format('parquet').load('file:\\\\' + scanR_path + 'publications.parquet')"
   ]
  },
  {
   "cell_type": "code",
   "execution_count": 3,
   "id": "99a00cc6-0cdd-4fb8-84fb-19fdf5017398",
   "metadata": {},
   "outputs": [
    {
     "name": "stdout",
     "output_type": "stream",
     "text": [
      "root\n",
      " |-- affiliations: array (nullable = true)\n",
      " |    |-- element: string (containsNull = true)\n",
      " |-- authors: array (nullable = true)\n",
      " |    |-- element: struct (containsNull = true)\n",
      " |    |    |-- affiliations: array (nullable = true)\n",
      " |    |    |    |-- element: string (containsNull = true)\n",
      " |    |    |-- country: string (nullable = true)\n",
      " |    |    |-- firstName: string (nullable = true)\n",
      " |    |    |-- fullName: string (nullable = true)\n",
      " |    |    |-- lastName: string (nullable = true)\n",
      " |    |    |-- person: string (nullable = true)\n",
      " |    |    |-- role: string (nullable = true)\n",
      " |    |    |-- rolePatent: array (nullable = true)\n",
      " |    |    |    |-- element: struct (containsNull = true)\n",
      " |    |    |    |    |-- description: string (nullable = true)\n",
      " |    |    |    |    |-- role: string (nullable = true)\n",
      " |    |    |-- typeParticipant: string (nullable = true)\n",
      " |-- authorsCount: long (nullable = true)\n",
      " |-- doiUrl: string (nullable = true)\n",
      " |-- domains: array (nullable = true)\n",
      " |    |-- element: struct (containsNull = true)\n",
      " |    |    |-- code: string (nullable = true)\n",
      " |    |    |-- label: struct (nullable = true)\n",
      " |    |    |    |-- default: string (nullable = true)\n",
      " |    |    |-- level: string (nullable = true)\n",
      " |    |    |-- type: string (nullable = true)\n",
      " |-- externalIds: array (nullable = true)\n",
      " |    |-- element: struct (containsNull = true)\n",
      " |    |    |-- id: string (nullable = true)\n",
      " |    |    |-- type: string (nullable = true)\n",
      " |-- grantedDate: string (nullable = true)\n",
      " |-- id: string (nullable = true)\n",
      " |-- inpadocFamily: long (nullable = true)\n",
      " |-- inventionKind: string (nullable = true)\n",
      " |-- isInternational: boolean (nullable = true)\n",
      " |-- isOa: boolean (nullable = true)\n",
      " |-- isOeb: boolean (nullable = true)\n",
      " |-- keywords: struct (nullable = true)\n",
      " |    |-- default: array (nullable = true)\n",
      " |    |    |-- element: string (containsNull = true)\n",
      " |-- oaEvidence: struct (nullable = true)\n",
      " |    |-- hostType: string (nullable = true)\n",
      " |    |-- landingPageUrl: string (nullable = true)\n",
      " |    |-- license: string (nullable = true)\n",
      " |    |-- pdfUrl: string (nullable = true)\n",
      " |    |-- url: string (nullable = true)\n",
      " |    |-- version: string (nullable = true)\n",
      " |-- patents: array (nullable = true)\n",
      " |    |-- element: struct (containsNull = true)\n",
      " |    |    |-- applicationDate: string (nullable = true)\n",
      " |    |    |-- applicationNumber: string (nullable = true)\n",
      " |    |    |-- grantedDate: string (nullable = true)\n",
      " |    |    |-- id: string (nullable = true)\n",
      " |    |    |-- internatApplicationNumber: string (nullable = true)\n",
      " |    |    |-- ipType: string (nullable = true)\n",
      " |    |    |-- isPriority: boolean (nullable = true)\n",
      " |    |    |-- links: array (nullable = true)\n",
      " |    |    |    |-- element: struct (containsNull = true)\n",
      " |    |    |    |    |-- label: string (nullable = true)\n",
      " |    |    |    |    |-- type: string (nullable = true)\n",
      " |    |    |    |    |-- url: string (nullable = true)\n",
      " |    |    |-- office: string (nullable = true)\n",
      " |    |    |-- publicationDate: string (nullable = true)\n",
      " |    |    |-- publicationNumber: string (nullable = true)\n",
      " |-- productionType: string (nullable = true)\n",
      " |-- projects: array (nullable = true)\n",
      " |    |-- element: string (containsNull = true)\n",
      " |-- publicationDate: string (nullable = true)\n",
      " |-- source: struct (nullable = true)\n",
      " |    |-- isInDoaj: boolean (nullable = true)\n",
      " |    |-- isOa: boolean (nullable = true)\n",
      " |    |-- journalIssns: array (nullable = true)\n",
      " |    |    |-- element: string (containsNull = true)\n",
      " |    |-- publisher: string (nullable = true)\n",
      " |    |-- title: string (nullable = true)\n",
      " |-- submissionDate: string (nullable = true)\n",
      " |-- summary: struct (nullable = true)\n",
      " |    |-- default: string (nullable = true)\n",
      " |    |-- en: string (nullable = true)\n",
      " |    |-- fr: string (nullable = true)\n",
      " |-- title: struct (nullable = true)\n",
      " |    |-- af: string (nullable = true)\n",
      " |    |-- an: string (nullable = true)\n",
      " |    |-- ar: string (nullable = true)\n",
      " |    |-- az: string (nullable = true)\n",
      " |    |-- be: string (nullable = true)\n",
      " |    |-- bg: string (nullable = true)\n",
      " |    |-- bn: string (nullable = true)\n",
      " |    |-- bo: string (nullable = true)\n",
      " |    |-- br: string (nullable = true)\n",
      " |    |-- bs: string (nullable = true)\n",
      " |    |-- ca: string (nullable = true)\n",
      " |    |-- co: string (nullable = true)\n",
      " |    |-- cs: string (nullable = true)\n",
      " |    |-- cy: string (nullable = true)\n",
      " |    |-- da: string (nullable = true)\n",
      " |    |-- de: string (nullable = true)\n",
      " |    |-- default: string (nullable = true)\n",
      " |    |-- el: string (nullable = true)\n",
      " |    |-- en: string (nullable = true)\n",
      " |    |-- eo: string (nullable = true)\n",
      " |    |-- es: string (nullable = true)\n",
      " |    |-- et: string (nullable = true)\n",
      " |    |-- eu: string (nullable = true)\n",
      " |    |-- fa: string (nullable = true)\n",
      " |    |-- fi: string (nullable = true)\n",
      " |    |-- fr: string (nullable = true)\n",
      " |    |-- fy: string (nullable = true)\n",
      " |    |-- ga: string (nullable = true)\n",
      " |    |-- gb: string (nullable = true)\n",
      " |    |-- gd: string (nullable = true)\n",
      " |    |-- gl: string (nullable = true)\n",
      " |    |-- gu: string (nullable = true)\n",
      " |    |-- he: string (nullable = true)\n",
      " |    |-- hi: string (nullable = true)\n",
      " |    |-- hr: string (nullable = true)\n",
      " |    |-- ht: string (nullable = true)\n",
      " |    |-- hu: string (nullable = true)\n",
      " |    |-- hy: string (nullable = true)\n",
      " |    |-- ia: string (nullable = true)\n",
      " |    |-- id: string (nullable = true)\n",
      " |    |-- ie: string (nullable = true)\n",
      " |    |-- in: string (nullable = true)\n",
      " |    |-- io: string (nullable = true)\n",
      " |    |-- is: string (nullable = true)\n",
      " |    |-- it: string (nullable = true)\n",
      " |    |-- ja: string (nullable = true)\n",
      " |    |-- jv: string (nullable = true)\n",
      " |    |-- kk: string (nullable = true)\n",
      " |    |-- km: string (nullable = true)\n",
      " |    |-- kn: string (nullable = true)\n",
      " |    |-- ko: string (nullable = true)\n",
      " |    |-- ku: string (nullable = true)\n",
      " |    |-- kw: string (nullable = true)\n",
      " |    |-- la: string (nullable = true)\n",
      " |    |-- lb: string (nullable = true)\n",
      " |    |-- lt: string (nullable = true)\n",
      " |    |-- lv: string (nullable = true)\n",
      " |    |-- mg: string (nullable = true)\n",
      " |    |-- mk: string (nullable = true)\n",
      " |    |-- ml: string (nullable = true)\n",
      " |    |-- mn: string (nullable = true)\n",
      " |    |-- mr: string (nullable = true)\n",
      " |    |-- ms: string (nullable = true)\n",
      " |    |-- my: string (nullable = true)\n",
      " |    |-- nb: string (nullable = true)\n",
      " |    |-- ne: string (nullable = true)\n",
      " |    |-- nl: string (nullable = true)\n",
      " |    |-- nn: string (nullable = true)\n",
      " |    |-- no: string (nullable = true)\n",
      " |    |-- oc: string (nullable = true)\n",
      " |    |-- pl: string (nullable = true)\n",
      " |    |-- po: string (nullable = true)\n",
      " |    |-- ps: string (nullable = true)\n",
      " |    |-- pt: string (nullable = true)\n",
      " |    |-- qu: string (nullable = true)\n",
      " |    |-- rm: string (nullable = true)\n",
      " |    |-- ro: string (nullable = true)\n",
      " |    |-- ru: string (nullable = true)\n",
      " |    |-- sa: string (nullable = true)\n",
      " |    |-- sh: string (nullable = true)\n",
      " |    |-- si: string (nullable = true)\n",
      " |    |-- sk: string (nullable = true)\n",
      " |    |-- sl: string (nullable = true)\n",
      " |    |-- sq: string (nullable = true)\n",
      " |    |-- sr: string (nullable = true)\n",
      " |    |-- su: string (nullable = true)\n",
      " |    |-- sv: string (nullable = true)\n",
      " |    |-- sw: string (nullable = true)\n",
      " |    |-- ta: string (nullable = true)\n",
      " |    |-- te: string (nullable = true)\n",
      " |    |-- th: string (nullable = true)\n",
      " |    |-- tl: string (nullable = true)\n",
      " |    |-- tr: string (nullable = true)\n",
      " |    |-- tt: string (nullable = true)\n",
      " |    |-- uk: string (nullable = true)\n",
      " |    |-- ur: string (nullable = true)\n",
      " |    |-- uz: string (nullable = true)\n",
      " |    |-- vi: string (nullable = true)\n",
      " |    |-- vo: string (nullable = true)\n",
      " |    |-- wa: string (nullable = true)\n",
      " |    |-- zh: string (nullable = true)\n",
      " |-- type: string (nullable = true)\n",
      " |-- year: long (nullable = true)\n",
      "\n"
     ]
    }
   ],
   "source": [
    "df_scanR.printSchema()"
   ]
  },
  {
   "cell_type": "code",
   "execution_count": 4,
   "id": "fb45e6f6-87c8-42a3-8bc1-6ed379f02751",
   "metadata": {},
   "outputs": [],
   "source": [
    "import unidecode\n",
    "def unidecode_debug(x):\n",
    "    try:\n",
    "        y = unidecode.unidecode(x)\n",
    "        return(y)\n",
    "    except:\n",
    "        return(x)\n",
    "\n",
    "udf_unidecode = func.udf(unidecode_debug, StringType())"
   ]
  },
  {
   "cell_type": "code",
   "execution_count": 5,
   "id": "67939427-a46e-40b3-8926-963f63c90bdf",
   "metadata": {},
   "outputs": [
    {
     "name": "stdout",
     "output_type": "stream",
     "text": [
      "['arabic', 'azerbaijani', 'basque', 'bengali', 'catalan', 'chinese', 'danish', 'dutch', 'english', 'finnish', 'french', 'german', 'greek', 'hebrew', 'hinglish', 'hungarian', 'indonesian', 'italian', 'kazakh', 'nepali', 'norwegian', 'portuguese', 'romanian', 'russian', 'slovene', 'spanish', 'swedish', 'tajik', 'turkish']\n"
     ]
    }
   ],
   "source": [
    "import nltk\n",
    "from nltk.corpus import stopwords\n",
    "print(stopwords.fileids())\n",
    "stopwords_dict = {}\n",
    "for language in stopwords.fileids():\n",
    "    stopwords_dict[language.capitalize()] = stopwords.words(language)"
   ]
  },
  {
   "cell_type": "code",
   "execution_count": 6,
   "id": "29bd09fe-b429-46a0-8cf2-b77f2ab89c1d",
   "metadata": {},
   "outputs": [],
   "source": [
    "values = [(k, stopwords_dict[k]) for k in list(stopwords_dict.keys())]\n",
    "columns = ['language', 'stopwords']\n",
    "stopwords_df = spark.createDataFrame(values, columns)\n",
    "\n",
    "\n",
    "def rm_stopwords(x,y):\n",
    "    if x is None:\n",
    "        return(x)\n",
    "    if y is None:\n",
    "        return(y)\n",
    "    else:\n",
    "        try:\n",
    "            list_x = x.split(' ')\n",
    "            list_y = y\n",
    "            return(' '.join([word for word in list_x if word not in list_y]))\n",
    "        except:\n",
    "            return(x)\n",
    "udf_rm_stopwords = func.udf(rm_stopwords)"
   ]
  },
  {
   "cell_type": "code",
   "execution_count": 7,
   "id": "60819414-519c-4ee1-a780-1bf5aa475222",
   "metadata": {},
   "outputs": [],
   "source": [
    "openalex_path = 'D:\\\\openalex-snapshot\\\\data_extracted\\\\'\n",
    "\n",
    "works_au_af_subset = (spark.read.format('parquet').load('file:\\\\' + openalex_path + 'works_au_af.parquet').filter(func.col('country')=='FR')\n",
    "               .select('work_id','title', 'citations',func.col('publication_year').alias('year'),'language').distinct())"
   ]
  },
  {
   "cell_type": "code",
   "execution_count": 8,
   "id": "f03ead3e-753d-41e9-a37d-fca26f0b1763",
   "metadata": {},
   "outputs": [
    {
     "name": "stdout",
     "output_type": "stream",
     "text": [
      "+-----------------------+------------------+------------------+-------+\n",
      "|(title.default IS NULL)|(title.fr IS NULL)|(title.en IS NULL)|  count|\n",
      "+-----------------------+------------------+------------------+-------+\n",
      "|                  false|              true|              true| 108322|\n",
      "|                  false|              true|             false|2321193|\n",
      "|                  false|             false|              true|1523743|\n",
      "|                  false|             false|             false| 206728|\n",
      "+-----------------------+------------------+------------------+-------+\n",
      "\n"
     ]
    }
   ],
   "source": [
    "df_scanR.groupBy(func.col('title.default').isNull(), func.col('title.fr').isNull(), func.col('title.en').isNull()).count().show()"
   ]
  },
  {
   "cell_type": "code",
   "execution_count": 9,
   "id": "5e20b6a2-84cb-4329-a318-def4c4464f01",
   "metadata": {},
   "outputs": [
    {
     "name": "stdout",
     "output_type": "stream",
     "text": [
      "+--------------------+--------------------+--------+\n",
      "|                  id|         identifiers|in_scanR|\n",
      "+--------------------+--------------------+--------+\n",
      "|     halhal-04024361|        hal-04024361|       1|\n",
      "|     halhal-04024361|     halhal-04024361|       1|\n",
      "|     halhal-04024361|study authorial i...|       1|\n",
      "|doi10.1093/oso/97...|10.1093/oso/97801...|       1|\n",
      "|doi10.1093/oso/97...|10.1093/oso/97801...|       1|\n",
      "|doi10.1093/oso/97...|doi10.1093/oso/97...|       1|\n",
      "|doi10.1093/oso/97...|oxford studies ag...|       1|\n",
      "|     halhal-04020278|        hal-04020278|       1|\n",
      "|     halhal-04020278|     halhal-04020278|       1|\n",
      "|     halhal-04020278|paris savant capi...|       1|\n",
      "|doi10.1007/978-3-...|10.1007/978-3-030...|       1|\n",
      "|doi10.1007/978-3-...|10.1007/978-3-030...|       1|\n",
      "|doi10.1007/978-3-...|doi10.1007/978-3-...|       1|\n",
      "|doi10.1007/978-3-...|textbook oncofert...|       1|\n",
      "|doi10.1515/978303...|10.1515/978303561...|       1|\n",
      "|doi10.1515/978303...|10.1515/978303561...|       1|\n",
      "|doi10.1515/978303...|doi10.1515/978303...|       1|\n",
      "|doi10.1515/978303...|   city architecture|       1|\n",
      "|doi10.1088/2053-2...|10.1088/2053-2563...|       1|\n",
      "|doi10.1088/2053-2...|10.1088/2053-2563...|       1|\n",
      "+--------------------+--------------------+--------+\n",
      "only showing top 20 rows\n",
      "\n"
     ]
    }
   ],
   "source": [
    "barebones_scanR = (df_scanR.filter(func.col('year')==2019)\n",
    "                  .filter(func.col('productionType') == 'publication')\n",
    "                  .select(func.col('title.default').alias('title'), 'id', 'externalIds',\n",
    "                          func.when(func.col('title.default')==func.col('title.en'), 'English')\n",
    "                          .otherwise('French').alias('language'))\n",
    "                   .withColumn('language', func.when(func.col('language').isNull(), 'French').otherwise(func.col('language')))\n",
    "                   .join(stopwords_df, on = ['language'], how = 'left')\n",
    "                   .withColumn('cleaned_title', udf_rm_stopwords(func.lower(func.col('title')), func.col('stopwords')))\n",
    "                   .withColumn('cleaned_title', udf_unidecode(func.col('cleaned_title')))\n",
    "                   .withColumn('cleaned_title', func.regexp_replace(func.col('cleaned_title'), r'[[^A-Za-z0-9 -]]+', ''))  # Remove special characters\n",
    "                   .withColumn('cleaned_title', func.regexp_replace(func.col('cleaned_title'), '  ', ''))  # Remove special characters\n",
    "                   .withColumn('cleaned_title', func.regexp_replace(func.col('cleaned_title'), '  ', ''))  # Remove special characters\n",
    "                   .drop('languages')\n",
    "                               \n",
    "                            \n",
    "                  .withColumn('identifiers', func.when(func.col('externalIds.id').isNotNull(),\n",
    "                                                 func.array_compact(func.flatten(func.array(func.col('externalIds.id'), \n",
    "                                                                                            func.array([func.col('id'), func.col('cleaned_title')])))))\n",
    "                                                 .otherwise(func.array([func.col('id'), func.col('cleaned_title')])))\n",
    "                   .select('id', func.explode(func.col('identifiers')).alias('identifiers'), func.lit(1).alias('in_scanR'))\n",
    "\n",
    "                  )\n",
    "barebones_scanR.show()\n"
   ]
  },
  {
   "cell_type": "code",
   "execution_count": 10,
   "id": "c683aff7-c89c-46cf-b98a-fde42e5a55f1",
   "metadata": {},
   "outputs": [],
   "source": [
    "merge_path = 'D:\\\\openalex-snapshot\\\\merge\\\\'\n",
    "\n",
    "works_minimal_clean = spark.read.format('parquet').load('file:\\\\' + merge_path + 'oa_identifiers.parquet')\n"
   ]
  },
  {
   "cell_type": "code",
   "execution_count": 11,
   "id": "2adbd4a6-4058-4318-9335-5f0f9bdb429f",
   "metadata": {},
   "outputs": [
    {
     "name": "stdout",
     "output_type": "stream",
     "text": [
      "+-----------+--------------------+---------+\n",
      "|    work_id|         identifiers|countries|\n",
      "+-----------+--------------------+---------+\n",
      "|W1000001460|http://www.cqvip....|         |\n",
      "|W1000001460|Yan Zi Chun QiuZh...|         |\n",
      "|W1000004386|http://www.cqvip....|         |\n",
      "|W1000004386|Sha Jing Di Ji Ch...|         |\n",
      "|W1000012492|https://www.cabdi...|         |\n",
      "|W1000012492|leaf diseases hea...|         |\n",
      "| W100001460|https://doi.org/1...|       US|\n",
      "| W100001460|https://doi.org/1...|       US|\n",
      "| W100001460|age-related micro...|       US|\n",
      "|W1000015727|http://www.cqvip....|         |\n",
      "|W1000015727|Min Guo Shi Qi Fe...|         |\n",
      "|W1000017715|http://www.cqvip....|         |\n",
      "|W1000017715|Yuan Qu Shu Fa Re...|         |\n",
      "|W1000022074|http://www.cqvip....|         |\n",
      "|W1000022074|San Tai He Yi Zhe...|         |\n",
      "|W1000036519|http://www.cqvip....|         |\n",
      "|W1000036519|Zhua Hao Fu Pin G...|         |\n",
      "|W1000047560|https://libguides...|         |\n",
      "|W1000047560|research guides e...|         |\n",
      "|W1000050703|http://www.cqvip....|         |\n",
      "+-----------+--------------------+---------+\n",
      "only showing top 20 rows\n",
      "\n"
     ]
    }
   ],
   "source": [
    "works_minimal_clean.show()"
   ]
  },
  {
   "cell_type": "code",
   "execution_count": 12,
   "id": "49d3cc0e-3f5c-413b-9c90-7285c3e4bbaa",
   "metadata": {},
   "outputs": [],
   "source": [
    "merge = (works_minimal_clean.withColumn('in_oa', func.lit(1))\n",
    "         .join(barebones_scanR, on = ['identifiers'], how = 'full')\n",
    "         .select('id', 'work_id', 'in_scanR', 'in_oa')\n",
    "         .distinct()\n",
    "        )"
   ]
  },
  {
   "cell_type": "code",
   "execution_count": 13,
   "id": "e63e4416-7344-43c3-980c-c8e894d1dda2",
   "metadata": {},
   "outputs": [],
   "source": [
    "merge.write.mode('overwrite').parquet('file:\\\\' + merge_path + 'merge_oa_scanr.parquet')"
   ]
  },
  {
   "cell_type": "code",
   "execution_count": 14,
   "id": "d93e551f-3a38-4d89-a0b3-81ddf050be5c",
   "metadata": {},
   "outputs": [
    {
     "name": "stdout",
     "output_type": "stream",
     "text": [
      "+--------------------+-----------+--------+-----+\n",
      "|                  id|    work_id|in_scanR|in_oa|\n",
      "+--------------------+-----------+--------+-----+\n",
      "|     halhal-03754658|W4292443170|       1|    1|\n",
      "|doi10.3917/rfp.83...|W2969964743|       1|    1|\n",
      "|doi10.1016/j.kine...|W4211255436|       1|    1|\n",
      "|doi10.1016/j.kine...|W4232209428|       1|    1|\n",
      "|doi10.1016/j.kine...|W4250988968|       1|    1|\n",
      "|doi10.3389/fmicb....|W2952999755|       1|    1|\n",
      "|doi10.1007/978-1-...|W4240127323|       1|    1|\n",
      "|doi10.1007/978-1-...|W4245348838|       1|    1|\n",
      "|doi10.1097/qai.00...|W2969281750|       1|    1|\n",
      "|doi10.1177/245574...|W4211015669|       1|    1|\n",
      "|doi10.1177/245574...|W4229582053|       1|    1|\n",
      "|doi10.1177/245574...|W4243003195|       1|    1|\n",
      "|doi10.1177/245574...|W4243283818|       1|    1|\n",
      "|doi10.1093/bioinf...|W2898371836|       1|    1|\n",
      "|doi10.1007/978-3-...|W2944054768|       1|    1|\n",
      "|     halhal-03403170|W4296568381|       1|    1|\n",
      "|doi10.5040/978147...|W4237660652|       1|    1|\n",
      "|doi10.3201/eid250...|W2902775473|       1|    1|\n",
      "|     halhal-02388241|W2991427547|       1|    1|\n",
      "|doi10.2174/240552...|W4240888638|       1|    1|\n",
      "+--------------------+-----------+--------+-----+\n",
      "only showing top 20 rows\n",
      "\n"
     ]
    }
   ],
   "source": [
    "merge = spark.read.format('parquet').load('file:\\\\' + merge_path + 'merge_oa_scanr.parquet')\n",
    "merge.show()"
   ]
  },
  {
   "cell_type": "code",
   "execution_count": 17,
   "id": "ff08b389-b747-4c96-a2f1-9bb5486ba84b",
   "metadata": {},
   "outputs": [
    {
     "name": "stdout",
     "output_type": "stream",
     "text": [
      "+--------+-----+---------+\n",
      "|in_scanR|in_oa|    count|\n",
      "+--------+-----+---------+\n",
      "|    NULL|    1|245200057|\n",
      "|       1| NULL|   293446|\n",
      "|       1|    1|338318778|\n",
      "+--------+-----+---------+\n",
      "\n"
     ]
    }
   ],
   "source": [
    "(merge\n",
    ".groupBy('id', 'work_id')\n",
    " .agg(*[func.max(col).alias(col) for col in ['in_scanR','in_oa']])\n",
    " .groupBy('in_scanR', 'in_oa')\n",
    " .count()).show()"
   ]
  },
  {
   "cell_type": "code",
   "execution_count": 18,
   "id": "eb544368-e4f4-48a6-8744-895ba38ace4c",
   "metadata": {},
   "outputs": [
    {
     "name": "stdout",
     "output_type": "stream",
     "text": [
      "+---------+---------+\n",
      "|n_matches|    count|\n",
      "+---------+---------+\n",
      "|        1|240506465|\n",
      "|        2|  1485457|\n",
      "|        3|   164734|\n",
      "|        4|   248520|\n",
      "|        5|    90983|\n",
      "|        6|   107849|\n",
      "|        7|   229762|\n",
      "|        8|    76330|\n",
      "|        9|   383984|\n",
      "|       10|    50253|\n",
      "|       11|    93688|\n",
      "|       12|     8318|\n",
      "|       13|   269758|\n",
      "|       14|      207|\n",
      "|       15|       89|\n",
      "|       16|     1245|\n",
      "|       19|      939|\n",
      "|       20|     2537|\n",
      "|       21|   236605|\n",
      "|       22|      119|\n",
      "+---------+---------+\n",
      "only showing top 20 rows\n",
      "\n"
     ]
    }
   ],
   "source": [
    "(merge\n",
    " .groupBy('id', 'work_id')\n",
    " .agg(*[func.max(col).alias(col) for col in ['in_scanR','in_oa']])\n",
    " .groupBy('work_id')\n",
    " .count()\n",
    ".groupBy(func.col('count').alias('n_matches')).count().sort('n_matches')).show()"
   ]
  },
  {
   "cell_type": "code",
   "execution_count": 20,
   "id": "9ab4847f-5280-4fde-ab97-1fdecdbde5bb",
   "metadata": {},
   "outputs": [
    {
     "name": "stdout",
     "output_type": "stream",
     "text": [
      "+-----------+-----+\n",
      "|    work_id|count|\n",
      "+-----------+-----+\n",
      "|W2326418884|  610|\n",
      "|W4231184592|  610|\n",
      "|W4230656671|  610|\n",
      "|W4386041647|  610|\n",
      "|W4313018389|  610|\n",
      "|W4254850566|  610|\n",
      "|W4254531705|  610|\n",
      "|W4205406506|  610|\n",
      "|W4214949181|  610|\n",
      "|W4233320484|  610|\n",
      "|W4247638944|  610|\n",
      "|W4237490957|  610|\n",
      "|W4240498691|  610|\n",
      "|W2620472282|  610|\n",
      "|W4312368163|  610|\n",
      "|W4232776013|  610|\n",
      "|W4297881324|  610|\n",
      "|W4283163097|  610|\n",
      "|W4254379314|  610|\n",
      "|W2749382425|  610|\n",
      "+-----------+-----+\n",
      "only showing top 20 rows\n",
      "\n"
     ]
    }
   ],
   "source": [
    "(merge\n",
    " .groupBy('id', 'work_id')\n",
    " .agg(*[func.max(col).alias(col) for col in ['in_scanR','in_oa']])\n",
    " .groupBy('work_id')\n",
    " .count().filter('count>1')).show()"
   ]
  },
  {
   "cell_type": "code",
   "execution_count": 19,
   "id": "77bf4403-7b84-4221-8b86-535314abca67",
   "metadata": {},
   "outputs": [
    {
     "name": "stdout",
     "output_type": "stream",
     "text": [
      "+---------+------+\n",
      "|n_matches| count|\n",
      "+---------+------+\n",
      "|        1| 35633|\n",
      "|        2|203319|\n",
      "|        3| 33421|\n",
      "|        4|  9967|\n",
      "|        5|  2709|\n",
      "|        6|  1095|\n",
      "|        7|   718|\n",
      "|        8|   585|\n",
      "|        9|   503|\n",
      "|       10|   315|\n",
      "|       11|   210|\n",
      "|       12|   195|\n",
      "|       13|   136|\n",
      "|       14|   128|\n",
      "|       15|   105|\n",
      "|       16|    77|\n",
      "|       17|    74|\n",
      "|       18|    74|\n",
      "|       19|    69|\n",
      "|       20|    50|\n",
      "+---------+------+\n",
      "only showing top 20 rows\n",
      "\n"
     ]
    }
   ],
   "source": [
    "(merge\n",
    " .groupBy('id', 'work_id')\n",
    " .agg(*[func.max(col).alias(col) for col in ['in_scanR','in_oa']])\n",
    " .groupBy('id')\n",
    " .count()\n",
    ".groupBy(func.col('count').alias('n_matches')).count().sort('n_matches')).show()"
   ]
  },
  {
   "cell_type": "code",
   "execution_count": 63,
   "id": "d0e02c51-5d22-4eda-9633-815653d08f3d",
   "metadata": {},
   "outputs": [
    {
     "name": "stdout",
     "output_type": "stream",
     "text": [
      "+-----+--------+--------+------+---------+-------------------+-------+-------+----+\n",
      "|in_oa|in_scanr|language| count|citations|            avg_cit|med_cit|3_quart| max|\n",
      "+-----+--------+--------+------+---------+-------------------+-------+-------+----+\n",
      "|    1|    NULL|   other|  2195|      516|0.23507972665148064|      0|      0|  24|\n",
      "| NULL|       1|   other|     0|     NULL|               NULL|   NULL|   NULL|NULL|\n",
      "|    1|       1|      en|149478|  1913256|  12.79958254726448|      2|     30|9119|\n",
      "|    1|    NULL|      en| 25873|    71554|  2.765585745758126|      0|      5|1846|\n",
      "|    1|    NULL|      fr| 13856|      792|0.05715935334872979|      0|      0|  63|\n",
      "|    1|       1|      fr| 55472|    22914| 0.4130732621863282|      0|      0| 230|\n",
      "|    1|       1|   other| 37010|    11951|0.32291272629019185|      0|      1| 269|\n",
      "+-----+--------+--------+------+---------+-------------------+-------+-------+----+\n",
      "\n"
     ]
    }
   ],
   "source": [
    "test_merge.groupBy('in_oa','in_scanr',\n",
    "                   (func.when(func.col('language')== 'en', 'en')\n",
    "                   .when(func.col('language')== 'fr', 'fr')\n",
    "                    .otherwise('other'))\n",
    "                   .alias('language')).agg(\n",
    "    func.count('work_id').alias('count'), func.sum('citations').alias('citations'), \n",
    "    func.mean('citations').alias('avg_cit'), func.percentile_approx('citations', 0.5).alias('med_cit'),\n",
    "    func.percentile_approx('citations', 0.75).alias('3_quart'), func.max('citations').alias('max')\n",
    "                   ).show()\n"
   ]
  },
  {
   "cell_type": "code",
   "execution_count": 56,
   "id": "e137de05-c5c8-44d5-be14-c52cef45bae3",
   "metadata": {},
   "outputs": [
    {
     "name": "stdout",
     "output_type": "stream",
     "text": [
      "+--------------------+----+--------+-----------+---------+--------+-----+\n",
      "|               title|  id|in_scanr|    work_id|citations|language|in_oa|\n",
      "+--------------------+----+--------+-----------+---------+--------+-----+\n",
      "|                NULL|NULL|    NULL|W3153289204|        0|      fr|    1|\n",
      "|                NULL|NULL|    NULL|W2945098689|        0|      fr|    1|\n",
      "|                NULL|NULL|    NULL|W3046631608|        0|      fr|    1|\n",
      "|                NULL|NULL|    NULL|W3213035235|        0|      fr|    1|\n",
      "|                NULL|NULL|    NULL|W3045959133|        1|      fr|    1|\n",
      "|                NULL|NULL|    NULL|W4251115215|        0|      fr|    1|\n",
      "|                NULL|NULL|    NULL|W3106607111|        0|      fr|    1|\n",
      "|\" erreurs et inve...|NULL|    NULL|W4313730129|        0|      fr|    1|\n",
      "|\" on a ri comme a...|NULL|    NULL|W4288573239|        0|      fr|    1|\n",
      "|\" on a ri comme a...|NULL|    NULL|W4288573310|        0|      fr|    1|\n",
      "|\" un retour aux s...|NULL|    NULL|W4285081589|        0|      fr|    1|\n",
      "|\" un retour aux s...|NULL|    NULL|W4206891064|        0|      fr|    1|\n",
      "|\"\"nu comme eve à ...|NULL|    NULL|W4288159834|        0|      fr|    1|\n",
      "|\"\"nu comme eve à ...|NULL|    NULL|W3005598049|        0|      fr|    1|\n",
      "|\"-neun daero\" en ...|NULL|    NULL|W4288301166|        0|      fr|    1|\n",
      "|\"... et que la lu...|NULL|    NULL|W4288401808|        0|      fr|    1|\n",
      "|\"... et que la lu...|NULL|    NULL|W2989741941|        0|      fr|    1|\n",
      "|\"... et que la lu...|NULL|    NULL|W4286814755|        0|      fr|    1|\n",
      "|\"1. le gisant du ...|NULL|    NULL|W4289021583|        0|      fr|    1|\n",
      "|\"action humanitai...|NULL|    NULL|W2999669290|        0|      fr|    1|\n",
      "+--------------------+----+--------+-----------+---------+--------+-----+\n",
      "only showing top 20 rows\n",
      "\n"
     ]
    }
   ],
   "source": [
    "test_merge.filter((func.col('language')=='fr')&(func.col('in_scanr').isNull())).show()"
   ]
  },
  {
   "cell_type": "code",
   "execution_count": 36,
   "id": "79588c62-c87b-44c9-9587-95b646385be7",
   "metadata": {},
   "outputs": [
    {
     "name": "stdout",
     "output_type": "stream",
     "text": [
      "+-----+--------+------+\n",
      "|in_oa|in_scanr| count|\n",
      "+-----+--------+------+\n",
      "|    1|    NULL| 41924|\n",
      "| NULL|       1|128721|\n",
      "|    1|       1|241960|\n",
      "+-----+--------+------+\n",
      "\n"
     ]
    }
   ],
   "source": [
    "test_merge = (df_scanR.filter(func.col('year')==2019)\n",
    "              .filter(func.col('productionType') == 'publication')\n",
    "              .select(func.col('title.default').alias('title'),'id', func.lit(1).alias('in_scanr'))\n",
    "              #.withColumn('title', udf_unidecode(func.col('title')))\n",
    "              .withColumn('title', func.lower(func.col('title')))\n",
    "              .join(works_au_af_subset.filter(func.col('year')==2019)\n",
    "                    .drop('year')\n",
    "                    #.withColumn('title', udf_unidecode(func.col('title')))\n",
    "                    .withColumn('title', func.lower(func.col('title')))\n",
    "                    .withColumn('in_oa', func.lit(1))\n",
    "                    , on = ['title'], how = 'full')\n",
    "             )\n",
    "\n",
    "test_merge.groupBy('in_oa','in_scanr').count().show()\n"
   ]
  },
  {
   "cell_type": "code",
   "execution_count": 38,
   "id": "83d48f0a-9856-4beb-b4c0-635ee8fb6948",
   "metadata": {},
   "outputs": [
    {
     "name": "stdout",
     "output_type": "stream",
     "text": [
      "+-----+----+--------+-----------+---------+-----+\n",
      "|title|  id|in_scanr|    work_id|citations|in_oa|\n",
      "+-----+----+--------+-----------+---------+-----+\n",
      "| NULL|NULL|    NULL|W3118980988|        0|    1|\n",
      "| NULL|NULL|    NULL|W2588093740|        9|    1|\n",
      "| NULL|NULL|    NULL|W4232756027|        0|    1|\n",
      "| NULL|NULL|    NULL|W4245439636|        0|    1|\n",
      "| NULL|NULL|    NULL|W4241699515|        0|    1|\n",
      "| NULL|NULL|    NULL|W3122775396|        3|    1|\n",
      "| NULL|NULL|    NULL|W4248855243|        0|    1|\n",
      "| NULL|NULL|    NULL|W4256290495|        0|    1|\n",
      "| NULL|NULL|    NULL|W3083674946|        0|    1|\n",
      "| NULL|NULL|    NULL|W4235757433|        1|    1|\n",
      "| NULL|NULL|    NULL|W4230365602|        0|    1|\n",
      "| NULL|NULL|    NULL|W4229643486|        0|    1|\n",
      "| NULL|NULL|    NULL|W4230599589|        0|    1|\n",
      "| NULL|NULL|    NULL|W4243087944|        0|    1|\n",
      "| NULL|NULL|    NULL|W4293191137|        0|    1|\n",
      "| NULL|NULL|    NULL|W3035799676|        0|    1|\n",
      "| NULL|NULL|    NULL|W2992696898|        0|    1|\n",
      "| NULL|NULL|    NULL|W3046631608|        0|    1|\n",
      "| NULL|NULL|    NULL|W4237409128|        0|    1|\n",
      "| NULL|NULL|    NULL|W4249484378|        0|    1|\n",
      "+-----+----+--------+-----------+---------+-----+\n",
      "only showing top 20 rows\n",
      "\n"
     ]
    }
   ],
   "source": [
    "test_merge.filter(func.col('in_scanr').isNull()).show()"
   ]
  },
  {
   "cell_type": "code",
   "execution_count": 41,
   "id": "cd0d6496-8785-47fc-9f85-005682f84968",
   "metadata": {},
   "outputs": [
    {
     "name": "stdout",
     "output_type": "stream",
     "text": [
      "+---------------+-----+\n",
      "|(title IS NULL)|count|\n",
      "+---------------+-----+\n",
      "|           true|   66|\n",
      "|          false|41858|\n",
      "+---------------+-----+\n",
      "\n"
     ]
    }
   ],
   "source": [
    "test_merge.filter(func.col('in_scanr').isNull()).groupBy(func.col('title').isNull()).count().show()"
   ]
  },
  {
   "cell_type": "code",
   "execution_count": 44,
   "id": "905e8367-4f0f-4d89-b4c2-676c6f88e50a",
   "metadata": {},
   "outputs": [
    {
     "data": {
      "text/plain": [
       "[Row(title='\"accounting treatment of transactions with partners with invalid vat code\"', id='doi10.31926/but.es.2019.12.61.1.17', in_scanr=1, work_id=None, citations=None, in_oa=None),\n",
       " Row(title='\"aquí y ahora\": la noción de contrato social en el lesbianismo materialista de monique wittig', id='doi10.5209/infe.60722', in_scanr=1, work_id=None, citations=None, in_oa=None),\n",
       " Row(title='\"blockchain research in information systems: current trends and an inclusive future research agenda\"', id='doi10.17705/1jais.00571', in_scanr=1, work_id=None, citations=None, in_oa=None),\n",
       " Row(title='\"chantons noël\"(à propos de la ballade xi de l’adolescence clémentine)', id='doi10.4000/babel.5669', in_scanr=1, work_id=None, citations=None, in_oa=None),\n",
       " Row(title='\"cosa guardiamo quando guardiamo un evento sportivo\"? il ruolo dell’ultimo uomo nel recente panorama del giornalismo sportivo in italia', id='doi10.4000/italies.7739', in_scanr=1, work_id=None, citations=None, in_oa=None),\n",
       " Row(title='\"distribution 4.0\" : une nouvelle révolution commerciale ?', id='doi10.3917/leco.081.0008', in_scanr=1, work_id=None, citations=None, in_oa=None),\n",
       " Row(title='\"kerkeb, danseuse berbère\" de marcel samuel-rousseau (1951), derniers feux de l\\'orientalisme à l\\'opéra de paris ?', id='halhalshs-02299886', in_scanr=1, work_id=None, citations=None, in_oa=None),\n",
       " Row(title='\"machine llrning\": learning to softly demodulate', id='doi10.1109/gcwkshps45667.2019.9024433', in_scanr=1, work_id=None, citations=None, in_oa=None),\n",
       " Row(title='\"moving fourth\": a vision toward achieving healthy living with hiv beyond viral suppression', id='doi10.24875/aidsrev.19000088', in_scanr=1, work_id=None, citations=None, in_oa=None),\n",
       " Row(title='\"reálný socialismus\"', id='doi10.46957/con.2019.1.11', in_scanr=1, work_id=None, citations=None, in_oa=None),\n",
       " Row(title='\"saint françois d\\'assise\" d\\'olivier messiaen pour l\\'opéra de paris », \"l\\'encyclopédie de l\\'opéra de paris\", henri loyrette et sarah barbedette, (dir.), paris, réunion des musées nationaux', id='halhal-03901508', in_scanr=1, work_id=None, citations=None, in_oa=None),\n",
       " Row(title='\"فاعلية برنامج إرشادي قائم علي إستراتيجية الخرائط الذهنية لتنمية وعي الأطفال بإدارة وقت الفراغ لمواجهة إدمان الألعاب الإلكترونية \"', id='doi10.21608/balexu.2019.199499', in_scanr=1, work_id=None, citations=None, in_oa=None),\n",
       " Row(title='#balancetonport', id='halhal-02378177', in_scanr=1, work_id=None, citations=None, in_oa=None),\n",
       " Row(title='#guanxi @chineafrique\\u202f: la mobilisation des relations interpersonnelles dans la diplomatie publique chinoise à l’heure de numérique', id='halhal-02418990', in_scanr=1, work_id=None, citations=None, in_oa=None),\n",
       " Row(title='#parisienne', id='doi10.5040/9781350102972.ch-007', in_scanr=1, work_id=None, citations=None, in_oa=None),\n",
       " Row(title='#turāṯ', id='doi10.4000/anisl.5432', in_scanr=1, work_id=None, citations=None, in_oa=None),\n",
       " Row(title='$$\\\\delta $$ -subgaussian random variables in cryptography', id='doi10.1007/978-3-030-21548-4_14', in_scanr=1, work_id=None, citations=None, in_oa=None),\n",
       " Row(title='$$\\\\mathcal {s}$$s-procedure for positive switched linear systems and its equivalence to lyapunov–metzler inequalities', id='doi10.1007/978-3-030-04327-8_6', in_scanr=1, work_id=None, citations=None, in_oa=None),\n",
       " Row(title='$$t^{[p]}$$-formalism in besov spaces', id='doi10.1007/s00025-019-1111-y', in_scanr=1, work_id=None, citations=None, in_oa=None),\n",
       " Row(title='$\\\\alpha_s$(2019) discussions summary', id='doi10.22323/1.365.0026', in_scanr=1, work_id=None, citations=None, in_oa=None)]"
      ]
     },
     "execution_count": 44,
     "metadata": {},
     "output_type": "execute_result"
    }
   ],
   "source": [
    "test_merge.filter(func.col('in_oa').isNull()).limit(20).collect()"
   ]
  },
  {
   "cell_type": "code",
   "execution_count": 48,
   "id": "40f244cf-af03-439e-b0d6-3c975e0fe74f",
   "metadata": {},
   "outputs": [
    {
     "name": "stdout",
     "output_type": "stream",
     "text": [
      "+-----+-------+\n",
      "| type|  count|\n",
      "+-----+-------+\n",
      "|  doi|2322332|\n",
      "|  hal|2479391|\n",
      "|  nnt| 444248|\n",
      "|scanr|2322332|\n",
      "| pmid| 551349|\n",
      "+-----+-------+\n",
      "\n"
     ]
    }
   ],
   "source": [
    "df_scanR.select(func.explode(func.col('externalIds')).alias('externalIds'),'id').groupBy('externalIds.type').count().show()"
   ]
  }
 ],
 "metadata": {
  "kernelspec": {
   "display_name": "Python 3 (ipykernel)",
   "language": "python",
   "name": "python3"
  },
  "language_info": {
   "codemirror_mode": {
    "name": "ipython",
    "version": 3
   },
   "file_extension": ".py",
   "mimetype": "text/x-python",
   "name": "python",
   "nbconvert_exporter": "python",
   "pygments_lexer": "ipython3",
   "version": "3.11.9"
  }
 },
 "nbformat": 4,
 "nbformat_minor": 5
}
