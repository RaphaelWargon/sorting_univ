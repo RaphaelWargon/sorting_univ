{
 "cells": [
  {
   "cell_type": "code",
   "execution_count": 4,
   "id": "bb2438e5-d4a3-4122-8e00-c01b02e29883",
   "metadata": {},
   "outputs": [
    {
     "name": "stdout",
     "output_type": "stream",
     "text": [
      "Warning::Spark Session already created, some configs may not take.\n"
     ]
    }
   ],
   "source": [
    "import re\n",
    "import os\n",
    "import gzip\n",
    "import shutil\n",
    "import pandas as pd\n",
    "import time\n",
    "from itertools import cycle, islice\n",
    "import findspark\n",
    "findspark.init(\"C:\\\\Spark\\\\spark-3.5.0-bin-hadoop3\")\n",
    "\n",
    "\n",
    "import seaborn as sns \n",
    "import matplotlib as mlt\n",
    "import matplotlib.pyplot as plt\n",
    "SINGLE_PLOT_SIZE=(10,8)\n",
    "\n",
    "from pyspark.sql import SparkSession\n",
    "import pyspark.sql.functions as func\n",
    "from pyspark.sql.window import Window\n",
    "from pyspark.sql.types import StructType,StructField, StringType, IntegerType,ArrayType,BooleanType\n",
    "#spark = SparkSession.builder \\\n",
    "#                    .config(\"spark.sql.debug.maxToStringFields\", 1000)\\\n",
    "#                    .config(\"spark.sql.files.maxPartitionBytes\", str(160 * 1024 * 1024)+\"b\")\\\n",
    "#                    .config(\"spark.executor.memory\", \"20g\")\\\n",
    "#                    .config(\"spark.driver.memory\", \"20g\")\\\n",
    "#                    .config('spark.executor.cores',4) \\\n",
    "#                    .master(\"local[4]\") \\\n",
    "#                    .appName('open_works') \\\n",
    "#                    .getOrCreate()\n",
    "#                    #.enableHiveSupport()\\\n",
    "#    \n",
    "import sparknlp \n",
    "spark = sparknlp.start()\n",
    "\n",
    "main_path = 'C:\\\\Users\\\\common\\\\projet_3_lru\\\\'\n",
    "import unicodedata\n",
    "normalize_udf = func.udf(\n",
    "    lambda x: unicodedata.normalize(\"NFKD\", x).encode(\"ASCII\", \"ignore\").decode(\"ASCII\")\n",
    ")"
   ]
  },
  {
   "cell_type": "code",
   "execution_count": 18,
   "id": "7ac2583c-2ea7-47dd-89a8-c5bbce1cd6cc",
   "metadata": {},
   "outputs": [],
   "source": [
    "df_theses = (spark.read.format('json').load('file:\\\\' + main_path+'theses-soutenues-ndjson.json'))\n",
    "\n",
    "df_theses = (df_theses\n",
    "            .select(*[col for col in df_theses.columns if col not in ['titres','sujets','resumes']],\n",
    "                    *[func.col(col+'.en').alias(col + '_en') for col in ['titres','sujets','resumes'] ],\n",
    "                    *[func.col(col+'.fr').alias(col + '_fr') for col in ['titres','sujets','resumes'] ])\n",
    "            .withColumn('names', func.array(func.concat_ws(' ', func.col('auteur.prenom'), func.col('auteur.nom')),\n",
    "                                            func.concat_ws(' ', func.substring(func.col('auteur.prenom'), 1,1), func.col('auteur.nom')),\n",
    "                                            func.concat_ws('', func.substring(func.col('auteur.prenom'), 1,1), func.lit('. '), func.col('auteur.nom'))))\n",
    "            )"
   ]
  },
  {
   "cell_type": "code",
   "execution_count": 19,
   "id": "ee322e4e-6436-474f-8c35-af217dc4ece1",
   "metadata": {
    "scrolled": true
   },
   "outputs": [
    {
     "name": "stdout",
     "output_type": "stream",
     "text": [
      "+----------+--------------------+----+---------+---------------+--------------------+--------------------+--------------------+-------+-------------------------+-------+--------------------+------------+------------------+---------------------+--------------+-----------+------+--------+--------------------+-----------------+--------------------+---------+--------------------+--------------------+--------------------+--------------------+--------------------+\n",
      "|accessible|              auteur| cas|code_etab|date_soutenance|    directeurs_these|          discipline|   ecoles_doctorales|embargo|etablissements_soutenance|langues|        membres_jury|         nnt|     oai_set_specs|partenaires_recherche|president_jury|rapporteurs|source|  status|       sujets_rameau|these_sur_travaux|           titres_en|sujets_en|          resumes_en|           titres_fr|           sujets_fr|          resumes_fr|               names|\n",
      "+----------+--------------------+----+---------+---------------+--------------------+--------------------+--------------------+-------+-------------------------+-------+--------------------+------------+------------------+---------------------+--------------+-----------+------+--------+--------------------+-----------------+--------------------+---------+--------------------+--------------------+--------------------+--------------------+--------------------+\n",
      "|       non|{035294140, Quart...|NULL|     PA06|     1996-01-01|[{130245933, Kasz...|              Chimie|                NULL|   NULL|     [{027787087, Pari...|   [fr]|                NULL|1996PA066673|         [ddc:540]|                 NULL|          NULL|       NULL|  NULL|soutenue|[Hydrogénation, C...|              non|                NULL|     NULL|                NULL|Reactivite de sul...|                NULL|Les proprietes de...|[Juliette Quartar...|\n",
      "|       non|{132450372, Kysel...|NULL|     LYO1|     2008-01-01|[{124874657, Moën...|Écologie microbienne|                NULL|   NULL|     [{026402823, Lyon...|   [en]|                NULL|2008LYO10268|         [ddc:570]|                 NULL|          NULL|       NULL|  NULL|soutenue|       [Rhizosphère]|              non|Caractérisation p...|     NULL|Dans les sols rés...|                NULL|                NULL|In disease suppre...|[Martina Kyselkov...|\n",
      "|       non|{122277732, Skrzy...|NULL|     REN1|     2007-01-01|[{068762852, Pali...|Traitement du sig...|                NULL|   NULL|     [{02778715X, Renn...|   [fr]|                NULL|2007REN1S136|         [ddc:620]|                 NULL|          NULL|       NULL|  NULL|soutenue|[Multiplexage par...|              non|Contribution to t...|     NULL|Nowadays, for the...|Contribution à l'...|                NULL|Actuellement, pou...|[Alexandre Skrzyp...|\n",
      "|       non|{NULL, AMARGER, V...|NULL|     PA07|     1993-01-01|[{089062388, L'Ho...| Sciences appliquées|                NULL|   NULL|     [{027542084, Pari...|   [fr]|                NULL|1993PA077355|         [ddc:620]|                 NULL|          NULL|       NULL|  NULL|soutenue|                  []|              non|Optimization and ...|     NULL|                NULL|Optimisation et c...|                NULL|La finalite de ce...|[VERONIQUE AMARGE...|\n",
      "|       non|{197128149, Catan...|NULL|     LIL2|     1994-01-01|[{059910968, Delc...|            Médecine|                NULL|   NULL|     [{026404389, Lill...|   [fr]|                NULL|1994LIL2M242|         [ddc:610]|                 NULL|          NULL|       NULL|  NULL|soutenue|                  []|              non|                NULL|     NULL|                NULL|Les troubles ocul...|[Scoliose, Oculom...|                NULL|[Jean François Ca...|\n",
      "|       non|{095131507, Micha...|NULL|     PA03|     2005-01-01|[{068267002, Vais...|          Phonétique|[{103712461, Écol...|   NULL|     [{027361837, Pari...|   [fr]|                NULL|2005PA030035|         [ddc:410]| [{147500885, Labo...|          NULL|       NULL|  NULL|soutenue|[Vietnamien (lang...|              non|A comparison of t...|     NULL|Comparison of Eng...|Prosodie de langu...|                NULL|La mise en regard...|[Alexis Michaud, ...|\n",
      "|       non|{NULL, SCHIFANO, ...|NULL|     PA11|     1994-01-01|[{NULL, LABAUNE, ...|            Physique|                NULL|   NULL|     [{026404664, Pari...|   [fr]|                NULL|1994PA112310|         [ddc:530]|                 NULL|          NULL|       NULL|  NULL|soutenue|                  []|              non|Experimental stud...|     NULL|                NULL|Etude experimenta...|                NULL|Cette these a pou...|[ELISA SCHIFANO, ...|\n",
      "|       non|{15203109X, Edorh...|NULL|     POIT|     1991-01-01|[{073929255, Schr...|Sciences biologiq...|                NULL|   NULL|     [{026403765, Poit...|   [fr]|                NULL|1991POIT2295|         [ddc:150]|                 NULL|          NULL|       NULL|  NULL|soutenue|                  []|              non|Glycolipids durin...|     NULL|                NULL|Les glycolipides ...|                NULL|Le developpement ...|[Grégoire Gbéssin...|\n",
      "|       non|{031973353, Rames...|NULL|     PA06|     1988-01-01|[{NULL, XROLLAND,...|Sciences et techn...|                NULL|   NULL|     [{027787087, Pari...|   [fr]|                NULL|1988PA066503|[ddc:600, ddc:500]|                 NULL|          NULL|       NULL|  NULL|soutenue|                  []|              non|A model and a too...|     NULL|                NULL|Un modele et un o...|                NULL|Cette these preco...|[Jean-René Rames,...|\n",
      "|       non|{131559036, Nguye...|NULL|     EPXX|     2008-01-01|[{034125663, Roca...|Physique des solides|                NULL|   NULL|     [{027309320, Pala...|   [fr]|                NULL|2008EPXX0004|         [ddc:530]|                 NULL|          NULL|       NULL|  NULL|soutenue|[Plasmas froids, ...|              non|Synthesis and siz...|     NULL|                NULL|Synthèse et contr...|[Diode électrolum...|                NULL|[Tran-Thuat Nguye...|\n",
      "|       non|{148950043, Thiéb...|NULL|     TOU3|     2010-01-01|[{070060762, M'zo...|        Informatique|                NULL|   NULL|     [{026404672, Toul...|   [fr]|                NULL|2010TOU30066|         [ddc:004]|                 NULL|          NULL|       NULL|  NULL|soutenue|[Entrepôts de don...|              non|ViSaGe project : ...|     NULL|Nowdays, the grid...|Projet ViSaGe : V...|[Système de fichi...|Les grilles infor...|[François Thiébol...|\n",
      "|       non|{127922156, Dumor...|NULL|     PA10|     2008-01-01|[{026842637, Duma...|Histoire des mond...|                NULL|   NULL|     [{026403587, Pari...|   [fr]|                NULL|2008PA100055|         [ddc:940]|                 NULL|          NULL|       NULL|  NULL|soutenue|[Approvisionnemen...|              non|The royal “maison...|     NULL|The “bouche royal...|La maison bouche ...|                NULL|La bouche royale ...|[Amélie Dumortier...|\n",
      "|       non|{097568384, Daver...|NULL|     BOR1|     2005-01-01|[{066988403, Élie...|Sciences du vivan...|                NULL|   NULL|     [{027548341, Bord...|   [fr]|                NULL|2005BOR13056|         [ddc:550]|                 NULL|          NULL|       NULL|  NULL|soutenue|[Anguilla (poisso...|              non|Tactics of habita...|     NULL|                NULL|Tactiques d'utili...|                NULL|L'utilisation des...|[Françoise Davera...|\n",
      "|       non|{122742141, Park,...|NULL|     PA08|     1989-01-01|[{026831465, Didi...|Littérature franç...|                NULL|   NULL|     [{026403552, Pari...|   [fr]|                NULL|1989PA080373|         [ddc:840]|                 NULL|          NULL|       NULL|  NULL|soutenue|                  []|              non|Eugene ionesco an...|     NULL|This study consis...|Eugene Ionesco et...|                NULL|Ce travail, qui e...|[Hyung Sub Park, ...|\n",
      "|       non|{061230510, Jacqu...|NULL|     INPG|     2001-01-01|[{061230677, Four...|   Microélectronique|                NULL|   NULL|     [{026388804, Gren...|   [fr]|                NULL|2001INPG0136|         [ddc:620]|                 NULL|          NULL|       NULL|  NULL|soutenue|                  []|              non|Monolithic integr...|     NULL|                NULL|Étude de l'intégr...|                NULL|Cette thèse s'ins...|[Hélène Jacquinot...|\n",
      "|       non|{NULL, JOUGUELET,...|NULL|     STR1|     1999-01-01|[{128013486, Peti...|            Physique|                NULL|   NULL|     [{026404540, Univ...|   [fr]|                NULL|1999STR13223|         [ddc:530]|                 NULL|          NULL|       NULL|  NULL|soutenue|                  []|              non|                NULL|     NULL|                NULL|Proprietes electr...|                NULL|Nous nous sommes ...|[ERIC JOUGUELET, ...|\n",
      "|       non|{076472256, Sauva...|NULL|     DIJO|     2000-01-01|[{028296257, Verp...|        Droit public|                NULL|   NULL|     [{02819005X, Dijon}]|   [fr]|[{029440025, Doue...|2000DIJOD007|         [ddc:340]| [{027412482, Univ...|          NULL|       NULL|  NULL|soutenue|[France -- Consti...|              non|The self-governed...|     NULL|                NULL|Les catégories de...|                NULL|L'article 72, ali...|[Frédéric Sauvage...|\n",
      "|       non|{058586954, Debia...|NULL|     PA07|     2000-01-01|[{NULL, MARIE, PI...|Sciences biologiq...|                NULL|   NULL|     [{027542084, Pari...|   [fr]|                NULL|2000PA077058|         [ddc:570]|                 NULL|          NULL|       NULL|  NULL|soutenue|                  []|              non|                NULL|     NULL|                NULL|Effets et mecanis...|                NULL|Plusieurs argumen...|[Françoise Debiai...|\n",
      "|       non|{08699588X, Goupi...|NULL|     CAEN|     1997-01-01|[{077204891, Simo...|            Physique|                NULL|   NULL|      [{026403064, Caen}]|   [fr]|                NULL|1997CAEN2020|         [ddc:530]|                 NULL|          NULL|       NULL|  NULL|soutenue|                  []|              non|Contribution to v...|     NULL|                NULL|Contribution a l'...|                NULL|Ce travail est un...|[Christophe Goupi...|\n",
      "|       non|{057602395, Hallb...|NULL|     PA03|     1997-01-01|[{02705554X, Page...|Littérature génér...|                NULL|   NULL|     [{027361837, Pari...|   [fr]|                NULL|1997PA030097|         [ddc:800]|                 NULL|          NULL|       NULL|  NULL|soutenue|[Allemagne -- Dan...|              non|The representatio...|     NULL|We try to underst...|La représentation...|                NULL|Notre recherche a...|[Monica Hallberg,...|\n",
      "+----------+--------------------+----+---------+---------------+--------------------+--------------------+--------------------+-------+-------------------------+-------+--------------------+------------+------------------+---------------------+--------------+-----------+------+--------+--------------------+-----------------+--------------------+---------+--------------------+--------------------+--------------------+--------------------+--------------------+\n",
      "only showing top 20 rows\n",
      "\n"
     ]
    }
   ],
   "source": [
    "df_theses.show()"
   ]
  },
  {
   "cell_type": "code",
   "execution_count": 21,
   "id": "3a8591fb-e2b2-406f-86b4-9a6186821412",
   "metadata": {},
   "outputs": [
    {
     "data": {
      "text/plain": [
       "[('accessible', 'string'),\n",
       " ('auteur', 'struct<idref:string,nom:string,prenom:string>'),\n",
       " ('cas', 'string'),\n",
       " ('code_etab', 'string'),\n",
       " ('date_soutenance', 'string'),\n",
       " ('directeurs_these', 'array<struct<idref:string,nom:string,prenom:string>>'),\n",
       " ('discipline', 'string'),\n",
       " ('ecoles_doctorales', 'array<struct<idref:string,nom:string>>'),\n",
       " ('embargo', 'string'),\n",
       " ('etablissements_soutenance', 'array<struct<idref:string,nom:string>>'),\n",
       " ('langues', 'array<string>'),\n",
       " ('membres_jury', 'array<struct<idref:string,nom:string,prenom:string>>'),\n",
       " ('nnt', 'string'),\n",
       " ('oai_set_specs', 'array<string>'),\n",
       " ('partenaires_recherche',\n",
       "  'array<struct<idref:string,nom:string,type:string>>'),\n",
       " ('president_jury', 'struct<idref:string,nom:string,prenom:string>'),\n",
       " ('rapporteurs', 'array<struct<idref:string,nom:string,prenom:string>>'),\n",
       " ('source', 'string'),\n",
       " ('status', 'string'),\n",
       " ('sujets_rameau', 'array<string>'),\n",
       " ('these_sur_travaux', 'string'),\n",
       " ('titres_en', 'string'),\n",
       " ('sujets_en', 'array<string>'),\n",
       " ('resumes_en', 'string'),\n",
       " ('titres_fr', 'string'),\n",
       " ('sujets_fr', 'array<string>'),\n",
       " ('resumes_fr', 'string'),\n",
       " ('names', 'array<string>'),\n",
       " ('sujets_translated', 'array<string>'),\n",
       " ('discipline_translated', 'array<string>')]"
      ]
     },
     "execution_count": 21,
     "metadata": {},
     "output_type": "execute_result"
    }
   ],
   "source": [
    "import sparknlp\n",
    "from sparknlp.base import *\n",
    "from sparknlp.annotator import *\n",
    "from sparknlp.common import *\n",
    "#from sparknlp.embeddings import *\n",
    "#import transformers\n",
    "##from pyspark.ml.feature import BucketedRandomProjectionLSH, BucketedRandomProjectionLSHModel, Normalizer, SQLTransformer\n",
    "##### Directly from sparknlp\n",
    "#document_assembler = DocumentAssembler() \\\n",
    "#    .setInputCol(\"sujets_fr\") \\\n",
    "#    .setOutputCol(\"documents\")\n",
    "#\n",
    "#tokenizer = (\n",
    "#    Tokenizer()\n",
    "#    .setInputCols([\"documents\"])\n",
    "#    .setOutputCol(\"token\")\n",
    "#)\n",
    "#\n",
    "#    \n",
    "#translator = .load(\"file:\\\\C:\\\\Users\\\\common\\\\project_2_openalex\\\\supplementary_data\\scibert\") \\\n",
    "#            .setInputCols([\"documents\",\"token\"]) \\\n",
    "#            .setOutputCol(\"embeddings\")\n",
    "\n",
    "#translate_pipeline = Pipeline().setStages([document_assembler, tokenizer, embeddings, sentence_embeddings, embeddingsFinisher])\n",
    "# model from https://sparknlp.org/2021/06/04/translate_fr_en_xx.html\n",
    "translate_pipeline = PipelineModel.load(\"file:\\\\C:\\\\Users\\\\common\\\\ml_models\\\\translate_fr_en_xx_3.1.0_2.4_1622843881047\") \n",
    "\n",
    "df_theses = (translate_pipeline.transform(df_theses\n",
    "                                        .withColumn('text', func.explode_outer(func.col('sujets_fr')))\n",
    "                                        )\n",
    "                                        .withColumn('translation', func.explode_outer(func.col('translation')))\n",
    "                                        .withColumn('translation', func.concat_ws('',func.col('translation.result')))\n",
    "                                        .withColumn('sujets_translated', func.collect_set(func.col('translation')).over(Window.partitionBy('auteur')))\n",
    "                                        .drop('document', 'sentence','text','translation').distinct()\n",
    ")\n",
    "\n",
    "df_theses = (translate_pipeline.transform(df_theses\n",
    "                                        .withColumn('text', func.col('discipline') )\n",
    "                                        )\n",
    "                                        .withColumn('translation', func.explode_outer(func.col('translation')))\n",
    "                                        .withColumn('translation', func.concat_ws('',func.col('translation.result')))\n",
    "                                        .withColumn('discipline_translated', func.col('translation'))\n",
    "                                        .drop('document', 'sentence','text','translation').distinct()\n",
    ")\n",
    "\n",
    "df_theses.dtypes"
   ]
  },
  {
   "cell_type": "code",
   "execution_count": null,
   "id": "ad3882a8-4fc7-4ff8-afd4-f8cc6f308bdc",
   "metadata": {},
   "outputs": [],
   "source": [
    "df_theses.filter(func.col(\"sujets_fr\").isNotNull()).limit(2).collect()"
   ]
  },
  {
   "cell_type": "code",
   "execution_count": 11,
   "id": "a7bbb317-19ff-4c6c-8943-136ba47d1f9f",
   "metadata": {},
   "outputs": [
    {
     "name": "stdout",
     "output_type": "stream",
     "text": [
      "+-----------------------+-----------------------+------------------------+------+\n",
      "|(sujets_fr IS NOT NULL)|(sujets_en IS NOT NULL)|(discipline IS NOT NULL)| count|\n",
      "+-----------------------+-----------------------+------------------------+------+\n",
      "|                   true|                  false|                    true|101428|\n",
      "|                   true|                   true|                    true|144550|\n",
      "|                  false|                  false|                    true|199852|\n",
      "+-----------------------+-----------------------+------------------------+------+\n",
      "\n"
     ]
    }
   ],
   "source": [
    "df_theses.groupBy(func.col('sujets_fr').isNotNull(),func.col('sujets_en').isNotNull(), func.col('discipline').isNotNull() ).count().show()"
   ]
  },
  {
   "cell_type": "code",
   "execution_count": null,
   "id": "6292bd94-d1de-451b-b0c9-3d86c9fe5fab",
   "metadata": {},
   "outputs": [],
   "source": []
  },
  {
   "cell_type": "code",
   "execution_count": null,
   "id": "2f68307d-5850-465d-8321-6f39dfce95ea",
   "metadata": {},
   "outputs": [],
   "source": [
    "test_merge = (df_authors\n",
    "             .select('author_id',\n",
    "                     func.concat_ws(',', func.col(\"display_name\"), \n",
    "                                    func.concat_ws(',', func.col('display_name_alternatives')),\n",
    "                                   func.concat_ws(' ', func.reverse(func.split('display_name', ' ')))\n",
    "                                   ).alias('name'),\n",
    "                    func.col('affiliations.display_name').alias('inst_name'),\n",
    "                    func.col('affiliations.lineage').alias('inst_lineage'),\n",
    "                   # func.col('affiliations.country_code').alias('country'),\n",
    "\n",
    "                     func.regexp_replace(\n",
    "                         func.col('affiliations.id'), 'https://openalex.org/', '').alias('inst_id')\n",
    "                    \n",
    "                    ,func.explode(func.col('x_concepts')).alias('x_concepts')\n",
    "                    )\n",
    "              .filter(func.col('x_concepts.level')==0)\n",
    "              .withColumn('max_score_concept', func.max(func.col('x_concepts.score')).over(Window.partitionBy('author_id')))\n",
    "              .filter(func.col('max_score_concept')==func.col('x_concepts.score'))\n",
    "              .withColumn('openalex_fields_oa', func.collect_set('x_concepts.display_name').over(Window.partitionBy('author_id')))\n",
    "              .drop('max_score_concept','x_concepts')\n",
    "              .distinct()\n",
    "              .withColumn('name', func.explode(func.split(func.col('name'),',')))\n",
    "             )\n",
    "test_merge.printSchema()"
   ]
  }
 ],
 "metadata": {
  "kernelspec": {
   "display_name": "Python 3 (ipykernel)",
   "language": "python",
   "name": "python3"
  },
  "language_info": {
   "codemirror_mode": {
    "name": "ipython",
    "version": 3
   },
   "file_extension": ".py",
   "mimetype": "text/x-python",
   "name": "python",
   "nbconvert_exporter": "python",
   "pygments_lexer": "ipython3",
   "version": "3.11.9"
  }
 },
 "nbformat": 4,
 "nbformat_minor": 5
}
