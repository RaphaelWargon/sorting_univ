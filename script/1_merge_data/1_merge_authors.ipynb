{
 "cells": [
  {
   "cell_type": "code",
   "execution_count": 1,
   "id": "d77edf74-c860-42ba-948b-655727581fbc",
   "metadata": {},
   "outputs": [
    {
     "name": "stdout",
     "output_type": "stream",
     "text": [
      "C:\\Users\\raphael.wargon\\Documents\\GitHub\\sorting_univ\\script/headers/\n",
      "merge_authors_scanr\n"
     ]
    }
   ],
   "source": [
    "import os\n",
    "base_path = os.path.dirname(os.path.abspath(\"\"))\n",
    "base_path = base_path + \"/headers/\"\n",
    "print(base_path)\n",
    "header_path = base_path + 'header_data_treatment.ipynb'\n",
    "app_name = \"merge_authors_scanr\"\n",
    "%run  $header_path $app_name=app_name"
   ]
  },
  {
   "cell_type": "markdown",
   "id": "a41b5219-ecb7-4f20-80e4-972d78ca302b",
   "metadata": {},
   "source": [
    "# Load data"
   ]
  },
  {
   "cell_type": "code",
   "execution_count": 2,
   "id": "594ca2da-a40c-404b-880b-d9ab00273040",
   "metadata": {},
   "outputs": [],
   "source": [
    "works_au_af = spark.read.format('parquet').load('file:\\\\' + main_path_openalex.replace('D:','E:') + 'works_au_af.parquet')\n",
    "df_scanR = spark.read.format('parquet').load('file:\\\\' + scanR_path + '/publications.parquet')\n",
    "merge_path = main_path_openalex.replace(\"data_extracted\",'merge')\n",
    "df_au_scanR = spark.read.format('parquet').load('file:\\\\' + scanR_path + '/authors.parquet')\n",
    "\n",
    "merge = spark.read.format('parquet').load('file:\\\\' + merge_path + 'merge_oa_scanr.parquet')\n"
   ]
  },
  {
   "cell_type": "code",
   "execution_count": 3,
   "id": "c3cb8c23-339a-458c-a330-c4cd98534a61",
   "metadata": {},
   "outputs": [],
   "source": [
    "#df_au_scanR.count()"
   ]
  },
  {
   "cell_type": "code",
   "execution_count": 4,
   "id": "557d0e96-5273-4436-bd60-917c2b8a4b1a",
   "metadata": {
    "scrolled": true
   },
   "outputs": [],
   "source": [
    "#df_scanR.select('year', func.col('affiliations.id_name'), func.explode(func.col('authors.fullName')).alias('author')).filter(func.col('author').contains('Philippe Aghion')).sort('year').collect()"
   ]
  },
  {
   "cell_type": "code",
   "execution_count": 5,
   "id": "24e2710a-1567-4569-8dd7-98af3ee310c1",
   "metadata": {
    "scrolled": true
   },
   "outputs": [
    {
     "name": "stdout",
     "output_type": "stream",
     "text": [
      "root\n",
      " |-- affiliations: array (nullable = true)\n",
      " |    |-- element: struct (containsNull = true)\n",
      " |    |    |-- endDate: string (nullable = true)\n",
      " |    |    |-- publicationsCount: long (nullable = true)\n",
      " |    |    |-- sources: array (nullable = true)\n",
      " |    |    |    |-- element: struct (containsNull = true)\n",
      " |    |    |    |    |-- id: string (nullable = true)\n",
      " |    |    |    |    |-- year: string (nullable = true)\n",
      " |    |    |-- startDate: string (nullable = true)\n",
      " |    |    |-- structure: struct (nullable = true)\n",
      " |    |    |    |-- acronym: struct (nullable = true)\n",
      " |    |    |    |    |-- default: string (nullable = true)\n",
      " |    |    |    |    |-- en: string (nullable = true)\n",
      " |    |    |    |    |-- fr: string (nullable = true)\n",
      " |    |    |    |-- id: string (nullable = true)\n",
      " |    |    |    |-- isFrench: boolean (nullable = true)\n",
      " |    |    |    |-- kind: array (nullable = true)\n",
      " |    |    |    |    |-- element: string (containsNull = true)\n",
      " |    |    |    |-- label: struct (nullable = true)\n",
      " |    |    |    |    |-- default: string (nullable = true)\n",
      " |    |    |    |    |-- en: string (nullable = true)\n",
      " |    |    |    |    |-- fr: string (nullable = true)\n",
      " |    |    |    |-- mainAddress: struct (nullable = true)\n",
      " |    |    |    |    |-- address: string (nullable = true)\n",
      " |    |    |    |    |-- city: string (nullable = true)\n",
      " |    |    |    |    |-- country: string (nullable = true)\n",
      " |    |    |    |    |-- gps: struct (nullable = true)\n",
      " |    |    |    |    |    |-- lat: double (nullable = true)\n",
      " |    |    |    |    |    |-- lon: double (nullable = true)\n",
      " |    |    |    |    |-- localisationSuggestions: array (nullable = true)\n",
      " |    |    |    |    |    |-- element: string (containsNull = true)\n",
      " |    |    |    |    |-- postcode: string (nullable = true)\n",
      " |    |    |    |-- status: string (nullable = true)\n",
      " |-- autocompleted: array (nullable = true)\n",
      " |    |-- element: string (containsNull = true)\n",
      " |-- autocompletedText: array (nullable = true)\n",
      " |    |-- element: string (containsNull = true)\n",
      " |-- awards: array (nullable = true)\n",
      " |    |-- element: struct (containsNull = true)\n",
      " |    |    |-- date: string (nullable = true)\n",
      " |    |    |-- label: string (nullable = true)\n",
      " |    |    |-- url: string (nullable = true)\n",
      " |-- coContributors: array (nullable = true)\n",
      " |    |-- element: struct (containsNull = true)\n",
      " |    |    |-- fullName: string (nullable = true)\n",
      " |    |    |-- person: string (nullable = true)\n",
      " |-- domains: array (nullable = true)\n",
      " |    |-- element: struct (containsNull = true)\n",
      " |    |    |-- code: string (nullable = true)\n",
      " |    |    |-- count: long (nullable = true)\n",
      " |    |    |-- label: struct (nullable = true)\n",
      " |    |    |    |-- default: string (nullable = true)\n",
      " |    |    |-- type: string (nullable = true)\n",
      " |-- externalIds: array (nullable = true)\n",
      " |    |-- element: struct (containsNull = true)\n",
      " |    |    |-- id: string (nullable = true)\n",
      " |    |    |-- type: string (nullable = true)\n",
      " |    |    |-- url: string (nullable = true)\n",
      " |-- firstName: string (nullable = true)\n",
      " |-- fullName: string (nullable = true)\n",
      " |-- gender: string (nullable = true)\n",
      " |-- id: string (nullable = true)\n",
      " |-- id_hal: string (nullable = true)\n",
      " |-- idref: string (nullable = true)\n",
      " |-- lastName: string (nullable = true)\n",
      " |-- orcid: string (nullable = true)\n",
      " |-- publications: array (nullable = true)\n",
      " |    |-- element: struct (containsNull = true)\n",
      " |    |    |-- publication: string (nullable = true)\n",
      " |    |    |-- role: string (nullable = true)\n",
      " |    |    |-- source: struct (nullable = true)\n",
      " |    |    |    |-- isInDoaj: boolean (nullable = true)\n",
      " |    |    |    |-- isOa: boolean (nullable = true)\n",
      " |    |    |    |-- journalIssns: array (nullable = true)\n",
      " |    |    |    |    |-- element: string (containsNull = true)\n",
      " |    |    |    |-- publisher: string (nullable = true)\n",
      " |    |    |    |-- title: string (nullable = true)\n",
      " |    |    |-- title: struct (nullable = true)\n",
      " |    |    |    |-- af: string (nullable = true)\n",
      " |    |    |    |-- an: string (nullable = true)\n",
      " |    |    |    |-- ar: string (nullable = true)\n",
      " |    |    |    |-- az: string (nullable = true)\n",
      " |    |    |    |-- be: string (nullable = true)\n",
      " |    |    |    |-- bg: string (nullable = true)\n",
      " |    |    |    |-- bn: string (nullable = true)\n",
      " |    |    |    |-- bo: string (nullable = true)\n",
      " |    |    |    |-- br: string (nullable = true)\n",
      " |    |    |    |-- bs: string (nullable = true)\n",
      " |    |    |    |-- ca: string (nullable = true)\n",
      " |    |    |    |-- cs: string (nullable = true)\n",
      " |    |    |    |-- cy: string (nullable = true)\n",
      " |    |    |    |-- da: string (nullable = true)\n",
      " |    |    |    |-- de: string (nullable = true)\n",
      " |    |    |    |-- default: string (nullable = true)\n",
      " |    |    |    |-- el: string (nullable = true)\n",
      " |    |    |    |-- en: string (nullable = true)\n",
      " |    |    |    |-- eo: string (nullable = true)\n",
      " |    |    |    |-- es: string (nullable = true)\n",
      " |    |    |    |-- et: string (nullable = true)\n",
      " |    |    |    |-- eu: string (nullable = true)\n",
      " |    |    |    |-- fa: string (nullable = true)\n",
      " |    |    |    |-- fi: string (nullable = true)\n",
      " |    |    |    |-- fr: string (nullable = true)\n",
      " |    |    |    |-- fy: string (nullable = true)\n",
      " |    |    |    |-- ga: string (nullable = true)\n",
      " |    |    |    |-- gb: string (nullable = true)\n",
      " |    |    |    |-- gd: string (nullable = true)\n",
      " |    |    |    |-- gl: string (nullable = true)\n",
      " |    |    |    |-- gu: string (nullable = true)\n",
      " |    |    |    |-- he: string (nullable = true)\n",
      " |    |    |    |-- hi: string (nullable = true)\n",
      " |    |    |    |-- hr: string (nullable = true)\n",
      " |    |    |    |-- hu: string (nullable = true)\n",
      " |    |    |    |-- hy: string (nullable = true)\n",
      " |    |    |    |-- ia: string (nullable = true)\n",
      " |    |    |    |-- id: string (nullable = true)\n",
      " |    |    |    |-- ie: string (nullable = true)\n",
      " |    |    |    |-- is: string (nullable = true)\n",
      " |    |    |    |-- it: string (nullable = true)\n",
      " |    |    |    |-- ja: string (nullable = true)\n",
      " |    |    |    |-- jv: string (nullable = true)\n",
      " |    |    |    |-- km: string (nullable = true)\n",
      " |    |    |    |-- kn: string (nullable = true)\n",
      " |    |    |    |-- ko: string (nullable = true)\n",
      " |    |    |    |-- ku: string (nullable = true)\n",
      " |    |    |    |-- kw: string (nullable = true)\n",
      " |    |    |    |-- la: string (nullable = true)\n",
      " |    |    |    |-- lb: string (nullable = true)\n",
      " |    |    |    |-- lt: string (nullable = true)\n",
      " |    |    |    |-- lv: string (nullable = true)\n",
      " |    |    |    |-- mg: string (nullable = true)\n",
      " |    |    |    |-- mk: string (nullable = true)\n",
      " |    |    |    |-- ml: string (nullable = true)\n",
      " |    |    |    |-- mn: string (nullable = true)\n",
      " |    |    |    |-- ms: string (nullable = true)\n",
      " |    |    |    |-- my: string (nullable = true)\n",
      " |    |    |    |-- nb: string (nullable = true)\n",
      " |    |    |    |-- ne: string (nullable = true)\n",
      " |    |    |    |-- nl: string (nullable = true)\n",
      " |    |    |    |-- nn: string (nullable = true)\n",
      " |    |    |    |-- no: string (nullable = true)\n",
      " |    |    |    |-- oc: string (nullable = true)\n",
      " |    |    |    |-- pl: string (nullable = true)\n",
      " |    |    |    |-- po: string (nullable = true)\n",
      " |    |    |    |-- pt: string (nullable = true)\n",
      " |    |    |    |-- qu: string (nullable = true)\n",
      " |    |    |    |-- rm: string (nullable = true)\n",
      " |    |    |    |-- ro: string (nullable = true)\n",
      " |    |    |    |-- ru: string (nullable = true)\n",
      " |    |    |    |-- sa: string (nullable = true)\n",
      " |    |    |    |-- sh: string (nullable = true)\n",
      " |    |    |    |-- si: string (nullable = true)\n",
      " |    |    |    |-- sk: string (nullable = true)\n",
      " |    |    |    |-- sl: string (nullable = true)\n",
      " |    |    |    |-- sq: string (nullable = true)\n",
      " |    |    |    |-- sr: string (nullable = true)\n",
      " |    |    |    |-- su: string (nullable = true)\n",
      " |    |    |    |-- sv: string (nullable = true)\n",
      " |    |    |    |-- sw: string (nullable = true)\n",
      " |    |    |    |-- ta: string (nullable = true)\n",
      " |    |    |    |-- te: string (nullable = true)\n",
      " |    |    |    |-- th: string (nullable = true)\n",
      " |    |    |    |-- tl: string (nullable = true)\n",
      " |    |    |    |-- tr: string (nullable = true)\n",
      " |    |    |    |-- tt: string (nullable = true)\n",
      " |    |    |    |-- uk: string (nullable = true)\n",
      " |    |    |    |-- ur: string (nullable = true)\n",
      " |    |    |    |-- uz: string (nullable = true)\n",
      " |    |    |    |-- vi: string (nullable = true)\n",
      " |    |    |    |-- vo: string (nullable = true)\n",
      " |    |    |    |-- wa: string (nullable = true)\n",
      " |    |    |    |-- zh: string (nullable = true)\n",
      " |    |    |-- year: long (nullable = true)\n",
      " |-- publicationsCount: long (nullable = true)\n",
      " |-- recentAffiliations: array (nullable = true)\n",
      " |    |-- element: struct (containsNull = true)\n",
      " |    |    |-- endDate: string (nullable = true)\n",
      " |    |    |-- publicationsCount: long (nullable = true)\n",
      " |    |    |-- sources: array (nullable = true)\n",
      " |    |    |    |-- element: struct (containsNull = true)\n",
      " |    |    |    |    |-- id: string (nullable = true)\n",
      " |    |    |    |    |-- year: string (nullable = true)\n",
      " |    |    |-- startDate: string (nullable = true)\n",
      " |    |    |-- structure: struct (nullable = true)\n",
      " |    |    |    |-- acronym: struct (nullable = true)\n",
      " |    |    |    |    |-- default: string (nullable = true)\n",
      " |    |    |    |    |-- en: string (nullable = true)\n",
      " |    |    |    |    |-- fr: string (nullable = true)\n",
      " |    |    |    |-- id: string (nullable = true)\n",
      " |    |    |    |-- isFrench: boolean (nullable = true)\n",
      " |    |    |    |-- kind: array (nullable = true)\n",
      " |    |    |    |    |-- element: string (containsNull = true)\n",
      " |    |    |    |-- label: struct (nullable = true)\n",
      " |    |    |    |    |-- default: string (nullable = true)\n",
      " |    |    |    |    |-- en: string (nullable = true)\n",
      " |    |    |    |    |-- fr: string (nullable = true)\n",
      " |    |    |    |-- mainAddress: struct (nullable = true)\n",
      " |    |    |    |    |-- address: string (nullable = true)\n",
      " |    |    |    |    |-- city: string (nullable = true)\n",
      " |    |    |    |    |-- country: string (nullable = true)\n",
      " |    |    |    |    |-- gps: struct (nullable = true)\n",
      " |    |    |    |    |    |-- lat: double (nullable = true)\n",
      " |    |    |    |    |    |-- lon: double (nullable = true)\n",
      " |    |    |    |    |-- localisationSuggestions: array (nullable = true)\n",
      " |    |    |    |    |    |-- element: string (containsNull = true)\n",
      " |    |    |    |    |-- postcode: string (nullable = true)\n",
      " |    |    |    |-- status: string (nullable = true)\n",
      " |-- topDomains: array (nullable = true)\n",
      " |    |-- element: struct (containsNull = true)\n",
      " |    |    |-- code: string (nullable = true)\n",
      " |    |    |-- count: long (nullable = true)\n",
      " |    |    |-- label: struct (nullable = true)\n",
      " |    |    |    |-- default: string (nullable = true)\n",
      " |    |    |-- type: string (nullable = true)\n",
      "\n"
     ]
    }
   ],
   "source": [
    "df_au_scanR.printSchema()"
   ]
  },
  {
   "cell_type": "code",
   "execution_count": 6,
   "id": "3570bbf5-4e60-4eda-922a-120bcab76ba3",
   "metadata": {},
   "outputs": [],
   "source": [
    "df_authors = (spark.read.format('parquet').load('file:\\\\' + main_path_openalex + 'authors.parquet')\n",
    "              .withColumn('max_updated_date', func.max(func.col('updated_date')).over(Window.partitionBy('id')))\n",
    "              .filter(func.col('updated_date')== func.col('max_updated_date'))\n",
    "              .withColumn('split_name', func.split(func.col('display_name'), ' '))\n",
    "             .withColumn('first_name', func.element_at(func.col('split_name'), 1))\n",
    "              .withColumn('last_name', func.concat_ws(' ', func.array_except(func.col('split_name'), func.array(func.col('first_name')))))\n",
    "              .select('id', 'orcid', 'display_name', 'first_name', 'last_name', 'display_name_alternatives')\n",
    "             )\n"
   ]
  },
  {
   "cell_type": "code",
   "execution_count": 7,
   "id": "e751c82e-3280-456a-8898-bbd1e0a4dac5",
   "metadata": {},
   "outputs": [],
   "source": [
    "#df_authors.filter(func.col('id').contains('A5000018637')).show(truncate = False)"
   ]
  },
  {
   "cell_type": "code",
   "execution_count": 8,
   "id": "2b66c58a-989c-4ead-8061-b36ca7dfdaf2",
   "metadata": {},
   "outputs": [],
   "source": [
    "df_authors_to_match = (df_authors\n",
    ".withColumn('author_id', func.regexp_replace(func.col('id'), 'https://openalex.org/',''))\n",
    ".select('author_id', 'orcid', 'display_name', 'first_name', 'last_name', 'display_name_alternatives')\n",
    "                      )"
   ]
  },
  {
   "cell_type": "code",
   "execution_count": 13,
   "id": "8cd29bdf-24e5-4dcd-b109-ff41ac593749",
   "metadata": {},
   "outputs": [
    {
     "name": "stdout",
     "output_type": "stream",
     "text": [
      "+-----------+-------------------------------------+-----------------+----------+---------+-------------------------------------------------------------------+\n",
      "|author_id  |orcid                                |display_name     |first_name|last_name|display_name_alternatives                                          |\n",
      "+-----------+-------------------------------------+-----------------+----------+---------+-------------------------------------------------------------------+\n",
      "|A5036205978|https://orcid.org/0000-0001-8145-7560|Fabrice Le Bellec|Fabrice   |Le Bellec|[Fabrice LeBellec, Hélène Delatte, Fabrice Le Bellec, F. Le Bellec]|\n",
      "+-----------+-------------------------------------+-----------------+----------+---------+-------------------------------------------------------------------+\n",
      "\n"
     ]
    }
   ],
   "source": [
    "df_authors_to_match.filter(func.col('author_id') == ('A5036205978')).show(truncate = False)"
   ]
  },
  {
   "cell_type": "code",
   "execution_count": 9,
   "id": "ad2c3d39-21ef-4f00-a8f8-68e65446435e",
   "metadata": {},
   "outputs": [],
   "source": [
    "#df_au_scanR.filter(func.col('id')==\"idref153497769\").show()"
   ]
  },
  {
   "cell_type": "code",
   "execution_count": 10,
   "id": "6784c8fc-942b-49e3-8f64-89dffb6937d0",
   "metadata": {
    "scrolled": true
   },
   "outputs": [
    {
     "name": "stdout",
     "output_type": "stream",
     "text": [
      "root\n",
      " |-- affiliations: array (nullable = true)\n",
      " |    |-- element: struct (containsNull = true)\n",
      " |    |    |-- endDate: string (nullable = true)\n",
      " |    |    |-- publicationsCount: long (nullable = true)\n",
      " |    |    |-- sources: array (nullable = true)\n",
      " |    |    |    |-- element: struct (containsNull = true)\n",
      " |    |    |    |    |-- id: string (nullable = true)\n",
      " |    |    |    |    |-- year: string (nullable = true)\n",
      " |    |    |-- startDate: string (nullable = true)\n",
      " |    |    |-- structure: struct (nullable = true)\n",
      " |    |    |    |-- acronym: struct (nullable = true)\n",
      " |    |    |    |    |-- default: string (nullable = true)\n",
      " |    |    |    |    |-- en: string (nullable = true)\n",
      " |    |    |    |    |-- fr: string (nullable = true)\n",
      " |    |    |    |-- id: string (nullable = true)\n",
      " |    |    |    |-- isFrench: boolean (nullable = true)\n",
      " |    |    |    |-- kind: array (nullable = true)\n",
      " |    |    |    |    |-- element: string (containsNull = true)\n",
      " |    |    |    |-- label: struct (nullable = true)\n",
      " |    |    |    |    |-- default: string (nullable = true)\n",
      " |    |    |    |    |-- en: string (nullable = true)\n",
      " |    |    |    |    |-- fr: string (nullable = true)\n",
      " |    |    |    |-- mainAddress: struct (nullable = true)\n",
      " |    |    |    |    |-- address: string (nullable = true)\n",
      " |    |    |    |    |-- city: string (nullable = true)\n",
      " |    |    |    |    |-- country: string (nullable = true)\n",
      " |    |    |    |    |-- gps: struct (nullable = true)\n",
      " |    |    |    |    |    |-- lat: double (nullable = true)\n",
      " |    |    |    |    |    |-- lon: double (nullable = true)\n",
      " |    |    |    |    |-- localisationSuggestions: array (nullable = true)\n",
      " |    |    |    |    |    |-- element: string (containsNull = true)\n",
      " |    |    |    |    |-- postcode: string (nullable = true)\n",
      " |    |    |    |-- status: string (nullable = true)\n",
      " |-- autocompleted: array (nullable = true)\n",
      " |    |-- element: string (containsNull = true)\n",
      " |-- autocompletedText: array (nullable = true)\n",
      " |    |-- element: string (containsNull = true)\n",
      " |-- awards: array (nullable = true)\n",
      " |    |-- element: struct (containsNull = true)\n",
      " |    |    |-- date: string (nullable = true)\n",
      " |    |    |-- label: string (nullable = true)\n",
      " |    |    |-- url: string (nullable = true)\n",
      " |-- coContributors: array (nullable = true)\n",
      " |    |-- element: struct (containsNull = true)\n",
      " |    |    |-- fullName: string (nullable = true)\n",
      " |    |    |-- person: string (nullable = true)\n",
      " |-- domains: array (nullable = true)\n",
      " |    |-- element: struct (containsNull = true)\n",
      " |    |    |-- code: string (nullable = true)\n",
      " |    |    |-- count: long (nullable = true)\n",
      " |    |    |-- label: struct (nullable = true)\n",
      " |    |    |    |-- default: string (nullable = true)\n",
      " |    |    |-- type: string (nullable = true)\n",
      " |-- externalIds: array (nullable = true)\n",
      " |    |-- element: struct (containsNull = true)\n",
      " |    |    |-- id: string (nullable = true)\n",
      " |    |    |-- type: string (nullable = true)\n",
      " |    |    |-- url: string (nullable = true)\n",
      " |-- firstName: string (nullable = true)\n",
      " |-- fullName: string (nullable = true)\n",
      " |-- gender: string (nullable = true)\n",
      " |-- id: string (nullable = true)\n",
      " |-- id_hal: string (nullable = true)\n",
      " |-- idref: string (nullable = true)\n",
      " |-- lastName: string (nullable = true)\n",
      " |-- orcid: string (nullable = true)\n",
      " |-- publications: array (nullable = true)\n",
      " |    |-- element: struct (containsNull = true)\n",
      " |    |    |-- publication: string (nullable = true)\n",
      " |    |    |-- role: string (nullable = true)\n",
      " |    |    |-- source: struct (nullable = true)\n",
      " |    |    |    |-- isInDoaj: boolean (nullable = true)\n",
      " |    |    |    |-- isOa: boolean (nullable = true)\n",
      " |    |    |    |-- journalIssns: array (nullable = true)\n",
      " |    |    |    |    |-- element: string (containsNull = true)\n",
      " |    |    |    |-- publisher: string (nullable = true)\n",
      " |    |    |    |-- title: string (nullable = true)\n",
      " |    |    |-- title: struct (nullable = true)\n",
      " |    |    |    |-- af: string (nullable = true)\n",
      " |    |    |    |-- an: string (nullable = true)\n",
      " |    |    |    |-- ar: string (nullable = true)\n",
      " |    |    |    |-- az: string (nullable = true)\n",
      " |    |    |    |-- be: string (nullable = true)\n",
      " |    |    |    |-- bg: string (nullable = true)\n",
      " |    |    |    |-- bn: string (nullable = true)\n",
      " |    |    |    |-- bo: string (nullable = true)\n",
      " |    |    |    |-- br: string (nullable = true)\n",
      " |    |    |    |-- bs: string (nullable = true)\n",
      " |    |    |    |-- ca: string (nullable = true)\n",
      " |    |    |    |-- cs: string (nullable = true)\n",
      " |    |    |    |-- cy: string (nullable = true)\n",
      " |    |    |    |-- da: string (nullable = true)\n",
      " |    |    |    |-- de: string (nullable = true)\n",
      " |    |    |    |-- default: string (nullable = true)\n",
      " |    |    |    |-- el: string (nullable = true)\n",
      " |    |    |    |-- en: string (nullable = true)\n",
      " |    |    |    |-- eo: string (nullable = true)\n",
      " |    |    |    |-- es: string (nullable = true)\n",
      " |    |    |    |-- et: string (nullable = true)\n",
      " |    |    |    |-- eu: string (nullable = true)\n",
      " |    |    |    |-- fa: string (nullable = true)\n",
      " |    |    |    |-- fi: string (nullable = true)\n",
      " |    |    |    |-- fr: string (nullable = true)\n",
      " |    |    |    |-- fy: string (nullable = true)\n",
      " |    |    |    |-- ga: string (nullable = true)\n",
      " |    |    |    |-- gb: string (nullable = true)\n",
      " |    |    |    |-- gd: string (nullable = true)\n",
      " |    |    |    |-- gl: string (nullable = true)\n",
      " |    |    |    |-- gu: string (nullable = true)\n",
      " |    |    |    |-- he: string (nullable = true)\n",
      " |    |    |    |-- hi: string (nullable = true)\n",
      " |    |    |    |-- hr: string (nullable = true)\n",
      " |    |    |    |-- hu: string (nullable = true)\n",
      " |    |    |    |-- hy: string (nullable = true)\n",
      " |    |    |    |-- ia: string (nullable = true)\n",
      " |    |    |    |-- id: string (nullable = true)\n",
      " |    |    |    |-- ie: string (nullable = true)\n",
      " |    |    |    |-- is: string (nullable = true)\n",
      " |    |    |    |-- it: string (nullable = true)\n",
      " |    |    |    |-- ja: string (nullable = true)\n",
      " |    |    |    |-- jv: string (nullable = true)\n",
      " |    |    |    |-- km: string (nullable = true)\n",
      " |    |    |    |-- kn: string (nullable = true)\n",
      " |    |    |    |-- ko: string (nullable = true)\n",
      " |    |    |    |-- ku: string (nullable = true)\n",
      " |    |    |    |-- kw: string (nullable = true)\n",
      " |    |    |    |-- la: string (nullable = true)\n",
      " |    |    |    |-- lb: string (nullable = true)\n",
      " |    |    |    |-- lt: string (nullable = true)\n",
      " |    |    |    |-- lv: string (nullable = true)\n",
      " |    |    |    |-- mg: string (nullable = true)\n",
      " |    |    |    |-- mk: string (nullable = true)\n",
      " |    |    |    |-- ml: string (nullable = true)\n",
      " |    |    |    |-- mn: string (nullable = true)\n",
      " |    |    |    |-- ms: string (nullable = true)\n",
      " |    |    |    |-- my: string (nullable = true)\n",
      " |    |    |    |-- nb: string (nullable = true)\n",
      " |    |    |    |-- ne: string (nullable = true)\n",
      " |    |    |    |-- nl: string (nullable = true)\n",
      " |    |    |    |-- nn: string (nullable = true)\n",
      " |    |    |    |-- no: string (nullable = true)\n",
      " |    |    |    |-- oc: string (nullable = true)\n",
      " |    |    |    |-- pl: string (nullable = true)\n",
      " |    |    |    |-- po: string (nullable = true)\n",
      " |    |    |    |-- pt: string (nullable = true)\n",
      " |    |    |    |-- qu: string (nullable = true)\n",
      " |    |    |    |-- rm: string (nullable = true)\n",
      " |    |    |    |-- ro: string (nullable = true)\n",
      " |    |    |    |-- ru: string (nullable = true)\n",
      " |    |    |    |-- sa: string (nullable = true)\n",
      " |    |    |    |-- sh: string (nullable = true)\n",
      " |    |    |    |-- si: string (nullable = true)\n",
      " |    |    |    |-- sk: string (nullable = true)\n",
      " |    |    |    |-- sl: string (nullable = true)\n",
      " |    |    |    |-- sq: string (nullable = true)\n",
      " |    |    |    |-- sr: string (nullable = true)\n",
      " |    |    |    |-- su: string (nullable = true)\n",
      " |    |    |    |-- sv: string (nullable = true)\n",
      " |    |    |    |-- sw: string (nullable = true)\n",
      " |    |    |    |-- ta: string (nullable = true)\n",
      " |    |    |    |-- te: string (nullable = true)\n",
      " |    |    |    |-- th: string (nullable = true)\n",
      " |    |    |    |-- tl: string (nullable = true)\n",
      " |    |    |    |-- tr: string (nullable = true)\n",
      " |    |    |    |-- tt: string (nullable = true)\n",
      " |    |    |    |-- uk: string (nullable = true)\n",
      " |    |    |    |-- ur: string (nullable = true)\n",
      " |    |    |    |-- uz: string (nullable = true)\n",
      " |    |    |    |-- vi: string (nullable = true)\n",
      " |    |    |    |-- vo: string (nullable = true)\n",
      " |    |    |    |-- wa: string (nullable = true)\n",
      " |    |    |    |-- zh: string (nullable = true)\n",
      " |    |    |-- year: long (nullable = true)\n",
      " |-- publicationsCount: long (nullable = true)\n",
      " |-- recentAffiliations: array (nullable = true)\n",
      " |    |-- element: struct (containsNull = true)\n",
      " |    |    |-- endDate: string (nullable = true)\n",
      " |    |    |-- publicationsCount: long (nullable = true)\n",
      " |    |    |-- sources: array (nullable = true)\n",
      " |    |    |    |-- element: struct (containsNull = true)\n",
      " |    |    |    |    |-- id: string (nullable = true)\n",
      " |    |    |    |    |-- year: string (nullable = true)\n",
      " |    |    |-- startDate: string (nullable = true)\n",
      " |    |    |-- structure: struct (nullable = true)\n",
      " |    |    |    |-- acronym: struct (nullable = true)\n",
      " |    |    |    |    |-- default: string (nullable = true)\n",
      " |    |    |    |    |-- en: string (nullable = true)\n",
      " |    |    |    |    |-- fr: string (nullable = true)\n",
      " |    |    |    |-- id: string (nullable = true)\n",
      " |    |    |    |-- isFrench: boolean (nullable = true)\n",
      " |    |    |    |-- kind: array (nullable = true)\n",
      " |    |    |    |    |-- element: string (containsNull = true)\n",
      " |    |    |    |-- label: struct (nullable = true)\n",
      " |    |    |    |    |-- default: string (nullable = true)\n",
      " |    |    |    |    |-- en: string (nullable = true)\n",
      " |    |    |    |    |-- fr: string (nullable = true)\n",
      " |    |    |    |-- mainAddress: struct (nullable = true)\n",
      " |    |    |    |    |-- address: string (nullable = true)\n",
      " |    |    |    |    |-- city: string (nullable = true)\n",
      " |    |    |    |    |-- country: string (nullable = true)\n",
      " |    |    |    |    |-- gps: struct (nullable = true)\n",
      " |    |    |    |    |    |-- lat: double (nullable = true)\n",
      " |    |    |    |    |    |-- lon: double (nullable = true)\n",
      " |    |    |    |    |-- localisationSuggestions: array (nullable = true)\n",
      " |    |    |    |    |    |-- element: string (containsNull = true)\n",
      " |    |    |    |    |-- postcode: string (nullable = true)\n",
      " |    |    |    |-- status: string (nullable = true)\n",
      " |-- topDomains: array (nullable = true)\n",
      " |    |-- element: struct (containsNull = true)\n",
      " |    |    |-- code: string (nullable = true)\n",
      " |    |    |-- count: long (nullable = true)\n",
      " |    |    |-- label: struct (nullable = true)\n",
      " |    |    |    |-- default: string (nullable = true)\n",
      " |    |    |-- type: string (nullable = true)\n",
      "\n"
     ]
    }
   ],
   "source": [
    "df_au_scanR.printSchema()"
   ]
  },
  {
   "cell_type": "markdown",
   "id": "538330ff-9dd6-49d2-a20e-11b8e8960f18",
   "metadata": {},
   "source": [
    "# Filter authors to match in OpenAlex"
   ]
  },
  {
   "cell_type": "code",
   "execution_count": 11,
   "id": "b2784b89-fcfa-4b32-aab4-dffa0f35175a",
   "metadata": {},
   "outputs": [
    {
     "data": {
      "text/plain": [
       "1817053"
      ]
     },
     "execution_count": 11,
     "metadata": {},
     "output_type": "execute_result"
    }
   ],
   "source": [
    "french_authors_oa = (works_au_af\n",
    "                     .filter(func.col('country')=='FR')\n",
    "                     .select('author_id')\n",
    "                     .distinct()\n",
    "                     #.join(df_authors\n",
    "                     # .withColumn('author_id', func.regexp_replace(func.col('id'), 'https://openalex.org/',''))\n",
    "                     # .select('author_id', 'orcid', 'display_name', 'first_name', 'last_name', 'display_name_alternatives'), on = ['author_id'], how = 'left')\n",
    "                    )\n",
    "french_authors_oa.cache()\n",
    "french_authors_oa.count()"
   ]
  },
  {
   "cell_type": "code",
   "execution_count": 12,
   "id": "7a91ec8b-d6f2-4906-89b6-51e20e0a1309",
   "metadata": {
    "scrolled": true
   },
   "outputs": [
    {
     "name": "stdout",
     "output_type": "stream",
     "text": [
      "+-----------+\n",
      "|author_id  |\n",
      "+-----------+\n",
      "|A5036205978|\n",
      "+-----------+\n",
      "\n"
     ]
    }
   ],
   "source": [
    "french_authors_oa.filter(func.col('author_id') == ('A5036205978')).show(truncate = False)"
   ]
  },
  {
   "cell_type": "code",
   "execution_count": 8,
   "id": "50d675f8-6c68-48d9-aa2c-93c90e12d711",
   "metadata": {},
   "outputs": [
    {
     "name": "stdout",
     "output_type": "stream",
     "text": [
      "+-----------+\n",
      "|author_id  |\n",
      "+-----------+\n",
      "|A5084984675|\n",
      "+-----------+\n",
      "\n"
     ]
    }
   ],
   "source": [
    "french_authors_oa.filter(func.col('author_id') == ('A5084984675')).show(truncate = False)"
   ]
  },
  {
   "cell_type": "code",
   "execution_count": 9,
   "id": "cfce94ea-aa51-4164-9bfb-174d84c8d5e2",
   "metadata": {},
   "outputs": [],
   "source": [
    "#df_authors_to_match.cache()\n",
    "#df_authors_to_match.filter(func.col('author_id') == ('A5036205978')).show(truncate = False)"
   ]
  },
  {
   "cell_type": "code",
<<<<<<< Updated upstream
   "execution_count": 10,
=======
   "execution_count": 14,
>>>>>>> Stashed changes
   "id": "e0592712-43fe-40ba-b79e-ae242932abb2",
   "metadata": {},
   "outputs": [
    {
<<<<<<< Updated upstream
     "ename": "Py4JJavaError",
     "evalue": "An error occurred while calling o288.count.\n: org.apache.spark.SparkException: Job aborted due to stage failure: Task 0 in stage 29.0 failed 1 times, most recent failure: Lost task 0.0 in stage 29.0 (TID 1133) (localhost executor driver): java.io.FileNotFoundException: E:\\spark-temp\\blockmgr-3b160c3c-d69a-49d8-a202-fd8d395304ec\\14\\temp_shuffle_dc79c573-c370-419e-bf54-53bca4067468 (Ressources système insuffisantes pour terminer le service demandé)\r\n\tat java.base/java.io.FileOutputStream.open0(Native Method)\r\n\tat java.base/java.io.FileOutputStream.open(FileOutputStream.java:289)\r\n\tat java.base/java.io.FileOutputStream.<init>(FileOutputStream.java:230)\r\n\tat org.apache.spark.storage.DiskBlockObjectWriter.initialize(DiskBlockObjectWriter.scala:141)\r\n\tat org.apache.spark.storage.DiskBlockObjectWriter.open(DiskBlockObjectWriter.scala:161)\r\n\tat org.apache.spark.storage.DiskBlockObjectWriter.write(DiskBlockObjectWriter.scala:308)\r\n\tat org.apache.spark.shuffle.sort.BypassMergeSortShuffleWriter.write(BypassMergeSortShuffleWriter.java:171)\r\n\tat org.apache.spark.shuffle.ShuffleWriteProcessor.write(ShuffleWriteProcessor.scala:59)\r\n\tat org.apache.spark.scheduler.ShuffleMapTask.runTask(ShuffleMapTask.scala:104)\r\n\tat org.apache.spark.scheduler.ShuffleMapTask.runTask(ShuffleMapTask.scala:54)\r\n\tat org.apache.spark.TaskContext.runTaskWithListeners(TaskContext.scala:161)\r\n\tat org.apache.spark.scheduler.Task.run(Task.scala:141)\r\n\tat org.apache.spark.executor.Executor$TaskRunner.$anonfun$run$4(Executor.scala:620)\r\n\tat org.apache.spark.util.SparkErrorUtils.tryWithSafeFinally(SparkErrorUtils.scala:64)\r\n\tat org.apache.spark.util.SparkErrorUtils.tryWithSafeFinally$(SparkErrorUtils.scala:61)\r\n\tat org.apache.spark.util.Utils$.tryWithSafeFinally(Utils.scala:94)\r\n\tat org.apache.spark.executor.Executor$TaskRunner.run(Executor.scala:623)\r\n\tat java.base/java.util.concurrent.ThreadPoolExecutor.runWorker(ThreadPoolExecutor.java:1144)\r\n\tat java.base/java.util.concurrent.ThreadPoolExecutor$Worker.run(ThreadPoolExecutor.java:642)\r\n\tat java.base/java.lang.Thread.run(Thread.java:1583)\r\n\nDriver stacktrace:\r\n\tat org.apache.spark.scheduler.DAGScheduler.failJobAndIndependentStages(DAGScheduler.scala:2844)\r\n\tat org.apache.spark.scheduler.DAGScheduler.$anonfun$abortStage$2(DAGScheduler.scala:2780)\r\n\tat org.apache.spark.scheduler.DAGScheduler.$anonfun$abortStage$2$adapted(DAGScheduler.scala:2779)\r\n\tat scala.collection.mutable.ResizableArray.foreach(ResizableArray.scala:62)\r\n\tat scala.collection.mutable.ResizableArray.foreach$(ResizableArray.scala:55)\r\n\tat scala.collection.mutable.ArrayBuffer.foreach(ArrayBuffer.scala:49)\r\n\tat org.apache.spark.scheduler.DAGScheduler.abortStage(DAGScheduler.scala:2779)\r\n\tat org.apache.spark.scheduler.DAGScheduler.$anonfun$handleTaskSetFailed$1(DAGScheduler.scala:1242)\r\n\tat org.apache.spark.scheduler.DAGScheduler.$anonfun$handleTaskSetFailed$1$adapted(DAGScheduler.scala:1242)\r\n\tat scala.Option.foreach(Option.scala:407)\r\n\tat org.apache.spark.scheduler.DAGScheduler.handleTaskSetFailed(DAGScheduler.scala:1242)\r\n\tat org.apache.spark.scheduler.DAGSchedulerEventProcessLoop.doOnReceive(DAGScheduler.scala:3048)\r\n\tat org.apache.spark.scheduler.DAGSchedulerEventProcessLoop.onReceive(DAGScheduler.scala:2982)\r\n\tat org.apache.spark.scheduler.DAGSchedulerEventProcessLoop.onReceive(DAGScheduler.scala:2971)\r\n\tat org.apache.spark.util.EventLoop$$anon$1.run(EventLoop.scala:49)\r\nCaused by: java.io.FileNotFoundException: E:\\spark-temp\\blockmgr-3b160c3c-d69a-49d8-a202-fd8d395304ec\\14\\temp_shuffle_dc79c573-c370-419e-bf54-53bca4067468 (Ressources système insuffisantes pour terminer le service demandé)\r\n\tat java.base/java.io.FileOutputStream.open0(Native Method)\r\n\tat java.base/java.io.FileOutputStream.open(FileOutputStream.java:289)\r\n\tat java.base/java.io.FileOutputStream.<init>(FileOutputStream.java:230)\r\n\tat org.apache.spark.storage.DiskBlockObjectWriter.initialize(DiskBlockObjectWriter.scala:141)\r\n\tat org.apache.spark.storage.DiskBlockObjectWriter.open(DiskBlockObjectWriter.scala:161)\r\n\tat org.apache.spark.storage.DiskBlockObjectWriter.write(DiskBlockObjectWriter.scala:308)\r\n\tat org.apache.spark.shuffle.sort.BypassMergeSortShuffleWriter.write(BypassMergeSortShuffleWriter.java:171)\r\n\tat org.apache.spark.shuffle.ShuffleWriteProcessor.write(ShuffleWriteProcessor.scala:59)\r\n\tat org.apache.spark.scheduler.ShuffleMapTask.runTask(ShuffleMapTask.scala:104)\r\n\tat org.apache.spark.scheduler.ShuffleMapTask.runTask(ShuffleMapTask.scala:54)\r\n\tat org.apache.spark.TaskContext.runTaskWithListeners(TaskContext.scala:161)\r\n\tat org.apache.spark.scheduler.Task.run(Task.scala:141)\r\n\tat org.apache.spark.executor.Executor$TaskRunner.$anonfun$run$4(Executor.scala:620)\r\n\tat org.apache.spark.util.SparkErrorUtils.tryWithSafeFinally(SparkErrorUtils.scala:64)\r\n\tat org.apache.spark.util.SparkErrorUtils.tryWithSafeFinally$(SparkErrorUtils.scala:61)\r\n\tat org.apache.spark.util.Utils$.tryWithSafeFinally(Utils.scala:94)\r\n\tat org.apache.spark.executor.Executor$TaskRunner.run(Executor.scala:623)\r\n\tat java.base/java.util.concurrent.ThreadPoolExecutor.runWorker(ThreadPoolExecutor.java:1144)\r\n\tat java.base/java.util.concurrent.ThreadPoolExecutor$Worker.run(ThreadPoolExecutor.java:642)\r\n\tat java.base/java.lang.Thread.run(Thread.java:1583)\r\n",
     "output_type": "error",
     "traceback": [
      "\u001b[1;31m---------------------------------------------------------------------------\u001b[0m",
      "\u001b[1;31mPy4JJavaError\u001b[0m                             Traceback (most recent call last)",
      "Cell \u001b[1;32mIn[10], line 5\u001b[0m\n\u001b[0;32m      1\u001b[0m french_authors_oa \u001b[38;5;241m=\u001b[39m (french_authors_oa \n\u001b[0;32m      2\u001b[0m                      \u001b[38;5;241m.\u001b[39mjoin(df_authors_to_match, on \u001b[38;5;241m=\u001b[39m [\u001b[38;5;124m'\u001b[39m\u001b[38;5;124mauthor_id\u001b[39m\u001b[38;5;124m'\u001b[39m], how \u001b[38;5;241m=\u001b[39m \u001b[38;5;124m'\u001b[39m\u001b[38;5;124mleft\u001b[39m\u001b[38;5;124m'\u001b[39m)\n\u001b[0;32m      3\u001b[0m                     )\n\u001b[0;32m      4\u001b[0m french_authors_oa\u001b[38;5;241m.\u001b[39mcache()\n\u001b[1;32m----> 5\u001b[0m french_authors_oa\u001b[38;5;241m.\u001b[39mcount()\n",
      "File \u001b[1;32m~\\anaconda3\\Lib\\site-packages\\pyspark\\sql\\dataframe.py:1238\u001b[0m, in \u001b[0;36mDataFrame.count\u001b[1;34m(self)\u001b[0m\n\u001b[0;32m   1215\u001b[0m \u001b[38;5;28;01mdef\u001b[39;00m \u001b[38;5;21mcount\u001b[39m(\u001b[38;5;28mself\u001b[39m) \u001b[38;5;241m-\u001b[39m\u001b[38;5;241m>\u001b[39m \u001b[38;5;28mint\u001b[39m:\n\u001b[0;32m   1216\u001b[0m \u001b[38;5;250m    \u001b[39m\u001b[38;5;124;03m\"\"\"Returns the number of rows in this :class:`DataFrame`.\u001b[39;00m\n\u001b[0;32m   1217\u001b[0m \n\u001b[0;32m   1218\u001b[0m \u001b[38;5;124;03m    .. versionadded:: 1.3.0\u001b[39;00m\n\u001b[1;32m   (...)\u001b[0m\n\u001b[0;32m   1236\u001b[0m \u001b[38;5;124;03m    3\u001b[39;00m\n\u001b[0;32m   1237\u001b[0m \u001b[38;5;124;03m    \"\"\"\u001b[39;00m\n\u001b[1;32m-> 1238\u001b[0m     \u001b[38;5;28;01mreturn\u001b[39;00m \u001b[38;5;28mint\u001b[39m(\u001b[38;5;28mself\u001b[39m\u001b[38;5;241m.\u001b[39m_jdf\u001b[38;5;241m.\u001b[39mcount())\n",
      "File \u001b[1;32m~\\anaconda3\\Lib\\site-packages\\py4j\\java_gateway.py:1322\u001b[0m, in \u001b[0;36mJavaMember.__call__\u001b[1;34m(self, *args)\u001b[0m\n\u001b[0;32m   1316\u001b[0m command \u001b[38;5;241m=\u001b[39m proto\u001b[38;5;241m.\u001b[39mCALL_COMMAND_NAME \u001b[38;5;241m+\u001b[39m\\\n\u001b[0;32m   1317\u001b[0m     \u001b[38;5;28mself\u001b[39m\u001b[38;5;241m.\u001b[39mcommand_header \u001b[38;5;241m+\u001b[39m\\\n\u001b[0;32m   1318\u001b[0m     args_command \u001b[38;5;241m+\u001b[39m\\\n\u001b[0;32m   1319\u001b[0m     proto\u001b[38;5;241m.\u001b[39mEND_COMMAND_PART\n\u001b[0;32m   1321\u001b[0m answer \u001b[38;5;241m=\u001b[39m \u001b[38;5;28mself\u001b[39m\u001b[38;5;241m.\u001b[39mgateway_client\u001b[38;5;241m.\u001b[39msend_command(command)\n\u001b[1;32m-> 1322\u001b[0m return_value \u001b[38;5;241m=\u001b[39m get_return_value(\n\u001b[0;32m   1323\u001b[0m     answer, \u001b[38;5;28mself\u001b[39m\u001b[38;5;241m.\u001b[39mgateway_client, \u001b[38;5;28mself\u001b[39m\u001b[38;5;241m.\u001b[39mtarget_id, \u001b[38;5;28mself\u001b[39m\u001b[38;5;241m.\u001b[39mname)\n\u001b[0;32m   1325\u001b[0m \u001b[38;5;28;01mfor\u001b[39;00m temp_arg \u001b[38;5;129;01min\u001b[39;00m temp_args:\n\u001b[0;32m   1326\u001b[0m     \u001b[38;5;28;01mif\u001b[39;00m \u001b[38;5;28mhasattr\u001b[39m(temp_arg, \u001b[38;5;124m\"\u001b[39m\u001b[38;5;124m_detach\u001b[39m\u001b[38;5;124m\"\u001b[39m):\n",
      "File \u001b[1;32m~\\anaconda3\\Lib\\site-packages\\pyspark\\errors\\exceptions\\captured.py:179\u001b[0m, in \u001b[0;36mcapture_sql_exception.<locals>.deco\u001b[1;34m(*a, **kw)\u001b[0m\n\u001b[0;32m    177\u001b[0m \u001b[38;5;28;01mdef\u001b[39;00m \u001b[38;5;21mdeco\u001b[39m(\u001b[38;5;241m*\u001b[39ma: Any, \u001b[38;5;241m*\u001b[39m\u001b[38;5;241m*\u001b[39mkw: Any) \u001b[38;5;241m-\u001b[39m\u001b[38;5;241m>\u001b[39m Any:\n\u001b[0;32m    178\u001b[0m     \u001b[38;5;28;01mtry\u001b[39;00m:\n\u001b[1;32m--> 179\u001b[0m         \u001b[38;5;28;01mreturn\u001b[39;00m f(\u001b[38;5;241m*\u001b[39ma, \u001b[38;5;241m*\u001b[39m\u001b[38;5;241m*\u001b[39mkw)\n\u001b[0;32m    180\u001b[0m     \u001b[38;5;28;01mexcept\u001b[39;00m Py4JJavaError \u001b[38;5;28;01mas\u001b[39;00m e:\n\u001b[0;32m    181\u001b[0m         converted \u001b[38;5;241m=\u001b[39m convert_exception(e\u001b[38;5;241m.\u001b[39mjava_exception)\n",
      "File \u001b[1;32m~\\anaconda3\\Lib\\site-packages\\py4j\\protocol.py:326\u001b[0m, in \u001b[0;36mget_return_value\u001b[1;34m(answer, gateway_client, target_id, name)\u001b[0m\n\u001b[0;32m    324\u001b[0m value \u001b[38;5;241m=\u001b[39m OUTPUT_CONVERTER[\u001b[38;5;28mtype\u001b[39m](answer[\u001b[38;5;241m2\u001b[39m:], gateway_client)\n\u001b[0;32m    325\u001b[0m \u001b[38;5;28;01mif\u001b[39;00m answer[\u001b[38;5;241m1\u001b[39m] \u001b[38;5;241m==\u001b[39m REFERENCE_TYPE:\n\u001b[1;32m--> 326\u001b[0m     \u001b[38;5;28;01mraise\u001b[39;00m Py4JJavaError(\n\u001b[0;32m    327\u001b[0m         \u001b[38;5;124m\"\u001b[39m\u001b[38;5;124mAn error occurred while calling \u001b[39m\u001b[38;5;132;01m{0}\u001b[39;00m\u001b[38;5;132;01m{1}\u001b[39;00m\u001b[38;5;132;01m{2}\u001b[39;00m\u001b[38;5;124m.\u001b[39m\u001b[38;5;130;01m\\n\u001b[39;00m\u001b[38;5;124m\"\u001b[39m\u001b[38;5;241m.\u001b[39m\n\u001b[0;32m    328\u001b[0m         \u001b[38;5;28mformat\u001b[39m(target_id, \u001b[38;5;124m\"\u001b[39m\u001b[38;5;124m.\u001b[39m\u001b[38;5;124m\"\u001b[39m, name), value)\n\u001b[0;32m    329\u001b[0m \u001b[38;5;28;01melse\u001b[39;00m:\n\u001b[0;32m    330\u001b[0m     \u001b[38;5;28;01mraise\u001b[39;00m Py4JError(\n\u001b[0;32m    331\u001b[0m         \u001b[38;5;124m\"\u001b[39m\u001b[38;5;124mAn error occurred while calling \u001b[39m\u001b[38;5;132;01m{0}\u001b[39;00m\u001b[38;5;132;01m{1}\u001b[39;00m\u001b[38;5;132;01m{2}\u001b[39;00m\u001b[38;5;124m. Trace:\u001b[39m\u001b[38;5;130;01m\\n\u001b[39;00m\u001b[38;5;132;01m{3}\u001b[39;00m\u001b[38;5;130;01m\\n\u001b[39;00m\u001b[38;5;124m\"\u001b[39m\u001b[38;5;241m.\u001b[39m\n\u001b[0;32m    332\u001b[0m         \u001b[38;5;28mformat\u001b[39m(target_id, \u001b[38;5;124m\"\u001b[39m\u001b[38;5;124m.\u001b[39m\u001b[38;5;124m\"\u001b[39m, name, value))\n",
      "\u001b[1;31mPy4JJavaError\u001b[0m: An error occurred while calling o288.count.\n: org.apache.spark.SparkException: Job aborted due to stage failure: Task 0 in stage 29.0 failed 1 times, most recent failure: Lost task 0.0 in stage 29.0 (TID 1133) (localhost executor driver): java.io.FileNotFoundException: E:\\spark-temp\\blockmgr-3b160c3c-d69a-49d8-a202-fd8d395304ec\\14\\temp_shuffle_dc79c573-c370-419e-bf54-53bca4067468 (Ressources système insuffisantes pour terminer le service demandé)\r\n\tat java.base/java.io.FileOutputStream.open0(Native Method)\r\n\tat java.base/java.io.FileOutputStream.open(FileOutputStream.java:289)\r\n\tat java.base/java.io.FileOutputStream.<init>(FileOutputStream.java:230)\r\n\tat org.apache.spark.storage.DiskBlockObjectWriter.initialize(DiskBlockObjectWriter.scala:141)\r\n\tat org.apache.spark.storage.DiskBlockObjectWriter.open(DiskBlockObjectWriter.scala:161)\r\n\tat org.apache.spark.storage.DiskBlockObjectWriter.write(DiskBlockObjectWriter.scala:308)\r\n\tat org.apache.spark.shuffle.sort.BypassMergeSortShuffleWriter.write(BypassMergeSortShuffleWriter.java:171)\r\n\tat org.apache.spark.shuffle.ShuffleWriteProcessor.write(ShuffleWriteProcessor.scala:59)\r\n\tat org.apache.spark.scheduler.ShuffleMapTask.runTask(ShuffleMapTask.scala:104)\r\n\tat org.apache.spark.scheduler.ShuffleMapTask.runTask(ShuffleMapTask.scala:54)\r\n\tat org.apache.spark.TaskContext.runTaskWithListeners(TaskContext.scala:161)\r\n\tat org.apache.spark.scheduler.Task.run(Task.scala:141)\r\n\tat org.apache.spark.executor.Executor$TaskRunner.$anonfun$run$4(Executor.scala:620)\r\n\tat org.apache.spark.util.SparkErrorUtils.tryWithSafeFinally(SparkErrorUtils.scala:64)\r\n\tat org.apache.spark.util.SparkErrorUtils.tryWithSafeFinally$(SparkErrorUtils.scala:61)\r\n\tat org.apache.spark.util.Utils$.tryWithSafeFinally(Utils.scala:94)\r\n\tat org.apache.spark.executor.Executor$TaskRunner.run(Executor.scala:623)\r\n\tat java.base/java.util.concurrent.ThreadPoolExecutor.runWorker(ThreadPoolExecutor.java:1144)\r\n\tat java.base/java.util.concurrent.ThreadPoolExecutor$Worker.run(ThreadPoolExecutor.java:642)\r\n\tat java.base/java.lang.Thread.run(Thread.java:1583)\r\n\nDriver stacktrace:\r\n\tat org.apache.spark.scheduler.DAGScheduler.failJobAndIndependentStages(DAGScheduler.scala:2844)\r\n\tat org.apache.spark.scheduler.DAGScheduler.$anonfun$abortStage$2(DAGScheduler.scala:2780)\r\n\tat org.apache.spark.scheduler.DAGScheduler.$anonfun$abortStage$2$adapted(DAGScheduler.scala:2779)\r\n\tat scala.collection.mutable.ResizableArray.foreach(ResizableArray.scala:62)\r\n\tat scala.collection.mutable.ResizableArray.foreach$(ResizableArray.scala:55)\r\n\tat scala.collection.mutable.ArrayBuffer.foreach(ArrayBuffer.scala:49)\r\n\tat org.apache.spark.scheduler.DAGScheduler.abortStage(DAGScheduler.scala:2779)\r\n\tat org.apache.spark.scheduler.DAGScheduler.$anonfun$handleTaskSetFailed$1(DAGScheduler.scala:1242)\r\n\tat org.apache.spark.scheduler.DAGScheduler.$anonfun$handleTaskSetFailed$1$adapted(DAGScheduler.scala:1242)\r\n\tat scala.Option.foreach(Option.scala:407)\r\n\tat org.apache.spark.scheduler.DAGScheduler.handleTaskSetFailed(DAGScheduler.scala:1242)\r\n\tat org.apache.spark.scheduler.DAGSchedulerEventProcessLoop.doOnReceive(DAGScheduler.scala:3048)\r\n\tat org.apache.spark.scheduler.DAGSchedulerEventProcessLoop.onReceive(DAGScheduler.scala:2982)\r\n\tat org.apache.spark.scheduler.DAGSchedulerEventProcessLoop.onReceive(DAGScheduler.scala:2971)\r\n\tat org.apache.spark.util.EventLoop$$anon$1.run(EventLoop.scala:49)\r\nCaused by: java.io.FileNotFoundException: E:\\spark-temp\\blockmgr-3b160c3c-d69a-49d8-a202-fd8d395304ec\\14\\temp_shuffle_dc79c573-c370-419e-bf54-53bca4067468 (Ressources système insuffisantes pour terminer le service demandé)\r\n\tat java.base/java.io.FileOutputStream.open0(Native Method)\r\n\tat java.base/java.io.FileOutputStream.open(FileOutputStream.java:289)\r\n\tat java.base/java.io.FileOutputStream.<init>(FileOutputStream.java:230)\r\n\tat org.apache.spark.storage.DiskBlockObjectWriter.initialize(DiskBlockObjectWriter.scala:141)\r\n\tat org.apache.spark.storage.DiskBlockObjectWriter.open(DiskBlockObjectWriter.scala:161)\r\n\tat org.apache.spark.storage.DiskBlockObjectWriter.write(DiskBlockObjectWriter.scala:308)\r\n\tat org.apache.spark.shuffle.sort.BypassMergeSortShuffleWriter.write(BypassMergeSortShuffleWriter.java:171)\r\n\tat org.apache.spark.shuffle.ShuffleWriteProcessor.write(ShuffleWriteProcessor.scala:59)\r\n\tat org.apache.spark.scheduler.ShuffleMapTask.runTask(ShuffleMapTask.scala:104)\r\n\tat org.apache.spark.scheduler.ShuffleMapTask.runTask(ShuffleMapTask.scala:54)\r\n\tat org.apache.spark.TaskContext.runTaskWithListeners(TaskContext.scala:161)\r\n\tat org.apache.spark.scheduler.Task.run(Task.scala:141)\r\n\tat org.apache.spark.executor.Executor$TaskRunner.$anonfun$run$4(Executor.scala:620)\r\n\tat org.apache.spark.util.SparkErrorUtils.tryWithSafeFinally(SparkErrorUtils.scala:64)\r\n\tat org.apache.spark.util.SparkErrorUtils.tryWithSafeFinally$(SparkErrorUtils.scala:61)\r\n\tat org.apache.spark.util.Utils$.tryWithSafeFinally(Utils.scala:94)\r\n\tat org.apache.spark.executor.Executor$TaskRunner.run(Executor.scala:623)\r\n\tat java.base/java.util.concurrent.ThreadPoolExecutor.runWorker(ThreadPoolExecutor.java:1144)\r\n\tat java.base/java.util.concurrent.ThreadPoolExecutor$Worker.run(ThreadPoolExecutor.java:642)\r\n\tat java.base/java.lang.Thread.run(Thread.java:1583)\r\n"
     ]
=======
     "data": {
      "text/plain": [
       "1817053"
      ]
     },
     "execution_count": 14,
     "metadata": {},
     "output_type": "execute_result"
>>>>>>> Stashed changes
    }
   ],
   "source": [
    "french_authors_oa_wnames = (french_authors_oa \n",
    "                     .join(df_authors_to_match, on = ['author_id'], how = 'left')\n",
    "                    )\n",
    "french_authors_oa_wnames.cache()\n",
    "french_authors_oa_wnames.count()"
   ]
  },
  {
   "cell_type": "code",
   "execution_count": 15,
   "id": "ef03feb1-5e87-4a8f-8a54-78d8ce2c2bb0",
   "metadata": {},
   "outputs": [
    {
     "name": "stdout",
     "output_type": "stream",
     "text": [
      "+-----------+-------------------------------------+---------------+----------+---------+--------------------------------------------------------------------+\n",
      "|author_id  |orcid                                |display_name   |first_name|last_name|display_name_alternatives                                           |\n",
      "+-----------+-------------------------------------+---------------+----------+---------+--------------------------------------------------------------------+\n",
      "|A5084984675|https://orcid.org/0000-0002-9019-1677|Philippe Aghion|Philippe  |Aghion   |[Philippe Aghion, P. Aghion, Phillipe Aghion, Philippe Mario Aghion]|\n",
      "+-----------+-------------------------------------+---------------+----------+---------+--------------------------------------------------------------------+\n",
      "\n"
     ]
    }
   ],
   "source": [
    "french_authors_oa_wnames.filter(func.col('author_id') == ('A5084984675')).show(truncate = False)"
   ]
  },
  {
   "cell_type": "code",
   "execution_count": 16,
   "id": "17eeec1d-e2ce-4ead-98b0-227bfd806579",
   "metadata": {},
   "outputs": [
    {
     "name": "stdout",
     "output_type": "stream",
     "text": [
      "+-----------+-------------------------------------+-----------------+----------+---------+-------------------------------------------------------------------+\n",
      "|author_id  |orcid                                |display_name     |first_name|last_name|display_name_alternatives                                          |\n",
      "+-----------+-------------------------------------+-----------------+----------+---------+-------------------------------------------------------------------+\n",
      "|A5036205978|https://orcid.org/0000-0001-8145-7560|Fabrice Le Bellec|Fabrice   |Le Bellec|[Fabrice LeBellec, Hélène Delatte, Fabrice Le Bellec, F. Le Bellec]|\n",
      "+-----------+-------------------------------------+-----------------+----------+---------+-------------------------------------------------------------------+\n",
      "\n"
     ]
    }
   ],
   "source": [
    "french_authors_oa_wnames.filter(func.col('author_id') == ('A5036205978')).show(truncate = False)"
   ]
  },
  {
   "cell_type": "code",
   "execution_count": 22,
   "id": "340057dc-ef6f-4748-a26e-bfecb962e533",
   "metadata": {},
   "outputs": [
    {
     "data": {
      "text/plain": [
       "482902"
      ]
     },
     "execution_count": 22,
     "metadata": {},
     "output_type": "execute_result"
    }
   ],
   "source": [
    "french_authors_oa_wnames.filter(func.col('orcid').isNotNull()).count()"
   ]
  },
  {
   "cell_type": "code",
   "execution_count": 23,
   "id": "f71f8c29-fd39-4d6e-9df7-71ea30b9d5dd",
   "metadata": {},
   "outputs": [
    {
     "data": {
      "text/plain": [
       "120509"
      ]
     },
     "execution_count": 23,
     "metadata": {},
     "output_type": "execute_result"
    }
   ],
   "source": [
    "df_au_scanR.filter(func.col('orcid').isNotNull()).count()"
   ]
  },
  {
   "cell_type": "code",
   "execution_count": 18,
   "id": "b135783a-3b17-4ffa-a4b3-c2ea0059330d",
   "metadata": {
    "scrolled": true
   },
   "outputs": [
    {
     "name": "stdout",
     "output_type": "stream",
     "text": [
      "+-----------+--------------------+--------------------+----------+-------------------+-------------------------+\n",
      "|  author_id|               orcid|        display_name|first_name|          last_name|display_name_alternatives|\n",
      "+-----------+--------------------+--------------------+----------+-------------------+-------------------------+\n",
      "|A5000016899|                NULL|        J.J. Samueli|      J.J.|            Samueli|     [J.J Samueli, Jea...|\n",
      "|A5000023309|                NULL|         E. Monflier|        E.|           Monflier|            [E. Monflier]|\n",
      "|A5000083574|                NULL|Darshan Athinaray...|   Darshan|    Athinarayanarao|     [Darshan Athinara...|\n",
      "|A5000087584|https://orcid.org...|      Selven Ayasamy|    Selven|            Ayasamy|         [Selven Ayasamy]|\n",
      "|A5000139008|https://orcid.org...|       Miguel Aguiar|    Miguel|             Aguiar|     [Miguel Aguiar, M...|\n",
      "|A5000139201|                NULL|    Gérard Gawrysiak|    Gérard|          Gawrysiak|     [G. Gawrysiak, Gé...|\n",
      "|A5000139428|                NULL|  C. Varlet-Grancher|        C.|    Varlet-Grancher|     [C. Varlet‐Grancher]|\n",
      "|A5000156980|                NULL|     Kenneth J. Tack|   Kenneth|            J. Tack|     [Kenneth J. Tack,...|\n",
      "|A5000157973|                NULL|     Corinne Fortier|   Corinne|            Fortier|     [C. Fortier, Cori...|\n",
      "|A5000204781|                NULL|       Yoneho Tabata|    Yoneho|             Tabata| [田畑 米穂, Yoneho. T...|\n",
      "|A5000209351|https://orcid.org...|Hermínio Arias Na...|  Hermínio|Arias Nalini Júnior|     [Herminio A. Nali...|\n",
      "|A5000211877|                NULL|       Oscar Lezcano|     Oscar|            Lezcano|          [Oscar Lezcano]|\n",
      "|A5000238209|                NULL|           LI Pei-ji|        LI|             Pei-ji|     [LI Peiji, LI Pei...|\n",
      "|A5000244939|                NULL|        D. Yepremian|        D.|          Yepremian|           [D. Yepremian]|\n",
      "|A5000248150|                NULL|            G. Leger|        G.|              Leger|               [G. Leger]|\n",
      "|A5000250788|                NULL|   Andrés McAllister|    Andrés|         McAllister|     [A. Mcallister, A...|\n",
      "|A5000274002|                NULL|  Quentin Charrieras|   Quentin|         Charrieras|     [Quentin Charrieras]|\n",
      "|A5000295324|                NULL|Philippe Johann t...|  Philippe|   Johann to Berens|     [Philippe Johann ...|\n",
      "|A5000307258|                NULL|    Francis Gendreau|   Francis|           Gendreau|     [Francis Gendreau...|\n",
      "|A5000319728|                NULL|         J.P. Alfile|      J.P.|             Alfile|     [J.P. Alfile, J.‐...|\n",
      "+-----------+--------------------+--------------------+----------+-------------------+-------------------------+\n",
      "only showing top 20 rows\n",
      "\n"
     ]
    }
   ],
   "source": [
    "french_authors_oa_wnames.show()"
   ]
  },
  {
   "cell_type": "code",
   "execution_count": 19,
   "id": "ed1bac59-4e74-4bdb-8eef-36138fb8e9a1",
   "metadata": {
    "scrolled": true
   },
   "outputs": [
    {
     "name": "stdout",
     "output_type": "stream",
     "text": [
      "+----------+-------+\n",
      "|n_homonyms|  count|\n",
      "+----------+-------+\n",
      "|         1|1451498|\n",
      "|         2| 101028|\n",
      "|         3|  20292|\n",
      "|         4|   6621|\n",
      "|         5|   2970|\n",
      "|         6|   1584|\n",
      "|         7|   1002|\n",
      "|         8|    630|\n",
      "|         9|    433|\n",
      "|        10|    303|\n",
      "|        11|    245|\n",
      "|        12|    183|\n",
      "|        13|    149|\n",
      "|        14|    128|\n",
      "|        15|     88|\n",
      "|        16|     83|\n",
      "|        17|     66|\n",
      "|        18|     57|\n",
      "|        19|     63|\n",
      "|        20|     44|\n",
      "+----------+-------+\n",
      "only showing top 20 rows\n",
      "\n"
     ]
    }
   ],
   "source": [
    "french_authors_oa_wnames.groupBy('display_name').agg(func.countDistinct('author_id').alias('n_homonyms')).groupBy(\n",
    "    'n_homonyms').count().sort('n_homonyms').show()"
   ]
  },
  {
   "cell_type": "code",
   "execution_count": 18,
   "id": "3b1456cd-e150-4a0c-acd6-a34255ddbe48",
   "metadata": {
    "scrolled": true
   },
   "outputs": [
    {
     "name": "stdout",
     "output_type": "stream",
     "text": [
      "+----------+------+\n",
      "|n_homonyms| count|\n",
      "+----------+------+\n",
      "|         1|844459|\n",
      "|         2| 14001|\n",
      "|         3|  2419|\n",
      "|         4|   799|\n",
      "|         5|   342|\n",
      "|         6|   153|\n",
      "|         7|    79|\n",
      "|         8|    47|\n",
      "|         9|    31|\n",
      "|        10|    21|\n",
      "|        11|     8|\n",
      "|        12|     5|\n",
      "|        13|     5|\n",
      "|        14|     2|\n",
      "|        15|     2|\n",
      "|        16|     1|\n",
      "|        18|     2|\n",
      "|        19|     1|\n",
      "|        21|     1|\n",
      "+----------+------+\n",
      "\n"
     ]
    }
   ],
   "source": [
    "df_au_scanR.groupBy('fullName').agg(func.countDistinct('id').alias('n_homonyms')).groupBy(\n",
    "    'n_homonyms').count().sort('n_homonyms').show()"
   ]
  },
  {
   "cell_type": "markdown",
   "id": "c5c600e4-e458-4335-9a3a-34c48c205f49",
   "metadata": {},
   "source": [
    "# Merge\n",
    "\n",
    "In this part, we use individual-level characteristics to merge authors between the two databases.\n",
    "In each step : \n",
    "* we remove matches from previous steps if any\n",
    "* we match by the characteristics related to the step\n",
    "* we remove duplicates in this characteristic.\n",
    "\n",
    "We perform this merge on measures by order of trustworthiness, including orcid, full name of the author, and initial and last name of the author."
   ]
  },
  {
   "cell_type": "markdown",
   "id": "77ba87af-6b3a-4f8b-9368-0af018992278",
   "metadata": {},
   "source": [
    "## 1) Merge by orcid\n",
    "\n",
    "This is the most trustworthy measure for a merge: a shared ID from another database."
   ]
  },
  {
   "cell_type": "code",
   "execution_count": 21,
   "id": "44d59850-611b-4a0e-8183-2f5c5dd8033e",
   "metadata": {},
   "outputs": [
    {
     "data": {
      "text/plain": [
       "89380"
      ]
     },
     "execution_count": 21,
     "metadata": {},
     "output_type": "execute_result"
    }
   ],
   "source": [
    "merge_orcid = (french_authors_oa_wnames\n",
    "               .select(func.regexp_replace(func.col('orcid'), 'https://orcid.org/', '').alias('orcid'),'author_id')\n",
    "               .join(df_au_scanR.select('id', 'orcid'), on = 'orcid', how = 'inner')\n",
    "              )\n",
    "merge_orcid.count()"
   ]
  },
  {
   "cell_type": "code",
   "execution_count": 26,
   "id": "d34c9319-671e-4346-99fa-2ff88e816413",
   "metadata": {
    "scrolled": true
   },
   "outputs": [],
   "source": [
    "#(df_au_scanR.select('id', 'orcid')\n",
    "# .join(french_authors_oa_wnames\n",
    "#               .select(func.regexp_replace(func.col('orcid'), 'https://orcid.org/', '').alias('orcid'),'author_id'), on = 'orcid', how='left')\n",
    "# .filter(func.col('author_id').isNull())).show()\n",
    "#### some broken orcid links in scanR"
   ]
  },
  {
   "cell_type": "markdown",
   "id": "13cf787c-dd30-4064-8d67-0f4fcc230b1c",
   "metadata": {},
   "source": [
    "## 2) Merge by full name\n",
    "\n",
    "After normalising the full name to ensure that we do not remove matches due to punctuation or accents, we merge on this normalised names and keep authors who do not have homonyms."
   ]
  },
  {
   "cell_type": "code",
   "execution_count": 28,
   "id": "7b972bcc-5be1-41dd-a55a-e8f8ed61bb73",
   "metadata": {},
   "outputs": [
    {
     "data": {
      "text/plain": [
       "DataFrame[fullName: string, author_id: string, n_homonyms: int, id: string, n_homonyms: bigint]"
      ]
     },
     "execution_count": 28,
     "metadata": {},
     "output_type": "execute_result"
    }
   ],
   "source": [
    "merge_name_singular = (french_authors_oa_wnames\n",
    "                       .join(merge_orcid.select('author_id'), on = ['author_id'], how = 'left_anti')\n",
    "                     .withColumn('display_name', func.explode(func.concat(func.col('display_name_alternatives'), func.array(func.col('display_name')))))\n",
    "                     .withColumn('display_name', func.regexp_replace(func.lower(func.col('display_name')), r'[[^A-Za-z0-9 -]]+', ''))  # Remove special characters\n",
    "                     .withColumn('fullName', func.regexp_replace(func.col('display_name'), '  ', ''))  # Remove special characters\n",
    "                     .select('fullName','author_id')\n",
    "                     .withColumn('n_homonyms', func.size(func.collect_set('author_id').over(Window.partitionBy('fullName')))-1)\n",
    "                     .filter(func.col('n_homonyms')==0)\n",
    "                     .join(df_au_scanR\n",
    "                           .join(merge_orcid.select('id'), on = ['id'], how = 'left_anti')\n",
    "                            .withColumn('fullName', func.regexp_replace(func.lower(func.col('fullName')), r'[[^A-Za-z0-9 -]]+', ''))  # Remove special characters\n",
    "                            .withColumn('fullName', func.regexp_replace(func.col('fullName'), '  ', ''))  # Remove special characters\n",
    "                            .select('fullName','id')\n",
    "                            .withColumn('n_homonyms', func.count('id').over(Window.partitionBy('fullName'))-1)\n",
    "                            .filter(func.col('n_homonyms')==0)\n",
    "                           , on = ['fullName'], how = 'inner')\n",
    "\n",
    "                      )\n",
    "merge_name_singular.persist()"
   ]
  },
  {
   "cell_type": "code",
   "execution_count": 29,
   "id": "9ca652f3-e35d-45f6-8bb7-877b841aba42",
   "metadata": {},
   "outputs": [
    {
     "data": {
      "text/plain": [
       "303855"
      ]
     },
     "execution_count": 29,
     "metadata": {},
     "output_type": "execute_result"
    }
   ],
   "source": [
    "merge_name_singular.select('id','author_id').distinct().count()"
   ]
  },
  {
   "cell_type": "code",
   "execution_count": 30,
   "id": "f00fea88-80fc-40c0-8362-3384ee4550a6",
   "metadata": {},
   "outputs": [
    {
     "data": {
      "text/plain": [
       "393235"
      ]
     },
     "execution_count": 30,
     "metadata": {},
     "output_type": "execute_result"
    }
   ],
   "source": [
    "merged_authors = (merge_orcid.select('id','author_id')\n",
    "                  .unionAll(merge_name_singular.select('id','author_id').distinct())\n",
    "                  .distinct()\n",
    "                 )\n",
    "merged_authors.persist()\n",
    "merged_authors.count()"
   ]
  },
  {
   "cell_type": "markdown",
   "id": "d96d0f83-97c9-4cd1-9b30-104f64b58a3f",
   "metadata": {},
   "source": [
    "## 3) Merge by last name and initial\n",
    "\n",
    "Finally, after normalising the full name, we merge by full name and initial, provided that there is no other author who share the same full name and initial, among the unmatched."
   ]
  },
  {
   "cell_type": "code",
   "execution_count": 31,
   "id": "f38af078-6db4-4842-b20b-309775a6db4e",
   "metadata": {},
   "outputs": [
    {
     "data": {
      "text/plain": [
       "DataFrame[lastName: string, initial: string, author_id: string, n_homonyms: int, id: string, n_homonyms: bigint]"
      ]
     },
     "execution_count": 31,
     "metadata": {},
     "output_type": "execute_result"
    }
   ],
   "source": [
    "merge_last_name_singular = (french_authors_oa_wnames\n",
    "                       .join(merged_authors.select('author_id'), on = ['author_id'], how = 'left_anti')\n",
    "                     .withColumn('lastName', func.regexp_replace(func.lower(func.col('last_name')), r'[[^A-Za-z0-9 -]]+', ''))  # Remove special characters\n",
    "                     .withColumn('lastName', func.regexp_replace(func.col('lastName'), '  ', ''))  # Remove special characters\n",
    "                     .withColumn('initial', func.substring(func.col('first_name'),1,1)) \n",
    "                     .select('lastName','author_id','initial')\n",
    "                     .withColumn('n_homonyms', func.size(func.collect_set('author_id').over(Window.partitionBy('lastName','initial')))-1)\n",
    "                     .filter(func.col('n_homonyms')==0)\n",
    "                     .join(df_au_scanR\n",
    "                           .join(merged_authors.select('id'), on = ['id'], how = 'left_anti')\n",
    "                            .withColumn('lastName', func.regexp_replace(func.lower(func.col('lastName')), r'[[^A-Za-z0-9 -]]+', ''))  # Remove special characters\n",
    "                            .withColumn('lastName', func.regexp_replace(func.col('lastName'), '  ', ''))  # Remove special characters\n",
    "                            .withColumn('initial', func.substring(func.col('firstName'),1,1)) \n",
    "                            .select('lastName','id','initial')\n",
    "                            .withColumn('n_homonyms', func.count('id').over(Window.partitionBy('lastName','initial'))-1)\n",
    "                            .filter(func.col('n_homonyms')==0)\n",
    "                           , on = ['lastName','initial'], how = 'inner')\n",
    "\n",
    "                      )\n",
    "merge_last_name_singular.persist()"
   ]
  },
  {
   "cell_type": "code",
   "execution_count": 32,
   "id": "bc25fb4a-2344-45c0-854b-26ee7027bc1e",
   "metadata": {},
   "outputs": [
    {
     "data": {
      "text/plain": [
       "44570"
      ]
     },
     "execution_count": 32,
     "metadata": {},
     "output_type": "execute_result"
    }
   ],
   "source": [
    "merge_last_name_singular.select('id','author_id').distinct().count()"
   ]
  },
  {
   "cell_type": "code",
   "execution_count": 33,
   "id": "1c38a2bd-3087-40b0-997c-d179a160cd9b",
   "metadata": {},
   "outputs": [
    {
     "data": {
      "text/plain": [
       "437805"
      ]
     },
     "execution_count": 33,
     "metadata": {},
     "output_type": "execute_result"
    }
   ],
   "source": [
    "merged_authors = (merged_authors\n",
    "                  .unionAll(merge_last_name_singular.select('id','author_id').distinct())\n",
    "                 )\n",
    "merged_authors.count()"
   ]
  },
  {
   "cell_type": "markdown",
   "id": "2b7e849c-5d8a-4177-8e9d-72dda8596595",
   "metadata": {},
   "source": [
    "## Save"
   ]
  },
  {
   "cell_type": "code",
   "execution_count": 34,
   "id": "8c8bb9fc-b2ee-4054-8298-fbc2c3d40fc1",
   "metadata": {},
   "outputs": [],
   "source": [
    "merged_authors.distinct().write.mode('overwrite').parquet('file:\\\\' + merge_path + 'merge_oa_scanr_authors.parquet')"
   ]
  },
  {
   "cell_type": "markdown",
   "id": "f225ae14-fa1c-43c3-8ae3-5211208f677b",
   "metadata": {},
   "source": [
    "# Try to better matches"
   ]
  },
  {
   "cell_type": "code",
   "execution_count": 35,
   "id": "bfddd599-9c0e-4897-ac13-db658e2a8ef2",
   "metadata": {},
   "outputs": [],
   "source": [
    "merged_authors = spark.read.parquet('file:\\\\' + merge_path + 'merge_oa_scanr_authors.parquet')"
   ]
  },
  {
   "cell_type": "code",
   "execution_count": null,
   "id": "f7d3fb65-66ed-46db-8448-3054dfd4dc9c",
   "metadata": {},
   "outputs": [],
   "source": [
    "merged_authors.count()"
   ]
  },
  {
   "cell_type": "code",
   "execution_count": 36,
   "id": "1534ac95-ab05-4157-84b2-952d09dd3d65",
   "metadata": {},
   "outputs": [
    {
     "name": "stdout",
     "output_type": "stream",
     "text": [
      "+---+---------+\n",
      "| id|author_id|\n",
      "+---+---------+\n",
      "+---+---------+\n",
      "\n"
     ]
    }
   ],
   "source": [
    "merged_authors.filter(func.col('author_id')==\"A5000018637\").show()"
   ]
  },
  {
   "cell_type": "code",
   "execution_count": 37,
   "id": "63f47c20-9a41-41bb-844a-db159f52b0e4",
   "metadata": {},
   "outputs": [
    {
     "name": "stdout",
     "output_type": "stream",
     "text": [
      "+--------------+-----------+\n",
      "|            id|  author_id|\n",
      "+--------------+-----------+\n",
      "|idref031279988|A5084984675|\n",
      "+--------------+-----------+\n",
      "\n"
     ]
    }
   ],
   "source": [
    "merged_authors.filter(func.col('author_id')==\"A5084984675\").show()"
   ]
  },
  {
   "cell_type": "code",
   "execution_count": 38,
   "id": "962fa5de-e1e1-4203-8138-297450a6803d",
   "metadata": {},
   "outputs": [
    {
     "name": "stdout",
     "output_type": "stream",
     "text": [
      "+--------------+-----------+\n",
      "|            id|  author_id|\n",
      "+--------------+-----------+\n",
      "|idref078039886|A5036205978|\n",
      "+--------------+-----------+\n",
      "\n"
     ]
    }
   ],
   "source": [
    "merged_authors.filter(func.col('author_id')==\"A5036205978\").show()"
   ]
  },
  {
   "cell_type": "code",
   "execution_count": 39,
   "id": "de2806a9-e181-467d-ae82-012e62df56b5",
   "metadata": {},
   "outputs": [],
   "source": [
    "spark.catalog.clearCache()\n",
    "spark.stop()"
   ]
  },
  {
   "cell_type": "markdown",
   "id": "72771a54-be9a-4ff1-bc32-95ce31aca68c",
   "metadata": {
    "jp-MarkdownHeadingCollapsed": true
   },
   "source": [
    "# Saving the matched authors - publications dataset\n",
    "\n",
    "Given that we now have a match between authors in scanR and OA, we can now attribute to a scanR id all publications in OA."
   ]
  },
  {
   "cell_type": "code",
   "execution_count": 11,
   "id": "96ee27b4-18d2-42ff-9a64-0e904f9fe01b",
   "metadata": {},
   "outputs": [],
   "source": [
    "df_au_scanR = spark.read.format('parquet').load('file:\\\\' + scanR_path + 'authors.parquet')"
   ]
  },
  {
   "cell_type": "code",
   "execution_count": 114,
   "id": "a3628ead-ec27-4d1a-b1f8-9554bb369b0c",
   "metadata": {},
   "outputs": [
    {
     "name": "stdout",
     "output_type": "stream",
     "text": [
      "+-----------+--------------------+-----------+-------+-----------+-----+\n",
      "|  author_id|                  id|    work_id|initial|   lastName|in_oa|\n",
      "+-----------+--------------------+-----------+-------+-----------+-----+\n",
      "|A5000012049|doi10.3389/fimmu....|W2953229326|      C|      Colas|    1|\n",
      "|A5000042090|doi10.1016/j.rcot...|W2971344161|      L|      Gayet|    1|\n",
      "|A5000042090|doi10.1136/bmjope...|W2972077282|      L|      Gayet|    1|\n",
      "|A5000042090|doi10.1080/102558...|W3028392656|      L|      Gayet|    1|\n",
      "|A5000122934|doi10.1136/annrhe...|W2920682973|      J|   Davignon|    1|\n",
      "|A5000332038|doi10.1016/j.jcin...|W2914461374|      K|     Zannis|    1|\n",
      "|A5000332038|doi10.1080/000153...|W2951243566|      K|     Zannis|    1|\n",
      "|A5000338266|doi10.1016/j.jfo....|W2924529062|      A|     Bennis|    1|\n",
      "|A5000338771|doi10.1186/s12931...|W2969838920|      P|Nesme-Meyer|    1|\n",
      "|A5000446222|doi10.1016/j.semn...|W2972370999|      M|Abdel-Nabey|    1|\n",
      "|A5000450473|doi10.7202/1056304ar|W2920715633|      A|    Louvion|    1|\n",
      "|A5000475858|   haldumas-02898235|W3111704247|      C|   Vannière|    1|\n",
      "|A5000711158|doi10.1530/eje-19...|W2955359980|      Y|      Sagna|    1|\n",
      "|A5000967758|doi10.2174/156802...|W2949269479|      M|      Bazin|    1|\n",
      "|A5000967758|doi10.3390/ph1204...|W2985412651|      M|      Bazin|    1|\n",
      "|A5000990028|doi10.1016/j.jcle...|W2964588458|      C|  Dubuisson|    1|\n",
      "|A5000994244|doi10.1007/978-3-...|W2907257074|      N|    Petcaru|    1|\n",
      "|A5001036805|doi10.1029/2019gb...|W2966519436|      J|     C. Orr|    1|\n",
      "|A5001036805|doi10.1029/2019gb...|W2966519436|      J|         C.|    1|\n",
      "|A5001036805|doi10.1029/2019gb...|W2966519436|      J|        Orr|    1|\n",
      "+-----------+--------------------+-----------+-------+-----------+-----+\n",
      "only showing top 20 rows\n",
      "\n"
     ]
    }
   ],
   "source": [
    "works_au_af_subset = (merge\n",
    "                      .join(works_au_af.filter(func.col('country')=='FR').distinct(),\n",
    "                            on = ['work_id'], how = 'inner')\n",
    "                      .filter(func.col('type').isin('article', 'book-chapter', 'book', 'book-series', 'report'))\n",
    "                      .select('id', 'work_id','author_id')\n",
    "                       .join(merged_authors.select('author_id'), on = ['author_id'], how = 'left_anti')\n",
    "                      .join(df_authors\n",
    "                    .select(func.regexp_replace(func.col('id'), 'https://openalex.org/','').alias('author_id'), \n",
    "                            func.substring(func.col('display_name'),1,1).alias('initial'),\n",
    "                                      func.element_at(func.split(func.col('display_name'), ' ', limit = 2), 2).alias('lastName'))\n",
    "                    .withColumn('lastName', func.array_distinct(func.concat(func.array([func.col('lastName')]),\n",
    "                                                          func.split(func.col('lastName'), ' '))))\n",
    "             .withColumn('lastName', func.explode(func.col('lastName')))\n",
    "                    , on ='author_id', how ='inner')\n",
    "              .withColumn('in_oa', func.lit(1))\n",
    "                      .distinct()\n",
    "                     )\n",
    "\n",
    "works_au_af_subset.cache()\n",
    "works_au_af_subset.show()"
   ]
  },
  {
   "cell_type": "code",
   "execution_count": 115,
   "id": "929b6080-a71e-40dd-bcbf-b9d6167b12cc",
   "metadata": {},
   "outputs": [
    {
     "name": "stdout",
     "output_type": "stream",
     "text": [
      "+-----------+--------------------+-----------+-------+-----------+-----+\n",
      "|  author_id|                  id|    work_id|initial|   lastName|in_oa|\n",
      "+-----------+--------------------+-----------+-------+-----------+-----+\n",
      "|A5000012049|doi10.3389/fimmu....|W2953229326|      C|      Colas|    1|\n",
      "|A5000042090|doi10.1016/j.rcot...|W2971344161|      L|      Gayet|    1|\n",
      "|A5000042090|doi10.1136/bmjope...|W2972077282|      L|      Gayet|    1|\n",
      "|A5000042090|doi10.1080/102558...|W3028392656|      L|      Gayet|    1|\n",
      "|A5000122934|doi10.1136/annrhe...|W2920682973|      J|   Davignon|    1|\n",
      "|A5000332038|doi10.1016/j.jcin...|W2914461374|      K|     Zannis|    1|\n",
      "|A5000332038|doi10.1080/000153...|W2951243566|      K|     Zannis|    1|\n",
      "|A5000338266|doi10.1016/j.jfo....|W2924529062|      A|     Bennis|    1|\n",
      "|A5000338771|doi10.1186/s12931...|W2969838920|      P|Nesme-Meyer|    1|\n",
      "|A5000446222|doi10.1016/j.semn...|W2972370999|      M|Abdel-Nabey|    1|\n",
      "|A5000450473|doi10.7202/1056304ar|W2920715633|      A|    Louvion|    1|\n",
      "|A5000475858|   haldumas-02898235|W3111704247|      C|   Vannière|    1|\n",
      "|A5000711158|doi10.1530/eje-19...|W2955359980|      Y|      Sagna|    1|\n",
      "|A5000967758|doi10.2174/156802...|W2949269479|      M|      Bazin|    1|\n",
      "|A5000967758|doi10.3390/ph1204...|W2985412651|      M|      Bazin|    1|\n",
      "|A5000990028|doi10.1016/j.jcle...|W2964588458|      C|  Dubuisson|    1|\n",
      "|A5000994244|doi10.1007/978-3-...|W2907257074|      N|    Petcaru|    1|\n",
      "|A5001036805|doi10.1029/2019gb...|W2966519436|      J|     C. Orr|    1|\n",
      "|A5001036805|doi10.1029/2019gb...|W2966519436|      J|         C.|    1|\n",
      "|A5001036805|doi10.1029/2019gb...|W2966519436|      J|        Orr|    1|\n",
      "+-----------+--------------------+-----------+-------+-----------+-----+\n",
      "only showing top 20 rows\n",
      "\n"
     ]
    }
   ],
   "source": [
    "works_au_af_subset = works_au_af_subset.distinct()\n",
    "\n",
    "works_au_af_subset.cache()\n",
    "\n",
    "works_au_af_subset.show()"
   ]
  },
  {
   "cell_type": "code",
   "execution_count": 127,
   "id": "e84a25ce-b592-43bb-9b95-1a9a239082b1",
   "metadata": {},
   "outputs": [
    {
     "name": "stdout",
     "output_type": "stream",
     "text": [
      "+------------------------+--------------+-------+\n",
      "|(authors.person IS NULL)|productionType|  count|\n",
      "+------------------------+--------------+-------+\n",
      "|                    true|   publication|4679756|\n",
      "|                   false|   publication|3336054|\n",
      "|                    true|        thesis|  92469|\n",
      "|                   false|        thesis| 817459|\n",
      "|                    true|        patent| 301861|\n",
      "+------------------------+--------------+-------+\n",
      "\n"
     ]
    }
   ],
   "source": [
    "df_scanR.select(func.explode(func.col('authors')).alias('authors'), 'productionType').distinct().groupBy(func.col('authors.person').isNull(), 'productionType').count().show()"
   ]
  },
  {
   "cell_type": "code",
   "execution_count": 128,
   "id": "59e801ea-7426-4ef2-9b94-7e147efd9b10",
   "metadata": {
    "scrolled": true
   },
   "outputs": [
    {
     "name": "stdout",
     "output_type": "stream",
     "text": [
      "root\n",
      " |-- affiliations: array (nullable = true)\n",
      " |    |-- element: string (containsNull = true)\n",
      " |-- authors: array (nullable = true)\n",
      " |    |-- element: struct (containsNull = true)\n",
      " |    |    |-- affiliations: array (nullable = true)\n",
      " |    |    |    |-- element: string (containsNull = true)\n",
      " |    |    |-- country: string (nullable = true)\n",
      " |    |    |-- firstName: string (nullable = true)\n",
      " |    |    |-- fullName: string (nullable = true)\n",
      " |    |    |-- lastName: string (nullable = true)\n",
      " |    |    |-- person: string (nullable = true)\n",
      " |    |    |-- role: string (nullable = true)\n",
      " |    |    |-- rolePatent: array (nullable = true)\n",
      " |    |    |    |-- element: struct (containsNull = true)\n",
      " |    |    |    |    |-- description: string (nullable = true)\n",
      " |    |    |    |    |-- role: string (nullable = true)\n",
      " |    |    |-- typeParticipant: string (nullable = true)\n",
      " |-- authorsCount: long (nullable = true)\n",
      " |-- doiUrl: string (nullable = true)\n",
      " |-- domains: array (nullable = true)\n",
      " |    |-- element: struct (containsNull = true)\n",
      " |    |    |-- code: string (nullable = true)\n",
      " |    |    |-- label: struct (nullable = true)\n",
      " |    |    |    |-- default: string (nullable = true)\n",
      " |    |    |-- level: string (nullable = true)\n",
      " |    |    |-- type: string (nullable = true)\n",
      " |-- externalIds: array (nullable = true)\n",
      " |    |-- element: struct (containsNull = true)\n",
      " |    |    |-- id: string (nullable = true)\n",
      " |    |    |-- type: string (nullable = true)\n",
      " |-- grantedDate: string (nullable = true)\n",
      " |-- id: string (nullable = true)\n",
      " |-- inpadocFamily: long (nullable = true)\n",
      " |-- inventionKind: string (nullable = true)\n",
      " |-- isInternational: boolean (nullable = true)\n",
      " |-- isOa: boolean (nullable = true)\n",
      " |-- isOeb: boolean (nullable = true)\n",
      " |-- keywords: struct (nullable = true)\n",
      " |    |-- default: array (nullable = true)\n",
      " |    |    |-- element: string (containsNull = true)\n",
      " |-- oaEvidence: struct (nullable = true)\n",
      " |    |-- hostType: string (nullable = true)\n",
      " |    |-- landingPageUrl: string (nullable = true)\n",
      " |    |-- license: string (nullable = true)\n",
      " |    |-- pdfUrl: string (nullable = true)\n",
      " |    |-- url: string (nullable = true)\n",
      " |    |-- version: string (nullable = true)\n",
      " |-- patents: array (nullable = true)\n",
      " |    |-- element: struct (containsNull = true)\n",
      " |    |    |-- applicationDate: string (nullable = true)\n",
      " |    |    |-- applicationNumber: string (nullable = true)\n",
      " |    |    |-- grantedDate: string (nullable = true)\n",
      " |    |    |-- id: string (nullable = true)\n",
      " |    |    |-- internatApplicationNumber: string (nullable = true)\n",
      " |    |    |-- ipType: string (nullable = true)\n",
      " |    |    |-- isPriority: boolean (nullable = true)\n",
      " |    |    |-- links: array (nullable = true)\n",
      " |    |    |    |-- element: struct (containsNull = true)\n",
      " |    |    |    |    |-- label: string (nullable = true)\n",
      " |    |    |    |    |-- type: string (nullable = true)\n",
      " |    |    |    |    |-- url: string (nullable = true)\n",
      " |    |    |-- office: string (nullable = true)\n",
      " |    |    |-- publicationDate: string (nullable = true)\n",
      " |    |    |-- publicationNumber: string (nullable = true)\n",
      " |-- productionType: string (nullable = true)\n",
      " |-- projects: array (nullable = true)\n",
      " |    |-- element: string (containsNull = true)\n",
      " |-- publicationDate: string (nullable = true)\n",
      " |-- source: struct (nullable = true)\n",
      " |    |-- isInDoaj: boolean (nullable = true)\n",
      " |    |-- isOa: boolean (nullable = true)\n",
      " |    |-- journalIssns: array (nullable = true)\n",
      " |    |    |-- element: string (containsNull = true)\n",
      " |    |-- publisher: string (nullable = true)\n",
      " |    |-- title: string (nullable = true)\n",
      " |-- submissionDate: string (nullable = true)\n",
      " |-- summary: struct (nullable = true)\n",
      " |    |-- default: string (nullable = true)\n",
      " |    |-- en: string (nullable = true)\n",
      " |    |-- fr: string (nullable = true)\n",
      " |-- title: struct (nullable = true)\n",
      " |    |-- af: string (nullable = true)\n",
      " |    |-- an: string (nullable = true)\n",
      " |    |-- ar: string (nullable = true)\n",
      " |    |-- az: string (nullable = true)\n",
      " |    |-- be: string (nullable = true)\n",
      " |    |-- bg: string (nullable = true)\n",
      " |    |-- bn: string (nullable = true)\n",
      " |    |-- bo: string (nullable = true)\n",
      " |    |-- br: string (nullable = true)\n",
      " |    |-- bs: string (nullable = true)\n",
      " |    |-- ca: string (nullable = true)\n",
      " |    |-- co: string (nullable = true)\n",
      " |    |-- cs: string (nullable = true)\n",
      " |    |-- cy: string (nullable = true)\n",
      " |    |-- da: string (nullable = true)\n",
      " |    |-- de: string (nullable = true)\n",
      " |    |-- default: string (nullable = true)\n",
      " |    |-- el: string (nullable = true)\n",
      " |    |-- en: string (nullable = true)\n",
      " |    |-- eo: string (nullable = true)\n",
      " |    |-- es: string (nullable = true)\n",
      " |    |-- et: string (nullable = true)\n",
      " |    |-- eu: string (nullable = true)\n",
      " |    |-- fa: string (nullable = true)\n",
      " |    |-- fi: string (nullable = true)\n",
      " |    |-- fr: string (nullable = true)\n",
      " |    |-- fy: string (nullable = true)\n",
      " |    |-- ga: string (nullable = true)\n",
      " |    |-- gb: string (nullable = true)\n",
      " |    |-- gd: string (nullable = true)\n",
      " |    |-- gl: string (nullable = true)\n",
      " |    |-- gu: string (nullable = true)\n",
      " |    |-- he: string (nullable = true)\n",
      " |    |-- hi: string (nullable = true)\n",
      " |    |-- hr: string (nullable = true)\n",
      " |    |-- ht: string (nullable = true)\n",
      " |    |-- hu: string (nullable = true)\n",
      " |    |-- hy: string (nullable = true)\n",
      " |    |-- ia: string (nullable = true)\n",
      " |    |-- id: string (nullable = true)\n",
      " |    |-- ie: string (nullable = true)\n",
      " |    |-- in: string (nullable = true)\n",
      " |    |-- io: string (nullable = true)\n",
      " |    |-- is: string (nullable = true)\n",
      " |    |-- it: string (nullable = true)\n",
      " |    |-- ja: string (nullable = true)\n",
      " |    |-- jv: string (nullable = true)\n",
      " |    |-- kk: string (nullable = true)\n",
      " |    |-- km: string (nullable = true)\n",
      " |    |-- kn: string (nullable = true)\n",
      " |    |-- ko: string (nullable = true)\n",
      " |    |-- ku: string (nullable = true)\n",
      " |    |-- kw: string (nullable = true)\n",
      " |    |-- la: string (nullable = true)\n",
      " |    |-- lb: string (nullable = true)\n",
      " |    |-- lt: string (nullable = true)\n",
      " |    |-- lv: string (nullable = true)\n",
      " |    |-- mg: string (nullable = true)\n",
      " |    |-- mk: string (nullable = true)\n",
      " |    |-- ml: string (nullable = true)\n",
      " |    |-- mn: string (nullable = true)\n",
      " |    |-- mr: string (nullable = true)\n",
      " |    |-- ms: string (nullable = true)\n",
      " |    |-- my: string (nullable = true)\n",
      " |    |-- nb: string (nullable = true)\n",
      " |    |-- ne: string (nullable = true)\n",
      " |    |-- nl: string (nullable = true)\n",
      " |    |-- nn: string (nullable = true)\n",
      " |    |-- no: string (nullable = true)\n",
      " |    |-- oc: string (nullable = true)\n",
      " |    |-- pl: string (nullable = true)\n",
      " |    |-- po: string (nullable = true)\n",
      " |    |-- ps: string (nullable = true)\n",
      " |    |-- pt: string (nullable = true)\n",
      " |    |-- qu: string (nullable = true)\n",
      " |    |-- rm: string (nullable = true)\n",
      " |    |-- ro: string (nullable = true)\n",
      " |    |-- ru: string (nullable = true)\n",
      " |    |-- sa: string (nullable = true)\n",
      " |    |-- sh: string (nullable = true)\n",
      " |    |-- si: string (nullable = true)\n",
      " |    |-- sk: string (nullable = true)\n",
      " |    |-- sl: string (nullable = true)\n",
      " |    |-- sq: string (nullable = true)\n",
      " |    |-- sr: string (nullable = true)\n",
      " |    |-- su: string (nullable = true)\n",
      " |    |-- sv: string (nullable = true)\n",
      " |    |-- sw: string (nullable = true)\n",
      " |    |-- ta: string (nullable = true)\n",
      " |    |-- te: string (nullable = true)\n",
      " |    |-- th: string (nullable = true)\n",
      " |    |-- tl: string (nullable = true)\n",
      " |    |-- tr: string (nullable = true)\n",
      " |    |-- tt: string (nullable = true)\n",
      " |    |-- uk: string (nullable = true)\n",
      " |    |-- ur: string (nullable = true)\n",
      " |    |-- uz: string (nullable = true)\n",
      " |    |-- vi: string (nullable = true)\n",
      " |    |-- vo: string (nullable = true)\n",
      " |    |-- wa: string (nullable = true)\n",
      " |    |-- zh: string (nullable = true)\n",
      " |-- type: string (nullable = true)\n",
      " |-- year: long (nullable = true)\n",
      "\n"
     ]
    }
   ],
   "source": [
    "df_scanR.printSchema()"
   ]
  },
  {
   "cell_type": "code",
   "execution_count": null,
   "id": "f2485a5f-f925-4c26-8927-d85479eed900",
   "metadata": {},
   "outputs": [],
   "source": [
    "authors_scanR = (merge.select('id','work_id')\n",
    "                 .join(df_scanR.distinct(),\n",
    "                            on = ['id'], how = 'inner')\n",
    "                 \n",
    "                 .filter(func.col('type').isin('proceedings', 'book-chapter','book','journal-article'))\n",
    "                 .withColumn('authors', func.explode(func.col('authors')))\n",
    "                 .withColumn('af', func.explode(func.col('authors.affiliations')))\n",
    "                 .withColumn('idref', func.regexp_replace(func.lower(func.col(\"authors.id_name\")), 'idref',''))\n",
    "                       .join(merged_authors.select(func.col('id').alias('idref')), on = ['idref'], how = 'left_anti')\n",
    "                 .withColumn('firstName', func.regexp_replace(func.col('authors.firstName'), '\\.', ''))\n",
    "                 .withColumn('lastName', func.regexp_replace(func.col('authors.lastName'), '\\.', ''))\n",
    "                 .withColumn('fullName', func.regexp_replace(func.col('authors.fullName'), '\\.', ''))\n",
    "                 .withColumn('initial', func.substring(func.col('firstName'),1,1))\n",
    "                 .withColumn('idref', func.when((func.col('idref').isNull()) & (func.col('productionType')!= 'thesis'), \n",
    "                                                func.col('fullName'))\n",
    "                             .when( (func.col('idref').isNull()) & (func.col('productionType')=='thesis'),\n",
    "                                                                    func.first(func.col('idref'), ignorenulls = True).over(Window.partitionBy('lastName','initial')))\n",
    "                             .otherwise(func.col('idref')))\n",
    "                 .groupBy('idref',\"id\",'work_id')\n",
    "                 .agg( *[func.first(col).alias(col.replace('authors.', '')) for col in ['firstName', 'initial', 'fullName', 'lastName']],\n",
    "                         func.first('title.default').alias('titles_scanR'),\n",
    "                         func.collect_set('af').alias('institution_scanR'),\n",
    "                         func.array_distinct(func.flatten(func.collect_set(func.col('domains')))).alias('fields_scanR')\n",
    "                     )\n",
    "                    .withColumn('in_scanR', func.lit(1))\n",
    "                    .withColumn('lastName', func.array_distinct(func.concat(func.array([func.col('lastName')]),\n",
    "                                                          func.split(func.col('lastName'), ' '))))\n",
    "                    .withColumn('lastName', func.explode(func.col('lastName')))\n",
    "                    #.withColumn('initial', func.substring(func.col('firstName'),1,1))\n",
    "                )\n",
    "authors_scanR.cache()\n",
    "authors_scanR.show()"
   ]
  },
  {
   "cell_type": "code",
   "execution_count": null,
   "id": "645704d7-72b5-48a5-9466-744605a7e6ab",
   "metadata": {},
   "outputs": [],
   "source": [
    "authors_scanR.filter((func.col('lastName')=='Aaron') & (func.col('initial') == 'J')).select('idref', 'fullName','initial','lastName').show()"
   ]
  },
  {
   "cell_type": "code",
   "execution_count": 102,
   "id": "3da83697-c9b6-4b11-abc1-33110757b721",
   "metadata": {},
   "outputs": [
    {
     "name": "stdout",
     "output_type": "stream",
     "text": [
      "+--------------------+--------------------+------------+--------------------+--------------------+--------------------+-----------+-------------------+-------------+-------------+---------------+-----+-----+--------------------+----------+-------+--------------+--------+-------------------+--------------------+--------------+--------------------+--------------------+---------------+----+\n",
      "|        affiliations|             authors|authorsCount|              doiUrl|             domains|         externalIds|grantedDate|                 id|inpadocFamily|inventionKind|isInternational| isOa|isOeb|            keywords|oaEvidence|patents|productionType|projects|    publicationDate|              source|submissionDate|             summary|               title|           type|year|\n",
      "+--------------------+--------------------+------------+--------------------+--------------------+--------------------+-----------+-------------------+-------------+-------------+---------------+-----+-----+--------------------+----------+-------+--------------+--------+-------------------+--------------------+--------------+--------------------+--------------------+---------------+----+\n",
      "|[130026123, grid....|{[grid.466400.0, ...|           4|http://doi.org/10...|[{Q131656, {pesti...|[{10.1002/bio.362...|       NULL|doi10.1002/bio.3628|         NULL|         NULL|           NULL|false| NULL|{[EC50 database, ...|      NULL|   NULL|   publication|    NULL|2019-04-04T00:00:00|{false, false, [1...|          NULL|{An EC 50 databas...|{NULL, NULL, NULL...|journal-article|2019|\n",
      "|[201019063G, univ...|{[grid.466400.0, ...|           6|http://doi.org/10...|[{Q191807, {fluor...|[{10.1002/bio.362...|       NULL|doi10.1002/bio.3626|         NULL|         NULL|           NULL|false| NULL|{[copper(II), ele...|      NULL|   NULL|   publication|    NULL|2019-04-10T00:00:00|{false, false, [1...|          NULL|{To develop condu...|{NULL, NULL, NULL...|journal-article|2019|\n",
      "|[201019063G, univ...|{[grid.466400.0, ...|          10|http://doi.org/10...|[{Q188651, {photo...|[{10.1002/bio.361...|       NULL|doi10.1002/bio.3612|         NULL|         NULL|           NULL|false| NULL|{[diflubenzuron a...|      NULL|   NULL|   publication|    NULL|2019-02-19T00:00:00|{false, false, [1...|          NULL|{Diflubenzuron (D...|{NULL, NULL, NULL...|journal-article|2019|\n",
      "|[grid.218069.4, 1...|{NULL, NULL, Jean...|          10|http://doi.org/10...|[{Q730675, {Quant...|[{10.1002/poc.401...|       NULL|doi10.1002/poc.4014|         NULL|         NULL|           NULL|false| NULL|{[coumarins, elec...|      NULL|   NULL|   publication|    NULL|2019-12-06T00:00:00|{false, false, [0...|          NULL|{Because of their...|{NULL, NULL, NULL...|journal-article|2019|\n",
      "+--------------------+--------------------+------------+--------------------+--------------------+--------------------+-----------+-------------------+-------------+-------------+---------------+-----+-----+--------------------+----------+-------+--------------+--------+-------------------+--------------------+--------------+--------------------+--------------------+---------------+----+\n",
      "\n"
     ]
    }
   ],
   "source": [
    "df_scanR.withColumn('authors', func.explode(func.col('authors'))).filter(func.col('authors.fullName')=='Jean‐Jacques Aaron').show()"
   ]
  },
  {
   "cell_type": "code",
   "execution_count": 103,
   "id": "ca362c39-86d1-4437-aa94-76861604ceab",
   "metadata": {},
   "outputs": [
    {
     "data": {
      "text/plain": [
       "314867"
      ]
     },
     "execution_count": 103,
     "metadata": {},
     "output_type": "execute_result"
    }
   ],
   "source": [
    "authors_scanR.select('idref').distinct().count()"
   ]
  },
  {
   "cell_type": "code",
   "execution_count": null,
   "id": "370c8111-405c-432f-be38-c2894025cddc",
   "metadata": {},
   "outputs": [],
   "source": [
    "test_merge = (works_au_af_subset\n",
    "              .join(authors_scanR\n",
    "                    , on = ['id','work_id','lastName','initial'], how = 'inner')\n",
    "              .select('idref', 'author_id', 'fullName')\n",
    "             )\n",
    "#works_au_af_subset.unpersist()\n",
    "#authors_scanR.unpersist()\n",
    "test_merge.cache()\n",
    "test_merge.show()"
   ]
  },
  {
   "cell_type": "code",
   "execution_count": null,
   "id": "e6ccf4b7-bdf6-42b9-9d79-322f0a2eb0e0",
   "metadata": {},
   "outputs": [],
   "source": [
    "test_merge.distinct().count()"
   ]
  },
  {
   "cell_type": "code",
   "execution_count": 123,
   "id": "8d94c2c1-b161-40c4-873f-ec102797f77f",
   "metadata": {},
   "outputs": [
    {
     "name": "stdout",
     "output_type": "stream",
     "text": [
      "+-----+---------+--------+\n",
      "|idref|author_id|fullName|\n",
      "+-----+---------+--------+\n",
      "+-----+---------+--------+\n",
      "\n"
     ]
    }
   ],
   "source": [
    "authors_merge.filter(func.col('fullName').rlike('Wargon')).show()"
   ]
  },
  {
   "cell_type": "code",
   "execution_count": 93,
   "id": "6d6d6da3-da4e-475b-bcf2-d0582d03b11a",
   "metadata": {},
   "outputs": [
    {
     "name": "stdout",
     "output_type": "stream",
     "text": [
      "+-----------+--------------------+-----------+-------+--------+-----+\n",
      "|  author_id|                  id|    work_id|initial|lastName|in_oa|\n",
      "+-----------+--------------------+-----------+-------+--------+-----+\n",
      "|A5063683397|doi10.1109/essder...|W2985640365|      O|  Moreau|    1|\n",
      "+-----------+--------------------+-----------+-------+--------+-----+\n",
      "\n"
     ]
    }
   ],
   "source": [
    "works_au_af_subset.filter((func.col('lastName')=='Moreau') & (func.col('initial')=='O')).show()"
   ]
  },
  {
   "cell_type": "code",
   "execution_count": null,
   "id": "40493777-aafe-4c07-99f0-74f805905079",
   "metadata": {},
   "outputs": [],
   "source": [
    "test_merge.distinct().write.mode('overwrite').parquet('file:\\\\' + merge_path + 'merge_oa_scanr_authors.parquet')"
   ]
  },
  {
   "cell_type": "code",
   "execution_count": 10,
   "id": "3745fc2b-7320-4e52-9d0c-4af129954bef",
   "metadata": {},
   "outputs": [],
   "source": [
    "authors_merge = spark.read.format('parquet').load('file:\\\\' + merge_path + 'merge_oa_scanr_authors.parquet')"
   ]
  },
  {
   "cell_type": "code",
   "execution_count": 12,
   "id": "09abd84a-5136-45e0-ac5f-5e81e422a875",
   "metadata": {},
   "outputs": [
    {
     "name": "stdout",
     "output_type": "stream",
     "text": [
      "+--------------+-----------+\n",
      "|            id|  author_id|\n",
      "+--------------+-----------+\n",
      "|idref031279988|A5084984675|\n",
      "+--------------+-----------+\n",
      "\n"
     ]
    }
   ],
   "source": [
    "authors_merge.filter(func.col('author_id')==\"A5084984675\").show()"
   ]
  },
  {
   "cell_type": "code",
   "execution_count": 14,
   "id": "efedf326-9ed1-49e1-8709-7c5ea77b9047",
   "metadata": {},
   "outputs": [
    {
     "name": "stdout",
     "output_type": "stream",
     "text": [
      "+-----------+-------+------+\n",
      "|n_author_id|n_idref| count|\n",
      "+-----------+-------+------+\n",
      "|          1|      1|407925|\n",
      "|          2|      1|    86|\n",
      "|          1|      2|  5774|\n",
      "|          1|      3|   234|\n",
      "|          1|      4|    40|\n",
      "|          1|      5|    10|\n",
      "|          1|      8|     8|\n",
      "|          1|     14|    14|\n",
      "|          1|     15|    15|\n",
      "+-----------+-------+------+\n",
      "\n"
     ]
    }
   ],
   "source": [
    "(authors_merge\n",
    " .select(func.col('id').alias('idref'),'author_id').distinct()\n",
    " .withColumn('n_author_id', func.size(func.collect_set('author_id').over(Window.partitionBy('idref'))))\n",
    " .withColumn('n_idref', func.size(func.collect_set('idref').over(Window.partitionBy('author_id'))))\n",
    " .groupBy('n_author_id', 'n_idref')\n",
    " .count()\n",
    " .sort('n_idref', 'n_author_id')\n",
    ").show()"
   ]
  },
  {
   "cell_type": "code",
   "execution_count": 119,
   "id": "e7944390-e2cc-44fd-a675-61b7de9fc60f",
   "metadata": {},
   "outputs": [
    {
     "name": "stdout",
     "output_type": "stream",
     "text": [
      "+-----------------+-----------+-----------------+-----------+-------+\n",
      "|            idref|  author_id|         fullName|n_author_id|n_idref|\n",
      "+-----------------+-----------+-----------------+-----------+-------+\n",
      "|            P Roy|A5003198132|            P Roy|          4|      3|\n",
      "|        030905125|A5012521997|    Martine Bagot|          4|      3|\n",
      "|         C Thomas|A5018163325|         C Thomas|          4|      3|\n",
      "|Sébastien Lambert|A5027556690|Sébastien Lambert|          4|      3|\n",
      "|          A Boyer|A5029770659|          A Boyer|          4|      3|\n",
      "|           F Joly|A5042461515|           F Joly|          4|      3|\n",
      "|   Philippe Meyer|A5043392406|   Philippe Meyer|          4|      3|\n",
      "|        186182716|A5046200693| Jean Luc do Rego|          4|      3|\n",
      "|           C Roux|A5048640756|           C Roux|          4|      3|\n",
      "|        070270198|A5049614678|      David Cohen|          4|      3|\n",
      "|      David Cohen|A5049614678|      David Cohen|          4|      3|\n",
      "|           P Joly|A5050063412|           P Joly|          4|      3|\n",
      "|           P Joly|A5050985511|           P Joly|          4|      3|\n",
      "|        L Bernard|A5054112348|        L Bernard|          4|      3|\n",
      "|  Philippe Robert|A5055171716|  Philippe Robert|          4|      3|\n",
      "|        162420315|A5056326289|          L Boyer|          4|      3|\n",
      "|           P Joly|A5059625193|           P Joly|          4|      3|\n",
      "|        187519838|A5066121845|          S Petit|          4|      3|\n",
      "|        030905125|A5068469347|    Martine Bagot|          4|      3|\n",
      "|         M Robert|A5081448523|         M Robert|          4|      3|\n",
      "+-----------------+-----------+-----------------+-----------+-------+\n",
      "only showing top 20 rows\n",
      "\n"
     ]
    }
   ],
   "source": [
    "(authors_merge\n",
    " .distinct()\n",
    " .groupBy('idref','author_id').agg(func.first('fullName').alias('fullName'))\n",
    " .withColumn('n_author_id', func.size(func.collect_set('author_id').over(Window.partitionBy('idref'))))\n",
    " .withColumn('n_idref', func.size(func.collect_set('idref').over(Window.partitionBy('author_id'))))\n",
    " .filter( (func.col('n_author_id')==4) & (func.col('n_idref')==3))).sort('author_id','idref').show()"
   ]
  },
  {
   "cell_type": "code",
   "execution_count": 125,
   "id": "0359504c-3da8-4298-adb1-9f5e583de31d",
   "metadata": {},
   "outputs": [
    {
     "name": "stdout",
     "output_type": "stream",
     "text": [
      "+-----+-----------+--------+\n",
      "|idref|  author_id|fullName|\n",
      "+-----+-----------+--------+\n",
      "|P Roy|A5003198132|   P Roy|\n",
      "|P Roy|A5003556516|   P Roy|\n",
      "|P Roy|A5047084156|   P Roy|\n",
      "|P Roy|A5082103263|   P Roy|\n",
      "+-----+-----------+--------+\n",
      "\n"
     ]
    }
   ],
   "source": [
    "authors_merge.distinct().groupBy('idref','author_id').agg(func.first('fullName').alias('fullName')).filter(func.col('idref')=='P Roy').show()"
   ]
  },
  {
   "cell_type": "code",
   "execution_count": 40,
   "id": "e2bb9b09-26f6-4d83-a02f-497f7810657c",
   "metadata": {},
   "outputs": [
    {
     "data": {
      "text/plain": [
       "[Row(fullName='Jean-Jacques Aaron', person='idref073491616', productionType='thesis'),\n",
       " Row(fullName='Jean-Jacques Aaron', person='idref073491616', productionType='publication')]"
      ]
     },
     "execution_count": 40,
     "metadata": {},
     "output_type": "execute_result"
    }
   ],
   "source": [
    "(df_scanR\n",
    " .withColumn('authors', func.explode(func.col('authors')))\n",
    " .filter( (func.col('authors.fullName')==\"\"))\n",
    ".select('authors.fullName', 'authors.person','productionType').distinct()).collect()"
   ]
  },
  {
   "cell_type": "code",
   "execution_count": null,
   "id": "4f859e36-42c3-4b26-a073-adf3ddf76d1a",
   "metadata": {},
   "outputs": [],
   "source": [
    "merge_pubs_oa_2 = (works_au_af\n",
    "                   .join(merge, on = 'work_id', how = \"left_anti\")\n",
    " .select('work_id','author_id', 'title')\n",
    " .distinct()\n",
    " .join(test_merge.select('author_id', 'idref', func.lit(1).alias('merged')), on = ['author_id'], how = 'inner')\n",
    "                  )\n",
    "merge_pubs_oa_2.count()"
   ]
  },
  {
   "cell_type": "code",
   "execution_count": 12,
   "id": "4b1b9977-5d48-418f-a50d-cffbf3f81e82",
   "metadata": {},
   "outputs": [],
   "source": [
    "merge_pubs_scanR_2 = (df_scanR\n",
    "                   .join(merge, on = 'id', how = \"left_anti\")\n",
    "                 .withColumn('authors', func.explode(func.col('authors')))\n",
    "                 .withColumn('af', func.explode(func.col('authors.affiliations')))\n",
    "                 .withColumn('idref', func.regexp_replace(func.lower(func.col(\"authors.person\")), 'idref',''))\n",
    "                 .withColumn('idref', func.when(func.col('idref').isNull(), func.col('authors.fullName')).otherwise(func.col('idref')))\n",
    "             .select('id','idref',func.col('title').alias('title_scanR'))\n",
    "             .distinct()\n",
    "             .join(test_merge.select('idref', \"author_id\", func.lit(1).alias('merged')), on = ['idref'], how = 'inner')\n",
    "            )"
   ]
  },
  {
   "cell_type": "code",
   "execution_count": 13,
   "id": "9399026e-f75e-4191-9d96-27a20380706b",
   "metadata": {},
   "outputs": [
    {
     "data": {
      "text/plain": [
       "133515722895"
      ]
     },
     "execution_count": 13,
     "metadata": {},
     "output_type": "execute_result"
    }
   ],
   "source": [
    "merge_pub_2 = (merge_pubs_oa_2\n",
    "               .join(merge_pubs_scanR_2, on = ['author_id'], how = 'inner')\n",
    "              )\n",
    "merge_pub_2.count()"
   ]
  },
  {
   "cell_type": "code",
   "execution_count": null,
   "id": "ea61390b-db51-4e08-9c11-84b6fefb169b",
   "metadata": {},
   "outputs": [],
   "source": [
    "merge_pub_2.cache()\n",
    "merge_pub_2 = (merge_pub_2\n",
    "               .select('work_id', 'id','title','title_scanR')\n",
    "               .distinct()\n",
    "               .withColumn('n_w_id', func.count('work_id').over(Window.partitionBy('id')))n\n",
    "               .withColumn('n_s_id', func.count('id').over(Window.partitionBy('work_id')))\n",
    "              )\n",
    "\n",
    "(merge_pub_2.groupBy('n_w_id', 'n_s_id').count().sort('n_w_id', 'n_s_id').show())"
   ]
  },
  {
   "cell_type": "code",
   "execution_count": 14,
   "id": "d7024b8f-e158-4b53-9b41-19f1eab58890",
   "metadata": {
    "scrolled": true
   },
   "outputs": [
    {
     "name": "stdout",
     "output_type": "stream",
     "text": [
      "+-----------+-----------+--------------------+---------+------+---------+--------------------+--------------------+------+\n",
      "|  author_id|    work_id|               title|    idref|merged|    idref|                  id|         title_scanR|merged|\n",
      "+-----------+-----------+--------------------+---------+------+---------+--------------------+--------------------+------+\n",
      "|A5000157973|W2796890443|Le droit musulman...|116087307|     1|116087307|doi10.7202/1034205ar|{NULL, NULL, NULL...|     1|\n",
      "|A5000157973|W2796890443|Le droit musulman...|116087307|     1|116087307|doi10.7202/1034205ar|{NULL, NULL, NULL...|     1|\n",
      "|A5000157973|W2796890443|Le droit musulman...|116087307|     1|116087307|doi10.7202/1034205ar|{NULL, NULL, NULL...|     1|\n",
      "|A5000157973|W2796890443|Le droit musulman...|116087307|     1|116087307|     halhal-03065547|{NULL, NULL, NULL...|     1|\n",
      "|A5000157973|W2796890443|Le droit musulman...|116087307|     1|116087307|     halhal-03065547|{NULL, NULL, NULL...|     1|\n",
      "|A5000157973|W2796890443|Le droit musulman...|116087307|     1|116087307|     halhal-03065547|{NULL, NULL, NULL...|     1|\n",
      "|A5000157973|W2796890443|Le droit musulman...|116087307|     1|116087307|doi10.1051/medsci...|{NULL, NULL, NULL...|     1|\n",
      "|A5000157973|W2796890443|Le droit musulman...|116087307|     1|116087307|doi10.1051/medsci...|{NULL, NULL, NULL...|     1|\n",
      "|A5000157973|W2796890443|Le droit musulman...|116087307|     1|116087307|doi10.1051/medsci...|{NULL, NULL, NULL...|     1|\n",
      "|A5000157973|W2796890443|Le droit musulman...|116087307|     1|116087307|     halhal-02458652|{NULL, NULL, NULL...|     1|\n",
      "|A5000157973|W2796890443|Le droit musulman...|116087307|     1|116087307|     halhal-02458652|{NULL, NULL, NULL...|     1|\n",
      "|A5000157973|W2796890443|Le droit musulman...|116087307|     1|116087307|     halhal-02458652|{NULL, NULL, NULL...|     1|\n",
      "|A5000157973|W2796890443|Le droit musulman...|116087307|     1|116087307|     halhal-03849599|{NULL, NULL, NULL...|     1|\n",
      "|A5000157973|W2796890443|Le droit musulman...|116087307|     1|116087307|     halhal-03849599|{NULL, NULL, NULL...|     1|\n",
      "|A5000157973|W2796890443|Le droit musulman...|116087307|     1|116087307|     halhal-03849599|{NULL, NULL, NULL...|     1|\n",
      "|A5000157973|W2796890443|Le droit musulman...|116087307|     1|116087307|     halhal-03906201|{NULL, NULL, NULL...|     1|\n",
      "|A5000157973|W2796890443|Le droit musulman...|116087307|     1|116087307|     halhal-03906201|{NULL, NULL, NULL...|     1|\n",
      "|A5000157973|W2796890443|Le droit musulman...|116087307|     1|116087307|     halhal-03906201|{NULL, NULL, NULL...|     1|\n",
      "|A5000157973|W2796890443|Le droit musulman...|116087307|     1|116087307|     halhal-03913398|{NULL, NULL, NULL...|     1|\n",
      "|A5000157973|W2796890443|Le droit musulman...|116087307|     1|116087307|     halhal-03913398|{NULL, NULL, NULL...|     1|\n",
      "+-----------+-----------+--------------------+---------+------+---------+--------------------+--------------------+------+\n",
      "only showing top 20 rows\n",
      "\n"
     ]
    }
   ],
   "source": [
    "merge_pub_2.show()"
   ]
  }
 ],
 "metadata": {
  "kernelspec": {
   "display_name": "Python 3 (ipykernel)",
   "language": "python",
   "name": "python3"
  },
  "language_info": {
   "codemirror_mode": {
    "name": "ipython",
    "version": 3
   },
   "file_extension": ".py",
   "mimetype": "text/x-python",
   "name": "python",
   "nbconvert_exporter": "python",
   "pygments_lexer": "ipython3",
   "version": "3.12.3"
  }
 },
 "nbformat": 4,
 "nbformat_minor": 5
}
