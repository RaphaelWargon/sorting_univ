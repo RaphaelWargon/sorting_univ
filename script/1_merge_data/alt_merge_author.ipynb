{
 "cells": [
  {
   "cell_type": "markdown",
   "id": "8c0d2b0d-28e3-4f90-b46d-e26b18c6803e",
   "metadata": {},
   "source": [
    "# Alternative method for merging OpenAlex and scanR author profiles\n",
    "\n",
    "In this notebook, we attempt to link OpenAlex authors to their scanR profile using the fact that openAlex harvested theses.fr, the website hosting dissertations for French PhD students.\n",
    "Therefore, we first link the theses that are in OpenAlex to their scanR entry, and simply use the fact that each dissertation is single-authored and entered on the theses.fr website manually in order to have a less ambiguous identifiers translation between the two databases. "
   ]
  },
  {
   "cell_type": "code",
   "execution_count": 1,
   "id": "a6e93bb8-f50f-4379-9bc3-b013a506d40b",
   "metadata": {},
   "outputs": [
    {
     "name": "stdout",
     "output_type": "stream",
     "text": [
      "C:\\Users\\common\\projet_3_lru\\sorting_univ\\script/headers/\n",
      "merge_authors_scanr_2\n"
     ]
    }
   ],
   "source": [
    "import os\n",
    "base_path = os.path.dirname(os.path.abspath(\"\"))\n",
    "base_path = base_path + \"/headers/\"\n",
    "print(base_path)\n",
    "header_path = base_path + 'header_data_treatment.ipynb'\n",
    "app_name = \"merge_authors_scanr_2\"\n",
    "%run  $header_path $app_name=app_name"
   ]
  },
  {
   "cell_type": "markdown",
   "id": "6c3d4659-d13d-45c4-9925-eb16d3452485",
   "metadata": {},
   "source": [
    "# Load data"
   ]
  },
  {
   "cell_type": "code",
   "execution_count": 2,
   "id": "5d31ead6-a9f6-4980-b75c-a1ca157b618d",
   "metadata": {},
   "outputs": [],
   "source": [
    "df_scanR = spark.read.format('parquet').load('file:\\\\' + scanR_path + '/publications.parquet')\n",
    "merge_path = main_path_openalex.replace(\"data_extracted\",'merge')\n",
    "df_works_theses = (spark.read.format('parquet').load('file:\\\\' + main_path_openalex + 'works.parquet')\n",
    "                    #.filter(func.col('type') == 'dissertation')\n",
    "                    .select(func.col('primary_location.landing_page_url').alias('link'), 'id', 'authorships')\n",
    "                    .filter(func.col('link').contains('theses.fr'))\n",
    "           )"
   ]
  },
  {
   "cell_type": "code",
   "execution_count": 3,
   "id": "1974ce95-92b7-4e0d-abec-4670ae5d3c84",
   "metadata": {
    "scrolled": true
   },
   "outputs": [
    {
     "name": "stdout",
     "output_type": "stream",
     "text": [
      "root\n",
      " |-- affiliations: array (nullable = true)\n",
      " |    |-- element: struct (containsNull = true)\n",
      " |    |    |-- acronym: struct (nullable = true)\n",
      " |    |    |    |-- default: string (nullable = true)\n",
      " |    |    |    |-- en: string (nullable = true)\n",
      " |    |    |    |-- fr: string (nullable = true)\n",
      " |    |    |-- id: string (nullable = true)\n",
      " |    |    |-- id_name: string (nullable = true)\n",
      " |    |    |-- isFrench: boolean (nullable = true)\n",
      " |    |    |-- kind: array (nullable = true)\n",
      " |    |    |    |-- element: string (containsNull = true)\n",
      " |    |    |-- label: struct (nullable = true)\n",
      " |    |    |    |-- default: string (nullable = true)\n",
      " |    |    |    |-- en: string (nullable = true)\n",
      " |    |    |    |-- fr: string (nullable = true)\n",
      " |    |    |-- level: string (nullable = true)\n",
      " |    |    |-- mainAddress: struct (nullable = true)\n",
      " |    |    |    |-- address: string (nullable = true)\n",
      " |    |    |    |-- city: string (nullable = true)\n",
      " |    |    |    |-- country: string (nullable = true)\n",
      " |    |    |    |-- gps: struct (nullable = true)\n",
      " |    |    |    |    |-- lat: double (nullable = true)\n",
      " |    |    |    |    |-- lon: double (nullable = true)\n",
      " |    |    |    |-- postcode: string (nullable = true)\n",
      " |    |    |-- status: string (nullable = true)\n",
      " |-- authors: array (nullable = true)\n",
      " |    |-- element: struct (containsNull = true)\n",
      " |    |    |-- affiliations: array (nullable = true)\n",
      " |    |    |    |-- element: struct (containsNull = true)\n",
      " |    |    |    |    |-- BNF: string (nullable = true)\n",
      " |    |    |    |    |-- ISNI: string (nullable = true)\n",
      " |    |    |    |    |-- acronym: array (nullable = true)\n",
      " |    |    |    |    |    |-- element: string (containsNull = true)\n",
      " |    |    |    |    |-- address: string (nullable = true)\n",
      " |    |    |    |    |-- address-line: string (nullable = true)\n",
      " |    |    |    |    |-- addresses: array (nullable = true)\n",
      " |    |    |    |    |    |-- element: string (containsNull = true)\n",
      " |    |    |    |    |-- alias_idref: array (nullable = true)\n",
      " |    |    |    |    |    |-- element: string (containsNull = true)\n",
      " |    |    |    |    |-- aliases: array (nullable = true)\n",
      " |    |    |    |    |    |-- element: string (containsNull = true)\n",
      " |    |    |    |    |-- city: string (nullable = true)\n",
      " |    |    |    |    |-- comments: array (nullable = true)\n",
      " |    |    |    |    |    |-- element: string (containsNull = true)\n",
      " |    |    |    |    |-- country: string (nullable = true)\n",
      " |    |    |    |    |-- datasource: string (nullable = true)\n",
      " |    |    |    |    |-- department: array (nullable = true)\n",
      " |    |    |    |    |    |-- element: string (containsNull = true)\n",
      " |    |    |    |    |-- detected_countries: array (nullable = true)\n",
      " |    |    |    |    |    |-- element: string (containsNull = true)\n",
      " |    |    |    |    |-- docid: string (nullable = true)\n",
      " |    |    |    |    |-- external_ids: array (nullable = true)\n",
      " |    |    |    |    |    |-- element: struct (containsNull = true)\n",
      " |    |    |    |    |    |    |-- id_type: string (nullable = true)\n",
      " |    |    |    |    |    |    |-- id_value: string (nullable = true)\n",
      " |    |    |    |    |-- grid: array (nullable = true)\n",
      " |    |    |    |    |    |-- element: string (containsNull = true)\n",
      " |    |    |    |    |-- hal_docid: string (nullable = true)\n",
      " |    |    |    |    |-- id: array (nullable = true)\n",
      " |    |    |    |    |    |-- element: struct (containsNull = true)\n",
      " |    |    |    |    |    |    |-- asserted-by: string (nullable = true)\n",
      " |    |    |    |    |    |    |-- id: string (nullable = true)\n",
      " |    |    |    |    |    |    |-- id-type: string (nullable = true)\n",
      " |    |    |    |    |-- idref: string (nullable = true)\n",
      " |    |    |    |    |-- ids: array (nullable = true)\n",
      " |    |    |    |    |    |-- element: struct (containsNull = true)\n",
      " |    |    |    |    |    |    |-- id: string (nullable = true)\n",
      " |    |    |    |    |    |    |-- type: string (nullable = true)\n",
      " |    |    |    |    |-- name: string (nullable = true)\n",
      " |    |    |    |    |-- orgs: array (nullable = true)\n",
      " |    |    |    |    |    |-- element: struct (containsNull = true)\n",
      " |    |    |    |    |    |    |-- name: string (nullable = true)\n",
      " |    |    |    |    |-- place: array (nullable = true)\n",
      " |    |    |    |    |    |-- element: string (containsNull = true)\n",
      " |    |    |    |    |-- postal-code: string (nullable = true)\n",
      " |    |    |    |    |-- rnsr: string (nullable = true)\n",
      " |    |    |    |    |-- ror: string (nullable = true)\n",
      " |    |    |    |    |-- structId: string (nullable = true)\n",
      " |    |    |    |    |-- viaf: string (nullable = true)\n",
      " |    |    |    |    |-- websites: array (nullable = true)\n",
      " |    |    |    |    |    |-- element: string (containsNull = true)\n",
      " |    |    |    |    |-- zipcode: string (nullable = true)\n",
      " |    |    |-- denormalized: struct (nullable = true)\n",
      " |    |    |    |-- id: string (nullable = true)\n",
      " |    |    |    |-- id_hal: string (nullable = true)\n",
      " |    |    |    |-- idref: string (nullable = true)\n",
      " |    |    |    |-- orcid: string (nullable = true)\n",
      " |    |    |-- firstName: string (nullable = true)\n",
      " |    |    |-- fullName: string (nullable = true)\n",
      " |    |    |-- id_name: string (nullable = true)\n",
      " |    |    |-- lastName: string (nullable = true)\n",
      " |    |    |-- person: string (nullable = true)\n",
      " |    |    |-- role: string (nullable = true)\n",
      " |    |    |-- toIdentify: string (nullable = true)\n",
      " |-- authorsCount: long (nullable = true)\n",
      " |-- autocompleted: array (nullable = true)\n",
      " |    |-- element: string (containsNull = true)\n",
      " |-- autocompletedJournal: array (nullable = true)\n",
      " |    |-- element: string (containsNull = true)\n",
      " |-- autocompletedPublisher: array (nullable = true)\n",
      " |    |-- element: string (containsNull = true)\n",
      " |-- bso_local_affiliations: array (nullable = true)\n",
      " |    |-- element: string (containsNull = true)\n",
      " |-- co_authors: array (nullable = true)\n",
      " |    |-- element: string (containsNull = true)\n",
      " |-- co_domains: array (nullable = true)\n",
      " |    |-- element: string (containsNull = true)\n",
      " |-- co_institutions: array (nullable = true)\n",
      " |    |-- element: string (containsNull = true)\n",
      " |-- co_software: array (nullable = true)\n",
      " |    |-- element: string (containsNull = true)\n",
      " |-- co_structures: array (nullable = true)\n",
      " |    |-- element: string (containsNull = true)\n",
      " |-- doiUrl: string (nullable = true)\n",
      " |-- domains: array (nullable = true)\n",
      " |    |-- element: struct (containsNull = true)\n",
      " |    |    |-- code: string (nullable = true)\n",
      " |    |    |-- count: long (nullable = true)\n",
      " |    |    |-- id_name: string (nullable = true)\n",
      " |    |    |-- label: struct (nullable = true)\n",
      " |    |    |    |-- default: string (nullable = true)\n",
      " |    |    |-- naturalKey: string (nullable = true)\n",
      " |    |    |-- type: string (nullable = true)\n",
      " |-- externalIds: array (nullable = true)\n",
      " |    |-- element: struct (containsNull = true)\n",
      " |    |    |-- id: string (nullable = true)\n",
      " |    |    |-- type: string (nullable = true)\n",
      " |-- id: string (nullable = true)\n",
      " |-- isOa: boolean (nullable = true)\n",
      " |-- keywords: struct (nullable = true)\n",
      " |    |-- default: array (nullable = true)\n",
      " |    |    |-- element: string (containsNull = true)\n",
      " |-- landingPage: string (nullable = true)\n",
      " |-- oaEvidence: struct (nullable = true)\n",
      " |    |-- hostType: string (nullable = true)\n",
      " |    |-- landingPageUrl: string (nullable = true)\n",
      " |    |-- license: string (nullable = true)\n",
      " |    |-- pdfUrl: string (nullable = true)\n",
      " |    |-- url: string (nullable = true)\n",
      " |    |-- version: string (nullable = true)\n",
      " |-- pdfUrl: string (nullable = true)\n",
      " |-- productionType: string (nullable = true)\n",
      " |-- projects: array (nullable = true)\n",
      " |    |-- element: struct (containsNull = true)\n",
      " |    |    |-- acronym: struct (nullable = true)\n",
      " |    |    |    |-- default: string (nullable = true)\n",
      " |    |    |-- id: string (nullable = true)\n",
      " |    |    |-- id_name: string (nullable = true)\n",
      " |    |    |-- label: struct (nullable = true)\n",
      " |    |    |    |-- en: string (nullable = true)\n",
      " |    |    |    |-- fr: string (nullable = true)\n",
      " |    |    |-- type: string (nullable = true)\n",
      " |    |    |-- year: double (nullable = true)\n",
      " |-- publicationDate: string (nullable = true)\n",
      " |-- softwares: array (nullable = true)\n",
      " |    |-- element: struct (containsNull = true)\n",
      " |    |    |-- contexts: array (nullable = true)\n",
      " |    |    |    |-- element: string (containsNull = true)\n",
      " |    |    |-- id_name: string (nullable = true)\n",
      " |    |    |-- softwareName: string (nullable = true)\n",
      " |    |    |-- wikidata: string (nullable = true)\n",
      " |-- source: struct (nullable = true)\n",
      " |    |-- isInDoaj: boolean (nullable = true)\n",
      " |    |-- isOa: boolean (nullable = true)\n",
      " |    |-- journalIssns: array (nullable = true)\n",
      " |    |    |-- element: string (containsNull = true)\n",
      " |    |-- publisher: string (nullable = true)\n",
      " |    |-- title: string (nullable = true)\n",
      " |-- summary: struct (nullable = true)\n",
      " |    |-- default: string (nullable = true)\n",
      " |    |-- en: string (nullable = true)\n",
      " |    |-- fr: string (nullable = true)\n",
      " |-- title: struct (nullable = true)\n",
      " |    |-- af: string (nullable = true)\n",
      " |    |-- an: string (nullable = true)\n",
      " |    |-- ar: string (nullable = true)\n",
      " |    |-- az: string (nullable = true)\n",
      " |    |-- be: string (nullable = true)\n",
      " |    |-- bg: string (nullable = true)\n",
      " |    |-- bn: string (nullable = true)\n",
      " |    |-- bo: string (nullable = true)\n",
      " |    |-- br: string (nullable = true)\n",
      " |    |-- bs: string (nullable = true)\n",
      " |    |-- ca: string (nullable = true)\n",
      " |    |-- cs: string (nullable = true)\n",
      " |    |-- cy: string (nullable = true)\n",
      " |    |-- da: string (nullable = true)\n",
      " |    |-- de: string (nullable = true)\n",
      " |    |-- default: string (nullable = true)\n",
      " |    |-- el: string (nullable = true)\n",
      " |    |-- en: string (nullable = true)\n",
      " |    |-- eo: string (nullable = true)\n",
      " |    |-- es: string (nullable = true)\n",
      " |    |-- et: string (nullable = true)\n",
      " |    |-- eu: string (nullable = true)\n",
      " |    |-- fa: string (nullable = true)\n",
      " |    |-- fi: string (nullable = true)\n",
      " |    |-- fr: string (nullable = true)\n",
      " |    |-- fy: string (nullable = true)\n",
      " |    |-- ga: string (nullable = true)\n",
      " |    |-- gb: string (nullable = true)\n",
      " |    |-- gd: string (nullable = true)\n",
      " |    |-- gl: string (nullable = true)\n",
      " |    |-- gu: string (nullable = true)\n",
      " |    |-- he: string (nullable = true)\n",
      " |    |-- hi: string (nullable = true)\n",
      " |    |-- hr: string (nullable = true)\n",
      " |    |-- ht: string (nullable = true)\n",
      " |    |-- hu: string (nullable = true)\n",
      " |    |-- hy: string (nullable = true)\n",
      " |    |-- ia: string (nullable = true)\n",
      " |    |-- id: string (nullable = true)\n",
      " |    |-- ie: string (nullable = true)\n",
      " |    |-- in: string (nullable = true)\n",
      " |    |-- io: string (nullable = true)\n",
      " |    |-- is: string (nullable = true)\n",
      " |    |-- it: string (nullable = true)\n",
      " |    |-- ja: string (nullable = true)\n",
      " |    |-- jv: string (nullable = true)\n",
      " |    |-- kk: string (nullable = true)\n",
      " |    |-- km: string (nullable = true)\n",
      " |    |-- kn: string (nullable = true)\n",
      " |    |-- ko: string (nullable = true)\n",
      " |    |-- ku: string (nullable = true)\n",
      " |    |-- kw: string (nullable = true)\n",
      " |    |-- la: string (nullable = true)\n",
      " |    |-- lb: string (nullable = true)\n",
      " |    |-- lt: string (nullable = true)\n",
      " |    |-- lv: string (nullable = true)\n",
      " |    |-- mg: string (nullable = true)\n",
      " |    |-- mk: string (nullable = true)\n",
      " |    |-- ml: string (nullable = true)\n",
      " |    |-- mn: string (nullable = true)\n",
      " |    |-- mr: string (nullable = true)\n",
      " |    |-- ms: string (nullable = true)\n",
      " |    |-- my: string (nullable = true)\n",
      " |    |-- nb: string (nullable = true)\n",
      " |    |-- ne: string (nullable = true)\n",
      " |    |-- nl: string (nullable = true)\n",
      " |    |-- nn: string (nullable = true)\n",
      " |    |-- no: string (nullable = true)\n",
      " |    |-- oc: string (nullable = true)\n",
      " |    |-- pl: string (nullable = true)\n",
      " |    |-- po: string (nullable = true)\n",
      " |    |-- ps: string (nullable = true)\n",
      " |    |-- pt: string (nullable = true)\n",
      " |    |-- qu: string (nullable = true)\n",
      " |    |-- rm: string (nullable = true)\n",
      " |    |-- ro: string (nullable = true)\n",
      " |    |-- ru: string (nullable = true)\n",
      " |    |-- sa: string (nullable = true)\n",
      " |    |-- sh: string (nullable = true)\n",
      " |    |-- si: string (nullable = true)\n",
      " |    |-- sk: string (nullable = true)\n",
      " |    |-- sl: string (nullable = true)\n",
      " |    |-- sq: string (nullable = true)\n",
      " |    |-- sr: string (nullable = true)\n",
      " |    |-- su: string (nullable = true)\n",
      " |    |-- sv: string (nullable = true)\n",
      " |    |-- sw: string (nullable = true)\n",
      " |    |-- ta: string (nullable = true)\n",
      " |    |-- te: string (nullable = true)\n",
      " |    |-- th: string (nullable = true)\n",
      " |    |-- tl: string (nullable = true)\n",
      " |    |-- tr: string (nullable = true)\n",
      " |    |-- tt: string (nullable = true)\n",
      " |    |-- uk: string (nullable = true)\n",
      " |    |-- ur: string (nullable = true)\n",
      " |    |-- uz: string (nullable = true)\n",
      " |    |-- vi: string (nullable = true)\n",
      " |    |-- vo: string (nullable = true)\n",
      " |    |-- wa: string (nullable = true)\n",
      " |    |-- zh: string (nullable = true)\n",
      " |-- type: string (nullable = true)\n",
      " |-- vector_text: array (nullable = true)\n",
      " |    |-- element: double (containsNull = true)\n",
      " |-- year: long (nullable = true)\n",
      "\n"
     ]
    }
   ],
   "source": [
    "df_scanR.printSchema()"
   ]
  },
  {
   "cell_type": "code",
   "execution_count": 4,
   "id": "b1f49985-38a1-4388-997e-89987d06383a",
   "metadata": {},
   "outputs": [
    {
     "data": {
      "text/plain": [
       "443738"
      ]
     },
     "execution_count": 4,
     "metadata": {},
     "output_type": "execute_result"
    }
   ],
   "source": [
    "theses_scanR = (df_scanR\n",
    "                .filter(func.col('landingPage').contains(\"theses.fr\"))\n",
    "                .select('landingPage', 'authors', 'id')\n",
    "               )\n",
    "theses_scanR.count()"
   ]
  },
  {
   "cell_type": "code",
   "execution_count": 6,
   "id": "8ef6a8df-44cd-4390-876e-8f9c272e5178",
   "metadata": {},
   "outputs": [
    {
     "name": "stdout",
     "output_type": "stream",
     "text": [
      "+--------------------+--------------------+--------------------+\n",
      "|                link|                  id|         authorships|\n",
      "+--------------------+--------------------+--------------------+\n",
      "|http://theses.fr/...|https://openalex....|[{first, {https:/...|\n",
      "|http://www.theses...|https://openalex....|[{first, {https:/...|\n",
      "|http://www.theses...|https://openalex....|[{first, {https:/...|\n",
      "|http://www.theses...|https://openalex....|[{first, {https:/...|\n",
      "|http://www.theses...|https://openalex....|[{first, {https:/...|\n",
      "|http://www.theses...|https://openalex....|[{first, {https:/...|\n",
      "|http://www.theses...|https://openalex....|[{first, {https:/...|\n",
      "|https://www.these...|https://openalex....|[{first, {https:/...|\n",
      "|http://www.theses...|https://openalex....|[{first, {https:/...|\n",
      "|http://www.theses...|https://openalex....|[{first, {https:/...|\n",
      "|http://www.theses...|https://openalex....|[{first, {https:/...|\n",
      "|https://www.these...|https://openalex....|[{first, {https:/...|\n",
      "|http://www.theses...|https://openalex....|[{first, {https:/...|\n",
      "|http://www.theses...|https://openalex....|[{first, {https:/...|\n",
      "|http://www.theses...|https://openalex....|[{first, {https:/...|\n",
      "|http://www.theses...|https://openalex....|[{first, {https:/...|\n",
      "|http://www.theses...|https://openalex....|[{first, {https:/...|\n",
      "|https://www.these...|https://openalex....|[{first, {https:/...|\n",
      "|http://www.theses...|https://openalex....|[{first, {https:/...|\n",
      "|http://www.theses...|https://openalex....|[{first, {https:/...|\n",
      "+--------------------+--------------------+--------------------+\n",
      "only showing top 20 rows\n",
      "\n"
     ]
    }
   ],
   "source": [
    "df_works_theses.cache()\n",
    "df_works_theses.show()"
   ]
  },
  {
   "cell_type": "code",
   "execution_count": 7,
   "id": "f983845d-5f62-4fdd-8316-fecde7efc2d2",
   "metadata": {},
   "outputs": [
    {
     "data": {
      "text/plain": [
       "598665"
      ]
     },
     "execution_count": 7,
     "metadata": {},
     "output_type": "execute_result"
    }
   ],
   "source": [
    "df_works_theses.count()"
   ]
  },
  {
   "cell_type": "code",
   "execution_count": 8,
   "id": "296bb6cc-9859-496e-8924-8657ce0f60bb",
   "metadata": {
    "scrolled": true
   },
   "outputs": [],
   "source": [
    "matched_theses = (theses_scanR.toDF('link', 'authors_scanR', 'scanR_id')\n",
    "                  .join(df_works_theses.toDF('link','work_id', 'authors_oa'), on = 'link', how= 'full'))\n",
    "matched_theses.write.mode('overwrite').parquet('file:\\\\' + merge_path + 'matched_theses.parquet')"
   ]
  },
  {
   "cell_type": "code",
   "execution_count": 4,
   "id": "4aa1e34f-6d9d-4250-9322-d719f859e6e2",
   "metadata": {},
   "outputs": [],
   "source": [
    "merge_path = main_path_openalex.replace(\"data_extracted\",'merge')\n",
    "matched_theses = spark.read.parquet('file:\\\\' + merge_path + 'matched_theses.parquet')"
   ]
  },
  {
   "cell_type": "code",
   "execution_count": 13,
   "id": "beed857e-e749-417a-94b5-66683a4ee076",
   "metadata": {},
   "outputs": [
    {
     "name": "stdout",
     "output_type": "stream",
     "text": [
      "+--------+-----+------+\n",
      "|in_scanr|in_oa| count|\n",
      "+--------+-----+------+\n",
      "|    true|false|442320|\n",
      "|    true| true|  2968|\n",
      "|   false| true|595698|\n",
      "+--------+-----+------+\n",
      "\n"
     ]
    }
   ],
   "source": [
    "matched_theses.groupBy(func.col('scanr_id').isNotNull().alias('in_scanr'), func.col('work_id').isNotNull().alias('in_oa')).count().show()"
   ]
  },
  {
   "cell_type": "code",
   "execution_count": 5,
   "id": "b50c3a19-8b37-4d06-80c2-c8b6eeb040fb",
   "metadata": {
    "scrolled": true
   },
   "outputs": [
    {
     "name": "stdout",
     "output_type": "stream",
     "text": [
      "+--------------------+--------------------+---------------+------------+\n",
      "|                link|       authors_scanR|       scanR_id|   theses_id|\n",
      "+--------------------+--------------------+---------------+------------+\n",
      "|https://theses.fr...|[{[{http://catalo...|nnt1985aix22001|1985AIX22001|\n",
      "|https://theses.fr...|[{[{http://catalo...|nnt1985aix30022|1985AIX30022|\n",
      "|https://theses.fr...|[{[{http://catalo...|nnt1985besa1020|1985BESA1020|\n",
      "|https://theses.fr...|[{[{http://catalo...|nnt1985bor10502|1985BOR10502|\n",
      "|https://theses.fr...|[{[{http://catalo...|nnt1985bor10520|1985BOR10520|\n",
      "|https://theses.fr...|[{[{http://catalo...|nnt1985bor10531|1985BOR10531|\n",
      "|https://theses.fr...|[{[{http://catalo...|nnt1985bor10546|1985BOR10546|\n",
      "|https://theses.fr...|[{[{http://catalo...|nnt1985bor10554|1985BOR10554|\n",
      "|https://theses.fr...|[{[{http://catalo...|nnt1985bor10556|1985BOR10556|\n",
      "|https://theses.fr...|[{[{http://catalo...|nnt1985bor10579|1985BOR10579|\n",
      "|https://theses.fr...|[{[{http://catalo...|nnt1985bor1d013|1985BOR1D013|\n",
      "|https://theses.fr...|[{[{http://catalo...|nnt1985bor1d014|1985BOR1D014|\n",
      "|https://theses.fr...|[{[{http://catalo...|nnt1985bor1d315|1985BOR1D315|\n",
      "|https://theses.fr...|[{[{http://catalo...|nnt1985bor20135|1985BOR20135|\n",
      "|https://theses.fr...|[{[{http://catalo...|nnt1985bor20137|1985BOR20137|\n",
      "|https://theses.fr...|[{[{http://catalo...|nnt1985bor22003|1985BOR22003|\n",
      "|https://theses.fr...|[{[{http://catalo...|nnt1985bor30006|1985BOR30006|\n",
      "|https://theses.fr...|[{[{http://catalo...|nnt1985bor30024|1985BOR30024|\n",
      "|https://theses.fr...|[{[{http://catalo...|nnt1985bor30040|1985BOR30040|\n",
      "|https://theses.fr...|[{[{http://catalo...|nnt1985bor30201|1985BOR30201|\n",
      "+--------------------+--------------------+---------------+------------+\n",
      "only showing top 20 rows\n",
      "\n"
     ]
    }
   ],
   "source": [
    "already_matched = (matched_theses\n",
    "                   .filter( (func.col('scanr_id').isNotNull())\n",
    "                           & (func.col('work_id').isNotNull()))\n",
    "                  )\n",
    "unmatched_oa = (matched_theses\n",
    "                .filter( (func.col('scanr_id').isNull())\n",
    "                           & (func.col('work_id').isNotNull()))\n",
    "                .select('link','authors_oa', 'work_id')\n",
    "                .withColumn('theses_id', func.regexp_extract(func.col('link'), r'[A-z0-9]*$', 0))\n",
    "\n",
    "               )\n",
    "unmatched_scanR = (matched_theses\n",
    "                   .filter( (func.col('scanr_id').isNotNull())\n",
    "                           & (func.col('work_id').isNull()))\n",
    "                   .select('link', 'authors_scanR', 'scanR_id')\n",
    "                   .withColumn('theses_id',func.regexp_extract(func.col('link'), r'[A-z0-9]*$', 0))\n",
    "                  )\n",
    "unmatched_scanR.cache()\n",
    "unmatched_oa.cache()\n",
    "unmatched_scanR.show()\n"
   ]
  },
  {
   "cell_type": "code",
   "execution_count": 33,
   "id": "d3cf0bda-9466-4aa0-bea2-33edde80af7d",
   "metadata": {
    "scrolled": true
   },
   "outputs": [
    {
     "name": "stdout",
     "output_type": "stream",
     "text": [
      "+-----------------------------+--------------------------------------------------------------------------------------------------------------------------------------------------------------------+--------------------------------+------------+\n",
      "|link                         |authors_oa                                                                                                                                                          |work_id                         |theses_id   |\n",
      "+-----------------------------+--------------------------------------------------------------------------------------------------------------------------------------------------------------------+--------------------------------+------------+\n",
      "|http://theses.fr/1985AIX1A011|[{first, {https://openalex.org/A5077420463, Chantal Charnet, NULL}, [], [], NULL, true, Chantal Charnet, [], NULL}]                                                 |https://openalex.org/W3015410635|1985AIX1A011|\n",
      "|http://theses.fr/1985AIX1A011|[{first, {https://openalex.org/A5077420463, Chantal Charnet, NULL}, [], [], [], true, Chantal Charnet, [], []}]                                                     |https://openalex.org/W3015410635|1985AIX1A011|\n",
      "|http://theses.fr/1985GRE2A003|[{first, {https://openalex.org/A5030728074, Isabelle Verjat, NULL}, [], [], NULL, true, Isabelle Verjat, [], NULL}]                                                 |https://openalex.org/W3016891503|1985GRE2A003|\n",
      "|http://theses.fr/1985GRE2A003|[{first, {https://openalex.org/A5030728074, Isabelle Verjat, NULL}, [], [], [], true, Isabelle Verjat, [], []}]                                                     |https://openalex.org/W3016891503|1985GRE2A003|\n",
      "|http://theses.fr/1985MON20055|[{first, {https://openalex.org/A5006031634, E. Rosecchi, NULL}, [], [], NULL, true, Elisabeth Rosecchi, [], NULL}]                                                  |https://openalex.org/W3014356823|1985MON20055|\n",
      "|http://theses.fr/1985MON20055|[{first, {https://openalex.org/A5006031634, Élisabeth Rosecchi, NULL}, [], [], [], true, Elisabeth Rosecchi, [], []}]                                               |https://openalex.org/W3014356823|1985MON20055|\n",
      "|http://theses.fr/1985PA01A048|[{first, {https://openalex.org/A5029223101, Nicolas Osoline, NULL}, [], [], NULL, true, Nicolas Osoline, [], NULL}]                                                 |https://openalex.org/W3014735082|1985PA01A048|\n",
      "|http://theses.fr/1985PA01A048|[{first, {https://openalex.org/A5029223101, Nicolas Osoline, NULL}, [], [], [], true, Nicolas Osoline, [], []}]                                                     |https://openalex.org/W3014735082|1985PA01A048|\n",
      "|http://theses.fr/1985PA040132|[{first, {https://openalex.org/A5025876882, Gérard Lafleur, NULL}, [], [], NULL, true, Gérard Lafleur, [], NULL}]                                                   |https://openalex.org/W2910410336|1985PA040132|\n",
      "|http://theses.fr/1985PA040132|[{first, {https://openalex.org/A5025876882, Gérard Lafleur, NULL}, [], [], [], true, Gérard Lafleur, [], []}]                                                       |https://openalex.org/W2910410336|1985PA040132|\n",
      "|http://theses.fr/1986GRE10124|[{first, {https://openalex.org/A5012865973, Florence Joussellin, NULL}, [], [], NULL, true, Florence Joussellin, [], NULL}]                                         |https://openalex.org/W2747665671|1986GRE10124|\n",
      "|http://theses.fr/1986GRE10124|[{first, {https://openalex.org/A5012865973, Florence Joussellin, NULL}, [], [], [], true, Florence Joussellin, [], []}]                                             |https://openalex.org/W2747665671|1986GRE10124|\n",
      "|http://theses.fr/1986GRE10124|[{first, {https://openalex.org/A5012865973, Florence Joussellin, NULL}, [], [], [], true, Florence Joussellin, [], []}]                                             |https://openalex.org/W2747665671|1986GRE10124|\n",
      "|http://theses.fr/1986INPG0117|[{first, {https://openalex.org/A5005095262, Jean Ducrocq, NULL}, [], [], NULL, true, Jean Ducrocq, [], NULL}]                                                       |https://openalex.org/W2745091786|1986INPG0117|\n",
      "|http://theses.fr/1986INPG0117|[{first, {https://openalex.org/A5005095262, Jean Ducrocq, NULL}, [], [], [], true, Jean Ducrocq, [], []}]                                                           |https://openalex.org/W2745091786|1986INPG0117|\n",
      "|http://theses.fr/1986ISAL0041|[{first, {https://openalex.org/A5089388080, Mohammed El Mahi Chbihi, https://orcid.org/0000-0002-6891-076X}, [], [], NULL, true, Mohammed El Mahi Chbihi, [], NULL}]|https://openalex.org/W3041311883|1986ISAL0041|\n",
      "|http://theses.fr/1986ISAL0041|[{first, {https://openalex.org/A5089388080, Mohammed El Mahi Chbihi, https://orcid.org/0000-0002-6891-076X}, [], [], [], true, Mohammed El Mahi Chbihi, [], []}]    |https://openalex.org/W3041311883|1986ISAL0041|\n",
      "|http://theses.fr/1986NAN10117|[{first, {https://openalex.org/A5069838548, Pascal Bernasconi, NULL}, [], [], NULL, true, Pascal Bernasconi, [], NULL}]                                             |https://openalex.org/W2736990069|1986NAN10117|\n",
      "|http://theses.fr/1986NAN10117|[{first, {https://openalex.org/A5069838548, Pascal Bernasconi, NULL}, [], [], [], true, Pascal Bernasconi, [], []}]                                                 |https://openalex.org/W2736990069|1986NAN10117|\n",
      "|http://theses.fr/1986ORLE0212|[{first, {https://openalex.org/A5087670180, Marc Monthioux, https://orcid.org/0000-0002-7989-9746}, [], [], NULL, true, Marc Monthioux, [], NULL}]                  |https://openalex.org/W3208580419|1986ORLE0212|\n",
      "+-----------------------------+--------------------------------------------------------------------------------------------------------------------------------------------------------------------+--------------------------------+------------+\n",
      "only showing top 20 rows\n",
      "\n"
     ]
    }
   ],
   "source": [
    "unmatched_oa.show(truncate = False)"
   ]
  },
  {
   "cell_type": "code",
   "execution_count": 6,
   "id": "b64026ad-4194-4ea4-8997-7e87502ef163",
   "metadata": {},
   "outputs": [
    {
     "name": "stdout",
     "output_type": "stream",
     "text": [
      "+--------+-----+------+\n",
      "|in_scanr|in_oa| count|\n",
      "+--------+-----+------+\n",
      "|    true|false|187796|\n",
      "|    true| true|527327|\n",
      "|   false| true| 68373|\n",
      "+--------+-----+------+\n",
      "\n"
     ]
    }
   ],
   "source": [
    "rematch = (unmatched_oa\n",
    "            .join(unmatched_scanR, on = ['theses_id'], how = 'full')\n",
    "          )\n",
    "rematch.cache()\n",
    "rematch.groupBy(func.col('scanr_id').isNotNull().alias('in_scanr'), func.col('work_id').isNotNull().alias('in_oa')).count().show()\n"
   ]
  },
  {
   "cell_type": "code",
   "execution_count": 35,
   "id": "8ba66322-4ee7-4304-8ece-08795e261e03",
   "metadata": {},
   "outputs": [
    {
     "name": "stdout",
     "output_type": "stream",
     "text": [
      "+------------+----+----------+-------+--------------------+--------------------+---------------+\n",
      "|   theses_id|link|authors_oa|work_id|                link|       authors_scanR|       scanR_id|\n",
      "+------------+----+----------+-------+--------------------+--------------------+---------------+\n",
      "|        0013|NULL|      NULL|   NULL|https://theses.fr...|[{[{NULL, NULL, N...|nnt2012enst0013|\n",
      "|          07|NULL|      NULL|   NULL|https://theses.fr...|[{[{NULL, NULL, N...|nnt2012ecdl0007|\n",
      "|1985AIX1A001|NULL|      NULL|   NULL|https://theses.fr...|[{[{http://catalo...|nnt1985aix1a001|\n",
      "|1985AIX1A005|NULL|      NULL|   NULL|https://theses.fr...|[{[{http://catalo...|nnt1985aix1a005|\n",
      "|1985AIX1A025|NULL|      NULL|   NULL|https://theses.fr...|[{[{http://catalo...|nnt1985aix1a025|\n",
      "|1985BOR10505|NULL|      NULL|   NULL|https://theses.fr...|[{[{http://catalo...|nnt1985bor10505|\n",
      "|1985BOR10555|NULL|      NULL|   NULL|https://theses.fr...|[{[{http://catalo...|nnt1985bor10555|\n",
      "|1985BOR10560|NULL|      NULL|   NULL|https://theses.fr...|[{[{http://catalo...|nnt1985bor10560|\n",
      "|1985BOR10590|NULL|      NULL|   NULL|https://theses.fr...|[{[{http://catalo...|nnt1985bor10590|\n",
      "|1985BOR10628|NULL|      NULL|   NULL|https://theses.fr...|[{[{http://catalo...|nnt1985bor10628|\n",
      "|1985BOR1D007|NULL|      NULL|   NULL|https://theses.fr...|[{[{http://catalo...|nnt1985bor1d007|\n",
      "|1985BOR1D012|NULL|      NULL|   NULL|https://theses.fr...|[{[{http://catalo...|nnt1985bor1d012|\n",
      "|1985BOR30015|NULL|      NULL|   NULL|https://theses.fr...|[{[{http://catalo...|nnt1985bor30015|\n",
      "|1985BOR3ET03|NULL|      NULL|   NULL|https://theses.fr...|[{[{http://catalo...|nnt1985bor3et03|\n",
      "|1985CAEN1003|NULL|      NULL|   NULL|https://theses.fr...|[{[{http://catalo...|nnt1985caen1003|\n",
      "|1985CLF2S875|NULL|      NULL|   NULL|https://theses.fr...|[{[{http://catalo...|nnt1985clf2s875|\n",
      "|1985COMPD003|NULL|      NULL|   NULL|https://theses.fr...|[{[{NULL, NULL, N...|nnt1985compd003|\n",
      "|1985COMPI197|NULL|      NULL|   NULL|https://theses.fr...|[{[{NULL, NULL, N...|nnt1985compi197|\n",
      "|1985COMPS131|NULL|      NULL|   NULL|https://theses.fr...|[{[{NULL, NULL, N...|nnt1985comps131|\n",
      "|1985DIJOS007|NULL|      NULL|   NULL|https://theses.fr...|[{[{http://catalo...|nnt1985dijos007|\n",
      "+------------+----+----------+-------+--------------------+--------------------+---------------+\n",
      "only showing top 20 rows\n",
      "\n"
     ]
    }
   ],
   "source": [
    "rematch.filter( (func.col('scanr_id').isNotNull()) & (func.col('work_id').isNull())).show()"
   ]
  },
  {
   "cell_type": "code",
   "execution_count": 8,
   "id": "72938346-871c-4190-91a0-5cc61e219e54",
   "metadata": {
    "scrolled": true
   },
   "outputs": [
    {
     "name": "stdout",
     "output_type": "stream",
     "text": [
      "root\n",
      " |-- authors_scanR: array (nullable = true)\n",
      " |    |-- element: struct (containsNull = true)\n",
      " |    |    |-- affiliations: array (nullable = true)\n",
      " |    |    |    |-- element: struct (containsNull = true)\n",
      " |    |    |    |    |-- BNF: string (nullable = true)\n",
      " |    |    |    |    |-- ISNI: string (nullable = true)\n",
      " |    |    |    |    |-- acronym: array (nullable = true)\n",
      " |    |    |    |    |    |-- element: string (containsNull = true)\n",
      " |    |    |    |    |-- address: string (nullable = true)\n",
      " |    |    |    |    |-- address-line: string (nullable = true)\n",
      " |    |    |    |    |-- addresses: array (nullable = true)\n",
      " |    |    |    |    |    |-- element: string (containsNull = true)\n",
      " |    |    |    |    |-- alias_idref: array (nullable = true)\n",
      " |    |    |    |    |    |-- element: string (containsNull = true)\n",
      " |    |    |    |    |-- aliases: array (nullable = true)\n",
      " |    |    |    |    |    |-- element: string (containsNull = true)\n",
      " |    |    |    |    |-- city: string (nullable = true)\n",
      " |    |    |    |    |-- comments: array (nullable = true)\n",
      " |    |    |    |    |    |-- element: string (containsNull = true)\n",
      " |    |    |    |    |-- country: string (nullable = true)\n",
      " |    |    |    |    |-- datasource: string (nullable = true)\n",
      " |    |    |    |    |-- department: array (nullable = true)\n",
      " |    |    |    |    |    |-- element: string (containsNull = true)\n",
      " |    |    |    |    |-- detected_countries: array (nullable = true)\n",
      " |    |    |    |    |    |-- element: string (containsNull = true)\n",
      " |    |    |    |    |-- docid: string (nullable = true)\n",
      " |    |    |    |    |-- external_ids: array (nullable = true)\n",
      " |    |    |    |    |    |-- element: struct (containsNull = true)\n",
      " |    |    |    |    |    |    |-- id_type: string (nullable = true)\n",
      " |    |    |    |    |    |    |-- id_value: string (nullable = true)\n",
      " |    |    |    |    |-- grid: array (nullable = true)\n",
      " |    |    |    |    |    |-- element: string (containsNull = true)\n",
      " |    |    |    |    |-- hal_docid: string (nullable = true)\n",
      " |    |    |    |    |-- id: array (nullable = true)\n",
      " |    |    |    |    |    |-- element: struct (containsNull = true)\n",
      " |    |    |    |    |    |    |-- asserted-by: string (nullable = true)\n",
      " |    |    |    |    |    |    |-- id: string (nullable = true)\n",
      " |    |    |    |    |    |    |-- id-type: string (nullable = true)\n",
      " |    |    |    |    |-- idref: string (nullable = true)\n",
      " |    |    |    |    |-- ids: array (nullable = true)\n",
      " |    |    |    |    |    |-- element: struct (containsNull = true)\n",
      " |    |    |    |    |    |    |-- id: string (nullable = true)\n",
      " |    |    |    |    |    |    |-- type: string (nullable = true)\n",
      " |    |    |    |    |-- name: string (nullable = true)\n",
      " |    |    |    |    |-- orgs: array (nullable = true)\n",
      " |    |    |    |    |    |-- element: struct (containsNull = true)\n",
      " |    |    |    |    |    |    |-- name: string (nullable = true)\n",
      " |    |    |    |    |-- place: array (nullable = true)\n",
      " |    |    |    |    |    |-- element: string (containsNull = true)\n",
      " |    |    |    |    |-- postal-code: string (nullable = true)\n",
      " |    |    |    |    |-- rnsr: string (nullable = true)\n",
      " |    |    |    |    |-- ror: string (nullable = true)\n",
      " |    |    |    |    |-- structId: string (nullable = true)\n",
      " |    |    |    |    |-- viaf: string (nullable = true)\n",
      " |    |    |    |    |-- websites: array (nullable = true)\n",
      " |    |    |    |    |    |-- element: string (containsNull = true)\n",
      " |    |    |    |    |-- zipcode: string (nullable = true)\n",
      " |    |    |-- denormalized: struct (nullable = true)\n",
      " |    |    |    |-- id: string (nullable = true)\n",
      " |    |    |    |-- id_hal: string (nullable = true)\n",
      " |    |    |    |-- idref: string (nullable = true)\n",
      " |    |    |    |-- orcid: string (nullable = true)\n",
      " |    |    |-- firstName: string (nullable = true)\n",
      " |    |    |-- fullName: string (nullable = true)\n",
      " |    |    |-- id_name: string (nullable = true)\n",
      " |    |    |-- lastName: string (nullable = true)\n",
      " |    |    |-- person: string (nullable = true)\n",
      " |    |    |-- role: string (nullable = true)\n",
      " |    |    |-- toIdentify: string (nullable = true)\n",
      " |-- scanR_id: string (nullable = true)\n",
      " |-- work_id: string (nullable = true)\n",
      " |-- authors_oa: array (nullable = true)\n",
      " |    |-- element: struct (containsNull = true)\n",
      " |    |    |-- author_position: string (nullable = true)\n",
      " |    |    |-- author: struct (nullable = true)\n",
      " |    |    |    |-- id: string (nullable = true)\n",
      " |    |    |    |-- display_name: string (nullable = true)\n",
      " |    |    |    |-- orcid: string (nullable = true)\n",
      " |    |    |-- institutions: array (nullable = true)\n",
      " |    |    |    |-- element: struct (containsNull = true)\n",
      " |    |    |    |    |-- id: string (nullable = true)\n",
      " |    |    |    |    |-- display_name: string (nullable = true)\n",
      " |    |    |    |    |-- ror: string (nullable = true)\n",
      " |    |    |    |    |-- country_code: string (nullable = true)\n",
      " |    |    |    |    |-- type: string (nullable = true)\n",
      " |    |    |    |    |-- country_id: string (nullable = true)\n",
      " |    |    |    |    |-- type_id: string (nullable = true)\n",
      " |    |    |    |    |-- lineage: array (nullable = true)\n",
      " |    |    |    |    |    |-- element: string (containsNull = true)\n",
      " |    |    |-- countries: array (nullable = true)\n",
      " |    |    |    |-- element: string (containsNull = true)\n",
      " |    |    |-- country_ids: array (nullable = true)\n",
      " |    |    |    |-- element: string (containsNull = true)\n",
      " |    |    |-- is_corresponding: boolean (nullable = true)\n",
      " |    |    |-- raw_author_name: string (nullable = true)\n",
      " |    |    |-- raw_affiliation_strings: array (nullable = true)\n",
      " |    |    |    |-- element: string (containsNull = true)\n",
      " |    |    |-- affiliations: array (nullable = true)\n",
      " |    |    |    |-- element: struct (containsNull = true)\n",
      " |    |    |    |    |-- raw_affiliation_string: string (nullable = true)\n",
      " |    |    |    |    |-- institution_ids: array (nullable = true)\n",
      " |    |    |    |    |    |-- element: string (containsNull = true)\n",
      "\n"
     ]
    }
   ],
   "source": [
    "rematched_theses = (already_matched.drop('link')\n",
    "                    .unionAll(rematch.select(*[col for col in already_matched.columns if col != 'link']))\n",
    "                   )\n",
    "rematched_theses.printSchema()"
   ]
  },
  {
   "cell_type": "code",
   "execution_count": 9,
   "id": "26fa585b-712a-4bee-8d0b-c67d0405e5ec",
   "metadata": {},
   "outputs": [],
   "source": [
    "rematched_theses.write.mode('overwrite').parquet('file:\\\\' + merge_path + 'matched_theses_step2.parquet')"
   ]
  },
  {
   "cell_type": "code",
   "execution_count": 11,
   "id": "cd7392bf-0375-44bd-b497-7b94634ff63a",
   "metadata": {},
   "outputs": [],
   "source": [
    "spark.catalog.clearCache()"
   ]
  },
  {
   "cell_type": "code",
   "execution_count": 12,
   "id": "42245b00-28a5-4f06-9031-9eaf82181e5a",
   "metadata": {},
   "outputs": [],
   "source": [
    "matched_theses = spark.read.parquet('file:\\\\' + merge_path + 'matched_theses_step2.parquet')"
   ]
  },
  {
   "cell_type": "code",
   "execution_count": 13,
   "id": "34d90170-a3f3-4564-b54d-062898356af6",
   "metadata": {},
   "outputs": [
    {
     "name": "stdout",
     "output_type": "stream",
     "text": [
      "+----------------+------+\n",
      "|size(authors_oa)| count|\n",
      "+----------------+------+\n",
      "|              -1|187796|\n",
      "|               1|586984|\n",
      "|               6|    37|\n",
      "|               3|   269|\n",
      "|               5|    60|\n",
      "|               4|   118|\n",
      "|               7|    30|\n",
      "|               2| 11127|\n",
      "|               0|    17|\n",
      "|               8|    18|\n",
      "|               9|     6|\n",
      "|              15|     2|\n",
      "+----------------+------+\n",
      "\n"
     ]
    }
   ],
   "source": [
    "matched_theses.groupBy(func.size(func.col('authors_oa'))).count().show()"
   ]
  },
  {
   "cell_type": "code",
   "execution_count": 14,
   "id": "7f77a045-a01b-45be-b513-77a828cf5db0",
   "metadata": {
    "scrolled": true
   },
   "outputs": [
    {
     "name": "stdout",
     "output_type": "stream",
     "text": [
      "+--------------------------------------------------------------------------------------------------------------------------------------------------------------------------------------------------------------------------------------------------------------------------------------------------------------------------------------------------------------------------------------------------------------------------------------------------------------------------------------------------------------------------------------------------------------------------------------------------------------------------------------------------------------------------------------------------------------------------------------------------------------------------------------------------------------------------------------------------------------------------------------------------------------------------------------------------------------------------------------------------------------------------------------------------------------------------------------------------------------------------------------------------------------------------------------------------------------------------------------------------------------------------------------------------------------------------------------------------------------------------------------------------------------------------------------------------------------------------------------------------------------------------------------------------------------------------------------------------------------------------------------------------------------------------------------------------------------------------------------------------------------------------------------------------------------------------------------------------------------------------------------------------------------------------------------------------------------------------------------------------------------------------------------------------------------------------------------------------------------------------------------------------------------------------------------------------------------------------------------------------------------------------------------------------------------------------------------------------------------------------------------------------------------------------------------------------------------------------------------------------------------------------------------------------------------------------------------------------------------------------------------------------------------------------------------------------------------------------------------------------------------------------------------------------------------------------------------------------------------------------------------------------------------------------------------------------------------------------------------------------------------------------------------------------------------------------------------------------------------------------------------------------------------------------------+---------------+--------------------------------+----------------------------------------------------------------------------------------------------------------------------------------------------------------------------------------------------------------------------------------------------------------------------------+\n",
      "|authors_scanR                                                                                                                                                                                                                                                                                                                                                                                                                                                                                                                                                                                                                                                                                                                                                                                                                                                                                                                                                                                                                                                                                                                                                                                                                                                                                                                                                                                                                                                                                                                                                                                                                                                                                                                                                                                                                                                                                                                                                                                                                                                                                                                                                                                                                                                                                                                                                                                                                                                                                                                                                                                                                                                                                                                                                                                                                                                                                                                                                                                                                                                                                                                                                                   |scanR_id       |work_id                         |authors_oa                                                                                                                                                                                                                                                                        |\n",
      "+--------------------------------------------------------------------------------------------------------------------------------------------------------------------------------------------------------------------------------------------------------------------------------------------------------------------------------------------------------------------------------------------------------------------------------------------------------------------------------------------------------------------------------------------------------------------------------------------------------------------------------------------------------------------------------------------------------------------------------------------------------------------------------------------------------------------------------------------------------------------------------------------------------------------------------------------------------------------------------------------------------------------------------------------------------------------------------------------------------------------------------------------------------------------------------------------------------------------------------------------------------------------------------------------------------------------------------------------------------------------------------------------------------------------------------------------------------------------------------------------------------------------------------------------------------------------------------------------------------------------------------------------------------------------------------------------------------------------------------------------------------------------------------------------------------------------------------------------------------------------------------------------------------------------------------------------------------------------------------------------------------------------------------------------------------------------------------------------------------------------------------------------------------------------------------------------------------------------------------------------------------------------------------------------------------------------------------------------------------------------------------------------------------------------------------------------------------------------------------------------------------------------------------------------------------------------------------------------------------------------------------------------------------------------------------------------------------------------------------------------------------------------------------------------------------------------------------------------------------------------------------------------------------------------------------------------------------------------------------------------------------------------------------------------------------------------------------------------------------------------------------------------------------------------------------+---------------+--------------------------------+----------------------------------------------------------------------------------------------------------------------------------------------------------------------------------------------------------------------------------------------------------------------------------+\n",
      "|[{[{http://catalogue.bnf.fr/ark:/12148/cb11989073w, 0000000121976115, NULL, NULL, NULL, NULL, [027710327, 086236768], [ECP, École centrale des arts et manufactures (Châtenay-Malabry, Hauts-de-Seine), École centrale des arts et manufactures (Paris), École centrale Paris-ECP, Centrale Paris, École centrale de Paris, Ecole impériale centrale des arts et manufactures (Paris), École centrale des arts et manufactures, Ecole impériale centrale des arts et manufactures], NULL, NULL, NULL, theses, NULL, NULL, NULL, NULL, NULL, NULL, NULL, 027960250, [{grid.14001.34, grid}], École centrale Paris, NULL, NULL, NULL, NULL, NULL, NULL, http://viaf.org/viaf/127109770, NULL, NULL}], {idref154929891, NULL, 154929891, NULL}, José Celso, José Celso Da Cunha, idref154929891###José Celso Da Cunha###FR, Da Cunha, idref154929891, author, NULL}, {NULL, {idref15481119X, NULL, 15481119X, NULL}, Bernard, Bernard Fouré, idref15481119X###Bernard Fouré###NOT_FR, Fouré, idref15481119X, directeurthese, NULL}]                                                                                                                                                                                                                                                                                                                                                                                                                                                                                                                                                                                                                                                                                                                                                                                                                                                                                                                                                                                                                                                                                                                                                                                                                                                                                                                                                                                                                                                                                                                                                                                                                                                                                                                                                                                                                                                                                                                                                                                                                                                                                                                                                |nnt1985ecap0008|https://openalex.org/W777423086 |[{first, {https://openalex.org/A5015536505, da Cunha, NULL}, [], [], NULL, false, Da Cunha, [], NULL}, {last, {https://openalex.org/A5073842095, José Celso, NULL}, [], [], NULL, false, José Celso, [], NULL}]                                                                   |\n",
      "|[{[{http://catalogue.bnf.fr/ark:/12148/cb11989073w, 0000000121976115, NULL, NULL, NULL, NULL, [027710327, 086236768], [ECP, École centrale des arts et manufactures (Châtenay-Malabry, Hauts-de-Seine), École centrale des arts et manufactures (Paris), École centrale Paris-ECP, Centrale Paris, École centrale de Paris, Ecole impériale centrale des arts et manufactures (Paris), École centrale des arts et manufactures, Ecole impériale centrale des arts et manufactures], NULL, NULL, NULL, theses, NULL, NULL, NULL, NULL, NULL, NULL, NULL, 027960250, [{grid.14001.34, grid}], École centrale Paris, NULL, NULL, NULL, NULL, NULL, NULL, http://viaf.org/viaf/127109770, NULL, NULL}], {idref154929891, NULL, 154929891, NULL}, José Celso, José Celso Da Cunha, idref154929891###José Celso Da Cunha###FR, Da Cunha, idref154929891, author, NULL}, {NULL, {idref15481119X, NULL, 15481119X, NULL}, Bernard, Bernard Fouré, idref15481119X###Bernard Fouré###NOT_FR, Fouré, idref15481119X, directeurthese, NULL}]                                                                                                                                                                                                                                                                                                                                                                                                                                                                                                                                                                                                                                                                                                                                                                                                                                                                                                                                                                                                                                                                                                                                                                                                                                                                                                                                                                                                                                                                                                                                                                                                                                                                                                                                                                                                                                                                                                                                                                                                                                                                                                                                                |nnt1985ecap0008|https://openalex.org/W777423086 |[{first, {https://openalex.org/A5103935920, da Cunha, NULL}, [], [], [], false, Da Cunha, [], []}, {last, {https://openalex.org/A5073842095, José Celso, NULL}, [], [], [], false, José Celso, [], []}]                                                                           |\n",
      "|[{[{http://catalogue.bnf.fr/ark:/12148/cb118791833, 0000000121514068, NULL, NULL, NULL, [Bâtiment des Grands-Moulins, 75205 Paris Cedex 13, 5 rue Thomas-Mann, 75205 Paris Cedex 13], [026569507], [Université de Paris VII - Denis Diderot, Université de Paris 7, Université Paris VII - Denis Diderot, Université de Paris 07, Université Paris VII, Paris-VII, Université de Paris VII, Université Paris 07, Université Paris 7, Université Denis Diderot (Paris), Université de Paris 7 - Denis Diderot, Université de Paris-VII, Université Denis Diderot], NULL, [Du 1er janvier 2015 au 31 août 2019, l'Université Paris Diderot - Paris 7 fait partie de la COMUE Université Sorbonne Paris Cité à laquelle est transférée la compétence de délivrance du diplôme de doctorat. Pendant cette période, l'Université Paris Diderot - Paris 7 est considérée seulement comme l'établissement de préparation de la thèse, L'Université Paris Diderot - Paris 7 disparaît le 1er janvier 2020 après avoir fusionné avec l'Université Paris Descartes pour créer Université Paris Cité. Celle-ci reprend l'habilitation à délivrer le diplôme de doctorat dès le 1er septembre 2019], NULL, theses, NULL, NULL, NULL, NULL, NULL, NULL, NULL, 027542084, [{grid.508487.6, grid}], Université Paris Diderot - Paris 7, NULL, NULL, NULL, NULL, NULL, NULL, http://viaf.org/viaf/125086783, NULL, NULL}], {idref030936489, NULL, 030936489, NULL}, Catherine, Catherine Brun, idref030936489###Catherine Brun###NOT_FR, Brun, idref030936489, author, NULL}, {NULL, {idref034910123, NULL, 034910123, NULL}, Olivier, Olivier Dollfus, idref034910123###Olivier Dollfus###NOT_FR, Dollfus, idref034910123, directeurthese, NULL}]                                                                                                                                                                                                                                                                                                                                                                                                                                                                                                                                                                                                                                                                                                                                                                                                                                                                                                                                                                                                                                                                                                                                                                                                                                                                                                                                                                                                                                              |nnt1985pa070020|https://openalex.org/W839927305 |[{first, {https://openalex.org/A5060161630, Catherine Brun, https://orcid.org/0000-0002-5563-6765}, [], [], NULL, false, Catherine Brun, [], NULL}, {last, {https://openalex.org/A5057194447, Christine Dupuis, NULL}, [], [], NULL, false, Christine Dupuis, [], NULL}]          |\n",
      "|[{[{http://catalogue.bnf.fr/ark:/12148/cb118791833, 0000000121514068, NULL, NULL, NULL, [Bâtiment des Grands-Moulins, 75205 Paris Cedex 13, 5 rue Thomas-Mann, 75205 Paris Cedex 13], [026569507], [Université de Paris VII - Denis Diderot, Université de Paris 7, Université Paris VII - Denis Diderot, Université de Paris 07, Université Paris VII, Paris-VII, Université de Paris VII, Université Paris 07, Université Paris 7, Université Denis Diderot (Paris), Université de Paris 7 - Denis Diderot, Université de Paris-VII, Université Denis Diderot], NULL, [Du 1er janvier 2015 au 31 août 2019, l'Université Paris Diderot - Paris 7 fait partie de la COMUE Université Sorbonne Paris Cité à laquelle est transférée la compétence de délivrance du diplôme de doctorat. Pendant cette période, l'Université Paris Diderot - Paris 7 est considérée seulement comme l'établissement de préparation de la thèse, L'Université Paris Diderot - Paris 7 disparaît le 1er janvier 2020 après avoir fusionné avec l'Université Paris Descartes pour créer Université Paris Cité. Celle-ci reprend l'habilitation à délivrer le diplôme de doctorat dès le 1er septembre 2019], NULL, theses, NULL, NULL, NULL, NULL, NULL, NULL, NULL, 027542084, [{grid.508487.6, grid}], Université Paris Diderot - Paris 7, NULL, NULL, NULL, NULL, NULL, NULL, http://viaf.org/viaf/125086783, NULL, NULL}], {idref030936489, NULL, 030936489, NULL}, Catherine, Catherine Brun, idref030936489###Catherine Brun###NOT_FR, Brun, idref030936489, author, NULL}, {NULL, {idref034910123, NULL, 034910123, NULL}, Olivier, Olivier Dollfus, idref034910123###Olivier Dollfus###NOT_FR, Dollfus, idref034910123, directeurthese, NULL}]                                                                                                                                                                                                                                                                                                                                                                                                                                                                                                                                                                                                                                                                                                                                                                                                                                                                                                                                                                                                                                                                                                                                                                                                                                                                                                                                                                                                                                              |nnt1985pa070020|https://openalex.org/W839927305 |[{first, {https://openalex.org/A5101810016, Catherine Brun, https://orcid.org/0000-0002-1774-5602}, [], [], [], false, Catherine Brun, [], []}, {last, {https://openalex.org/A5057194447, Christine Dupuis, NULL}, [], [], [], false, Christine Dupuis, [], []}]                  |\n",
      "|[{[{http://catalogue.bnf.fr/ark:/12148/cb11862993q, NULL, NULL, NULL, NULL, NULL, [026368935, 028021746], [Université de Paris-Sud. Centre scientifique d'Orsay (Essonne), Université Paris 11. Faculté des sciences d'Orsay, Université de Paris 11. Faculté des sciences d'Orsay, Paris 11. Faculté des sciences d'Orsay, Paris 11, Centre d'Orsay, Université de Paris-Sud, Université de Paris 11, Université de Paris-Sud. UFR d'Orsay (Essonne), Université de Paris-Sud. Centre d'Orsay (Essonne), Centre d'Orsay. Faculté des sciences de l'Université de Paris, Université Paris 11], NULL, NULL, NULL, theses, NULL, NULL, NULL, NULL, NULL, NULL, NULL, 060275456, NULL, Université de Paris-Sud, NULL, NULL, NULL, NULL, NULL, NULL, http://viaf.org/viaf/313172559, NULL, NULL}, {http://catalogue.bnf.fr/ark:/12148/cb11865819r, 0000000121712558, NULL, NULL, NULL, [Siège administratif : 15 rue Georges-Clemenceau, 91405 Orsay Cedex], [02759131X], [Université de Paris-Orsay, Université Paris XI, Université de Paris 11, Université de Paris-Sud, Université de Paris XI, Paris XI Université Paris-Sud, Université Paris 11, Université d'Orsay, Université de Paris XI-Sceaux], NULL, [Université présente sur trois départements et sur 13 communes : Antony, Bures-sur-Yvette, Cachan, Châtenay-Malabry, Clamart, Gentilly, Gif-sur-Yvette, Kremlin-Bicêtre, Orsay, Le Plessis-Robinson, Sceaux, Les Ulis, Villejuif, A compter du 01 janvier 2020, l'université Paris-Saclay se substitue à l'université Paris-XI et à la communauté d'universités et établissements « Université Paris-Saclay »], NULL, theses, NULL, NULL, NULL, NULL, NULL, NULL, NULL, 026404664, NULL, Université Paris-Sud, NULL, NULL, NULL, NULL, NULL, NULL, http://viaf.org/viaf/141437288, NULL, NULL}], {idref076122832, NULL, 076122832, NULL}, Diego Miguel, Diego Miguel Cortés Martínez, idref076122832###Diego Miguel Cortés Martínez###NOT_FR, Cortés Martínez, idref076122832, author, NULL}, {NULL, {idref075693992, NULL, 075693992, NULL}, André, André Cavé, idref075693992###André Cavé###NOT_FR, Cavé, idref075693992, directeurthese, NULL}, {NULL, {idref069037477, NULL, 069037477, NULL}, Alain, Alain Gaudemer, idref069037477###Alain Gaudemer###NOT_FR, Gaudemer, idref069037477, presidentjury, NULL}, {NULL, {idref075693992, NULL, 075693992, NULL}, André, André Cavé, idref075693992###André Cavé###NOT_FR, Cavé, idref075693992, membrejury, NULL}, {NULL, {idref069037477, NULL, 069037477, NULL}, Alain, Alain Gaudemer, idref069037477###Alain Gaudemer###NOT_FR, Gaudemer, idref069037477, membrejury, NULL}, {NULL, {idref075183226, NULL, 075183226, NULL}, Claudine Billy, Claudine Billy Pascard, idref075183226###Claudine Billy Pascard###NOT_FR, Pascard, idref075183226, membrejury, NULL}, {NULL, {idref027039773, NULL, 027039773, NULL}, Henri, Henri Moskowitz, idref027039773###Henri Moskowitz###NOT_FR, Moskowitz, idref027039773, membrejury, NULL}, {NULL, {idref077781678, NULL, 077781678, NULL}, Hélène, Hélène Guinaudeau, idref077781678###Hélène Guinaudeau###NOT_FR, Guinaudeau, idref077781678, membrejury, NULL}]|nnt1985pa112052|https://openalex.org/W2193340458|[{first, {https://openalex.org/A5084564736, Cortés Martínez, NULL}, [], [], NULL, false, Cortés Martínez, [], NULL}, {last, {https://openalex.org/A5087974339, Diego de Miguel, https://orcid.org/0000-0002-8486-8514}, [], [], NULL, false, Diego Miguel, [], NULL}]             |\n",
      "|[{[{http://catalogue.bnf.fr/ark:/12148/cb11862993q, NULL, NULL, NULL, NULL, NULL, [026368935, 028021746], [Université de Paris-Sud. Centre scientifique d'Orsay (Essonne), Université Paris 11. Faculté des sciences d'Orsay, Université de Paris 11. Faculté des sciences d'Orsay, Paris 11. Faculté des sciences d'Orsay, Paris 11, Centre d'Orsay, Université de Paris-Sud, Université de Paris 11, Université de Paris-Sud. UFR d'Orsay (Essonne), Université de Paris-Sud. Centre d'Orsay (Essonne), Centre d'Orsay. Faculté des sciences de l'Université de Paris, Université Paris 11], NULL, NULL, NULL, theses, NULL, NULL, NULL, NULL, NULL, NULL, NULL, 060275456, NULL, Université de Paris-Sud, NULL, NULL, NULL, NULL, NULL, NULL, http://viaf.org/viaf/313172559, NULL, NULL}, {http://catalogue.bnf.fr/ark:/12148/cb11865819r, 0000000121712558, NULL, NULL, NULL, [Siège administratif : 15 rue Georges-Clemenceau, 91405 Orsay Cedex], [02759131X], [Université de Paris-Orsay, Université Paris XI, Université de Paris 11, Université de Paris-Sud, Université de Paris XI, Paris XI Université Paris-Sud, Université Paris 11, Université d'Orsay, Université de Paris XI-Sceaux], NULL, [Université présente sur trois départements et sur 13 communes : Antony, Bures-sur-Yvette, Cachan, Châtenay-Malabry, Clamart, Gentilly, Gif-sur-Yvette, Kremlin-Bicêtre, Orsay, Le Plessis-Robinson, Sceaux, Les Ulis, Villejuif, A compter du 01 janvier 2020, l'université Paris-Saclay se substitue à l'université Paris-XI et à la communauté d'universités et établissements « Université Paris-Saclay »], NULL, theses, NULL, NULL, NULL, NULL, NULL, NULL, NULL, 026404664, NULL, Université Paris-Sud, NULL, NULL, NULL, NULL, NULL, NULL, http://viaf.org/viaf/141437288, NULL, NULL}], {idref076122832, NULL, 076122832, NULL}, Diego Miguel, Diego Miguel Cortés Martínez, idref076122832###Diego Miguel Cortés Martínez###NOT_FR, Cortés Martínez, idref076122832, author, NULL}, {NULL, {idref075693992, NULL, 075693992, NULL}, André, André Cavé, idref075693992###André Cavé###NOT_FR, Cavé, idref075693992, directeurthese, NULL}, {NULL, {idref069037477, NULL, 069037477, NULL}, Alain, Alain Gaudemer, idref069037477###Alain Gaudemer###NOT_FR, Gaudemer, idref069037477, presidentjury, NULL}, {NULL, {idref075693992, NULL, 075693992, NULL}, André, André Cavé, idref075693992###André Cavé###NOT_FR, Cavé, idref075693992, membrejury, NULL}, {NULL, {idref069037477, NULL, 069037477, NULL}, Alain, Alain Gaudemer, idref069037477###Alain Gaudemer###NOT_FR, Gaudemer, idref069037477, membrejury, NULL}, {NULL, {idref075183226, NULL, 075183226, NULL}, Claudine Billy, Claudine Billy Pascard, idref075183226###Claudine Billy Pascard###NOT_FR, Pascard, idref075183226, membrejury, NULL}, {NULL, {idref027039773, NULL, 027039773, NULL}, Henri, Henri Moskowitz, idref027039773###Henri Moskowitz###NOT_FR, Moskowitz, idref027039773, membrejury, NULL}, {NULL, {idref077781678, NULL, 077781678, NULL}, Hélène, Hélène Guinaudeau, idref077781678###Hélène Guinaudeau###NOT_FR, Guinaudeau, idref077781678, membrejury, NULL}]|nnt1985pa112052|https://openalex.org/W2193340458|[{first, {https://openalex.org/A5084564736, Cortés Martínez, NULL}, [], [], [], false, Cortés Martínez, [], []}, {last, {https://openalex.org/A5087974339, Diego de Miguel, https://orcid.org/0000-0002-8486-8514}, [], [], [], false, Diego Miguel, [], []}]                     |\n",
      "|[{[{http://catalogue.bnf.fr/ark:/12148/cb118634582, 000000012178632X, NULL, NULL, NULL, [54 boulevard Raspail 75006 PARIS], [029157730], [EHESS, E.H.E.S.S.], NULL, [Le décret du 23-01-1975 fait de la VIe Section de l'Ecole pratique des hautes études un établissement autonome, public et national à caractère scientifique et culturel, ayant le statut de grand établissement ; antennes à Lyon, Marseille et Toulouse], NULL, theses, NULL, NULL, NULL, NULL, NULL, NULL, NULL, 026374889, [], École des hautes études en sciences sociales, NULL, NULL, NULL, NULL, NULL, NULL, http://viaf.org/viaf/285674985, NULL, NULL}], NULL, Maria Patricia, Maria Patricia Nettel Diaz, NULL, Nettel Diaz, NULL, author, NULL}, {NULL, {idref026974851, NULL, 026974851, NULL}, Emmanuel, Emmanuel Le Roy Ladurie, idref026974851###Emmanuel Le Roy Ladurie###NOT_FR, Le Roy Ladurie, idref026974851, directeurthese, NULL}]                                                                                                                                                                                                                                                                                                                                                                                                                                                                                                                                                                                                                                                                                                                                                                                                                                                                                                                                                                                                                                                                                                                                                                                                                                                                                                                                                                                                                                                                                                                                                                                                                                                                                                                                                                                                                                                                                                                                                                                                                                                                                                                                                                                                                                                   |nnt1986ehes0041|https://openalex.org/W2762758284|[{first, {https://openalex.org/A5018214265, Nettel Díaz, NULL}, [], [], NULL, false, Nettel Diaz, [], NULL}, {last, {https://openalex.org/A5011816086, María Patricia, NULL}, [], [], NULL, false, Maria Patricia, [], NULL}]                                                     |\n",
      "|[{[{http://catalogue.bnf.fr/ark:/12148/cb118634582, 000000012178632X, NULL, NULL, NULL, [54 boulevard Raspail 75006 PARIS], [029157730], [EHESS, E.H.E.S.S.], NULL, [Le décret du 23-01-1975 fait de la VIe Section de l'Ecole pratique des hautes études un établissement autonome, public et national à caractère scientifique et culturel, ayant le statut de grand établissement ; antennes à Lyon, Marseille et Toulouse], NULL, theses, NULL, NULL, NULL, NULL, NULL, NULL, NULL, 026374889, [], École des hautes études en sciences sociales, NULL, NULL, NULL, NULL, NULL, NULL, http://viaf.org/viaf/285674985, NULL, NULL}], NULL, Maria Patricia, Maria Patricia Nettel Diaz, NULL, Nettel Diaz, NULL, author, NULL}, {NULL, {idref026974851, NULL, 026974851, NULL}, Emmanuel, Emmanuel Le Roy Ladurie, idref026974851###Emmanuel Le Roy Ladurie###NOT_FR, Le Roy Ladurie, idref026974851, directeurthese, NULL}]                                                                                                                                                                                                                                                                                                                                                                                                                                                                                                                                                                                                                                                                                                                                                                                                                                                                                                                                                                                                                                                                                                                                                                                                                                                                                                                                                                                                                                                                                                                                                                                                                                                                                                                                                                                                                                                                                                                                                                                                                                                                                                                                                                                                                                                   |nnt1986ehes0041|https://openalex.org/W2762758284|[{first, {https://openalex.org/A5018214265, Nettel Díaz, NULL}, [], [], [], false, Nettel Diaz, [], []}, {last, {https://openalex.org/A5103597998, María Patricia, NULL}, [], [], [], false, Maria Patricia, [], []}]                                                             |\n",
      "|[{[{http://catalogue.bnf.fr/ark:/12148/cb11875570w, 0000000121881378, NULL, NULL, NULL, NULL, [028181875, 034453229], [École supérieure d'aéronautique et de construction mécanique (Paris), École supérieure d'aéronautique et de constructions mécaniques, ENSA, École supérieure d'aéronautique et de construction mécanique, ENSAE, France. Délégation générale pour l'armement. École nationale supérieure de l'aéronautique et de l'espace, École nationale supérieure de l'aéronautique, École nationale supérieure de l'aéronautique (Paris), France, France. Délégation générale pour l'armement. École nationale supérieure de l'aéronautique et de l'espace (Toulouse), ESA, École supérieure d'aéronautique et de constructions mécaniques (Paris), Sup'aéro, SUPAERO], NULL, [L'École supérieure d'aéronautique et de constructions mécaniques est fondée en 1909 par le Colonel Roche. - Devient par décret du 21 mai 1930 l'École nationale supérieure de l'aéronautique. - Décentralisée vers Toulouse en 1968. - En 1972 prend le nom d'École nationale supérieure de l'aéronautique et de l'espace. - En 1994 devient un établissement public à caractère administratif sous tutelle du ministère de la Défense, 10 av. Edouard-Belin, BP 4032, 31055 Toulouse Cedex], NULL, theses, NULL, NULL, NULL, NULL, NULL, NULL, NULL, 026523493, [{grid.462179.f, grid}], École nationale supérieure de l'aéronautique et de l'espace, NULL, NULL, NULL, NULL, NULL, NULL, http://viaf.org/viaf/153180873, NULL, NULL}], {idref164193987, NULL, 164193987, NULL}, Bala Jean-Philippe, Bala Jean-Philippe Bakassa Traore, idref164193987###Bala Jean-Philippe Bakassa Traore###FR, Bakassa Traore, idref164193987, author, NULL}, {NULL, {idref026968568, NULL, 026968568, NULL}, Michel, Michel Laug, idref026968568###Michel Laug###NOT_FR, Laug, idref026968568, directeurthese, NULL}]                                                                                                                                                                                                                                                                                                                                                                                                                                                                                                                                                                                                                                                                                                                                                                                                                                                                                                                                                                                                                                                                                                                                                                                                                                                                            |nnt1986esae0003|https://openalex.org/W431449235 |[{first, {https://openalex.org/A5091725966, Bakassa Traore, NULL}, [], [], NULL, false, Bakassa Traore, [], NULL}, {last, {https://openalex.org/A5060392163, Bala Jean-Philippe, NULL}, [], [], NULL, false, Bala Jean-Philippe, [], NULL}]                                       |\n",
      "|[{[{http://catalogue.bnf.fr/ark:/12148/cb11875570w, 0000000121881378, NULL, NULL, NULL, NULL, [028181875, 034453229], [École supérieure d'aéronautique et de construction mécanique (Paris), École supérieure d'aéronautique et de constructions mécaniques, ENSA, École supérieure d'aéronautique et de construction mécanique, ENSAE, France. Délégation générale pour l'armement. École nationale supérieure de l'aéronautique et de l'espace, École nationale supérieure de l'aéronautique, École nationale supérieure de l'aéronautique (Paris), France, France. Délégation générale pour l'armement. École nationale supérieure de l'aéronautique et de l'espace (Toulouse), ESA, École supérieure d'aéronautique et de constructions mécaniques (Paris), Sup'aéro, SUPAERO], NULL, [L'École supérieure d'aéronautique et de constructions mécaniques est fondée en 1909 par le Colonel Roche. - Devient par décret du 21 mai 1930 l'École nationale supérieure de l'aéronautique. - Décentralisée vers Toulouse en 1968. - En 1972 prend le nom d'École nationale supérieure de l'aéronautique et de l'espace. - En 1994 devient un établissement public à caractère administratif sous tutelle du ministère de la Défense, 10 av. Edouard-Belin, BP 4032, 31055 Toulouse Cedex], NULL, theses, NULL, NULL, NULL, NULL, NULL, NULL, NULL, 026523493, [{grid.462179.f, grid}], École nationale supérieure de l'aéronautique et de l'espace, NULL, NULL, NULL, NULL, NULL, NULL, http://viaf.org/viaf/153180873, NULL, NULL}], {idref164193987, NULL, 164193987, NULL}, Bala Jean-Philippe, Bala Jean-Philippe Bakassa Traore, idref164193987###Bala Jean-Philippe Bakassa Traore###FR, Bakassa Traore, idref164193987, author, NULL}, {NULL, {idref026968568, NULL, 026968568, NULL}, Michel, Michel Laug, idref026968568###Michel Laug###NOT_FR, Laug, idref026968568, directeurthese, NULL}]                                                                                                                                                                                                                                                                                                                                                                                                                                                                                                                                                                                                                                                                                                                                                                                                                                                                                                                                                                                                                                                                                                                                                                                                                                                                            |nnt1986esae0003|https://openalex.org/W431449235 |[{first, {https://openalex.org/A5091725966, Bakassa Traore, NULL}, [], [], [], false, Bakassa Traore, [], []}, {last, {https://openalex.org/A5060392163, Bala Jean-Philippe, NULL}, [], [], [], false, Bala Jean-Philippe, [], []}]                                               |\n",
      "|[{[{http://catalogue.bnf.fr/ark:/12148/cb118656850, 0000000121686185, NULL, NULL, NULL, [43, Bd du 11 Novembre 1918, 69100 Villeurbanne], [028025172, 167239880], [Université Claude Bernard. Domaine Scientifique de la Doua (Lyon 1), Université de Lyon 1, Université Claude Bernard Lyon 1, UCBL, Lyon 1, Université de Lyon I, Université Claude Bernard], NULL, [Délivre les diplômes de doctorat entre 1971 et le 31-12-2015 puis à partir du 01-09-2022. Entre le 01-01-2016 et le 31-08-2022 les diplômes de doctorat sont délivrés par l'Université de Lyon (COMUE).], NULL, theses, NULL, NULL, NULL, NULL, NULL, NULL, NULL, 026402823, [{grid.7849.2, grid}, {196917744, sirene}, {19691774400019, siret}], Université Claude Bernard, NULL, NULL, NULL, NULL, NULL, NULL, http://viaf.org/viaf/138972729, NULL, NULL}], {idref030002648, NULL, 030002648, 0000-0001-9262-8863}, Ahmed Omar Touhami, Ahmed Omar Touhami Ahami, idref030002648###Ahmed Omar Touhami  Ahami###FR, Ahami, idref030002648, author, NULL}, {NULL, {idref026911310, NULL, 026911310, NULL}, Jean, Jean Guyotat, idref026911310###Jean Guyotat###NOT_FR, Guyotat, idref026911310, directeurthese, NULL}, {NULL, {idref026911310, NULL, 026911310, NULL}, Jean, Jean Guyotat, idref026911310###Jean Guyotat###NOT_FR, Guyotat, idref026911310, presidentjury, NULL}]                                                                                                                                                                                                                                                                                                                                                                                                                                                                                                                                                                                                                                                                                                                                                                                                                                                                                                                                                                                                                                                                                                                                                                                                                                                                                                                                                                                                                                                                                                                                                                                                                                                                                                                                                                                                                       |nnt1986lyo1h064|https://openalex.org/W2932120330|[{first, {https://openalex.org/A5050321000, Touhami Ahami, NULL}, [], [], NULL, false, Touhami Ahami, [], NULL}, {last, {https://openalex.org/A5050364829, Omar Ahmed, NULL}, [], [], NULL, false, Ahmed Omar, [], NULL}]                                                         |\n",
      "|[{[{http://catalogue.bnf.fr/ark:/12148/cb118656850, 0000000121686185, NULL, NULL, NULL, [43, Bd du 11 Novembre 1918, 69100 Villeurbanne], [028025172, 167239880], [Université Claude Bernard. Domaine Scientifique de la Doua (Lyon 1), Université de Lyon 1, Université Claude Bernard Lyon 1, UCBL, Lyon 1, Université de Lyon I, Université Claude Bernard], NULL, [Délivre les diplômes de doctorat entre 1971 et le 31-12-2015 puis à partir du 01-09-2022. Entre le 01-01-2016 et le 31-08-2022 les diplômes de doctorat sont délivrés par l'Université de Lyon (COMUE).], NULL, theses, NULL, NULL, NULL, NULL, NULL, NULL, NULL, 026402823, [{grid.7849.2, grid}, {196917744, sirene}, {19691774400019, siret}], Université Claude Bernard, NULL, NULL, NULL, NULL, NULL, NULL, http://viaf.org/viaf/138972729, NULL, NULL}], {idref030002648, NULL, 030002648, 0000-0001-9262-8863}, Ahmed Omar Touhami, Ahmed Omar Touhami Ahami, idref030002648###Ahmed Omar Touhami  Ahami###FR, Ahami, idref030002648, author, NULL}, {NULL, {idref026911310, NULL, 026911310, NULL}, Jean, Jean Guyotat, idref026911310###Jean Guyotat###NOT_FR, Guyotat, idref026911310, directeurthese, NULL}, {NULL, {idref026911310, NULL, 026911310, NULL}, Jean, Jean Guyotat, idref026911310###Jean Guyotat###NOT_FR, Guyotat, idref026911310, presidentjury, NULL}]                                                                                                                                                                                                                                                                                                                                                                                                                                                                                                                                                                                                                                                                                                                                                                                                                                                                                                                                                                                                                                                                                                                                                                                                                                                                                                                                                                                                                                                                                                                                                                                                                                                                                                                                                                                                                       |nnt1986lyo1h064|https://openalex.org/W2932120330|[{first, {https://openalex.org/A5050321000, Touhami Ahami, NULL}, [], [], [], false, Touhami Ahami, [], []}, {last, {https://openalex.org/A5103823997, Ahmed Omar, NULL}, [], [], [], false, Ahmed Omar, [], []}]                                                                 |\n",
      "|[{[{http://catalogue.bnf.fr/ark:/12148/cb118657211, 000000041937060X, NULL, NULL, NULL, [17 rue de la Sorbonne, 75230 Paris. Contact : 01 40 46 28 97. Site internet de la collectivité : http://www.univ-paris3.fr (2009-05-05)], [026403307], [Université Sorbonne Nouvelle - Paris III, Sorbonne Nouvelle, Université de Paris III, Université Paris 3 - Sorbonne Nouvelle, Université de la Sorbonne nouvelle - Paris III, Université Sorbonne Nouvelle, Université de Paris III - Sorbonne Nouvelle, Université Paris III - Sorbonne Nouvelle, Paris 3, Université Sorbonne Nouvelle (Paris), Ǧāmiʿaẗ Bārīs al-ṯāliṯaẗ al-Sūrbūn al-ǧadīdaẗ, Université Paris 3, Université de Paris 3 - Sorbonne Nouvelle, Paris III Université Sorbonne nouvelle, Université de la Sorbonne nouvelle - Paris 3, Université Paris III, Université de Paris 3, Université de la Sorbonne nouvelle], NULL, [A compter du 30 décembre 2014 l'Université Sorbonne Nouvelle - Paris 3 fait partie de la COMUE Université Sorbonne Paris Cité et lui transfère la compétence de délivrance du diplôme de doctorat à compter du 1er janvier 2015. A compter du 1er septembre 2019,  la COMUE USPC perd son habilitation à délivrer le doctorat et l'Université Sorbonne Nouvelle - Paris 3 la retrouve.], NULL, theses, NULL, NULL, 52995, NULL, NULL, NULL, NULL, 027361837, [{grid.17689.31, grid}, {grid.508487.6, grid}, {197517196, sirene}, {19751719600014, siret}], Université de la Sorbonne Nouvelle, NULL, NULL, NULL, NULL, NULL, NULL, http://viaf.org/viaf/123886017, NULL, NULL}], {idref181453339, NULL, 181453339, NULL}, Ben Youssef, Ben Youssef Ait Lemkadem, idref181453339###Ben Youssef Ait Lemkadem###FR, Ait Lemkadem, idref181453339, author, NULL}, {NULL, {idref026878925, NULL, 026878925, NULL}, Lionel, Lionel Galand, idref026878925###Lionel Galand###NOT_FR, Galand, idref026878925, directeurthese, NULL}]                                                                                                                                                                                                                                                                                                                                                                                                                                                                                                                                                                                                                                                                                                                                                                                                                                                                                                                                                                                                                                                                                                                                                                                                                                                    |nnt1986pa030056|https://openalex.org/W51387593  |[{first, {https://openalex.org/A5008302987, Ait Lemkadem, NULL}, [], [], NULL, false, Ait Lemkadem, [], NULL}, {last, {https://openalex.org/A5031783057, Youssef Bouabdallah, NULL}, [], [], NULL, false, Ben Youssef, [], NULL}]                                                 |\n",
      "|[{[{http://catalogue.bnf.fr/ark:/12148/cb118657211, 000000041937060X, NULL, NULL, NULL, [17 rue de la Sorbonne, 75230 Paris. Contact : 01 40 46 28 97. Site internet de la collectivité : http://www.univ-paris3.fr (2009-05-05)], [026403307], [Université Sorbonne Nouvelle - Paris III, Sorbonne Nouvelle, Université de Paris III, Université Paris 3 - Sorbonne Nouvelle, Université de la Sorbonne nouvelle - Paris III, Université Sorbonne Nouvelle, Université de Paris III - Sorbonne Nouvelle, Université Paris III - Sorbonne Nouvelle, Paris 3, Université Sorbonne Nouvelle (Paris), Ǧāmiʿaẗ Bārīs al-ṯāliṯaẗ al-Sūrbūn al-ǧadīdaẗ, Université Paris 3, Université de Paris 3 - Sorbonne Nouvelle, Paris III Université Sorbonne nouvelle, Université de la Sorbonne nouvelle - Paris 3, Université Paris III, Université de Paris 3, Université de la Sorbonne nouvelle], NULL, [A compter du 30 décembre 2014 l'Université Sorbonne Nouvelle - Paris 3 fait partie de la COMUE Université Sorbonne Paris Cité et lui transfère la compétence de délivrance du diplôme de doctorat à compter du 1er janvier 2015. A compter du 1er septembre 2019,  la COMUE USPC perd son habilitation à délivrer le doctorat et l'Université Sorbonne Nouvelle - Paris 3 la retrouve.], NULL, theses, NULL, NULL, 52995, NULL, NULL, NULL, NULL, 027361837, [{grid.17689.31, grid}, {grid.508487.6, grid}, {197517196, sirene}, {19751719600014, siret}], Université de la Sorbonne Nouvelle, NULL, NULL, NULL, NULL, NULL, NULL, http://viaf.org/viaf/123886017, NULL, NULL}], {idref181453339, NULL, 181453339, NULL}, Ben Youssef, Ben Youssef Ait Lemkadem, idref181453339###Ben Youssef Ait Lemkadem###FR, Ait Lemkadem, idref181453339, author, NULL}, {NULL, {idref026878925, NULL, 026878925, NULL}, Lionel, Lionel Galand, idref026878925###Lionel Galand###NOT_FR, Galand, idref026878925, directeurthese, NULL}]                                                                                                                                                                                                                                                                                                                                                                                                                                                                                                                                                                                                                                                                                                                                                                                                                                                                                                                                                                                                                                                                                                                                                                                                                                                    |nnt1986pa030056|https://openalex.org/W51387593  |[{first, {https://openalex.org/A5008302987, Ait Lemkadem, NULL}, [], [], [], false, Ait Lemkadem, [], []}, {last, {https://openalex.org/A5031783057, Youssef Bouabdallah, NULL}, [], [], [], false, Ben Youssef, [], []}]                                                         |\n",
      "|[{[{http://catalogue.bnf.fr/ark:/12148/cb11865827c, 0000000121880914, NULL, NULL, NULL, NULL, [028020677], [Université de Paris 05, Université René-Descartes, Université de Paris-V, Université de Paris V, Université de Paris 5], NULL, [Siège administratif : 12 rue de l'Ecole de Médecine, 75006 Paris, Créée sous le nom \"université René-Descartes\" (Paris-V), l'université adopte le nom \"université Paris Descartes\" en novembre 2006, Le 1er janvier 2015, l'université Paris Descartes devient membre de la ComUE Université Sorbonne Paris Cité (USPC). La ComUE délivre le doctorat en lieu et place de l'université Paris Descartes à compter du 1er janvier 2015, Le 1er janvier 2020, l'université Paris Descartes disparaît après avoir fusionné avec l'université Paris Diderot pour créer Université Paris Cité. Celle-ci reprend l'habilitation à délivrer le diplôme de doctorat dès le 1er septembre 2019], NULL, theses, NULL, NULL, 301664, NULL, NULL, NULL, NULL, 026404788, [{grid.508487.6, grid}], Université Paris Descartes, NULL, NULL, NULL, NULL, NULL, NULL, http://viaf.org/viaf/153150832, NULL, NULL}], {idref030976162, NULL, 030976162, NULL}, Maria Alice, Maria Alice De Lima Gomes Nogueira, idref030976162###Maria Alice De Lima Gomes Nogueira###NOT_FR, De Lima Gomes Nogueira, idref030976162, author, NULL}, {NULL, {idref026931427, NULL, 026931427, NULL}, Viviane, Viviane Isambert-Jamati, idref026931427###Viviane Isambert-Jamati###NOT_FR, Isambert-Jamati, idref026931427, directeurthese, NULL}]                                                                                                                                                                                                                                                                                                                                                                                                                                                                                                                                                                                                                                                                                                                                                                                                                                                                                                                                                                                                                                                                                                                                                                                                                                                                                                                                                                                                                                                                                                                                                                                                                      |nnt1986pa05h089|https://openalex.org/W2752369760|[{first, {https://openalex.org/A5088132205, De Lima Gomes Nogueira, NULL}, [], [], NULL, false, De Lima Gomes Nogueira, [], NULL}, {last, {https://openalex.org/A5047246047, Andrea De Maria, https://orcid.org/0000-0001-5782-333X}, [], [], NULL, false, Maria Alice, [], NULL}]|\n",
      "|[{[{http://catalogue.bnf.fr/ark:/12148/cb11865827c, 0000000121880914, NULL, NULL, NULL, NULL, [028020677], [Université de Paris 05, Université René-Descartes, Université de Paris-V, Université de Paris V, Université de Paris 5], NULL, [Siège administratif : 12 rue de l'Ecole de Médecine, 75006 Paris, Créée sous le nom \"université René-Descartes\" (Paris-V), l'université adopte le nom \"université Paris Descartes\" en novembre 2006, Le 1er janvier 2015, l'université Paris Descartes devient membre de la ComUE Université Sorbonne Paris Cité (USPC). La ComUE délivre le doctorat en lieu et place de l'université Paris Descartes à compter du 1er janvier 2015, Le 1er janvier 2020, l'université Paris Descartes disparaît après avoir fusionné avec l'université Paris Diderot pour créer Université Paris Cité. Celle-ci reprend l'habilitation à délivrer le diplôme de doctorat dès le 1er septembre 2019], NULL, theses, NULL, NULL, 301664, NULL, NULL, NULL, NULL, 026404788, [{grid.508487.6, grid}], Université Paris Descartes, NULL, NULL, NULL, NULL, NULL, NULL, http://viaf.org/viaf/153150832, NULL, NULL}], {idref030976162, NULL, 030976162, NULL}, Maria Alice, Maria Alice De Lima Gomes Nogueira, idref030976162###Maria Alice De Lima Gomes Nogueira###NOT_FR, De Lima Gomes Nogueira, idref030976162, author, NULL}, {NULL, {idref026931427, NULL, 026931427, NULL}, Viviane, Viviane Isambert-Jamati, idref026931427###Viviane Isambert-Jamati###NOT_FR, Isambert-Jamati, idref026931427, directeurthese, NULL}]                                                                                                                                                                                                                                                                                                                                                                                                                                                                                                                                                                                                                                                                                                                                                                                                                                                                                                                                                                                                                                                                                                                                                                                                                                                                                                                                                                                                                                                                                                                                                                                                                      |nnt1986pa05h089|https://openalex.org/W2752369760|[{first, {https://openalex.org/A5088132205, De Lima Gomes Nogueira, NULL}, [], [], [], false, De Lima Gomes Nogueira, [], []}, {last, {https://openalex.org/A5102645897, Maria Alice, NULL}, [], [], [], false, Maria Alice, [], []}]                                             |\n",
      "|[{[{http://catalogue.bnf.fr/ark:/12148/cb118657738, 0000000121758644, NULL, NULL, NULL, NULL, [027542149], [Université de Toulouse-Le Mirail, Université de Toulouse 02, UTM, Universite de Toulouse 2, Université de Toulouse II - Le Mirail, Université de Toulouse-Mirail, UT2J, Université Toulouse-Le Mirail, Universite Toulouse 2, Université Toulouse Jean Jaurès], NULL, [5 allées Antonio-Machado, 31058 Toulouse Cedex. Tél. 61.41.11.05. Fax 61.50.42.09. Minitel 3616 UTM, L'université de Toulouse II est érigée en établissement public à caractère scientifique et culturel en vertu du décret du 23 décembre 1970 à compter du 1er janvier 1971., L'Université Toulouse Le Mirail devient l'Université Toulouse Jean Jaurès à compter du 25 mars 2014], NULL, theses, NULL, NULL, 116256, NULL, NULL, NULL, NULL, 026403994, [{grid.410542.6, grid}, {193113834, sirene}, {19311383400017, siret}], Université Toulouse - Jean Jaurès, NULL, NULL, NULL, NULL, NULL, NULL, http://viaf.org/viaf/144442659, NULL, NULL}], {idref031516947, NULL, 031516947, NULL}, Myriam de, Myriam de Leonardis, idref031516947###Myriam de Leonardis###FR, Leonardis, idref031516947, author, NULL}, {NULL, {idref027154750, NULL, 027154750, NULL}, Pierre, Pierre Tap, idref027154750###Pierre Tap###NOT_FR, Tap, idref027154750, directeurthese, NULL}]                                                                                                                                                                                                                                                                                                                                                                                                                                                                                                                                                                                                                                                                                                                                                                                                                                                                                                                                                                                                                                                                                                                                                                                                                                                                                                                                                                                                                                                                                                                                                                                                                                                                                                                                                                                                                   |nnt1986tou20035|https://openalex.org/W2754650123|[{first, {https://openalex.org/A5057096337, Myriam de Léonardis, NULL}, [], [], NULL, false, Myriam de Leonardis, [], NULL}, {last, {https://openalex.org/A5024014502, Odette Lescarret, NULL}, [], [], NULL, false, Odette Lescarret, [], NULL}]                                 |\n",
      "|[{[{http://catalogue.bnf.fr/ark:/12148/cb118657738, 0000000121758644, NULL, NULL, NULL, NULL, [027542149], [Université de Toulouse-Le Mirail, Université de Toulouse 02, UTM, Universite de Toulouse 2, Université de Toulouse II - Le Mirail, Université de Toulouse-Mirail, UT2J, Université Toulouse-Le Mirail, Universite Toulouse 2, Université Toulouse Jean Jaurès], NULL, [5 allées Antonio-Machado, 31058 Toulouse Cedex. Tél. 61.41.11.05. Fax 61.50.42.09. Minitel 3616 UTM, L'université de Toulouse II est érigée en établissement public à caractère scientifique et culturel en vertu du décret du 23 décembre 1970 à compter du 1er janvier 1971., L'Université Toulouse Le Mirail devient l'Université Toulouse Jean Jaurès à compter du 25 mars 2014], NULL, theses, NULL, NULL, 116256, NULL, NULL, NULL, NULL, 026403994, [{grid.410542.6, grid}, {193113834, sirene}, {19311383400017, siret}], Université Toulouse - Jean Jaurès, NULL, NULL, NULL, NULL, NULL, NULL, http://viaf.org/viaf/144442659, NULL, NULL}], {idref031516947, NULL, 031516947, NULL}, Myriam de, Myriam de Leonardis, idref031516947###Myriam de Leonardis###FR, Leonardis, idref031516947, author, NULL}, {NULL, {idref027154750, NULL, 027154750, NULL}, Pierre, Pierre Tap, idref027154750###Pierre Tap###NOT_FR, Tap, idref027154750, directeurthese, NULL}]                                                                                                                                                                                                                                                                                                                                                                                                                                                                                                                                                                                                                                                                                                                                                                                                                                                                                                                                                                                                                                                                                                                                                                                                                                                                                                                                                                                                                                                                                                                                                                                                                                                                                                                                                                                                                   |nnt1986tou20035|https://openalex.org/W2754650123|[{first, {https://openalex.org/A5039105019, Amélie Courtinat-Camps, https://orcid.org/0009-0007-1304-2583}, [], [], [], false, Myriam de Leonardis, [], []}, {last, {https://openalex.org/A5024014502, Odette Lescarret, NULL}, [], [], [], false, Odette Lescarret, [], []}]     |\n",
      "|[{[{http://catalogue.bnf.fr/ark:/12148/cb127529370, 000000012185306X, NULL, NULL, NULL, NULL, [], [Université d'Aix-Marseille I. Faculté des lettres, Université d'Aix-Marseille I, Université de Provence, Université de Provence. Faculté des lettres], NULL, NULL, NULL, theses, NULL, NULL, NULL, NULL, NULL, NULL, NULL, 030142946, [{grid.5399.6, grid}, {130015332, sirene}, {13001533200013, siret}], Université de Provence, NULL, NULL, NULL, NULL, NULL, NULL, http://viaf.org/viaf/151270511, NULL, NULL}, {http://catalogue.bnf.fr/ark:/12148/cb11865687p, 0000000120974556, NULL, NULL, NULL, NULL, [028025105], [Université de la Méditerranée Aix-Marseille II, Université de la Méditerranée, Université Aix-Marseille 02, Université Aix-Marseille 2], NULL, [58 bd Charles-Livon, 13007 Marseille], NULL, theses, NULL, NULL, 5033, NULL, NULL, NULL, NULL, 026402882, [{grid.5399.6, grid}, {130015332, sirene}, {13001533200013, siret}], Université Aix-Marseille II, NULL, NULL, NULL, NULL, NULL, NULL, http://viaf.org/viaf/129015587, NULL, NULL}], {idref14420245X, NULL, 14420245X, NULL}, Sylvie, Sylvie Juramy, idref14420245X###Sylvie Juramy###FR, Juramy, idref14420245X, author, NULL}, {NULL, {idref074151525, NULL, 074151525, NULL}, Pierre, Pierre Gabert, idref074151525###Pierre Gabert###NOT_FR, Gabert, idref074151525, directeurthese, NULL}, {NULL, {idref071024689, NULL, 071024689, NULL}, Jean, Jean Nicod, idref071024689###Jean Nicod###NOT_FR, Nicod, idref071024689, directeurthese, NULL}]                                                                                                                                                                                                                                                                                                                                                                                                                                                                                                                                                                                                                                                                                                                                                                                                                                                                                                                                                                                                                                                                                                                                                                                                                                                                                                                                                                                                                                                                                                                                                                                                                                  |nnt1987aix23001|https://openalex.org/W2701853909|[{first, {https://openalex.org/A5064674536, Sylvie Juramy, NULL}, [], [], NULL, false, Sylvie Juramy, [], NULL}, {last, {https://openalex.org/A5047667116, Isabelle Monfort, NULL}, [], [], NULL, false, Isabelle Monfort, [], NULL}]                                             |\n",
      "|[{[{http://catalogue.bnf.fr/ark:/12148/cb127529370, 000000012185306X, NULL, NULL, NULL, NULL, [], [Université d'Aix-Marseille I. Faculté des lettres, Université d'Aix-Marseille I, Université de Provence, Université de Provence. Faculté des lettres], NULL, NULL, NULL, theses, NULL, NULL, NULL, NULL, NULL, NULL, NULL, 030142946, [{grid.5399.6, grid}, {130015332, sirene}, {13001533200013, siret}], Université de Provence, NULL, NULL, NULL, NULL, NULL, NULL, http://viaf.org/viaf/151270511, NULL, NULL}, {http://catalogue.bnf.fr/ark:/12148/cb11865687p, 0000000120974556, NULL, NULL, NULL, NULL, [028025105], [Université de la Méditerranée Aix-Marseille II, Université de la Méditerranée, Université Aix-Marseille 02, Université Aix-Marseille 2], NULL, [58 bd Charles-Livon, 13007 Marseille], NULL, theses, NULL, NULL, 5033, NULL, NULL, NULL, NULL, 026402882, [{grid.5399.6, grid}, {130015332, sirene}, {13001533200013, siret}], Université Aix-Marseille II, NULL, NULL, NULL, NULL, NULL, NULL, http://viaf.org/viaf/129015587, NULL, NULL}], {idref14420245X, NULL, 14420245X, NULL}, Sylvie, Sylvie Juramy, idref14420245X###Sylvie Juramy###FR, Juramy, idref14420245X, author, NULL}, {NULL, {idref074151525, NULL, 074151525, NULL}, Pierre, Pierre Gabert, idref074151525###Pierre Gabert###NOT_FR, Gabert, idref074151525, directeurthese, NULL}, {NULL, {idref071024689, NULL, 071024689, NULL}, Jean, Jean Nicod, idref071024689###Jean Nicod###NOT_FR, Nicod, idref071024689, directeurthese, NULL}]                                                                                                                                                                                                                                                                                                                                                                                                                                                                                                                                                                                                                                                                                                                                                                                                                                                                                                                                                                                                                                                                                                                                                                                                                                                                                                                                                                                                                                                                                                                                                                                                                                  |nnt1987aix23001|https://openalex.org/W2701853909|[{first, {https://openalex.org/A5064674536, Sylvie Juramy, NULL}, [], [], NULL, false, Sylvie Juramy, [], NULL}, {last, {https://openalex.org/A5047667116, Isabelle Monfort, NULL}, [], [], NULL, false, Isabelle Monfort, [], NULL}]                                             |\n",
      "+--------------------------------------------------------------------------------------------------------------------------------------------------------------------------------------------------------------------------------------------------------------------------------------------------------------------------------------------------------------------------------------------------------------------------------------------------------------------------------------------------------------------------------------------------------------------------------------------------------------------------------------------------------------------------------------------------------------------------------------------------------------------------------------------------------------------------------------------------------------------------------------------------------------------------------------------------------------------------------------------------------------------------------------------------------------------------------------------------------------------------------------------------------------------------------------------------------------------------------------------------------------------------------------------------------------------------------------------------------------------------------------------------------------------------------------------------------------------------------------------------------------------------------------------------------------------------------------------------------------------------------------------------------------------------------------------------------------------------------------------------------------------------------------------------------------------------------------------------------------------------------------------------------------------------------------------------------------------------------------------------------------------------------------------------------------------------------------------------------------------------------------------------------------------------------------------------------------------------------------------------------------------------------------------------------------------------------------------------------------------------------------------------------------------------------------------------------------------------------------------------------------------------------------------------------------------------------------------------------------------------------------------------------------------------------------------------------------------------------------------------------------------------------------------------------------------------------------------------------------------------------------------------------------------------------------------------------------------------------------------------------------------------------------------------------------------------------------------------------------------------------------------------------------------------------+---------------+--------------------------------+----------------------------------------------------------------------------------------------------------------------------------------------------------------------------------------------------------------------------------------------------------------------------------+\n",
      "only showing top 20 rows\n",
      "\n"
     ]
    }
   ],
   "source": [
    "matched_theses.filter(func.size(func.col('authors_oa'))==2).show(truncate = False)"
   ]
  },
  {
   "cell_type": "code",
   "execution_count": 40,
   "id": "ab014a78-9afa-4103-a82a-b9b09dd089eb",
   "metadata": {
    "scrolled": true
   },
   "outputs": [
    {
     "name": "stdout",
     "output_type": "stream",
     "text": [
      "+---------------+--------------------+--------------------+--------------------+-----------+--------------+--------------------+--------------------+\n",
      "|       scanR_id|             work_id|        display_name|            fullName|  author_id|         idref|          authors_oa|       authors_scanR|\n",
      "+---------------+--------------------+--------------------+--------------------+-----------+--------------+--------------------+--------------------+\n",
      "|nnt1927pa081231|https://openalex....|Armand-Guy Nsatou...|Armand-Guy Nsatou...|A5064591993|          NULL|{first, {https://...|{[{http://catalog...|\n",
      "|nnt1927pa081231|https://openalex....|Armand-Guy Nsatou...|Armand-Guy Nsatou...|A5064591993|          NULL|{first, {https://...|{[{http://catalog...|\n",
      "|nnt1984pa112254|https://openalex....|      J.P. Wieleczko|Jean-Pierre Wiele...|A5016316519|idref069691207|{first, {https://...|{[{http://catalog...|\n",
      "|nnt1984pa112254|https://openalex....|      J.P. Wieleczko|Jean-Pierre Wiele...|A5016316519|idref069691207|{first, {https://...|{[{http://catalog...|\n",
      "|nnt1984pa112254|https://openalex....|      J.P. Wieleczko|Jean-Pierre Wiele...|A5016316519|idref069691207|{first, {https://...|{[{http://catalog...|\n",
      "|nnt1985aix1a004|https://openalex....|     René-Marc Pille|     René-Marc Pille|A5014405568|idref056920709|{first, {https://...|{[{http://catalog...|\n",
      "|nnt1985aix1a004|https://openalex....|     René-Marc Pille|     René-Marc Pille|A5014405568|idref056920709|{first, {https://...|{[{http://catalog...|\n",
      "|nnt1985aix3a001|https://openalex....|   Olivier Trinchero|   Olivier Trinchero|A5083934260|idref076678954|{first, {https://...|{[{http://catalog...|\n",
      "|nnt1985aix3a001|https://openalex....|   Olivier Trinchero|   Olivier Trinchero|A5083934260|idref076678954|{first, {https://...|{[{http://catalog...|\n",
      "|nnt1985besa1004|https://openalex....|     Samir Khemakhem|     Samir Khemakhem|A5025227394|          NULL|{first, {https://...|{[{http://catalog...|\n",
      "|nnt1985besa1004|https://openalex....|     Samir Khemakhem|     Samir Khemakhem|A5025227394|          NULL|{first, {https://...|{[{http://catalog...|\n",
      "|nnt1985besa1017|https://openalex....|         Éliane Papo|         Éliane Papo|A5078047771|idref029867754|{first, {https://...|{[{http://catalog...|\n",
      "|nnt1985besa1017|https://openalex....|         Éliane Papo|         Éliane Papo|A5078047771|idref029867754|{first, {https://...|{[{http://catalog...|\n",
      "|nnt1985bor10513|https://openalex....| Mohamed El-Hajraoui|      Georges Adzama|A5081642162|idref241709555|{first, {https://...|{[{http://catalog...|\n",
      "|nnt1985bor10513|https://openalex....| Mohamed El-Hajraoui|      Georges Adzama|A5081642162|idref241709555|{first, {https://...|{[{http://catalog...|\n",
      "|nnt1985bor10527|https://openalex....|    Françoise Argoul|    Françoise Argoul|A5063017166|idref063051273|{first, {https://...|{[{http://catalog...|\n",
      "|nnt1985bor10527|https://openalex....|    Françoise Argoul|    Françoise Argoul|A5063017166|idref063051273|{first, {https://...|{[{http://catalog...|\n",
      "|nnt1985bor10545|https://openalex....|        Romain Niere|        Romain Niere|A5071042574|idref254244017|{first, {https://...|{[{http://catalog...|\n",
      "|nnt1985bor10545|https://openalex....|        Romain Niere|        Romain Niere|A5071042574|idref254244017|{first, {https://...|{[{http://catalog...|\n",
      "|nnt1985bor10545|https://openalex....|        Romain Niere|        Romain Niere|A5071042574|idref254244017|{first, {https://...|{[{http://catalog...|\n",
      "+---------------+--------------------+--------------------+--------------------+-----------+--------------+--------------------+--------------------+\n",
      "only showing top 20 rows\n",
      "\n"
     ]
    }
   ],
   "source": [
    "matched_authors_single_matched = (matched_theses\n",
    "                                  .filter( (func.col('scanR_id').isNotNull())\n",
    "                                            & (func.col('work_id').isNotNull()))\n",
    "                                   .withColumn('authors_oa', func.explode(func.col('authors_oa')))\n",
    "                                  .withColumn('authors_scanR', func.explode(func.col('authors_scanR')))\n",
    "                                  .filter(func.col('authors_scanR.role') == 'author')\n",
    "                                  .select('scanR_id','work_id','authors_oa.author.display_name', 'authors_scanR.fullName',\n",
    "                                         func.regexp_replace(func.col('authors_oa.author.id'),'https://openalex.org/','').alias('author_id'),\n",
    "                                          func.col('authors_scanR.person').alias('idref') ,\n",
    "                                          'authors_oa','authors_scanR')\n",
    "                                 )\n",
    "matched_authors_single_matched.cache()\n",
    "matched_authors_single_matched.show()"
   ]
  },
  {
   "cell_type": "code",
   "execution_count": 41,
   "id": "1c9ae832-70db-4a29-b30f-2b642c96b2ec",
   "metadata": {},
   "outputs": [],
   "source": [
    "import unidecode\n",
    "def unidecode_debug(x):\n",
    "    try:\n",
    "        y = unidecode.unidecode(x)\n",
    "        return(y)\n",
    "    except:\n",
    "        return(x)\n",
    "\n",
    "udf_unidecode = func.udf(unidecode_debug, StringType())"
   ]
  },
  {
   "cell_type": "code",
   "execution_count": 42,
   "id": "87c5e869-9cf6-4939-a8da-96593971e215",
   "metadata": {},
   "outputs": [
    {
     "name": "stdout",
     "output_type": "stream",
     "text": [
      "+---------------------------------------+------+\n",
      "|arrays_overlap(tokens_oa, tokens_scanR)| count|\n",
      "+---------------------------------------+------+\n",
      "|                                   true|534932|\n",
      "|                                  false|  7059|\n",
      "+---------------------------------------+------+\n",
      "\n"
     ]
    }
   ],
   "source": [
    "matched_authors_single_matched = (matched_authors_single_matched\n",
    "                                  .withColumn('tokens_oa', func.split(udf_unidecode(func.lower(func.col('display_name'))), ' '))\n",
    "                                  .withColumn('tokens_scanR', func.split(udf_unidecode(func.lower(func.col('fullName'))), ' '))\n",
    "                                 )\n",
    "matched_authors_single_matched.groupBy(func.arrays_overlap(func.col('tokens_oa'), func.col('tokens_scanR'))).count().show()"
   ]
  },
  {
   "cell_type": "code",
   "execution_count": 43,
   "id": "6dc9018c-402d-46b4-9715-dddb90f4cde6",
   "metadata": {},
   "outputs": [],
   "source": [
    "matched_authors_single_matched = (matched_authors_single_matched\n",
    "                                  .filter(func.arrays_overlap(func.col('tokens_oa'), func.col('tokens_scanR')))\n",
    "                                 )"
   ]
  },
  {
   "cell_type": "code",
   "execution_count": 44,
   "id": "f3459238-f996-4980-8a64-e72a948dc903",
   "metadata": {
    "scrolled": true
   },
   "outputs": [
    {
     "name": "stdout",
     "output_type": "stream",
     "text": [
      "+-------+------+\n",
      "|n_idref| count|\n",
      "+-------+------+\n",
      "|      7|    18|\n",
      "|      6|    23|\n",
      "|      5|    53|\n",
      "|      1|258325|\n",
      "|      3|   608|\n",
      "|      8|     9|\n",
      "|      2|  4192|\n",
      "|      4|   154|\n",
      "|     10|     3|\n",
      "|     12|     1|\n",
      "|     14|     1|\n",
      "+-------+------+\n",
      "\n",
      "+-----------+------+\n",
      "|n_author_id| count|\n",
      "+-----------+------+\n",
      "|          5|     2|\n",
      "|          1|207339|\n",
      "|      33486|     1|\n",
      "|          3|   579|\n",
      "|          2| 13555|\n",
      "|          4|    31|\n",
      "+-----------+------+\n",
      "\n"
     ]
    }
   ],
   "source": [
    "merged_authors_theses =(matched_authors_single_matched\n",
    "                        .select('author_id', 'idref')\n",
    "                        .distinct()\n",
    "                       )\n",
    "merged_authors_theses.cache()\n",
    "merged_authors_theses.groupBy('author_id').count().groupBy(func.col('count').alias('n_idref')).count().show()\n",
    "merged_authors_theses.groupBy('idref').count().groupBy(func.col('count').alias('n_author_id')).count().show()"
   ]
  },
  {
   "cell_type": "code",
   "execution_count": 45,
   "id": "d863e7ab-9a72-490c-a463-4f8fae0ccb6b",
   "metadata": {},
   "outputs": [],
   "source": [
    "merged_authors_theses_1match = (merged_authors_theses\n",
    "                         .withColumn('n_oa_id', func.size(func.collect_set(func.col('author_id')).over(Window.partitionBy('idref'))))\n",
    "                         .withColumn('n_scanr_id', func.size(func.collect_set(func.col('idref')).over(Window.partitionBy('author_id'))))\n",
    "                         .filter( (func.col('n_oa_id') ==1) & (func.col('n_scanr_id') == 1))\n",
    "                          .drop('n_oa_id', 'n_scanr_id'))"
   ]
  },
  {
   "cell_type": "code",
   "execution_count": 46,
   "id": "b2ce5ecc-59a9-4253-91bf-3a397988f0e4",
   "metadata": {},
   "outputs": [],
   "source": [
    "merged_authors_theses_1match.write.mode('overwrite').parquet('file:\\\\' + merge_path + 'matched_authors_theses.parquet')"
   ]
  },
  {
   "cell_type": "markdown",
   "id": "e1b170f5-d349-4e52-aa09-f888d5b3c24e",
   "metadata": {},
   "source": [
    "# Assessment for authors"
   ]
  },
  {
   "cell_type": "code",
   "execution_count": 47,
   "id": "5e1c7764-de61-4e4b-9b5e-a0a38bf38d63",
   "metadata": {},
   "outputs": [],
   "source": [
    "merged_authors = spark.read.parquet('file:\\\\' + merge_path + 'merge_oa_scanr_authors.parquet')"
   ]
  },
  {
   "cell_type": "code",
   "execution_count": 48,
   "id": "cb7c94f0-e08d-4f58-9f20-3396c6f187fe",
   "metadata": {},
   "outputs": [],
   "source": [
    "merged_authors_theses_1match = spark.read.parquet('file:\\\\' + merge_path + 'matched_authors_theses.parquet')"
   ]
  },
  {
   "cell_type": "code",
   "execution_count": 50,
   "id": "84ae1867-181d-426c-9663-bb965b2f0456",
   "metadata": {},
   "outputs": [
    {
     "data": {
      "text/plain": [
       "8129"
      ]
     },
     "execution_count": 50,
     "metadata": {},
     "output_type": "execute_result"
    }
   ],
   "source": [
    "merged_authors.withColumnRenamed('id', 'idref').join(merged_authors_theses_1match, on = ['idref','author_id'], how = 'inner').count()"
   ]
  },
  {
   "cell_type": "code",
   "execution_count": 51,
   "id": "4bf5ca57-d433-4c95-bc24-23917f921293",
   "metadata": {},
   "outputs": [
    {
     "data": {
      "text/plain": [
       "53410"
      ]
     },
     "execution_count": 51,
     "metadata": {},
     "output_type": "execute_result"
    }
   ],
   "source": [
    "merged_authors.count()"
   ]
  },
  {
   "cell_type": "code",
   "execution_count": 52,
   "id": "0dec31d1-6c7d-4ac3-b8e8-ffc3b87c843c",
   "metadata": {},
   "outputs": [
    {
     "data": {
      "text/plain": [
       "201470"
      ]
     },
     "execution_count": 52,
     "metadata": {},
     "output_type": "execute_result"
    }
   ],
   "source": [
    "merged_authors_theses_1match.count()"
   ]
  },
  {
   "cell_type": "code",
   "execution_count": 53,
   "id": "e87f41a6-4c79-4da7-9a1f-718a80269cdb",
   "metadata": {},
   "outputs": [
    {
     "name": "stdout",
     "output_type": "stream",
     "text": [
      "+-------------------------------+-----+\n",
      "|(author_id = first_match_oa_id)|count|\n",
      "+-------------------------------+-----+\n",
      "|                           true| 8129|\n",
      "|                          false| 5459|\n",
      "+-------------------------------+-----+\n",
      "\n"
     ]
    }
   ],
   "source": [
    "(merged_authors_theses_1match\n",
    " .join(merged_authors\n",
    "                                  .select(func.col('id').alias('idref'),\n",
    "                                          func.col('author_id').alias('first_match_oa_id')),\n",
    "                                  on = ['idref'], how = 'inner')\n",
    " .groupBy(func.col('author_id') == func.col('first_match_oa_id')).count()).show()"
   ]
  },
  {
   "cell_type": "code",
   "execution_count": 55,
   "id": "1c94b7a3-1b19-4f75-8fe9-51497a6fad69",
   "metadata": {
    "scrolled": true
   },
   "outputs": [
    {
     "name": "stdout",
     "output_type": "stream",
     "text": [
      "+--------------+-----------+-----------------+\n",
      "|         idref|  author_id|first_match_oa_id|\n",
      "+--------------+-----------+-----------------+\n",
      "|idref057152462|A5000178941|      A5041823308|\n",
      "|idref177333952|A5000290173|      A5081221370|\n",
      "|idref061688835|A5000398468|      A5007024543|\n",
      "|idref067213642|A5000418022|      A5086115154|\n",
      "|idref197901298|A5000560070|      A5080059539|\n",
      "|idref149645538|A5000597116|      A5087852222|\n",
      "|idref113593821|A5000599774|      A5001674341|\n",
      "|idref077482727|A5000655960|      A5040333150|\n",
      "|idref086072587|A5000725239|      A5089792876|\n",
      "|idref220421161|A5000753222|      A5000652009|\n",
      "|idref081955057|A5000832841|      A5079493518|\n",
      "|idref059378883|A5000845033|      A5101402516|\n",
      "|idref060567376|A5000853268|      A5089666505|\n",
      "|idref23692009X|A5000886843|      A5053259416|\n",
      "|idref154242136|A5000903082|      A5038501408|\n",
      "|idref110781201|A5000918542|      A5074160592|\n",
      "|idref235059021|A5000947728|      A5060634050|\n",
      "|idref145096300|A5000970896|      A5013005996|\n",
      "|idref176599940|A5001170109|      A5104392916|\n",
      "|idref06903396X|A5001388093|      A5031451153|\n",
      "+--------------+-----------+-----------------+\n",
      "only showing top 20 rows\n",
      "\n"
     ]
    }
   ],
   "source": [
    "(merged_authors_theses_1match\n",
    " .join(merged_authors\n",
    "                                  .select(func.col('id').alias('idref'),\n",
    "                                          func.col('author_id').alias('first_match_oa_id')),\n",
    "                                  on = ['idref'], how = 'inner')\n",
    " .filter(func.col('author_id') != func.col('first_match_oa_id'))).show()"
   ]
  },
  {
   "cell_type": "code",
   "execution_count": 56,
   "id": "0d3a906c-0999-4d05-b55b-27107211296d",
   "metadata": {
    "scrolled": true
   },
   "outputs": [
    {
     "name": "stdout",
     "output_type": "stream",
     "text": [
      "+-----------+--------------+-----------------+\n",
      "|  author_id|         idref|first_match_idref|\n",
      "+-----------+--------------+-----------------+\n",
      "|A5000601948|idref033096449|   idref110722973|\n",
      "|A5000601948|idref033096449|   idref075736950|\n",
      "|A5000646953|idref079029434|   idref265372852|\n",
      "|A5001258652|idref031023118|   idref195810287|\n",
      "|A5001495290|idref033076189|   idref171370899|\n",
      "|A5004146540|idref033713189|   idref157731502|\n",
      "|A5004148978|idref035829265|   idref101526679|\n",
      "|A5005224396|idref026871408|   idref075544393|\n",
      "|A5005294557|idref117479748|   idref060283246|\n",
      "|A5005839602|idref078176859|   idref192591460|\n",
      "|A5007428887|idref077616650|   idref273453696|\n",
      "|A5008118303|idref112935605|   idref260223360|\n",
      "|A5009701365|idref068981317|   idref244222517|\n",
      "|A5011350481|idref115583629|   idref189494972|\n",
      "|A5011830167|idref25584493X|   idref094609624|\n",
      "|A5012601539|idref072325534|   idref275144208|\n",
      "|A5013301555|idref121779823|   idref256463352|\n",
      "|A5013460943|idref06155555X|   idref167005960|\n",
      "|A5014054255|idref255713193|   idref167775677|\n",
      "|A5015998766|idref077242513|   idref059195770|\n",
      "+-----------+--------------+-----------------+\n",
      "only showing top 20 rows\n",
      "\n"
     ]
    }
   ],
   "source": [
    "(merged_authors_theses_1match\n",
    " .join(merged_authors\n",
    "                                  .select(func.col('id').alias('first_match_idref'),\n",
    "                                          func.col('author_id').alias('author_id')),\n",
    "                                  on = ['author_id'], how = 'inner')\n",
    " .filter(func.col('idref') != func.col('first_match_idref'))).show()"
   ]
  },
  {
   "cell_type": "markdown",
   "id": "ded15a60-7f90-4017-81ea-6908b6a4c476",
   "metadata": {},
   "source": [
    "# Final match"
   ]
  },
  {
   "cell_type": "code",
   "execution_count": 66,
   "id": "1630fd60-1dee-432a-a6fc-c71c416421d0",
   "metadata": {},
   "outputs": [],
   "source": [
    "merged_authors_final = (merged_authors.withColumnRenamed('id', 'idref').withColumn('names_match', func.lit(1))\n",
    "                        .join(merged_authors_theses_1match.withColumn('theses_match', func.lit(1)), on = ['idref','author_id'], how = 'full')\n",
    "                        .withColumn('n_idref', func.size(func.collect_set(func.col('idref')).over(Window.partitionBy('author_id'))))\n",
    "                        .fillna(0, subset = ['theses_match','names_match'])\n",
    "                        .filter( (func.col('n_idref') == 1) | (func.col('theses_match')==1))\n",
    "                        .select('idref', 'author_id')\n",
    "                       )"
   ]
  },
  {
   "cell_type": "code",
   "execution_count": 67,
   "id": "1122bc5e-042f-44a4-b3b9-d3b028d5c72c",
   "metadata": {},
   "outputs": [
    {
     "data": {
      "text/plain": [
       "239655"
      ]
     },
     "execution_count": 67,
     "metadata": {},
     "output_type": "execute_result"
    }
   ],
   "source": [
    "merged_authors_final.select('idref').distinct().count()"
   ]
  },
  {
   "cell_type": "code",
   "execution_count": 68,
   "id": "25d7b632-01a6-405c-9785-91f61c2cc422",
   "metadata": {},
   "outputs": [
    {
     "data": {
      "text/plain": [
       "244946"
      ]
     },
     "execution_count": 68,
     "metadata": {},
     "output_type": "execute_result"
    }
   ],
   "source": [
    "merged_authors_final.select('author_id').distinct().count()"
   ]
  },
  {
   "cell_type": "code",
   "execution_count": 69,
   "id": "ea66a729-0453-4361-a833-ae35d59341d9",
   "metadata": {},
   "outputs": [],
   "source": [
    "merged_authors_final.write.mode('overwrite').parquet('file:\\\\' + merge_path + 'matched_authors_2steps.parquet')"
   ]
  }
 ],
 "metadata": {
  "kernelspec": {
   "display_name": "Python 3 (ipykernel)",
   "language": "python",
   "name": "python3"
  },
  "language_info": {
   "codemirror_mode": {
    "name": "ipython",
    "version": 3
   },
   "file_extension": ".py",
   "mimetype": "text/x-python",
   "name": "python",
   "nbconvert_exporter": "python",
   "pygments_lexer": "ipython3",
   "version": "3.11.9"
  }
 },
 "nbformat": 4,
 "nbformat_minor": 5
}
